{
  "nbformat": 4,
  "nbformat_minor": 0,
  "metadata": {
    "celltoolbar": "Tags",
    "kernelspec": {
      "display_name": "Python 3",
      "language": "python",
      "name": "python3"
    },
    "language_info": {
      "codemirror_mode": {
        "name": "ipython",
        "version": 3
      },
      "file_extension": ".py",
      "mimetype": "text/x-python",
      "name": "python",
      "nbconvert_exporter": "python",
      "pygments_lexer": "ipython3",
      "version": "3.8.5"
    },
    "colab": {
      "name": "ASD_DiagNet_new.ipynb",
      "provenance": [],
      "collapsed_sections": [
        "O5LBLlNXqR2K",
        "z-Tw3PxZqby3",
        "6XVG5ceFC5fe",
        "YoNL8usFC5fx",
        "iCmPpUGLC5f0",
        "hT8t6yLFC5f4",
        "u2D2ij5jBdwj",
        "VLkBYPFKCap7",
        "YPBVW9Oh48hr",
        "D2bHabzWC5gu"
      ],
      "include_colab_link": true
    },
    "accelerator": "GPU",
    "widgets": {
      "application/vnd.jupyter.widget-state+json": {
        "f18de9b1789a48128283d12f04a54f22": {
          "model_module": "@jupyter-widgets/controls",
          "model_name": "VBoxModel",
          "state": {
            "_view_name": "VBoxView",
            "_dom_classes": [],
            "_model_name": "VBoxModel",
            "_view_module": "@jupyter-widgets/controls",
            "_model_module_version": "1.5.0",
            "_view_count": null,
            "_view_module_version": "1.5.0",
            "box_style": "",
            "layout": "IPY_MODEL_4f270dd4fd87406e82844d14b779a9d7",
            "_model_module": "@jupyter-widgets/controls",
            "children": [
              "IPY_MODEL_9d1cd5f52a4344ccb62c52aacddb5866",
              "IPY_MODEL_57a9c8f047b2435fb8e81745004fe272"
            ]
          }
        },
        "4f270dd4fd87406e82844d14b779a9d7": {
          "model_module": "@jupyter-widgets/base",
          "model_name": "LayoutModel",
          "state": {
            "_view_name": "LayoutView",
            "grid_template_rows": null,
            "right": null,
            "justify_content": null,
            "_view_module": "@jupyter-widgets/base",
            "overflow": null,
            "_model_module_version": "1.2.0",
            "_view_count": null,
            "flex_flow": null,
            "width": null,
            "min_width": null,
            "border": null,
            "align_items": null,
            "bottom": null,
            "_model_module": "@jupyter-widgets/base",
            "top": null,
            "grid_column": null,
            "overflow_y": null,
            "overflow_x": null,
            "grid_auto_flow": null,
            "grid_area": null,
            "grid_template_columns": null,
            "flex": null,
            "_model_name": "LayoutModel",
            "justify_items": null,
            "grid_row": null,
            "max_height": null,
            "align_content": null,
            "visibility": null,
            "align_self": null,
            "height": null,
            "min_height": null,
            "padding": null,
            "grid_auto_rows": null,
            "grid_gap": null,
            "max_width": null,
            "order": null,
            "_view_module_version": "1.2.0",
            "grid_template_areas": null,
            "object_position": null,
            "object_fit": null,
            "grid_auto_columns": null,
            "margin": null,
            "display": null,
            "left": null
          }
        },
        "9d1cd5f52a4344ccb62c52aacddb5866": {
          "model_module": "@jupyter-widgets/controls",
          "model_name": "LabelModel",
          "state": {
            "_view_name": "LabelView",
            "style": "IPY_MODEL_999d3b2ca92e4dc68f5dad2627eba55c",
            "_dom_classes": [],
            "description": "",
            "_model_name": "LabelModel",
            "placeholder": "​",
            "_view_module": "@jupyter-widgets/controls",
            "_model_module_version": "1.5.0",
            "value": " 0.01MB of 0.01MB uploaded (0.00MB deduped)\r",
            "_view_count": null,
            "_view_module_version": "1.5.0",
            "description_tooltip": null,
            "_model_module": "@jupyter-widgets/controls",
            "layout": "IPY_MODEL_d78c963b2ce0471aaa8bdfd7896ae372"
          }
        },
        "57a9c8f047b2435fb8e81745004fe272": {
          "model_module": "@jupyter-widgets/controls",
          "model_name": "FloatProgressModel",
          "state": {
            "_view_name": "ProgressView",
            "style": "IPY_MODEL_f7b94ddfbf1f4b718c871bb523d73c0c",
            "_dom_classes": [],
            "description": "",
            "_model_name": "FloatProgressModel",
            "bar_style": "",
            "max": 1,
            "_view_module": "@jupyter-widgets/controls",
            "_model_module_version": "1.5.0",
            "value": 1,
            "_view_count": null,
            "_view_module_version": "1.5.0",
            "orientation": "horizontal",
            "min": 0,
            "description_tooltip": null,
            "_model_module": "@jupyter-widgets/controls",
            "layout": "IPY_MODEL_acfe1087011d41a2bbb7c994b8bd4d14"
          }
        },
        "999d3b2ca92e4dc68f5dad2627eba55c": {
          "model_module": "@jupyter-widgets/controls",
          "model_name": "DescriptionStyleModel",
          "state": {
            "_view_name": "StyleView",
            "_model_name": "DescriptionStyleModel",
            "description_width": "",
            "_view_module": "@jupyter-widgets/base",
            "_model_module_version": "1.5.0",
            "_view_count": null,
            "_view_module_version": "1.2.0",
            "_model_module": "@jupyter-widgets/controls"
          }
        },
        "d78c963b2ce0471aaa8bdfd7896ae372": {
          "model_module": "@jupyter-widgets/base",
          "model_name": "LayoutModel",
          "state": {
            "_view_name": "LayoutView",
            "grid_template_rows": null,
            "right": null,
            "justify_content": null,
            "_view_module": "@jupyter-widgets/base",
            "overflow": null,
            "_model_module_version": "1.2.0",
            "_view_count": null,
            "flex_flow": null,
            "width": null,
            "min_width": null,
            "border": null,
            "align_items": null,
            "bottom": null,
            "_model_module": "@jupyter-widgets/base",
            "top": null,
            "grid_column": null,
            "overflow_y": null,
            "overflow_x": null,
            "grid_auto_flow": null,
            "grid_area": null,
            "grid_template_columns": null,
            "flex": null,
            "_model_name": "LayoutModel",
            "justify_items": null,
            "grid_row": null,
            "max_height": null,
            "align_content": null,
            "visibility": null,
            "align_self": null,
            "height": null,
            "min_height": null,
            "padding": null,
            "grid_auto_rows": null,
            "grid_gap": null,
            "max_width": null,
            "order": null,
            "_view_module_version": "1.2.0",
            "grid_template_areas": null,
            "object_position": null,
            "object_fit": null,
            "grid_auto_columns": null,
            "margin": null,
            "display": null,
            "left": null
          }
        },
        "f7b94ddfbf1f4b718c871bb523d73c0c": {
          "model_module": "@jupyter-widgets/controls",
          "model_name": "ProgressStyleModel",
          "state": {
            "_view_name": "StyleView",
            "_model_name": "ProgressStyleModel",
            "description_width": "",
            "_view_module": "@jupyter-widgets/base",
            "_model_module_version": "1.5.0",
            "_view_count": null,
            "_view_module_version": "1.2.0",
            "bar_color": null,
            "_model_module": "@jupyter-widgets/controls"
          }
        },
        "acfe1087011d41a2bbb7c994b8bd4d14": {
          "model_module": "@jupyter-widgets/base",
          "model_name": "LayoutModel",
          "state": {
            "_view_name": "LayoutView",
            "grid_template_rows": null,
            "right": null,
            "justify_content": null,
            "_view_module": "@jupyter-widgets/base",
            "overflow": null,
            "_model_module_version": "1.2.0",
            "_view_count": null,
            "flex_flow": null,
            "width": null,
            "min_width": null,
            "border": null,
            "align_items": null,
            "bottom": null,
            "_model_module": "@jupyter-widgets/base",
            "top": null,
            "grid_column": null,
            "overflow_y": null,
            "overflow_x": null,
            "grid_auto_flow": null,
            "grid_area": null,
            "grid_template_columns": null,
            "flex": null,
            "_model_name": "LayoutModel",
            "justify_items": null,
            "grid_row": null,
            "max_height": null,
            "align_content": null,
            "visibility": null,
            "align_self": null,
            "height": null,
            "min_height": null,
            "padding": null,
            "grid_auto_rows": null,
            "grid_gap": null,
            "max_width": null,
            "order": null,
            "_view_module_version": "1.2.0",
            "grid_template_areas": null,
            "object_position": null,
            "object_fit": null,
            "grid_auto_columns": null,
            "margin": null,
            "display": null,
            "left": null
          }
        },
        "b3ac9bac81b64df4bef6d09ba249a665": {
          "model_module": "@jupyter-widgets/controls",
          "model_name": "VBoxModel",
          "state": {
            "_view_name": "VBoxView",
            "_dom_classes": [],
            "_model_name": "VBoxModel",
            "_view_module": "@jupyter-widgets/controls",
            "_model_module_version": "1.5.0",
            "_view_count": null,
            "_view_module_version": "1.5.0",
            "box_style": "",
            "layout": "IPY_MODEL_560984da49ac4f8ba2ce9f96b0d3a64f",
            "_model_module": "@jupyter-widgets/controls",
            "children": [
              "IPY_MODEL_182690953f544671baf3e1d840f9ef31",
              "IPY_MODEL_f2fec7c188d24afe8be38b28ac920c63"
            ]
          }
        },
        "560984da49ac4f8ba2ce9f96b0d3a64f": {
          "model_module": "@jupyter-widgets/base",
          "model_name": "LayoutModel",
          "state": {
            "_view_name": "LayoutView",
            "grid_template_rows": null,
            "right": null,
            "justify_content": null,
            "_view_module": "@jupyter-widgets/base",
            "overflow": null,
            "_model_module_version": "1.2.0",
            "_view_count": null,
            "flex_flow": null,
            "width": null,
            "min_width": null,
            "border": null,
            "align_items": null,
            "bottom": null,
            "_model_module": "@jupyter-widgets/base",
            "top": null,
            "grid_column": null,
            "overflow_y": null,
            "overflow_x": null,
            "grid_auto_flow": null,
            "grid_area": null,
            "grid_template_columns": null,
            "flex": null,
            "_model_name": "LayoutModel",
            "justify_items": null,
            "grid_row": null,
            "max_height": null,
            "align_content": null,
            "visibility": null,
            "align_self": null,
            "height": null,
            "min_height": null,
            "padding": null,
            "grid_auto_rows": null,
            "grid_gap": null,
            "max_width": null,
            "order": null,
            "_view_module_version": "1.2.0",
            "grid_template_areas": null,
            "object_position": null,
            "object_fit": null,
            "grid_auto_columns": null,
            "margin": null,
            "display": null,
            "left": null
          }
        },
        "182690953f544671baf3e1d840f9ef31": {
          "model_module": "@jupyter-widgets/controls",
          "model_name": "LabelModel",
          "state": {
            "_view_name": "LabelView",
            "style": "IPY_MODEL_ecea3c8fabcb4b4ba0be893ebd9936fa",
            "_dom_classes": [],
            "description": "",
            "_model_name": "LabelModel",
            "placeholder": "​",
            "_view_module": "@jupyter-widgets/controls",
            "_model_module_version": "1.5.0",
            "value": " 0.01MB of 0.01MB uploaded (0.00MB deduped)\r",
            "_view_count": null,
            "_view_module_version": "1.5.0",
            "description_tooltip": null,
            "_model_module": "@jupyter-widgets/controls",
            "layout": "IPY_MODEL_64c0cbe763ea40d68e176be3a9008002"
          }
        },
        "f2fec7c188d24afe8be38b28ac920c63": {
          "model_module": "@jupyter-widgets/controls",
          "model_name": "FloatProgressModel",
          "state": {
            "_view_name": "ProgressView",
            "style": "IPY_MODEL_a2f5db4788b347d5a6ba6477b1594618",
            "_dom_classes": [],
            "description": "",
            "_model_name": "FloatProgressModel",
            "bar_style": "",
            "max": 1,
            "_view_module": "@jupyter-widgets/controls",
            "_model_module_version": "1.5.0",
            "value": 1,
            "_view_count": null,
            "_view_module_version": "1.5.0",
            "orientation": "horizontal",
            "min": 0,
            "description_tooltip": null,
            "_model_module": "@jupyter-widgets/controls",
            "layout": "IPY_MODEL_ecc5fc2b2de8407fb9a0ddec3b590c67"
          }
        },
        "ecea3c8fabcb4b4ba0be893ebd9936fa": {
          "model_module": "@jupyter-widgets/controls",
          "model_name": "DescriptionStyleModel",
          "state": {
            "_view_name": "StyleView",
            "_model_name": "DescriptionStyleModel",
            "description_width": "",
            "_view_module": "@jupyter-widgets/base",
            "_model_module_version": "1.5.0",
            "_view_count": null,
            "_view_module_version": "1.2.0",
            "_model_module": "@jupyter-widgets/controls"
          }
        },
        "64c0cbe763ea40d68e176be3a9008002": {
          "model_module": "@jupyter-widgets/base",
          "model_name": "LayoutModel",
          "state": {
            "_view_name": "LayoutView",
            "grid_template_rows": null,
            "right": null,
            "justify_content": null,
            "_view_module": "@jupyter-widgets/base",
            "overflow": null,
            "_model_module_version": "1.2.0",
            "_view_count": null,
            "flex_flow": null,
            "width": null,
            "min_width": null,
            "border": null,
            "align_items": null,
            "bottom": null,
            "_model_module": "@jupyter-widgets/base",
            "top": null,
            "grid_column": null,
            "overflow_y": null,
            "overflow_x": null,
            "grid_auto_flow": null,
            "grid_area": null,
            "grid_template_columns": null,
            "flex": null,
            "_model_name": "LayoutModel",
            "justify_items": null,
            "grid_row": null,
            "max_height": null,
            "align_content": null,
            "visibility": null,
            "align_self": null,
            "height": null,
            "min_height": null,
            "padding": null,
            "grid_auto_rows": null,
            "grid_gap": null,
            "max_width": null,
            "order": null,
            "_view_module_version": "1.2.0",
            "grid_template_areas": null,
            "object_position": null,
            "object_fit": null,
            "grid_auto_columns": null,
            "margin": null,
            "display": null,
            "left": null
          }
        },
        "a2f5db4788b347d5a6ba6477b1594618": {
          "model_module": "@jupyter-widgets/controls",
          "model_name": "ProgressStyleModel",
          "state": {
            "_view_name": "StyleView",
            "_model_name": "ProgressStyleModel",
            "description_width": "",
            "_view_module": "@jupyter-widgets/base",
            "_model_module_version": "1.5.0",
            "_view_count": null,
            "_view_module_version": "1.2.0",
            "bar_color": null,
            "_model_module": "@jupyter-widgets/controls"
          }
        },
        "ecc5fc2b2de8407fb9a0ddec3b590c67": {
          "model_module": "@jupyter-widgets/base",
          "model_name": "LayoutModel",
          "state": {
            "_view_name": "LayoutView",
            "grid_template_rows": null,
            "right": null,
            "justify_content": null,
            "_view_module": "@jupyter-widgets/base",
            "overflow": null,
            "_model_module_version": "1.2.0",
            "_view_count": null,
            "flex_flow": null,
            "width": null,
            "min_width": null,
            "border": null,
            "align_items": null,
            "bottom": null,
            "_model_module": "@jupyter-widgets/base",
            "top": null,
            "grid_column": null,
            "overflow_y": null,
            "overflow_x": null,
            "grid_auto_flow": null,
            "grid_area": null,
            "grid_template_columns": null,
            "flex": null,
            "_model_name": "LayoutModel",
            "justify_items": null,
            "grid_row": null,
            "max_height": null,
            "align_content": null,
            "visibility": null,
            "align_self": null,
            "height": null,
            "min_height": null,
            "padding": null,
            "grid_auto_rows": null,
            "grid_gap": null,
            "max_width": null,
            "order": null,
            "_view_module_version": "1.2.0",
            "grid_template_areas": null,
            "object_position": null,
            "object_fit": null,
            "grid_auto_columns": null,
            "margin": null,
            "display": null,
            "left": null
          }
        },
        "a724a7ff394945c28a9c740d01f479b9": {
          "model_module": "@jupyter-widgets/controls",
          "model_name": "VBoxModel",
          "state": {
            "_view_name": "VBoxView",
            "_dom_classes": [],
            "_model_name": "VBoxModel",
            "_view_module": "@jupyter-widgets/controls",
            "_model_module_version": "1.5.0",
            "_view_count": null,
            "_view_module_version": "1.5.0",
            "box_style": "",
            "layout": "IPY_MODEL_b06ac492d6f647bdafbd83af45bbbedd",
            "_model_module": "@jupyter-widgets/controls",
            "children": [
              "IPY_MODEL_bc96a3846228421baa139d4699d8587d",
              "IPY_MODEL_6abad4c013f14a4bb7fd2f41ed76b857"
            ]
          }
        },
        "b06ac492d6f647bdafbd83af45bbbedd": {
          "model_module": "@jupyter-widgets/base",
          "model_name": "LayoutModel",
          "state": {
            "_view_name": "LayoutView",
            "grid_template_rows": null,
            "right": null,
            "justify_content": null,
            "_view_module": "@jupyter-widgets/base",
            "overflow": null,
            "_model_module_version": "1.2.0",
            "_view_count": null,
            "flex_flow": null,
            "width": null,
            "min_width": null,
            "border": null,
            "align_items": null,
            "bottom": null,
            "_model_module": "@jupyter-widgets/base",
            "top": null,
            "grid_column": null,
            "overflow_y": null,
            "overflow_x": null,
            "grid_auto_flow": null,
            "grid_area": null,
            "grid_template_columns": null,
            "flex": null,
            "_model_name": "LayoutModel",
            "justify_items": null,
            "grid_row": null,
            "max_height": null,
            "align_content": null,
            "visibility": null,
            "align_self": null,
            "height": null,
            "min_height": null,
            "padding": null,
            "grid_auto_rows": null,
            "grid_gap": null,
            "max_width": null,
            "order": null,
            "_view_module_version": "1.2.0",
            "grid_template_areas": null,
            "object_position": null,
            "object_fit": null,
            "grid_auto_columns": null,
            "margin": null,
            "display": null,
            "left": null
          }
        },
        "bc96a3846228421baa139d4699d8587d": {
          "model_module": "@jupyter-widgets/controls",
          "model_name": "LabelModel",
          "state": {
            "_view_name": "LabelView",
            "style": "IPY_MODEL_cae4f6e9fc314a64a78df3ec70f50a43",
            "_dom_classes": [],
            "description": "",
            "_model_name": "LabelModel",
            "placeholder": "​",
            "_view_module": "@jupyter-widgets/controls",
            "_model_module_version": "1.5.0",
            "value": " 0.01MB of 0.01MB uploaded (0.00MB deduped)\r",
            "_view_count": null,
            "_view_module_version": "1.5.0",
            "description_tooltip": null,
            "_model_module": "@jupyter-widgets/controls",
            "layout": "IPY_MODEL_947bc915344243be8f93898487c2e73f"
          }
        },
        "6abad4c013f14a4bb7fd2f41ed76b857": {
          "model_module": "@jupyter-widgets/controls",
          "model_name": "FloatProgressModel",
          "state": {
            "_view_name": "ProgressView",
            "style": "IPY_MODEL_b1faeaf540204345a70d8e4d3adcde5e",
            "_dom_classes": [],
            "description": "",
            "_model_name": "FloatProgressModel",
            "bar_style": "",
            "max": 1,
            "_view_module": "@jupyter-widgets/controls",
            "_model_module_version": "1.5.0",
            "value": 1,
            "_view_count": null,
            "_view_module_version": "1.5.0",
            "orientation": "horizontal",
            "min": 0,
            "description_tooltip": null,
            "_model_module": "@jupyter-widgets/controls",
            "layout": "IPY_MODEL_630da19d36c448cc9e031e902565d104"
          }
        },
        "cae4f6e9fc314a64a78df3ec70f50a43": {
          "model_module": "@jupyter-widgets/controls",
          "model_name": "DescriptionStyleModel",
          "state": {
            "_view_name": "StyleView",
            "_model_name": "DescriptionStyleModel",
            "description_width": "",
            "_view_module": "@jupyter-widgets/base",
            "_model_module_version": "1.5.0",
            "_view_count": null,
            "_view_module_version": "1.2.0",
            "_model_module": "@jupyter-widgets/controls"
          }
        },
        "947bc915344243be8f93898487c2e73f": {
          "model_module": "@jupyter-widgets/base",
          "model_name": "LayoutModel",
          "state": {
            "_view_name": "LayoutView",
            "grid_template_rows": null,
            "right": null,
            "justify_content": null,
            "_view_module": "@jupyter-widgets/base",
            "overflow": null,
            "_model_module_version": "1.2.0",
            "_view_count": null,
            "flex_flow": null,
            "width": null,
            "min_width": null,
            "border": null,
            "align_items": null,
            "bottom": null,
            "_model_module": "@jupyter-widgets/base",
            "top": null,
            "grid_column": null,
            "overflow_y": null,
            "overflow_x": null,
            "grid_auto_flow": null,
            "grid_area": null,
            "grid_template_columns": null,
            "flex": null,
            "_model_name": "LayoutModel",
            "justify_items": null,
            "grid_row": null,
            "max_height": null,
            "align_content": null,
            "visibility": null,
            "align_self": null,
            "height": null,
            "min_height": null,
            "padding": null,
            "grid_auto_rows": null,
            "grid_gap": null,
            "max_width": null,
            "order": null,
            "_view_module_version": "1.2.0",
            "grid_template_areas": null,
            "object_position": null,
            "object_fit": null,
            "grid_auto_columns": null,
            "margin": null,
            "display": null,
            "left": null
          }
        },
        "b1faeaf540204345a70d8e4d3adcde5e": {
          "model_module": "@jupyter-widgets/controls",
          "model_name": "ProgressStyleModel",
          "state": {
            "_view_name": "StyleView",
            "_model_name": "ProgressStyleModel",
            "description_width": "",
            "_view_module": "@jupyter-widgets/base",
            "_model_module_version": "1.5.0",
            "_view_count": null,
            "_view_module_version": "1.2.0",
            "bar_color": null,
            "_model_module": "@jupyter-widgets/controls"
          }
        },
        "630da19d36c448cc9e031e902565d104": {
          "model_module": "@jupyter-widgets/base",
          "model_name": "LayoutModel",
          "state": {
            "_view_name": "LayoutView",
            "grid_template_rows": null,
            "right": null,
            "justify_content": null,
            "_view_module": "@jupyter-widgets/base",
            "overflow": null,
            "_model_module_version": "1.2.0",
            "_view_count": null,
            "flex_flow": null,
            "width": null,
            "min_width": null,
            "border": null,
            "align_items": null,
            "bottom": null,
            "_model_module": "@jupyter-widgets/base",
            "top": null,
            "grid_column": null,
            "overflow_y": null,
            "overflow_x": null,
            "grid_auto_flow": null,
            "grid_area": null,
            "grid_template_columns": null,
            "flex": null,
            "_model_name": "LayoutModel",
            "justify_items": null,
            "grid_row": null,
            "max_height": null,
            "align_content": null,
            "visibility": null,
            "align_self": null,
            "height": null,
            "min_height": null,
            "padding": null,
            "grid_auto_rows": null,
            "grid_gap": null,
            "max_width": null,
            "order": null,
            "_view_module_version": "1.2.0",
            "grid_template_areas": null,
            "object_position": null,
            "object_fit": null,
            "grid_auto_columns": null,
            "margin": null,
            "display": null,
            "left": null
          }
        },
        "559c86e75c194436b732d666709dde12": {
          "model_module": "@jupyter-widgets/controls",
          "model_name": "VBoxModel",
          "state": {
            "_view_name": "VBoxView",
            "_dom_classes": [],
            "_model_name": "VBoxModel",
            "_view_module": "@jupyter-widgets/controls",
            "_model_module_version": "1.5.0",
            "_view_count": null,
            "_view_module_version": "1.5.0",
            "box_style": "",
            "layout": "IPY_MODEL_84e9391ed04541b0a64b81e0e50e6759",
            "_model_module": "@jupyter-widgets/controls",
            "children": [
              "IPY_MODEL_876f051210464a2f83b355fe3c885af3",
              "IPY_MODEL_df42bf430fd94734970d48ddee29badd"
            ]
          }
        },
        "84e9391ed04541b0a64b81e0e50e6759": {
          "model_module": "@jupyter-widgets/base",
          "model_name": "LayoutModel",
          "state": {
            "_view_name": "LayoutView",
            "grid_template_rows": null,
            "right": null,
            "justify_content": null,
            "_view_module": "@jupyter-widgets/base",
            "overflow": null,
            "_model_module_version": "1.2.0",
            "_view_count": null,
            "flex_flow": null,
            "width": null,
            "min_width": null,
            "border": null,
            "align_items": null,
            "bottom": null,
            "_model_module": "@jupyter-widgets/base",
            "top": null,
            "grid_column": null,
            "overflow_y": null,
            "overflow_x": null,
            "grid_auto_flow": null,
            "grid_area": null,
            "grid_template_columns": null,
            "flex": null,
            "_model_name": "LayoutModel",
            "justify_items": null,
            "grid_row": null,
            "max_height": null,
            "align_content": null,
            "visibility": null,
            "align_self": null,
            "height": null,
            "min_height": null,
            "padding": null,
            "grid_auto_rows": null,
            "grid_gap": null,
            "max_width": null,
            "order": null,
            "_view_module_version": "1.2.0",
            "grid_template_areas": null,
            "object_position": null,
            "object_fit": null,
            "grid_auto_columns": null,
            "margin": null,
            "display": null,
            "left": null
          }
        },
        "876f051210464a2f83b355fe3c885af3": {
          "model_module": "@jupyter-widgets/controls",
          "model_name": "LabelModel",
          "state": {
            "_view_name": "LabelView",
            "style": "IPY_MODEL_fa9f97c0c0c14aabb08d066d5ef77a3c",
            "_dom_classes": [],
            "description": "",
            "_model_name": "LabelModel",
            "placeholder": "​",
            "_view_module": "@jupyter-widgets/controls",
            "_model_module_version": "1.5.0",
            "value": " 0.01MB of 0.01MB uploaded (0.00MB deduped)\r",
            "_view_count": null,
            "_view_module_version": "1.5.0",
            "description_tooltip": null,
            "_model_module": "@jupyter-widgets/controls",
            "layout": "IPY_MODEL_77725232dc9c482ea793e76774deb021"
          }
        },
        "df42bf430fd94734970d48ddee29badd": {
          "model_module": "@jupyter-widgets/controls",
          "model_name": "FloatProgressModel",
          "state": {
            "_view_name": "ProgressView",
            "style": "IPY_MODEL_2665506247e647789c187535f0429d0d",
            "_dom_classes": [],
            "description": "",
            "_model_name": "FloatProgressModel",
            "bar_style": "",
            "max": 1,
            "_view_module": "@jupyter-widgets/controls",
            "_model_module_version": "1.5.0",
            "value": 1,
            "_view_count": null,
            "_view_module_version": "1.5.0",
            "orientation": "horizontal",
            "min": 0,
            "description_tooltip": null,
            "_model_module": "@jupyter-widgets/controls",
            "layout": "IPY_MODEL_880433864d2d4b08b8d231cc86b074cf"
          }
        },
        "fa9f97c0c0c14aabb08d066d5ef77a3c": {
          "model_module": "@jupyter-widgets/controls",
          "model_name": "DescriptionStyleModel",
          "state": {
            "_view_name": "StyleView",
            "_model_name": "DescriptionStyleModel",
            "description_width": "",
            "_view_module": "@jupyter-widgets/base",
            "_model_module_version": "1.5.0",
            "_view_count": null,
            "_view_module_version": "1.2.0",
            "_model_module": "@jupyter-widgets/controls"
          }
        },
        "77725232dc9c482ea793e76774deb021": {
          "model_module": "@jupyter-widgets/base",
          "model_name": "LayoutModel",
          "state": {
            "_view_name": "LayoutView",
            "grid_template_rows": null,
            "right": null,
            "justify_content": null,
            "_view_module": "@jupyter-widgets/base",
            "overflow": null,
            "_model_module_version": "1.2.0",
            "_view_count": null,
            "flex_flow": null,
            "width": null,
            "min_width": null,
            "border": null,
            "align_items": null,
            "bottom": null,
            "_model_module": "@jupyter-widgets/base",
            "top": null,
            "grid_column": null,
            "overflow_y": null,
            "overflow_x": null,
            "grid_auto_flow": null,
            "grid_area": null,
            "grid_template_columns": null,
            "flex": null,
            "_model_name": "LayoutModel",
            "justify_items": null,
            "grid_row": null,
            "max_height": null,
            "align_content": null,
            "visibility": null,
            "align_self": null,
            "height": null,
            "min_height": null,
            "padding": null,
            "grid_auto_rows": null,
            "grid_gap": null,
            "max_width": null,
            "order": null,
            "_view_module_version": "1.2.0",
            "grid_template_areas": null,
            "object_position": null,
            "object_fit": null,
            "grid_auto_columns": null,
            "margin": null,
            "display": null,
            "left": null
          }
        },
        "2665506247e647789c187535f0429d0d": {
          "model_module": "@jupyter-widgets/controls",
          "model_name": "ProgressStyleModel",
          "state": {
            "_view_name": "StyleView",
            "_model_name": "ProgressStyleModel",
            "description_width": "",
            "_view_module": "@jupyter-widgets/base",
            "_model_module_version": "1.5.0",
            "_view_count": null,
            "_view_module_version": "1.2.0",
            "bar_color": null,
            "_model_module": "@jupyter-widgets/controls"
          }
        },
        "880433864d2d4b08b8d231cc86b074cf": {
          "model_module": "@jupyter-widgets/base",
          "model_name": "LayoutModel",
          "state": {
            "_view_name": "LayoutView",
            "grid_template_rows": null,
            "right": null,
            "justify_content": null,
            "_view_module": "@jupyter-widgets/base",
            "overflow": null,
            "_model_module_version": "1.2.0",
            "_view_count": null,
            "flex_flow": null,
            "width": null,
            "min_width": null,
            "border": null,
            "align_items": null,
            "bottom": null,
            "_model_module": "@jupyter-widgets/base",
            "top": null,
            "grid_column": null,
            "overflow_y": null,
            "overflow_x": null,
            "grid_auto_flow": null,
            "grid_area": null,
            "grid_template_columns": null,
            "flex": null,
            "_model_name": "LayoutModel",
            "justify_items": null,
            "grid_row": null,
            "max_height": null,
            "align_content": null,
            "visibility": null,
            "align_self": null,
            "height": null,
            "min_height": null,
            "padding": null,
            "grid_auto_rows": null,
            "grid_gap": null,
            "max_width": null,
            "order": null,
            "_view_module_version": "1.2.0",
            "grid_template_areas": null,
            "object_position": null,
            "object_fit": null,
            "grid_auto_columns": null,
            "margin": null,
            "display": null,
            "left": null
          }
        },
        "7b3912f175034886a160a6f494592aae": {
          "model_module": "@jupyter-widgets/controls",
          "model_name": "VBoxModel",
          "state": {
            "_view_name": "VBoxView",
            "_dom_classes": [],
            "_model_name": "VBoxModel",
            "_view_module": "@jupyter-widgets/controls",
            "_model_module_version": "1.5.0",
            "_view_count": null,
            "_view_module_version": "1.5.0",
            "box_style": "",
            "layout": "IPY_MODEL_1b09f9357af94a4faacb98ce622258e0",
            "_model_module": "@jupyter-widgets/controls",
            "children": [
              "IPY_MODEL_591702775af641d2b13010dab4b0133c",
              "IPY_MODEL_bba68937e09d4a06a4e7e3966e49506d"
            ]
          }
        },
        "1b09f9357af94a4faacb98ce622258e0": {
          "model_module": "@jupyter-widgets/base",
          "model_name": "LayoutModel",
          "state": {
            "_view_name": "LayoutView",
            "grid_template_rows": null,
            "right": null,
            "justify_content": null,
            "_view_module": "@jupyter-widgets/base",
            "overflow": null,
            "_model_module_version": "1.2.0",
            "_view_count": null,
            "flex_flow": null,
            "width": null,
            "min_width": null,
            "border": null,
            "align_items": null,
            "bottom": null,
            "_model_module": "@jupyter-widgets/base",
            "top": null,
            "grid_column": null,
            "overflow_y": null,
            "overflow_x": null,
            "grid_auto_flow": null,
            "grid_area": null,
            "grid_template_columns": null,
            "flex": null,
            "_model_name": "LayoutModel",
            "justify_items": null,
            "grid_row": null,
            "max_height": null,
            "align_content": null,
            "visibility": null,
            "align_self": null,
            "height": null,
            "min_height": null,
            "padding": null,
            "grid_auto_rows": null,
            "grid_gap": null,
            "max_width": null,
            "order": null,
            "_view_module_version": "1.2.0",
            "grid_template_areas": null,
            "object_position": null,
            "object_fit": null,
            "grid_auto_columns": null,
            "margin": null,
            "display": null,
            "left": null
          }
        },
        "591702775af641d2b13010dab4b0133c": {
          "model_module": "@jupyter-widgets/controls",
          "model_name": "LabelModel",
          "state": {
            "_view_name": "LabelView",
            "style": "IPY_MODEL_08710a4e70e9406992204648981b733e",
            "_dom_classes": [],
            "description": "",
            "_model_name": "LabelModel",
            "placeholder": "​",
            "_view_module": "@jupyter-widgets/controls",
            "_model_module_version": "1.5.0",
            "value": " 0.01MB of 0.01MB uploaded (0.00MB deduped)\r",
            "_view_count": null,
            "_view_module_version": "1.5.0",
            "description_tooltip": null,
            "_model_module": "@jupyter-widgets/controls",
            "layout": "IPY_MODEL_f627f925b588493c8cf190b5146d7c42"
          }
        },
        "bba68937e09d4a06a4e7e3966e49506d": {
          "model_module": "@jupyter-widgets/controls",
          "model_name": "FloatProgressModel",
          "state": {
            "_view_name": "ProgressView",
            "style": "IPY_MODEL_8cbd7c69fbf64c59b2e3aad6f67a0d32",
            "_dom_classes": [],
            "description": "",
            "_model_name": "FloatProgressModel",
            "bar_style": "",
            "max": 1,
            "_view_module": "@jupyter-widgets/controls",
            "_model_module_version": "1.5.0",
            "value": 1,
            "_view_count": null,
            "_view_module_version": "1.5.0",
            "orientation": "horizontal",
            "min": 0,
            "description_tooltip": null,
            "_model_module": "@jupyter-widgets/controls",
            "layout": "IPY_MODEL_1a23d7de7ab54c539d49be0fbbe3f223"
          }
        },
        "08710a4e70e9406992204648981b733e": {
          "model_module": "@jupyter-widgets/controls",
          "model_name": "DescriptionStyleModel",
          "state": {
            "_view_name": "StyleView",
            "_model_name": "DescriptionStyleModel",
            "description_width": "",
            "_view_module": "@jupyter-widgets/base",
            "_model_module_version": "1.5.0",
            "_view_count": null,
            "_view_module_version": "1.2.0",
            "_model_module": "@jupyter-widgets/controls"
          }
        },
        "f627f925b588493c8cf190b5146d7c42": {
          "model_module": "@jupyter-widgets/base",
          "model_name": "LayoutModel",
          "state": {
            "_view_name": "LayoutView",
            "grid_template_rows": null,
            "right": null,
            "justify_content": null,
            "_view_module": "@jupyter-widgets/base",
            "overflow": null,
            "_model_module_version": "1.2.0",
            "_view_count": null,
            "flex_flow": null,
            "width": null,
            "min_width": null,
            "border": null,
            "align_items": null,
            "bottom": null,
            "_model_module": "@jupyter-widgets/base",
            "top": null,
            "grid_column": null,
            "overflow_y": null,
            "overflow_x": null,
            "grid_auto_flow": null,
            "grid_area": null,
            "grid_template_columns": null,
            "flex": null,
            "_model_name": "LayoutModel",
            "justify_items": null,
            "grid_row": null,
            "max_height": null,
            "align_content": null,
            "visibility": null,
            "align_self": null,
            "height": null,
            "min_height": null,
            "padding": null,
            "grid_auto_rows": null,
            "grid_gap": null,
            "max_width": null,
            "order": null,
            "_view_module_version": "1.2.0",
            "grid_template_areas": null,
            "object_position": null,
            "object_fit": null,
            "grid_auto_columns": null,
            "margin": null,
            "display": null,
            "left": null
          }
        },
        "8cbd7c69fbf64c59b2e3aad6f67a0d32": {
          "model_module": "@jupyter-widgets/controls",
          "model_name": "ProgressStyleModel",
          "state": {
            "_view_name": "StyleView",
            "_model_name": "ProgressStyleModel",
            "description_width": "",
            "_view_module": "@jupyter-widgets/base",
            "_model_module_version": "1.5.0",
            "_view_count": null,
            "_view_module_version": "1.2.0",
            "bar_color": null,
            "_model_module": "@jupyter-widgets/controls"
          }
        },
        "1a23d7de7ab54c539d49be0fbbe3f223": {
          "model_module": "@jupyter-widgets/base",
          "model_name": "LayoutModel",
          "state": {
            "_view_name": "LayoutView",
            "grid_template_rows": null,
            "right": null,
            "justify_content": null,
            "_view_module": "@jupyter-widgets/base",
            "overflow": null,
            "_model_module_version": "1.2.0",
            "_view_count": null,
            "flex_flow": null,
            "width": null,
            "min_width": null,
            "border": null,
            "align_items": null,
            "bottom": null,
            "_model_module": "@jupyter-widgets/base",
            "top": null,
            "grid_column": null,
            "overflow_y": null,
            "overflow_x": null,
            "grid_auto_flow": null,
            "grid_area": null,
            "grid_template_columns": null,
            "flex": null,
            "_model_name": "LayoutModel",
            "justify_items": null,
            "grid_row": null,
            "max_height": null,
            "align_content": null,
            "visibility": null,
            "align_self": null,
            "height": null,
            "min_height": null,
            "padding": null,
            "grid_auto_rows": null,
            "grid_gap": null,
            "max_width": null,
            "order": null,
            "_view_module_version": "1.2.0",
            "grid_template_areas": null,
            "object_position": null,
            "object_fit": null,
            "grid_auto_columns": null,
            "margin": null,
            "display": null,
            "left": null
          }
        },
        "8d38c3fa187b45b38cda08757a29dff1": {
          "model_module": "@jupyter-widgets/controls",
          "model_name": "VBoxModel",
          "state": {
            "_view_name": "VBoxView",
            "_dom_classes": [],
            "_model_name": "VBoxModel",
            "_view_module": "@jupyter-widgets/controls",
            "_model_module_version": "1.5.0",
            "_view_count": null,
            "_view_module_version": "1.5.0",
            "box_style": "",
            "layout": "IPY_MODEL_ca1bcf87b6884774a9a9a6026bfe9578",
            "_model_module": "@jupyter-widgets/controls",
            "children": [
              "IPY_MODEL_9b6c72284ea749a48abe43199fb31972",
              "IPY_MODEL_8e347820250b40c6a7fdde92916c0a51"
            ]
          }
        },
        "ca1bcf87b6884774a9a9a6026bfe9578": {
          "model_module": "@jupyter-widgets/base",
          "model_name": "LayoutModel",
          "state": {
            "_view_name": "LayoutView",
            "grid_template_rows": null,
            "right": null,
            "justify_content": null,
            "_view_module": "@jupyter-widgets/base",
            "overflow": null,
            "_model_module_version": "1.2.0",
            "_view_count": null,
            "flex_flow": null,
            "width": null,
            "min_width": null,
            "border": null,
            "align_items": null,
            "bottom": null,
            "_model_module": "@jupyter-widgets/base",
            "top": null,
            "grid_column": null,
            "overflow_y": null,
            "overflow_x": null,
            "grid_auto_flow": null,
            "grid_area": null,
            "grid_template_columns": null,
            "flex": null,
            "_model_name": "LayoutModel",
            "justify_items": null,
            "grid_row": null,
            "max_height": null,
            "align_content": null,
            "visibility": null,
            "align_self": null,
            "height": null,
            "min_height": null,
            "padding": null,
            "grid_auto_rows": null,
            "grid_gap": null,
            "max_width": null,
            "order": null,
            "_view_module_version": "1.2.0",
            "grid_template_areas": null,
            "object_position": null,
            "object_fit": null,
            "grid_auto_columns": null,
            "margin": null,
            "display": null,
            "left": null
          }
        },
        "9b6c72284ea749a48abe43199fb31972": {
          "model_module": "@jupyter-widgets/controls",
          "model_name": "LabelModel",
          "state": {
            "_view_name": "LabelView",
            "style": "IPY_MODEL_e850bfee5f48454d9168eaa1a843c328",
            "_dom_classes": [],
            "description": "",
            "_model_name": "LabelModel",
            "placeholder": "​",
            "_view_module": "@jupyter-widgets/controls",
            "_model_module_version": "1.5.0",
            "value": " 0.01MB of 0.01MB uploaded (0.00MB deduped)\r",
            "_view_count": null,
            "_view_module_version": "1.5.0",
            "description_tooltip": null,
            "_model_module": "@jupyter-widgets/controls",
            "layout": "IPY_MODEL_de7eda5a736940e0b66ebe647e29cb62"
          }
        },
        "8e347820250b40c6a7fdde92916c0a51": {
          "model_module": "@jupyter-widgets/controls",
          "model_name": "FloatProgressModel",
          "state": {
            "_view_name": "ProgressView",
            "style": "IPY_MODEL_1ef3069f84994cb3880f8cc3b09521eb",
            "_dom_classes": [],
            "description": "",
            "_model_name": "FloatProgressModel",
            "bar_style": "",
            "max": 1,
            "_view_module": "@jupyter-widgets/controls",
            "_model_module_version": "1.5.0",
            "value": 1,
            "_view_count": null,
            "_view_module_version": "1.5.0",
            "orientation": "horizontal",
            "min": 0,
            "description_tooltip": null,
            "_model_module": "@jupyter-widgets/controls",
            "layout": "IPY_MODEL_2e73e0de492e4c7a9da70446de42cae6"
          }
        },
        "e850bfee5f48454d9168eaa1a843c328": {
          "model_module": "@jupyter-widgets/controls",
          "model_name": "DescriptionStyleModel",
          "state": {
            "_view_name": "StyleView",
            "_model_name": "DescriptionStyleModel",
            "description_width": "",
            "_view_module": "@jupyter-widgets/base",
            "_model_module_version": "1.5.0",
            "_view_count": null,
            "_view_module_version": "1.2.0",
            "_model_module": "@jupyter-widgets/controls"
          }
        },
        "de7eda5a736940e0b66ebe647e29cb62": {
          "model_module": "@jupyter-widgets/base",
          "model_name": "LayoutModel",
          "state": {
            "_view_name": "LayoutView",
            "grid_template_rows": null,
            "right": null,
            "justify_content": null,
            "_view_module": "@jupyter-widgets/base",
            "overflow": null,
            "_model_module_version": "1.2.0",
            "_view_count": null,
            "flex_flow": null,
            "width": null,
            "min_width": null,
            "border": null,
            "align_items": null,
            "bottom": null,
            "_model_module": "@jupyter-widgets/base",
            "top": null,
            "grid_column": null,
            "overflow_y": null,
            "overflow_x": null,
            "grid_auto_flow": null,
            "grid_area": null,
            "grid_template_columns": null,
            "flex": null,
            "_model_name": "LayoutModel",
            "justify_items": null,
            "grid_row": null,
            "max_height": null,
            "align_content": null,
            "visibility": null,
            "align_self": null,
            "height": null,
            "min_height": null,
            "padding": null,
            "grid_auto_rows": null,
            "grid_gap": null,
            "max_width": null,
            "order": null,
            "_view_module_version": "1.2.0",
            "grid_template_areas": null,
            "object_position": null,
            "object_fit": null,
            "grid_auto_columns": null,
            "margin": null,
            "display": null,
            "left": null
          }
        },
        "1ef3069f84994cb3880f8cc3b09521eb": {
          "model_module": "@jupyter-widgets/controls",
          "model_name": "ProgressStyleModel",
          "state": {
            "_view_name": "StyleView",
            "_model_name": "ProgressStyleModel",
            "description_width": "",
            "_view_module": "@jupyter-widgets/base",
            "_model_module_version": "1.5.0",
            "_view_count": null,
            "_view_module_version": "1.2.0",
            "bar_color": null,
            "_model_module": "@jupyter-widgets/controls"
          }
        },
        "2e73e0de492e4c7a9da70446de42cae6": {
          "model_module": "@jupyter-widgets/base",
          "model_name": "LayoutModel",
          "state": {
            "_view_name": "LayoutView",
            "grid_template_rows": null,
            "right": null,
            "justify_content": null,
            "_view_module": "@jupyter-widgets/base",
            "overflow": null,
            "_model_module_version": "1.2.0",
            "_view_count": null,
            "flex_flow": null,
            "width": null,
            "min_width": null,
            "border": null,
            "align_items": null,
            "bottom": null,
            "_model_module": "@jupyter-widgets/base",
            "top": null,
            "grid_column": null,
            "overflow_y": null,
            "overflow_x": null,
            "grid_auto_flow": null,
            "grid_area": null,
            "grid_template_columns": null,
            "flex": null,
            "_model_name": "LayoutModel",
            "justify_items": null,
            "grid_row": null,
            "max_height": null,
            "align_content": null,
            "visibility": null,
            "align_self": null,
            "height": null,
            "min_height": null,
            "padding": null,
            "grid_auto_rows": null,
            "grid_gap": null,
            "max_width": null,
            "order": null,
            "_view_module_version": "1.2.0",
            "grid_template_areas": null,
            "object_position": null,
            "object_fit": null,
            "grid_auto_columns": null,
            "margin": null,
            "display": null,
            "left": null
          }
        },
        "be6de7bf518d4cc1bde6d652ac10dc80": {
          "model_module": "@jupyter-widgets/controls",
          "model_name": "VBoxModel",
          "state": {
            "_view_name": "VBoxView",
            "_dom_classes": [],
            "_model_name": "VBoxModel",
            "_view_module": "@jupyter-widgets/controls",
            "_model_module_version": "1.5.0",
            "_view_count": null,
            "_view_module_version": "1.5.0",
            "box_style": "",
            "layout": "IPY_MODEL_98bf2f31316846fcb0ff3449edfbbaac",
            "_model_module": "@jupyter-widgets/controls",
            "children": [
              "IPY_MODEL_6ca6f7bca8ab4825a02593f82b20baf5",
              "IPY_MODEL_12dc45433fad48a7b90cec4080acd0d5"
            ]
          }
        },
        "98bf2f31316846fcb0ff3449edfbbaac": {
          "model_module": "@jupyter-widgets/base",
          "model_name": "LayoutModel",
          "state": {
            "_view_name": "LayoutView",
            "grid_template_rows": null,
            "right": null,
            "justify_content": null,
            "_view_module": "@jupyter-widgets/base",
            "overflow": null,
            "_model_module_version": "1.2.0",
            "_view_count": null,
            "flex_flow": null,
            "width": null,
            "min_width": null,
            "border": null,
            "align_items": null,
            "bottom": null,
            "_model_module": "@jupyter-widgets/base",
            "top": null,
            "grid_column": null,
            "overflow_y": null,
            "overflow_x": null,
            "grid_auto_flow": null,
            "grid_area": null,
            "grid_template_columns": null,
            "flex": null,
            "_model_name": "LayoutModel",
            "justify_items": null,
            "grid_row": null,
            "max_height": null,
            "align_content": null,
            "visibility": null,
            "align_self": null,
            "height": null,
            "min_height": null,
            "padding": null,
            "grid_auto_rows": null,
            "grid_gap": null,
            "max_width": null,
            "order": null,
            "_view_module_version": "1.2.0",
            "grid_template_areas": null,
            "object_position": null,
            "object_fit": null,
            "grid_auto_columns": null,
            "margin": null,
            "display": null,
            "left": null
          }
        },
        "6ca6f7bca8ab4825a02593f82b20baf5": {
          "model_module": "@jupyter-widgets/controls",
          "model_name": "LabelModel",
          "state": {
            "_view_name": "LabelView",
            "style": "IPY_MODEL_130a81e4648b4817b02b1db892592651",
            "_dom_classes": [],
            "description": "",
            "_model_name": "LabelModel",
            "placeholder": "​",
            "_view_module": "@jupyter-widgets/controls",
            "_model_module_version": "1.5.0",
            "value": " 0.01MB of 0.01MB uploaded (0.00MB deduped)\r",
            "_view_count": null,
            "_view_module_version": "1.5.0",
            "description_tooltip": null,
            "_model_module": "@jupyter-widgets/controls",
            "layout": "IPY_MODEL_f17e816d58594ba6b4150f34beee1444"
          }
        },
        "12dc45433fad48a7b90cec4080acd0d5": {
          "model_module": "@jupyter-widgets/controls",
          "model_name": "FloatProgressModel",
          "state": {
            "_view_name": "ProgressView",
            "style": "IPY_MODEL_b19835323f8946e4b6db08e05bba3431",
            "_dom_classes": [],
            "description": "",
            "_model_name": "FloatProgressModel",
            "bar_style": "",
            "max": 1,
            "_view_module": "@jupyter-widgets/controls",
            "_model_module_version": "1.5.0",
            "value": 1,
            "_view_count": null,
            "_view_module_version": "1.5.0",
            "orientation": "horizontal",
            "min": 0,
            "description_tooltip": null,
            "_model_module": "@jupyter-widgets/controls",
            "layout": "IPY_MODEL_12737fcbc48c44e0ac8e2cdd96c09c75"
          }
        },
        "130a81e4648b4817b02b1db892592651": {
          "model_module": "@jupyter-widgets/controls",
          "model_name": "DescriptionStyleModel",
          "state": {
            "_view_name": "StyleView",
            "_model_name": "DescriptionStyleModel",
            "description_width": "",
            "_view_module": "@jupyter-widgets/base",
            "_model_module_version": "1.5.0",
            "_view_count": null,
            "_view_module_version": "1.2.0",
            "_model_module": "@jupyter-widgets/controls"
          }
        },
        "f17e816d58594ba6b4150f34beee1444": {
          "model_module": "@jupyter-widgets/base",
          "model_name": "LayoutModel",
          "state": {
            "_view_name": "LayoutView",
            "grid_template_rows": null,
            "right": null,
            "justify_content": null,
            "_view_module": "@jupyter-widgets/base",
            "overflow": null,
            "_model_module_version": "1.2.0",
            "_view_count": null,
            "flex_flow": null,
            "width": null,
            "min_width": null,
            "border": null,
            "align_items": null,
            "bottom": null,
            "_model_module": "@jupyter-widgets/base",
            "top": null,
            "grid_column": null,
            "overflow_y": null,
            "overflow_x": null,
            "grid_auto_flow": null,
            "grid_area": null,
            "grid_template_columns": null,
            "flex": null,
            "_model_name": "LayoutModel",
            "justify_items": null,
            "grid_row": null,
            "max_height": null,
            "align_content": null,
            "visibility": null,
            "align_self": null,
            "height": null,
            "min_height": null,
            "padding": null,
            "grid_auto_rows": null,
            "grid_gap": null,
            "max_width": null,
            "order": null,
            "_view_module_version": "1.2.0",
            "grid_template_areas": null,
            "object_position": null,
            "object_fit": null,
            "grid_auto_columns": null,
            "margin": null,
            "display": null,
            "left": null
          }
        },
        "b19835323f8946e4b6db08e05bba3431": {
          "model_module": "@jupyter-widgets/controls",
          "model_name": "ProgressStyleModel",
          "state": {
            "_view_name": "StyleView",
            "_model_name": "ProgressStyleModel",
            "description_width": "",
            "_view_module": "@jupyter-widgets/base",
            "_model_module_version": "1.5.0",
            "_view_count": null,
            "_view_module_version": "1.2.0",
            "bar_color": null,
            "_model_module": "@jupyter-widgets/controls"
          }
        },
        "12737fcbc48c44e0ac8e2cdd96c09c75": {
          "model_module": "@jupyter-widgets/base",
          "model_name": "LayoutModel",
          "state": {
            "_view_name": "LayoutView",
            "grid_template_rows": null,
            "right": null,
            "justify_content": null,
            "_view_module": "@jupyter-widgets/base",
            "overflow": null,
            "_model_module_version": "1.2.0",
            "_view_count": null,
            "flex_flow": null,
            "width": null,
            "min_width": null,
            "border": null,
            "align_items": null,
            "bottom": null,
            "_model_module": "@jupyter-widgets/base",
            "top": null,
            "grid_column": null,
            "overflow_y": null,
            "overflow_x": null,
            "grid_auto_flow": null,
            "grid_area": null,
            "grid_template_columns": null,
            "flex": null,
            "_model_name": "LayoutModel",
            "justify_items": null,
            "grid_row": null,
            "max_height": null,
            "align_content": null,
            "visibility": null,
            "align_self": null,
            "height": null,
            "min_height": null,
            "padding": null,
            "grid_auto_rows": null,
            "grid_gap": null,
            "max_width": null,
            "order": null,
            "_view_module_version": "1.2.0",
            "grid_template_areas": null,
            "object_position": null,
            "object_fit": null,
            "grid_auto_columns": null,
            "margin": null,
            "display": null,
            "left": null
          }
        },
        "638a9c8e5ad54a189e661486db7ec88a": {
          "model_module": "@jupyter-widgets/controls",
          "model_name": "VBoxModel",
          "state": {
            "_view_name": "VBoxView",
            "_dom_classes": [],
            "_model_name": "VBoxModel",
            "_view_module": "@jupyter-widgets/controls",
            "_model_module_version": "1.5.0",
            "_view_count": null,
            "_view_module_version": "1.5.0",
            "box_style": "",
            "layout": "IPY_MODEL_544ecc9f5ef14a5fb7ccc9d9581608e7",
            "_model_module": "@jupyter-widgets/controls",
            "children": [
              "IPY_MODEL_0f3d6534bf254df9849952540e9525ff",
              "IPY_MODEL_01b669d80d2d4180b37a5fd5299f6095"
            ]
          }
        },
        "544ecc9f5ef14a5fb7ccc9d9581608e7": {
          "model_module": "@jupyter-widgets/base",
          "model_name": "LayoutModel",
          "state": {
            "_view_name": "LayoutView",
            "grid_template_rows": null,
            "right": null,
            "justify_content": null,
            "_view_module": "@jupyter-widgets/base",
            "overflow": null,
            "_model_module_version": "1.2.0",
            "_view_count": null,
            "flex_flow": null,
            "width": null,
            "min_width": null,
            "border": null,
            "align_items": null,
            "bottom": null,
            "_model_module": "@jupyter-widgets/base",
            "top": null,
            "grid_column": null,
            "overflow_y": null,
            "overflow_x": null,
            "grid_auto_flow": null,
            "grid_area": null,
            "grid_template_columns": null,
            "flex": null,
            "_model_name": "LayoutModel",
            "justify_items": null,
            "grid_row": null,
            "max_height": null,
            "align_content": null,
            "visibility": null,
            "align_self": null,
            "height": null,
            "min_height": null,
            "padding": null,
            "grid_auto_rows": null,
            "grid_gap": null,
            "max_width": null,
            "order": null,
            "_view_module_version": "1.2.0",
            "grid_template_areas": null,
            "object_position": null,
            "object_fit": null,
            "grid_auto_columns": null,
            "margin": null,
            "display": null,
            "left": null
          }
        },
        "0f3d6534bf254df9849952540e9525ff": {
          "model_module": "@jupyter-widgets/controls",
          "model_name": "LabelModel",
          "state": {
            "_view_name": "LabelView",
            "style": "IPY_MODEL_c39454cb462f4d9f89cef3a5cbfca059",
            "_dom_classes": [],
            "description": "",
            "_model_name": "LabelModel",
            "placeholder": "​",
            "_view_module": "@jupyter-widgets/controls",
            "_model_module_version": "1.5.0",
            "value": " 0.01MB of 0.01MB uploaded (0.00MB deduped)\r",
            "_view_count": null,
            "_view_module_version": "1.5.0",
            "description_tooltip": null,
            "_model_module": "@jupyter-widgets/controls",
            "layout": "IPY_MODEL_fe2ec48a78bf4cccb2541ddd4151efe3"
          }
        },
        "01b669d80d2d4180b37a5fd5299f6095": {
          "model_module": "@jupyter-widgets/controls",
          "model_name": "FloatProgressModel",
          "state": {
            "_view_name": "ProgressView",
            "style": "IPY_MODEL_722bd157d24c46298276d2b18839608f",
            "_dom_classes": [],
            "description": "",
            "_model_name": "FloatProgressModel",
            "bar_style": "",
            "max": 1,
            "_view_module": "@jupyter-widgets/controls",
            "_model_module_version": "1.5.0",
            "value": 1,
            "_view_count": null,
            "_view_module_version": "1.5.0",
            "orientation": "horizontal",
            "min": 0,
            "description_tooltip": null,
            "_model_module": "@jupyter-widgets/controls",
            "layout": "IPY_MODEL_b254dcf7b08843ccb1b3de420ec0f416"
          }
        },
        "c39454cb462f4d9f89cef3a5cbfca059": {
          "model_module": "@jupyter-widgets/controls",
          "model_name": "DescriptionStyleModel",
          "state": {
            "_view_name": "StyleView",
            "_model_name": "DescriptionStyleModel",
            "description_width": "",
            "_view_module": "@jupyter-widgets/base",
            "_model_module_version": "1.5.0",
            "_view_count": null,
            "_view_module_version": "1.2.0",
            "_model_module": "@jupyter-widgets/controls"
          }
        },
        "fe2ec48a78bf4cccb2541ddd4151efe3": {
          "model_module": "@jupyter-widgets/base",
          "model_name": "LayoutModel",
          "state": {
            "_view_name": "LayoutView",
            "grid_template_rows": null,
            "right": null,
            "justify_content": null,
            "_view_module": "@jupyter-widgets/base",
            "overflow": null,
            "_model_module_version": "1.2.0",
            "_view_count": null,
            "flex_flow": null,
            "width": null,
            "min_width": null,
            "border": null,
            "align_items": null,
            "bottom": null,
            "_model_module": "@jupyter-widgets/base",
            "top": null,
            "grid_column": null,
            "overflow_y": null,
            "overflow_x": null,
            "grid_auto_flow": null,
            "grid_area": null,
            "grid_template_columns": null,
            "flex": null,
            "_model_name": "LayoutModel",
            "justify_items": null,
            "grid_row": null,
            "max_height": null,
            "align_content": null,
            "visibility": null,
            "align_self": null,
            "height": null,
            "min_height": null,
            "padding": null,
            "grid_auto_rows": null,
            "grid_gap": null,
            "max_width": null,
            "order": null,
            "_view_module_version": "1.2.0",
            "grid_template_areas": null,
            "object_position": null,
            "object_fit": null,
            "grid_auto_columns": null,
            "margin": null,
            "display": null,
            "left": null
          }
        },
        "722bd157d24c46298276d2b18839608f": {
          "model_module": "@jupyter-widgets/controls",
          "model_name": "ProgressStyleModel",
          "state": {
            "_view_name": "StyleView",
            "_model_name": "ProgressStyleModel",
            "description_width": "",
            "_view_module": "@jupyter-widgets/base",
            "_model_module_version": "1.5.0",
            "_view_count": null,
            "_view_module_version": "1.2.0",
            "bar_color": null,
            "_model_module": "@jupyter-widgets/controls"
          }
        },
        "b254dcf7b08843ccb1b3de420ec0f416": {
          "model_module": "@jupyter-widgets/base",
          "model_name": "LayoutModel",
          "state": {
            "_view_name": "LayoutView",
            "grid_template_rows": null,
            "right": null,
            "justify_content": null,
            "_view_module": "@jupyter-widgets/base",
            "overflow": null,
            "_model_module_version": "1.2.0",
            "_view_count": null,
            "flex_flow": null,
            "width": null,
            "min_width": null,
            "border": null,
            "align_items": null,
            "bottom": null,
            "_model_module": "@jupyter-widgets/base",
            "top": null,
            "grid_column": null,
            "overflow_y": null,
            "overflow_x": null,
            "grid_auto_flow": null,
            "grid_area": null,
            "grid_template_columns": null,
            "flex": null,
            "_model_name": "LayoutModel",
            "justify_items": null,
            "grid_row": null,
            "max_height": null,
            "align_content": null,
            "visibility": null,
            "align_self": null,
            "height": null,
            "min_height": null,
            "padding": null,
            "grid_auto_rows": null,
            "grid_gap": null,
            "max_width": null,
            "order": null,
            "_view_module_version": "1.2.0",
            "grid_template_areas": null,
            "object_position": null,
            "object_fit": null,
            "grid_auto_columns": null,
            "margin": null,
            "display": null,
            "left": null
          }
        },
        "64f838c609214fefadddf758db668ca9": {
          "model_module": "@jupyter-widgets/controls",
          "model_name": "VBoxModel",
          "state": {
            "_view_name": "VBoxView",
            "_dom_classes": [],
            "_model_name": "VBoxModel",
            "_view_module": "@jupyter-widgets/controls",
            "_model_module_version": "1.5.0",
            "_view_count": null,
            "_view_module_version": "1.5.0",
            "box_style": "",
            "layout": "IPY_MODEL_1afba536bdb148b882e4c57bd675062f",
            "_model_module": "@jupyter-widgets/controls",
            "children": [
              "IPY_MODEL_8bad280576df4f0aa90dd59aab9aac69",
              "IPY_MODEL_36ed7e245d964952ba9013a414eebbce"
            ]
          }
        },
        "1afba536bdb148b882e4c57bd675062f": {
          "model_module": "@jupyter-widgets/base",
          "model_name": "LayoutModel",
          "state": {
            "_view_name": "LayoutView",
            "grid_template_rows": null,
            "right": null,
            "justify_content": null,
            "_view_module": "@jupyter-widgets/base",
            "overflow": null,
            "_model_module_version": "1.2.0",
            "_view_count": null,
            "flex_flow": null,
            "width": null,
            "min_width": null,
            "border": null,
            "align_items": null,
            "bottom": null,
            "_model_module": "@jupyter-widgets/base",
            "top": null,
            "grid_column": null,
            "overflow_y": null,
            "overflow_x": null,
            "grid_auto_flow": null,
            "grid_area": null,
            "grid_template_columns": null,
            "flex": null,
            "_model_name": "LayoutModel",
            "justify_items": null,
            "grid_row": null,
            "max_height": null,
            "align_content": null,
            "visibility": null,
            "align_self": null,
            "height": null,
            "min_height": null,
            "padding": null,
            "grid_auto_rows": null,
            "grid_gap": null,
            "max_width": null,
            "order": null,
            "_view_module_version": "1.2.0",
            "grid_template_areas": null,
            "object_position": null,
            "object_fit": null,
            "grid_auto_columns": null,
            "margin": null,
            "display": null,
            "left": null
          }
        },
        "8bad280576df4f0aa90dd59aab9aac69": {
          "model_module": "@jupyter-widgets/controls",
          "model_name": "LabelModel",
          "state": {
            "_view_name": "LabelView",
            "style": "IPY_MODEL_69e8950563364b069c4ac97f3606b2be",
            "_dom_classes": [],
            "description": "",
            "_model_name": "LabelModel",
            "placeholder": "​",
            "_view_module": "@jupyter-widgets/controls",
            "_model_module_version": "1.5.0",
            "value": " 0.01MB of 0.01MB uploaded (0.00MB deduped)\r",
            "_view_count": null,
            "_view_module_version": "1.5.0",
            "description_tooltip": null,
            "_model_module": "@jupyter-widgets/controls",
            "layout": "IPY_MODEL_243023ec3ec5427bb3d09262e06040d5"
          }
        },
        "36ed7e245d964952ba9013a414eebbce": {
          "model_module": "@jupyter-widgets/controls",
          "model_name": "FloatProgressModel",
          "state": {
            "_view_name": "ProgressView",
            "style": "IPY_MODEL_2a1d25e91f3449c98249a4b09919c804",
            "_dom_classes": [],
            "description": "",
            "_model_name": "FloatProgressModel",
            "bar_style": "",
            "max": 1,
            "_view_module": "@jupyter-widgets/controls",
            "_model_module_version": "1.5.0",
            "value": 1,
            "_view_count": null,
            "_view_module_version": "1.5.0",
            "orientation": "horizontal",
            "min": 0,
            "description_tooltip": null,
            "_model_module": "@jupyter-widgets/controls",
            "layout": "IPY_MODEL_eb0f35c5358445c7934495eb6adc75c5"
          }
        },
        "69e8950563364b069c4ac97f3606b2be": {
          "model_module": "@jupyter-widgets/controls",
          "model_name": "DescriptionStyleModel",
          "state": {
            "_view_name": "StyleView",
            "_model_name": "DescriptionStyleModel",
            "description_width": "",
            "_view_module": "@jupyter-widgets/base",
            "_model_module_version": "1.5.0",
            "_view_count": null,
            "_view_module_version": "1.2.0",
            "_model_module": "@jupyter-widgets/controls"
          }
        },
        "243023ec3ec5427bb3d09262e06040d5": {
          "model_module": "@jupyter-widgets/base",
          "model_name": "LayoutModel",
          "state": {
            "_view_name": "LayoutView",
            "grid_template_rows": null,
            "right": null,
            "justify_content": null,
            "_view_module": "@jupyter-widgets/base",
            "overflow": null,
            "_model_module_version": "1.2.0",
            "_view_count": null,
            "flex_flow": null,
            "width": null,
            "min_width": null,
            "border": null,
            "align_items": null,
            "bottom": null,
            "_model_module": "@jupyter-widgets/base",
            "top": null,
            "grid_column": null,
            "overflow_y": null,
            "overflow_x": null,
            "grid_auto_flow": null,
            "grid_area": null,
            "grid_template_columns": null,
            "flex": null,
            "_model_name": "LayoutModel",
            "justify_items": null,
            "grid_row": null,
            "max_height": null,
            "align_content": null,
            "visibility": null,
            "align_self": null,
            "height": null,
            "min_height": null,
            "padding": null,
            "grid_auto_rows": null,
            "grid_gap": null,
            "max_width": null,
            "order": null,
            "_view_module_version": "1.2.0",
            "grid_template_areas": null,
            "object_position": null,
            "object_fit": null,
            "grid_auto_columns": null,
            "margin": null,
            "display": null,
            "left": null
          }
        },
        "2a1d25e91f3449c98249a4b09919c804": {
          "model_module": "@jupyter-widgets/controls",
          "model_name": "ProgressStyleModel",
          "state": {
            "_view_name": "StyleView",
            "_model_name": "ProgressStyleModel",
            "description_width": "",
            "_view_module": "@jupyter-widgets/base",
            "_model_module_version": "1.5.0",
            "_view_count": null,
            "_view_module_version": "1.2.0",
            "bar_color": null,
            "_model_module": "@jupyter-widgets/controls"
          }
        },
        "eb0f35c5358445c7934495eb6adc75c5": {
          "model_module": "@jupyter-widgets/base",
          "model_name": "LayoutModel",
          "state": {
            "_view_name": "LayoutView",
            "grid_template_rows": null,
            "right": null,
            "justify_content": null,
            "_view_module": "@jupyter-widgets/base",
            "overflow": null,
            "_model_module_version": "1.2.0",
            "_view_count": null,
            "flex_flow": null,
            "width": null,
            "min_width": null,
            "border": null,
            "align_items": null,
            "bottom": null,
            "_model_module": "@jupyter-widgets/base",
            "top": null,
            "grid_column": null,
            "overflow_y": null,
            "overflow_x": null,
            "grid_auto_flow": null,
            "grid_area": null,
            "grid_template_columns": null,
            "flex": null,
            "_model_name": "LayoutModel",
            "justify_items": null,
            "grid_row": null,
            "max_height": null,
            "align_content": null,
            "visibility": null,
            "align_self": null,
            "height": null,
            "min_height": null,
            "padding": null,
            "grid_auto_rows": null,
            "grid_gap": null,
            "max_width": null,
            "order": null,
            "_view_module_version": "1.2.0",
            "grid_template_areas": null,
            "object_position": null,
            "object_fit": null,
            "grid_auto_columns": null,
            "margin": null,
            "display": null,
            "left": null
          }
        },
        "1423ff3eabbd4b218e839dc43a8f3691": {
          "model_module": "@jupyter-widgets/controls",
          "model_name": "VBoxModel",
          "state": {
            "_view_name": "VBoxView",
            "_dom_classes": [],
            "_model_name": "VBoxModel",
            "_view_module": "@jupyter-widgets/controls",
            "_model_module_version": "1.5.0",
            "_view_count": null,
            "_view_module_version": "1.5.0",
            "box_style": "",
            "layout": "IPY_MODEL_bc2c5b1c50c84828bef2f47934d5b2bf",
            "_model_module": "@jupyter-widgets/controls",
            "children": [
              "IPY_MODEL_133fb3f1e00b4e46ad6428105feae6dd",
              "IPY_MODEL_b6470018b5024518b7fe2731c933e8e3"
            ]
          }
        },
        "bc2c5b1c50c84828bef2f47934d5b2bf": {
          "model_module": "@jupyter-widgets/base",
          "model_name": "LayoutModel",
          "state": {
            "_view_name": "LayoutView",
            "grid_template_rows": null,
            "right": null,
            "justify_content": null,
            "_view_module": "@jupyter-widgets/base",
            "overflow": null,
            "_model_module_version": "1.2.0",
            "_view_count": null,
            "flex_flow": null,
            "width": null,
            "min_width": null,
            "border": null,
            "align_items": null,
            "bottom": null,
            "_model_module": "@jupyter-widgets/base",
            "top": null,
            "grid_column": null,
            "overflow_y": null,
            "overflow_x": null,
            "grid_auto_flow": null,
            "grid_area": null,
            "grid_template_columns": null,
            "flex": null,
            "_model_name": "LayoutModel",
            "justify_items": null,
            "grid_row": null,
            "max_height": null,
            "align_content": null,
            "visibility": null,
            "align_self": null,
            "height": null,
            "min_height": null,
            "padding": null,
            "grid_auto_rows": null,
            "grid_gap": null,
            "max_width": null,
            "order": null,
            "_view_module_version": "1.2.0",
            "grid_template_areas": null,
            "object_position": null,
            "object_fit": null,
            "grid_auto_columns": null,
            "margin": null,
            "display": null,
            "left": null
          }
        },
        "133fb3f1e00b4e46ad6428105feae6dd": {
          "model_module": "@jupyter-widgets/controls",
          "model_name": "LabelModel",
          "state": {
            "_view_name": "LabelView",
            "style": "IPY_MODEL_d21aff89906f4925a48146815910608c",
            "_dom_classes": [],
            "description": "",
            "_model_name": "LabelModel",
            "placeholder": "​",
            "_view_module": "@jupyter-widgets/controls",
            "_model_module_version": "1.5.0",
            "value": " 0.01MB of 0.01MB uploaded (0.00MB deduped)\r",
            "_view_count": null,
            "_view_module_version": "1.5.0",
            "description_tooltip": null,
            "_model_module": "@jupyter-widgets/controls",
            "layout": "IPY_MODEL_a24219e3a152463e832ea205ad746081"
          }
        },
        "b6470018b5024518b7fe2731c933e8e3": {
          "model_module": "@jupyter-widgets/controls",
          "model_name": "FloatProgressModel",
          "state": {
            "_view_name": "ProgressView",
            "style": "IPY_MODEL_426a14e7136843e59ecc71dfe8c41596",
            "_dom_classes": [],
            "description": "",
            "_model_name": "FloatProgressModel",
            "bar_style": "",
            "max": 1,
            "_view_module": "@jupyter-widgets/controls",
            "_model_module_version": "1.5.0",
            "value": 1,
            "_view_count": null,
            "_view_module_version": "1.5.0",
            "orientation": "horizontal",
            "min": 0,
            "description_tooltip": null,
            "_model_module": "@jupyter-widgets/controls",
            "layout": "IPY_MODEL_8265627009364b0da1122988e7a92367"
          }
        },
        "d21aff89906f4925a48146815910608c": {
          "model_module": "@jupyter-widgets/controls",
          "model_name": "DescriptionStyleModel",
          "state": {
            "_view_name": "StyleView",
            "_model_name": "DescriptionStyleModel",
            "description_width": "",
            "_view_module": "@jupyter-widgets/base",
            "_model_module_version": "1.5.0",
            "_view_count": null,
            "_view_module_version": "1.2.0",
            "_model_module": "@jupyter-widgets/controls"
          }
        },
        "a24219e3a152463e832ea205ad746081": {
          "model_module": "@jupyter-widgets/base",
          "model_name": "LayoutModel",
          "state": {
            "_view_name": "LayoutView",
            "grid_template_rows": null,
            "right": null,
            "justify_content": null,
            "_view_module": "@jupyter-widgets/base",
            "overflow": null,
            "_model_module_version": "1.2.0",
            "_view_count": null,
            "flex_flow": null,
            "width": null,
            "min_width": null,
            "border": null,
            "align_items": null,
            "bottom": null,
            "_model_module": "@jupyter-widgets/base",
            "top": null,
            "grid_column": null,
            "overflow_y": null,
            "overflow_x": null,
            "grid_auto_flow": null,
            "grid_area": null,
            "grid_template_columns": null,
            "flex": null,
            "_model_name": "LayoutModel",
            "justify_items": null,
            "grid_row": null,
            "max_height": null,
            "align_content": null,
            "visibility": null,
            "align_self": null,
            "height": null,
            "min_height": null,
            "padding": null,
            "grid_auto_rows": null,
            "grid_gap": null,
            "max_width": null,
            "order": null,
            "_view_module_version": "1.2.0",
            "grid_template_areas": null,
            "object_position": null,
            "object_fit": null,
            "grid_auto_columns": null,
            "margin": null,
            "display": null,
            "left": null
          }
        },
        "426a14e7136843e59ecc71dfe8c41596": {
          "model_module": "@jupyter-widgets/controls",
          "model_name": "ProgressStyleModel",
          "state": {
            "_view_name": "StyleView",
            "_model_name": "ProgressStyleModel",
            "description_width": "",
            "_view_module": "@jupyter-widgets/base",
            "_model_module_version": "1.5.0",
            "_view_count": null,
            "_view_module_version": "1.2.0",
            "bar_color": null,
            "_model_module": "@jupyter-widgets/controls"
          }
        },
        "8265627009364b0da1122988e7a92367": {
          "model_module": "@jupyter-widgets/base",
          "model_name": "LayoutModel",
          "state": {
            "_view_name": "LayoutView",
            "grid_template_rows": null,
            "right": null,
            "justify_content": null,
            "_view_module": "@jupyter-widgets/base",
            "overflow": null,
            "_model_module_version": "1.2.0",
            "_view_count": null,
            "flex_flow": null,
            "width": null,
            "min_width": null,
            "border": null,
            "align_items": null,
            "bottom": null,
            "_model_module": "@jupyter-widgets/base",
            "top": null,
            "grid_column": null,
            "overflow_y": null,
            "overflow_x": null,
            "grid_auto_flow": null,
            "grid_area": null,
            "grid_template_columns": null,
            "flex": null,
            "_model_name": "LayoutModel",
            "justify_items": null,
            "grid_row": null,
            "max_height": null,
            "align_content": null,
            "visibility": null,
            "align_self": null,
            "height": null,
            "min_height": null,
            "padding": null,
            "grid_auto_rows": null,
            "grid_gap": null,
            "max_width": null,
            "order": null,
            "_view_module_version": "1.2.0",
            "grid_template_areas": null,
            "object_position": null,
            "object_fit": null,
            "grid_auto_columns": null,
            "margin": null,
            "display": null,
            "left": null
          }
        },
        "c5a07179fd8d44f68351133d771c0d29": {
          "model_module": "@jupyter-widgets/controls",
          "model_name": "VBoxModel",
          "state": {
            "_view_name": "VBoxView",
            "_dom_classes": [],
            "_model_name": "VBoxModel",
            "_view_module": "@jupyter-widgets/controls",
            "_model_module_version": "1.5.0",
            "_view_count": null,
            "_view_module_version": "1.5.0",
            "box_style": "",
            "layout": "IPY_MODEL_b7ba8680a75a46bf8fea5a0d8fe7d2b0",
            "_model_module": "@jupyter-widgets/controls",
            "children": [
              "IPY_MODEL_97a953cffd594d72aa9cbb112c08e84b",
              "IPY_MODEL_1270396cbe78457f813f5e6785a023f6"
            ]
          }
        },
        "b7ba8680a75a46bf8fea5a0d8fe7d2b0": {
          "model_module": "@jupyter-widgets/base",
          "model_name": "LayoutModel",
          "state": {
            "_view_name": "LayoutView",
            "grid_template_rows": null,
            "right": null,
            "justify_content": null,
            "_view_module": "@jupyter-widgets/base",
            "overflow": null,
            "_model_module_version": "1.2.0",
            "_view_count": null,
            "flex_flow": null,
            "width": null,
            "min_width": null,
            "border": null,
            "align_items": null,
            "bottom": null,
            "_model_module": "@jupyter-widgets/base",
            "top": null,
            "grid_column": null,
            "overflow_y": null,
            "overflow_x": null,
            "grid_auto_flow": null,
            "grid_area": null,
            "grid_template_columns": null,
            "flex": null,
            "_model_name": "LayoutModel",
            "justify_items": null,
            "grid_row": null,
            "max_height": null,
            "align_content": null,
            "visibility": null,
            "align_self": null,
            "height": null,
            "min_height": null,
            "padding": null,
            "grid_auto_rows": null,
            "grid_gap": null,
            "max_width": null,
            "order": null,
            "_view_module_version": "1.2.0",
            "grid_template_areas": null,
            "object_position": null,
            "object_fit": null,
            "grid_auto_columns": null,
            "margin": null,
            "display": null,
            "left": null
          }
        },
        "97a953cffd594d72aa9cbb112c08e84b": {
          "model_module": "@jupyter-widgets/controls",
          "model_name": "LabelModel",
          "state": {
            "_view_name": "LabelView",
            "style": "IPY_MODEL_d487435065134d96a3c23a6a90188791",
            "_dom_classes": [],
            "description": "",
            "_model_name": "LabelModel",
            "placeholder": "​",
            "_view_module": "@jupyter-widgets/controls",
            "_model_module_version": "1.5.0",
            "value": " 0.01MB of 0.01MB uploaded (0.00MB deduped)\r",
            "_view_count": null,
            "_view_module_version": "1.5.0",
            "description_tooltip": null,
            "_model_module": "@jupyter-widgets/controls",
            "layout": "IPY_MODEL_0b6d151000834a07834e5082e3e9c42f"
          }
        },
        "1270396cbe78457f813f5e6785a023f6": {
          "model_module": "@jupyter-widgets/controls",
          "model_name": "FloatProgressModel",
          "state": {
            "_view_name": "ProgressView",
            "style": "IPY_MODEL_2c59f741bffa4f90b45165c1faaf0f83",
            "_dom_classes": [],
            "description": "",
            "_model_name": "FloatProgressModel",
            "bar_style": "",
            "max": 1,
            "_view_module": "@jupyter-widgets/controls",
            "_model_module_version": "1.5.0",
            "value": 1,
            "_view_count": null,
            "_view_module_version": "1.5.0",
            "orientation": "horizontal",
            "min": 0,
            "description_tooltip": null,
            "_model_module": "@jupyter-widgets/controls",
            "layout": "IPY_MODEL_47a3095101964be0af284dd58921b61e"
          }
        },
        "d487435065134d96a3c23a6a90188791": {
          "model_module": "@jupyter-widgets/controls",
          "model_name": "DescriptionStyleModel",
          "state": {
            "_view_name": "StyleView",
            "_model_name": "DescriptionStyleModel",
            "description_width": "",
            "_view_module": "@jupyter-widgets/base",
            "_model_module_version": "1.5.0",
            "_view_count": null,
            "_view_module_version": "1.2.0",
            "_model_module": "@jupyter-widgets/controls"
          }
        },
        "0b6d151000834a07834e5082e3e9c42f": {
          "model_module": "@jupyter-widgets/base",
          "model_name": "LayoutModel",
          "state": {
            "_view_name": "LayoutView",
            "grid_template_rows": null,
            "right": null,
            "justify_content": null,
            "_view_module": "@jupyter-widgets/base",
            "overflow": null,
            "_model_module_version": "1.2.0",
            "_view_count": null,
            "flex_flow": null,
            "width": null,
            "min_width": null,
            "border": null,
            "align_items": null,
            "bottom": null,
            "_model_module": "@jupyter-widgets/base",
            "top": null,
            "grid_column": null,
            "overflow_y": null,
            "overflow_x": null,
            "grid_auto_flow": null,
            "grid_area": null,
            "grid_template_columns": null,
            "flex": null,
            "_model_name": "LayoutModel",
            "justify_items": null,
            "grid_row": null,
            "max_height": null,
            "align_content": null,
            "visibility": null,
            "align_self": null,
            "height": null,
            "min_height": null,
            "padding": null,
            "grid_auto_rows": null,
            "grid_gap": null,
            "max_width": null,
            "order": null,
            "_view_module_version": "1.2.0",
            "grid_template_areas": null,
            "object_position": null,
            "object_fit": null,
            "grid_auto_columns": null,
            "margin": null,
            "display": null,
            "left": null
          }
        },
        "2c59f741bffa4f90b45165c1faaf0f83": {
          "model_module": "@jupyter-widgets/controls",
          "model_name": "ProgressStyleModel",
          "state": {
            "_view_name": "StyleView",
            "_model_name": "ProgressStyleModel",
            "description_width": "",
            "_view_module": "@jupyter-widgets/base",
            "_model_module_version": "1.5.0",
            "_view_count": null,
            "_view_module_version": "1.2.0",
            "bar_color": null,
            "_model_module": "@jupyter-widgets/controls"
          }
        },
        "47a3095101964be0af284dd58921b61e": {
          "model_module": "@jupyter-widgets/base",
          "model_name": "LayoutModel",
          "state": {
            "_view_name": "LayoutView",
            "grid_template_rows": null,
            "right": null,
            "justify_content": null,
            "_view_module": "@jupyter-widgets/base",
            "overflow": null,
            "_model_module_version": "1.2.0",
            "_view_count": null,
            "flex_flow": null,
            "width": null,
            "min_width": null,
            "border": null,
            "align_items": null,
            "bottom": null,
            "_model_module": "@jupyter-widgets/base",
            "top": null,
            "grid_column": null,
            "overflow_y": null,
            "overflow_x": null,
            "grid_auto_flow": null,
            "grid_area": null,
            "grid_template_columns": null,
            "flex": null,
            "_model_name": "LayoutModel",
            "justify_items": null,
            "grid_row": null,
            "max_height": null,
            "align_content": null,
            "visibility": null,
            "align_self": null,
            "height": null,
            "min_height": null,
            "padding": null,
            "grid_auto_rows": null,
            "grid_gap": null,
            "max_width": null,
            "order": null,
            "_view_module_version": "1.2.0",
            "grid_template_areas": null,
            "object_position": null,
            "object_fit": null,
            "grid_auto_columns": null,
            "margin": null,
            "display": null,
            "left": null
          }
        },
        "b03b24d5e5c64484b31eac782506b9a6": {
          "model_module": "@jupyter-widgets/controls",
          "model_name": "VBoxModel",
          "state": {
            "_view_name": "VBoxView",
            "_dom_classes": [],
            "_model_name": "VBoxModel",
            "_view_module": "@jupyter-widgets/controls",
            "_model_module_version": "1.5.0",
            "_view_count": null,
            "_view_module_version": "1.5.0",
            "box_style": "",
            "layout": "IPY_MODEL_cd7955a97c704b699f1ad49c441823a5",
            "_model_module": "@jupyter-widgets/controls",
            "children": [
              "IPY_MODEL_48834dfd07194590a348344a3d6ec130",
              "IPY_MODEL_265d9fa5e11c403686d2f68b2ff6f01c"
            ]
          }
        },
        "cd7955a97c704b699f1ad49c441823a5": {
          "model_module": "@jupyter-widgets/base",
          "model_name": "LayoutModel",
          "state": {
            "_view_name": "LayoutView",
            "grid_template_rows": null,
            "right": null,
            "justify_content": null,
            "_view_module": "@jupyter-widgets/base",
            "overflow": null,
            "_model_module_version": "1.2.0",
            "_view_count": null,
            "flex_flow": null,
            "width": null,
            "min_width": null,
            "border": null,
            "align_items": null,
            "bottom": null,
            "_model_module": "@jupyter-widgets/base",
            "top": null,
            "grid_column": null,
            "overflow_y": null,
            "overflow_x": null,
            "grid_auto_flow": null,
            "grid_area": null,
            "grid_template_columns": null,
            "flex": null,
            "_model_name": "LayoutModel",
            "justify_items": null,
            "grid_row": null,
            "max_height": null,
            "align_content": null,
            "visibility": null,
            "align_self": null,
            "height": null,
            "min_height": null,
            "padding": null,
            "grid_auto_rows": null,
            "grid_gap": null,
            "max_width": null,
            "order": null,
            "_view_module_version": "1.2.0",
            "grid_template_areas": null,
            "object_position": null,
            "object_fit": null,
            "grid_auto_columns": null,
            "margin": null,
            "display": null,
            "left": null
          }
        },
        "48834dfd07194590a348344a3d6ec130": {
          "model_module": "@jupyter-widgets/controls",
          "model_name": "LabelModel",
          "state": {
            "_view_name": "LabelView",
            "style": "IPY_MODEL_170450d34b404f0e840e192b69e892fc",
            "_dom_classes": [],
            "description": "",
            "_model_name": "LabelModel",
            "placeholder": "​",
            "_view_module": "@jupyter-widgets/controls",
            "_model_module_version": "1.5.0",
            "value": " 0.01MB of 0.01MB uploaded (0.00MB deduped)\r",
            "_view_count": null,
            "_view_module_version": "1.5.0",
            "description_tooltip": null,
            "_model_module": "@jupyter-widgets/controls",
            "layout": "IPY_MODEL_e05a54816486416a9473acc53bb4a326"
          }
        },
        "265d9fa5e11c403686d2f68b2ff6f01c": {
          "model_module": "@jupyter-widgets/controls",
          "model_name": "FloatProgressModel",
          "state": {
            "_view_name": "ProgressView",
            "style": "IPY_MODEL_5753e60ea5224201ad6d6a404993a285",
            "_dom_classes": [],
            "description": "",
            "_model_name": "FloatProgressModel",
            "bar_style": "",
            "max": 1,
            "_view_module": "@jupyter-widgets/controls",
            "_model_module_version": "1.5.0",
            "value": 1,
            "_view_count": null,
            "_view_module_version": "1.5.0",
            "orientation": "horizontal",
            "min": 0,
            "description_tooltip": null,
            "_model_module": "@jupyter-widgets/controls",
            "layout": "IPY_MODEL_382c0ca556e5466ab77e03b9548cf04d"
          }
        },
        "170450d34b404f0e840e192b69e892fc": {
          "model_module": "@jupyter-widgets/controls",
          "model_name": "DescriptionStyleModel",
          "state": {
            "_view_name": "StyleView",
            "_model_name": "DescriptionStyleModel",
            "description_width": "",
            "_view_module": "@jupyter-widgets/base",
            "_model_module_version": "1.5.0",
            "_view_count": null,
            "_view_module_version": "1.2.0",
            "_model_module": "@jupyter-widgets/controls"
          }
        },
        "e05a54816486416a9473acc53bb4a326": {
          "model_module": "@jupyter-widgets/base",
          "model_name": "LayoutModel",
          "state": {
            "_view_name": "LayoutView",
            "grid_template_rows": null,
            "right": null,
            "justify_content": null,
            "_view_module": "@jupyter-widgets/base",
            "overflow": null,
            "_model_module_version": "1.2.0",
            "_view_count": null,
            "flex_flow": null,
            "width": null,
            "min_width": null,
            "border": null,
            "align_items": null,
            "bottom": null,
            "_model_module": "@jupyter-widgets/base",
            "top": null,
            "grid_column": null,
            "overflow_y": null,
            "overflow_x": null,
            "grid_auto_flow": null,
            "grid_area": null,
            "grid_template_columns": null,
            "flex": null,
            "_model_name": "LayoutModel",
            "justify_items": null,
            "grid_row": null,
            "max_height": null,
            "align_content": null,
            "visibility": null,
            "align_self": null,
            "height": null,
            "min_height": null,
            "padding": null,
            "grid_auto_rows": null,
            "grid_gap": null,
            "max_width": null,
            "order": null,
            "_view_module_version": "1.2.0",
            "grid_template_areas": null,
            "object_position": null,
            "object_fit": null,
            "grid_auto_columns": null,
            "margin": null,
            "display": null,
            "left": null
          }
        },
        "5753e60ea5224201ad6d6a404993a285": {
          "model_module": "@jupyter-widgets/controls",
          "model_name": "ProgressStyleModel",
          "state": {
            "_view_name": "StyleView",
            "_model_name": "ProgressStyleModel",
            "description_width": "",
            "_view_module": "@jupyter-widgets/base",
            "_model_module_version": "1.5.0",
            "_view_count": null,
            "_view_module_version": "1.2.0",
            "bar_color": null,
            "_model_module": "@jupyter-widgets/controls"
          }
        },
        "382c0ca556e5466ab77e03b9548cf04d": {
          "model_module": "@jupyter-widgets/base",
          "model_name": "LayoutModel",
          "state": {
            "_view_name": "LayoutView",
            "grid_template_rows": null,
            "right": null,
            "justify_content": null,
            "_view_module": "@jupyter-widgets/base",
            "overflow": null,
            "_model_module_version": "1.2.0",
            "_view_count": null,
            "flex_flow": null,
            "width": null,
            "min_width": null,
            "border": null,
            "align_items": null,
            "bottom": null,
            "_model_module": "@jupyter-widgets/base",
            "top": null,
            "grid_column": null,
            "overflow_y": null,
            "overflow_x": null,
            "grid_auto_flow": null,
            "grid_area": null,
            "grid_template_columns": null,
            "flex": null,
            "_model_name": "LayoutModel",
            "justify_items": null,
            "grid_row": null,
            "max_height": null,
            "align_content": null,
            "visibility": null,
            "align_self": null,
            "height": null,
            "min_height": null,
            "padding": null,
            "grid_auto_rows": null,
            "grid_gap": null,
            "max_width": null,
            "order": null,
            "_view_module_version": "1.2.0",
            "grid_template_areas": null,
            "object_position": null,
            "object_fit": null,
            "grid_auto_columns": null,
            "margin": null,
            "display": null,
            "left": null
          }
        },
        "1a23b8c32ba146f6b1f226fdd19f10ef": {
          "model_module": "@jupyter-widgets/controls",
          "model_name": "VBoxModel",
          "state": {
            "_view_name": "VBoxView",
            "_dom_classes": [],
            "_model_name": "VBoxModel",
            "_view_module": "@jupyter-widgets/controls",
            "_model_module_version": "1.5.0",
            "_view_count": null,
            "_view_module_version": "1.5.0",
            "box_style": "",
            "layout": "IPY_MODEL_cb7d78646e11444d830322ef3bdc00eb",
            "_model_module": "@jupyter-widgets/controls",
            "children": [
              "IPY_MODEL_af56faec07334ecf845f96eac0806955",
              "IPY_MODEL_3e60986752734524a6e798020115b6bd"
            ]
          }
        },
        "cb7d78646e11444d830322ef3bdc00eb": {
          "model_module": "@jupyter-widgets/base",
          "model_name": "LayoutModel",
          "state": {
            "_view_name": "LayoutView",
            "grid_template_rows": null,
            "right": null,
            "justify_content": null,
            "_view_module": "@jupyter-widgets/base",
            "overflow": null,
            "_model_module_version": "1.2.0",
            "_view_count": null,
            "flex_flow": null,
            "width": null,
            "min_width": null,
            "border": null,
            "align_items": null,
            "bottom": null,
            "_model_module": "@jupyter-widgets/base",
            "top": null,
            "grid_column": null,
            "overflow_y": null,
            "overflow_x": null,
            "grid_auto_flow": null,
            "grid_area": null,
            "grid_template_columns": null,
            "flex": null,
            "_model_name": "LayoutModel",
            "justify_items": null,
            "grid_row": null,
            "max_height": null,
            "align_content": null,
            "visibility": null,
            "align_self": null,
            "height": null,
            "min_height": null,
            "padding": null,
            "grid_auto_rows": null,
            "grid_gap": null,
            "max_width": null,
            "order": null,
            "_view_module_version": "1.2.0",
            "grid_template_areas": null,
            "object_position": null,
            "object_fit": null,
            "grid_auto_columns": null,
            "margin": null,
            "display": null,
            "left": null
          }
        },
        "af56faec07334ecf845f96eac0806955": {
          "model_module": "@jupyter-widgets/controls",
          "model_name": "LabelModel",
          "state": {
            "_view_name": "LabelView",
            "style": "IPY_MODEL_7450f78b26ea435cbd0efc042de6a4d3",
            "_dom_classes": [],
            "description": "",
            "_model_name": "LabelModel",
            "placeholder": "​",
            "_view_module": "@jupyter-widgets/controls",
            "_model_module_version": "1.5.0",
            "value": " 0.01MB of 0.01MB uploaded (0.00MB deduped)\r",
            "_view_count": null,
            "_view_module_version": "1.5.0",
            "description_tooltip": null,
            "_model_module": "@jupyter-widgets/controls",
            "layout": "IPY_MODEL_e3116e4fcc79405db8abebc47dfd9cec"
          }
        },
        "3e60986752734524a6e798020115b6bd": {
          "model_module": "@jupyter-widgets/controls",
          "model_name": "FloatProgressModel",
          "state": {
            "_view_name": "ProgressView",
            "style": "IPY_MODEL_27497076b02c4565a7283a708edb6e9d",
            "_dom_classes": [],
            "description": "",
            "_model_name": "FloatProgressModel",
            "bar_style": "",
            "max": 1,
            "_view_module": "@jupyter-widgets/controls",
            "_model_module_version": "1.5.0",
            "value": 1,
            "_view_count": null,
            "_view_module_version": "1.5.0",
            "orientation": "horizontal",
            "min": 0,
            "description_tooltip": null,
            "_model_module": "@jupyter-widgets/controls",
            "layout": "IPY_MODEL_78f02247c7e74d42b9ad63e1a6311cbe"
          }
        },
        "7450f78b26ea435cbd0efc042de6a4d3": {
          "model_module": "@jupyter-widgets/controls",
          "model_name": "DescriptionStyleModel",
          "state": {
            "_view_name": "StyleView",
            "_model_name": "DescriptionStyleModel",
            "description_width": "",
            "_view_module": "@jupyter-widgets/base",
            "_model_module_version": "1.5.0",
            "_view_count": null,
            "_view_module_version": "1.2.0",
            "_model_module": "@jupyter-widgets/controls"
          }
        },
        "e3116e4fcc79405db8abebc47dfd9cec": {
          "model_module": "@jupyter-widgets/base",
          "model_name": "LayoutModel",
          "state": {
            "_view_name": "LayoutView",
            "grid_template_rows": null,
            "right": null,
            "justify_content": null,
            "_view_module": "@jupyter-widgets/base",
            "overflow": null,
            "_model_module_version": "1.2.0",
            "_view_count": null,
            "flex_flow": null,
            "width": null,
            "min_width": null,
            "border": null,
            "align_items": null,
            "bottom": null,
            "_model_module": "@jupyter-widgets/base",
            "top": null,
            "grid_column": null,
            "overflow_y": null,
            "overflow_x": null,
            "grid_auto_flow": null,
            "grid_area": null,
            "grid_template_columns": null,
            "flex": null,
            "_model_name": "LayoutModel",
            "justify_items": null,
            "grid_row": null,
            "max_height": null,
            "align_content": null,
            "visibility": null,
            "align_self": null,
            "height": null,
            "min_height": null,
            "padding": null,
            "grid_auto_rows": null,
            "grid_gap": null,
            "max_width": null,
            "order": null,
            "_view_module_version": "1.2.0",
            "grid_template_areas": null,
            "object_position": null,
            "object_fit": null,
            "grid_auto_columns": null,
            "margin": null,
            "display": null,
            "left": null
          }
        },
        "27497076b02c4565a7283a708edb6e9d": {
          "model_module": "@jupyter-widgets/controls",
          "model_name": "ProgressStyleModel",
          "state": {
            "_view_name": "StyleView",
            "_model_name": "ProgressStyleModel",
            "description_width": "",
            "_view_module": "@jupyter-widgets/base",
            "_model_module_version": "1.5.0",
            "_view_count": null,
            "_view_module_version": "1.2.0",
            "bar_color": null,
            "_model_module": "@jupyter-widgets/controls"
          }
        },
        "78f02247c7e74d42b9ad63e1a6311cbe": {
          "model_module": "@jupyter-widgets/base",
          "model_name": "LayoutModel",
          "state": {
            "_view_name": "LayoutView",
            "grid_template_rows": null,
            "right": null,
            "justify_content": null,
            "_view_module": "@jupyter-widgets/base",
            "overflow": null,
            "_model_module_version": "1.2.0",
            "_view_count": null,
            "flex_flow": null,
            "width": null,
            "min_width": null,
            "border": null,
            "align_items": null,
            "bottom": null,
            "_model_module": "@jupyter-widgets/base",
            "top": null,
            "grid_column": null,
            "overflow_y": null,
            "overflow_x": null,
            "grid_auto_flow": null,
            "grid_area": null,
            "grid_template_columns": null,
            "flex": null,
            "_model_name": "LayoutModel",
            "justify_items": null,
            "grid_row": null,
            "max_height": null,
            "align_content": null,
            "visibility": null,
            "align_self": null,
            "height": null,
            "min_height": null,
            "padding": null,
            "grid_auto_rows": null,
            "grid_gap": null,
            "max_width": null,
            "order": null,
            "_view_module_version": "1.2.0",
            "grid_template_areas": null,
            "object_position": null,
            "object_fit": null,
            "grid_auto_columns": null,
            "margin": null,
            "display": null,
            "left": null
          }
        },
        "00c9a116ffb24f3f938a6eeb73ba2cc1": {
          "model_module": "@jupyter-widgets/controls",
          "model_name": "VBoxModel",
          "state": {
            "_view_name": "VBoxView",
            "_dom_classes": [],
            "_model_name": "VBoxModel",
            "_view_module": "@jupyter-widgets/controls",
            "_model_module_version": "1.5.0",
            "_view_count": null,
            "_view_module_version": "1.5.0",
            "box_style": "",
            "layout": "IPY_MODEL_974b9bb37f6a4fae9be7f5727fc02a5e",
            "_model_module": "@jupyter-widgets/controls",
            "children": [
              "IPY_MODEL_0d5ba91c36084d9085fda0a6e1f3b1a0",
              "IPY_MODEL_e1f4704a0efe4fea9fa54509818675ff"
            ]
          }
        },
        "974b9bb37f6a4fae9be7f5727fc02a5e": {
          "model_module": "@jupyter-widgets/base",
          "model_name": "LayoutModel",
          "state": {
            "_view_name": "LayoutView",
            "grid_template_rows": null,
            "right": null,
            "justify_content": null,
            "_view_module": "@jupyter-widgets/base",
            "overflow": null,
            "_model_module_version": "1.2.0",
            "_view_count": null,
            "flex_flow": null,
            "width": null,
            "min_width": null,
            "border": null,
            "align_items": null,
            "bottom": null,
            "_model_module": "@jupyter-widgets/base",
            "top": null,
            "grid_column": null,
            "overflow_y": null,
            "overflow_x": null,
            "grid_auto_flow": null,
            "grid_area": null,
            "grid_template_columns": null,
            "flex": null,
            "_model_name": "LayoutModel",
            "justify_items": null,
            "grid_row": null,
            "max_height": null,
            "align_content": null,
            "visibility": null,
            "align_self": null,
            "height": null,
            "min_height": null,
            "padding": null,
            "grid_auto_rows": null,
            "grid_gap": null,
            "max_width": null,
            "order": null,
            "_view_module_version": "1.2.0",
            "grid_template_areas": null,
            "object_position": null,
            "object_fit": null,
            "grid_auto_columns": null,
            "margin": null,
            "display": null,
            "left": null
          }
        },
        "0d5ba91c36084d9085fda0a6e1f3b1a0": {
          "model_module": "@jupyter-widgets/controls",
          "model_name": "LabelModel",
          "state": {
            "_view_name": "LabelView",
            "style": "IPY_MODEL_7ad77ec932de4af3852661adf23be51a",
            "_dom_classes": [],
            "description": "",
            "_model_name": "LabelModel",
            "placeholder": "​",
            "_view_module": "@jupyter-widgets/controls",
            "_model_module_version": "1.5.0",
            "value": " 0.01MB of 0.01MB uploaded (0.00MB deduped)\r",
            "_view_count": null,
            "_view_module_version": "1.5.0",
            "description_tooltip": null,
            "_model_module": "@jupyter-widgets/controls",
            "layout": "IPY_MODEL_235c9878e42e4516b4904fa9c6272cc2"
          }
        },
        "e1f4704a0efe4fea9fa54509818675ff": {
          "model_module": "@jupyter-widgets/controls",
          "model_name": "FloatProgressModel",
          "state": {
            "_view_name": "ProgressView",
            "style": "IPY_MODEL_f517505903d3470b928d00c1f43e9bdf",
            "_dom_classes": [],
            "description": "",
            "_model_name": "FloatProgressModel",
            "bar_style": "",
            "max": 1,
            "_view_module": "@jupyter-widgets/controls",
            "_model_module_version": "1.5.0",
            "value": 1,
            "_view_count": null,
            "_view_module_version": "1.5.0",
            "orientation": "horizontal",
            "min": 0,
            "description_tooltip": null,
            "_model_module": "@jupyter-widgets/controls",
            "layout": "IPY_MODEL_8b23942d4aec466a97770e7d12006bf7"
          }
        },
        "7ad77ec932de4af3852661adf23be51a": {
          "model_module": "@jupyter-widgets/controls",
          "model_name": "DescriptionStyleModel",
          "state": {
            "_view_name": "StyleView",
            "_model_name": "DescriptionStyleModel",
            "description_width": "",
            "_view_module": "@jupyter-widgets/base",
            "_model_module_version": "1.5.0",
            "_view_count": null,
            "_view_module_version": "1.2.0",
            "_model_module": "@jupyter-widgets/controls"
          }
        },
        "235c9878e42e4516b4904fa9c6272cc2": {
          "model_module": "@jupyter-widgets/base",
          "model_name": "LayoutModel",
          "state": {
            "_view_name": "LayoutView",
            "grid_template_rows": null,
            "right": null,
            "justify_content": null,
            "_view_module": "@jupyter-widgets/base",
            "overflow": null,
            "_model_module_version": "1.2.0",
            "_view_count": null,
            "flex_flow": null,
            "width": null,
            "min_width": null,
            "border": null,
            "align_items": null,
            "bottom": null,
            "_model_module": "@jupyter-widgets/base",
            "top": null,
            "grid_column": null,
            "overflow_y": null,
            "overflow_x": null,
            "grid_auto_flow": null,
            "grid_area": null,
            "grid_template_columns": null,
            "flex": null,
            "_model_name": "LayoutModel",
            "justify_items": null,
            "grid_row": null,
            "max_height": null,
            "align_content": null,
            "visibility": null,
            "align_self": null,
            "height": null,
            "min_height": null,
            "padding": null,
            "grid_auto_rows": null,
            "grid_gap": null,
            "max_width": null,
            "order": null,
            "_view_module_version": "1.2.0",
            "grid_template_areas": null,
            "object_position": null,
            "object_fit": null,
            "grid_auto_columns": null,
            "margin": null,
            "display": null,
            "left": null
          }
        },
        "f517505903d3470b928d00c1f43e9bdf": {
          "model_module": "@jupyter-widgets/controls",
          "model_name": "ProgressStyleModel",
          "state": {
            "_view_name": "StyleView",
            "_model_name": "ProgressStyleModel",
            "description_width": "",
            "_view_module": "@jupyter-widgets/base",
            "_model_module_version": "1.5.0",
            "_view_count": null,
            "_view_module_version": "1.2.0",
            "bar_color": null,
            "_model_module": "@jupyter-widgets/controls"
          }
        },
        "8b23942d4aec466a97770e7d12006bf7": {
          "model_module": "@jupyter-widgets/base",
          "model_name": "LayoutModel",
          "state": {
            "_view_name": "LayoutView",
            "grid_template_rows": null,
            "right": null,
            "justify_content": null,
            "_view_module": "@jupyter-widgets/base",
            "overflow": null,
            "_model_module_version": "1.2.0",
            "_view_count": null,
            "flex_flow": null,
            "width": null,
            "min_width": null,
            "border": null,
            "align_items": null,
            "bottom": null,
            "_model_module": "@jupyter-widgets/base",
            "top": null,
            "grid_column": null,
            "overflow_y": null,
            "overflow_x": null,
            "grid_auto_flow": null,
            "grid_area": null,
            "grid_template_columns": null,
            "flex": null,
            "_model_name": "LayoutModel",
            "justify_items": null,
            "grid_row": null,
            "max_height": null,
            "align_content": null,
            "visibility": null,
            "align_self": null,
            "height": null,
            "min_height": null,
            "padding": null,
            "grid_auto_rows": null,
            "grid_gap": null,
            "max_width": null,
            "order": null,
            "_view_module_version": "1.2.0",
            "grid_template_areas": null,
            "object_position": null,
            "object_fit": null,
            "grid_auto_columns": null,
            "margin": null,
            "display": null,
            "left": null
          }
        },
        "018ff71ae9bb488fb33d94f1382f1d45": {
          "model_module": "@jupyter-widgets/controls",
          "model_name": "VBoxModel",
          "state": {
            "_view_name": "VBoxView",
            "_dom_classes": [],
            "_model_name": "VBoxModel",
            "_view_module": "@jupyter-widgets/controls",
            "_model_module_version": "1.5.0",
            "_view_count": null,
            "_view_module_version": "1.5.0",
            "box_style": "",
            "layout": "IPY_MODEL_d7467a65b5d24f7884502e43fb088b88",
            "_model_module": "@jupyter-widgets/controls",
            "children": [
              "IPY_MODEL_438aade64d3e420fbd296b465eaa0412",
              "IPY_MODEL_281584f7ec814c7a847b022a462cd6e0"
            ]
          }
        },
        "d7467a65b5d24f7884502e43fb088b88": {
          "model_module": "@jupyter-widgets/base",
          "model_name": "LayoutModel",
          "state": {
            "_view_name": "LayoutView",
            "grid_template_rows": null,
            "right": null,
            "justify_content": null,
            "_view_module": "@jupyter-widgets/base",
            "overflow": null,
            "_model_module_version": "1.2.0",
            "_view_count": null,
            "flex_flow": null,
            "width": null,
            "min_width": null,
            "border": null,
            "align_items": null,
            "bottom": null,
            "_model_module": "@jupyter-widgets/base",
            "top": null,
            "grid_column": null,
            "overflow_y": null,
            "overflow_x": null,
            "grid_auto_flow": null,
            "grid_area": null,
            "grid_template_columns": null,
            "flex": null,
            "_model_name": "LayoutModel",
            "justify_items": null,
            "grid_row": null,
            "max_height": null,
            "align_content": null,
            "visibility": null,
            "align_self": null,
            "height": null,
            "min_height": null,
            "padding": null,
            "grid_auto_rows": null,
            "grid_gap": null,
            "max_width": null,
            "order": null,
            "_view_module_version": "1.2.0",
            "grid_template_areas": null,
            "object_position": null,
            "object_fit": null,
            "grid_auto_columns": null,
            "margin": null,
            "display": null,
            "left": null
          }
        },
        "438aade64d3e420fbd296b465eaa0412": {
          "model_module": "@jupyter-widgets/controls",
          "model_name": "LabelModel",
          "state": {
            "_view_name": "LabelView",
            "style": "IPY_MODEL_1230a2d28f68478b911bb4bab37a3fb9",
            "_dom_classes": [],
            "description": "",
            "_model_name": "LabelModel",
            "placeholder": "​",
            "_view_module": "@jupyter-widgets/controls",
            "_model_module_version": "1.5.0",
            "value": " 0.01MB of 0.01MB uploaded (0.00MB deduped)\r",
            "_view_count": null,
            "_view_module_version": "1.5.0",
            "description_tooltip": null,
            "_model_module": "@jupyter-widgets/controls",
            "layout": "IPY_MODEL_0a05489870574fa7b238a957c43262fb"
          }
        },
        "281584f7ec814c7a847b022a462cd6e0": {
          "model_module": "@jupyter-widgets/controls",
          "model_name": "FloatProgressModel",
          "state": {
            "_view_name": "ProgressView",
            "style": "IPY_MODEL_1043017c349b4c9fb2a458b089c84701",
            "_dom_classes": [],
            "description": "",
            "_model_name": "FloatProgressModel",
            "bar_style": "",
            "max": 1,
            "_view_module": "@jupyter-widgets/controls",
            "_model_module_version": "1.5.0",
            "value": 1,
            "_view_count": null,
            "_view_module_version": "1.5.0",
            "orientation": "horizontal",
            "min": 0,
            "description_tooltip": null,
            "_model_module": "@jupyter-widgets/controls",
            "layout": "IPY_MODEL_aba5448e767e4334a89542e072a433a7"
          }
        },
        "1230a2d28f68478b911bb4bab37a3fb9": {
          "model_module": "@jupyter-widgets/controls",
          "model_name": "DescriptionStyleModel",
          "state": {
            "_view_name": "StyleView",
            "_model_name": "DescriptionStyleModel",
            "description_width": "",
            "_view_module": "@jupyter-widgets/base",
            "_model_module_version": "1.5.0",
            "_view_count": null,
            "_view_module_version": "1.2.0",
            "_model_module": "@jupyter-widgets/controls"
          }
        },
        "0a05489870574fa7b238a957c43262fb": {
          "model_module": "@jupyter-widgets/base",
          "model_name": "LayoutModel",
          "state": {
            "_view_name": "LayoutView",
            "grid_template_rows": null,
            "right": null,
            "justify_content": null,
            "_view_module": "@jupyter-widgets/base",
            "overflow": null,
            "_model_module_version": "1.2.0",
            "_view_count": null,
            "flex_flow": null,
            "width": null,
            "min_width": null,
            "border": null,
            "align_items": null,
            "bottom": null,
            "_model_module": "@jupyter-widgets/base",
            "top": null,
            "grid_column": null,
            "overflow_y": null,
            "overflow_x": null,
            "grid_auto_flow": null,
            "grid_area": null,
            "grid_template_columns": null,
            "flex": null,
            "_model_name": "LayoutModel",
            "justify_items": null,
            "grid_row": null,
            "max_height": null,
            "align_content": null,
            "visibility": null,
            "align_self": null,
            "height": null,
            "min_height": null,
            "padding": null,
            "grid_auto_rows": null,
            "grid_gap": null,
            "max_width": null,
            "order": null,
            "_view_module_version": "1.2.0",
            "grid_template_areas": null,
            "object_position": null,
            "object_fit": null,
            "grid_auto_columns": null,
            "margin": null,
            "display": null,
            "left": null
          }
        },
        "1043017c349b4c9fb2a458b089c84701": {
          "model_module": "@jupyter-widgets/controls",
          "model_name": "ProgressStyleModel",
          "state": {
            "_view_name": "StyleView",
            "_model_name": "ProgressStyleModel",
            "description_width": "",
            "_view_module": "@jupyter-widgets/base",
            "_model_module_version": "1.5.0",
            "_view_count": null,
            "_view_module_version": "1.2.0",
            "bar_color": null,
            "_model_module": "@jupyter-widgets/controls"
          }
        },
        "aba5448e767e4334a89542e072a433a7": {
          "model_module": "@jupyter-widgets/base",
          "model_name": "LayoutModel",
          "state": {
            "_view_name": "LayoutView",
            "grid_template_rows": null,
            "right": null,
            "justify_content": null,
            "_view_module": "@jupyter-widgets/base",
            "overflow": null,
            "_model_module_version": "1.2.0",
            "_view_count": null,
            "flex_flow": null,
            "width": null,
            "min_width": null,
            "border": null,
            "align_items": null,
            "bottom": null,
            "_model_module": "@jupyter-widgets/base",
            "top": null,
            "grid_column": null,
            "overflow_y": null,
            "overflow_x": null,
            "grid_auto_flow": null,
            "grid_area": null,
            "grid_template_columns": null,
            "flex": null,
            "_model_name": "LayoutModel",
            "justify_items": null,
            "grid_row": null,
            "max_height": null,
            "align_content": null,
            "visibility": null,
            "align_self": null,
            "height": null,
            "min_height": null,
            "padding": null,
            "grid_auto_rows": null,
            "grid_gap": null,
            "max_width": null,
            "order": null,
            "_view_module_version": "1.2.0",
            "grid_template_areas": null,
            "object_position": null,
            "object_fit": null,
            "grid_auto_columns": null,
            "margin": null,
            "display": null,
            "left": null
          }
        },
        "a006c00473d24d478fea8e4636be5efe": {
          "model_module": "@jupyter-widgets/controls",
          "model_name": "VBoxModel",
          "state": {
            "_view_name": "VBoxView",
            "_dom_classes": [],
            "_model_name": "VBoxModel",
            "_view_module": "@jupyter-widgets/controls",
            "_model_module_version": "1.5.0",
            "_view_count": null,
            "_view_module_version": "1.5.0",
            "box_style": "",
            "layout": "IPY_MODEL_9e95db586f6346bf9b231a8dc91cedce",
            "_model_module": "@jupyter-widgets/controls",
            "children": [
              "IPY_MODEL_ced39c31d61542b6be07e68a72df4b74",
              "IPY_MODEL_7ae268cf70fb45bf830595b2b2d690f3"
            ]
          }
        },
        "9e95db586f6346bf9b231a8dc91cedce": {
          "model_module": "@jupyter-widgets/base",
          "model_name": "LayoutModel",
          "state": {
            "_view_name": "LayoutView",
            "grid_template_rows": null,
            "right": null,
            "justify_content": null,
            "_view_module": "@jupyter-widgets/base",
            "overflow": null,
            "_model_module_version": "1.2.0",
            "_view_count": null,
            "flex_flow": null,
            "width": null,
            "min_width": null,
            "border": null,
            "align_items": null,
            "bottom": null,
            "_model_module": "@jupyter-widgets/base",
            "top": null,
            "grid_column": null,
            "overflow_y": null,
            "overflow_x": null,
            "grid_auto_flow": null,
            "grid_area": null,
            "grid_template_columns": null,
            "flex": null,
            "_model_name": "LayoutModel",
            "justify_items": null,
            "grid_row": null,
            "max_height": null,
            "align_content": null,
            "visibility": null,
            "align_self": null,
            "height": null,
            "min_height": null,
            "padding": null,
            "grid_auto_rows": null,
            "grid_gap": null,
            "max_width": null,
            "order": null,
            "_view_module_version": "1.2.0",
            "grid_template_areas": null,
            "object_position": null,
            "object_fit": null,
            "grid_auto_columns": null,
            "margin": null,
            "display": null,
            "left": null
          }
        },
        "ced39c31d61542b6be07e68a72df4b74": {
          "model_module": "@jupyter-widgets/controls",
          "model_name": "LabelModel",
          "state": {
            "_view_name": "LabelView",
            "style": "IPY_MODEL_2d3840ead4d647f0a27fd31f8381957a",
            "_dom_classes": [],
            "description": "",
            "_model_name": "LabelModel",
            "placeholder": "​",
            "_view_module": "@jupyter-widgets/controls",
            "_model_module_version": "1.5.0",
            "value": " 0.01MB of 0.01MB uploaded (0.00MB deduped)\r",
            "_view_count": null,
            "_view_module_version": "1.5.0",
            "description_tooltip": null,
            "_model_module": "@jupyter-widgets/controls",
            "layout": "IPY_MODEL_0a6b2bf82bad46dd8e1c0c77d9624f41"
          }
        },
        "7ae268cf70fb45bf830595b2b2d690f3": {
          "model_module": "@jupyter-widgets/controls",
          "model_name": "FloatProgressModel",
          "state": {
            "_view_name": "ProgressView",
            "style": "IPY_MODEL_c79a19e144f746118ccee14bf5076885",
            "_dom_classes": [],
            "description": "",
            "_model_name": "FloatProgressModel",
            "bar_style": "",
            "max": 1,
            "_view_module": "@jupyter-widgets/controls",
            "_model_module_version": "1.5.0",
            "value": 1,
            "_view_count": null,
            "_view_module_version": "1.5.0",
            "orientation": "horizontal",
            "min": 0,
            "description_tooltip": null,
            "_model_module": "@jupyter-widgets/controls",
            "layout": "IPY_MODEL_aa4add04bc71478eabad3ef8c6819934"
          }
        },
        "2d3840ead4d647f0a27fd31f8381957a": {
          "model_module": "@jupyter-widgets/controls",
          "model_name": "DescriptionStyleModel",
          "state": {
            "_view_name": "StyleView",
            "_model_name": "DescriptionStyleModel",
            "description_width": "",
            "_view_module": "@jupyter-widgets/base",
            "_model_module_version": "1.5.0",
            "_view_count": null,
            "_view_module_version": "1.2.0",
            "_model_module": "@jupyter-widgets/controls"
          }
        },
        "0a6b2bf82bad46dd8e1c0c77d9624f41": {
          "model_module": "@jupyter-widgets/base",
          "model_name": "LayoutModel",
          "state": {
            "_view_name": "LayoutView",
            "grid_template_rows": null,
            "right": null,
            "justify_content": null,
            "_view_module": "@jupyter-widgets/base",
            "overflow": null,
            "_model_module_version": "1.2.0",
            "_view_count": null,
            "flex_flow": null,
            "width": null,
            "min_width": null,
            "border": null,
            "align_items": null,
            "bottom": null,
            "_model_module": "@jupyter-widgets/base",
            "top": null,
            "grid_column": null,
            "overflow_y": null,
            "overflow_x": null,
            "grid_auto_flow": null,
            "grid_area": null,
            "grid_template_columns": null,
            "flex": null,
            "_model_name": "LayoutModel",
            "justify_items": null,
            "grid_row": null,
            "max_height": null,
            "align_content": null,
            "visibility": null,
            "align_self": null,
            "height": null,
            "min_height": null,
            "padding": null,
            "grid_auto_rows": null,
            "grid_gap": null,
            "max_width": null,
            "order": null,
            "_view_module_version": "1.2.0",
            "grid_template_areas": null,
            "object_position": null,
            "object_fit": null,
            "grid_auto_columns": null,
            "margin": null,
            "display": null,
            "left": null
          }
        },
        "c79a19e144f746118ccee14bf5076885": {
          "model_module": "@jupyter-widgets/controls",
          "model_name": "ProgressStyleModel",
          "state": {
            "_view_name": "StyleView",
            "_model_name": "ProgressStyleModel",
            "description_width": "",
            "_view_module": "@jupyter-widgets/base",
            "_model_module_version": "1.5.0",
            "_view_count": null,
            "_view_module_version": "1.2.0",
            "bar_color": null,
            "_model_module": "@jupyter-widgets/controls"
          }
        },
        "aa4add04bc71478eabad3ef8c6819934": {
          "model_module": "@jupyter-widgets/base",
          "model_name": "LayoutModel",
          "state": {
            "_view_name": "LayoutView",
            "grid_template_rows": null,
            "right": null,
            "justify_content": null,
            "_view_module": "@jupyter-widgets/base",
            "overflow": null,
            "_model_module_version": "1.2.0",
            "_view_count": null,
            "flex_flow": null,
            "width": null,
            "min_width": null,
            "border": null,
            "align_items": null,
            "bottom": null,
            "_model_module": "@jupyter-widgets/base",
            "top": null,
            "grid_column": null,
            "overflow_y": null,
            "overflow_x": null,
            "grid_auto_flow": null,
            "grid_area": null,
            "grid_template_columns": null,
            "flex": null,
            "_model_name": "LayoutModel",
            "justify_items": null,
            "grid_row": null,
            "max_height": null,
            "align_content": null,
            "visibility": null,
            "align_self": null,
            "height": null,
            "min_height": null,
            "padding": null,
            "grid_auto_rows": null,
            "grid_gap": null,
            "max_width": null,
            "order": null,
            "_view_module_version": "1.2.0",
            "grid_template_areas": null,
            "object_position": null,
            "object_fit": null,
            "grid_auto_columns": null,
            "margin": null,
            "display": null,
            "left": null
          }
        },
        "7ef51178abdc469e97962691d7c7db64": {
          "model_module": "@jupyter-widgets/controls",
          "model_name": "VBoxModel",
          "state": {
            "_view_name": "VBoxView",
            "_dom_classes": [],
            "_model_name": "VBoxModel",
            "_view_module": "@jupyter-widgets/controls",
            "_model_module_version": "1.5.0",
            "_view_count": null,
            "_view_module_version": "1.5.0",
            "box_style": "",
            "layout": "IPY_MODEL_5332026636e14b3898d92161d96c8eb6",
            "_model_module": "@jupyter-widgets/controls",
            "children": [
              "IPY_MODEL_7dde9012c2664013bae1380d791aa711",
              "IPY_MODEL_45a125c43cf946499207e9a31e75d211"
            ]
          }
        },
        "5332026636e14b3898d92161d96c8eb6": {
          "model_module": "@jupyter-widgets/base",
          "model_name": "LayoutModel",
          "state": {
            "_view_name": "LayoutView",
            "grid_template_rows": null,
            "right": null,
            "justify_content": null,
            "_view_module": "@jupyter-widgets/base",
            "overflow": null,
            "_model_module_version": "1.2.0",
            "_view_count": null,
            "flex_flow": null,
            "width": null,
            "min_width": null,
            "border": null,
            "align_items": null,
            "bottom": null,
            "_model_module": "@jupyter-widgets/base",
            "top": null,
            "grid_column": null,
            "overflow_y": null,
            "overflow_x": null,
            "grid_auto_flow": null,
            "grid_area": null,
            "grid_template_columns": null,
            "flex": null,
            "_model_name": "LayoutModel",
            "justify_items": null,
            "grid_row": null,
            "max_height": null,
            "align_content": null,
            "visibility": null,
            "align_self": null,
            "height": null,
            "min_height": null,
            "padding": null,
            "grid_auto_rows": null,
            "grid_gap": null,
            "max_width": null,
            "order": null,
            "_view_module_version": "1.2.0",
            "grid_template_areas": null,
            "object_position": null,
            "object_fit": null,
            "grid_auto_columns": null,
            "margin": null,
            "display": null,
            "left": null
          }
        },
        "7dde9012c2664013bae1380d791aa711": {
          "model_module": "@jupyter-widgets/controls",
          "model_name": "LabelModel",
          "state": {
            "_view_name": "LabelView",
            "style": "IPY_MODEL_d48ff31ffbc84d8ca14082c0c6b41d27",
            "_dom_classes": [],
            "description": "",
            "_model_name": "LabelModel",
            "placeholder": "​",
            "_view_module": "@jupyter-widgets/controls",
            "_model_module_version": "1.5.0",
            "value": " 0.01MB of 0.01MB uploaded (0.00MB deduped)\r",
            "_view_count": null,
            "_view_module_version": "1.5.0",
            "description_tooltip": null,
            "_model_module": "@jupyter-widgets/controls",
            "layout": "IPY_MODEL_75233c80a2f4423e88488b83bb651873"
          }
        },
        "45a125c43cf946499207e9a31e75d211": {
          "model_module": "@jupyter-widgets/controls",
          "model_name": "FloatProgressModel",
          "state": {
            "_view_name": "ProgressView",
            "style": "IPY_MODEL_548fe53e9d8d46d687eee995a6598ddb",
            "_dom_classes": [],
            "description": "",
            "_model_name": "FloatProgressModel",
            "bar_style": "",
            "max": 1,
            "_view_module": "@jupyter-widgets/controls",
            "_model_module_version": "1.5.0",
            "value": 1,
            "_view_count": null,
            "_view_module_version": "1.5.0",
            "orientation": "horizontal",
            "min": 0,
            "description_tooltip": null,
            "_model_module": "@jupyter-widgets/controls",
            "layout": "IPY_MODEL_5ad00ed7b1d04fccad7b777df8d88229"
          }
        },
        "d48ff31ffbc84d8ca14082c0c6b41d27": {
          "model_module": "@jupyter-widgets/controls",
          "model_name": "DescriptionStyleModel",
          "state": {
            "_view_name": "StyleView",
            "_model_name": "DescriptionStyleModel",
            "description_width": "",
            "_view_module": "@jupyter-widgets/base",
            "_model_module_version": "1.5.0",
            "_view_count": null,
            "_view_module_version": "1.2.0",
            "_model_module": "@jupyter-widgets/controls"
          }
        },
        "75233c80a2f4423e88488b83bb651873": {
          "model_module": "@jupyter-widgets/base",
          "model_name": "LayoutModel",
          "state": {
            "_view_name": "LayoutView",
            "grid_template_rows": null,
            "right": null,
            "justify_content": null,
            "_view_module": "@jupyter-widgets/base",
            "overflow": null,
            "_model_module_version": "1.2.0",
            "_view_count": null,
            "flex_flow": null,
            "width": null,
            "min_width": null,
            "border": null,
            "align_items": null,
            "bottom": null,
            "_model_module": "@jupyter-widgets/base",
            "top": null,
            "grid_column": null,
            "overflow_y": null,
            "overflow_x": null,
            "grid_auto_flow": null,
            "grid_area": null,
            "grid_template_columns": null,
            "flex": null,
            "_model_name": "LayoutModel",
            "justify_items": null,
            "grid_row": null,
            "max_height": null,
            "align_content": null,
            "visibility": null,
            "align_self": null,
            "height": null,
            "min_height": null,
            "padding": null,
            "grid_auto_rows": null,
            "grid_gap": null,
            "max_width": null,
            "order": null,
            "_view_module_version": "1.2.0",
            "grid_template_areas": null,
            "object_position": null,
            "object_fit": null,
            "grid_auto_columns": null,
            "margin": null,
            "display": null,
            "left": null
          }
        },
        "548fe53e9d8d46d687eee995a6598ddb": {
          "model_module": "@jupyter-widgets/controls",
          "model_name": "ProgressStyleModel",
          "state": {
            "_view_name": "StyleView",
            "_model_name": "ProgressStyleModel",
            "description_width": "",
            "_view_module": "@jupyter-widgets/base",
            "_model_module_version": "1.5.0",
            "_view_count": null,
            "_view_module_version": "1.2.0",
            "bar_color": null,
            "_model_module": "@jupyter-widgets/controls"
          }
        },
        "5ad00ed7b1d04fccad7b777df8d88229": {
          "model_module": "@jupyter-widgets/base",
          "model_name": "LayoutModel",
          "state": {
            "_view_name": "LayoutView",
            "grid_template_rows": null,
            "right": null,
            "justify_content": null,
            "_view_module": "@jupyter-widgets/base",
            "overflow": null,
            "_model_module_version": "1.2.0",
            "_view_count": null,
            "flex_flow": null,
            "width": null,
            "min_width": null,
            "border": null,
            "align_items": null,
            "bottom": null,
            "_model_module": "@jupyter-widgets/base",
            "top": null,
            "grid_column": null,
            "overflow_y": null,
            "overflow_x": null,
            "grid_auto_flow": null,
            "grid_area": null,
            "grid_template_columns": null,
            "flex": null,
            "_model_name": "LayoutModel",
            "justify_items": null,
            "grid_row": null,
            "max_height": null,
            "align_content": null,
            "visibility": null,
            "align_self": null,
            "height": null,
            "min_height": null,
            "padding": null,
            "grid_auto_rows": null,
            "grid_gap": null,
            "max_width": null,
            "order": null,
            "_view_module_version": "1.2.0",
            "grid_template_areas": null,
            "object_position": null,
            "object_fit": null,
            "grid_auto_columns": null,
            "margin": null,
            "display": null,
            "left": null
          }
        },
        "08be33912650469da8e2b02906b5f49a": {
          "model_module": "@jupyter-widgets/controls",
          "model_name": "VBoxModel",
          "state": {
            "_view_name": "VBoxView",
            "_dom_classes": [],
            "_model_name": "VBoxModel",
            "_view_module": "@jupyter-widgets/controls",
            "_model_module_version": "1.5.0",
            "_view_count": null,
            "_view_module_version": "1.5.0",
            "box_style": "",
            "layout": "IPY_MODEL_106107a7f7a1482aa74809859f49d4ae",
            "_model_module": "@jupyter-widgets/controls",
            "children": [
              "IPY_MODEL_787b47048ce84e9591ee7c0e85752461",
              "IPY_MODEL_c22efd3d420e43d98968da2b1211547b"
            ]
          }
        },
        "106107a7f7a1482aa74809859f49d4ae": {
          "model_module": "@jupyter-widgets/base",
          "model_name": "LayoutModel",
          "state": {
            "_view_name": "LayoutView",
            "grid_template_rows": null,
            "right": null,
            "justify_content": null,
            "_view_module": "@jupyter-widgets/base",
            "overflow": null,
            "_model_module_version": "1.2.0",
            "_view_count": null,
            "flex_flow": null,
            "width": null,
            "min_width": null,
            "border": null,
            "align_items": null,
            "bottom": null,
            "_model_module": "@jupyter-widgets/base",
            "top": null,
            "grid_column": null,
            "overflow_y": null,
            "overflow_x": null,
            "grid_auto_flow": null,
            "grid_area": null,
            "grid_template_columns": null,
            "flex": null,
            "_model_name": "LayoutModel",
            "justify_items": null,
            "grid_row": null,
            "max_height": null,
            "align_content": null,
            "visibility": null,
            "align_self": null,
            "height": null,
            "min_height": null,
            "padding": null,
            "grid_auto_rows": null,
            "grid_gap": null,
            "max_width": null,
            "order": null,
            "_view_module_version": "1.2.0",
            "grid_template_areas": null,
            "object_position": null,
            "object_fit": null,
            "grid_auto_columns": null,
            "margin": null,
            "display": null,
            "left": null
          }
        },
        "787b47048ce84e9591ee7c0e85752461": {
          "model_module": "@jupyter-widgets/controls",
          "model_name": "LabelModel",
          "state": {
            "_view_name": "LabelView",
            "style": "IPY_MODEL_a8145e52b0b94b0ba4dfb18d9b2fe9e4",
            "_dom_classes": [],
            "description": "",
            "_model_name": "LabelModel",
            "placeholder": "​",
            "_view_module": "@jupyter-widgets/controls",
            "_model_module_version": "1.5.0",
            "value": " 0.01MB of 0.01MB uploaded (0.00MB deduped)\r",
            "_view_count": null,
            "_view_module_version": "1.5.0",
            "description_tooltip": null,
            "_model_module": "@jupyter-widgets/controls",
            "layout": "IPY_MODEL_b089e258d5a047948f6da17226409f56"
          }
        },
        "c22efd3d420e43d98968da2b1211547b": {
          "model_module": "@jupyter-widgets/controls",
          "model_name": "FloatProgressModel",
          "state": {
            "_view_name": "ProgressView",
            "style": "IPY_MODEL_61ed2e3bf30348c6bdd32fafd3c38fd8",
            "_dom_classes": [],
            "description": "",
            "_model_name": "FloatProgressModel",
            "bar_style": "",
            "max": 1,
            "_view_module": "@jupyter-widgets/controls",
            "_model_module_version": "1.5.0",
            "value": 1,
            "_view_count": null,
            "_view_module_version": "1.5.0",
            "orientation": "horizontal",
            "min": 0,
            "description_tooltip": null,
            "_model_module": "@jupyter-widgets/controls",
            "layout": "IPY_MODEL_a0e2f102123f456aafcc861959f9cc7c"
          }
        },
        "a8145e52b0b94b0ba4dfb18d9b2fe9e4": {
          "model_module": "@jupyter-widgets/controls",
          "model_name": "DescriptionStyleModel",
          "state": {
            "_view_name": "StyleView",
            "_model_name": "DescriptionStyleModel",
            "description_width": "",
            "_view_module": "@jupyter-widgets/base",
            "_model_module_version": "1.5.0",
            "_view_count": null,
            "_view_module_version": "1.2.0",
            "_model_module": "@jupyter-widgets/controls"
          }
        },
        "b089e258d5a047948f6da17226409f56": {
          "model_module": "@jupyter-widgets/base",
          "model_name": "LayoutModel",
          "state": {
            "_view_name": "LayoutView",
            "grid_template_rows": null,
            "right": null,
            "justify_content": null,
            "_view_module": "@jupyter-widgets/base",
            "overflow": null,
            "_model_module_version": "1.2.0",
            "_view_count": null,
            "flex_flow": null,
            "width": null,
            "min_width": null,
            "border": null,
            "align_items": null,
            "bottom": null,
            "_model_module": "@jupyter-widgets/base",
            "top": null,
            "grid_column": null,
            "overflow_y": null,
            "overflow_x": null,
            "grid_auto_flow": null,
            "grid_area": null,
            "grid_template_columns": null,
            "flex": null,
            "_model_name": "LayoutModel",
            "justify_items": null,
            "grid_row": null,
            "max_height": null,
            "align_content": null,
            "visibility": null,
            "align_self": null,
            "height": null,
            "min_height": null,
            "padding": null,
            "grid_auto_rows": null,
            "grid_gap": null,
            "max_width": null,
            "order": null,
            "_view_module_version": "1.2.0",
            "grid_template_areas": null,
            "object_position": null,
            "object_fit": null,
            "grid_auto_columns": null,
            "margin": null,
            "display": null,
            "left": null
          }
        },
        "61ed2e3bf30348c6bdd32fafd3c38fd8": {
          "model_module": "@jupyter-widgets/controls",
          "model_name": "ProgressStyleModel",
          "state": {
            "_view_name": "StyleView",
            "_model_name": "ProgressStyleModel",
            "description_width": "",
            "_view_module": "@jupyter-widgets/base",
            "_model_module_version": "1.5.0",
            "_view_count": null,
            "_view_module_version": "1.2.0",
            "bar_color": null,
            "_model_module": "@jupyter-widgets/controls"
          }
        },
        "a0e2f102123f456aafcc861959f9cc7c": {
          "model_module": "@jupyter-widgets/base",
          "model_name": "LayoutModel",
          "state": {
            "_view_name": "LayoutView",
            "grid_template_rows": null,
            "right": null,
            "justify_content": null,
            "_view_module": "@jupyter-widgets/base",
            "overflow": null,
            "_model_module_version": "1.2.0",
            "_view_count": null,
            "flex_flow": null,
            "width": null,
            "min_width": null,
            "border": null,
            "align_items": null,
            "bottom": null,
            "_model_module": "@jupyter-widgets/base",
            "top": null,
            "grid_column": null,
            "overflow_y": null,
            "overflow_x": null,
            "grid_auto_flow": null,
            "grid_area": null,
            "grid_template_columns": null,
            "flex": null,
            "_model_name": "LayoutModel",
            "justify_items": null,
            "grid_row": null,
            "max_height": null,
            "align_content": null,
            "visibility": null,
            "align_self": null,
            "height": null,
            "min_height": null,
            "padding": null,
            "grid_auto_rows": null,
            "grid_gap": null,
            "max_width": null,
            "order": null,
            "_view_module_version": "1.2.0",
            "grid_template_areas": null,
            "object_position": null,
            "object_fit": null,
            "grid_auto_columns": null,
            "margin": null,
            "display": null,
            "left": null
          }
        },
        "07383cc8584e4a4999232303b936014f": {
          "model_module": "@jupyter-widgets/controls",
          "model_name": "VBoxModel",
          "state": {
            "_view_name": "VBoxView",
            "_dom_classes": [],
            "_model_name": "VBoxModel",
            "_view_module": "@jupyter-widgets/controls",
            "_model_module_version": "1.5.0",
            "_view_count": null,
            "_view_module_version": "1.5.0",
            "box_style": "",
            "layout": "IPY_MODEL_c84b88589f424b4695c8b885ad337a34",
            "_model_module": "@jupyter-widgets/controls",
            "children": [
              "IPY_MODEL_0463555477064264b3c845cad9ee0a5a",
              "IPY_MODEL_63bd2ebc4b79452cb0197055d9afda9b"
            ]
          }
        },
        "c84b88589f424b4695c8b885ad337a34": {
          "model_module": "@jupyter-widgets/base",
          "model_name": "LayoutModel",
          "state": {
            "_view_name": "LayoutView",
            "grid_template_rows": null,
            "right": null,
            "justify_content": null,
            "_view_module": "@jupyter-widgets/base",
            "overflow": null,
            "_model_module_version": "1.2.0",
            "_view_count": null,
            "flex_flow": null,
            "width": null,
            "min_width": null,
            "border": null,
            "align_items": null,
            "bottom": null,
            "_model_module": "@jupyter-widgets/base",
            "top": null,
            "grid_column": null,
            "overflow_y": null,
            "overflow_x": null,
            "grid_auto_flow": null,
            "grid_area": null,
            "grid_template_columns": null,
            "flex": null,
            "_model_name": "LayoutModel",
            "justify_items": null,
            "grid_row": null,
            "max_height": null,
            "align_content": null,
            "visibility": null,
            "align_self": null,
            "height": null,
            "min_height": null,
            "padding": null,
            "grid_auto_rows": null,
            "grid_gap": null,
            "max_width": null,
            "order": null,
            "_view_module_version": "1.2.0",
            "grid_template_areas": null,
            "object_position": null,
            "object_fit": null,
            "grid_auto_columns": null,
            "margin": null,
            "display": null,
            "left": null
          }
        },
        "0463555477064264b3c845cad9ee0a5a": {
          "model_module": "@jupyter-widgets/controls",
          "model_name": "LabelModel",
          "state": {
            "_view_name": "LabelView",
            "style": "IPY_MODEL_5ca5bf6eb313408aa3118e822a30bdb4",
            "_dom_classes": [],
            "description": "",
            "_model_name": "LabelModel",
            "placeholder": "​",
            "_view_module": "@jupyter-widgets/controls",
            "_model_module_version": "1.5.0",
            "value": " 0.01MB of 0.01MB uploaded (0.00MB deduped)\r",
            "_view_count": null,
            "_view_module_version": "1.5.0",
            "description_tooltip": null,
            "_model_module": "@jupyter-widgets/controls",
            "layout": "IPY_MODEL_52fdadeac2104aa4ac59df1da5e1bc09"
          }
        },
        "63bd2ebc4b79452cb0197055d9afda9b": {
          "model_module": "@jupyter-widgets/controls",
          "model_name": "FloatProgressModel",
          "state": {
            "_view_name": "ProgressView",
            "style": "IPY_MODEL_bb14b2768bd840c9a356d6fb9686c60c",
            "_dom_classes": [],
            "description": "",
            "_model_name": "FloatProgressModel",
            "bar_style": "",
            "max": 1,
            "_view_module": "@jupyter-widgets/controls",
            "_model_module_version": "1.5.0",
            "value": 1,
            "_view_count": null,
            "_view_module_version": "1.5.0",
            "orientation": "horizontal",
            "min": 0,
            "description_tooltip": null,
            "_model_module": "@jupyter-widgets/controls",
            "layout": "IPY_MODEL_3340568f924b432fae246834b82e14e6"
          }
        },
        "5ca5bf6eb313408aa3118e822a30bdb4": {
          "model_module": "@jupyter-widgets/controls",
          "model_name": "DescriptionStyleModel",
          "state": {
            "_view_name": "StyleView",
            "_model_name": "DescriptionStyleModel",
            "description_width": "",
            "_view_module": "@jupyter-widgets/base",
            "_model_module_version": "1.5.0",
            "_view_count": null,
            "_view_module_version": "1.2.0",
            "_model_module": "@jupyter-widgets/controls"
          }
        },
        "52fdadeac2104aa4ac59df1da5e1bc09": {
          "model_module": "@jupyter-widgets/base",
          "model_name": "LayoutModel",
          "state": {
            "_view_name": "LayoutView",
            "grid_template_rows": null,
            "right": null,
            "justify_content": null,
            "_view_module": "@jupyter-widgets/base",
            "overflow": null,
            "_model_module_version": "1.2.0",
            "_view_count": null,
            "flex_flow": null,
            "width": null,
            "min_width": null,
            "border": null,
            "align_items": null,
            "bottom": null,
            "_model_module": "@jupyter-widgets/base",
            "top": null,
            "grid_column": null,
            "overflow_y": null,
            "overflow_x": null,
            "grid_auto_flow": null,
            "grid_area": null,
            "grid_template_columns": null,
            "flex": null,
            "_model_name": "LayoutModel",
            "justify_items": null,
            "grid_row": null,
            "max_height": null,
            "align_content": null,
            "visibility": null,
            "align_self": null,
            "height": null,
            "min_height": null,
            "padding": null,
            "grid_auto_rows": null,
            "grid_gap": null,
            "max_width": null,
            "order": null,
            "_view_module_version": "1.2.0",
            "grid_template_areas": null,
            "object_position": null,
            "object_fit": null,
            "grid_auto_columns": null,
            "margin": null,
            "display": null,
            "left": null
          }
        },
        "bb14b2768bd840c9a356d6fb9686c60c": {
          "model_module": "@jupyter-widgets/controls",
          "model_name": "ProgressStyleModel",
          "state": {
            "_view_name": "StyleView",
            "_model_name": "ProgressStyleModel",
            "description_width": "",
            "_view_module": "@jupyter-widgets/base",
            "_model_module_version": "1.5.0",
            "_view_count": null,
            "_view_module_version": "1.2.0",
            "bar_color": null,
            "_model_module": "@jupyter-widgets/controls"
          }
        },
        "3340568f924b432fae246834b82e14e6": {
          "model_module": "@jupyter-widgets/base",
          "model_name": "LayoutModel",
          "state": {
            "_view_name": "LayoutView",
            "grid_template_rows": null,
            "right": null,
            "justify_content": null,
            "_view_module": "@jupyter-widgets/base",
            "overflow": null,
            "_model_module_version": "1.2.0",
            "_view_count": null,
            "flex_flow": null,
            "width": null,
            "min_width": null,
            "border": null,
            "align_items": null,
            "bottom": null,
            "_model_module": "@jupyter-widgets/base",
            "top": null,
            "grid_column": null,
            "overflow_y": null,
            "overflow_x": null,
            "grid_auto_flow": null,
            "grid_area": null,
            "grid_template_columns": null,
            "flex": null,
            "_model_name": "LayoutModel",
            "justify_items": null,
            "grid_row": null,
            "max_height": null,
            "align_content": null,
            "visibility": null,
            "align_self": null,
            "height": null,
            "min_height": null,
            "padding": null,
            "grid_auto_rows": null,
            "grid_gap": null,
            "max_width": null,
            "order": null,
            "_view_module_version": "1.2.0",
            "grid_template_areas": null,
            "object_position": null,
            "object_fit": null,
            "grid_auto_columns": null,
            "margin": null,
            "display": null,
            "left": null
          }
        },
        "c918e3dd96e341dd851ea814a63c28ac": {
          "model_module": "@jupyter-widgets/controls",
          "model_name": "VBoxModel",
          "state": {
            "_view_name": "VBoxView",
            "_dom_classes": [],
            "_model_name": "VBoxModel",
            "_view_module": "@jupyter-widgets/controls",
            "_model_module_version": "1.5.0",
            "_view_count": null,
            "_view_module_version": "1.5.0",
            "box_style": "",
            "layout": "IPY_MODEL_3b976295b8d64d0da24f77c135b326b1",
            "_model_module": "@jupyter-widgets/controls",
            "children": [
              "IPY_MODEL_9f98ef94862a49b0b66b033bf0829b4b",
              "IPY_MODEL_7adf442ce0f44217ac941cbe3e743ec7"
            ]
          }
        },
        "3b976295b8d64d0da24f77c135b326b1": {
          "model_module": "@jupyter-widgets/base",
          "model_name": "LayoutModel",
          "state": {
            "_view_name": "LayoutView",
            "grid_template_rows": null,
            "right": null,
            "justify_content": null,
            "_view_module": "@jupyter-widgets/base",
            "overflow": null,
            "_model_module_version": "1.2.0",
            "_view_count": null,
            "flex_flow": null,
            "width": null,
            "min_width": null,
            "border": null,
            "align_items": null,
            "bottom": null,
            "_model_module": "@jupyter-widgets/base",
            "top": null,
            "grid_column": null,
            "overflow_y": null,
            "overflow_x": null,
            "grid_auto_flow": null,
            "grid_area": null,
            "grid_template_columns": null,
            "flex": null,
            "_model_name": "LayoutModel",
            "justify_items": null,
            "grid_row": null,
            "max_height": null,
            "align_content": null,
            "visibility": null,
            "align_self": null,
            "height": null,
            "min_height": null,
            "padding": null,
            "grid_auto_rows": null,
            "grid_gap": null,
            "max_width": null,
            "order": null,
            "_view_module_version": "1.2.0",
            "grid_template_areas": null,
            "object_position": null,
            "object_fit": null,
            "grid_auto_columns": null,
            "margin": null,
            "display": null,
            "left": null
          }
        },
        "9f98ef94862a49b0b66b033bf0829b4b": {
          "model_module": "@jupyter-widgets/controls",
          "model_name": "LabelModel",
          "state": {
            "_view_name": "LabelView",
            "style": "IPY_MODEL_a406b95d07b548b2a2c0f993a24c7de9",
            "_dom_classes": [],
            "description": "",
            "_model_name": "LabelModel",
            "placeholder": "​",
            "_view_module": "@jupyter-widgets/controls",
            "_model_module_version": "1.5.0",
            "value": " 0.01MB of 0.01MB uploaded (0.00MB deduped)\r",
            "_view_count": null,
            "_view_module_version": "1.5.0",
            "description_tooltip": null,
            "_model_module": "@jupyter-widgets/controls",
            "layout": "IPY_MODEL_fca1fdfe827b4532a52724012c4d1dd1"
          }
        },
        "7adf442ce0f44217ac941cbe3e743ec7": {
          "model_module": "@jupyter-widgets/controls",
          "model_name": "FloatProgressModel",
          "state": {
            "_view_name": "ProgressView",
            "style": "IPY_MODEL_4d2d2020c86e4a9696cc3af2a1548e20",
            "_dom_classes": [],
            "description": "",
            "_model_name": "FloatProgressModel",
            "bar_style": "",
            "max": 1,
            "_view_module": "@jupyter-widgets/controls",
            "_model_module_version": "1.5.0",
            "value": 1,
            "_view_count": null,
            "_view_module_version": "1.5.0",
            "orientation": "horizontal",
            "min": 0,
            "description_tooltip": null,
            "_model_module": "@jupyter-widgets/controls",
            "layout": "IPY_MODEL_1928e4bfece74be4acd907bda9a1066e"
          }
        },
        "a406b95d07b548b2a2c0f993a24c7de9": {
          "model_module": "@jupyter-widgets/controls",
          "model_name": "DescriptionStyleModel",
          "state": {
            "_view_name": "StyleView",
            "_model_name": "DescriptionStyleModel",
            "description_width": "",
            "_view_module": "@jupyter-widgets/base",
            "_model_module_version": "1.5.0",
            "_view_count": null,
            "_view_module_version": "1.2.0",
            "_model_module": "@jupyter-widgets/controls"
          }
        },
        "fca1fdfe827b4532a52724012c4d1dd1": {
          "model_module": "@jupyter-widgets/base",
          "model_name": "LayoutModel",
          "state": {
            "_view_name": "LayoutView",
            "grid_template_rows": null,
            "right": null,
            "justify_content": null,
            "_view_module": "@jupyter-widgets/base",
            "overflow": null,
            "_model_module_version": "1.2.0",
            "_view_count": null,
            "flex_flow": null,
            "width": null,
            "min_width": null,
            "border": null,
            "align_items": null,
            "bottom": null,
            "_model_module": "@jupyter-widgets/base",
            "top": null,
            "grid_column": null,
            "overflow_y": null,
            "overflow_x": null,
            "grid_auto_flow": null,
            "grid_area": null,
            "grid_template_columns": null,
            "flex": null,
            "_model_name": "LayoutModel",
            "justify_items": null,
            "grid_row": null,
            "max_height": null,
            "align_content": null,
            "visibility": null,
            "align_self": null,
            "height": null,
            "min_height": null,
            "padding": null,
            "grid_auto_rows": null,
            "grid_gap": null,
            "max_width": null,
            "order": null,
            "_view_module_version": "1.2.0",
            "grid_template_areas": null,
            "object_position": null,
            "object_fit": null,
            "grid_auto_columns": null,
            "margin": null,
            "display": null,
            "left": null
          }
        },
        "4d2d2020c86e4a9696cc3af2a1548e20": {
          "model_module": "@jupyter-widgets/controls",
          "model_name": "ProgressStyleModel",
          "state": {
            "_view_name": "StyleView",
            "_model_name": "ProgressStyleModel",
            "description_width": "",
            "_view_module": "@jupyter-widgets/base",
            "_model_module_version": "1.5.0",
            "_view_count": null,
            "_view_module_version": "1.2.0",
            "bar_color": null,
            "_model_module": "@jupyter-widgets/controls"
          }
        },
        "1928e4bfece74be4acd907bda9a1066e": {
          "model_module": "@jupyter-widgets/base",
          "model_name": "LayoutModel",
          "state": {
            "_view_name": "LayoutView",
            "grid_template_rows": null,
            "right": null,
            "justify_content": null,
            "_view_module": "@jupyter-widgets/base",
            "overflow": null,
            "_model_module_version": "1.2.0",
            "_view_count": null,
            "flex_flow": null,
            "width": null,
            "min_width": null,
            "border": null,
            "align_items": null,
            "bottom": null,
            "_model_module": "@jupyter-widgets/base",
            "top": null,
            "grid_column": null,
            "overflow_y": null,
            "overflow_x": null,
            "grid_auto_flow": null,
            "grid_area": null,
            "grid_template_columns": null,
            "flex": null,
            "_model_name": "LayoutModel",
            "justify_items": null,
            "grid_row": null,
            "max_height": null,
            "align_content": null,
            "visibility": null,
            "align_self": null,
            "height": null,
            "min_height": null,
            "padding": null,
            "grid_auto_rows": null,
            "grid_gap": null,
            "max_width": null,
            "order": null,
            "_view_module_version": "1.2.0",
            "grid_template_areas": null,
            "object_position": null,
            "object_fit": null,
            "grid_auto_columns": null,
            "margin": null,
            "display": null,
            "left": null
          }
        }
      }
    }
  },
  "cells": [
    {
      "cell_type": "markdown",
      "metadata": {
        "id": "view-in-github",
        "colab_type": "text"
      },
      "source": [
        "<a href=\"https://colab.research.google.com/github/khare19yash/Automated-Detection-of-Neuropsychiatric-Disorders/blob/master/ASD_DiagNet_new.ipynb\" target=\"_parent\"><img src=\"https://colab.research.google.com/assets/colab-badge.svg\" alt=\"Open In Colab\"/></a>"
      ]
    },
    {
      "cell_type": "code",
      "metadata": {
        "id": "BCjlKgCqGzqF",
        "outputId": "73085929-c783-43e0-8b52-ea471ffd139e",
        "colab": {
          "base_uri": "https://localhost:8080/",
          "height": 34
        }
      },
      "source": [
        "from google.colab import drive \n",
        "drive.mount('/content/gdrive') "
      ],
      "execution_count": 1,
      "outputs": [
        {
          "output_type": "stream",
          "text": [
            "Mounted at /content/gdrive\n"
          ],
          "name": "stdout"
        }
      ]
    },
    {
      "cell_type": "code",
      "metadata": {
        "id": "L2N4wSYiHHlW",
        "outputId": "c9bb595c-d315-4acf-cbb9-57534c6be362",
        "colab": {
          "base_uri": "https://localhost:8080/",
          "height": 34
        }
      },
      "source": [
        "cd gdrive/My Drive/IIITH_Internship/Neuro/ASD"
      ],
      "execution_count": 2,
      "outputs": [
        {
          "output_type": "stream",
          "text": [
            "/content/gdrive/My Drive/IIITH_Internship/Neuro/ASD\n"
          ],
          "name": "stdout"
        }
      ]
    },
    {
      "cell_type": "markdown",
      "metadata": {
        "id": "O5LBLlNXqR2K"
      },
      "source": [
        "### Downloading AAL data"
      ]
    },
    {
      "cell_type": "code",
      "metadata": {
        "id": "L4_RnGSqko6o"
      },
      "source": [
        "!pip install nilearn\n",
        "import nilearn\n",
        "nilearn.datasets.fetch_abide_pcp(data_dir='./Dataset', n_subjects=None, pipeline='cpac', band_pass_filtering=True, global_signal_regression=True, derivatives = 'rois_aal', quality_checked=True)"
      ],
      "execution_count": null,
      "outputs": []
    },
    {
      "cell_type": "markdown",
      "metadata": {
        "id": "AMANrYMnqVa3"
      },
      "source": [
        "### Declaring variables"
      ]
    },
    {
      "cell_type": "code",
      "metadata": {
        "tags": [
          "parameters"
        ],
        "id": "UkRuiSLoC5d3"
      },
      "source": [
        "#options: cc200, dosenbach160, aal\n",
        "p_ROI = \"cc200-ho\"\n",
        "p_fold = 10\n",
        "p_center = \"Stanford\"\n",
        "p_mode = \"whole\"\n",
        "p_augmentation = False\n",
        "p_Method = \"ASD-DiagNet\""
      ],
      "execution_count": 3,
      "outputs": []
    },
    {
      "cell_type": "code",
      "metadata": {
        "id": "QszfZVScC5eY",
        "outputId": "9459937e-8131-4663-ba96-2b6770c1e6d9",
        "colab": {
          "base_uri": "https://localhost:8080/",
          "height": 104
        }
      },
      "source": [
        "parameter_list = [p_ROI,p_fold,p_center,p_mode,p_augmentation,p_Method]\n",
        "print(\"*****List of patameters****\")\n",
        "print(\"ROI atlas: \",p_ROI)\n",
        "print(\"per Center or whole: \",p_mode)\n",
        "if p_mode == 'percenter':\n",
        "    print(\"Center's name: \",p_center)\n",
        "print(\"Method's name: \",p_Method)\n",
        "if p_Method == \"ASD-DiagNet\":\n",
        "    print(\"Augmentation: \",p_augmentation)"
      ],
      "execution_count": 4,
      "outputs": [
        {
          "output_type": "stream",
          "text": [
            "*****List of patameters****\n",
            "ROI atlas:  cc200-ho\n",
            "per Center or whole:  whole\n",
            "Method's name:  ASD-DiagNet\n",
            "Augmentation:  False\n"
          ],
          "name": "stdout"
        }
      ]
    },
    {
      "cell_type": "markdown",
      "metadata": {
        "id": "z-Tw3PxZqby3"
      },
      "source": [
        "### Installing Wandb and pyprind"
      ]
    },
    {
      "cell_type": "code",
      "metadata": {
        "id": "B7aOaenuHsrH",
        "outputId": "72ac2d7a-4c2f-479c-c394-dd55c15086be",
        "colab": {
          "base_uri": "https://localhost:8080/"
        }
      },
      "source": [
        "!pip install wandb"
      ],
      "execution_count": null,
      "outputs": [
        {
          "output_type": "stream",
          "text": [
            "Collecting wandb\n",
            "\u001b[?25l  Downloading https://files.pythonhosted.org/packages/af/5a/59c6f39d8aceb2c38d6090f947fd77c1cedddf44b1be728d1ae682d09d15/wandb-0.10.7-py2.py3-none-any.whl (1.7MB)\n",
            "\u001b[K     |████████████████████████████████| 1.7MB 2.8MB/s \n",
            "\u001b[?25hCollecting shortuuid>=0.5.0\n",
            "  Downloading https://files.pythonhosted.org/packages/25/a6/2ecc1daa6a304e7f1b216f0896b26156b78e7c38e1211e9b798b4716c53d/shortuuid-1.0.1-py3-none-any.whl\n",
            "Requirement already satisfied: psutil>=5.0.0 in /usr/local/lib/python3.6/dist-packages (from wandb) (5.4.8)\n",
            "Requirement already satisfied: python-dateutil>=2.6.1 in /usr/local/lib/python3.6/dist-packages (from wandb) (2.8.1)\n",
            "Requirement already satisfied: six>=1.13.0 in /usr/local/lib/python3.6/dist-packages (from wandb) (1.15.0)\n",
            "Requirement already satisfied: PyYAML in /usr/local/lib/python3.6/dist-packages (from wandb) (3.13)\n",
            "Collecting sentry-sdk>=0.4.0\n",
            "\u001b[?25l  Downloading https://files.pythonhosted.org/packages/1f/08/5eb320799e3085ccc66ec0fc3360421302803f3b784f74959564dbc6cdc9/sentry_sdk-0.19.0-py2.py3-none-any.whl (120kB)\n",
            "\u001b[K     |████████████████████████████████| 122kB 18.0MB/s \n",
            "\u001b[?25hCollecting configparser>=3.8.1\n",
            "  Downloading https://files.pythonhosted.org/packages/08/b2/ef713e0e67f6e7ec7d59aea3ee78d05b39c15930057e724cc6d362a8c3bb/configparser-5.0.1-py3-none-any.whl\n",
            "Requirement already satisfied: protobuf>=3.12.0 in /usr/local/lib/python3.6/dist-packages (from wandb) (3.12.4)\n",
            "Requirement already satisfied: promise<3,>=2.0 in /usr/local/lib/python3.6/dist-packages (from wandb) (2.3)\n",
            "Requirement already satisfied: Click>=7.0 in /usr/local/lib/python3.6/dist-packages (from wandb) (7.1.2)\n",
            "Collecting docker-pycreds>=0.4.0\n",
            "  Downloading https://files.pythonhosted.org/packages/f5/e8/f6bd1eee09314e7e6dee49cbe2c5e22314ccdb38db16c9fc72d2fa80d054/docker_pycreds-0.4.0-py2.py3-none-any.whl\n",
            "Collecting GitPython>=1.0.0\n",
            "\u001b[?25l  Downloading https://files.pythonhosted.org/packages/c0/d7/b2b0672e0331567157adf9281f41ee731c412ee518ca5e6552c27fa73c91/GitPython-3.1.9-py3-none-any.whl (159kB)\n",
            "\u001b[K     |████████████████████████████████| 163kB 16.9MB/s \n",
            "\u001b[?25hCollecting subprocess32>=3.5.3\n",
            "\u001b[?25l  Downloading https://files.pythonhosted.org/packages/32/c8/564be4d12629b912ea431f1a50eb8b3b9d00f1a0b1ceff17f266be190007/subprocess32-3.5.4.tar.gz (97kB)\n",
            "\u001b[K     |████████████████████████████████| 102kB 8.5MB/s \n",
            "\u001b[?25hCollecting watchdog>=0.8.3\n",
            "\u001b[?25l  Downloading https://files.pythonhosted.org/packages/0e/06/121302598a4fc01aca942d937f4a2c33430b7181137b35758913a8db10ad/watchdog-0.10.3.tar.gz (94kB)\n",
            "\u001b[K     |████████████████████████████████| 102kB 7.5MB/s \n",
            "\u001b[?25hRequirement already satisfied: requests<3,>=2.0.0 in /usr/local/lib/python3.6/dist-packages (from wandb) (2.23.0)\n",
            "Requirement already satisfied: certifi in /usr/local/lib/python3.6/dist-packages (from sentry-sdk>=0.4.0->wandb) (2020.6.20)\n",
            "Requirement already satisfied: urllib3>=1.10.0 in /usr/local/lib/python3.6/dist-packages (from sentry-sdk>=0.4.0->wandb) (1.24.3)\n",
            "Requirement already satisfied: setuptools in /usr/local/lib/python3.6/dist-packages (from protobuf>=3.12.0->wandb) (50.3.0)\n",
            "Collecting gitdb<5,>=4.0.1\n",
            "\u001b[?25l  Downloading https://files.pythonhosted.org/packages/48/11/d1800bca0a3bae820b84b7d813ad1eff15a48a64caea9c823fc8c1b119e8/gitdb-4.0.5-py3-none-any.whl (63kB)\n",
            "\u001b[K     |████████████████████████████████| 71kB 7.8MB/s \n",
            "\u001b[?25hCollecting pathtools>=0.1.1\n",
            "  Downloading https://files.pythonhosted.org/packages/e7/7f/470d6fcdf23f9f3518f6b0b76be9df16dcc8630ad409947f8be2eb0ed13a/pathtools-0.1.2.tar.gz\n",
            "Requirement already satisfied: idna<3,>=2.5 in /usr/local/lib/python3.6/dist-packages (from requests<3,>=2.0.0->wandb) (2.10)\n",
            "Requirement already satisfied: chardet<4,>=3.0.2 in /usr/local/lib/python3.6/dist-packages (from requests<3,>=2.0.0->wandb) (3.0.4)\n",
            "Collecting smmap<4,>=3.0.1\n",
            "  Downloading https://files.pythonhosted.org/packages/b0/9a/4d409a6234eb940e6a78dfdfc66156e7522262f5f2fecca07dc55915952d/smmap-3.0.4-py2.py3-none-any.whl\n",
            "Building wheels for collected packages: subprocess32, watchdog, pathtools\n",
            "  Building wheel for subprocess32 (setup.py) ... \u001b[?25l\u001b[?25hdone\n",
            "  Created wheel for subprocess32: filename=subprocess32-3.5.4-cp36-none-any.whl size=6489 sha256=b4de7bf67230ac037fc303415436d6c96b624b58029648094075d4d20d0ecf31\n",
            "  Stored in directory: /root/.cache/pip/wheels/68/39/1a/5e402bdfdf004af1786c8b853fd92f8c4a04f22aad179654d1\n",
            "  Building wheel for watchdog (setup.py) ... \u001b[?25l\u001b[?25hdone\n",
            "  Created wheel for watchdog: filename=watchdog-0.10.3-cp36-none-any.whl size=73873 sha256=e05d17e76f49765317e75cbbf9252e066de79f96ac6b5889e4cceb6a0b1811bf\n",
            "  Stored in directory: /root/.cache/pip/wheels/a8/1d/38/2c19bb311f67cc7b4d07a2ec5ea36ab1a0a0ea50db994a5bc7\n",
            "  Building wheel for pathtools (setup.py) ... \u001b[?25l\u001b[?25hdone\n",
            "  Created wheel for pathtools: filename=pathtools-0.1.2-cp36-none-any.whl size=8785 sha256=7c3a11ad68c598836473fd8b87518e73d930d2b8ce2245c57d7577e57be4a104\n",
            "  Stored in directory: /root/.cache/pip/wheels/0b/04/79/c3b0c3a0266a3cb4376da31e5bfe8bba0c489246968a68e843\n",
            "Successfully built subprocess32 watchdog pathtools\n",
            "Installing collected packages: shortuuid, sentry-sdk, configparser, docker-pycreds, smmap, gitdb, GitPython, subprocess32, pathtools, watchdog, wandb\n",
            "Successfully installed GitPython-3.1.9 configparser-5.0.1 docker-pycreds-0.4.0 gitdb-4.0.5 pathtools-0.1.2 sentry-sdk-0.19.0 shortuuid-1.0.1 smmap-3.0.4 subprocess32-3.5.4 wandb-0.10.7 watchdog-0.10.3\n"
          ],
          "name": "stdout"
        }
      ]
    },
    {
      "cell_type": "code",
      "metadata": {
        "id": "5retzfXGHu6H",
        "outputId": "00d0ee7b-cc7f-45bc-c74f-715448d575d5",
        "colab": {
          "base_uri": "https://localhost:8080/"
        }
      },
      "source": [
        "!pip install pyprind"
      ],
      "execution_count": null,
      "outputs": [
        {
          "output_type": "stream",
          "text": [
            "Collecting pyprind\n",
            "  Downloading https://files.pythonhosted.org/packages/1e/30/e76fb0c45da8aef49ea8d2a90d4e7a6877b45894c25f12fb961f009a891e/PyPrind-2.11.2-py3-none-any.whl\n",
            "Installing collected packages: pyprind\n",
            "Successfully installed pyprind-2.11.2\n"
          ],
          "name": "stdout"
        }
      ]
    },
    {
      "cell_type": "markdown",
      "metadata": {
        "id": "VL_aoA41qhhn"
      },
      "source": [
        "### Importing Libraries"
      ]
    },
    {
      "cell_type": "code",
      "metadata": {
        "id": "lb7KMXmRC5eg",
        "outputId": "22f15806-89ee-4c36-8297-46684c7efe75",
        "colab": {
          "base_uri": "https://localhost:8080/",
          "height": 375
        }
      },
      "source": [
        "\n",
        "import pandas as pd\n",
        "import numpy as np\n",
        "import matplotlib.pyplot as plt\n",
        "import os\n",
        "from functools import reduce\n",
        "from sklearn.impute import SimpleImputer\n",
        "import time\n",
        "from torch.utils.data import Dataset\n",
        "from torch.utils.data import DataLoader\n",
        "import torch\n",
        "import pyprind\n",
        "import sys\n",
        "import pickle\n",
        "import torch.nn as nn\n",
        "import torch.nn.functional as F\n",
        "from sklearn.model_selection import KFold, StratifiedKFold\n",
        "import torch.optim as optim\n",
        "from sklearn.metrics import confusion_matrix\n",
        "from scipy import stats\n",
        "from sklearn import tree\n",
        "import functools\n",
        "import numpy.ma as ma # for masked arrays\n",
        "import pyprind\n",
        "import random\n",
        "from sklearn.svm import SVC\n",
        "from sklearn.ensemble import RandomForestClassifier\n",
        "import wandb\n",
        "from sklearn.decomposition import PCA\n",
        "\n",
        "\n",
        "# !wandb login 93ff2b234de4902b71d7405831d980f0c3182650"
      ],
      "execution_count": 5,
      "outputs": [
        {
          "output_type": "error",
          "ename": "ModuleNotFoundError",
          "evalue": "ignored",
          "traceback": [
            "\u001b[0;31m---------------------------------------------------------------------------\u001b[0m",
            "\u001b[0;31mModuleNotFoundError\u001b[0m                       Traceback (most recent call last)",
            "\u001b[0;32m<ipython-input-5-a24b616ee31c>\u001b[0m in \u001b[0;36m<module>\u001b[0;34m()\u001b[0m\n\u001b[1;32m     10\u001b[0m \u001b[0;32mfrom\u001b[0m \u001b[0mtorch\u001b[0m\u001b[0;34m.\u001b[0m\u001b[0mutils\u001b[0m\u001b[0;34m.\u001b[0m\u001b[0mdata\u001b[0m \u001b[0;32mimport\u001b[0m \u001b[0mDataLoader\u001b[0m\u001b[0;34m\u001b[0m\u001b[0;34m\u001b[0m\u001b[0m\n\u001b[1;32m     11\u001b[0m \u001b[0;32mimport\u001b[0m \u001b[0mtorch\u001b[0m\u001b[0;34m\u001b[0m\u001b[0;34m\u001b[0m\u001b[0m\n\u001b[0;32m---> 12\u001b[0;31m \u001b[0;32mimport\u001b[0m \u001b[0mpyprind\u001b[0m\u001b[0;34m\u001b[0m\u001b[0;34m\u001b[0m\u001b[0m\n\u001b[0m\u001b[1;32m     13\u001b[0m \u001b[0;32mimport\u001b[0m \u001b[0msys\u001b[0m\u001b[0;34m\u001b[0m\u001b[0;34m\u001b[0m\u001b[0m\n\u001b[1;32m     14\u001b[0m \u001b[0;32mimport\u001b[0m \u001b[0mpickle\u001b[0m\u001b[0;34m\u001b[0m\u001b[0;34m\u001b[0m\u001b[0m\n",
            "\u001b[0;31mModuleNotFoundError\u001b[0m: No module named 'pyprind'",
            "",
            "\u001b[0;31m---------------------------------------------------------------------------\u001b[0;32m\nNOTE: If your import is failing due to a missing package, you can\nmanually install dependencies using either !pip or !apt.\n\nTo view examples of installing some common dependencies, click the\n\"Open Examples\" button below.\n\u001b[0;31m---------------------------------------------------------------------------\u001b[0m\n"
          ]
        }
      ]
    },
    {
      "cell_type": "code",
      "metadata": {
        "id": "0zkKEkOwC5et",
        "outputId": "83276b8f-7332-4b3e-d0b2-164486e63a37",
        "colab": {
          "base_uri": "https://localhost:8080/",
          "height": 34
        }
      },
      "source": [
        "!wandb login 93ff2b234de4902b71d7405831d980f0c3182650"
      ],
      "execution_count": null,
      "outputs": [
        {
          "output_type": "stream",
          "text": [
            "\u001b[34m\u001b[1mwandb\u001b[0m: Appending key for api.wandb.ai to your netrc file: /root/.netrc\n"
          ],
          "name": "stdout"
        }
      ]
    },
    {
      "cell_type": "markdown",
      "metadata": {
        "id": "cMcsMF3HC5fI"
      },
      "source": [
        "## Importing the data "
      ]
    },
    {
      "cell_type": "code",
      "metadata": {
        "id": "zPDgqDPPC5fK"
      },
      "source": [
        "def get_key(filename):\n",
        "    f_split = filename.split('_')\n",
        "    if f_split[3] == 'rois':\n",
        "        key = '_'.join(f_split[0:3]) \n",
        "    else:\n",
        "        key = '_'.join(f_split[0:2])\n",
        "    return key"
      ],
      "execution_count": null,
      "outputs": []
    },
    {
      "cell_type": "code",
      "metadata": {
        "id": "ymP9s0zOC5fP",
        "outputId": "bfe35dc0-1743-429c-dcad-38384ba2bb8b",
        "colab": {
          "base_uri": "https://localhost:8080/",
          "height": 34
        }
      },
      "source": [
        "cc200 = pd.read_csv('./asd-cc200-all.csv')\n",
        "# flist = cc200[cc200['n_timepoints'] >= 1]['FILE_ID']        # Only for DFC\n",
        "flist = cc200['FILE_ID']\n",
        "len(flist)"
      ],
      "execution_count": 6,
      "outputs": [
        {
          "output_type": "execute_result",
          "data": {
            "text/plain": [
              "1035"
            ]
          },
          "metadata": {
            "tags": []
          },
          "execution_count": 6
        }
      ]
    },
    {
      "cell_type": "code",
      "metadata": {
        "id": "SxGgVhuFC5fX",
        "outputId": "5800ead8-ff87-4c64-c6a3-1fd0fa6f1892",
        "colab": {
          "base_uri": "https://localhost:8080/",
          "height": 52
        }
      },
      "source": [
        "data_main_cc200 = './Datasets/ASD_Dataset/CC200'   \n",
        "data_main_cc400 = './Datasets/ASD_Dataset/CC400' \n",
        "data_main_ho = './Datasets/ASD_Dataset/HO'    #cc200'#path to time series data\n",
        "# flist = os.listdir(data_main_path)\n",
        "cc200 = pd.read_csv('./asd-cc200-all.csv')\n",
        "# flist = cc200[cc200['n_timepoints'] >= 116]['FILE_ID']\n",
        "flist = cc200['FILE_ID']\n",
        "flist = flist.tolist()\n",
        "print(len(flist))\n",
        "\n",
        "labels = {}\n",
        "for row in cc200.iterrows():\n",
        "    file_id = row[1]['FILE_ID']\n",
        "    y_label = row[1]['DX_GROUP']\n",
        "    assert(file_id not in labels)\n",
        "    if(file_id in flist) :\n",
        "        labels[file_id] = y_label\n",
        "    \n",
        "print(len(labels))  "
      ],
      "execution_count": 7,
      "outputs": [
        {
          "output_type": "stream",
          "text": [
            "1035\n",
            "1035\n"
          ],
          "name": "stdout"
        }
      ]
    },
    {
      "cell_type": "code",
      "metadata": {
        "id": "0xGwfp_1Uzts",
        "outputId": "0527f5c3-3354-480a-ef93-b02c0ff817df",
        "colab": {
          "base_uri": "https://localhost:8080/",
          "height": 34
        }
      },
      "source": [
        "len(os.listdir(data_main_ho))"
      ],
      "execution_count": null,
      "outputs": [
        {
          "output_type": "execute_result",
          "data": {
            "text/plain": [
              "1035"
            ]
          },
          "metadata": {
            "tags": []
          },
          "execution_count": 14
        }
      ]
    },
    {
      "cell_type": "markdown",
      "metadata": {
        "id": "6XVG5ceFC5fe"
      },
      "source": [
        "### Only in case of DFC"
      ]
    },
    {
      "cell_type": "code",
      "metadata": {
        "id": "K9zeuQM6C5ff"
      },
      "source": [
        "def get_corr(df):\n",
        "    \n",
        "    with np.errstate(invalid=\"ignore\"):\n",
        "        corr = np.nan_to_num(np.corrcoef(df.T))\n",
        "        return corr\n",
        "    \n",
        "def get_dfcWVar(filename, window = 30, stride = 10, phase = 'matrix'):\n",
        "    \n",
        "    \"\"\"\n",
        "    Returns the upper triangular part of Variance of dfc matrix extracted using weighted window approach.\n",
        "    phase : matrix (if u need a correlation matrix)\n",
        "          : 'triu' (if u need upper triangular matrix of correlation matrix)\n",
        "    inputs : timeseries array     (T X n_rois)\n",
        "    output : correleation matrix  (n_windows X n_rois X n_rois)\n",
        "    \"\"\"\n",
        "    for file in os.listdir(data_main_path):\n",
        "        if file.startswith(filename):\n",
        "            data = pd.read_csv(os.path.join(data_main_path, file), sep='\\t')\n",
        "            break  \n",
        "    data = np.array(data)\n",
        "    \n",
        "    n_samples, n_rois = data.shape\n",
        "    dfc = []\n",
        "    size = n_samples - window + 1\n",
        "    \n",
        "    for i in range(0, size, stride) :\n",
        "        # print(i)\n",
        "        df = data[i : i + window , : ]\n",
        "        weights = np.linspace(1 / n_samples, window / n_samples, num = window) # Linearly distributed weights(Weighted Window)\n",
        "        weights = weights[:,np.newaxis]       # run this only in case of weighted window(not for tapered window)\n",
        "        df = weights * df\n",
        "        corr = get_corr(df)\n",
        "        dfc.append(corr)\n",
        "    dfc = np.stack(dfc, axis = 0)\n",
        "    dfcvar = np.var(dfc, axis = 0) \n",
        "    if(phase == 'triu') :\n",
        "            mask = np.invert(np.tri(dfcvar.shape[0], k=-1, dtype=bool))\n",
        "            m = ma.masked_where(mask == 1, mask)\n",
        "            dfcvar = ma.masked_where(m, dfcvar).compressed()\n",
        "            \n",
        "    return dfcvar"
      ],
      "execution_count": null,
      "outputs": []
    },
    {
      "cell_type": "markdown",
      "metadata": {
        "id": "rjngWr64C5fi"
      },
      "source": [
        "### Helper functions for computing correlations"
      ]
    },
    {
      "cell_type": "code",
      "metadata": {
        "id": "JFSLsOVNC5fi"
      },
      "source": [
        "# def get_corr_data(filename):\n",
        "#     # returns upper triangular correlation vector\n",
        "#     for file in os.listdir(data_main_cc200):\n",
        "#         if file.startswith(filename):\n",
        "#             df200 = pd.read_csv(os.path.join(data_main_cc200, file), sep='\\t')\n",
        "#     with np.errstate(invalid=\"ignore\"):\n",
        "#         corr = np.nan_to_num(np.corrcoef(df200.T))\n",
        "#         mask = np.invert(np.tri(corr.shape[0], k=-1, dtype=bool))\n",
        "#         m = ma.masked_where(mask == 1, mask)\n",
        "#         fc200 = ma.masked_where(m, corr).compressed()\n",
        "\n",
        "#     # for file in os.listdir(data_main_cc400):\n",
        "#     #     if file.startswith(filename):\n",
        "#     #         df400 = pd.read_csv(os.path.join(data_main_cc400, file), sep='\\t')\n",
        "            \n",
        "#     # with np.errstate(invalid=\"ignore\"):\n",
        "#     #     corr = np.nan_to_num(np.corrcoef(df400.T))\n",
        "#     #     mask = np.invert(np.tri(corr.shape[0], k=-1, dtype=bool))\n",
        "#     #     m = ma.masked_where(mask == 1, mask)\n",
        "#     #     fc400 =  ma.masked_where(m, corr).compressed()\n",
        "\n",
        "#     for file in os.listdir(data_main_ho):\n",
        "#         if file.startswith(filename):\n",
        "#             dfho = pd.read_csv(os.path.join(data_main_ho, file), sep='\\t')\n",
        "            \n",
        "#     with np.errstate(invalid=\"ignore\"):\n",
        "#         corr = np.nan_to_num(np.corrcoef(dfho.T))\n",
        "#         mask = np.invert(np.tri(corr.shape[0], k=-1, dtype=bool))\n",
        "#         m = ma.masked_where(mask == 1, mask)\n",
        "#         fcho =  ma.masked_where(m, corr).compressed()\n",
        "\n",
        "#     return np.concatenate([fcho, fc200], axis = 0)\n",
        "#     # return fc400\n",
        "\n",
        "def get_corr_data(filename, data_paths):\n",
        "    # returns upper triangular correlation vector\n",
        "    fcs = []\n",
        "    for path in data_paths : \n",
        "        for file in os.listdir(path):\n",
        "            if file.startswith(filename):\n",
        "                df = pd.read_csv(os.path.join(path, file), sep='\\t')\n",
        "        with np.errstate(invalid=\"ignore\"):\n",
        "            corr = np.nan_to_num(np.corrcoef(df.T))\n",
        "            mask = np.invert(np.tri(corr.shape[0], k=-1, dtype=bool))\n",
        "            m = ma.masked_where(mask == 1, mask)\n",
        "            fc = ma.masked_where(m, corr).compressed()\n",
        "        fcs.append(fc)\n",
        "    fcs = np.concatenate(fcs, axis = 0)\n",
        "\n",
        "    return fcs\n",
        "\n",
        "def get_corr_matrix(filename):\n",
        "    # returns correlation matrix\n",
        "    for file in os.listdir(data_main_path):\n",
        "        if file.startswith(filename):\n",
        "            df = pd.read_csv(os.path.join(data_main_path, file), sep='\\t')\n",
        "    with np.errstate(invalid=\"ignore\"):\n",
        "        corr = np.nan_to_num(np.corrcoef(df.T))\n",
        "        return corr\n",
        "\n",
        "\n",
        "def get_label(filename):\n",
        "    assert (filename in labels)\n",
        "    return labels[filename]\n",
        "\n",
        "def confusion(g_turth,predictions):\n",
        "    tn, fp, fn, tp = confusion_matrix(g_turth,predictions).ravel()\n",
        "    accuracy = (tp+tn)/(tp+fp+tn+fn)\n",
        "    sensitivity = (tp)/(tp+fn)\n",
        "    specificty = (tn)/(tn+fp)\n",
        "    return accuracy,sensitivity,specificty\n",
        "\n",
        "def get_regs(samplesnames,regnum):\n",
        "    # returns region index array\n",
        "    datas = []\n",
        "    for sn in samplesnames:\n",
        "        datas.append(all_corr[sn][0])\n",
        "    datas = np.array(datas)     # datas shape len(samplesnames)x19900\n",
        "    avg=[]\n",
        "    for ie in range(datas.shape[1]):\n",
        "        avg.append(np.mean(datas[:,ie]))\n",
        "    avg=np.array(avg)\n",
        "    highs=avg.argsort()[-regnum:][::-1]\n",
        "    lows=avg.argsort()[:regnum][::-1]\n",
        "    regions=np.concatenate((highs,lows),axis=0) # shape (9950,)\n",
        "    return regions\n",
        "  \n",
        "def get_corr_arr(flist, paths, p_ROI):\n",
        "    corr_arr = []\n",
        "    all_corr = get_corr(paths, p_ROI)\n",
        "    for f in flist:\n",
        "        corr_arr.append(all_corr[f][0])\n",
        "\n",
        "    corr_arr = np.stack(corr_arr,axis=0)    \n",
        "    return corr_arr\n"
      ],
      "execution_count": null,
      "outputs": []
    },
    {
      "cell_type": "code",
      "metadata": {
        "id": "xfMAE5eGC5fn",
        "outputId": "4bf5b95f-7da7-47bc-f841-d72608d43ad9",
        "colab": {
          "base_uri": "https://localhost:8080/",
          "height": 34
        }
      },
      "source": [
        "filename =  flist[0]\n",
        "df = get_corr_data(filename, [data_main_ho, data_main_cc200])\n",
        "df.shape"
      ],
      "execution_count": null,
      "outputs": [
        {
          "output_type": "execute_result",
          "data": {
            "text/plain": [
              "(26005,)"
            ]
          },
          "metadata": {
            "tags": []
          },
          "execution_count": 21
        }
      ]
    },
    {
      "cell_type": "markdown",
      "metadata": {
        "id": "gaJc_wKiseM-"
      },
      "source": [
        "### Computing SFC"
      ]
    },
    {
      "cell_type": "code",
      "metadata": {
        "id": "i7mCn9rOC5fs"
      },
      "source": [
        "# all_corr dictionary with key - filename and value - (correlation_data(vector of size 19,900),label)\n",
        "def get_corr(paths, p_ROI):\n",
        "    if not os.path.exists('./correlations_file_triu'+p_ROI+'.pkl'):\n",
        "        pbar=pyprind.ProgBar(len(flist))\n",
        "        all_corr = {}\n",
        "        for f in flist:\n",
        "          \n",
        "            lab = get_label(f)\n",
        "            all_corr[f] = (get_corr_data(f, paths), lab)\n",
        "            pbar.update()\n",
        "\n",
        "        print('Corr-computations finished')\n",
        "\n",
        "        pickle.dump(all_corr, open('./correlations_file_triu'+p_ROI+'.pkl', 'wb'))\n",
        "        print('Saving to file finished')\n",
        "\n",
        "    else:\n",
        "        all_corr = pickle.load(open('./correlations_file_triu'+p_ROI+'.pkl', 'rb'))\n",
        "\n",
        "    return all_corr"
      ],
      "execution_count": null,
      "outputs": []
    },
    {
      "cell_type": "markdown",
      "metadata": {
        "id": "_h35y6GXccL4"
      },
      "source": [
        "### Using PCA on combined atlas"
      ]
    },
    {
      "cell_type": "code",
      "metadata": {
        "id": "6ovkdaRsar1b",
        "outputId": "f6cbc920-2748-4ad4-a8e5-712325b194f3",
        "colab": {
          "base_uri": "https://localhost:8080/",
          "height": 52
        }
      },
      "source": [
        "corr_arr_cc200 = get_corr_arr(flist, [data_main_cc200], 'cc200')\n",
        "corr_arr_ho = get_corr_arr(flist, [data_main_ho], 'ho')\n",
        "print(corr_arr_cc200.shape)\n",
        "print(corr_arr_ho.shape)"
      ],
      "execution_count": null,
      "outputs": [
        {
          "output_type": "stream",
          "text": [
            "(1035, 19900)\n",
            "(1035, 6105)\n"
          ],
          "name": "stdout"
        }
      ]
    },
    {
      "cell_type": "code",
      "metadata": {
        "id": "-Mb6IZvSbQHX"
      },
      "source": [
        "pca = PCA(n_components=1024)\n",
        "corr_arr_cc200 = pca.fit_transform(corr_arr_cc200)\n",
        "corr_arr_ho = pca.fit_transform(corr_arr_ho)"
      ],
      "execution_count": null,
      "outputs": []
    },
    {
      "cell_type": "code",
      "metadata": {
        "id": "SpuvyuWVdBAu",
        "outputId": "95feebc4-28e2-453e-f160-35720f216c97",
        "colab": {
          "base_uri": "https://localhost:8080/",
          "height": 52
        }
      },
      "source": [
        "print(corr_arr_cc200.shape)\n",
        "print(corr_arr_ho.shape)"
      ],
      "execution_count": null,
      "outputs": [
        {
          "output_type": "stream",
          "text": [
            "(1035, 1024)\n",
            "(1035, 1024)\n"
          ],
          "name": "stdout"
        }
      ]
    },
    {
      "cell_type": "code",
      "metadata": {
        "id": "uBW2pzqG4mal",
        "outputId": "62ad872e-044f-4d8e-908f-3f1c82e0694b",
        "colab": {
          "base_uri": "https://localhost:8080/",
          "height": 34
        }
      },
      "source": [
        "corr_arr = np.concatenate([corr_arr_cc200, corr_arr_ho], axis = 1)\n",
        "corr_arr.shape"
      ],
      "execution_count": null,
      "outputs": [
        {
          "output_type": "execute_result",
          "data": {
            "text/plain": [
              "(1035, 2048)"
            ]
          },
          "metadata": {
            "tags": []
          },
          "execution_count": 31
        }
      ]
    },
    {
      "cell_type": "code",
      "metadata": {
        "id": "ggUUnla0c_jJ",
        "outputId": "95fd0307-e173-4dc1-819f-a51ac9931590",
        "colab": {
          "base_uri": "https://localhost:8080/",
          "height": 87
        }
      },
      "source": [
        "# train_correlations_file dictionary with key - filename and value - (correlation_data(vector of size 19,900),label)\n",
        "if not os.path.exists('/correlations_file_separate_pca1024_'+p_ROI+'.pkl'):\n",
        "    pbar=pyprind.ProgBar(len(flist))\n",
        "    all_corr = {}\n",
        "\n",
        "\n",
        "    for i,f in enumerate(flist):\n",
        "        all_corr[f] = (corr_arr[i], get_label(f))\n",
        "        pbar.update()\n",
        "\n",
        "    print('Corr-computations finished')\n",
        "\n",
        "    pickle.dump(all_corr, open('/correlations_file_separate_pca1024_'+p_ROI+'.pkl', 'wb'))\n",
        "    print('Saving to file finished')\n",
        "\n",
        "else:\n",
        "    all_corr = pickle.load(open('/correlations_file_separate_pca1024_'+p_ROI+'.pkl', 'rb'))"
      ],
      "execution_count": null,
      "outputs": [
        {
          "output_type": "stream",
          "text": [
            "0% [##############################] 100% | ETA: 00:00:00"
          ],
          "name": "stderr"
        },
        {
          "output_type": "stream",
          "text": [
            "Corr-computations finished\n",
            "Saving to file finished\n"
          ],
          "name": "stdout"
        },
        {
          "output_type": "stream",
          "text": [
            "\n",
            "Total time elapsed: 00:00:00\n"
          ],
          "name": "stderr"
        }
      ]
    },
    {
      "cell_type": "code",
      "metadata": {
        "id": "uE-4CoIrgv1J",
        "outputId": "e94f4646-89d4-4fa7-fb64-09063ebc0a25",
        "colab": {
          "base_uri": "https://localhost:8080/",
          "height": 52
        }
      },
      "source": [
        "print(all_corr[flist[0]][0].shape)\n",
        "print(len(all_corr))"
      ],
      "execution_count": null,
      "outputs": [
        {
          "output_type": "stream",
          "text": [
            "(2048,)\n",
            "1035\n"
          ],
          "name": "stdout"
        }
      ]
    },
    {
      "cell_type": "markdown",
      "metadata": {
        "id": "YoNL8usFC5fx"
      },
      "source": [
        "### To extract sfc instead of upper triangular matrices"
      ]
    },
    {
      "cell_type": "code",
      "metadata": {
        "id": "Y9TKZKnoC5fx",
        "outputId": "dddccd89-5970-4b15-b437-c328ca2c600d"
      },
      "source": [
        "all_corr = {}\n",
        "for f in flist:\n",
        "\n",
        "    lab = get_label(f)\n",
        "    all_corr[f] = (get_corr_matrix(f), lab)\n",
        "\n",
        "print('Corr-computations finished')"
      ],
      "execution_count": null,
      "outputs": [
        {
          "output_type": "stream",
          "text": [
            "Corr-computations finished\n"
          ],
          "name": "stdout"
        }
      ]
    },
    {
      "cell_type": "markdown",
      "metadata": {
        "id": "iCmPpUGLC5f0"
      },
      "source": [
        "## Computing eigenvalues and eigenvector"
      ]
    },
    {
      "cell_type": "code",
      "metadata": {
        "id": "xjfvzf51C5f1",
        "outputId": "6eb38907-6855-4ca6-e9b3-b6613a11834f",
        "colab": {
          "base_uri": "https://localhost:8080/",
          "height": 52
        }
      },
      "source": [
        "if p_Method==\"ASD-DiagNet\":\n",
        "    eig_data = {}\n",
        "    pbar = pyprind.ProgBar(len(flist))\n",
        "    for f in flist:  \n",
        "        d = get_corr_matrix(f)\n",
        "        eig_vals, eig_vecs = np.linalg.eig(d)\n",
        "\n",
        "        for ev in eig_vecs.T:\n",
        "            np.testing.assert_array_almost_equal(1.0, np.linalg.norm(ev))\n",
        "\n",
        "        sum_eigvals = np.sum(np.abs(eig_vals))\n",
        "        # Make a list of (eigenvalue, eigenvector, norm_eigval) tuples\n",
        "        eig_pairs = [(np.abs(eig_vals[i]), eig_vecs[:,i], np.abs(eig_vals[i])/sum_eigvals)\n",
        "                     for i in range(len(eig_vals))]\n",
        "\n",
        "        # Sort the (eigenvalue, eigenvector) tuples from high to low\n",
        "        eig_pairs.sort(key=lambda x: x[0], reverse=True)\n",
        "\n",
        "        eig_data[f] = {'eigvals':np.array([ep[0] for ep in eig_pairs]),\n",
        "                       'norm-eigvals':np.array([ep[2] for ep in eig_pairs]),\n",
        "                       'eigvecs':[ep[1] for ep in eig_pairs]}\n",
        "        pbar.update()"
      ],
      "execution_count": null,
      "outputs": [
        {
          "output_type": "stream",
          "text": [
            "0% [##############################] 100% | ETA: 00:00:00\n",
            "Total time elapsed: 00:02:31\n"
          ],
          "name": "stderr"
        }
      ]
    },
    {
      "cell_type": "markdown",
      "metadata": {
        "id": "hT8t6yLFC5f4"
      },
      "source": [
        "## Calculating Eros similarity"
      ]
    },
    {
      "cell_type": "code",
      "metadata": {
        "id": "rFr-YK9xC5f4"
      },
      "source": [
        "def norm_weights(sub_flist):\n",
        "    num_dim = len(eig_data[flist[0]]['eigvals'])\n",
        "    norm_weights = np.zeros(shape=num_dim)\n",
        "    for f in sub_flist:\n",
        "        norm_weights += eig_data[f]['norm-eigvals'] \n",
        "    return norm_weights\n",
        "\n",
        "def cal_similarity(d1, d2, weights, lim=None):\n",
        "    res = 0.0\n",
        "    if lim is None:\n",
        "        weights_arr = weights.copy()\n",
        "    else:\n",
        "        weights_arr = weights[:lim].copy()\n",
        "        weights_arr /= np.sum(weights_arr)\n",
        "    for i,w in enumerate(weights_arr):\n",
        "        res += w*np.inner(d1[i], d2[i])\n",
        "    return res"
      ],
      "execution_count": null,
      "outputs": []
    },
    {
      "cell_type": "code",
      "metadata": {
        "id": "K4jkMT-RC5f7",
        "outputId": "95b589fa-aa46-41e0-fcce-f186c2f5f9d1",
        "colab": {
          "base_uri": "https://localhost:8080/",
          "height": 34
        }
      },
      "source": [
        "all_corr[flist[0]][0].shape"
      ],
      "execution_count": null,
      "outputs": [
        {
          "output_type": "execute_result",
          "data": {
            "text/plain": [
              "(19900,)"
            ]
          },
          "metadata": {
            "tags": []
          },
          "execution_count": 29
        }
      ]
    },
    {
      "cell_type": "markdown",
      "metadata": {
        "id": "9KKVTTCwC5f-"
      },
      "source": [
        "## Defining dataset class"
      ]
    },
    {
      "cell_type": "code",
      "metadata": {
        "id": "FgFoM_4WC5f_"
      },
      "source": [
        "class CC200Dataset(Dataset):\n",
        "    def __init__(self, pkl_filename=None, data=None, samples_list=None, \n",
        "                 augmentation=False, aug_factor=1, num_neighbs=5,\n",
        "                 eig_data=None, similarity_fn=None, verbose=False,regs=None):\n",
        "        \n",
        "        self.regs=regs\n",
        "        if pkl_filename is not None:\n",
        "            if verbose:\n",
        "                print ('Loading ..!', end=' ')\n",
        "            self.data = pickle.load(open(pkl_filename, 'rb'))\n",
        "        elif data is not None:\n",
        "            self.data = data.copy()\n",
        "            \n",
        "        else:\n",
        "            sys.stderr.write('Either PKL file or data is needed!')\n",
        "            return \n",
        "\n",
        "        #if verbose:\n",
        "        #    print ('Preprocess..!', end='  ')\n",
        "        if samples_list is None:\n",
        "            self.flist = [f for f in self.data]\n",
        "        else:\n",
        "            self.flist = [f for f in samples_list]\n",
        "        self.labels = np.array([self.data[f][1] for f in self.flist])\n",
        "        \n",
        "        current_flist = np.array(self.flist.copy())\n",
        "        current_lab0_flist = current_flist[self.labels == 0]\n",
        "        current_lab1_flist = current_flist[self.labels == 1]\n",
        "        #if verbose:\n",
        "        #    print(' Num Positive : ', len(current_lab1_flist), end=' ')\n",
        "        #    print(' Num Negative : ', len(current_lab0_flist), end=' ')\n",
        "        \n",
        "        \n",
        "        if augmentation:\n",
        "            self.num_data = aug_factor * len(self.flist)\n",
        "            self.neighbors = {}\n",
        "            pbar = pyprind.ProgBar(len(self.flist))\n",
        "            weights = norm_weights(samples_list)#??\n",
        "            for f in self.flist:\n",
        "                label = self.data[f][1]\n",
        "                candidates = (set(current_lab0_flist) if label == 0 else set(current_lab1_flist))\n",
        "                candidates.remove(f)\n",
        "                eig_f = eig_data[f]['eigvecs']\n",
        "                sim_list = []\n",
        "                for cand in candidates:\n",
        "                    eig_cand = eig_data[cand]['eigvecs']\n",
        "                    sim = similarity_fn(eig_f, eig_cand,weights)\n",
        "                    sim_list.append((sim, cand))\n",
        "                sim_list.sort(key=lambda x: x[0], reverse=True)\n",
        "                self.neighbors[f] = [item[1] for item in sim_list[:num_neighbs]]#list(candidates)#[item[1] for item in sim_list[:num_neighbs]]\n",
        "        \n",
        "        else:\n",
        "            self.num_data = len(self.flist)\n",
        "\n",
        "        \n",
        "    def __getitem__(self, index):\n",
        "        if index < len(self.flist):\n",
        "            fname = self.flist[index]\n",
        "            data = self.data[fname][0].copy() #get_corr_data(fname, mode=cal_mode)    \n",
        "            # data = data[self.regs].copy()\n",
        "            label = (self.labels[index],)\n",
        "            return torch.FloatTensor(data), torch.FloatTensor(label)\n",
        "        else:\n",
        "            f1 = self.flist[index % len(self.flist)]\n",
        "            d1, y1 = self.data[f1][0], self.data[f1][1]\n",
        "            # d1=d1[self.regs]\n",
        "            f2 = np.random.choice(self.neighbors[f1])\n",
        "            d2, y2 = self.data[f2][0], self.data[f2][1]\n",
        "            # d2=d2[self.regs]\n",
        "            assert y1 == y2\n",
        "            r = np.random.uniform(low=0, high=1)\n",
        "            label = (y1,)\n",
        "            data = r*d1 + (1-r)*d2\n",
        "            return torch.FloatTensor(data), torch.FloatTensor(label)\n",
        "\n",
        "    def __len__(self):\n",
        "        return self.num_data"
      ],
      "execution_count": null,
      "outputs": []
    },
    {
      "cell_type": "markdown",
      "metadata": {
        "id": "u2D2ij5jBdwj"
      },
      "source": [
        "### Data Augmentation by flipping the signs of the input"
      ]
    },
    {
      "cell_type": "code",
      "metadata": {
        "id": "BFuMoQ8wA7rr"
      },
      "source": [
        "class CC200Dataset(Dataset):\n",
        "    def __init__(self, pkl_filename=None, data=None, samples_list=None, \n",
        "                 augmentation=False, aug_factor=1, num_neighbs=5,\n",
        "                 eig_data=None, similarity_fn=None, verbose=False,regs=None):\n",
        "        \n",
        "        self.regs=regs\n",
        "        if pkl_filename is not None:\n",
        "            if verbose:\n",
        "                print ('Loading ..!', end=' ')\n",
        "            self.data = pickle.load(open(pkl_filename, 'rb'))\n",
        "        elif data is not None:\n",
        "            self.data = data.copy()\n",
        "            \n",
        "        else:\n",
        "            sys.stderr.write('Either PKL file or data is needed!')\n",
        "            return \n",
        "\n",
        "        #if verbose:\n",
        "        #    print ('Preprocess..!', end='  ')\n",
        "        if samples_list is None:\n",
        "            self.flist = [f for f in self.data]\n",
        "        else:\n",
        "            self.flist = [f for f in samples_list]\n",
        "        self.labels = np.array([self.data[f][1] for f in self.flist])\n",
        "        \n",
        "        current_flist = np.array(self.flist.copy())\n",
        "        current_lab0_flist = current_flist[self.labels == 0]\n",
        "        current_lab1_flist = current_flist[self.labels == 1]\n",
        "        #if verbose:\n",
        "        #    print(' Num Positive : ', len(current_lab1_flist), end=' ')\n",
        "        #    print(' Num Negative : ', len(current_lab0_flist), end=' ')\n",
        "        \n",
        "        \n",
        "        if augmentation:\n",
        "            self.num_data = aug_factor * len(self.flist)\n",
        "            # self.neighbors = {}\n",
        "            # pbar = pyprind.ProgBar(len(self.flist))\n",
        "            # weights = norm_weights(samples_list)#??\n",
        "            # for f in self.flist:\n",
        "            #     label = self.data[f][1]\n",
        "            #     candidates = (set(current_lab0_flist) if label == 0 else set(current_lab1_flist))\n",
        "            #     candidates.remove(f)\n",
        "            #     eig_f = eig_data[f]['eigvecs']\n",
        "            #     sim_list = []\n",
        "            #     for cand in candidates:\n",
        "            #         eig_cand = eig_data[cand]['eigvecs']\n",
        "            #         sim = similarity_fn(eig_f, eig_cand,weights)\n",
        "            #         sim_list.append((sim, cand))\n",
        "            #     sim_list.sort(key=lambda x: x[0], reverse=True)\n",
        "            #     self.neighbors[f] = [item[1] for item in sim_list[:num_neighbs]]#list(candidates)#[item[1] for item in sim_list[:num_neighbs]]\n",
        "        \n",
        "        else:\n",
        "            self.num_data = len(self.flist)\n",
        "\n",
        "        \n",
        "    def __getitem__(self, index):\n",
        "        if index < len(self.flist):\n",
        "            fname = self.flist[index]\n",
        "            data = self.data[fname][0].copy() #get_corr_data(fname, mode=cal_mode)    \n",
        "            # data = data[self.regs].copy()\n",
        "            label = (self.labels[index],)\n",
        "            return torch.FloatTensor(data), torch.FloatTensor(label)\n",
        "        else:\n",
        "            f1 = self.flist[index % len(self.flist)]\n",
        "            d1, y1 = self.data[f1][0], self.data[f1][1]\n",
        "            # d1=d1[self.regs]\n",
        "            label = (y1,)\n",
        "            data = (-1) * d1\n",
        "            return torch.FloatTensor(data), torch.FloatTensor(label)\n",
        "\n",
        "    def __len__(self):\n",
        "        return self.num_data"
      ],
      "execution_count": null,
      "outputs": []
    },
    {
      "cell_type": "markdown",
      "metadata": {
        "id": "BmwZSMchC5gC"
      },
      "source": [
        "## Definig data loader function"
      ]
    },
    {
      "cell_type": "code",
      "metadata": {
        "id": "F1Q97P7hC5gE"
      },
      "source": [
        "def get_loader(pkl_filename=None, data=None, samples_list=None,\n",
        "               batch_size=64, \n",
        "               num_workers=1, mode='train',\n",
        "               *, augmentation=False, aug_factor=1, num_neighbs=5,\n",
        "                 eig_data=None, similarity_fn=None, verbose=False,regions=None):\n",
        "    \"\"\"Build and return data loader.\"\"\"\n",
        "    if mode == 'train':\n",
        "        shuffle = True\n",
        "    else:\n",
        "        shuffle = False\n",
        "        augmentation=False\n",
        "\n",
        "    dataset = CC200Dataset(pkl_filename=pkl_filename, data=data, samples_list=samples_list,\n",
        "                           augmentation=augmentation, aug_factor=aug_factor, \n",
        "                           eig_data=eig_data, similarity_fn=similarity_fn, verbose=verbose,regs=regions)\n",
        "\n",
        "    data_loader = DataLoader(dataset,\n",
        "                             batch_size=batch_size,\n",
        "                             shuffle=shuffle,\n",
        "                             num_workers=num_workers)\n",
        "  \n",
        "    return data_loader"
      ],
      "execution_count": null,
      "outputs": []
    },
    {
      "cell_type": "markdown",
      "metadata": {
        "id": "y337Vvl2C5gI"
      },
      "source": [
        "## Defining Autoencoder class"
      ]
    },
    {
      "cell_type": "code",
      "metadata": {
        "id": "x0Xt-nJkC5gJ",
        "outputId": "0c9b211a-18ce-453c-c4e9-59421fd25ae5",
        "colab": {
          "base_uri": "https://localhost:8080/",
          "height": 122
        }
      },
      "source": [
        "class MTAutoEncoder(nn.Module):\n",
        "    def __init__(self, num_inputs=990, \n",
        "                 num_latent=200, tied=True,\n",
        "                 num_classes=2, use_dropout=False):\n",
        "        super(MTAutoEncoder, self).__init__()\n",
        "        self.tied = tied\n",
        "        self.num_latent = num_latent\n",
        "        \n",
        "        self.fc_encoder = nn.Linear(num_inputs, num_latent)\n",
        "    \n",
        "        if not tied:\n",
        "            self.fc_decoder = nn.Linear(num_latent, num_inputs)\n",
        "         \n",
        "        self.fc_encoder = nn.Linear(num_inputs, num_latent)\n",
        "        \n",
        "        if use_dropout:\n",
        "            self.classifier = nn.Sequential (\n",
        "                nn.Dropout(p=0.5),\n",
        "                nn.Linear(self.num_latent, 1),\n",
        "                \n",
        "            )\n",
        "        else:\n",
        "            self.classifier = nn.Sequential (\n",
        "                nn.Linear(self.num_latent, 1),\n",
        "            )\n",
        "            \n",
        "         \n",
        "    def forward(self, x, eval_classifier=False):\n",
        "        x = self.fc_encoder(x)\n",
        "        x = torch.tanh(x)\n",
        "        if eval_classifier:\n",
        "            x_logit = self.classifier(x)\n",
        "        else:\n",
        "            x_logit = None\n",
        "        \n",
        "        if self.tied:\n",
        "            x = F.linear(x, self.fc_encoder.weight.t())\n",
        "        else:\n",
        "            x = self.fc_decoder(x)\n",
        "            \n",
        "        return x, x_logit\n",
        "\n",
        "mtae = MTAutoEncoder()\n",
        "\n",
        "mtae"
      ],
      "execution_count": null,
      "outputs": [
        {
          "output_type": "execute_result",
          "data": {
            "text/plain": [
              "MTAutoEncoder(\n",
              "  (fc_encoder): Linear(in_features=990, out_features=200, bias=True)\n",
              "  (classifier): Sequential(\n",
              "    (0): Linear(in_features=200, out_features=1, bias=True)\n",
              "  )\n",
              ")"
            ]
          },
          "metadata": {
            "tags": []
          },
          "execution_count": 37
        }
      ]
    },
    {
      "cell_type": "markdown",
      "metadata": {
        "id": "VLkBYPFKCap7"
      },
      "source": [
        "### First ASD CNN Model"
      ]
    },
    {
      "cell_type": "code",
      "metadata": {
        "id": "zP0CyUntC5gN"
      },
      "source": [
        "class Model(nn.Module):\n",
        "    def __init__(self,conv_kernel_size,pool_kernel_size,drop_prob,num_classes=2):\n",
        "        super(Model,self).__init__()\n",
        "\n",
        "        self.conv_kernel_size = conv_kernel_size\n",
        "        self.pool_kernel_size = pool_kernel_size\n",
        "        self.num_classes = num_classes\n",
        "        self.drop_prob = drop_prob\n",
        "\n",
        "        self.conv2d = []\n",
        "        self.max_pool = []\n",
        "\n",
        "        for conv_kernel, pool_kernel in zip(self.conv_kernel_size, self.pool_kernel_size):\n",
        "          self.conv2d.append(nn.Conv2d(6, 400, conv_kernel, stride=1))\n",
        "          self.max_pool.append(nn.MaxPool2d(pool_kernel, stride=(1,1)))\n",
        "\n",
        "        self.conv2d = nn.ModuleList(self.conv2d)\n",
        "        self.max_pool = nn.ModuleList(self.max_pool)\n",
        "\n",
        "        self.dropout = nn.Dropout2d(self.drop_prob)\n",
        "        self.flatten = nn.Flatten()\n",
        "        self.linear = nn.Linear(2800,self.num_classes)\n",
        "\n",
        "    def forward(self, x):\n",
        "        # forward pass\n",
        "        conv_pool_out = []\n",
        "        for conv, pool in zip(self.conv2d, self.max_pool):\n",
        "            output = pool(torch.tanh(conv(x)))\n",
        "            conv_pool_out.append(output.squeeze(3))\n",
        "        out = torch.cat(conv_pool_out,2)\n",
        "        if self.drop_prob is not None:\n",
        "            out = self.dropout(out)\n",
        "        out = self.flatten(out)\n",
        "        out = self.linear(out)\n",
        "\n",
        "        return out\n",
        "# print(model)\n",
        "# model.to(device)\n",
        "\n",
        "# wandb.watch(model, log='all')      # this logs everything in wandb account\n",
        "\n",
        "# optimizer = optim.Adam(model.parameters(),lr=config.lr)"
      ],
      "execution_count": null,
      "outputs": []
    },
    {
      "cell_type": "markdown",
      "metadata": {
        "id": "4hWuPCGEC5gQ"
      },
      "source": [
        "## Defining training and testing functions"
      ]
    },
    {
      "cell_type": "code",
      "metadata": {
        "id": "LIM0eBYIC5gQ"
      },
      "source": [
        "def train(model, epoch, train_loader, p_bernoulli=None, mode='both', lam_factor=1.0):\n",
        "    model.train()\n",
        "    train_losses = []\n",
        "    clf_train_loss = []\n",
        "    ae_train_loss = []\n",
        "#     bar = tqdm(train_loader, leave = False)\n",
        "    \n",
        "    if mode in ['both', 'clf']:\n",
        "        final_targets = []\n",
        "        final_predictions = []\n",
        "    else:\n",
        "        final_targets = None\n",
        "        final_predictions = None    \n",
        "    \n",
        "    for i,(batch_x,batch_y) in enumerate(train_loader):\n",
        "        if len(batch_x) != batch_size:\n",
        "            continue\n",
        "        if p_bernoulli is not None:\n",
        "            if i == 0:\n",
        "                p_tensor = torch.ones_like(batch_x).to(device)*p_bernoulli\n",
        "            rand_bernoulli = torch.bernoulli(p_tensor).to(device)\n",
        "\n",
        "        data, target = batch_x.to(device), batch_y.to(device)\n",
        "        optimizer.zero_grad()\n",
        "\n",
        "        if mode in ['both', 'ae']:\n",
        "            if p_bernoulli is not None:\n",
        "                rec_noisy, _ = model(data*rand_bernoulli, False)\n",
        "                loss_ae = criterion_ae(rec_noisy, data) / len(batch_x)\n",
        "            else:\n",
        "                rec, _ = model(data, False)\n",
        "                loss_ae = criterion_ae(rec, data) / len(batch_x)\n",
        "\n",
        "        if mode in ['both', 'clf']:\n",
        "            rec_clean, logits = model(data, True)\n",
        "            loss_clf = criterion_clf(logits, target)\n",
        "            \n",
        "            proba = torch.sigmoid(logits).detach().cpu().numpy()\n",
        "            predictions = np.ones_like(proba, dtype=np.int32)\n",
        "            predictions[proba < 0.5] = 0\n",
        "            \n",
        "            final_targets.append(target.detach().cpu().numpy())\n",
        "            final_predictions.append(predictions)\n",
        "\n",
        "        if mode == 'both':\n",
        "            loss_total = loss_ae + lam_factor*loss_clf\n",
        "            loss_clf_np = loss_clf.detach().cpu().numpy()\n",
        "            loss_ae_np = loss_ae.detach().cpu().numpy()\n",
        "            \n",
        "            clf_train_loss.append(loss_clf_np)\n",
        "            ae_train_loss.append(loss_ae_np)\n",
        "            train_losses.append([loss_ae_np,loss_clf_np])\n",
        "            \n",
        "        elif mode == 'ae':\n",
        "            loss_total = loss_ae\n",
        "            loss_ae_np = loss_ae.detach().cpu().numpy()\n",
        "            \n",
        "            clf_train_loss.append(0.0)\n",
        "            ae_train_loss.append(loss_ae_np)\n",
        "            train_losses.append([loss_ae_np, 0.0])\n",
        "            \n",
        "        elif mode == 'clf':\n",
        "            loss_total = loss_clf\n",
        "            loss_clf_np = loss_clf.detach().cpu().numpy()\n",
        "            \n",
        "            clf_train_loss.append(loss_clf_np)\n",
        "            ae_train_loss.append(0.0)\n",
        "            train_losses.append([0.0,loss_clf_np])\n",
        "\n",
        "        loss_total.backward()\n",
        "        optimizer.step()\n",
        "    \n",
        "    if (final_targets is not None) and (final_predictions is not None):\n",
        "        final_targets = np.concatenate(final_targets)\n",
        "        final_predictions = np.concatenate(final_predictions)\n",
        "        train_accuracy = np.mean(final_targets == final_predictions)\n",
        "\n",
        "        return train_losses, np.mean(clf_train_loss), np.mean(ae_train_loss), train_accuracy\n",
        "    else:\n",
        "        return train_losses, np.mean(clf_train_loss), np.mean(ae_train_loss), None\n",
        "\n",
        "def test(model, criterion, test_loader, \n",
        "         eval_classifier=False, num_batch=None):\n",
        "    test_loss, n_test, correct = 0.0, 0, 0\n",
        "    eval_loss = []\n",
        "    all_predss=[]\n",
        "    if eval_classifier:\n",
        "        y_true, y_pred = [], []\n",
        "    with torch.no_grad():\n",
        "        model.eval()\n",
        "#         bar = tqdm(test_loader, leave = False)\n",
        "        for i,(batch_x,batch_y) in enumerate(test_loader):\n",
        "            if num_batch is not None:\n",
        "                if i >= num_batch:\n",
        "                    continue\n",
        "            data, target = batch_x.to(device), batch_y.to(device)\n",
        "            rec, logits = model(data, eval_classifier)\n",
        "\n",
        "#             test_loss += criterion(rec, data).detach().cpu().numpy() \n",
        "#             n_test += len(batch_x)\n",
        "            test_loss = criterion(logits, target).detach().cpu().numpy() \n",
        "            eval_loss.append(test_loss)\n",
        "            if eval_classifier:\n",
        "                proba = torch.sigmoid(logits).detach().cpu().numpy()\n",
        "                preds = np.ones_like(proba, dtype=np.int32)\n",
        "                preds[proba < 0.5] = 0\n",
        "                all_predss.extend(preds)###????\n",
        "                y_arr = np.array(batch_y, dtype=np.int32)\n",
        "\n",
        "                correct += np.sum(preds == y_arr)\n",
        "                y_true.extend(y_arr.tolist())\n",
        "                y_pred.extend(proba.tolist())\n",
        "        mlp_acc,mlp_sens,mlp_spef = confusion(y_true,all_predss)\n",
        "        metrics_dict = {'accuracy': np.round(mlp_acc, 4), \n",
        "                        'senstivity' : np.round(mlp_sens,4), \n",
        "                        'specificity' : np.round(mlp_spef,4), \n",
        "                        'loss' : np.round(np.mean(eval_loss),4)}\n",
        "        \n",
        "    return  metrics_dict"
      ],
      "execution_count": null,
      "outputs": []
    },
    {
      "cell_type": "code",
      "metadata": {
        "id": "-tMq15fuC5gT",
        "outputId": "cd253be6-bb51-432a-f169-212b8aaba3c6",
        "colab": {
          "base_uri": "https://localhost:8080/",
          "height": 34
        }
      },
      "source": [
        "device = torch.device(\"cuda\" if torch.cuda.is_available() else \"cpu\")\n",
        "print(device)"
      ],
      "execution_count": null,
      "outputs": [
        {
          "output_type": "stream",
          "text": [
            "cuda\n"
          ],
          "name": "stdout"
        }
      ]
    },
    {
      "cell_type": "code",
      "metadata": {
        "id": "WIeQR-J0C5gX",
        "outputId": "150e8490-4c70-4692-e78c-b3ddbb598f7f",
        "colab": {
          "base_uri": "https://localhost:8080/",
          "height": 34
        }
      },
      "source": [
        "all_corr['Pitt_0050003'][0].shape"
      ],
      "execution_count": null,
      "outputs": [
        {
          "output_type": "execute_result",
          "data": {
            "text/plain": [
              "(2048,)"
            ]
          },
          "metadata": {
            "tags": []
          },
          "execution_count": 41
        }
      ]
    },
    {
      "cell_type": "markdown",
      "metadata": {
        "id": "5imTX7y_C5gc"
      },
      "source": [
        "### Testing the data loader"
      ]
    },
    {
      "cell_type": "code",
      "metadata": {
        "id": "IrNJt8szC5gd",
        "outputId": "b8ff7419-86aa-48a6-e6b5-2c091993f827",
        "colab": {
          "base_uri": "https://localhost:8080/",
          "height": 34
        }
      },
      "source": [
        "num_corr = len(all_corr[flist[0]][0])\n",
        "print(num_corr)\n",
        "# regions_inds = get_regs(flist,int(num_corr/4))\n",
        "# sim_function = functools.partial(cal_similarity, lim=2)\n",
        "regions_inds = None\n",
        "train_loader=get_loader(data=all_corr, samples_list=flist, \n",
        "                                    batch_size=32, mode='train',\n",
        "                                    augmentation=False, aug_factor=2, \n",
        "                                    num_neighbs=5, eig_data=None, similarity_fn=None, \n",
        "                                    verbose=True,regions=regions_inds)"
      ],
      "execution_count": null,
      "outputs": [
        {
          "output_type": "stream",
          "text": [
            "2048\n"
          ],
          "name": "stdout"
        }
      ]
    },
    {
      "cell_type": "code",
      "metadata": {
        "id": "-eY5rBOgC5gj",
        "outputId": "a82fc391-d44c-4fd2-85b8-85e2f3a0c777",
        "colab": {
          "base_uri": "https://localhost:8080/",
          "height": 52
        }
      },
      "source": [
        "i, l = next(iter(train_loader))\n",
        "print(i.shape)\n",
        "print(l.shape)"
      ],
      "execution_count": null,
      "outputs": [
        {
          "output_type": "stream",
          "text": [
            "torch.Size([32, 2048])\n",
            "torch.Size([32, 1])\n"
          ],
          "name": "stdout"
        }
      ]
    },
    {
      "cell_type": "code",
      "metadata": {
        "id": "L3qlFbIkC5go",
        "outputId": "e3debdc6-eb03-4a3d-ffc2-7e5219c66a92",
        "colab": {
          "base_uri": "https://localhost:8080/",
          "height": 34
        }
      },
      "source": [
        "len(train_loader.dataset)"
      ],
      "execution_count": null,
      "outputs": [
        {
          "output_type": "execute_result",
          "data": {
            "text/plain": [
              "1035"
            ]
          },
          "metadata": {
            "tags": []
          },
          "execution_count": 44
        }
      ]
    },
    {
      "cell_type": "markdown",
      "metadata": {
        "id": "NwF-sGjZclEP"
      },
      "source": [
        "### Main"
      ]
    },
    {
      "cell_type": "code",
      "metadata": {
        "id": "gD9Z4VABdPwX",
        "outputId": "e85d6577-938d-4cf2-b798-1363a9e5388b",
        "colab": {
          "base_uri": "https://localhost:8080/",
          "height": 34
        }
      },
      "source": [
        "num_corr = len(all_corr[flist[0]][0])\n",
        "print(num_corr)\n",
        "# print(num_inpp)"
      ],
      "execution_count": null,
      "outputs": [
        {
          "output_type": "stream",
          "text": [
            "2048\n"
          ],
          "name": "stdout"
        }
      ]
    },
    {
      "cell_type": "code",
      "metadata": {
        "id": "44FoLg8kfeOi",
        "outputId": "8737cd27-8da9-4e7e-9be4-c3993e56f558",
        "colab": {
          "base_uri": "https://localhost:8080/",
          "height": 1000,
          "referenced_widgets": [
            "f18de9b1789a48128283d12f04a54f22",
            "4f270dd4fd87406e82844d14b779a9d7",
            "9d1cd5f52a4344ccb62c52aacddb5866",
            "57a9c8f047b2435fb8e81745004fe272",
            "999d3b2ca92e4dc68f5dad2627eba55c",
            "d78c963b2ce0471aaa8bdfd7896ae372",
            "f7b94ddfbf1f4b718c871bb523d73c0c",
            "acfe1087011d41a2bbb7c994b8bd4d14",
            "b3ac9bac81b64df4bef6d09ba249a665",
            "560984da49ac4f8ba2ce9f96b0d3a64f",
            "182690953f544671baf3e1d840f9ef31",
            "f2fec7c188d24afe8be38b28ac920c63",
            "ecea3c8fabcb4b4ba0be893ebd9936fa",
            "64c0cbe763ea40d68e176be3a9008002",
            "a2f5db4788b347d5a6ba6477b1594618",
            "ecc5fc2b2de8407fb9a0ddec3b590c67",
            "a724a7ff394945c28a9c740d01f479b9",
            "b06ac492d6f647bdafbd83af45bbbedd",
            "bc96a3846228421baa139d4699d8587d",
            "6abad4c013f14a4bb7fd2f41ed76b857",
            "cae4f6e9fc314a64a78df3ec70f50a43",
            "947bc915344243be8f93898487c2e73f",
            "b1faeaf540204345a70d8e4d3adcde5e",
            "630da19d36c448cc9e031e902565d104",
            "559c86e75c194436b732d666709dde12",
            "84e9391ed04541b0a64b81e0e50e6759",
            "876f051210464a2f83b355fe3c885af3",
            "df42bf430fd94734970d48ddee29badd",
            "fa9f97c0c0c14aabb08d066d5ef77a3c",
            "77725232dc9c482ea793e76774deb021",
            "2665506247e647789c187535f0429d0d",
            "880433864d2d4b08b8d231cc86b074cf",
            "7b3912f175034886a160a6f494592aae",
            "1b09f9357af94a4faacb98ce622258e0",
            "591702775af641d2b13010dab4b0133c",
            "bba68937e09d4a06a4e7e3966e49506d",
            "08710a4e70e9406992204648981b733e",
            "f627f925b588493c8cf190b5146d7c42",
            "8cbd7c69fbf64c59b2e3aad6f67a0d32",
            "1a23d7de7ab54c539d49be0fbbe3f223",
            "8d38c3fa187b45b38cda08757a29dff1",
            "ca1bcf87b6884774a9a9a6026bfe9578",
            "9b6c72284ea749a48abe43199fb31972",
            "8e347820250b40c6a7fdde92916c0a51",
            "e850bfee5f48454d9168eaa1a843c328",
            "de7eda5a736940e0b66ebe647e29cb62",
            "1ef3069f84994cb3880f8cc3b09521eb",
            "2e73e0de492e4c7a9da70446de42cae6",
            "be6de7bf518d4cc1bde6d652ac10dc80",
            "98bf2f31316846fcb0ff3449edfbbaac",
            "6ca6f7bca8ab4825a02593f82b20baf5",
            "12dc45433fad48a7b90cec4080acd0d5",
            "130a81e4648b4817b02b1db892592651",
            "f17e816d58594ba6b4150f34beee1444",
            "b19835323f8946e4b6db08e05bba3431",
            "12737fcbc48c44e0ac8e2cdd96c09c75",
            "638a9c8e5ad54a189e661486db7ec88a",
            "544ecc9f5ef14a5fb7ccc9d9581608e7",
            "0f3d6534bf254df9849952540e9525ff",
            "01b669d80d2d4180b37a5fd5299f6095",
            "c39454cb462f4d9f89cef3a5cbfca059",
            "fe2ec48a78bf4cccb2541ddd4151efe3",
            "722bd157d24c46298276d2b18839608f",
            "b254dcf7b08843ccb1b3de420ec0f416",
            "64f838c609214fefadddf758db668ca9",
            "1afba536bdb148b882e4c57bd675062f",
            "8bad280576df4f0aa90dd59aab9aac69",
            "36ed7e245d964952ba9013a414eebbce",
            "69e8950563364b069c4ac97f3606b2be",
            "243023ec3ec5427bb3d09262e06040d5",
            "2a1d25e91f3449c98249a4b09919c804",
            "eb0f35c5358445c7934495eb6adc75c5",
            "1423ff3eabbd4b218e839dc43a8f3691",
            "bc2c5b1c50c84828bef2f47934d5b2bf",
            "133fb3f1e00b4e46ad6428105feae6dd",
            "b6470018b5024518b7fe2731c933e8e3",
            "d21aff89906f4925a48146815910608c",
            "a24219e3a152463e832ea205ad746081",
            "426a14e7136843e59ecc71dfe8c41596",
            "8265627009364b0da1122988e7a92367",
            "c5a07179fd8d44f68351133d771c0d29",
            "b7ba8680a75a46bf8fea5a0d8fe7d2b0",
            "97a953cffd594d72aa9cbb112c08e84b",
            "1270396cbe78457f813f5e6785a023f6",
            "d487435065134d96a3c23a6a90188791",
            "0b6d151000834a07834e5082e3e9c42f",
            "2c59f741bffa4f90b45165c1faaf0f83",
            "47a3095101964be0af284dd58921b61e",
            "b03b24d5e5c64484b31eac782506b9a6",
            "cd7955a97c704b699f1ad49c441823a5",
            "48834dfd07194590a348344a3d6ec130",
            "265d9fa5e11c403686d2f68b2ff6f01c",
            "170450d34b404f0e840e192b69e892fc",
            "e05a54816486416a9473acc53bb4a326",
            "5753e60ea5224201ad6d6a404993a285",
            "382c0ca556e5466ab77e03b9548cf04d",
            "1a23b8c32ba146f6b1f226fdd19f10ef",
            "cb7d78646e11444d830322ef3bdc00eb",
            "af56faec07334ecf845f96eac0806955",
            "3e60986752734524a6e798020115b6bd",
            "7450f78b26ea435cbd0efc042de6a4d3",
            "e3116e4fcc79405db8abebc47dfd9cec",
            "27497076b02c4565a7283a708edb6e9d",
            "78f02247c7e74d42b9ad63e1a6311cbe",
            "00c9a116ffb24f3f938a6eeb73ba2cc1",
            "974b9bb37f6a4fae9be7f5727fc02a5e",
            "0d5ba91c36084d9085fda0a6e1f3b1a0",
            "e1f4704a0efe4fea9fa54509818675ff",
            "7ad77ec932de4af3852661adf23be51a",
            "235c9878e42e4516b4904fa9c6272cc2",
            "f517505903d3470b928d00c1f43e9bdf",
            "8b23942d4aec466a97770e7d12006bf7",
            "018ff71ae9bb488fb33d94f1382f1d45",
            "d7467a65b5d24f7884502e43fb088b88",
            "438aade64d3e420fbd296b465eaa0412",
            "281584f7ec814c7a847b022a462cd6e0",
            "1230a2d28f68478b911bb4bab37a3fb9",
            "0a05489870574fa7b238a957c43262fb",
            "1043017c349b4c9fb2a458b089c84701",
            "aba5448e767e4334a89542e072a433a7",
            "a006c00473d24d478fea8e4636be5efe",
            "9e95db586f6346bf9b231a8dc91cedce",
            "ced39c31d61542b6be07e68a72df4b74",
            "7ae268cf70fb45bf830595b2b2d690f3",
            "2d3840ead4d647f0a27fd31f8381957a",
            "0a6b2bf82bad46dd8e1c0c77d9624f41",
            "c79a19e144f746118ccee14bf5076885",
            "aa4add04bc71478eabad3ef8c6819934",
            "7ef51178abdc469e97962691d7c7db64",
            "5332026636e14b3898d92161d96c8eb6",
            "7dde9012c2664013bae1380d791aa711",
            "45a125c43cf946499207e9a31e75d211",
            "d48ff31ffbc84d8ca14082c0c6b41d27",
            "75233c80a2f4423e88488b83bb651873",
            "548fe53e9d8d46d687eee995a6598ddb",
            "5ad00ed7b1d04fccad7b777df8d88229",
            "08be33912650469da8e2b02906b5f49a",
            "106107a7f7a1482aa74809859f49d4ae",
            "787b47048ce84e9591ee7c0e85752461",
            "c22efd3d420e43d98968da2b1211547b",
            "a8145e52b0b94b0ba4dfb18d9b2fe9e4",
            "b089e258d5a047948f6da17226409f56",
            "61ed2e3bf30348c6bdd32fafd3c38fd8",
            "a0e2f102123f456aafcc861959f9cc7c",
            "07383cc8584e4a4999232303b936014f",
            "c84b88589f424b4695c8b885ad337a34",
            "0463555477064264b3c845cad9ee0a5a",
            "63bd2ebc4b79452cb0197055d9afda9b",
            "5ca5bf6eb313408aa3118e822a30bdb4",
            "52fdadeac2104aa4ac59df1da5e1bc09",
            "bb14b2768bd840c9a356d6fb9686c60c",
            "3340568f924b432fae246834b82e14e6"
          ]
        }
      },
      "source": [
        "if p_Method == \"ASD-DiagNet\" and p_mode == \"whole\":\n",
        "    \n",
        "    num_corr = len(all_corr[flist[0]][0])\n",
        "    print(\"num_corr:  \",num_corr)\n",
        "    \n",
        "    start =time.time()\n",
        "    batch_size = 8\n",
        "    learning_rate_ae, learning_rate_clf = 0.0001, 0.0001\n",
        "    num_epochs = 25\n",
        "\n",
        "    p_bernoulli = None\n",
        "    augmentation = p_augmentation\n",
        "    use_dropout = False\n",
        "\n",
        "    aug_factor = 2\n",
        "    num_neighbs = 5\n",
        "    lim4sim = 2\n",
        "    n_lat = int(num_corr//4)\n",
        "    print(n_lat)\n",
        "    start= time.time()\n",
        "\n",
        "    print('p_bernoulli: ', p_bernoulli)\n",
        "    print('augmentaiton: ', augmentation, 'aug_factor: ', aug_factor, \n",
        "          'num_neighbs: ', num_neighbs, 'lim4sim: ', lim4sim)\n",
        "    print('use_dropout: ', use_dropout, '\\n')\n",
        "\n",
        "\n",
        "    # sim_function = functools.partial(cal_similarity, lim=lim4sim)\n",
        "    crossval_res_kol=[]\n",
        "    y_arr = np.array([get_label(f) for f in flist])\n",
        "    flist = np.array(flist)\n",
        "    kk=0 \n",
        "\n",
        "    # list to store metrics after each fold\n",
        "    repeat_acc=[]\n",
        "    repeat_sen=[]\n",
        "    repeat_spec=[]\n",
        "    repeat_loss=[]\n",
        "\n",
        "    for rp in range(2):\n",
        "        crossval_acc=[]\n",
        "        crossval_sen=[]\n",
        "        crossval_spec=[]\n",
        "        crossval_loss=[]\n",
        "\n",
        "        kf = StratifiedKFold(n_splits=p_fold, random_state=1, shuffle=True)\n",
        "        np.random.shuffle(flist)\n",
        "        y_arr = np.array([get_label(f) for f in flist])\n",
        "        for kk,(train_index, test_index) in enumerate(kf.split(flist, y_arr)):\n",
        "            #init wandb \n",
        "            NAME = f'asd-diagnet-sep-pca1024-cc200ho-fold-{kk+1}-rp-{rp+1}'\n",
        "            ID = f'sep-pca1024-cc200ho-fold-{kk+1}-rp-{rp+1}'\n",
        "            wandb.init(project = 'asd2', name=NAME, id=ID)\n",
        "\n",
        "            train_samples, test_samples = flist[train_index], flist[test_index]\n",
        "            verbose = (True if (kk == 0) else False)\n",
        "\n",
        "            # regions_inds = get_regs(train_samples,int(num_corr/4))\n",
        "            regions_inds = None\n",
        "\n",
        "            # num_inpp = len(regions_inds)\n",
        "            # n_lat = int(num_inpp/2)\n",
        "            # n_lat = 4975\n",
        "            n_lat = int(num_corr/2)\n",
        "            train_loader=get_loader(data=all_corr, samples_list=train_samples, \n",
        "                                    batch_size=batch_size, mode='train',\n",
        "                                    augmentation=augmentation, aug_factor=aug_factor, \n",
        "                                    num_neighbs=num_neighbs, eig_data=None, similarity_fn=None, \n",
        "                                    verbose=verbose,regions=regions_inds)\n",
        "\n",
        "            test_loader=get_loader(data=all_corr, samples_list=test_samples, \n",
        "                                   batch_size=batch_size, mode='test', augmentation=False, \n",
        "                                   verbose=verbose,regions=regions_inds)\n",
        "\n",
        "            # model = MTAutoEncoder(tied=True, num_inputs=num_inpp, num_latent=n_lat, use_dropout=use_dropout)\n",
        "            model = MTAutoEncoder(tied=True, num_inputs=num_corr, num_latent=n_lat, use_dropout=use_dropout)\n",
        "            model.to(device)\n",
        "            criterion_ae = nn.MSELoss(reduction='sum')\n",
        "            criterion_clf = nn.BCEWithLogitsLoss()\n",
        "            optimizer = optim.SGD([{'params': model.fc_encoder.parameters(), 'lr': learning_rate_ae},\n",
        "                                   {'params': model.classifier.parameters(), 'lr': learning_rate_clf}],\n",
        "                                  momentum=0.9)\n",
        "\n",
        "\n",
        "            for epoch in range(1, num_epochs+1):\n",
        "                if epoch <= 20:\n",
        "                    train_losses, clf_train_loss, ae_train_loss, train_acc = train(model, epoch, train_loader, p_bernoulli, mode='both')\n",
        "                else:\n",
        "                    train_losses, clf_train_loss, ae_train_loss, train_acc = train(model, epoch, train_loader, p_bernoulli, mode='clf')\n",
        "                print(f'Epoch {epoch}/{num_epochs+1}')\n",
        "\n",
        "                wandb.log({'Classifier Train loss': clf_train_loss, 'Train accuracy': train_acc, 'AE Train loss': ae_train_loss,})\n",
        "\n",
        "                content = f' Classifier Train loss: {(clf_train_loss):.4f}, AE Train loss: {(ae_train_loss):.4f}, Train Acc: {(train_acc):.4f}'\n",
        "                print(content)\n",
        "\n",
        "            metrics_dict = test(model, criterion_clf, test_loader, eval_classifier=True)\n",
        "            print(\"-----------------------------\")\n",
        "            print(f'Fold {kk+1}/{p_fold}')\n",
        "            content = f'{metrics_dict}'\n",
        "            print(content)\n",
        "            print(\"-----------------------------\")\n",
        "\n",
        "            crossval_acc.append(metrics_dict['accuracy'])\n",
        "            crossval_sen.append(metrics_dict['senstivity'])\n",
        "            crossval_spec.append(metrics_dict['specificity'])\n",
        "            crossval_loss.append(metrics_dict['loss'])\n",
        "            \n",
        "            #save the model after each fold\n",
        "            \n",
        "            recorder = {'optimizer': optimizer.state_dict(),\n",
        "            'model': model.state_dict(),\n",
        "            'fold' : kk+1,\n",
        "            'repitition' : rp+1}\n",
        "\n",
        "            torch.save(recorder, f'{NAME}.pt')\n",
        "            \n",
        "        print(\"*********************************\")    \n",
        "        print(f'Average Value after 10 Folds and repeats one {rp+1}------->')\n",
        "        content = f'Accuracy: {np.round(np.mean(crossval_acc),4)}, Senstivity: {np.round(np.mean(crossval_sen),4)}, Specificity: {np.round(np.mean(crossval_spec),4)}, Loss: {np.round(np.mean(crossval_loss),4)}'\n",
        "        print(content)\n",
        "        print(\"*********************************\") \n",
        "        \n",
        "        repeat_acc.append(np.mean(crossval_acc))\n",
        "        repeat_sen.append(np.mean(crossval_sen))\n",
        "        repeat_spec.append(np.mean(crossval_spec))\n",
        "        repeat_loss.append(np.mean(crossval_loss))\n",
        "    \n",
        "    print(f\"Average Value after :\",rp+1,\" Repeat:\")\n",
        "    content = f'Accuracy: {np.round(np.mean(repeat_acc),4)}, Senstivity: {np.round(np.mean(repeat_sen),4)}, Specificity: {np.round(np.mean(repeat_spec),4)}, Loss: {np.round(np.mean(repeat_loss),4)}'\n",
        "    print(content)\n",
        "        \n",
        "    finish= time.time()\n",
        "    print(finish-start)"
      ],
      "execution_count": null,
      "outputs": [
        {
          "output_type": "stream",
          "text": [
            "num_corr:   2048\n",
            "512\n",
            "p_bernoulli:  None\n",
            "augmentaiton:  False aug_factor:  2 num_neighbs:  5 lim4sim:  2\n",
            "use_dropout:  False \n",
            "\n"
          ],
          "name": "stdout"
        },
        {
          "output_type": "stream",
          "text": [
            "\u001b[34m\u001b[1mwandb\u001b[0m: Currently logged in as: \u001b[33mpindi-krishna\u001b[0m (use `wandb login --relogin` to force relogin)\n"
          ],
          "name": "stderr"
        },
        {
          "output_type": "display_data",
          "data": {
            "text/html": [
              "\n",
              "                Tracking run with wandb version 0.10.7<br/>\n",
              "                Syncing run <strong style=\"color:#cdcd00\">asd-diagnet-sep-pca1024-cc200ho-fold-1-rp-1</strong> to <a href=\"https://wandb.ai\" target=\"_blank\">Weights & Biases</a> <a href=\"https://docs.wandb.com/integrations/jupyter.html\" target=\"_blank\">(Documentation)</a>.<br/>\n",
              "                Project page: <a href=\"https://wandb.ai/pindi-krishna/asd2\" target=\"_blank\">https://wandb.ai/pindi-krishna/asd2</a><br/>\n",
              "                Run page: <a href=\"https://wandb.ai/pindi-krishna/asd2/runs/sep-pca1024-cc200ho-fold-1-rp-1\" target=\"_blank\">https://wandb.ai/pindi-krishna/asd2/runs/sep-pca1024-cc200ho-fold-1-rp-1</a><br/>\n",
              "                Run data is saved locally in <code>wandb/run-20201016_053441-sep-pca1024-cc200ho-fold-1-rp-1</code><br/><br/>\n",
              "            "
            ],
            "text/plain": [
              "<IPython.core.display.HTML object>"
            ]
          },
          "metadata": {
            "tags": []
          }
        },
        {
          "output_type": "stream",
          "text": [
            "Epoch 1/26\n",
            " Classifier Train loss: 0.6790, AE Train loss: 654.0271, Train Acc: 0.5841\n",
            "Epoch 2/26\n",
            " Classifier Train loss: 0.6472, AE Train loss: 496.2471, Train Acc: 0.6358\n",
            "Epoch 3/26\n",
            " Classifier Train loss: 0.6206, AE Train loss: 409.0742, Train Acc: 0.6778\n",
            "Epoch 4/26\n",
            " Classifier Train loss: 0.6002, AE Train loss: 346.2589, Train Acc: 0.6843\n",
            "Epoch 5/26\n",
            " Classifier Train loss: 0.5830, AE Train loss: 298.3131, Train Acc: 0.7091\n",
            "Epoch 6/26\n",
            " Classifier Train loss: 0.5654, AE Train loss: 259.5707, Train Acc: 0.7284\n",
            "Epoch 7/26\n",
            " Classifier Train loss: 0.5510, AE Train loss: 228.2162, Train Acc: 0.7360\n",
            "Epoch 8/26\n",
            " Classifier Train loss: 0.5384, AE Train loss: 202.2959, Train Acc: 0.7619\n",
            "Epoch 9/26\n",
            " Classifier Train loss: 0.5238, AE Train loss: 180.4843, Train Acc: 0.7726\n",
            "Epoch 10/26\n",
            " Classifier Train loss: 0.5130, AE Train loss: 161.6835, Train Acc: 0.7834\n",
            "Epoch 11/26\n",
            " Classifier Train loss: 0.5013, AE Train loss: 145.7372, Train Acc: 0.7909\n",
            "Epoch 12/26\n",
            " Classifier Train loss: 0.4904, AE Train loss: 131.9492, Train Acc: 0.8028\n",
            "Epoch 13/26\n",
            " Classifier Train loss: 0.4812, AE Train loss: 119.8322, Train Acc: 0.8114\n",
            "Epoch 14/26\n",
            " Classifier Train loss: 0.4711, AE Train loss: 109.1782, Train Acc: 0.8200\n",
            "Epoch 15/26\n",
            " Classifier Train loss: 0.4614, AE Train loss: 99.6862, Train Acc: 0.8276\n",
            "Epoch 16/26\n",
            " Classifier Train loss: 0.4529, AE Train loss: 91.1882, Train Acc: 0.8319\n",
            "Epoch 17/26\n",
            " Classifier Train loss: 0.4428, AE Train loss: 83.6942, Train Acc: 0.8416\n",
            "Epoch 18/26\n",
            " Classifier Train loss: 0.4373, AE Train loss: 76.9117, Train Acc: 0.8416\n",
            "Epoch 19/26\n",
            " Classifier Train loss: 0.4289, AE Train loss: 70.8174, Train Acc: 0.8567\n",
            "Epoch 20/26\n",
            " Classifier Train loss: 0.4202, AE Train loss: 65.3940, Train Acc: 0.8642\n",
            "Epoch 21/26\n",
            " Classifier Train loss: 0.4121, AE Train loss: 0.0000, Train Acc: 0.8718\n",
            "Epoch 22/26\n",
            " Classifier Train loss: 0.4030, AE Train loss: 0.0000, Train Acc: 0.8761\n",
            "Epoch 23/26\n",
            " Classifier Train loss: 0.3918, AE Train loss: 0.0000, Train Acc: 0.8836\n",
            "Epoch 24/26\n",
            " Classifier Train loss: 0.3837, AE Train loss: 0.0000, Train Acc: 0.8922\n",
            "Epoch 25/26\n",
            " Classifier Train loss: 0.3754, AE Train loss: 0.0000, Train Acc: 0.8976\n",
            "-----------------------------\n",
            "Fold 1/10\n",
            "{'accuracy': 0.7115, 'senstivity': 0.7059, 'specificity': 0.717, 'loss': 0.5455}\n",
            "-----------------------------\n"
          ],
          "name": "stdout"
        },
        {
          "output_type": "stream",
          "text": [
            "\u001b[34m\u001b[1mwandb\u001b[0m: \u001b[33mWARNING\u001b[0m Calling wandb.login() after wandb.init() has no effect.\n"
          ],
          "name": "stderr"
        },
        {
          "output_type": "display_data",
          "data": {
            "text/html": [
              "<br/>Waiting for W&B process to finish, PID 949<br/>Program ended successfully."
            ],
            "text/plain": [
              "<IPython.core.display.HTML object>"
            ]
          },
          "metadata": {
            "tags": []
          }
        },
        {
          "output_type": "display_data",
          "data": {
            "application/vnd.jupyter.widget-view+json": {
              "model_id": "f18de9b1789a48128283d12f04a54f22",
              "version_minor": 0,
              "version_major": 2
            },
            "text/plain": [
              "VBox(children=(Label(value=' 0.00MB of 0.00MB uploaded (0.00MB deduped)\\r'), FloatProgress(value=1.0, max=1.0)…"
            ]
          },
          "metadata": {
            "tags": []
          }
        },
        {
          "output_type": "display_data",
          "data": {
            "text/html": [
              "Find user logs for this run at: <code>wandb/run-20201016_053441-sep-pca1024-cc200ho-fold-1-rp-1/logs/debug.log</code>"
            ],
            "text/plain": [
              "<IPython.core.display.HTML object>"
            ]
          },
          "metadata": {
            "tags": []
          }
        },
        {
          "output_type": "display_data",
          "data": {
            "text/html": [
              "Find internal logs for this run at: <code>wandb/run-20201016_053441-sep-pca1024-cc200ho-fold-1-rp-1/logs/debug-internal.log</code>"
            ],
            "text/plain": [
              "<IPython.core.display.HTML object>"
            ]
          },
          "metadata": {
            "tags": []
          }
        },
        {
          "output_type": "display_data",
          "data": {
            "text/html": [
              "<h3>Run summary:</h3><br/><style>\n",
              "    table.wandb td:nth-child(1) { padding: 0 10px; text-align: right }\n",
              "    </style><table class=\"wandb\">\n",
              "<tr><td>Classifier Train loss</td><td>0.37542</td></tr><tr><td>Train accuracy</td><td>0.89763</td></tr><tr><td>AE Train loss</td><td>0.0</td></tr><tr><td>_step</td><td>24</td></tr><tr><td>_runtime</td><td>26</td></tr><tr><td>_timestamp</td><td>1602826507</td></tr></table>"
            ],
            "text/plain": [
              "<IPython.core.display.HTML object>"
            ]
          },
          "metadata": {
            "tags": []
          }
        },
        {
          "output_type": "display_data",
          "data": {
            "text/html": [
              "<h3>Run history:</h3><br/><style>\n",
              "    table.wandb td:nth-child(1) { padding: 0 10px; text-align: right }\n",
              "    </style><table class=\"wandb\">\n",
              "<tr><td>Classifier Train loss</td><td>█▇▇▆▆▅▅▅▄▄▄▄▃▃▃▃▃▂▂▂▂▂▁▁▁</td></tr><tr><td>Train accuracy</td><td>▁▂▃▃▄▄▄▅▅▅▆▆▆▆▆▇▇▇▇▇▇████</td></tr><tr><td>AE Train loss</td><td>█▆▅▅▄▄▃▃▃▃▃▂▂▂▂▂▂▂▂▂▁▁▁▁▁</td></tr><tr><td>_step</td><td>▁▁▂▂▂▂▃▃▃▄▄▄▅▅▅▅▆▆▆▇▇▇▇██</td></tr><tr><td>_runtime</td><td>▁▁▂▂▂▃▃▃▄▄▄▅▅▅▅▅▆▆▆▇▇▇███</td></tr><tr><td>_timestamp</td><td>▁▁▂▂▂▃▃▃▄▄▄▅▅▅▅▅▆▆▆▇▇▇███</td></tr></table><br/>"
            ],
            "text/plain": [
              "<IPython.core.display.HTML object>"
            ]
          },
          "metadata": {
            "tags": []
          }
        },
        {
          "output_type": "display_data",
          "data": {
            "text/html": [
              "Synced 5 W&B file(s), 0 media file(s), 0 artifact file(s) and 0 other file(s)"
            ],
            "text/plain": [
              "<IPython.core.display.HTML object>"
            ]
          },
          "metadata": {
            "tags": []
          }
        },
        {
          "output_type": "display_data",
          "data": {
            "text/html": [
              "\n",
              "                    <br/>Synced <strong style=\"color:#cdcd00\">asd-diagnet-sep-pca1024-cc200ho-fold-1-rp-1</strong>: <a href=\"https://wandb.ai/pindi-krishna/asd2/runs/sep-pca1024-cc200ho-fold-1-rp-1\" target=\"_blank\">https://wandb.ai/pindi-krishna/asd2/runs/sep-pca1024-cc200ho-fold-1-rp-1</a><br/>\n",
              "                "
            ],
            "text/plain": [
              "<IPython.core.display.HTML object>"
            ]
          },
          "metadata": {
            "tags": []
          }
        },
        {
          "output_type": "display_data",
          "data": {
            "text/html": [
              "\n",
              "                Tracking run with wandb version 0.10.7<br/>\n",
              "                Syncing run <strong style=\"color:#cdcd00\">asd-diagnet-sep-pca1024-cc200ho-fold-2-rp-1</strong> to <a href=\"https://wandb.ai\" target=\"_blank\">Weights & Biases</a> <a href=\"https://docs.wandb.com/integrations/jupyter.html\" target=\"_blank\">(Documentation)</a>.<br/>\n",
              "                Project page: <a href=\"https://wandb.ai/pindi-krishna/asd2\" target=\"_blank\">https://wandb.ai/pindi-krishna/asd2</a><br/>\n",
              "                Run page: <a href=\"https://wandb.ai/pindi-krishna/asd2/runs/sep-pca1024-cc200ho-fold-2-rp-1\" target=\"_blank\">https://wandb.ai/pindi-krishna/asd2/runs/sep-pca1024-cc200ho-fold-2-rp-1</a><br/>\n",
              "                Run data is saved locally in <code>wandb/run-20201016_053507-sep-pca1024-cc200ho-fold-2-rp-1</code><br/><br/>\n",
              "            "
            ],
            "text/plain": [
              "<IPython.core.display.HTML object>"
            ]
          },
          "metadata": {
            "tags": []
          }
        },
        {
          "output_type": "stream",
          "text": [
            "Epoch 1/26\n",
            " Classifier Train loss: 0.6701, AE Train loss: 656.2411, Train Acc: 0.5668\n",
            "Epoch 2/26\n",
            " Classifier Train loss: 0.6293, AE Train loss: 496.2555, Train Acc: 0.6390\n",
            "Epoch 3/26\n",
            " Classifier Train loss: 0.6083, AE Train loss: 409.9196, Train Acc: 0.6800\n",
            "Epoch 4/26\n",
            " Classifier Train loss: 0.5888, AE Train loss: 347.3304, Train Acc: 0.7004\n",
            "Epoch 5/26\n",
            " Classifier Train loss: 0.5722, AE Train loss: 298.7100, Train Acc: 0.7144\n",
            "Epoch 6/26\n",
            " Classifier Train loss: 0.5574, AE Train loss: 260.2298, Train Acc: 0.7295\n",
            "Epoch 7/26\n",
            " Classifier Train loss: 0.5424, AE Train loss: 228.9799, Train Acc: 0.7554\n",
            "Epoch 8/26\n",
            " Classifier Train loss: 0.5284, AE Train loss: 202.9820, Train Acc: 0.7672\n",
            "Epoch 9/26\n",
            " Classifier Train loss: 0.5170, AE Train loss: 181.0325, Train Acc: 0.7716\n",
            "Epoch 10/26\n",
            " Classifier Train loss: 0.5037, AE Train loss: 162.3062, Train Acc: 0.7845\n",
            "Epoch 11/26\n",
            " Classifier Train loss: 0.4929, AE Train loss: 146.3100, Train Acc: 0.7942\n",
            "Epoch 12/26\n",
            " Classifier Train loss: 0.4828, AE Train loss: 132.3770, Train Acc: 0.8006\n",
            "Epoch 13/26\n",
            " Classifier Train loss: 0.4716, AE Train loss: 120.2528, Train Acc: 0.8190\n",
            "Epoch 14/26\n",
            " Classifier Train loss: 0.4621, AE Train loss: 109.5820, Train Acc: 0.8244\n",
            "Epoch 15/26\n",
            " Classifier Train loss: 0.4527, AE Train loss: 100.0094, Train Acc: 0.8351\n",
            "Epoch 16/26\n",
            " Classifier Train loss: 0.4443, AE Train loss: 91.4708, Train Acc: 0.8448\n",
            "Epoch 17/26\n",
            " Classifier Train loss: 0.4357, AE Train loss: 84.0600, Train Acc: 0.8481\n",
            "Epoch 18/26\n",
            " Classifier Train loss: 0.4276, AE Train loss: 77.2511, Train Acc: 0.8556\n",
            "Epoch 19/26\n",
            " Classifier Train loss: 0.4196, AE Train loss: 71.0477, Train Acc: 0.8653\n",
            "Epoch 20/26\n",
            " Classifier Train loss: 0.4112, AE Train loss: 65.6278, Train Acc: 0.8685\n",
            "Epoch 21/26\n",
            " Classifier Train loss: 0.4024, AE Train loss: 0.0000, Train Acc: 0.8772\n",
            "Epoch 22/26\n",
            " Classifier Train loss: 0.3943, AE Train loss: 0.0000, Train Acc: 0.8858\n",
            "Epoch 23/26\n",
            " Classifier Train loss: 0.3842, AE Train loss: 0.0000, Train Acc: 0.8890\n",
            "Epoch 24/26\n",
            " Classifier Train loss: 0.3754, AE Train loss: 0.0000, Train Acc: 0.8955\n",
            "Epoch 25/26\n",
            " Classifier Train loss: 0.3650, AE Train loss: 0.0000, Train Acc: 0.9009\n",
            "-----------------------------\n",
            "Fold 2/10\n",
            "{'accuracy': 0.7019, 'senstivity': 0.6863, 'specificity': 0.717, 'loss': 0.5803}\n",
            "-----------------------------\n"
          ],
          "name": "stdout"
        },
        {
          "output_type": "stream",
          "text": [
            "\u001b[34m\u001b[1mwandb\u001b[0m: \u001b[33mWARNING\u001b[0m Calling wandb.login() after wandb.init() has no effect.\n"
          ],
          "name": "stderr"
        },
        {
          "output_type": "display_data",
          "data": {
            "text/html": [
              "<br/>Waiting for W&B process to finish, PID 1093<br/>Program ended successfully."
            ],
            "text/plain": [
              "<IPython.core.display.HTML object>"
            ]
          },
          "metadata": {
            "tags": []
          }
        },
        {
          "output_type": "display_data",
          "data": {
            "application/vnd.jupyter.widget-view+json": {
              "model_id": "b3ac9bac81b64df4bef6d09ba249a665",
              "version_minor": 0,
              "version_major": 2
            },
            "text/plain": [
              "VBox(children=(Label(value=' 0.00MB of 0.00MB uploaded (0.00MB deduped)\\r'), FloatProgress(value=1.0, max=1.0)…"
            ]
          },
          "metadata": {
            "tags": []
          }
        },
        {
          "output_type": "display_data",
          "data": {
            "text/html": [
              "Find user logs for this run at: <code>wandb/run-20201016_053507-sep-pca1024-cc200ho-fold-2-rp-1/logs/debug.log</code>"
            ],
            "text/plain": [
              "<IPython.core.display.HTML object>"
            ]
          },
          "metadata": {
            "tags": []
          }
        },
        {
          "output_type": "display_data",
          "data": {
            "text/html": [
              "Find internal logs for this run at: <code>wandb/run-20201016_053507-sep-pca1024-cc200ho-fold-2-rp-1/logs/debug-internal.log</code>"
            ],
            "text/plain": [
              "<IPython.core.display.HTML object>"
            ]
          },
          "metadata": {
            "tags": []
          }
        },
        {
          "output_type": "display_data",
          "data": {
            "text/html": [
              "<h3>Run summary:</h3><br/><style>\n",
              "    table.wandb td:nth-child(1) { padding: 0 10px; text-align: right }\n",
              "    </style><table class=\"wandb\">\n",
              "<tr><td>Classifier Train loss</td><td>0.36498</td></tr><tr><td>Train accuracy</td><td>0.90086</td></tr><tr><td>AE Train loss</td><td>0.0</td></tr><tr><td>_step</td><td>24</td></tr><tr><td>_runtime</td><td>18</td></tr><tr><td>_timestamp</td><td>1602826528</td></tr></table>"
            ],
            "text/plain": [
              "<IPython.core.display.HTML object>"
            ]
          },
          "metadata": {
            "tags": []
          }
        },
        {
          "output_type": "display_data",
          "data": {
            "text/html": [
              "<h3>Run history:</h3><br/><style>\n",
              "    table.wandb td:nth-child(1) { padding: 0 10px; text-align: right }\n",
              "    </style><table class=\"wandb\">\n",
              "<tr><td>Classifier Train loss</td><td>█▇▇▆▆▅▅▅▄▄▄▄▃▃▃▃▃▂▂▂▂▂▁▁▁</td></tr><tr><td>Train accuracy</td><td>▁▃▃▄▄▄▅▅▅▆▆▆▆▆▇▇▇▇▇▇█████</td></tr><tr><td>AE Train loss</td><td>█▆▅▅▄▄▃▃▃▃▃▂▂▂▂▂▂▂▂▂▁▁▁▁▁</td></tr><tr><td>_step</td><td>▁▁▂▂▂▂▃▃▃▄▄▄▅▅▅▅▆▆▆▇▇▇▇██</td></tr><tr><td>_runtime</td><td>▁▁▂▂▂▃▃▃▄▄▄▅▅▅▅▅▆▆▆▇▇▇███</td></tr><tr><td>_timestamp</td><td>▁▁▂▂▂▃▃▃▄▄▄▅▅▅▅▅▆▆▆▇▇▇███</td></tr></table><br/>"
            ],
            "text/plain": [
              "<IPython.core.display.HTML object>"
            ]
          },
          "metadata": {
            "tags": []
          }
        },
        {
          "output_type": "display_data",
          "data": {
            "text/html": [
              "Synced 5 W&B file(s), 0 media file(s), 0 artifact file(s) and 0 other file(s)"
            ],
            "text/plain": [
              "<IPython.core.display.HTML object>"
            ]
          },
          "metadata": {
            "tags": []
          }
        },
        {
          "output_type": "display_data",
          "data": {
            "text/html": [
              "\n",
              "                    <br/>Synced <strong style=\"color:#cdcd00\">asd-diagnet-sep-pca1024-cc200ho-fold-2-rp-1</strong>: <a href=\"https://wandb.ai/pindi-krishna/asd2/runs/sep-pca1024-cc200ho-fold-2-rp-1\" target=\"_blank\">https://wandb.ai/pindi-krishna/asd2/runs/sep-pca1024-cc200ho-fold-2-rp-1</a><br/>\n",
              "                "
            ],
            "text/plain": [
              "<IPython.core.display.HTML object>"
            ]
          },
          "metadata": {
            "tags": []
          }
        },
        {
          "output_type": "display_data",
          "data": {
            "text/html": [
              "\n",
              "                Tracking run with wandb version 0.10.7<br/>\n",
              "                Syncing run <strong style=\"color:#cdcd00\">asd-diagnet-sep-pca1024-cc200ho-fold-3-rp-1</strong> to <a href=\"https://wandb.ai\" target=\"_blank\">Weights & Biases</a> <a href=\"https://docs.wandb.com/integrations/jupyter.html\" target=\"_blank\">(Documentation)</a>.<br/>\n",
              "                Project page: <a href=\"https://wandb.ai/pindi-krishna/asd2\" target=\"_blank\">https://wandb.ai/pindi-krishna/asd2</a><br/>\n",
              "                Run page: <a href=\"https://wandb.ai/pindi-krishna/asd2/runs/sep-pca1024-cc200ho-fold-3-rp-1\" target=\"_blank\">https://wandb.ai/pindi-krishna/asd2/runs/sep-pca1024-cc200ho-fold-3-rp-1</a><br/>\n",
              "                Run data is saved locally in <code>wandb/run-20201016_053528-sep-pca1024-cc200ho-fold-3-rp-1</code><br/><br/>\n",
              "            "
            ],
            "text/plain": [
              "<IPython.core.display.HTML object>"
            ]
          },
          "metadata": {
            "tags": []
          }
        },
        {
          "output_type": "stream",
          "text": [
            "Epoch 1/26\n",
            " Classifier Train loss: 0.6904, AE Train loss: 652.4686, Train Acc: 0.5194\n",
            "Epoch 2/26\n",
            " Classifier Train loss: 0.6558, AE Train loss: 494.6511, Train Acc: 0.6196\n",
            "Epoch 3/26\n",
            " Classifier Train loss: 0.6290, AE Train loss: 407.6198, Train Acc: 0.6584\n",
            "Epoch 4/26\n",
            " Classifier Train loss: 0.6058, AE Train loss: 345.1112, Train Acc: 0.6843\n",
            "Epoch 5/26\n",
            " Classifier Train loss: 0.5867, AE Train loss: 296.9551, Train Acc: 0.7123\n",
            "Epoch 6/26\n",
            " Classifier Train loss: 0.5701, AE Train loss: 258.9968, Train Acc: 0.7220\n",
            "Epoch 7/26\n",
            " Classifier Train loss: 0.5555, AE Train loss: 227.6749, Train Acc: 0.7381\n",
            "Epoch 8/26\n",
            " Classifier Train loss: 0.5411, AE Train loss: 201.9743, Train Acc: 0.7489\n",
            "Epoch 9/26\n",
            " Classifier Train loss: 0.5286, AE Train loss: 180.1393, Train Acc: 0.7629\n",
            "Epoch 10/26\n",
            " Classifier Train loss: 0.5165, AE Train loss: 161.7010, Train Acc: 0.7705\n",
            "Epoch 11/26\n",
            " Classifier Train loss: 0.5056, AE Train loss: 145.6416, Train Acc: 0.7823\n",
            "Epoch 12/26\n",
            " Classifier Train loss: 0.4938, AE Train loss: 131.8416, Train Acc: 0.7920\n",
            "Epoch 13/26\n",
            " Classifier Train loss: 0.4846, AE Train loss: 119.7934, Train Acc: 0.7996\n",
            "Epoch 14/26\n",
            " Classifier Train loss: 0.4739, AE Train loss: 109.0852, Train Acc: 0.8103\n",
            "Epoch 15/26\n",
            " Classifier Train loss: 0.4641, AE Train loss: 99.7128, Train Acc: 0.8297\n",
            "Epoch 16/26\n",
            " Classifier Train loss: 0.4558, AE Train loss: 91.2520, Train Acc: 0.8330\n",
            "Epoch 17/26\n",
            " Classifier Train loss: 0.4461, AE Train loss: 83.7976, Train Acc: 0.8394\n",
            "Epoch 18/26\n",
            " Classifier Train loss: 0.4391, AE Train loss: 77.0548, Train Acc: 0.8416\n",
            "Epoch 19/26\n",
            " Classifier Train loss: 0.4308, AE Train loss: 70.9517, Train Acc: 0.8416\n",
            "Epoch 20/26\n",
            " Classifier Train loss: 0.4239, AE Train loss: 65.4948, Train Acc: 0.8491\n",
            "Epoch 21/26\n",
            " Classifier Train loss: 0.4157, AE Train loss: 0.0000, Train Acc: 0.8578\n",
            "Epoch 22/26\n",
            " Classifier Train loss: 0.4058, AE Train loss: 0.0000, Train Acc: 0.8631\n",
            "Epoch 23/26\n",
            " Classifier Train loss: 0.3966, AE Train loss: 0.0000, Train Acc: 0.8696\n",
            "Epoch 24/26\n",
            " Classifier Train loss: 0.3865, AE Train loss: 0.0000, Train Acc: 0.8825\n",
            "Epoch 25/26\n",
            " Classifier Train loss: 0.3784, AE Train loss: 0.0000, Train Acc: 0.8869\n",
            "-----------------------------\n",
            "Fold 3/10\n",
            "{'accuracy': 0.6923, 'senstivity': 0.6863, 'specificity': 0.6981, 'loss': 0.5952}\n",
            "-----------------------------\n"
          ],
          "name": "stdout"
        },
        {
          "output_type": "stream",
          "text": [
            "\u001b[34m\u001b[1mwandb\u001b[0m: \u001b[33mWARNING\u001b[0m Calling wandb.login() after wandb.init() has no effect.\n"
          ],
          "name": "stderr"
        },
        {
          "output_type": "display_data",
          "data": {
            "text/html": [
              "<br/>Waiting for W&B process to finish, PID 1225<br/>Program ended successfully."
            ],
            "text/plain": [
              "<IPython.core.display.HTML object>"
            ]
          },
          "metadata": {
            "tags": []
          }
        },
        {
          "output_type": "display_data",
          "data": {
            "application/vnd.jupyter.widget-view+json": {
              "model_id": "a724a7ff394945c28a9c740d01f479b9",
              "version_minor": 0,
              "version_major": 2
            },
            "text/plain": [
              "VBox(children=(Label(value=' 0.00MB of 0.00MB uploaded (0.00MB deduped)\\r'), FloatProgress(value=1.0, max=1.0)…"
            ]
          },
          "metadata": {
            "tags": []
          }
        },
        {
          "output_type": "display_data",
          "data": {
            "text/html": [
              "Find user logs for this run at: <code>wandb/run-20201016_053528-sep-pca1024-cc200ho-fold-3-rp-1/logs/debug.log</code>"
            ],
            "text/plain": [
              "<IPython.core.display.HTML object>"
            ]
          },
          "metadata": {
            "tags": []
          }
        },
        {
          "output_type": "display_data",
          "data": {
            "text/html": [
              "Find internal logs for this run at: <code>wandb/run-20201016_053528-sep-pca1024-cc200ho-fold-3-rp-1/logs/debug-internal.log</code>"
            ],
            "text/plain": [
              "<IPython.core.display.HTML object>"
            ]
          },
          "metadata": {
            "tags": []
          }
        },
        {
          "output_type": "display_data",
          "data": {
            "text/html": [
              "<h3>Run summary:</h3><br/><style>\n",
              "    table.wandb td:nth-child(1) { padding: 0 10px; text-align: right }\n",
              "    </style><table class=\"wandb\">\n",
              "<tr><td>Classifier Train loss</td><td>0.37844</td></tr><tr><td>Train accuracy</td><td>0.88685</td></tr><tr><td>AE Train loss</td><td>0.0</td></tr><tr><td>_step</td><td>24</td></tr><tr><td>_runtime</td><td>18</td></tr><tr><td>_timestamp</td><td>1602826549</td></tr></table>"
            ],
            "text/plain": [
              "<IPython.core.display.HTML object>"
            ]
          },
          "metadata": {
            "tags": []
          }
        },
        {
          "output_type": "display_data",
          "data": {
            "text/html": [
              "<h3>Run history:</h3><br/><style>\n",
              "    table.wandb td:nth-child(1) { padding: 0 10px; text-align: right }\n",
              "    </style><table class=\"wandb\">\n",
              "<tr><td>Classifier Train loss</td><td>█▇▇▆▆▅▅▅▄▄▄▄▃▃▃▃▃▂▂▂▂▂▁▁▁</td></tr><tr><td>Train accuracy</td><td>▁▃▄▄▅▅▅▅▆▆▆▆▆▇▇▇▇▇▇▇▇████</td></tr><tr><td>AE Train loss</td><td>█▆▅▅▄▄▃▃▃▃▃▂▂▂▂▂▂▂▂▂▁▁▁▁▁</td></tr><tr><td>_step</td><td>▁▁▂▂▂▂▃▃▃▄▄▄▅▅▅▅▆▆▆▇▇▇▇██</td></tr><tr><td>_runtime</td><td>▁▁▂▂▂▃▃▃▄▄▄▅▅▅▅▅▆▆▆▇▇▇███</td></tr><tr><td>_timestamp</td><td>▁▁▂▂▂▃▃▃▄▄▄▅▅▅▅▅▆▆▆▇▇▇███</td></tr></table><br/>"
            ],
            "text/plain": [
              "<IPython.core.display.HTML object>"
            ]
          },
          "metadata": {
            "tags": []
          }
        },
        {
          "output_type": "display_data",
          "data": {
            "text/html": [
              "Synced 5 W&B file(s), 0 media file(s), 0 artifact file(s) and 0 other file(s)"
            ],
            "text/plain": [
              "<IPython.core.display.HTML object>"
            ]
          },
          "metadata": {
            "tags": []
          }
        },
        {
          "output_type": "display_data",
          "data": {
            "text/html": [
              "\n",
              "                    <br/>Synced <strong style=\"color:#cdcd00\">asd-diagnet-sep-pca1024-cc200ho-fold-3-rp-1</strong>: <a href=\"https://wandb.ai/pindi-krishna/asd2/runs/sep-pca1024-cc200ho-fold-3-rp-1\" target=\"_blank\">https://wandb.ai/pindi-krishna/asd2/runs/sep-pca1024-cc200ho-fold-3-rp-1</a><br/>\n",
              "                "
            ],
            "text/plain": [
              "<IPython.core.display.HTML object>"
            ]
          },
          "metadata": {
            "tags": []
          }
        },
        {
          "output_type": "display_data",
          "data": {
            "text/html": [
              "\n",
              "                Tracking run with wandb version 0.10.7<br/>\n",
              "                Syncing run <strong style=\"color:#cdcd00\">asd-diagnet-sep-pca1024-cc200ho-fold-4-rp-1</strong> to <a href=\"https://wandb.ai\" target=\"_blank\">Weights & Biases</a> <a href=\"https://docs.wandb.com/integrations/jupyter.html\" target=\"_blank\">(Documentation)</a>.<br/>\n",
              "                Project page: <a href=\"https://wandb.ai/pindi-krishna/asd2\" target=\"_blank\">https://wandb.ai/pindi-krishna/asd2</a><br/>\n",
              "                Run page: <a href=\"https://wandb.ai/pindi-krishna/asd2/runs/sep-pca1024-cc200ho-fold-4-rp-1\" target=\"_blank\">https://wandb.ai/pindi-krishna/asd2/runs/sep-pca1024-cc200ho-fold-4-rp-1</a><br/>\n",
              "                Run data is saved locally in <code>wandb/run-20201016_053549-sep-pca1024-cc200ho-fold-4-rp-1</code><br/><br/>\n",
              "            "
            ],
            "text/plain": [
              "<IPython.core.display.HTML object>"
            ]
          },
          "metadata": {
            "tags": []
          }
        },
        {
          "output_type": "stream",
          "text": [
            "Epoch 1/26\n",
            " Classifier Train loss: 0.6959, AE Train loss: 652.1481, Train Acc: 0.5108\n",
            "Epoch 2/26\n",
            " Classifier Train loss: 0.6491, AE Train loss: 495.0258, Train Acc: 0.6185\n",
            "Epoch 3/26\n",
            " Classifier Train loss: 0.6174, AE Train loss: 407.8286, Train Acc: 0.6929\n",
            "Epoch 4/26\n",
            " Classifier Train loss: 0.5929, AE Train loss: 345.6294, Train Acc: 0.7220\n",
            "Epoch 5/26\n",
            " Classifier Train loss: 0.5731, AE Train loss: 297.6160, Train Acc: 0.7457\n",
            "Epoch 6/26\n",
            " Classifier Train loss: 0.5562, AE Train loss: 259.3665, Train Acc: 0.7629\n",
            "Epoch 7/26\n",
            " Classifier Train loss: 0.5414, AE Train loss: 227.9922, Train Acc: 0.7651\n",
            "Epoch 8/26\n",
            " Classifier Train loss: 0.5275, AE Train loss: 202.1932, Train Acc: 0.7737\n",
            "Epoch 9/26\n",
            " Classifier Train loss: 0.5145, AE Train loss: 180.5649, Train Acc: 0.7942\n",
            "Epoch 10/26\n",
            " Classifier Train loss: 0.5026, AE Train loss: 161.9481, Train Acc: 0.8006\n",
            "Epoch 11/26\n",
            " Classifier Train loss: 0.4912, AE Train loss: 145.9626, Train Acc: 0.8071\n",
            "Epoch 12/26\n",
            " Classifier Train loss: 0.4805, AE Train loss: 132.2750, Train Acc: 0.8147\n",
            "Epoch 13/26\n",
            " Classifier Train loss: 0.4693, AE Train loss: 120.1672, Train Acc: 0.8211\n",
            "Epoch 14/26\n",
            " Classifier Train loss: 0.4589, AE Train loss: 109.4737, Train Acc: 0.8244\n",
            "Epoch 15/26\n",
            " Classifier Train loss: 0.4506, AE Train loss: 100.0759, Train Acc: 0.8351\n",
            "Epoch 16/26\n",
            " Classifier Train loss: 0.4411, AE Train loss: 91.4675, Train Acc: 0.8416\n",
            "Epoch 17/26\n",
            " Classifier Train loss: 0.4319, AE Train loss: 84.0484, Train Acc: 0.8481\n",
            "Epoch 18/26\n",
            " Classifier Train loss: 0.4248, AE Train loss: 77.2257, Train Acc: 0.8524\n",
            "Epoch 19/26\n",
            " Classifier Train loss: 0.4167, AE Train loss: 71.1964, Train Acc: 0.8642\n",
            "Epoch 20/26\n",
            " Classifier Train loss: 0.4093, AE Train loss: 65.6261, Train Acc: 0.8739\n",
            "Epoch 21/26\n",
            " Classifier Train loss: 0.4013, AE Train loss: 0.0000, Train Acc: 0.8696\n",
            "Epoch 22/26\n",
            " Classifier Train loss: 0.3914, AE Train loss: 0.0000, Train Acc: 0.8815\n",
            "Epoch 23/26\n",
            " Classifier Train loss: 0.3819, AE Train loss: 0.0000, Train Acc: 0.8879\n",
            "Epoch 24/26\n",
            " Classifier Train loss: 0.3728, AE Train loss: 0.0000, Train Acc: 0.8933\n",
            "Epoch 25/26\n",
            " Classifier Train loss: 0.3639, AE Train loss: 0.0000, Train Acc: 0.9009\n"
          ],
          "name": "stdout"
        },
        {
          "output_type": "stream",
          "text": [
            "\u001b[34m\u001b[1mwandb\u001b[0m: \u001b[33mWARNING\u001b[0m Calling wandb.login() after wandb.init() has no effect.\n"
          ],
          "name": "stderr"
        },
        {
          "output_type": "stream",
          "text": [
            "-----------------------------\n",
            "Fold 4/10\n",
            "{'accuracy': 0.6635, 'senstivity': 0.7255, 'specificity': 0.6038, 'loss': 0.6206}\n",
            "-----------------------------\n"
          ],
          "name": "stdout"
        },
        {
          "output_type": "display_data",
          "data": {
            "text/html": [
              "<br/>Waiting for W&B process to finish, PID 1357<br/>Program ended successfully."
            ],
            "text/plain": [
              "<IPython.core.display.HTML object>"
            ]
          },
          "metadata": {
            "tags": []
          }
        },
        {
          "output_type": "display_data",
          "data": {
            "application/vnd.jupyter.widget-view+json": {
              "model_id": "559c86e75c194436b732d666709dde12",
              "version_minor": 0,
              "version_major": 2
            },
            "text/plain": [
              "VBox(children=(Label(value=' 0.00MB of 0.00MB uploaded (0.00MB deduped)\\r'), FloatProgress(value=1.0, max=1.0)…"
            ]
          },
          "metadata": {
            "tags": []
          }
        },
        {
          "output_type": "display_data",
          "data": {
            "text/html": [
              "Find user logs for this run at: <code>wandb/run-20201016_053549-sep-pca1024-cc200ho-fold-4-rp-1/logs/debug.log</code>"
            ],
            "text/plain": [
              "<IPython.core.display.HTML object>"
            ]
          },
          "metadata": {
            "tags": []
          }
        },
        {
          "output_type": "display_data",
          "data": {
            "text/html": [
              "Find internal logs for this run at: <code>wandb/run-20201016_053549-sep-pca1024-cc200ho-fold-4-rp-1/logs/debug-internal.log</code>"
            ],
            "text/plain": [
              "<IPython.core.display.HTML object>"
            ]
          },
          "metadata": {
            "tags": []
          }
        },
        {
          "output_type": "display_data",
          "data": {
            "text/html": [
              "<h3>Run summary:</h3><br/><style>\n",
              "    table.wandb td:nth-child(1) { padding: 0 10px; text-align: right }\n",
              "    </style><table class=\"wandb\">\n",
              "<tr><td>Classifier Train loss</td><td>0.36389</td></tr><tr><td>Train accuracy</td><td>0.90086</td></tr><tr><td>AE Train loss</td><td>0.0</td></tr><tr><td>_step</td><td>24</td></tr><tr><td>_runtime</td><td>18</td></tr><tr><td>_timestamp</td><td>1602826570</td></tr></table>"
            ],
            "text/plain": [
              "<IPython.core.display.HTML object>"
            ]
          },
          "metadata": {
            "tags": []
          }
        },
        {
          "output_type": "display_data",
          "data": {
            "text/html": [
              "<h3>Run history:</h3><br/><style>\n",
              "    table.wandb td:nth-child(1) { padding: 0 10px; text-align: right }\n",
              "    </style><table class=\"wandb\">\n",
              "<tr><td>Classifier Train loss</td><td>█▇▆▆▅▅▅▄▄▄▄▃▃▃▃▃▂▂▂▂▂▂▁▁▁</td></tr><tr><td>Train accuracy</td><td>▁▃▄▅▅▆▆▆▆▆▆▆▇▇▇▇▇▇▇█▇████</td></tr><tr><td>AE Train loss</td><td>█▆▅▅▄▄▃▃▃▃▃▂▂▂▂▂▂▂▂▂▁▁▁▁▁</td></tr><tr><td>_step</td><td>▁▁▂▂▂▂▃▃▃▄▄▄▅▅▅▅▆▆▆▇▇▇▇██</td></tr><tr><td>_runtime</td><td>▁▁▂▂▂▃▃▃▄▄▄▅▅▅▅▅▆▆▆▇▇▇███</td></tr><tr><td>_timestamp</td><td>▁▁▂▂▂▃▃▃▄▄▄▅▅▅▅▅▆▆▆▇▇▇███</td></tr></table><br/>"
            ],
            "text/plain": [
              "<IPython.core.display.HTML object>"
            ]
          },
          "metadata": {
            "tags": []
          }
        },
        {
          "output_type": "display_data",
          "data": {
            "text/html": [
              "Synced 5 W&B file(s), 0 media file(s), 0 artifact file(s) and 0 other file(s)"
            ],
            "text/plain": [
              "<IPython.core.display.HTML object>"
            ]
          },
          "metadata": {
            "tags": []
          }
        },
        {
          "output_type": "display_data",
          "data": {
            "text/html": [
              "\n",
              "                    <br/>Synced <strong style=\"color:#cdcd00\">asd-diagnet-sep-pca1024-cc200ho-fold-4-rp-1</strong>: <a href=\"https://wandb.ai/pindi-krishna/asd2/runs/sep-pca1024-cc200ho-fold-4-rp-1\" target=\"_blank\">https://wandb.ai/pindi-krishna/asd2/runs/sep-pca1024-cc200ho-fold-4-rp-1</a><br/>\n",
              "                "
            ],
            "text/plain": [
              "<IPython.core.display.HTML object>"
            ]
          },
          "metadata": {
            "tags": []
          }
        },
        {
          "output_type": "display_data",
          "data": {
            "text/html": [
              "\n",
              "                Tracking run with wandb version 0.10.7<br/>\n",
              "                Syncing run <strong style=\"color:#cdcd00\">asd-diagnet-sep-pca1024-cc200ho-fold-5-rp-1</strong> to <a href=\"https://wandb.ai\" target=\"_blank\">Weights & Biases</a> <a href=\"https://docs.wandb.com/integrations/jupyter.html\" target=\"_blank\">(Documentation)</a>.<br/>\n",
              "                Project page: <a href=\"https://wandb.ai/pindi-krishna/asd2\" target=\"_blank\">https://wandb.ai/pindi-krishna/asd2</a><br/>\n",
              "                Run page: <a href=\"https://wandb.ai/pindi-krishna/asd2/runs/sep-pca1024-cc200ho-fold-5-rp-1\" target=\"_blank\">https://wandb.ai/pindi-krishna/asd2/runs/sep-pca1024-cc200ho-fold-5-rp-1</a><br/>\n",
              "                Run data is saved locally in <code>wandb/run-20201016_053610-sep-pca1024-cc200ho-fold-5-rp-1</code><br/><br/>\n",
              "            "
            ],
            "text/plain": [
              "<IPython.core.display.HTML object>"
            ]
          },
          "metadata": {
            "tags": []
          }
        },
        {
          "output_type": "stream",
          "text": [
            "Epoch 1/26\n",
            " Classifier Train loss: 0.6869, AE Train loss: 654.9667, Train Acc: 0.5409\n",
            "Epoch 2/26\n",
            " Classifier Train loss: 0.6415, AE Train loss: 496.6130, Train Acc: 0.6487\n",
            "Epoch 3/26\n",
            " Classifier Train loss: 0.6164, AE Train loss: 409.0471, Train Acc: 0.6756\n",
            "Epoch 4/26\n",
            " Classifier Train loss: 0.5973, AE Train loss: 346.2556, Train Acc: 0.7058\n",
            "Epoch 5/26\n",
            " Classifier Train loss: 0.5784, AE Train loss: 298.0502, Train Acc: 0.7274\n",
            "Epoch 6/26\n",
            " Classifier Train loss: 0.5631, AE Train loss: 259.5519, Train Acc: 0.7403\n",
            "Epoch 7/26\n",
            " Classifier Train loss: 0.5489, AE Train loss: 228.1457, Train Acc: 0.7522\n",
            "Epoch 8/26\n",
            " Classifier Train loss: 0.5331, AE Train loss: 202.2264, Train Acc: 0.7619\n",
            "Epoch 9/26\n",
            " Classifier Train loss: 0.5219, AE Train loss: 180.4830, Train Acc: 0.7716\n",
            "Epoch 10/26\n",
            " Classifier Train loss: 0.5104, AE Train loss: 161.7892, Train Acc: 0.7780\n",
            "Epoch 11/26\n",
            " Classifier Train loss: 0.4993, AE Train loss: 145.9391, Train Acc: 0.7845\n",
            "Epoch 12/26\n",
            " Classifier Train loss: 0.4881, AE Train loss: 132.0370, Train Acc: 0.7920\n",
            "Epoch 13/26\n",
            " Classifier Train loss: 0.4779, AE Train loss: 119.8558, Train Acc: 0.8028\n",
            "Epoch 14/26\n",
            " Classifier Train loss: 0.4678, AE Train loss: 109.1571, Train Acc: 0.8060\n",
            "Epoch 15/26\n",
            " Classifier Train loss: 0.4587, AE Train loss: 99.6429, Train Acc: 0.8200\n",
            "Epoch 16/26\n",
            " Classifier Train loss: 0.4501, AE Train loss: 91.3224, Train Acc: 0.8211\n",
            "Epoch 17/26\n",
            " Classifier Train loss: 0.4410, AE Train loss: 83.7733, Train Acc: 0.8362\n",
            "Epoch 18/26\n",
            " Classifier Train loss: 0.4328, AE Train loss: 76.9857, Train Acc: 0.8341\n",
            "Epoch 19/26\n",
            " Classifier Train loss: 0.4248, AE Train loss: 70.8718, Train Acc: 0.8470\n",
            "Epoch 20/26\n",
            " Classifier Train loss: 0.4171, AE Train loss: 65.4324, Train Acc: 0.8545\n",
            "Epoch 21/26\n",
            " Classifier Train loss: 0.4085, AE Train loss: 0.0000, Train Acc: 0.8610\n",
            "Epoch 22/26\n",
            " Classifier Train loss: 0.3994, AE Train loss: 0.0000, Train Acc: 0.8761\n",
            "Epoch 23/26\n",
            " Classifier Train loss: 0.3892, AE Train loss: 0.0000, Train Acc: 0.8869\n",
            "Epoch 24/26\n",
            " Classifier Train loss: 0.3801, AE Train loss: 0.0000, Train Acc: 0.8955\n",
            "Epoch 25/26\n",
            " Classifier Train loss: 0.3708, AE Train loss: 0.0000, Train Acc: 0.8987\n"
          ],
          "name": "stdout"
        },
        {
          "output_type": "stream",
          "text": [
            "\u001b[34m\u001b[1mwandb\u001b[0m: \u001b[33mWARNING\u001b[0m Calling wandb.login() after wandb.init() has no effect.\n"
          ],
          "name": "stderr"
        },
        {
          "output_type": "stream",
          "text": [
            "-----------------------------\n",
            "Fold 5/10\n",
            "{'accuracy': 0.7212, 'senstivity': 0.6667, 'specificity': 0.7736, 'loss': 0.5795}\n",
            "-----------------------------\n"
          ],
          "name": "stdout"
        },
        {
          "output_type": "display_data",
          "data": {
            "text/html": [
              "<br/>Waiting for W&B process to finish, PID 1491<br/>Program ended successfully."
            ],
            "text/plain": [
              "<IPython.core.display.HTML object>"
            ]
          },
          "metadata": {
            "tags": []
          }
        },
        {
          "output_type": "display_data",
          "data": {
            "application/vnd.jupyter.widget-view+json": {
              "model_id": "7b3912f175034886a160a6f494592aae",
              "version_minor": 0,
              "version_major": 2
            },
            "text/plain": [
              "VBox(children=(Label(value=' 0.00MB of 0.00MB uploaded (0.00MB deduped)\\r'), FloatProgress(value=1.0, max=1.0)…"
            ]
          },
          "metadata": {
            "tags": []
          }
        },
        {
          "output_type": "display_data",
          "data": {
            "text/html": [
              "Find user logs for this run at: <code>wandb/run-20201016_053610-sep-pca1024-cc200ho-fold-5-rp-1/logs/debug.log</code>"
            ],
            "text/plain": [
              "<IPython.core.display.HTML object>"
            ]
          },
          "metadata": {
            "tags": []
          }
        },
        {
          "output_type": "display_data",
          "data": {
            "text/html": [
              "Find internal logs for this run at: <code>wandb/run-20201016_053610-sep-pca1024-cc200ho-fold-5-rp-1/logs/debug-internal.log</code>"
            ],
            "text/plain": [
              "<IPython.core.display.HTML object>"
            ]
          },
          "metadata": {
            "tags": []
          }
        },
        {
          "output_type": "display_data",
          "data": {
            "text/html": [
              "<h3>Run summary:</h3><br/><style>\n",
              "    table.wandb td:nth-child(1) { padding: 0 10px; text-align: right }\n",
              "    </style><table class=\"wandb\">\n",
              "<tr><td>Classifier Train loss</td><td>0.37078</td></tr><tr><td>Train accuracy</td><td>0.89871</td></tr><tr><td>AE Train loss</td><td>0.0</td></tr><tr><td>_step</td><td>24</td></tr><tr><td>_runtime</td><td>18</td></tr><tr><td>_timestamp</td><td>1602826591</td></tr></table>"
            ],
            "text/plain": [
              "<IPython.core.display.HTML object>"
            ]
          },
          "metadata": {
            "tags": []
          }
        },
        {
          "output_type": "display_data",
          "data": {
            "text/html": [
              "<h3>Run history:</h3><br/><style>\n",
              "    table.wandb td:nth-child(1) { padding: 0 10px; text-align: right }\n",
              "    </style><table class=\"wandb\">\n",
              "<tr><td>Classifier Train loss</td><td>█▇▆▆▆▅▅▅▄▄▄▄▃▃▃▃▃▂▂▂▂▂▁▁▁</td></tr><tr><td>Train accuracy</td><td>▁▃▄▄▅▅▅▅▆▆▆▆▆▆▆▆▇▇▇▇▇████</td></tr><tr><td>AE Train loss</td><td>█▆▅▅▄▄▃▃▃▃▃▂▂▂▂▂▂▂▂▂▁▁▁▁▁</td></tr><tr><td>_step</td><td>▁▁▂▂▂▂▃▃▃▄▄▄▅▅▅▅▆▆▆▇▇▇▇██</td></tr><tr><td>_runtime</td><td>▁▁▂▂▂▃▃▃▄▄▄▅▅▅▅▅▆▆▆▇▇▇███</td></tr><tr><td>_timestamp</td><td>▁▁▂▂▂▃▃▃▄▄▄▅▅▅▅▅▆▆▆▇▇▇███</td></tr></table><br/>"
            ],
            "text/plain": [
              "<IPython.core.display.HTML object>"
            ]
          },
          "metadata": {
            "tags": []
          }
        },
        {
          "output_type": "display_data",
          "data": {
            "text/html": [
              "Synced 5 W&B file(s), 0 media file(s), 0 artifact file(s) and 0 other file(s)"
            ],
            "text/plain": [
              "<IPython.core.display.HTML object>"
            ]
          },
          "metadata": {
            "tags": []
          }
        },
        {
          "output_type": "display_data",
          "data": {
            "text/html": [
              "\n",
              "                    <br/>Synced <strong style=\"color:#cdcd00\">asd-diagnet-sep-pca1024-cc200ho-fold-5-rp-1</strong>: <a href=\"https://wandb.ai/pindi-krishna/asd2/runs/sep-pca1024-cc200ho-fold-5-rp-1\" target=\"_blank\">https://wandb.ai/pindi-krishna/asd2/runs/sep-pca1024-cc200ho-fold-5-rp-1</a><br/>\n",
              "                "
            ],
            "text/plain": [
              "<IPython.core.display.HTML object>"
            ]
          },
          "metadata": {
            "tags": []
          }
        },
        {
          "output_type": "display_data",
          "data": {
            "text/html": [
              "\n",
              "                Tracking run with wandb version 0.10.7<br/>\n",
              "                Syncing run <strong style=\"color:#cdcd00\">asd-diagnet-sep-pca1024-cc200ho-fold-6-rp-1</strong> to <a href=\"https://wandb.ai\" target=\"_blank\">Weights & Biases</a> <a href=\"https://docs.wandb.com/integrations/jupyter.html\" target=\"_blank\">(Documentation)</a>.<br/>\n",
              "                Project page: <a href=\"https://wandb.ai/pindi-krishna/asd2\" target=\"_blank\">https://wandb.ai/pindi-krishna/asd2</a><br/>\n",
              "                Run page: <a href=\"https://wandb.ai/pindi-krishna/asd2/runs/sep-pca1024-cc200ho-fold-6-rp-1\" target=\"_blank\">https://wandb.ai/pindi-krishna/asd2/runs/sep-pca1024-cc200ho-fold-6-rp-1</a><br/>\n",
              "                Run data is saved locally in <code>wandb/run-20201016_053631-sep-pca1024-cc200ho-fold-6-rp-1</code><br/><br/>\n",
              "            "
            ],
            "text/plain": [
              "<IPython.core.display.HTML object>"
            ]
          },
          "metadata": {
            "tags": []
          }
        },
        {
          "output_type": "stream",
          "text": [
            "Epoch 1/26\n",
            " Classifier Train loss: 0.6884, AE Train loss: 654.6629, Train Acc: 0.5409\n",
            "Epoch 2/26\n",
            " Classifier Train loss: 0.6483, AE Train loss: 497.1049, Train Acc: 0.6315\n",
            "Epoch 3/26\n",
            " Classifier Train loss: 0.6210, AE Train loss: 409.9476, Train Acc: 0.6606\n",
            "Epoch 4/26\n",
            " Classifier Train loss: 0.5996, AE Train loss: 347.2481, Train Acc: 0.6940\n",
            "Epoch 5/26\n",
            " Classifier Train loss: 0.5818, AE Train loss: 298.8749, Train Acc: 0.7231\n",
            "Epoch 6/26\n",
            " Classifier Train loss: 0.5637, AE Train loss: 260.2317, Train Acc: 0.7425\n",
            "Epoch 7/26\n",
            " Classifier Train loss: 0.5505, AE Train loss: 228.9325, Train Acc: 0.7629\n",
            "Epoch 8/26\n",
            " Classifier Train loss: 0.5371, AE Train loss: 202.9821, Train Acc: 0.7716\n",
            "Epoch 9/26\n",
            " Classifier Train loss: 0.5244, AE Train loss: 181.2708, Train Acc: 0.7812\n",
            "Epoch 10/26\n",
            " Classifier Train loss: 0.5127, AE Train loss: 162.5731, Train Acc: 0.7899\n",
            "Epoch 11/26\n",
            " Classifier Train loss: 0.5000, AE Train loss: 146.5658, Train Acc: 0.8028\n",
            "Epoch 12/26\n",
            " Classifier Train loss: 0.4882, AE Train loss: 132.6312, Train Acc: 0.8125\n",
            "Epoch 13/26\n",
            " Classifier Train loss: 0.4805, AE Train loss: 120.4806, Train Acc: 0.8157\n",
            "Epoch 14/26\n",
            " Classifier Train loss: 0.4694, AE Train loss: 109.7131, Train Acc: 0.8222\n",
            "Epoch 15/26\n",
            " Classifier Train loss: 0.4606, AE Train loss: 100.2319, Train Acc: 0.8287\n",
            "Epoch 16/26\n",
            " Classifier Train loss: 0.4518, AE Train loss: 91.9139, Train Acc: 0.8351\n",
            "Epoch 17/26\n",
            " Classifier Train loss: 0.4427, AE Train loss: 84.3203, Train Acc: 0.8491\n",
            "Epoch 18/26\n",
            " Classifier Train loss: 0.4343, AE Train loss: 77.4675, Train Acc: 0.8513\n",
            "Epoch 19/26\n",
            " Classifier Train loss: 0.4271, AE Train loss: 71.4369, Train Acc: 0.8621\n",
            "Epoch 20/26\n",
            " Classifier Train loss: 0.4182, AE Train loss: 65.9263, Train Acc: 0.8642\n",
            "Epoch 21/26\n",
            " Classifier Train loss: 0.4108, AE Train loss: 0.0000, Train Acc: 0.8642\n",
            "Epoch 22/26\n",
            " Classifier Train loss: 0.4022, AE Train loss: 0.0000, Train Acc: 0.8750\n",
            "Epoch 23/26\n",
            " Classifier Train loss: 0.3909, AE Train loss: 0.0000, Train Acc: 0.8858\n",
            "Epoch 24/26\n",
            " Classifier Train loss: 0.3833, AE Train loss: 0.0000, Train Acc: 0.8955\n",
            "Epoch 25/26\n",
            " Classifier Train loss: 0.3737, AE Train loss: 0.0000, Train Acc: 0.8987\n",
            "-----------------------------\n",
            "Fold 6/10\n",
            "{'accuracy': 0.7961, 'senstivity': 0.78, 'specificity': 0.8113, 'loss': 0.4652}\n",
            "-----------------------------\n"
          ],
          "name": "stdout"
        },
        {
          "output_type": "stream",
          "text": [
            "\u001b[34m\u001b[1mwandb\u001b[0m: \u001b[33mWARNING\u001b[0m Calling wandb.login() after wandb.init() has no effect.\n"
          ],
          "name": "stderr"
        },
        {
          "output_type": "display_data",
          "data": {
            "text/html": [
              "<br/>Waiting for W&B process to finish, PID 1623<br/>Program ended successfully."
            ],
            "text/plain": [
              "<IPython.core.display.HTML object>"
            ]
          },
          "metadata": {
            "tags": []
          }
        },
        {
          "output_type": "display_data",
          "data": {
            "application/vnd.jupyter.widget-view+json": {
              "model_id": "8d38c3fa187b45b38cda08757a29dff1",
              "version_minor": 0,
              "version_major": 2
            },
            "text/plain": [
              "VBox(children=(Label(value=' 0.00MB of 0.00MB uploaded (0.00MB deduped)\\r'), FloatProgress(value=1.0, max=1.0)…"
            ]
          },
          "metadata": {
            "tags": []
          }
        },
        {
          "output_type": "display_data",
          "data": {
            "text/html": [
              "Find user logs for this run at: <code>wandb/run-20201016_053631-sep-pca1024-cc200ho-fold-6-rp-1/logs/debug.log</code>"
            ],
            "text/plain": [
              "<IPython.core.display.HTML object>"
            ]
          },
          "metadata": {
            "tags": []
          }
        },
        {
          "output_type": "display_data",
          "data": {
            "text/html": [
              "Find internal logs for this run at: <code>wandb/run-20201016_053631-sep-pca1024-cc200ho-fold-6-rp-1/logs/debug-internal.log</code>"
            ],
            "text/plain": [
              "<IPython.core.display.HTML object>"
            ]
          },
          "metadata": {
            "tags": []
          }
        },
        {
          "output_type": "display_data",
          "data": {
            "text/html": [
              "<h3>Run summary:</h3><br/><style>\n",
              "    table.wandb td:nth-child(1) { padding: 0 10px; text-align: right }\n",
              "    </style><table class=\"wandb\">\n",
              "<tr><td>Classifier Train loss</td><td>0.37373</td></tr><tr><td>Train accuracy</td><td>0.89871</td></tr><tr><td>AE Train loss</td><td>0.0</td></tr><tr><td>_step</td><td>24</td></tr><tr><td>_runtime</td><td>18</td></tr><tr><td>_timestamp</td><td>1602826612</td></tr></table>"
            ],
            "text/plain": [
              "<IPython.core.display.HTML object>"
            ]
          },
          "metadata": {
            "tags": []
          }
        },
        {
          "output_type": "display_data",
          "data": {
            "text/html": [
              "<h3>Run history:</h3><br/><style>\n",
              "    table.wandb td:nth-child(1) { padding: 0 10px; text-align: right }\n",
              "    </style><table class=\"wandb\">\n",
              "<tr><td>Classifier Train loss</td><td>█▇▇▆▆▅▅▅▄▄▄▄▃▃▃▃▃▂▂▂▂▂▁▁▁</td></tr><tr><td>Train accuracy</td><td>▁▃▃▄▅▅▅▆▆▆▆▆▆▇▇▇▇▇▇▇▇████</td></tr><tr><td>AE Train loss</td><td>█▆▅▅▄▄▃▃▃▃▃▂▂▂▂▂▂▂▂▂▁▁▁▁▁</td></tr><tr><td>_step</td><td>▁▁▂▂▂▂▃▃▃▄▄▄▅▅▅▅▆▆▆▇▇▇▇██</td></tr><tr><td>_runtime</td><td>▁▁▂▂▂▃▃▃▄▄▄▅▅▅▅▅▆▆▆▇▇▇███</td></tr><tr><td>_timestamp</td><td>▁▁▂▂▂▃▃▃▄▄▄▅▅▅▅▅▆▆▆▇▇▇███</td></tr></table><br/>"
            ],
            "text/plain": [
              "<IPython.core.display.HTML object>"
            ]
          },
          "metadata": {
            "tags": []
          }
        },
        {
          "output_type": "display_data",
          "data": {
            "text/html": [
              "Synced 5 W&B file(s), 0 media file(s), 0 artifact file(s) and 0 other file(s)"
            ],
            "text/plain": [
              "<IPython.core.display.HTML object>"
            ]
          },
          "metadata": {
            "tags": []
          }
        },
        {
          "output_type": "display_data",
          "data": {
            "text/html": [
              "\n",
              "                    <br/>Synced <strong style=\"color:#cdcd00\">asd-diagnet-sep-pca1024-cc200ho-fold-6-rp-1</strong>: <a href=\"https://wandb.ai/pindi-krishna/asd2/runs/sep-pca1024-cc200ho-fold-6-rp-1\" target=\"_blank\">https://wandb.ai/pindi-krishna/asd2/runs/sep-pca1024-cc200ho-fold-6-rp-1</a><br/>\n",
              "                "
            ],
            "text/plain": [
              "<IPython.core.display.HTML object>"
            ]
          },
          "metadata": {
            "tags": []
          }
        },
        {
          "output_type": "display_data",
          "data": {
            "text/html": [
              "\n",
              "                Tracking run with wandb version 0.10.7<br/>\n",
              "                Syncing run <strong style=\"color:#cdcd00\">asd-diagnet-sep-pca1024-cc200ho-fold-7-rp-1</strong> to <a href=\"https://wandb.ai\" target=\"_blank\">Weights & Biases</a> <a href=\"https://docs.wandb.com/integrations/jupyter.html\" target=\"_blank\">(Documentation)</a>.<br/>\n",
              "                Project page: <a href=\"https://wandb.ai/pindi-krishna/asd2\" target=\"_blank\">https://wandb.ai/pindi-krishna/asd2</a><br/>\n",
              "                Run page: <a href=\"https://wandb.ai/pindi-krishna/asd2/runs/sep-pca1024-cc200ho-fold-7-rp-1\" target=\"_blank\">https://wandb.ai/pindi-krishna/asd2/runs/sep-pca1024-cc200ho-fold-7-rp-1</a><br/>\n",
              "                Run data is saved locally in <code>wandb/run-20201016_053652-sep-pca1024-cc200ho-fold-7-rp-1</code><br/><br/>\n",
              "            "
            ],
            "text/plain": [
              "<IPython.core.display.HTML object>"
            ]
          },
          "metadata": {
            "tags": []
          }
        },
        {
          "output_type": "stream",
          "text": [
            "Epoch 1/26\n",
            " Classifier Train loss: 0.6686, AE Train loss: 653.9755, Train Acc: 0.5905\n",
            "Epoch 2/26\n",
            " Classifier Train loss: 0.6375, AE Train loss: 494.9107, Train Acc: 0.6390\n",
            "Epoch 3/26\n",
            " Classifier Train loss: 0.6127, AE Train loss: 408.3479, Train Acc: 0.6746\n",
            "Epoch 4/26\n",
            " Classifier Train loss: 0.5925, AE Train loss: 346.0405, Train Acc: 0.6940\n",
            "Epoch 5/26\n",
            " Classifier Train loss: 0.5749, AE Train loss: 297.8382, Train Acc: 0.7134\n",
            "Epoch 6/26\n",
            " Classifier Train loss: 0.5592, AE Train loss: 259.3590, Train Acc: 0.7231\n",
            "Epoch 7/26\n",
            " Classifier Train loss: 0.5422, AE Train loss: 228.1416, Train Acc: 0.7489\n",
            "Epoch 8/26\n",
            " Classifier Train loss: 0.5300, AE Train loss: 202.4068, Train Acc: 0.7554\n",
            "Epoch 9/26\n",
            " Classifier Train loss: 0.5165, AE Train loss: 180.3804, Train Acc: 0.7683\n",
            "Epoch 10/26\n",
            " Classifier Train loss: 0.5051, AE Train loss: 161.8451, Train Acc: 0.7748\n",
            "Epoch 11/26\n",
            " Classifier Train loss: 0.4935, AE Train loss: 145.9572, Train Acc: 0.7823\n",
            "Epoch 12/26\n",
            " Classifier Train loss: 0.4828, AE Train loss: 132.1084, Train Acc: 0.7920\n",
            "Epoch 13/26\n",
            " Classifier Train loss: 0.4716, AE Train loss: 119.9518, Train Acc: 0.7942\n",
            "Epoch 14/26\n",
            " Classifier Train loss: 0.4637, AE Train loss: 109.2670, Train Acc: 0.7985\n",
            "Epoch 15/26\n",
            " Classifier Train loss: 0.4537, AE Train loss: 99.8577, Train Acc: 0.8082\n",
            "Epoch 16/26\n",
            " Classifier Train loss: 0.4456, AE Train loss: 91.3628, Train Acc: 0.8190\n",
            "Epoch 17/26\n",
            " Classifier Train loss: 0.4363, AE Train loss: 84.0348, Train Acc: 0.8244\n",
            "Epoch 18/26\n",
            " Classifier Train loss: 0.4294, AE Train loss: 77.1847, Train Acc: 0.8384\n",
            "Epoch 19/26\n",
            " Classifier Train loss: 0.4209, AE Train loss: 71.0669, Train Acc: 0.8416\n",
            "Epoch 20/26\n",
            " Classifier Train loss: 0.4136, AE Train loss: 65.5764, Train Acc: 0.8491\n",
            "Epoch 21/26\n",
            " Classifier Train loss: 0.4054, AE Train loss: 0.0000, Train Acc: 0.8588\n",
            "Epoch 22/26\n",
            " Classifier Train loss: 0.3953, AE Train loss: 0.0000, Train Acc: 0.8675\n",
            "Epoch 23/26\n",
            " Classifier Train loss: 0.3857, AE Train loss: 0.0000, Train Acc: 0.8793\n",
            "Epoch 24/26\n",
            " Classifier Train loss: 0.3776, AE Train loss: 0.0000, Train Acc: 0.8912\n",
            "Epoch 25/26\n",
            " Classifier Train loss: 0.3670, AE Train loss: 0.0000, Train Acc: 0.8955\n"
          ],
          "name": "stdout"
        },
        {
          "output_type": "stream",
          "text": [
            "\u001b[34m\u001b[1mwandb\u001b[0m: \u001b[33mWARNING\u001b[0m Calling wandb.login() after wandb.init() has no effect.\n"
          ],
          "name": "stderr"
        },
        {
          "output_type": "stream",
          "text": [
            "-----------------------------\n",
            "Fold 7/10\n",
            "{'accuracy': 0.699, 'senstivity': 0.72, 'specificity': 0.6792, 'loss': 0.5914}\n",
            "-----------------------------\n"
          ],
          "name": "stdout"
        },
        {
          "output_type": "display_data",
          "data": {
            "text/html": [
              "<br/>Waiting for W&B process to finish, PID 1755<br/>Program ended successfully."
            ],
            "text/plain": [
              "<IPython.core.display.HTML object>"
            ]
          },
          "metadata": {
            "tags": []
          }
        },
        {
          "output_type": "display_data",
          "data": {
            "application/vnd.jupyter.widget-view+json": {
              "model_id": "be6de7bf518d4cc1bde6d652ac10dc80",
              "version_minor": 0,
              "version_major": 2
            },
            "text/plain": [
              "VBox(children=(Label(value=' 0.00MB of 0.00MB uploaded (0.00MB deduped)\\r'), FloatProgress(value=1.0, max=1.0)…"
            ]
          },
          "metadata": {
            "tags": []
          }
        },
        {
          "output_type": "display_data",
          "data": {
            "text/html": [
              "Find user logs for this run at: <code>wandb/run-20201016_053652-sep-pca1024-cc200ho-fold-7-rp-1/logs/debug.log</code>"
            ],
            "text/plain": [
              "<IPython.core.display.HTML object>"
            ]
          },
          "metadata": {
            "tags": []
          }
        },
        {
          "output_type": "display_data",
          "data": {
            "text/html": [
              "Find internal logs for this run at: <code>wandb/run-20201016_053652-sep-pca1024-cc200ho-fold-7-rp-1/logs/debug-internal.log</code>"
            ],
            "text/plain": [
              "<IPython.core.display.HTML object>"
            ]
          },
          "metadata": {
            "tags": []
          }
        },
        {
          "output_type": "display_data",
          "data": {
            "text/html": [
              "<h3>Run summary:</h3><br/><style>\n",
              "    table.wandb td:nth-child(1) { padding: 0 10px; text-align: right }\n",
              "    </style><table class=\"wandb\">\n",
              "<tr><td>Classifier Train loss</td><td>0.36696</td></tr><tr><td>Train accuracy</td><td>0.89547</td></tr><tr><td>AE Train loss</td><td>0.0</td></tr><tr><td>_step</td><td>24</td></tr><tr><td>_runtime</td><td>18</td></tr><tr><td>_timestamp</td><td>1602826633</td></tr></table>"
            ],
            "text/plain": [
              "<IPython.core.display.HTML object>"
            ]
          },
          "metadata": {
            "tags": []
          }
        },
        {
          "output_type": "display_data",
          "data": {
            "text/html": [
              "<h3>Run history:</h3><br/><style>\n",
              "    table.wandb td:nth-child(1) { padding: 0 10px; text-align: right }\n",
              "    </style><table class=\"wandb\">\n",
              "<tr><td>Classifier Train loss</td><td>█▇▇▆▆▅▅▅▄▄▄▄▃▃▃▃▃▂▂▂▂▂▁▁▁</td></tr><tr><td>Train accuracy</td><td>▁▂▃▃▄▄▅▅▅▅▅▆▆▆▆▆▆▇▇▇▇▇███</td></tr><tr><td>AE Train loss</td><td>█▆▅▅▄▄▃▃▃▃▃▂▂▂▂▂▂▂▂▂▁▁▁▁▁</td></tr><tr><td>_step</td><td>▁▁▂▂▂▂▃▃▃▄▄▄▅▅▅▅▆▆▆▇▇▇▇██</td></tr><tr><td>_runtime</td><td>▁▁▂▂▂▃▃▃▄▄▄▅▅▅▅▅▆▆▆▇▇▇███</td></tr><tr><td>_timestamp</td><td>▁▁▂▂▂▃▃▃▄▄▄▅▅▅▅▅▆▆▆▇▇▇███</td></tr></table><br/>"
            ],
            "text/plain": [
              "<IPython.core.display.HTML object>"
            ]
          },
          "metadata": {
            "tags": []
          }
        },
        {
          "output_type": "display_data",
          "data": {
            "text/html": [
              "Synced 5 W&B file(s), 0 media file(s), 0 artifact file(s) and 0 other file(s)"
            ],
            "text/plain": [
              "<IPython.core.display.HTML object>"
            ]
          },
          "metadata": {
            "tags": []
          }
        },
        {
          "output_type": "display_data",
          "data": {
            "text/html": [
              "\n",
              "                    <br/>Synced <strong style=\"color:#cdcd00\">asd-diagnet-sep-pca1024-cc200ho-fold-7-rp-1</strong>: <a href=\"https://wandb.ai/pindi-krishna/asd2/runs/sep-pca1024-cc200ho-fold-7-rp-1\" target=\"_blank\">https://wandb.ai/pindi-krishna/asd2/runs/sep-pca1024-cc200ho-fold-7-rp-1</a><br/>\n",
              "                "
            ],
            "text/plain": [
              "<IPython.core.display.HTML object>"
            ]
          },
          "metadata": {
            "tags": []
          }
        },
        {
          "output_type": "display_data",
          "data": {
            "text/html": [
              "\n",
              "                Tracking run with wandb version 0.10.7<br/>\n",
              "                Syncing run <strong style=\"color:#cdcd00\">asd-diagnet-sep-pca1024-cc200ho-fold-8-rp-1</strong> to <a href=\"https://wandb.ai\" target=\"_blank\">Weights & Biases</a> <a href=\"https://docs.wandb.com/integrations/jupyter.html\" target=\"_blank\">(Documentation)</a>.<br/>\n",
              "                Project page: <a href=\"https://wandb.ai/pindi-krishna/asd2\" target=\"_blank\">https://wandb.ai/pindi-krishna/asd2</a><br/>\n",
              "                Run page: <a href=\"https://wandb.ai/pindi-krishna/asd2/runs/sep-pca1024-cc200ho-fold-8-rp-1\" target=\"_blank\">https://wandb.ai/pindi-krishna/asd2/runs/sep-pca1024-cc200ho-fold-8-rp-1</a><br/>\n",
              "                Run data is saved locally in <code>wandb/run-20201016_053713-sep-pca1024-cc200ho-fold-8-rp-1</code><br/><br/>\n",
              "            "
            ],
            "text/plain": [
              "<IPython.core.display.HTML object>"
            ]
          },
          "metadata": {
            "tags": []
          }
        },
        {
          "output_type": "stream",
          "text": [
            "Epoch 1/26\n",
            " Classifier Train loss: 0.6890, AE Train loss: 655.5266, Train Acc: 0.5582\n",
            "Epoch 2/26\n",
            " Classifier Train loss: 0.6430, AE Train loss: 496.0694, Train Acc: 0.6379\n",
            "Epoch 3/26\n",
            " Classifier Train loss: 0.6152, AE Train loss: 408.8713, Train Acc: 0.6724\n",
            "Epoch 4/26\n",
            " Classifier Train loss: 0.5954, AE Train loss: 345.9981, Train Acc: 0.6897\n",
            "Epoch 5/26\n",
            " Classifier Train loss: 0.5768, AE Train loss: 297.9829, Train Acc: 0.7112\n",
            "Epoch 6/26\n",
            " Classifier Train loss: 0.5611, AE Train loss: 259.7337, Train Acc: 0.7274\n",
            "Epoch 7/26\n",
            " Classifier Train loss: 0.5458, AE Train loss: 228.3342, Train Acc: 0.7403\n",
            "Epoch 8/26\n",
            " Classifier Train loss: 0.5305, AE Train loss: 202.3945, Train Acc: 0.7554\n",
            "Epoch 9/26\n",
            " Classifier Train loss: 0.5181, AE Train loss: 180.6259, Train Acc: 0.7716\n",
            "Epoch 10/26\n",
            " Classifier Train loss: 0.5068, AE Train loss: 162.0013, Train Acc: 0.7834\n",
            "Epoch 11/26\n",
            " Classifier Train loss: 0.4958, AE Train loss: 146.0909, Train Acc: 0.7920\n",
            "Epoch 12/26\n",
            " Classifier Train loss: 0.4833, AE Train loss: 132.1789, Train Acc: 0.7985\n",
            "Epoch 13/26\n",
            " Classifier Train loss: 0.4734, AE Train loss: 120.2010, Train Acc: 0.8093\n",
            "Epoch 14/26\n",
            " Classifier Train loss: 0.4640, AE Train loss: 109.3504, Train Acc: 0.8200\n",
            "Epoch 15/26\n",
            " Classifier Train loss: 0.4549, AE Train loss: 99.9762, Train Acc: 0.8233\n",
            "Epoch 16/26\n",
            " Classifier Train loss: 0.4464, AE Train loss: 91.5033, Train Acc: 0.8330\n",
            "Epoch 17/26\n",
            " Classifier Train loss: 0.4374, AE Train loss: 84.1525, Train Acc: 0.8448\n",
            "Epoch 18/26\n",
            " Classifier Train loss: 0.4295, AE Train loss: 77.2500, Train Acc: 0.8502\n",
            "Epoch 19/26\n",
            " Classifier Train loss: 0.4211, AE Train loss: 71.1352, Train Acc: 0.8599\n",
            "Epoch 20/26\n",
            " Classifier Train loss: 0.4138, AE Train loss: 65.6286, Train Acc: 0.8621\n",
            "Epoch 21/26\n",
            " Classifier Train loss: 0.4057, AE Train loss: 0.0000, Train Acc: 0.8653\n",
            "Epoch 22/26\n",
            " Classifier Train loss: 0.3957, AE Train loss: 0.0000, Train Acc: 0.8750\n",
            "Epoch 23/26\n",
            " Classifier Train loss: 0.3865, AE Train loss: 0.0000, Train Acc: 0.8815\n",
            "Epoch 24/26\n",
            " Classifier Train loss: 0.3763, AE Train loss: 0.0000, Train Acc: 0.8879\n",
            "Epoch 25/26\n",
            " Classifier Train loss: 0.3684, AE Train loss: 0.0000, Train Acc: 0.8933\n",
            "-----------------------------\n",
            "Fold 8/10\n",
            "{'accuracy': 0.6893, 'senstivity': 0.66, 'specificity': 0.717, 'loss': 0.5463}\n",
            "-----------------------------\n"
          ],
          "name": "stdout"
        },
        {
          "output_type": "stream",
          "text": [
            "\u001b[34m\u001b[1mwandb\u001b[0m: \u001b[33mWARNING\u001b[0m Calling wandb.login() after wandb.init() has no effect.\n"
          ],
          "name": "stderr"
        },
        {
          "output_type": "display_data",
          "data": {
            "text/html": [
              "<br/>Waiting for W&B process to finish, PID 1889<br/>Program ended successfully."
            ],
            "text/plain": [
              "<IPython.core.display.HTML object>"
            ]
          },
          "metadata": {
            "tags": []
          }
        },
        {
          "output_type": "display_data",
          "data": {
            "application/vnd.jupyter.widget-view+json": {
              "model_id": "638a9c8e5ad54a189e661486db7ec88a",
              "version_minor": 0,
              "version_major": 2
            },
            "text/plain": [
              "VBox(children=(Label(value=' 0.00MB of 0.00MB uploaded (0.00MB deduped)\\r'), FloatProgress(value=1.0, max=1.0)…"
            ]
          },
          "metadata": {
            "tags": []
          }
        },
        {
          "output_type": "display_data",
          "data": {
            "text/html": [
              "Find user logs for this run at: <code>wandb/run-20201016_053713-sep-pca1024-cc200ho-fold-8-rp-1/logs/debug.log</code>"
            ],
            "text/plain": [
              "<IPython.core.display.HTML object>"
            ]
          },
          "metadata": {
            "tags": []
          }
        },
        {
          "output_type": "display_data",
          "data": {
            "text/html": [
              "Find internal logs for this run at: <code>wandb/run-20201016_053713-sep-pca1024-cc200ho-fold-8-rp-1/logs/debug-internal.log</code>"
            ],
            "text/plain": [
              "<IPython.core.display.HTML object>"
            ]
          },
          "metadata": {
            "tags": []
          }
        },
        {
          "output_type": "display_data",
          "data": {
            "text/html": [
              "<h3>Run summary:</h3><br/><style>\n",
              "    table.wandb td:nth-child(1) { padding: 0 10px; text-align: right }\n",
              "    </style><table class=\"wandb\">\n",
              "<tr><td>Classifier Train loss</td><td>0.36844</td></tr><tr><td>Train accuracy</td><td>0.89332</td></tr><tr><td>AE Train loss</td><td>0.0</td></tr><tr><td>_step</td><td>24</td></tr><tr><td>_runtime</td><td>18</td></tr><tr><td>_timestamp</td><td>1602826654</td></tr></table>"
            ],
            "text/plain": [
              "<IPython.core.display.HTML object>"
            ]
          },
          "metadata": {
            "tags": []
          }
        },
        {
          "output_type": "display_data",
          "data": {
            "text/html": [
              "<h3>Run history:</h3><br/><style>\n",
              "    table.wandb td:nth-child(1) { padding: 0 10px; text-align: right }\n",
              "    </style><table class=\"wandb\">\n",
              "<tr><td>Classifier Train loss</td><td>█▇▆▆▆▅▅▅▄▄▄▄▃▃▃▃▃▂▂▂▂▂▁▁▁</td></tr><tr><td>Train accuracy</td><td>▁▃▃▄▄▅▅▅▅▆▆▆▆▆▇▇▇▇▇▇▇████</td></tr><tr><td>AE Train loss</td><td>█▆▅▅▄▄▃▃▃▃▃▂▂▂▂▂▂▂▂▂▁▁▁▁▁</td></tr><tr><td>_step</td><td>▁▁▂▂▂▂▃▃▃▄▄▄▅▅▅▅▆▆▆▇▇▇▇██</td></tr><tr><td>_runtime</td><td>▁▁▂▂▂▃▃▃▄▄▄▅▅▅▅▆▆▆▆▇▇▇███</td></tr><tr><td>_timestamp</td><td>▁▁▂▂▂▃▃▃▄▄▄▅▅▅▅▆▆▆▆▇▇▇███</td></tr></table><br/>"
            ],
            "text/plain": [
              "<IPython.core.display.HTML object>"
            ]
          },
          "metadata": {
            "tags": []
          }
        },
        {
          "output_type": "display_data",
          "data": {
            "text/html": [
              "Synced 5 W&B file(s), 0 media file(s), 0 artifact file(s) and 0 other file(s)"
            ],
            "text/plain": [
              "<IPython.core.display.HTML object>"
            ]
          },
          "metadata": {
            "tags": []
          }
        },
        {
          "output_type": "display_data",
          "data": {
            "text/html": [
              "\n",
              "                    <br/>Synced <strong style=\"color:#cdcd00\">asd-diagnet-sep-pca1024-cc200ho-fold-8-rp-1</strong>: <a href=\"https://wandb.ai/pindi-krishna/asd2/runs/sep-pca1024-cc200ho-fold-8-rp-1\" target=\"_blank\">https://wandb.ai/pindi-krishna/asd2/runs/sep-pca1024-cc200ho-fold-8-rp-1</a><br/>\n",
              "                "
            ],
            "text/plain": [
              "<IPython.core.display.HTML object>"
            ]
          },
          "metadata": {
            "tags": []
          }
        },
        {
          "output_type": "display_data",
          "data": {
            "text/html": [
              "\n",
              "                Tracking run with wandb version 0.10.7<br/>\n",
              "                Syncing run <strong style=\"color:#cdcd00\">asd-diagnet-sep-pca1024-cc200ho-fold-9-rp-1</strong> to <a href=\"https://wandb.ai\" target=\"_blank\">Weights & Biases</a> <a href=\"https://docs.wandb.com/integrations/jupyter.html\" target=\"_blank\">(Documentation)</a>.<br/>\n",
              "                Project page: <a href=\"https://wandb.ai/pindi-krishna/asd2\" target=\"_blank\">https://wandb.ai/pindi-krishna/asd2</a><br/>\n",
              "                Run page: <a href=\"https://wandb.ai/pindi-krishna/asd2/runs/sep-pca1024-cc200ho-fold-9-rp-1\" target=\"_blank\">https://wandb.ai/pindi-krishna/asd2/runs/sep-pca1024-cc200ho-fold-9-rp-1</a><br/>\n",
              "                Run data is saved locally in <code>wandb/run-20201016_053734-sep-pca1024-cc200ho-fold-9-rp-1</code><br/><br/>\n",
              "            "
            ],
            "text/plain": [
              "<IPython.core.display.HTML object>"
            ]
          },
          "metadata": {
            "tags": []
          }
        },
        {
          "output_type": "stream",
          "text": [
            "Epoch 1/26\n",
            " Classifier Train loss: 0.6792, AE Train loss: 653.8484, Train Acc: 0.5744\n",
            "Epoch 2/26\n",
            " Classifier Train loss: 0.6415, AE Train loss: 496.6111, Train Acc: 0.6401\n",
            "Epoch 3/26\n",
            " Classifier Train loss: 0.6174, AE Train loss: 409.1803, Train Acc: 0.6724\n",
            "Epoch 4/26\n",
            " Classifier Train loss: 0.5944, AE Train loss: 346.4910, Train Acc: 0.6918\n",
            "Epoch 5/26\n",
            " Classifier Train loss: 0.5775, AE Train loss: 298.1650, Train Acc: 0.7134\n",
            "Epoch 6/26\n",
            " Classifier Train loss: 0.5610, AE Train loss: 259.7577, Train Acc: 0.7338\n",
            "Epoch 7/26\n",
            " Classifier Train loss: 0.5471, AE Train loss: 228.6384, Train Acc: 0.7489\n",
            "Epoch 8/26\n",
            " Classifier Train loss: 0.5307, AE Train loss: 202.6760, Train Acc: 0.7608\n",
            "Epoch 9/26\n",
            " Classifier Train loss: 0.5184, AE Train loss: 180.7397, Train Acc: 0.7694\n",
            "Epoch 10/26\n",
            " Classifier Train loss: 0.5065, AE Train loss: 162.3910, Train Acc: 0.7802\n",
            "Epoch 11/26\n",
            " Classifier Train loss: 0.4955, AE Train loss: 146.1995, Train Acc: 0.7888\n",
            "Epoch 12/26\n",
            " Classifier Train loss: 0.4844, AE Train loss: 132.2465, Train Acc: 0.8028\n",
            "Epoch 13/26\n",
            " Classifier Train loss: 0.4738, AE Train loss: 120.2460, Train Acc: 0.8028\n",
            "Epoch 14/26\n",
            " Classifier Train loss: 0.4636, AE Train loss: 109.4643, Train Acc: 0.8136\n",
            "Epoch 15/26\n",
            " Classifier Train loss: 0.4539, AE Train loss: 100.0989, Train Acc: 0.8244\n",
            "Epoch 16/26\n",
            " Classifier Train loss: 0.4449, AE Train loss: 91.5633, Train Acc: 0.8319\n",
            "Epoch 17/26\n",
            " Classifier Train loss: 0.4363, AE Train loss: 84.0978, Train Acc: 0.8373\n",
            "Epoch 18/26\n",
            " Classifier Train loss: 0.4285, AE Train loss: 77.2602, Train Acc: 0.8448\n",
            "Epoch 19/26\n",
            " Classifier Train loss: 0.4209, AE Train loss: 71.1768, Train Acc: 0.8502\n",
            "Epoch 20/26\n",
            " Classifier Train loss: 0.4133, AE Train loss: 65.7216, Train Acc: 0.8599\n",
            "Epoch 21/26\n",
            " Classifier Train loss: 0.4047, AE Train loss: 0.0000, Train Acc: 0.8685\n",
            "Epoch 22/26\n",
            " Classifier Train loss: 0.3945, AE Train loss: 0.0000, Train Acc: 0.8761\n",
            "Epoch 23/26\n",
            " Classifier Train loss: 0.3850, AE Train loss: 0.0000, Train Acc: 0.8836\n",
            "Epoch 24/26\n",
            " Classifier Train loss: 0.3752, AE Train loss: 0.0000, Train Acc: 0.8944\n",
            "Epoch 25/26\n",
            " Classifier Train loss: 0.3666, AE Train loss: 0.0000, Train Acc: 0.9019\n",
            "-----------------------------\n",
            "Fold 9/10\n",
            "{'accuracy': 0.7184, 'senstivity': 0.7, 'specificity': 0.7358, 'loss': 0.5961}\n",
            "-----------------------------\n"
          ],
          "name": "stdout"
        },
        {
          "output_type": "stream",
          "text": [
            "\u001b[34m\u001b[1mwandb\u001b[0m: \u001b[33mWARNING\u001b[0m Calling wandb.login() after wandb.init() has no effect.\n"
          ],
          "name": "stderr"
        },
        {
          "output_type": "display_data",
          "data": {
            "text/html": [
              "<br/>Waiting for W&B process to finish, PID 2021<br/>Program ended successfully."
            ],
            "text/plain": [
              "<IPython.core.display.HTML object>"
            ]
          },
          "metadata": {
            "tags": []
          }
        },
        {
          "output_type": "display_data",
          "data": {
            "application/vnd.jupyter.widget-view+json": {
              "model_id": "64f838c609214fefadddf758db668ca9",
              "version_minor": 0,
              "version_major": 2
            },
            "text/plain": [
              "VBox(children=(Label(value=' 0.00MB of 0.00MB uploaded (0.00MB deduped)\\r'), FloatProgress(value=1.0, max=1.0)…"
            ]
          },
          "metadata": {
            "tags": []
          }
        },
        {
          "output_type": "display_data",
          "data": {
            "text/html": [
              "Find user logs for this run at: <code>wandb/run-20201016_053734-sep-pca1024-cc200ho-fold-9-rp-1/logs/debug.log</code>"
            ],
            "text/plain": [
              "<IPython.core.display.HTML object>"
            ]
          },
          "metadata": {
            "tags": []
          }
        },
        {
          "output_type": "display_data",
          "data": {
            "text/html": [
              "Find internal logs for this run at: <code>wandb/run-20201016_053734-sep-pca1024-cc200ho-fold-9-rp-1/logs/debug-internal.log</code>"
            ],
            "text/plain": [
              "<IPython.core.display.HTML object>"
            ]
          },
          "metadata": {
            "tags": []
          }
        },
        {
          "output_type": "display_data",
          "data": {
            "text/html": [
              "<h3>Run summary:</h3><br/><style>\n",
              "    table.wandb td:nth-child(1) { padding: 0 10px; text-align: right }\n",
              "    </style><table class=\"wandb\">\n",
              "<tr><td>Classifier Train loss</td><td>0.36662</td></tr><tr><td>Train accuracy</td><td>0.90194</td></tr><tr><td>AE Train loss</td><td>0.0</td></tr><tr><td>_step</td><td>24</td></tr><tr><td>_runtime</td><td>18</td></tr><tr><td>_timestamp</td><td>1602826675</td></tr></table>"
            ],
            "text/plain": [
              "<IPython.core.display.HTML object>"
            ]
          },
          "metadata": {
            "tags": []
          }
        },
        {
          "output_type": "display_data",
          "data": {
            "text/html": [
              "<h3>Run history:</h3><br/><style>\n",
              "    table.wandb td:nth-child(1) { padding: 0 10px; text-align: right }\n",
              "    </style><table class=\"wandb\">\n",
              "<tr><td>Classifier Train loss</td><td>█▇▇▆▆▅▅▅▄▄▄▄▃▃▃▃▃▂▂▂▂▂▁▁▁</td></tr><tr><td>Train accuracy</td><td>▁▂▃▄▄▄▅▅▅▅▆▆▆▆▆▇▇▇▇▇▇▇███</td></tr><tr><td>AE Train loss</td><td>█▆▅▅▄▄▃▃▃▃▃▂▂▂▂▂▂▂▂▂▁▁▁▁▁</td></tr><tr><td>_step</td><td>▁▁▂▂▂▂▃▃▃▄▄▄▅▅▅▅▆▆▆▇▇▇▇██</td></tr><tr><td>_runtime</td><td>▁▁▂▂▂▃▃▃▄▄▄▅▅▅▅▅▆▆▆▇▇▇███</td></tr><tr><td>_timestamp</td><td>▁▁▂▂▂▃▃▃▄▄▄▅▅▅▅▅▆▆▆▇▇▇███</td></tr></table><br/>"
            ],
            "text/plain": [
              "<IPython.core.display.HTML object>"
            ]
          },
          "metadata": {
            "tags": []
          }
        },
        {
          "output_type": "display_data",
          "data": {
            "text/html": [
              "Synced 5 W&B file(s), 0 media file(s), 0 artifact file(s) and 0 other file(s)"
            ],
            "text/plain": [
              "<IPython.core.display.HTML object>"
            ]
          },
          "metadata": {
            "tags": []
          }
        },
        {
          "output_type": "display_data",
          "data": {
            "text/html": [
              "\n",
              "                    <br/>Synced <strong style=\"color:#cdcd00\">asd-diagnet-sep-pca1024-cc200ho-fold-9-rp-1</strong>: <a href=\"https://wandb.ai/pindi-krishna/asd2/runs/sep-pca1024-cc200ho-fold-9-rp-1\" target=\"_blank\">https://wandb.ai/pindi-krishna/asd2/runs/sep-pca1024-cc200ho-fold-9-rp-1</a><br/>\n",
              "                "
            ],
            "text/plain": [
              "<IPython.core.display.HTML object>"
            ]
          },
          "metadata": {
            "tags": []
          }
        },
        {
          "output_type": "display_data",
          "data": {
            "text/html": [
              "\n",
              "                Tracking run with wandb version 0.10.7<br/>\n",
              "                Syncing run <strong style=\"color:#cdcd00\">asd-diagnet-sep-pca1024-cc200ho-fold-10-rp-1</strong> to <a href=\"https://wandb.ai\" target=\"_blank\">Weights & Biases</a> <a href=\"https://docs.wandb.com/integrations/jupyter.html\" target=\"_blank\">(Documentation)</a>.<br/>\n",
              "                Project page: <a href=\"https://wandb.ai/pindi-krishna/asd2\" target=\"_blank\">https://wandb.ai/pindi-krishna/asd2</a><br/>\n",
              "                Run page: <a href=\"https://wandb.ai/pindi-krishna/asd2/runs/sep-pca1024-cc200ho-fold-10-rp-1\" target=\"_blank\">https://wandb.ai/pindi-krishna/asd2/runs/sep-pca1024-cc200ho-fold-10-rp-1</a><br/>\n",
              "                Run data is saved locally in <code>wandb/run-20201016_053755-sep-pca1024-cc200ho-fold-10-rp-1</code><br/><br/>\n",
              "            "
            ],
            "text/plain": [
              "<IPython.core.display.HTML object>"
            ]
          },
          "metadata": {
            "tags": []
          }
        },
        {
          "output_type": "stream",
          "text": [
            "Epoch 1/26\n",
            " Classifier Train loss: 0.6694, AE Train loss: 652.2993, Train Acc: 0.5927\n",
            "Epoch 2/26\n",
            " Classifier Train loss: 0.6350, AE Train loss: 494.4247, Train Acc: 0.6541\n",
            "Epoch 3/26\n",
            " Classifier Train loss: 0.6119, AE Train loss: 407.5175, Train Acc: 0.6756\n",
            "Epoch 4/26\n",
            " Classifier Train loss: 0.5926, AE Train loss: 345.2956, Train Acc: 0.6853\n",
            "Epoch 5/26\n",
            " Classifier Train loss: 0.5743, AE Train loss: 297.2000, Train Acc: 0.7080\n",
            "Epoch 6/26\n",
            " Classifier Train loss: 0.5588, AE Train loss: 258.8573, Train Acc: 0.7284\n",
            "Epoch 7/26\n",
            " Classifier Train loss: 0.5447, AE Train loss: 227.8370, Train Acc: 0.7338\n",
            "Epoch 8/26\n",
            " Classifier Train loss: 0.5323, AE Train loss: 201.8723, Train Acc: 0.7554\n",
            "Epoch 9/26\n",
            " Classifier Train loss: 0.5185, AE Train loss: 180.1873, Train Acc: 0.7802\n",
            "Epoch 10/26\n",
            " Classifier Train loss: 0.5065, AE Train loss: 161.8971, Train Acc: 0.7877\n",
            "Epoch 11/26\n",
            " Classifier Train loss: 0.4959, AE Train loss: 145.8329, Train Acc: 0.7953\n",
            "Epoch 12/26\n",
            " Classifier Train loss: 0.4846, AE Train loss: 132.1407, Train Acc: 0.8050\n",
            "Epoch 13/26\n",
            " Classifier Train loss: 0.4761, AE Train loss: 120.0225, Train Acc: 0.8093\n",
            "Epoch 14/26\n",
            " Classifier Train loss: 0.4660, AE Train loss: 109.5497, Train Acc: 0.8157\n",
            "Epoch 15/26\n",
            " Classifier Train loss: 0.4586, AE Train loss: 100.0569, Train Acc: 0.8265\n",
            "Epoch 16/26\n",
            " Classifier Train loss: 0.4480, AE Train loss: 91.6462, Train Acc: 0.8297\n",
            "Epoch 17/26\n",
            " Classifier Train loss: 0.4402, AE Train loss: 84.1720, Train Acc: 0.8394\n",
            "Epoch 18/26\n",
            " Classifier Train loss: 0.4318, AE Train loss: 77.4284, Train Acc: 0.8545\n",
            "Epoch 19/26\n",
            " Classifier Train loss: 0.4247, AE Train loss: 71.5261, Train Acc: 0.8567\n",
            "Epoch 20/26\n",
            " Classifier Train loss: 0.4160, AE Train loss: 65.9131, Train Acc: 0.8610\n",
            "Epoch 21/26\n",
            " Classifier Train loss: 0.4090, AE Train loss: 0.0000, Train Acc: 0.8685\n",
            "Epoch 22/26\n",
            " Classifier Train loss: 0.3998, AE Train loss: 0.0000, Train Acc: 0.8761\n",
            "Epoch 23/26\n",
            " Classifier Train loss: 0.3898, AE Train loss: 0.0000, Train Acc: 0.8793\n",
            "Epoch 24/26\n",
            " Classifier Train loss: 0.3808, AE Train loss: 0.0000, Train Acc: 0.8804\n",
            "Epoch 25/26\n",
            " Classifier Train loss: 0.3724, AE Train loss: 0.0000, Train Acc: 0.8901\n",
            "-----------------------------\n",
            "Fold 10/10\n",
            "{'accuracy': 0.6796, 'senstivity': 0.68, 'specificity': 0.6792, 'loss': 0.632}\n",
            "-----------------------------\n"
          ],
          "name": "stdout"
        },
        {
          "output_type": "stream",
          "text": [
            "\u001b[34m\u001b[1mwandb\u001b[0m: \u001b[33mWARNING\u001b[0m Calling wandb.login() after wandb.init() has no effect.\n"
          ],
          "name": "stderr"
        },
        {
          "output_type": "stream",
          "text": [
            "*********************************\n",
            "Average Value after 10 Folds and repeats one 1------->\n",
            "Accuracy: 0.7073, Senstivity: 0.7011, Specificity: 0.7132, Loss: 0.5752000212669373\n",
            "*********************************\n"
          ],
          "name": "stdout"
        },
        {
          "output_type": "display_data",
          "data": {
            "text/html": [
              "<br/>Waiting for W&B process to finish, PID 2155<br/>Program ended successfully."
            ],
            "text/plain": [
              "<IPython.core.display.HTML object>"
            ]
          },
          "metadata": {
            "tags": []
          }
        },
        {
          "output_type": "display_data",
          "data": {
            "application/vnd.jupyter.widget-view+json": {
              "model_id": "1423ff3eabbd4b218e839dc43a8f3691",
              "version_minor": 0,
              "version_major": 2
            },
            "text/plain": [
              "VBox(children=(Label(value=' 0.00MB of 0.00MB uploaded (0.00MB deduped)\\r'), FloatProgress(value=1.0, max=1.0)…"
            ]
          },
          "metadata": {
            "tags": []
          }
        },
        {
          "output_type": "display_data",
          "data": {
            "text/html": [
              "Find user logs for this run at: <code>wandb/run-20201016_053755-sep-pca1024-cc200ho-fold-10-rp-1/logs/debug.log</code>"
            ],
            "text/plain": [
              "<IPython.core.display.HTML object>"
            ]
          },
          "metadata": {
            "tags": []
          }
        },
        {
          "output_type": "display_data",
          "data": {
            "text/html": [
              "Find internal logs for this run at: <code>wandb/run-20201016_053755-sep-pca1024-cc200ho-fold-10-rp-1/logs/debug-internal.log</code>"
            ],
            "text/plain": [
              "<IPython.core.display.HTML object>"
            ]
          },
          "metadata": {
            "tags": []
          }
        },
        {
          "output_type": "display_data",
          "data": {
            "text/html": [
              "<h3>Run summary:</h3><br/><style>\n",
              "    table.wandb td:nth-child(1) { padding: 0 10px; text-align: right }\n",
              "    </style><table class=\"wandb\">\n",
              "<tr><td>Classifier Train loss</td><td>0.37242</td></tr><tr><td>Train accuracy</td><td>0.89009</td></tr><tr><td>AE Train loss</td><td>0.0</td></tr><tr><td>_step</td><td>24</td></tr><tr><td>_runtime</td><td>18</td></tr><tr><td>_timestamp</td><td>1602826696</td></tr></table>"
            ],
            "text/plain": [
              "<IPython.core.display.HTML object>"
            ]
          },
          "metadata": {
            "tags": []
          }
        },
        {
          "output_type": "display_data",
          "data": {
            "text/html": [
              "<h3>Run history:</h3><br/><style>\n",
              "    table.wandb td:nth-child(1) { padding: 0 10px; text-align: right }\n",
              "    </style><table class=\"wandb\">\n",
              "<tr><td>Classifier Train loss</td><td>█▇▇▆▆▅▅▅▄▄▄▄▃▃▃▃▃▂▂▂▂▂▁▁▁</td></tr><tr><td>Train accuracy</td><td>▁▂▃▃▄▄▄▅▅▆▆▆▆▆▇▇▇▇▇▇▇████</td></tr><tr><td>AE Train loss</td><td>█▆▅▅▄▄▃▃▃▃▃▂▂▂▂▂▂▂▂▂▁▁▁▁▁</td></tr><tr><td>_step</td><td>▁▁▂▂▂▂▃▃▃▄▄▄▅▅▅▅▆▆▆▇▇▇▇██</td></tr><tr><td>_runtime</td><td>▁▁▂▂▂▃▃▃▄▄▄▅▅▅▅▅▆▆▆▇▇▇███</td></tr><tr><td>_timestamp</td><td>▁▁▂▂▂▃▃▃▄▄▄▅▅▅▅▅▆▆▆▇▇▇███</td></tr></table><br/>"
            ],
            "text/plain": [
              "<IPython.core.display.HTML object>"
            ]
          },
          "metadata": {
            "tags": []
          }
        },
        {
          "output_type": "display_data",
          "data": {
            "text/html": [
              "Synced 5 W&B file(s), 0 media file(s), 0 artifact file(s) and 0 other file(s)"
            ],
            "text/plain": [
              "<IPython.core.display.HTML object>"
            ]
          },
          "metadata": {
            "tags": []
          }
        },
        {
          "output_type": "display_data",
          "data": {
            "text/html": [
              "\n",
              "                    <br/>Synced <strong style=\"color:#cdcd00\">asd-diagnet-sep-pca1024-cc200ho-fold-10-rp-1</strong>: <a href=\"https://wandb.ai/pindi-krishna/asd2/runs/sep-pca1024-cc200ho-fold-10-rp-1\" target=\"_blank\">https://wandb.ai/pindi-krishna/asd2/runs/sep-pca1024-cc200ho-fold-10-rp-1</a><br/>\n",
              "                "
            ],
            "text/plain": [
              "<IPython.core.display.HTML object>"
            ]
          },
          "metadata": {
            "tags": []
          }
        },
        {
          "output_type": "display_data",
          "data": {
            "text/html": [
              "\n",
              "                Tracking run with wandb version 0.10.7<br/>\n",
              "                Syncing run <strong style=\"color:#cdcd00\">asd-diagnet-sep-pca1024-cc200ho-fold-1-rp-2</strong> to <a href=\"https://wandb.ai\" target=\"_blank\">Weights & Biases</a> <a href=\"https://docs.wandb.com/integrations/jupyter.html\" target=\"_blank\">(Documentation)</a>.<br/>\n",
              "                Project page: <a href=\"https://wandb.ai/pindi-krishna/asd2\" target=\"_blank\">https://wandb.ai/pindi-krishna/asd2</a><br/>\n",
              "                Run page: <a href=\"https://wandb.ai/pindi-krishna/asd2/runs/sep-pca1024-cc200ho-fold-1-rp-2\" target=\"_blank\">https://wandb.ai/pindi-krishna/asd2/runs/sep-pca1024-cc200ho-fold-1-rp-2</a><br/>\n",
              "                Run data is saved locally in <code>wandb/run-20201016_053816-sep-pca1024-cc200ho-fold-1-rp-2</code><br/><br/>\n",
              "            "
            ],
            "text/plain": [
              "<IPython.core.display.HTML object>"
            ]
          },
          "metadata": {
            "tags": []
          }
        },
        {
          "output_type": "stream",
          "text": [
            "Epoch 1/26\n",
            " Classifier Train loss: 0.6693, AE Train loss: 652.1653, Train Acc: 0.5981\n",
            "Epoch 2/26\n",
            " Classifier Train loss: 0.6314, AE Train loss: 494.2775, Train Acc: 0.6573\n",
            "Epoch 3/26\n",
            " Classifier Train loss: 0.6087, AE Train loss: 406.9066, Train Acc: 0.6875\n",
            "Epoch 4/26\n",
            " Classifier Train loss: 0.5892, AE Train loss: 344.4750, Train Acc: 0.6994\n",
            "Epoch 5/26\n",
            " Classifier Train loss: 0.5733, AE Train loss: 296.6008, Train Acc: 0.7144\n",
            "Epoch 6/26\n",
            " Classifier Train loss: 0.5581, AE Train loss: 258.3997, Train Acc: 0.7317\n",
            "Epoch 7/26\n",
            " Classifier Train loss: 0.5435, AE Train loss: 227.2572, Train Acc: 0.7425\n",
            "Epoch 8/26\n",
            " Classifier Train loss: 0.5293, AE Train loss: 201.1991, Train Acc: 0.7554\n",
            "Epoch 9/26\n",
            " Classifier Train loss: 0.5178, AE Train loss: 179.4951, Train Acc: 0.7726\n",
            "Epoch 10/26\n",
            " Classifier Train loss: 0.5051, AE Train loss: 161.1474, Train Acc: 0.7856\n",
            "Epoch 11/26\n",
            " Classifier Train loss: 0.4932, AE Train loss: 145.1050, Train Acc: 0.7931\n",
            "Epoch 12/26\n",
            " Classifier Train loss: 0.4839, AE Train loss: 131.3666, Train Acc: 0.8050\n",
            "Epoch 13/26\n",
            " Classifier Train loss: 0.4732, AE Train loss: 119.2103, Train Acc: 0.8060\n",
            "Epoch 14/26\n",
            " Classifier Train loss: 0.4633, AE Train loss: 108.6569, Train Acc: 0.8168\n",
            "Epoch 15/26\n",
            " Classifier Train loss: 0.4537, AE Train loss: 99.3383, Train Acc: 0.8244\n",
            "Epoch 16/26\n",
            " Classifier Train loss: 0.4450, AE Train loss: 90.8802, Train Acc: 0.8362\n",
            "Epoch 17/26\n",
            " Classifier Train loss: 0.4371, AE Train loss: 83.4847, Train Acc: 0.8405\n",
            "Epoch 18/26\n",
            " Classifier Train loss: 0.4288, AE Train loss: 76.7698, Train Acc: 0.8567\n",
            "Epoch 19/26\n",
            " Classifier Train loss: 0.4213, AE Train loss: 70.6749, Train Acc: 0.8621\n",
            "Epoch 20/26\n",
            " Classifier Train loss: 0.4129, AE Train loss: 65.2407, Train Acc: 0.8728\n",
            "Epoch 21/26\n",
            " Classifier Train loss: 0.4044, AE Train loss: 0.0000, Train Acc: 0.8761\n",
            "Epoch 22/26\n",
            " Classifier Train loss: 0.3959, AE Train loss: 0.0000, Train Acc: 0.8836\n",
            "Epoch 23/26\n",
            " Classifier Train loss: 0.3863, AE Train loss: 0.0000, Train Acc: 0.8933\n",
            "Epoch 24/26\n",
            " Classifier Train loss: 0.3775, AE Train loss: 0.0000, Train Acc: 0.8998\n",
            "Epoch 25/26\n",
            " Classifier Train loss: 0.3676, AE Train loss: 0.0000, Train Acc: 0.9062\n",
            "-----------------------------\n",
            "Fold 1/10\n",
            "{'accuracy': 0.6923, 'senstivity': 0.6863, 'specificity': 0.6981, 'loss': 0.5531}\n",
            "-----------------------------\n"
          ],
          "name": "stdout"
        },
        {
          "output_type": "stream",
          "text": [
            "\u001b[34m\u001b[1mwandb\u001b[0m: \u001b[33mWARNING\u001b[0m Calling wandb.login() after wandb.init() has no effect.\n"
          ],
          "name": "stderr"
        },
        {
          "output_type": "display_data",
          "data": {
            "text/html": [
              "<br/>Waiting for W&B process to finish, PID 2287<br/>Program ended successfully."
            ],
            "text/plain": [
              "<IPython.core.display.HTML object>"
            ]
          },
          "metadata": {
            "tags": []
          }
        },
        {
          "output_type": "display_data",
          "data": {
            "application/vnd.jupyter.widget-view+json": {
              "model_id": "c5a07179fd8d44f68351133d771c0d29",
              "version_minor": 0,
              "version_major": 2
            },
            "text/plain": [
              "VBox(children=(Label(value=' 0.00MB of 0.00MB uploaded (0.00MB deduped)\\r'), FloatProgress(value=1.0, max=1.0)…"
            ]
          },
          "metadata": {
            "tags": []
          }
        },
        {
          "output_type": "display_data",
          "data": {
            "text/html": [
              "Find user logs for this run at: <code>wandb/run-20201016_053816-sep-pca1024-cc200ho-fold-1-rp-2/logs/debug.log</code>"
            ],
            "text/plain": [
              "<IPython.core.display.HTML object>"
            ]
          },
          "metadata": {
            "tags": []
          }
        },
        {
          "output_type": "display_data",
          "data": {
            "text/html": [
              "Find internal logs for this run at: <code>wandb/run-20201016_053816-sep-pca1024-cc200ho-fold-1-rp-2/logs/debug-internal.log</code>"
            ],
            "text/plain": [
              "<IPython.core.display.HTML object>"
            ]
          },
          "metadata": {
            "tags": []
          }
        },
        {
          "output_type": "display_data",
          "data": {
            "text/html": [
              "<h3>Run summary:</h3><br/><style>\n",
              "    table.wandb td:nth-child(1) { padding: 0 10px; text-align: right }\n",
              "    </style><table class=\"wandb\">\n",
              "<tr><td>Classifier Train loss</td><td>0.36756</td></tr><tr><td>Train accuracy</td><td>0.90625</td></tr><tr><td>AE Train loss</td><td>0.0</td></tr><tr><td>_step</td><td>24</td></tr><tr><td>_runtime</td><td>18</td></tr><tr><td>_timestamp</td><td>1602826717</td></tr></table>"
            ],
            "text/plain": [
              "<IPython.core.display.HTML object>"
            ]
          },
          "metadata": {
            "tags": []
          }
        },
        {
          "output_type": "display_data",
          "data": {
            "text/html": [
              "<h3>Run history:</h3><br/><style>\n",
              "    table.wandb td:nth-child(1) { padding: 0 10px; text-align: right }\n",
              "    </style><table class=\"wandb\">\n",
              "<tr><td>Classifier Train loss</td><td>█▇▇▆▆▅▅▅▄▄▄▄▃▃▃▃▃▂▂▂▂▂▁▁▁</td></tr><tr><td>Train accuracy</td><td>▁▂▃▃▄▄▄▅▅▅▅▆▆▆▆▆▇▇▇▇▇▇███</td></tr><tr><td>AE Train loss</td><td>█▆▅▅▄▄▃▃▃▃▃▂▂▂▂▂▂▂▂▂▁▁▁▁▁</td></tr><tr><td>_step</td><td>▁▁▂▂▂▂▃▃▃▄▄▄▅▅▅▅▆▆▆▇▇▇▇██</td></tr><tr><td>_runtime</td><td>▁▁▁▂▂▂▃▃▃▄▄▄▅▅▅▆▆▆▇▇▇████</td></tr><tr><td>_timestamp</td><td>▁▁▁▂▂▂▃▃▃▄▄▄▅▅▅▆▆▆▇▇▇████</td></tr></table><br/>"
            ],
            "text/plain": [
              "<IPython.core.display.HTML object>"
            ]
          },
          "metadata": {
            "tags": []
          }
        },
        {
          "output_type": "display_data",
          "data": {
            "text/html": [
              "Synced 5 W&B file(s), 0 media file(s), 0 artifact file(s) and 0 other file(s)"
            ],
            "text/plain": [
              "<IPython.core.display.HTML object>"
            ]
          },
          "metadata": {
            "tags": []
          }
        },
        {
          "output_type": "display_data",
          "data": {
            "text/html": [
              "\n",
              "                    <br/>Synced <strong style=\"color:#cdcd00\">asd-diagnet-sep-pca1024-cc200ho-fold-1-rp-2</strong>: <a href=\"https://wandb.ai/pindi-krishna/asd2/runs/sep-pca1024-cc200ho-fold-1-rp-2\" target=\"_blank\">https://wandb.ai/pindi-krishna/asd2/runs/sep-pca1024-cc200ho-fold-1-rp-2</a><br/>\n",
              "                "
            ],
            "text/plain": [
              "<IPython.core.display.HTML object>"
            ]
          },
          "metadata": {
            "tags": []
          }
        },
        {
          "output_type": "display_data",
          "data": {
            "text/html": [
              "\n",
              "                Tracking run with wandb version 0.10.7<br/>\n",
              "                Syncing run <strong style=\"color:#cdcd00\">asd-diagnet-sep-pca1024-cc200ho-fold-2-rp-2</strong> to <a href=\"https://wandb.ai\" target=\"_blank\">Weights & Biases</a> <a href=\"https://docs.wandb.com/integrations/jupyter.html\" target=\"_blank\">(Documentation)</a>.<br/>\n",
              "                Project page: <a href=\"https://wandb.ai/pindi-krishna/asd2\" target=\"_blank\">https://wandb.ai/pindi-krishna/asd2</a><br/>\n",
              "                Run page: <a href=\"https://wandb.ai/pindi-krishna/asd2/runs/sep-pca1024-cc200ho-fold-2-rp-2\" target=\"_blank\">https://wandb.ai/pindi-krishna/asd2/runs/sep-pca1024-cc200ho-fold-2-rp-2</a><br/>\n",
              "                Run data is saved locally in <code>wandb/run-20201016_053838-sep-pca1024-cc200ho-fold-2-rp-2</code><br/><br/>\n",
              "            "
            ],
            "text/plain": [
              "<IPython.core.display.HTML object>"
            ]
          },
          "metadata": {
            "tags": []
          }
        },
        {
          "output_type": "stream",
          "text": [
            "Epoch 1/26\n",
            " Classifier Train loss: 0.6823, AE Train loss: 654.0087, Train Acc: 0.5647\n",
            "Epoch 2/26\n",
            " Classifier Train loss: 0.6427, AE Train loss: 495.7489, Train Acc: 0.6412\n",
            "Epoch 3/26\n",
            " Classifier Train loss: 0.6145, AE Train loss: 408.7516, Train Acc: 0.6821\n",
            "Epoch 4/26\n",
            " Classifier Train loss: 0.5921, AE Train loss: 346.5641, Train Acc: 0.7069\n",
            "Epoch 5/26\n",
            " Classifier Train loss: 0.5715, AE Train loss: 298.2151, Train Acc: 0.7263\n",
            "Epoch 6/26\n",
            " Classifier Train loss: 0.5544, AE Train loss: 259.6871, Train Acc: 0.7392\n",
            "Epoch 7/26\n",
            " Classifier Train loss: 0.5398, AE Train loss: 228.2101, Train Acc: 0.7543\n",
            "Epoch 8/26\n",
            " Classifier Train loss: 0.5252, AE Train loss: 202.2486, Train Acc: 0.7705\n",
            "Epoch 9/26\n",
            " Classifier Train loss: 0.5131, AE Train loss: 180.4733, Train Acc: 0.7791\n",
            "Epoch 10/26\n",
            " Classifier Train loss: 0.5006, AE Train loss: 161.7144, Train Acc: 0.7920\n",
            "Epoch 11/26\n",
            " Classifier Train loss: 0.4886, AE Train loss: 145.7514, Train Acc: 0.8017\n",
            "Epoch 12/26\n",
            " Classifier Train loss: 0.4777, AE Train loss: 131.9986, Train Acc: 0.8093\n",
            "Epoch 13/26\n",
            " Classifier Train loss: 0.4690, AE Train loss: 119.6836, Train Acc: 0.8125\n",
            "Epoch 14/26\n",
            " Classifier Train loss: 0.4583, AE Train loss: 109.0960, Train Acc: 0.8222\n",
            "Epoch 15/26\n",
            " Classifier Train loss: 0.4498, AE Train loss: 99.6964, Train Acc: 0.8276\n",
            "Epoch 16/26\n",
            " Classifier Train loss: 0.4407, AE Train loss: 91.1403, Train Acc: 0.8351\n",
            "Epoch 17/26\n",
            " Classifier Train loss: 0.4326, AE Train loss: 83.7581, Train Acc: 0.8470\n",
            "Epoch 18/26\n",
            " Classifier Train loss: 0.4237, AE Train loss: 76.9583, Train Acc: 0.8556\n",
            "Epoch 19/26\n",
            " Classifier Train loss: 0.4157, AE Train loss: 70.9528, Train Acc: 0.8599\n",
            "Epoch 20/26\n",
            " Classifier Train loss: 0.4085, AE Train loss: 65.3592, Train Acc: 0.8685\n",
            "Epoch 21/26\n",
            " Classifier Train loss: 0.4012, AE Train loss: 0.0000, Train Acc: 0.8707\n",
            "Epoch 22/26\n",
            " Classifier Train loss: 0.3915, AE Train loss: 0.0000, Train Acc: 0.8825\n",
            "Epoch 23/26\n",
            " Classifier Train loss: 0.3813, AE Train loss: 0.0000, Train Acc: 0.8901\n",
            "Epoch 24/26\n",
            " Classifier Train loss: 0.3710, AE Train loss: 0.0000, Train Acc: 0.8966\n",
            "Epoch 25/26\n",
            " Classifier Train loss: 0.3632, AE Train loss: 0.0000, Train Acc: 0.9052\n",
            "-----------------------------\n",
            "Fold 2/10\n",
            "{'accuracy': 0.6827, 'senstivity': 0.7255, 'specificity': 0.6415, 'loss': 0.6186}\n",
            "-----------------------------\n"
          ],
          "name": "stdout"
        },
        {
          "output_type": "stream",
          "text": [
            "\u001b[34m\u001b[1mwandb\u001b[0m: \u001b[33mWARNING\u001b[0m Calling wandb.login() after wandb.init() has no effect.\n"
          ],
          "name": "stderr"
        },
        {
          "output_type": "display_data",
          "data": {
            "text/html": [
              "<br/>Waiting for W&B process to finish, PID 2419<br/>Program ended successfully."
            ],
            "text/plain": [
              "<IPython.core.display.HTML object>"
            ]
          },
          "metadata": {
            "tags": []
          }
        },
        {
          "output_type": "display_data",
          "data": {
            "application/vnd.jupyter.widget-view+json": {
              "model_id": "b03b24d5e5c64484b31eac782506b9a6",
              "version_minor": 0,
              "version_major": 2
            },
            "text/plain": [
              "VBox(children=(Label(value=' 0.00MB of 0.00MB uploaded (0.00MB deduped)\\r'), FloatProgress(value=1.0, max=1.0)…"
            ]
          },
          "metadata": {
            "tags": []
          }
        },
        {
          "output_type": "display_data",
          "data": {
            "text/html": [
              "Find user logs for this run at: <code>wandb/run-20201016_053838-sep-pca1024-cc200ho-fold-2-rp-2/logs/debug.log</code>"
            ],
            "text/plain": [
              "<IPython.core.display.HTML object>"
            ]
          },
          "metadata": {
            "tags": []
          }
        },
        {
          "output_type": "display_data",
          "data": {
            "text/html": [
              "Find internal logs for this run at: <code>wandb/run-20201016_053838-sep-pca1024-cc200ho-fold-2-rp-2/logs/debug-internal.log</code>"
            ],
            "text/plain": [
              "<IPython.core.display.HTML object>"
            ]
          },
          "metadata": {
            "tags": []
          }
        },
        {
          "output_type": "display_data",
          "data": {
            "text/html": [
              "<h3>Run summary:</h3><br/><style>\n",
              "    table.wandb td:nth-child(1) { padding: 0 10px; text-align: right }\n",
              "    </style><table class=\"wandb\">\n",
              "<tr><td>Classifier Train loss</td><td>0.36324</td></tr><tr><td>Train accuracy</td><td>0.90517</td></tr><tr><td>AE Train loss</td><td>0.0</td></tr><tr><td>_step</td><td>24</td></tr><tr><td>_runtime</td><td>18</td></tr><tr><td>_timestamp</td><td>1602826739</td></tr></table>"
            ],
            "text/plain": [
              "<IPython.core.display.HTML object>"
            ]
          },
          "metadata": {
            "tags": []
          }
        },
        {
          "output_type": "display_data",
          "data": {
            "text/html": [
              "<h3>Run history:</h3><br/><style>\n",
              "    table.wandb td:nth-child(1) { padding: 0 10px; text-align: right }\n",
              "    </style><table class=\"wandb\">\n",
              "<tr><td>Classifier Train loss</td><td>█▇▇▆▆▅▅▅▄▄▄▄▃▃▃▃▃▂▂▂▂▂▁▁▁</td></tr><tr><td>Train accuracy</td><td>▁▃▃▄▄▅▅▅▅▆▆▆▆▆▆▇▇▇▇▇▇████</td></tr><tr><td>AE Train loss</td><td>█▆▅▅▄▄▃▃▃▃▃▂▂▂▂▂▂▂▂▂▁▁▁▁▁</td></tr><tr><td>_step</td><td>▁▁▂▂▂▂▃▃▃▄▄▄▅▅▅▅▆▆▆▇▇▇▇██</td></tr><tr><td>_runtime</td><td>▁▁▁▂▂▂▃▃▃▄▄▄▅▅▅▅▆▆▆▇▇▇███</td></tr><tr><td>_timestamp</td><td>▁▁▁▂▂▂▃▃▃▄▄▄▅▅▅▅▆▆▆▇▇▇███</td></tr></table><br/>"
            ],
            "text/plain": [
              "<IPython.core.display.HTML object>"
            ]
          },
          "metadata": {
            "tags": []
          }
        },
        {
          "output_type": "display_data",
          "data": {
            "text/html": [
              "Synced 5 W&B file(s), 0 media file(s), 0 artifact file(s) and 0 other file(s)"
            ],
            "text/plain": [
              "<IPython.core.display.HTML object>"
            ]
          },
          "metadata": {
            "tags": []
          }
        },
        {
          "output_type": "display_data",
          "data": {
            "text/html": [
              "\n",
              "                    <br/>Synced <strong style=\"color:#cdcd00\">asd-diagnet-sep-pca1024-cc200ho-fold-2-rp-2</strong>: <a href=\"https://wandb.ai/pindi-krishna/asd2/runs/sep-pca1024-cc200ho-fold-2-rp-2\" target=\"_blank\">https://wandb.ai/pindi-krishna/asd2/runs/sep-pca1024-cc200ho-fold-2-rp-2</a><br/>\n",
              "                "
            ],
            "text/plain": [
              "<IPython.core.display.HTML object>"
            ]
          },
          "metadata": {
            "tags": []
          }
        },
        {
          "output_type": "display_data",
          "data": {
            "text/html": [
              "\n",
              "                Tracking run with wandb version 0.10.7<br/>\n",
              "                Syncing run <strong style=\"color:#cdcd00\">asd-diagnet-sep-pca1024-cc200ho-fold-3-rp-2</strong> to <a href=\"https://wandb.ai\" target=\"_blank\">Weights & Biases</a> <a href=\"https://docs.wandb.com/integrations/jupyter.html\" target=\"_blank\">(Documentation)</a>.<br/>\n",
              "                Project page: <a href=\"https://wandb.ai/pindi-krishna/asd2\" target=\"_blank\">https://wandb.ai/pindi-krishna/asd2</a><br/>\n",
              "                Run page: <a href=\"https://wandb.ai/pindi-krishna/asd2/runs/sep-pca1024-cc200ho-fold-3-rp-2\" target=\"_blank\">https://wandb.ai/pindi-krishna/asd2/runs/sep-pca1024-cc200ho-fold-3-rp-2</a><br/>\n",
              "                Run data is saved locally in <code>wandb/run-20201016_053859-sep-pca1024-cc200ho-fold-3-rp-2</code><br/><br/>\n",
              "            "
            ],
            "text/plain": [
              "<IPython.core.display.HTML object>"
            ]
          },
          "metadata": {
            "tags": []
          }
        },
        {
          "output_type": "stream",
          "text": [
            "Epoch 1/26\n",
            " Classifier Train loss: 0.6722, AE Train loss: 655.6295, Train Acc: 0.5884\n",
            "Epoch 2/26\n",
            " Classifier Train loss: 0.6378, AE Train loss: 496.5947, Train Acc: 0.6638\n",
            "Epoch 3/26\n",
            " Classifier Train loss: 0.6121, AE Train loss: 409.1266, Train Acc: 0.6918\n",
            "Epoch 4/26\n",
            " Classifier Train loss: 0.5917, AE Train loss: 346.9746, Train Acc: 0.7037\n",
            "Epoch 5/26\n",
            " Classifier Train loss: 0.5725, AE Train loss: 298.5559, Train Acc: 0.7317\n",
            "Epoch 6/26\n",
            " Classifier Train loss: 0.5567, AE Train loss: 259.8169, Train Acc: 0.7425\n",
            "Epoch 7/26\n",
            " Classifier Train loss: 0.5422, AE Train loss: 228.4974, Train Acc: 0.7662\n",
            "Epoch 8/26\n",
            " Classifier Train loss: 0.5280, AE Train loss: 202.5158, Train Acc: 0.7737\n",
            "Epoch 9/26\n",
            " Classifier Train loss: 0.5151, AE Train loss: 180.4972, Train Acc: 0.7888\n",
            "Epoch 10/26\n",
            " Classifier Train loss: 0.5030, AE Train loss: 161.7405, Train Acc: 0.7974\n",
            "Epoch 11/26\n",
            " Classifier Train loss: 0.4920, AE Train loss: 145.7656, Train Acc: 0.8039\n",
            "Epoch 12/26\n",
            " Classifier Train loss: 0.4800, AE Train loss: 131.9208, Train Acc: 0.8114\n",
            "Epoch 13/26\n",
            " Classifier Train loss: 0.4710, AE Train loss: 119.7581, Train Acc: 0.8136\n",
            "Epoch 14/26\n",
            " Classifier Train loss: 0.4596, AE Train loss: 109.0102, Train Acc: 0.8233\n",
            "Epoch 15/26\n",
            " Classifier Train loss: 0.4516, AE Train loss: 99.6003, Train Acc: 0.8222\n",
            "Epoch 16/26\n",
            " Classifier Train loss: 0.4418, AE Train loss: 91.0901, Train Acc: 0.8308\n",
            "Epoch 17/26\n",
            " Classifier Train loss: 0.4344, AE Train loss: 83.5446, Train Acc: 0.8384\n",
            "Epoch 18/26\n",
            " Classifier Train loss: 0.4252, AE Train loss: 76.7600, Train Acc: 0.8524\n",
            "Epoch 19/26\n",
            " Classifier Train loss: 0.4172, AE Train loss: 70.7638, Train Acc: 0.8588\n",
            "Epoch 20/26\n",
            " Classifier Train loss: 0.4106, AE Train loss: 65.2102, Train Acc: 0.8696\n",
            "Epoch 21/26\n",
            " Classifier Train loss: 0.4018, AE Train loss: 0.0000, Train Acc: 0.8772\n",
            "Epoch 22/26\n",
            " Classifier Train loss: 0.3920, AE Train loss: 0.0000, Train Acc: 0.8815\n",
            "Epoch 23/26\n",
            " Classifier Train loss: 0.3822, AE Train loss: 0.0000, Train Acc: 0.8933\n",
            "Epoch 24/26\n",
            " Classifier Train loss: 0.3731, AE Train loss: 0.0000, Train Acc: 0.8976\n",
            "Epoch 25/26\n",
            " Classifier Train loss: 0.3648, AE Train loss: 0.0000, Train Acc: 0.8998\n",
            "-----------------------------\n",
            "Fold 3/10\n",
            "{'accuracy': 0.7212, 'senstivity': 0.8039, 'specificity': 0.6415, 'loss': 0.5575}\n",
            "-----------------------------\n"
          ],
          "name": "stdout"
        },
        {
          "output_type": "stream",
          "text": [
            "\u001b[34m\u001b[1mwandb\u001b[0m: \u001b[33mWARNING\u001b[0m Calling wandb.login() after wandb.init() has no effect.\n"
          ],
          "name": "stderr"
        },
        {
          "output_type": "display_data",
          "data": {
            "text/html": [
              "<br/>Waiting for W&B process to finish, PID 2553<br/>Program ended successfully."
            ],
            "text/plain": [
              "<IPython.core.display.HTML object>"
            ]
          },
          "metadata": {
            "tags": []
          }
        },
        {
          "output_type": "display_data",
          "data": {
            "application/vnd.jupyter.widget-view+json": {
              "model_id": "1a23b8c32ba146f6b1f226fdd19f10ef",
              "version_minor": 0,
              "version_major": 2
            },
            "text/plain": [
              "VBox(children=(Label(value=' 0.00MB of 0.00MB uploaded (0.00MB deduped)\\r'), FloatProgress(value=1.0, max=1.0)…"
            ]
          },
          "metadata": {
            "tags": []
          }
        },
        {
          "output_type": "display_data",
          "data": {
            "text/html": [
              "Find user logs for this run at: <code>wandb/run-20201016_053859-sep-pca1024-cc200ho-fold-3-rp-2/logs/debug.log</code>"
            ],
            "text/plain": [
              "<IPython.core.display.HTML object>"
            ]
          },
          "metadata": {
            "tags": []
          }
        },
        {
          "output_type": "display_data",
          "data": {
            "text/html": [
              "Find internal logs for this run at: <code>wandb/run-20201016_053859-sep-pca1024-cc200ho-fold-3-rp-2/logs/debug-internal.log</code>"
            ],
            "text/plain": [
              "<IPython.core.display.HTML object>"
            ]
          },
          "metadata": {
            "tags": []
          }
        },
        {
          "output_type": "display_data",
          "data": {
            "text/html": [
              "<h3>Run summary:</h3><br/><style>\n",
              "    table.wandb td:nth-child(1) { padding: 0 10px; text-align: right }\n",
              "    </style><table class=\"wandb\">\n",
              "<tr><td>Classifier Train loss</td><td>0.36481</td></tr><tr><td>Train accuracy</td><td>0.89978</td></tr><tr><td>AE Train loss</td><td>0.0</td></tr><tr><td>_step</td><td>24</td></tr><tr><td>_runtime</td><td>19</td></tr><tr><td>_timestamp</td><td>1602826761</td></tr></table>"
            ],
            "text/plain": [
              "<IPython.core.display.HTML object>"
            ]
          },
          "metadata": {
            "tags": []
          }
        },
        {
          "output_type": "display_data",
          "data": {
            "text/html": [
              "<h3>Run history:</h3><br/><style>\n",
              "    table.wandb td:nth-child(1) { padding: 0 10px; text-align: right }\n",
              "    </style><table class=\"wandb\">\n",
              "<tr><td>Classifier Train loss</td><td>█▇▇▆▆▅▅▅▄▄▄▄▃▃▃▃▃▂▂▂▂▂▁▁▁</td></tr><tr><td>Train accuracy</td><td>▁▃▃▄▄▄▅▅▆▆▆▆▆▆▆▆▇▇▇▇▇████</td></tr><tr><td>AE Train loss</td><td>█▆▅▅▄▄▃▃▃▃▃▂▂▂▂▂▂▂▂▂▁▁▁▁▁</td></tr><tr><td>_step</td><td>▁▁▂▂▂▂▃▃▃▄▄▄▅▅▅▅▆▆▆▇▇▇▇██</td></tr><tr><td>_runtime</td><td>▁▁▂▂▂▃▃▃▃▄▄▄▅▅▅▆▆▆▆▇▇▇███</td></tr><tr><td>_timestamp</td><td>▁▁▂▂▂▃▃▃▃▄▄▄▅▅▅▆▆▆▆▇▇▇███</td></tr></table><br/>"
            ],
            "text/plain": [
              "<IPython.core.display.HTML object>"
            ]
          },
          "metadata": {
            "tags": []
          }
        },
        {
          "output_type": "display_data",
          "data": {
            "text/html": [
              "Synced 5 W&B file(s), 0 media file(s), 0 artifact file(s) and 0 other file(s)"
            ],
            "text/plain": [
              "<IPython.core.display.HTML object>"
            ]
          },
          "metadata": {
            "tags": []
          }
        },
        {
          "output_type": "display_data",
          "data": {
            "text/html": [
              "\n",
              "                    <br/>Synced <strong style=\"color:#cdcd00\">asd-diagnet-sep-pca1024-cc200ho-fold-3-rp-2</strong>: <a href=\"https://wandb.ai/pindi-krishna/asd2/runs/sep-pca1024-cc200ho-fold-3-rp-2\" target=\"_blank\">https://wandb.ai/pindi-krishna/asd2/runs/sep-pca1024-cc200ho-fold-3-rp-2</a><br/>\n",
              "                "
            ],
            "text/plain": [
              "<IPython.core.display.HTML object>"
            ]
          },
          "metadata": {
            "tags": []
          }
        },
        {
          "output_type": "display_data",
          "data": {
            "text/html": [
              "\n",
              "                Tracking run with wandb version 0.10.7<br/>\n",
              "                Syncing run <strong style=\"color:#cdcd00\">asd-diagnet-sep-pca1024-cc200ho-fold-4-rp-2</strong> to <a href=\"https://wandb.ai\" target=\"_blank\">Weights & Biases</a> <a href=\"https://docs.wandb.com/integrations/jupyter.html\" target=\"_blank\">(Documentation)</a>.<br/>\n",
              "                Project page: <a href=\"https://wandb.ai/pindi-krishna/asd2\" target=\"_blank\">https://wandb.ai/pindi-krishna/asd2</a><br/>\n",
              "                Run page: <a href=\"https://wandb.ai/pindi-krishna/asd2/runs/sep-pca1024-cc200ho-fold-4-rp-2\" target=\"_blank\">https://wandb.ai/pindi-krishna/asd2/runs/sep-pca1024-cc200ho-fold-4-rp-2</a><br/>\n",
              "                Run data is saved locally in <code>wandb/run-20201016_053921-sep-pca1024-cc200ho-fold-4-rp-2</code><br/><br/>\n",
              "            "
            ],
            "text/plain": [
              "<IPython.core.display.HTML object>"
            ]
          },
          "metadata": {
            "tags": []
          }
        },
        {
          "output_type": "stream",
          "text": [
            "Epoch 1/26\n",
            " Classifier Train loss: 0.6737, AE Train loss: 655.6958, Train Acc: 0.5873\n",
            "Epoch 2/26\n",
            " Classifier Train loss: 0.6303, AE Train loss: 497.5227, Train Acc: 0.6562\n",
            "Epoch 3/26\n",
            " Classifier Train loss: 0.6044, AE Train loss: 409.6141, Train Acc: 0.6961\n",
            "Epoch 4/26\n",
            " Classifier Train loss: 0.5840, AE Train loss: 346.7093, Train Acc: 0.7047\n",
            "Epoch 5/26\n",
            " Classifier Train loss: 0.5666, AE Train loss: 298.2714, Train Acc: 0.7338\n",
            "Epoch 6/26\n",
            " Classifier Train loss: 0.5508, AE Train loss: 259.8162, Train Acc: 0.7392\n",
            "Epoch 7/26\n",
            " Classifier Train loss: 0.5385, AE Train loss: 228.4776, Train Acc: 0.7672\n",
            "Epoch 8/26\n",
            " Classifier Train loss: 0.5237, AE Train loss: 202.3828, Train Acc: 0.7856\n",
            "Epoch 9/26\n",
            " Classifier Train loss: 0.5133, AE Train loss: 180.5855, Train Acc: 0.7942\n",
            "Epoch 10/26\n",
            " Classifier Train loss: 0.5007, AE Train loss: 162.0229, Train Acc: 0.7963\n",
            "Epoch 11/26\n",
            " Classifier Train loss: 0.4906, AE Train loss: 145.8215, Train Acc: 0.8039\n",
            "Epoch 12/26\n",
            " Classifier Train loss: 0.4801, AE Train loss: 131.8600, Train Acc: 0.8147\n",
            "Epoch 13/26\n",
            " Classifier Train loss: 0.4705, AE Train loss: 119.6962, Train Acc: 0.8190\n",
            "Epoch 14/26\n",
            " Classifier Train loss: 0.4618, AE Train loss: 109.0631, Train Acc: 0.8244\n",
            "Epoch 15/26\n",
            " Classifier Train loss: 0.4534, AE Train loss: 99.6164, Train Acc: 0.8341\n",
            "Epoch 16/26\n",
            " Classifier Train loss: 0.4439, AE Train loss: 91.0904, Train Acc: 0.8394\n",
            "Epoch 17/26\n",
            " Classifier Train loss: 0.4352, AE Train loss: 83.6224, Train Acc: 0.8459\n",
            "Epoch 18/26\n",
            " Classifier Train loss: 0.4280, AE Train loss: 76.9223, Train Acc: 0.8545\n",
            "Epoch 19/26\n",
            " Classifier Train loss: 0.4207, AE Train loss: 70.7273, Train Acc: 0.8567\n",
            "Epoch 20/26\n",
            " Classifier Train loss: 0.4135, AE Train loss: 65.2004, Train Acc: 0.8642\n",
            "Epoch 21/26\n",
            " Classifier Train loss: 0.4053, AE Train loss: 0.0000, Train Acc: 0.8728\n",
            "Epoch 22/26\n",
            " Classifier Train loss: 0.3953, AE Train loss: 0.0000, Train Acc: 0.8772\n",
            "Epoch 23/26\n",
            " Classifier Train loss: 0.3868, AE Train loss: 0.0000, Train Acc: 0.8836\n",
            "Epoch 24/26\n",
            " Classifier Train loss: 0.3780, AE Train loss: 0.0000, Train Acc: 0.8847\n",
            "Epoch 25/26\n",
            " Classifier Train loss: 0.3675, AE Train loss: 0.0000, Train Acc: 0.8858\n",
            "-----------------------------\n",
            "Fold 4/10\n",
            "{'accuracy': 0.7308, 'senstivity': 0.7059, 'specificity': 0.7547, 'loss': 0.5269}\n",
            "-----------------------------\n"
          ],
          "name": "stdout"
        },
        {
          "output_type": "stream",
          "text": [
            "\u001b[34m\u001b[1mwandb\u001b[0m: \u001b[33mWARNING\u001b[0m Calling wandb.login() after wandb.init() has no effect.\n"
          ],
          "name": "stderr"
        },
        {
          "output_type": "display_data",
          "data": {
            "text/html": [
              "<br/>Waiting for W&B process to finish, PID 2685<br/>Program ended successfully."
            ],
            "text/plain": [
              "<IPython.core.display.HTML object>"
            ]
          },
          "metadata": {
            "tags": []
          }
        },
        {
          "output_type": "display_data",
          "data": {
            "application/vnd.jupyter.widget-view+json": {
              "model_id": "00c9a116ffb24f3f938a6eeb73ba2cc1",
              "version_minor": 0,
              "version_major": 2
            },
            "text/plain": [
              "VBox(children=(Label(value=' 0.00MB of 0.00MB uploaded (0.00MB deduped)\\r'), FloatProgress(value=1.0, max=1.0)…"
            ]
          },
          "metadata": {
            "tags": []
          }
        },
        {
          "output_type": "display_data",
          "data": {
            "text/html": [
              "Find user logs for this run at: <code>wandb/run-20201016_053921-sep-pca1024-cc200ho-fold-4-rp-2/logs/debug.log</code>"
            ],
            "text/plain": [
              "<IPython.core.display.HTML object>"
            ]
          },
          "metadata": {
            "tags": []
          }
        },
        {
          "output_type": "display_data",
          "data": {
            "text/html": [
              "Find internal logs for this run at: <code>wandb/run-20201016_053921-sep-pca1024-cc200ho-fold-4-rp-2/logs/debug-internal.log</code>"
            ],
            "text/plain": [
              "<IPython.core.display.HTML object>"
            ]
          },
          "metadata": {
            "tags": []
          }
        },
        {
          "output_type": "display_data",
          "data": {
            "text/html": [
              "<h3>Run summary:</h3><br/><style>\n",
              "    table.wandb td:nth-child(1) { padding: 0 10px; text-align: right }\n",
              "    </style><table class=\"wandb\">\n",
              "<tr><td>Classifier Train loss</td><td>0.36746</td></tr><tr><td>Train accuracy</td><td>0.88578</td></tr><tr><td>AE Train loss</td><td>0.0</td></tr><tr><td>_step</td><td>24</td></tr><tr><td>_runtime</td><td>17</td></tr><tr><td>_timestamp</td><td>1602826782</td></tr></table>"
            ],
            "text/plain": [
              "<IPython.core.display.HTML object>"
            ]
          },
          "metadata": {
            "tags": []
          }
        },
        {
          "output_type": "display_data",
          "data": {
            "text/html": [
              "<h3>Run history:</h3><br/><style>\n",
              "    table.wandb td:nth-child(1) { padding: 0 10px; text-align: right }\n",
              "    </style><table class=\"wandb\">\n",
              "<tr><td>Classifier Train loss</td><td>█▇▆▆▆▅▅▅▄▄▄▄▃▃▃▃▃▂▂▂▂▂▁▁▁</td></tr><tr><td>Train accuracy</td><td>▁▃▄▄▄▅▅▆▆▆▆▆▆▇▇▇▇▇▇▇█████</td></tr><tr><td>AE Train loss</td><td>█▆▅▅▄▄▃▃▃▃▃▂▂▂▂▂▂▂▂▂▁▁▁▁▁</td></tr><tr><td>_step</td><td>▁▁▂▂▂▂▃▃▃▄▄▄▅▅▅▅▆▆▆▇▇▇▇██</td></tr><tr><td>_runtime</td><td>▁▁▁▂▂▂▃▃▃▄▄▄▅▅▅▆▆▆▇▇▇▇███</td></tr><tr><td>_timestamp</td><td>▁▁▁▂▂▂▃▃▃▄▄▄▅▅▅▆▆▆▇▇▇▇███</td></tr></table><br/>"
            ],
            "text/plain": [
              "<IPython.core.display.HTML object>"
            ]
          },
          "metadata": {
            "tags": []
          }
        },
        {
          "output_type": "display_data",
          "data": {
            "text/html": [
              "Synced 5 W&B file(s), 0 media file(s), 0 artifact file(s) and 0 other file(s)"
            ],
            "text/plain": [
              "<IPython.core.display.HTML object>"
            ]
          },
          "metadata": {
            "tags": []
          }
        },
        {
          "output_type": "display_data",
          "data": {
            "text/html": [
              "\n",
              "                    <br/>Synced <strong style=\"color:#cdcd00\">asd-diagnet-sep-pca1024-cc200ho-fold-4-rp-2</strong>: <a href=\"https://wandb.ai/pindi-krishna/asd2/runs/sep-pca1024-cc200ho-fold-4-rp-2\" target=\"_blank\">https://wandb.ai/pindi-krishna/asd2/runs/sep-pca1024-cc200ho-fold-4-rp-2</a><br/>\n",
              "                "
            ],
            "text/plain": [
              "<IPython.core.display.HTML object>"
            ]
          },
          "metadata": {
            "tags": []
          }
        },
        {
          "output_type": "display_data",
          "data": {
            "text/html": [
              "\n",
              "                Tracking run with wandb version 0.10.7<br/>\n",
              "                Syncing run <strong style=\"color:#cdcd00\">asd-diagnet-sep-pca1024-cc200ho-fold-5-rp-2</strong> to <a href=\"https://wandb.ai\" target=\"_blank\">Weights & Biases</a> <a href=\"https://docs.wandb.com/integrations/jupyter.html\" target=\"_blank\">(Documentation)</a>.<br/>\n",
              "                Project page: <a href=\"https://wandb.ai/pindi-krishna/asd2\" target=\"_blank\">https://wandb.ai/pindi-krishna/asd2</a><br/>\n",
              "                Run page: <a href=\"https://wandb.ai/pindi-krishna/asd2/runs/sep-pca1024-cc200ho-fold-5-rp-2\" target=\"_blank\">https://wandb.ai/pindi-krishna/asd2/runs/sep-pca1024-cc200ho-fold-5-rp-2</a><br/>\n",
              "                Run data is saved locally in <code>wandb/run-20201016_053942-sep-pca1024-cc200ho-fold-5-rp-2</code><br/><br/>\n",
              "            "
            ],
            "text/plain": [
              "<IPython.core.display.HTML object>"
            ]
          },
          "metadata": {
            "tags": []
          }
        },
        {
          "output_type": "stream",
          "text": [
            "Epoch 1/26\n",
            " Classifier Train loss: 0.6717, AE Train loss: 653.7505, Train Acc: 0.5841\n",
            "Epoch 2/26\n",
            " Classifier Train loss: 0.6357, AE Train loss: 495.2399, Train Acc: 0.6562\n",
            "Epoch 3/26\n",
            " Classifier Train loss: 0.6109, AE Train loss: 408.4711, Train Acc: 0.6972\n",
            "Epoch 4/26\n",
            " Classifier Train loss: 0.5906, AE Train loss: 345.5117, Train Acc: 0.7166\n",
            "Epoch 5/26\n",
            " Classifier Train loss: 0.5724, AE Train loss: 297.6249, Train Acc: 0.7381\n",
            "Epoch 6/26\n",
            " Classifier Train loss: 0.5572, AE Train loss: 259.0518, Train Acc: 0.7543\n",
            "Epoch 7/26\n",
            " Classifier Train loss: 0.5422, AE Train loss: 228.0021, Train Acc: 0.7726\n",
            "Epoch 8/26\n",
            " Classifier Train loss: 0.5286, AE Train loss: 202.1641, Train Acc: 0.7780\n",
            "Epoch 9/26\n",
            " Classifier Train loss: 0.5160, AE Train loss: 180.3369, Train Acc: 0.7963\n",
            "Epoch 10/26\n",
            " Classifier Train loss: 0.5044, AE Train loss: 161.7228, Train Acc: 0.7974\n",
            "Epoch 11/26\n",
            " Classifier Train loss: 0.4925, AE Train loss: 145.7367, Train Acc: 0.8114\n",
            "Epoch 12/26\n",
            " Classifier Train loss: 0.4827, AE Train loss: 132.0022, Train Acc: 0.8168\n",
            "Epoch 13/26\n",
            " Classifier Train loss: 0.4723, AE Train loss: 119.8285, Train Acc: 0.8233\n",
            "Epoch 14/26\n",
            " Classifier Train loss: 0.4624, AE Train loss: 109.1144, Train Acc: 0.8276\n",
            "Epoch 15/26\n",
            " Classifier Train loss: 0.4538, AE Train loss: 99.7763, Train Acc: 0.8405\n",
            "Epoch 16/26\n",
            " Classifier Train loss: 0.4442, AE Train loss: 91.3234, Train Acc: 0.8459\n",
            "Epoch 17/26\n",
            " Classifier Train loss: 0.4361, AE Train loss: 83.8079, Train Acc: 0.8481\n",
            "Epoch 18/26\n",
            " Classifier Train loss: 0.4273, AE Train loss: 77.0561, Train Acc: 0.8588\n",
            "Epoch 19/26\n",
            " Classifier Train loss: 0.4201, AE Train loss: 70.9282, Train Acc: 0.8599\n",
            "Epoch 20/26\n",
            " Classifier Train loss: 0.4114, AE Train loss: 65.5412, Train Acc: 0.8707\n",
            "Epoch 21/26\n",
            " Classifier Train loss: 0.4043, AE Train loss: 0.0000, Train Acc: 0.8739\n",
            "Epoch 22/26\n",
            " Classifier Train loss: 0.3943, AE Train loss: 0.0000, Train Acc: 0.8836\n",
            "Epoch 23/26\n",
            " Classifier Train loss: 0.3853, AE Train loss: 0.0000, Train Acc: 0.8922\n",
            "Epoch 24/26\n",
            " Classifier Train loss: 0.3761, AE Train loss: 0.0000, Train Acc: 0.8955\n",
            "Epoch 25/26\n",
            " Classifier Train loss: 0.3670, AE Train loss: 0.0000, Train Acc: 0.8976\n",
            "-----------------------------\n",
            "Fold 5/10\n",
            "{'accuracy': 0.7212, 'senstivity': 0.7451, 'specificity': 0.6981, 'loss': 0.5721}\n",
            "-----------------------------\n"
          ],
          "name": "stdout"
        },
        {
          "output_type": "stream",
          "text": [
            "\u001b[34m\u001b[1mwandb\u001b[0m: \u001b[33mWARNING\u001b[0m Calling wandb.login() after wandb.init() has no effect.\n"
          ],
          "name": "stderr"
        },
        {
          "output_type": "display_data",
          "data": {
            "text/html": [
              "<br/>Waiting for W&B process to finish, PID 2817<br/>Program ended successfully."
            ],
            "text/plain": [
              "<IPython.core.display.HTML object>"
            ]
          },
          "metadata": {
            "tags": []
          }
        },
        {
          "output_type": "display_data",
          "data": {
            "application/vnd.jupyter.widget-view+json": {
              "model_id": "018ff71ae9bb488fb33d94f1382f1d45",
              "version_minor": 0,
              "version_major": 2
            },
            "text/plain": [
              "VBox(children=(Label(value=' 0.00MB of 0.00MB uploaded (0.00MB deduped)\\r'), FloatProgress(value=1.0, max=1.0)…"
            ]
          },
          "metadata": {
            "tags": []
          }
        },
        {
          "output_type": "display_data",
          "data": {
            "text/html": [
              "Find user logs for this run at: <code>wandb/run-20201016_053942-sep-pca1024-cc200ho-fold-5-rp-2/logs/debug.log</code>"
            ],
            "text/plain": [
              "<IPython.core.display.HTML object>"
            ]
          },
          "metadata": {
            "tags": []
          }
        },
        {
          "output_type": "display_data",
          "data": {
            "text/html": [
              "Find internal logs for this run at: <code>wandb/run-20201016_053942-sep-pca1024-cc200ho-fold-5-rp-2/logs/debug-internal.log</code>"
            ],
            "text/plain": [
              "<IPython.core.display.HTML object>"
            ]
          },
          "metadata": {
            "tags": []
          }
        },
        {
          "output_type": "display_data",
          "data": {
            "text/html": [
              "<h3>Run summary:</h3><br/><style>\n",
              "    table.wandb td:nth-child(1) { padding: 0 10px; text-align: right }\n",
              "    </style><table class=\"wandb\">\n",
              "<tr><td>Classifier Train loss</td><td>0.36697</td></tr><tr><td>Train accuracy</td><td>0.89763</td></tr><tr><td>AE Train loss</td><td>0.0</td></tr><tr><td>_step</td><td>24</td></tr><tr><td>_runtime</td><td>18</td></tr><tr><td>_timestamp</td><td>1602826804</td></tr></table>"
            ],
            "text/plain": [
              "<IPython.core.display.HTML object>"
            ]
          },
          "metadata": {
            "tags": []
          }
        },
        {
          "output_type": "display_data",
          "data": {
            "text/html": [
              "<h3>Run history:</h3><br/><style>\n",
              "    table.wandb td:nth-child(1) { padding: 0 10px; text-align: right }\n",
              "    </style><table class=\"wandb\">\n",
              "<tr><td>Classifier Train loss</td><td>█▇▇▆▆▅▅▅▄▄▄▄▃▃▃▃▃▂▂▂▂▂▁▁▁</td></tr><tr><td>Train accuracy</td><td>▁▃▄▄▄▅▅▅▆▆▆▆▆▆▇▇▇▇▇▇▇████</td></tr><tr><td>AE Train loss</td><td>█▆▅▅▄▄▃▃▃▃▃▂▂▂▂▂▂▂▂▂▁▁▁▁▁</td></tr><tr><td>_step</td><td>▁▁▂▂▂▂▃▃▃▄▄▄▅▅▅▅▆▆▆▇▇▇▇██</td></tr><tr><td>_runtime</td><td>▁▁▁▂▂▂▃▃▃▄▄▄▅▅▅▅▆▆▆▇▇▇███</td></tr><tr><td>_timestamp</td><td>▁▁▁▂▂▂▃▃▃▄▄▄▅▅▅▅▆▆▆▇▇▇███</td></tr></table><br/>"
            ],
            "text/plain": [
              "<IPython.core.display.HTML object>"
            ]
          },
          "metadata": {
            "tags": []
          }
        },
        {
          "output_type": "display_data",
          "data": {
            "text/html": [
              "Synced 5 W&B file(s), 0 media file(s), 0 artifact file(s) and 0 other file(s)"
            ],
            "text/plain": [
              "<IPython.core.display.HTML object>"
            ]
          },
          "metadata": {
            "tags": []
          }
        },
        {
          "output_type": "display_data",
          "data": {
            "text/html": [
              "\n",
              "                    <br/>Synced <strong style=\"color:#cdcd00\">asd-diagnet-sep-pca1024-cc200ho-fold-5-rp-2</strong>: <a href=\"https://wandb.ai/pindi-krishna/asd2/runs/sep-pca1024-cc200ho-fold-5-rp-2\" target=\"_blank\">https://wandb.ai/pindi-krishna/asd2/runs/sep-pca1024-cc200ho-fold-5-rp-2</a><br/>\n",
              "                "
            ],
            "text/plain": [
              "<IPython.core.display.HTML object>"
            ]
          },
          "metadata": {
            "tags": []
          }
        },
        {
          "output_type": "display_data",
          "data": {
            "text/html": [
              "\n",
              "                Tracking run with wandb version 0.10.7<br/>\n",
              "                Syncing run <strong style=\"color:#cdcd00\">asd-diagnet-sep-pca1024-cc200ho-fold-6-rp-2</strong> to <a href=\"https://wandb.ai\" target=\"_blank\">Weights & Biases</a> <a href=\"https://docs.wandb.com/integrations/jupyter.html\" target=\"_blank\">(Documentation)</a>.<br/>\n",
              "                Project page: <a href=\"https://wandb.ai/pindi-krishna/asd2\" target=\"_blank\">https://wandb.ai/pindi-krishna/asd2</a><br/>\n",
              "                Run page: <a href=\"https://wandb.ai/pindi-krishna/asd2/runs/sep-pca1024-cc200ho-fold-6-rp-2\" target=\"_blank\">https://wandb.ai/pindi-krishna/asd2/runs/sep-pca1024-cc200ho-fold-6-rp-2</a><br/>\n",
              "                Run data is saved locally in <code>wandb/run-20201016_054004-sep-pca1024-cc200ho-fold-6-rp-2</code><br/><br/>\n",
              "            "
            ],
            "text/plain": [
              "<IPython.core.display.HTML object>"
            ]
          },
          "metadata": {
            "tags": []
          }
        },
        {
          "output_type": "stream",
          "text": [
            "Epoch 1/26\n",
            " Classifier Train loss: 0.6862, AE Train loss: 653.2922, Train Acc: 0.5431\n",
            "Epoch 2/26\n",
            " Classifier Train loss: 0.6509, AE Train loss: 495.9975, Train Acc: 0.6272\n",
            "Epoch 3/26\n",
            " Classifier Train loss: 0.6243, AE Train loss: 408.7601, Train Acc: 0.6703\n",
            "Epoch 4/26\n",
            " Classifier Train loss: 0.6025, AE Train loss: 345.9291, Train Acc: 0.6929\n",
            "Epoch 5/26\n",
            " Classifier Train loss: 0.5859, AE Train loss: 298.2365, Train Acc: 0.7047\n",
            "Epoch 6/26\n",
            " Classifier Train loss: 0.5688, AE Train loss: 259.6948, Train Acc: 0.7328\n",
            "Epoch 7/26\n",
            " Classifier Train loss: 0.5535, AE Train loss: 228.2977, Train Acc: 0.7457\n",
            "Epoch 8/26\n",
            " Classifier Train loss: 0.5396, AE Train loss: 202.5323, Train Acc: 0.7629\n",
            "Epoch 9/26\n",
            " Classifier Train loss: 0.5276, AE Train loss: 180.6327, Train Acc: 0.7748\n",
            "Epoch 10/26\n",
            " Classifier Train loss: 0.5150, AE Train loss: 162.1908, Train Acc: 0.7834\n",
            "Epoch 11/26\n",
            " Classifier Train loss: 0.5032, AE Train loss: 146.0630, Train Acc: 0.7888\n",
            "Epoch 12/26\n",
            " Classifier Train loss: 0.4927, AE Train loss: 132.1143, Train Acc: 0.7953\n",
            "Epoch 13/26\n",
            " Classifier Train loss: 0.4823, AE Train loss: 120.0103, Train Acc: 0.7996\n",
            "Epoch 14/26\n",
            " Classifier Train loss: 0.4714, AE Train loss: 109.2608, Train Acc: 0.8103\n",
            "Epoch 15/26\n",
            " Classifier Train loss: 0.4645, AE Train loss: 99.8297, Train Acc: 0.8157\n",
            "Epoch 16/26\n",
            " Classifier Train loss: 0.4544, AE Train loss: 91.4794, Train Acc: 0.8254\n",
            "Epoch 17/26\n",
            " Classifier Train loss: 0.4457, AE Train loss: 83.8923, Train Acc: 0.8308\n",
            "Epoch 18/26\n",
            " Classifier Train loss: 0.4381, AE Train loss: 77.1755, Train Acc: 0.8448\n",
            "Epoch 19/26\n",
            " Classifier Train loss: 0.4302, AE Train loss: 71.1015, Train Acc: 0.8481\n",
            "Epoch 20/26\n",
            " Classifier Train loss: 0.4211, AE Train loss: 65.5744, Train Acc: 0.8545\n",
            "Epoch 21/26\n",
            " Classifier Train loss: 0.4138, AE Train loss: 0.0000, Train Acc: 0.8621\n",
            "Epoch 22/26\n",
            " Classifier Train loss: 0.4042, AE Train loss: 0.0000, Train Acc: 0.8707\n",
            "Epoch 23/26\n",
            " Classifier Train loss: 0.3945, AE Train loss: 0.0000, Train Acc: 0.8782\n",
            "Epoch 24/26\n",
            " Classifier Train loss: 0.3851, AE Train loss: 0.0000, Train Acc: 0.8836\n",
            "Epoch 25/26\n",
            " Classifier Train loss: 0.3763, AE Train loss: 0.0000, Train Acc: 0.8879\n",
            "-----------------------------\n",
            "Fold 6/10\n",
            "{'accuracy': 0.699, 'senstivity': 0.66, 'specificity': 0.7358, 'loss': 0.5836}\n",
            "-----------------------------\n"
          ],
          "name": "stdout"
        },
        {
          "output_type": "stream",
          "text": [
            "\u001b[34m\u001b[1mwandb\u001b[0m: \u001b[33mWARNING\u001b[0m Calling wandb.login() after wandb.init() has no effect.\n"
          ],
          "name": "stderr"
        },
        {
          "output_type": "display_data",
          "data": {
            "text/html": [
              "<br/>Waiting for W&B process to finish, PID 2953<br/>Program ended successfully."
            ],
            "text/plain": [
              "<IPython.core.display.HTML object>"
            ]
          },
          "metadata": {
            "tags": []
          }
        },
        {
          "output_type": "display_data",
          "data": {
            "application/vnd.jupyter.widget-view+json": {
              "model_id": "a006c00473d24d478fea8e4636be5efe",
              "version_minor": 0,
              "version_major": 2
            },
            "text/plain": [
              "VBox(children=(Label(value=' 0.00MB of 0.00MB uploaded (0.00MB deduped)\\r'), FloatProgress(value=1.0, max=1.0)…"
            ]
          },
          "metadata": {
            "tags": []
          }
        },
        {
          "output_type": "display_data",
          "data": {
            "text/html": [
              "Find user logs for this run at: <code>wandb/run-20201016_054004-sep-pca1024-cc200ho-fold-6-rp-2/logs/debug.log</code>"
            ],
            "text/plain": [
              "<IPython.core.display.HTML object>"
            ]
          },
          "metadata": {
            "tags": []
          }
        },
        {
          "output_type": "display_data",
          "data": {
            "text/html": [
              "Find internal logs for this run at: <code>wandb/run-20201016_054004-sep-pca1024-cc200ho-fold-6-rp-2/logs/debug-internal.log</code>"
            ],
            "text/plain": [
              "<IPython.core.display.HTML object>"
            ]
          },
          "metadata": {
            "tags": []
          }
        },
        {
          "output_type": "display_data",
          "data": {
            "text/html": [
              "<h3>Run summary:</h3><br/><style>\n",
              "    table.wandb td:nth-child(1) { padding: 0 10px; text-align: right }\n",
              "    </style><table class=\"wandb\">\n",
              "<tr><td>Classifier Train loss</td><td>0.37634</td></tr><tr><td>Train accuracy</td><td>0.88793</td></tr><tr><td>AE Train loss</td><td>0.0</td></tr><tr><td>_step</td><td>24</td></tr><tr><td>_runtime</td><td>18</td></tr><tr><td>_timestamp</td><td>1602826825</td></tr></table>"
            ],
            "text/plain": [
              "<IPython.core.display.HTML object>"
            ]
          },
          "metadata": {
            "tags": []
          }
        },
        {
          "output_type": "display_data",
          "data": {
            "text/html": [
              "<h3>Run history:</h3><br/><style>\n",
              "    table.wandb td:nth-child(1) { padding: 0 10px; text-align: right }\n",
              "    </style><table class=\"wandb\">\n",
              "<tr><td>Classifier Train loss</td><td>█▇▇▆▆▅▅▅▄▄▄▄▃▃▃▃▃▂▂▂▂▂▁▁▁</td></tr><tr><td>Train accuracy</td><td>▁▃▄▄▄▅▅▅▆▆▆▆▆▆▇▇▇▇▇▇▇████</td></tr><tr><td>AE Train loss</td><td>█▆▅▅▄▄▃▃▃▃▃▂▂▂▂▂▂▂▂▂▁▁▁▁▁</td></tr><tr><td>_step</td><td>▁▁▂▂▂▂▃▃▃▄▄▄▅▅▅▅▆▆▆▇▇▇▇██</td></tr><tr><td>_runtime</td><td>▁▁▂▂▂▃▃▃▄▄▄▅▅▅▅▆▆▆▇▇▇▇███</td></tr><tr><td>_timestamp</td><td>▁▁▂▂▂▃▃▃▄▄▄▅▅▅▅▆▆▆▇▇▇▇███</td></tr></table><br/>"
            ],
            "text/plain": [
              "<IPython.core.display.HTML object>"
            ]
          },
          "metadata": {
            "tags": []
          }
        },
        {
          "output_type": "display_data",
          "data": {
            "text/html": [
              "Synced 5 W&B file(s), 0 media file(s), 0 artifact file(s) and 0 other file(s)"
            ],
            "text/plain": [
              "<IPython.core.display.HTML object>"
            ]
          },
          "metadata": {
            "tags": []
          }
        },
        {
          "output_type": "display_data",
          "data": {
            "text/html": [
              "\n",
              "                    <br/>Synced <strong style=\"color:#cdcd00\">asd-diagnet-sep-pca1024-cc200ho-fold-6-rp-2</strong>: <a href=\"https://wandb.ai/pindi-krishna/asd2/runs/sep-pca1024-cc200ho-fold-6-rp-2\" target=\"_blank\">https://wandb.ai/pindi-krishna/asd2/runs/sep-pca1024-cc200ho-fold-6-rp-2</a><br/>\n",
              "                "
            ],
            "text/plain": [
              "<IPython.core.display.HTML object>"
            ]
          },
          "metadata": {
            "tags": []
          }
        },
        {
          "output_type": "display_data",
          "data": {
            "text/html": [
              "\n",
              "                Tracking run with wandb version 0.10.7<br/>\n",
              "                Syncing run <strong style=\"color:#cdcd00\">asd-diagnet-sep-pca1024-cc200ho-fold-7-rp-2</strong> to <a href=\"https://wandb.ai\" target=\"_blank\">Weights & Biases</a> <a href=\"https://docs.wandb.com/integrations/jupyter.html\" target=\"_blank\">(Documentation)</a>.<br/>\n",
              "                Project page: <a href=\"https://wandb.ai/pindi-krishna/asd2\" target=\"_blank\">https://wandb.ai/pindi-krishna/asd2</a><br/>\n",
              "                Run page: <a href=\"https://wandb.ai/pindi-krishna/asd2/runs/sep-pca1024-cc200ho-fold-7-rp-2\" target=\"_blank\">https://wandb.ai/pindi-krishna/asd2/runs/sep-pca1024-cc200ho-fold-7-rp-2</a><br/>\n",
              "                Run data is saved locally in <code>wandb/run-20201016_054026-sep-pca1024-cc200ho-fold-7-rp-2</code><br/><br/>\n",
              "            "
            ],
            "text/plain": [
              "<IPython.core.display.HTML object>"
            ]
          },
          "metadata": {
            "tags": []
          }
        },
        {
          "output_type": "stream",
          "text": [
            "Epoch 1/26\n",
            " Classifier Train loss: 0.6868, AE Train loss: 651.2793, Train Acc: 0.5517\n",
            "Epoch 2/26\n",
            " Classifier Train loss: 0.6515, AE Train loss: 494.0712, Train Acc: 0.6153\n",
            "Epoch 3/26\n",
            " Classifier Train loss: 0.6250, AE Train loss: 407.2084, Train Acc: 0.6616\n",
            "Epoch 4/26\n",
            " Classifier Train loss: 0.6038, AE Train loss: 344.5078, Train Acc: 0.6864\n",
            "Epoch 5/26\n",
            " Classifier Train loss: 0.5874, AE Train loss: 296.3684, Train Acc: 0.6972\n",
            "Epoch 6/26\n",
            " Classifier Train loss: 0.5705, AE Train loss: 258.4640, Train Acc: 0.7134\n",
            "Epoch 7/26\n",
            " Classifier Train loss: 0.5539, AE Train loss: 227.1605, Train Acc: 0.7252\n",
            "Epoch 8/26\n",
            " Classifier Train loss: 0.5413, AE Train loss: 201.5698, Train Acc: 0.7381\n",
            "Epoch 9/26\n",
            " Classifier Train loss: 0.5283, AE Train loss: 179.6963, Train Acc: 0.7543\n",
            "Epoch 10/26\n",
            " Classifier Train loss: 0.5157, AE Train loss: 161.4594, Train Acc: 0.7726\n",
            "Epoch 11/26\n",
            " Classifier Train loss: 0.5049, AE Train loss: 145.3849, Train Acc: 0.7802\n",
            "Epoch 12/26\n",
            " Classifier Train loss: 0.4934, AE Train loss: 131.6266, Train Acc: 0.7963\n",
            "Epoch 13/26\n",
            " Classifier Train loss: 0.4838, AE Train loss: 119.6035, Train Acc: 0.8060\n",
            "Epoch 14/26\n",
            " Classifier Train loss: 0.4732, AE Train loss: 109.0053, Train Acc: 0.8190\n",
            "Epoch 15/26\n",
            " Classifier Train loss: 0.4612, AE Train loss: 99.5317, Train Acc: 0.8222\n",
            "Epoch 16/26\n",
            " Classifier Train loss: 0.4548, AE Train loss: 91.1563, Train Acc: 0.8287\n",
            "Epoch 17/26\n",
            " Classifier Train loss: 0.4459, AE Train loss: 83.6486, Train Acc: 0.8394\n",
            "Epoch 18/26\n",
            " Classifier Train loss: 0.4372, AE Train loss: 76.9024, Train Acc: 0.8459\n",
            "Epoch 19/26\n",
            " Classifier Train loss: 0.4290, AE Train loss: 70.9519, Train Acc: 0.8534\n",
            "Epoch 20/26\n",
            " Classifier Train loss: 0.4203, AE Train loss: 65.4976, Train Acc: 0.8610\n",
            "Epoch 21/26\n",
            " Classifier Train loss: 0.4124, AE Train loss: 0.0000, Train Acc: 0.8707\n",
            "Epoch 22/26\n",
            " Classifier Train loss: 0.4010, AE Train loss: 0.0000, Train Acc: 0.8782\n",
            "Epoch 23/26\n",
            " Classifier Train loss: 0.3932, AE Train loss: 0.0000, Train Acc: 0.8804\n",
            "Epoch 24/26\n",
            " Classifier Train loss: 0.3838, AE Train loss: 0.0000, Train Acc: 0.8890\n",
            "Epoch 25/26\n",
            " Classifier Train loss: 0.3741, AE Train loss: 0.0000, Train Acc: 0.8933\n"
          ],
          "name": "stdout"
        },
        {
          "output_type": "stream",
          "text": [
            "\u001b[34m\u001b[1mwandb\u001b[0m: \u001b[33mWARNING\u001b[0m Calling wandb.login() after wandb.init() has no effect.\n"
          ],
          "name": "stderr"
        },
        {
          "output_type": "stream",
          "text": [
            "-----------------------------\n",
            "Fold 7/10\n",
            "{'accuracy': 0.6602, 'senstivity': 0.54, 'specificity': 0.7736, 'loss': 0.6013}\n",
            "-----------------------------\n"
          ],
          "name": "stdout"
        },
        {
          "output_type": "display_data",
          "data": {
            "text/html": [
              "<br/>Waiting for W&B process to finish, PID 3085<br/>Program ended successfully."
            ],
            "text/plain": [
              "<IPython.core.display.HTML object>"
            ]
          },
          "metadata": {
            "tags": []
          }
        },
        {
          "output_type": "display_data",
          "data": {
            "application/vnd.jupyter.widget-view+json": {
              "model_id": "7ef51178abdc469e97962691d7c7db64",
              "version_minor": 0,
              "version_major": 2
            },
            "text/plain": [
              "VBox(children=(Label(value=' 0.00MB of 0.00MB uploaded (0.00MB deduped)\\r'), FloatProgress(value=1.0, max=1.0)…"
            ]
          },
          "metadata": {
            "tags": []
          }
        },
        {
          "output_type": "display_data",
          "data": {
            "text/html": [
              "Find user logs for this run at: <code>wandb/run-20201016_054026-sep-pca1024-cc200ho-fold-7-rp-2/logs/debug.log</code>"
            ],
            "text/plain": [
              "<IPython.core.display.HTML object>"
            ]
          },
          "metadata": {
            "tags": []
          }
        },
        {
          "output_type": "display_data",
          "data": {
            "text/html": [
              "Find internal logs for this run at: <code>wandb/run-20201016_054026-sep-pca1024-cc200ho-fold-7-rp-2/logs/debug-internal.log</code>"
            ],
            "text/plain": [
              "<IPython.core.display.HTML object>"
            ]
          },
          "metadata": {
            "tags": []
          }
        },
        {
          "output_type": "display_data",
          "data": {
            "text/html": [
              "<h3>Run summary:</h3><br/><style>\n",
              "    table.wandb td:nth-child(1) { padding: 0 10px; text-align: right }\n",
              "    </style><table class=\"wandb\">\n",
              "<tr><td>Classifier Train loss</td><td>0.37405</td></tr><tr><td>Train accuracy</td><td>0.89332</td></tr><tr><td>AE Train loss</td><td>0.0</td></tr><tr><td>_step</td><td>24</td></tr><tr><td>_runtime</td><td>18</td></tr><tr><td>_timestamp</td><td>1602826847</td></tr></table>"
            ],
            "text/plain": [
              "<IPython.core.display.HTML object>"
            ]
          },
          "metadata": {
            "tags": []
          }
        },
        {
          "output_type": "display_data",
          "data": {
            "text/html": [
              "<h3>Run history:</h3><br/><style>\n",
              "    table.wandb td:nth-child(1) { padding: 0 10px; text-align: right }\n",
              "    </style><table class=\"wandb\">\n",
              "<tr><td>Classifier Train loss</td><td>█▇▇▆▆▅▅▅▄▄▄▄▃▃▃▃▃▂▂▂▂▂▁▁▁</td></tr><tr><td>Train accuracy</td><td>▁▂▃▄▄▄▅▅▅▆▆▆▆▆▇▇▇▇▇▇█████</td></tr><tr><td>AE Train loss</td><td>█▆▅▅▄▄▃▃▃▃▃▂▂▂▂▂▂▂▂▂▁▁▁▁▁</td></tr><tr><td>_step</td><td>▁▁▂▂▂▂▃▃▃▄▄▄▅▅▅▅▆▆▆▇▇▇▇██</td></tr><tr><td>_runtime</td><td>▁▁▁▂▂▂▃▃▃▄▄▄▅▅▅▅▆▆▆▇▇▇███</td></tr><tr><td>_timestamp</td><td>▁▁▁▂▂▂▃▃▃▄▄▄▅▅▅▅▆▆▆▇▇▇███</td></tr></table><br/>"
            ],
            "text/plain": [
              "<IPython.core.display.HTML object>"
            ]
          },
          "metadata": {
            "tags": []
          }
        },
        {
          "output_type": "display_data",
          "data": {
            "text/html": [
              "Synced 5 W&B file(s), 0 media file(s), 0 artifact file(s) and 0 other file(s)"
            ],
            "text/plain": [
              "<IPython.core.display.HTML object>"
            ]
          },
          "metadata": {
            "tags": []
          }
        },
        {
          "output_type": "display_data",
          "data": {
            "text/html": [
              "\n",
              "                    <br/>Synced <strong style=\"color:#cdcd00\">asd-diagnet-sep-pca1024-cc200ho-fold-7-rp-2</strong>: <a href=\"https://wandb.ai/pindi-krishna/asd2/runs/sep-pca1024-cc200ho-fold-7-rp-2\" target=\"_blank\">https://wandb.ai/pindi-krishna/asd2/runs/sep-pca1024-cc200ho-fold-7-rp-2</a><br/>\n",
              "                "
            ],
            "text/plain": [
              "<IPython.core.display.HTML object>"
            ]
          },
          "metadata": {
            "tags": []
          }
        },
        {
          "output_type": "display_data",
          "data": {
            "text/html": [
              "\n",
              "                Tracking run with wandb version 0.10.7<br/>\n",
              "                Syncing run <strong style=\"color:#cdcd00\">asd-diagnet-sep-pca1024-cc200ho-fold-8-rp-2</strong> to <a href=\"https://wandb.ai\" target=\"_blank\">Weights & Biases</a> <a href=\"https://docs.wandb.com/integrations/jupyter.html\" target=\"_blank\">(Documentation)</a>.<br/>\n",
              "                Project page: <a href=\"https://wandb.ai/pindi-krishna/asd2\" target=\"_blank\">https://wandb.ai/pindi-krishna/asd2</a><br/>\n",
              "                Run page: <a href=\"https://wandb.ai/pindi-krishna/asd2/runs/sep-pca1024-cc200ho-fold-8-rp-2\" target=\"_blank\">https://wandb.ai/pindi-krishna/asd2/runs/sep-pca1024-cc200ho-fold-8-rp-2</a><br/>\n",
              "                Run data is saved locally in <code>wandb/run-20201016_054047-sep-pca1024-cc200ho-fold-8-rp-2</code><br/><br/>\n",
              "            "
            ],
            "text/plain": [
              "<IPython.core.display.HTML object>"
            ]
          },
          "metadata": {
            "tags": []
          }
        },
        {
          "output_type": "stream",
          "text": [
            "Epoch 1/26\n",
            " Classifier Train loss: 0.6932, AE Train loss: 655.7807, Train Acc: 0.5517\n",
            "Epoch 2/26\n",
            " Classifier Train loss: 0.6516, AE Train loss: 497.0244, Train Acc: 0.6390\n",
            "Epoch 3/26\n",
            " Classifier Train loss: 0.6219, AE Train loss: 409.7556, Train Acc: 0.6853\n",
            "Epoch 4/26\n",
            " Classifier Train loss: 0.5992, AE Train loss: 346.5017, Train Acc: 0.7026\n",
            "Epoch 5/26\n",
            " Classifier Train loss: 0.5816, AE Train loss: 298.1125, Train Acc: 0.7155\n",
            "Epoch 6/26\n",
            " Classifier Train loss: 0.5634, AE Train loss: 259.6700, Train Acc: 0.7317\n",
            "Epoch 7/26\n",
            " Classifier Train loss: 0.5482, AE Train loss: 228.2494, Train Acc: 0.7500\n",
            "Epoch 8/26\n",
            " Classifier Train loss: 0.5345, AE Train loss: 202.4490, Train Acc: 0.7532\n",
            "Epoch 9/26\n",
            " Classifier Train loss: 0.5215, AE Train loss: 180.4855, Train Acc: 0.7802\n",
            "Epoch 10/26\n",
            " Classifier Train loss: 0.5087, AE Train loss: 161.9525, Train Acc: 0.7888\n",
            "Epoch 11/26\n",
            " Classifier Train loss: 0.4968, AE Train loss: 146.0183, Train Acc: 0.8017\n",
            "Epoch 12/26\n",
            " Classifier Train loss: 0.4880, AE Train loss: 132.1533, Train Acc: 0.8114\n",
            "Epoch 13/26\n",
            " Classifier Train loss: 0.4769, AE Train loss: 119.9727, Train Acc: 0.8168\n",
            "Epoch 14/26\n",
            " Classifier Train loss: 0.4677, AE Train loss: 109.3379, Train Acc: 0.8244\n",
            "Epoch 15/26\n",
            " Classifier Train loss: 0.4579, AE Train loss: 99.8806, Train Acc: 0.8373\n",
            "Epoch 16/26\n",
            " Classifier Train loss: 0.4491, AE Train loss: 91.4514, Train Acc: 0.8405\n",
            "Epoch 17/26\n",
            " Classifier Train loss: 0.4394, AE Train loss: 84.0600, Train Acc: 0.8502\n",
            "Epoch 18/26\n",
            " Classifier Train loss: 0.4323, AE Train loss: 77.2626, Train Acc: 0.8502\n",
            "Epoch 19/26\n",
            " Classifier Train loss: 0.4238, AE Train loss: 71.1584, Train Acc: 0.8599\n",
            "Epoch 20/26\n",
            " Classifier Train loss: 0.4160, AE Train loss: 65.6648, Train Acc: 0.8696\n",
            "Epoch 21/26\n",
            " Classifier Train loss: 0.4074, AE Train loss: 0.0000, Train Acc: 0.8707\n",
            "Epoch 22/26\n",
            " Classifier Train loss: 0.3992, AE Train loss: 0.0000, Train Acc: 0.8804\n",
            "Epoch 23/26\n",
            " Classifier Train loss: 0.3892, AE Train loss: 0.0000, Train Acc: 0.8922\n",
            "Epoch 24/26\n",
            " Classifier Train loss: 0.3802, AE Train loss: 0.0000, Train Acc: 0.8922\n",
            "Epoch 25/26\n",
            " Classifier Train loss: 0.3709, AE Train loss: 0.0000, Train Acc: 0.8966\n",
            "-----------------------------\n",
            "Fold 8/10\n",
            "{'accuracy': 0.7184, 'senstivity': 0.78, 'specificity': 0.6604, 'loss': 0.5565}\n",
            "-----------------------------\n"
          ],
          "name": "stdout"
        },
        {
          "output_type": "stream",
          "text": [
            "\u001b[34m\u001b[1mwandb\u001b[0m: \u001b[33mWARNING\u001b[0m Calling wandb.login() after wandb.init() has no effect.\n"
          ],
          "name": "stderr"
        },
        {
          "output_type": "display_data",
          "data": {
            "text/html": [
              "<br/>Waiting for W&B process to finish, PID 3217<br/>Program ended successfully."
            ],
            "text/plain": [
              "<IPython.core.display.HTML object>"
            ]
          },
          "metadata": {
            "tags": []
          }
        },
        {
          "output_type": "display_data",
          "data": {
            "application/vnd.jupyter.widget-view+json": {
              "model_id": "08be33912650469da8e2b02906b5f49a",
              "version_minor": 0,
              "version_major": 2
            },
            "text/plain": [
              "VBox(children=(Label(value=' 0.00MB of 0.00MB uploaded (0.00MB deduped)\\r'), FloatProgress(value=1.0, max=1.0)…"
            ]
          },
          "metadata": {
            "tags": []
          }
        },
        {
          "output_type": "display_data",
          "data": {
            "text/html": [
              "Find user logs for this run at: <code>wandb/run-20201016_054047-sep-pca1024-cc200ho-fold-8-rp-2/logs/debug.log</code>"
            ],
            "text/plain": [
              "<IPython.core.display.HTML object>"
            ]
          },
          "metadata": {
            "tags": []
          }
        },
        {
          "output_type": "display_data",
          "data": {
            "text/html": [
              "Find internal logs for this run at: <code>wandb/run-20201016_054047-sep-pca1024-cc200ho-fold-8-rp-2/logs/debug-internal.log</code>"
            ],
            "text/plain": [
              "<IPython.core.display.HTML object>"
            ]
          },
          "metadata": {
            "tags": []
          }
        },
        {
          "output_type": "display_data",
          "data": {
            "text/html": [
              "<h3>Run summary:</h3><br/><style>\n",
              "    table.wandb td:nth-child(1) { padding: 0 10px; text-align: right }\n",
              "    </style><table class=\"wandb\">\n",
              "<tr><td>Classifier Train loss</td><td>0.37091</td></tr><tr><td>Train accuracy</td><td>0.89655</td></tr><tr><td>AE Train loss</td><td>0.0</td></tr><tr><td>_step</td><td>24</td></tr><tr><td>_runtime</td><td>18</td></tr><tr><td>_timestamp</td><td>1602826868</td></tr></table>"
            ],
            "text/plain": [
              "<IPython.core.display.HTML object>"
            ]
          },
          "metadata": {
            "tags": []
          }
        },
        {
          "output_type": "display_data",
          "data": {
            "text/html": [
              "<h3>Run history:</h3><br/><style>\n",
              "    table.wandb td:nth-child(1) { padding: 0 10px; text-align: right }\n",
              "    </style><table class=\"wandb\">\n",
              "<tr><td>Classifier Train loss</td><td>█▇▆▆▆▅▅▅▄▄▄▄▃▃▃▃▂▂▂▂▂▂▁▁▁</td></tr><tr><td>Train accuracy</td><td>▁▃▄▄▄▅▅▅▆▆▆▆▆▇▇▇▇▇▇▇▇████</td></tr><tr><td>AE Train loss</td><td>█▆▅▅▄▄▃▃▃▃▃▂▂▂▂▂▂▂▂▂▁▁▁▁▁</td></tr><tr><td>_step</td><td>▁▁▂▂▂▂▃▃▃▄▄▄▅▅▅▅▆▆▆▇▇▇▇██</td></tr><tr><td>_runtime</td><td>▁▁▂▂▂▃▃▃▄▄▄▅▅▅▅▅▆▆▇▇▇▇███</td></tr><tr><td>_timestamp</td><td>▁▁▂▂▂▃▃▃▄▄▄▅▅▅▅▅▆▆▇▇▇▇███</td></tr></table><br/>"
            ],
            "text/plain": [
              "<IPython.core.display.HTML object>"
            ]
          },
          "metadata": {
            "tags": []
          }
        },
        {
          "output_type": "display_data",
          "data": {
            "text/html": [
              "Synced 5 W&B file(s), 0 media file(s), 0 artifact file(s) and 0 other file(s)"
            ],
            "text/plain": [
              "<IPython.core.display.HTML object>"
            ]
          },
          "metadata": {
            "tags": []
          }
        },
        {
          "output_type": "display_data",
          "data": {
            "text/html": [
              "\n",
              "                    <br/>Synced <strong style=\"color:#cdcd00\">asd-diagnet-sep-pca1024-cc200ho-fold-8-rp-2</strong>: <a href=\"https://wandb.ai/pindi-krishna/asd2/runs/sep-pca1024-cc200ho-fold-8-rp-2\" target=\"_blank\">https://wandb.ai/pindi-krishna/asd2/runs/sep-pca1024-cc200ho-fold-8-rp-2</a><br/>\n",
              "                "
            ],
            "text/plain": [
              "<IPython.core.display.HTML object>"
            ]
          },
          "metadata": {
            "tags": []
          }
        },
        {
          "output_type": "display_data",
          "data": {
            "text/html": [
              "\n",
              "                Tracking run with wandb version 0.10.7<br/>\n",
              "                Syncing run <strong style=\"color:#cdcd00\">asd-diagnet-sep-pca1024-cc200ho-fold-9-rp-2</strong> to <a href=\"https://wandb.ai\" target=\"_blank\">Weights & Biases</a> <a href=\"https://docs.wandb.com/integrations/jupyter.html\" target=\"_blank\">(Documentation)</a>.<br/>\n",
              "                Project page: <a href=\"https://wandb.ai/pindi-krishna/asd2\" target=\"_blank\">https://wandb.ai/pindi-krishna/asd2</a><br/>\n",
              "                Run page: <a href=\"https://wandb.ai/pindi-krishna/asd2/runs/sep-pca1024-cc200ho-fold-9-rp-2\" target=\"_blank\">https://wandb.ai/pindi-krishna/asd2/runs/sep-pca1024-cc200ho-fold-9-rp-2</a><br/>\n",
              "                Run data is saved locally in <code>wandb/run-20201016_054108-sep-pca1024-cc200ho-fold-9-rp-2</code><br/><br/>\n",
              "            "
            ],
            "text/plain": [
              "<IPython.core.display.HTML object>"
            ]
          },
          "metadata": {
            "tags": []
          }
        },
        {
          "output_type": "stream",
          "text": [
            "Epoch 1/26\n",
            " Classifier Train loss: 0.6613, AE Train loss: 653.5106, Train Acc: 0.6261\n",
            "Epoch 2/26\n",
            " Classifier Train loss: 0.6237, AE Train loss: 495.3823, Train Acc: 0.6789\n",
            "Epoch 3/26\n",
            " Classifier Train loss: 0.5972, AE Train loss: 407.8715, Train Acc: 0.7091\n",
            "Epoch 4/26\n",
            " Classifier Train loss: 0.5778, AE Train loss: 345.7660, Train Acc: 0.7306\n",
            "Epoch 5/26\n",
            " Classifier Train loss: 0.5607, AE Train loss: 297.6375, Train Acc: 0.7435\n",
            "Epoch 6/26\n",
            " Classifier Train loss: 0.5454, AE Train loss: 259.0612, Train Acc: 0.7554\n",
            "Epoch 7/26\n",
            " Classifier Train loss: 0.5316, AE Train loss: 227.8134, Train Acc: 0.7672\n",
            "Epoch 8/26\n",
            " Classifier Train loss: 0.5181, AE Train loss: 201.8455, Train Acc: 0.7866\n",
            "Epoch 9/26\n",
            " Classifier Train loss: 0.5054, AE Train loss: 180.2889, Train Acc: 0.7909\n",
            "Epoch 10/26\n",
            " Classifier Train loss: 0.4938, AE Train loss: 161.6709, Train Acc: 0.8039\n",
            "Epoch 11/26\n",
            " Classifier Train loss: 0.4830, AE Train loss: 145.7711, Train Acc: 0.8114\n",
            "Epoch 12/26\n",
            " Classifier Train loss: 0.4725, AE Train loss: 131.9386, Train Acc: 0.8168\n",
            "Epoch 13/26\n",
            " Classifier Train loss: 0.4634, AE Train loss: 119.7509, Train Acc: 0.8308\n",
            "Epoch 14/26\n",
            " Classifier Train loss: 0.4536, AE Train loss: 109.0812, Train Acc: 0.8373\n",
            "Epoch 15/26\n",
            " Classifier Train loss: 0.4442, AE Train loss: 99.7588, Train Acc: 0.8448\n",
            "Epoch 16/26\n",
            " Classifier Train loss: 0.4364, AE Train loss: 91.4918, Train Acc: 0.8513\n",
            "Epoch 17/26\n",
            " Classifier Train loss: 0.4267, AE Train loss: 83.8706, Train Acc: 0.8556\n",
            "Epoch 18/26\n",
            " Classifier Train loss: 0.4185, AE Train loss: 77.0984, Train Acc: 0.8588\n",
            "Epoch 19/26\n",
            " Classifier Train loss: 0.4116, AE Train loss: 71.1037, Train Acc: 0.8631\n",
            "Epoch 20/26\n",
            " Classifier Train loss: 0.4044, AE Train loss: 65.6133, Train Acc: 0.8675\n",
            "Epoch 21/26\n",
            " Classifier Train loss: 0.3963, AE Train loss: 0.0000, Train Acc: 0.8707\n",
            "Epoch 22/26\n",
            " Classifier Train loss: 0.3869, AE Train loss: 0.0000, Train Acc: 0.8761\n",
            "Epoch 23/26\n",
            " Classifier Train loss: 0.3762, AE Train loss: 0.0000, Train Acc: 0.8815\n",
            "Epoch 24/26\n",
            " Classifier Train loss: 0.3673, AE Train loss: 0.0000, Train Acc: 0.8879\n",
            "Epoch 25/26\n",
            " Classifier Train loss: 0.3580, AE Train loss: 0.0000, Train Acc: 0.8955\n",
            "-----------------------------\n",
            "Fold 9/10\n",
            "{'accuracy': 0.6505, 'senstivity': 0.58, 'specificity': 0.717, 'loss': 0.6265}\n",
            "-----------------------------\n"
          ],
          "name": "stdout"
        },
        {
          "output_type": "stream",
          "text": [
            "\u001b[34m\u001b[1mwandb\u001b[0m: \u001b[33mWARNING\u001b[0m Calling wandb.login() after wandb.init() has no effect.\n"
          ],
          "name": "stderr"
        },
        {
          "output_type": "display_data",
          "data": {
            "text/html": [
              "<br/>Waiting for W&B process to finish, PID 3351<br/>Program ended successfully."
            ],
            "text/plain": [
              "<IPython.core.display.HTML object>"
            ]
          },
          "metadata": {
            "tags": []
          }
        },
        {
          "output_type": "display_data",
          "data": {
            "application/vnd.jupyter.widget-view+json": {
              "model_id": "07383cc8584e4a4999232303b936014f",
              "version_minor": 0,
              "version_major": 2
            },
            "text/plain": [
              "VBox(children=(Label(value=' 0.00MB of 0.00MB uploaded (0.00MB deduped)\\r'), FloatProgress(value=1.0, max=1.0)…"
            ]
          },
          "metadata": {
            "tags": []
          }
        },
        {
          "output_type": "display_data",
          "data": {
            "text/html": [
              "Find user logs for this run at: <code>wandb/run-20201016_054108-sep-pca1024-cc200ho-fold-9-rp-2/logs/debug.log</code>"
            ],
            "text/plain": [
              "<IPython.core.display.HTML object>"
            ]
          },
          "metadata": {
            "tags": []
          }
        },
        {
          "output_type": "display_data",
          "data": {
            "text/html": [
              "Find internal logs for this run at: <code>wandb/run-20201016_054108-sep-pca1024-cc200ho-fold-9-rp-2/logs/debug-internal.log</code>"
            ],
            "text/plain": [
              "<IPython.core.display.HTML object>"
            ]
          },
          "metadata": {
            "tags": []
          }
        },
        {
          "output_type": "display_data",
          "data": {
            "text/html": [
              "<h3>Run summary:</h3><br/><style>\n",
              "    table.wandb td:nth-child(1) { padding: 0 10px; text-align: right }\n",
              "    </style><table class=\"wandb\">\n",
              "<tr><td>Classifier Train loss</td><td>0.35803</td></tr><tr><td>Train accuracy</td><td>0.89547</td></tr><tr><td>AE Train loss</td><td>0.0</td></tr><tr><td>_step</td><td>24</td></tr><tr><td>_runtime</td><td>17</td></tr><tr><td>_timestamp</td><td>1602826889</td></tr></table>"
            ],
            "text/plain": [
              "<IPython.core.display.HTML object>"
            ]
          },
          "metadata": {
            "tags": []
          }
        },
        {
          "output_type": "display_data",
          "data": {
            "text/html": [
              "<h3>Run history:</h3><br/><style>\n",
              "    table.wandb td:nth-child(1) { padding: 0 10px; text-align: right }\n",
              "    </style><table class=\"wandb\">\n",
              "<tr><td>Classifier Train loss</td><td>█▇▇▆▆▅▅▅▄▄▄▄▃▃▃▃▃▂▂▂▂▂▁▁▁</td></tr><tr><td>Train accuracy</td><td>▁▂▃▄▄▄▅▅▅▆▆▆▆▆▇▇▇▇▇▇▇▇███</td></tr><tr><td>AE Train loss</td><td>█▆▅▅▄▄▃▃▃▃▃▂▂▂▂▂▂▂▂▂▁▁▁▁▁</td></tr><tr><td>_step</td><td>▁▁▂▂▂▂▃▃▃▄▄▄▅▅▅▅▆▆▆▇▇▇▇██</td></tr><tr><td>_runtime</td><td>▁▁▁▂▂▂▃▃▃▄▄▄▅▅▅▆▆▆▇▇▇████</td></tr><tr><td>_timestamp</td><td>▁▁▁▂▂▂▃▃▃▄▄▄▅▅▅▆▆▆▇▇▇████</td></tr></table><br/>"
            ],
            "text/plain": [
              "<IPython.core.display.HTML object>"
            ]
          },
          "metadata": {
            "tags": []
          }
        },
        {
          "output_type": "display_data",
          "data": {
            "text/html": [
              "Synced 5 W&B file(s), 0 media file(s), 0 artifact file(s) and 0 other file(s)"
            ],
            "text/plain": [
              "<IPython.core.display.HTML object>"
            ]
          },
          "metadata": {
            "tags": []
          }
        },
        {
          "output_type": "display_data",
          "data": {
            "text/html": [
              "\n",
              "                    <br/>Synced <strong style=\"color:#cdcd00\">asd-diagnet-sep-pca1024-cc200ho-fold-9-rp-2</strong>: <a href=\"https://wandb.ai/pindi-krishna/asd2/runs/sep-pca1024-cc200ho-fold-9-rp-2\" target=\"_blank\">https://wandb.ai/pindi-krishna/asd2/runs/sep-pca1024-cc200ho-fold-9-rp-2</a><br/>\n",
              "                "
            ],
            "text/plain": [
              "<IPython.core.display.HTML object>"
            ]
          },
          "metadata": {
            "tags": []
          }
        },
        {
          "output_type": "display_data",
          "data": {
            "text/html": [
              "\n",
              "                Tracking run with wandb version 0.10.7<br/>\n",
              "                Syncing run <strong style=\"color:#cdcd00\">asd-diagnet-sep-pca1024-cc200ho-fold-10-rp-2</strong> to <a href=\"https://wandb.ai\" target=\"_blank\">Weights & Biases</a> <a href=\"https://docs.wandb.com/integrations/jupyter.html\" target=\"_blank\">(Documentation)</a>.<br/>\n",
              "                Project page: <a href=\"https://wandb.ai/pindi-krishna/asd2\" target=\"_blank\">https://wandb.ai/pindi-krishna/asd2</a><br/>\n",
              "                Run page: <a href=\"https://wandb.ai/pindi-krishna/asd2/runs/sep-pca1024-cc200ho-fold-10-rp-2\" target=\"_blank\">https://wandb.ai/pindi-krishna/asd2/runs/sep-pca1024-cc200ho-fold-10-rp-2</a><br/>\n",
              "                Run data is saved locally in <code>wandb/run-20201016_054130-sep-pca1024-cc200ho-fold-10-rp-2</code><br/><br/>\n",
              "            "
            ],
            "text/plain": [
              "<IPython.core.display.HTML object>"
            ]
          },
          "metadata": {
            "tags": []
          }
        },
        {
          "output_type": "stream",
          "text": [
            "Epoch 1/26\n",
            " Classifier Train loss: 0.6913, AE Train loss: 652.3918, Train Acc: 0.5334\n",
            "Epoch 2/26\n",
            " Classifier Train loss: 0.6568, AE Train loss: 495.6820, Train Acc: 0.6153\n",
            "Epoch 3/26\n",
            " Classifier Train loss: 0.6295, AE Train loss: 409.1625, Train Acc: 0.6584\n",
            "Epoch 4/26\n",
            " Classifier Train loss: 0.6061, AE Train loss: 345.9185, Train Acc: 0.6789\n",
            "Epoch 5/26\n",
            " Classifier Train loss: 0.5888, AE Train loss: 298.0740, Train Acc: 0.6972\n",
            "Epoch 6/26\n",
            " Classifier Train loss: 0.5713, AE Train loss: 259.5986, Train Acc: 0.7134\n",
            "Epoch 7/26\n",
            " Classifier Train loss: 0.5551, AE Train loss: 228.3430, Train Acc: 0.7328\n",
            "Epoch 8/26\n",
            " Classifier Train loss: 0.5392, AE Train loss: 202.3212, Train Acc: 0.7489\n",
            "Epoch 9/26\n",
            " Classifier Train loss: 0.5274, AE Train loss: 180.4370, Train Acc: 0.7737\n",
            "Epoch 10/26\n",
            " Classifier Train loss: 0.5135, AE Train loss: 161.8949, Train Acc: 0.7823\n",
            "Epoch 11/26\n",
            " Classifier Train loss: 0.5006, AE Train loss: 145.8766, Train Acc: 0.7985\n",
            "Epoch 12/26\n",
            " Classifier Train loss: 0.4896, AE Train loss: 132.1627, Train Acc: 0.7996\n",
            "Epoch 13/26\n",
            " Classifier Train loss: 0.4798, AE Train loss: 119.7877, Train Acc: 0.8082\n",
            "Epoch 14/26\n",
            " Classifier Train loss: 0.4700, AE Train loss: 109.2367, Train Acc: 0.8222\n",
            "Epoch 15/26\n",
            " Classifier Train loss: 0.4608, AE Train loss: 99.8186, Train Acc: 0.8308\n",
            "Epoch 16/26\n",
            " Classifier Train loss: 0.4509, AE Train loss: 91.3851, Train Acc: 0.8373\n",
            "Epoch 17/26\n",
            " Classifier Train loss: 0.4415, AE Train loss: 83.9144, Train Acc: 0.8405\n",
            "Epoch 18/26\n",
            " Classifier Train loss: 0.4327, AE Train loss: 77.0938, Train Acc: 0.8524\n",
            "Epoch 19/26\n",
            " Classifier Train loss: 0.4243, AE Train loss: 71.0797, Train Acc: 0.8588\n",
            "Epoch 20/26\n",
            " Classifier Train loss: 0.4167, AE Train loss: 65.5763, Train Acc: 0.8642\n",
            "Epoch 21/26\n",
            " Classifier Train loss: 0.4078, AE Train loss: 0.0000, Train Acc: 0.8772\n",
            "Epoch 22/26\n",
            " Classifier Train loss: 0.3966, AE Train loss: 0.0000, Train Acc: 0.8922\n",
            "Epoch 23/26\n",
            " Classifier Train loss: 0.3886, AE Train loss: 0.0000, Train Acc: 0.8944\n",
            "Epoch 24/26\n",
            " Classifier Train loss: 0.3793, AE Train loss: 0.0000, Train Acc: 0.8944\n",
            "Epoch 25/26\n",
            " Classifier Train loss: 0.3698, AE Train loss: 0.0000, Train Acc: 0.9073\n",
            "-----------------------------\n",
            "Fold 10/10\n",
            "{'accuracy': 0.699, 'senstivity': 0.7, 'specificity': 0.6981, 'loss': 0.5455}\n",
            "-----------------------------\n",
            "*********************************\n",
            "Average Value after 10 Folds and repeats one 2------->\n",
            "Accuracy: 0.6975, Senstivity: 0.6927, Specificity: 0.7019, Loss: 0.5741999745368958\n",
            "*********************************\n",
            "Average Value after : 2  Repeat:\n",
            "Accuracy: 0.7024, Senstivity: 0.6969, Specificity: 0.7075, Loss: 0.5746999979019165\n",
            "429.96300411224365\n"
          ],
          "name": "stdout"
        }
      ]
    },
    {
      "cell_type": "code",
      "metadata": {
        "id": "hjK5a823btbg",
        "outputId": "f49caa5c-eaf6-4363-a184-ca422922dc7d",
        "colab": {
          "base_uri": "https://localhost:8080/",
          "height": 122
        }
      },
      "source": [
        "model"
      ],
      "execution_count": null,
      "outputs": [
        {
          "output_type": "execute_result",
          "data": {
            "text/plain": [
              "MTAutoEncoder(\n",
              "  (fc_encoder): Linear(in_features=76636, out_features=4975, bias=True)\n",
              "  (classifier): Sequential(\n",
              "    (0): Linear(in_features=4975, out_features=1, bias=True)\n",
              "  )\n",
              ")"
            ]
          },
          "metadata": {
            "tags": []
          },
          "execution_count": 28
        }
      ]
    },
    {
      "cell_type": "markdown",
      "metadata": {
        "id": "c7t9pUGg5BsV"
      },
      "source": [
        "### Temporary"
      ]
    },
    {
      "cell_type": "code",
      "metadata": {
        "id": "CFh5FtoM42eu",
        "outputId": "63483c72-f547-485a-9ac1-98c81174006b",
        "colab": {
          "base_uri": "https://localhost:8080/",
          "height": 942
        }
      },
      "source": [
        "model = torch.load('./asd-diagnet-dim-cc200400-fold-7-rp-1.pt')\n",
        "model"
      ],
      "execution_count": null,
      "outputs": [
        {
          "output_type": "execute_result",
          "data": {
            "text/plain": [
              "{'fold': 7,\n",
              " 'model': OrderedDict([('fc_encoder.weight',\n",
              "               tensor([[ 9.8775e-04,  3.5840e-03, -5.0433e-03,  ...,  2.2692e-03,\n",
              "                         3.6612e-03, -2.2935e-03],\n",
              "                       [ 1.7976e-03, -2.2401e-03,  2.3233e-03,  ..., -1.7451e-03,\n",
              "                        -9.7384e-05,  1.1912e-03],\n",
              "                       [ 1.0317e-03, -2.4080e-03, -3.8270e-03,  ...,  3.6958e-04,\n",
              "                        -4.1012e-04,  7.2200e-04],\n",
              "                       ...,\n",
              "                       [-1.0043e-03, -1.5602e-03,  1.0857e-03,  ...,  6.5338e-04,\n",
              "                        -5.5023e-03, -2.0529e-03],\n",
              "                       [ 3.2595e-03, -3.7526e-04,  3.7544e-03,  ..., -1.8052e-03,\n",
              "                        -1.0236e-03,  3.9574e-03],\n",
              "                       [-4.2296e-03,  4.1404e-03,  2.6438e-03,  ..., -3.1233e-04,\n",
              "                         4.6448e-03,  2.1198e-04]], device='cuda:0')),\n",
              "              ('fc_encoder.bias',\n",
              "               tensor([-0.0256,  0.0169, -0.0308,  ...,  0.0162,  0.0194,  0.0854],\n",
              "                      device='cuda:0')),\n",
              "              ('classifier.0.weight',\n",
              "               tensor([[ 0.0047, -0.0155, -0.0056,  ...,  0.0095, -0.0031, -0.0135]],\n",
              "                      device='cuda:0')),\n",
              "              ('classifier.0.bias', tensor([0.0038], device='cuda:0'))]),\n",
              " 'optimizer': {'param_groups': [{'dampening': 0,\n",
              "    'lr': 0.0001,\n",
              "    'momentum': 0.9,\n",
              "    'nesterov': False,\n",
              "    'params': [0, 1],\n",
              "    'weight_decay': 0},\n",
              "   {'dampening': 0,\n",
              "    'lr': 1e-05,\n",
              "    'momentum': 0.9,\n",
              "    'nesterov': False,\n",
              "    'params': [2, 3],\n",
              "    'weight_decay': 0}],\n",
              "  'state': {0: {'momentum_buffer': tensor([[ 1.7320e-04,  3.2992e-04,  2.4402e-04,  ..., -2.3417e-04,\n",
              "             -1.4215e-04, -3.6382e-04],\n",
              "            [ 5.1294e-04,  1.4206e-04,  5.0165e-04,  ...,  9.9974e-05,\n",
              "             -6.2431e-04,  2.4293e-04],\n",
              "            [ 4.4245e-04,  2.9517e-04,  2.6865e-04,  ..., -5.4929e-07,\n",
              "              7.5465e-06,  1.7237e-04],\n",
              "            ...,\n",
              "            [ 4.9315e-04,  6.6415e-04,  6.8293e-04,  ..., -5.1228e-04,\n",
              "             -1.7806e-04, -5.7384e-04],\n",
              "            [ 2.5942e-04,  1.9223e-04,  2.7445e-04,  ..., -1.0472e-04,\n",
              "             -1.1323e-04,  3.2372e-06],\n",
              "            [-1.2560e-03, -1.4468e-03, -1.6053e-03,  ...,  6.6463e-04,\n",
              "              5.3501e-04,  8.7575e-04]], device='cuda:0')},\n",
              "   1: {'momentum_buffer': tensor([ 0.0002,  0.0011,  0.0006,  ...,  0.0004,  0.0003, -0.0012],\n",
              "           device='cuda:0')},\n",
              "   2: {'momentum_buffer': tensor([[ 0.0696, -0.1662,  0.2114,  ..., -0.1395, -0.2935,  0.1410]],\n",
              "           device='cuda:0')},\n",
              "   3: {'momentum_buffer': tensor([-0.0739], device='cuda:0')}}},\n",
              " 'repitition': 1}"
            ]
          },
          "metadata": {
            "tags": []
          },
          "execution_count": 24
        }
      ]
    },
    {
      "cell_type": "code",
      "metadata": {
        "id": "d4za9s1H45Xm"
      },
      "source": [
        "del model"
      ],
      "execution_count": null,
      "outputs": []
    },
    {
      "cell_type": "markdown",
      "metadata": {
        "id": "YPBVW9Oh48hr"
      },
      "source": [
        "### Not required now "
      ]
    },
    {
      "cell_type": "code",
      "metadata": {
        "id": "D2MIPZpPC5gr",
        "outputId": "ea38dc9c-307d-432f-bc10-12cd123941d1",
        "colab": {
          "base_uri": "https://localhost:8080/",
          "height": 1000,
          "referenced_widgets": [
            "c918e3dd96e341dd851ea814a63c28ac",
            "3b976295b8d64d0da24f77c135b326b1",
            "9f98ef94862a49b0b66b033bf0829b4b",
            "7adf442ce0f44217ac941cbe3e743ec7",
            "a406b95d07b548b2a2c0f993a24c7de9",
            "fca1fdfe827b4532a52724012c4d1dd1",
            "4d2d2020c86e4a9696cc3af2a1548e20",
            "1928e4bfece74be4acd907bda9a1066e"
          ]
        }
      },
      "source": [
        "\n",
        "if p_Method == \"ASD-DiagNet\" and p_mode == \"whole\":\n",
        "    \n",
        "    num_corr = len(all_corr[flist[0]][0])\n",
        "    print(\"num_corr:  \",num_corr)\n",
        "    \n",
        "    start =time.time()\n",
        "    batch_size = 8\n",
        "    learning_rate_ae, learning_rate_clf = 0.0001, 0.0001\n",
        "    num_epochs = 25\n",
        "\n",
        "    p_bernoulli = None\n",
        "    augmentation = p_augmentation\n",
        "    use_dropout = False\n",
        "\n",
        "    aug_factor = 2\n",
        "    num_neighbs = 5\n",
        "    lim4sim = 2\n",
        "    n_lat = int(num_corr/4)\n",
        "    print(n_lat)\n",
        "    start= time.time()\n",
        "\n",
        "    print('p_bernoulli: ', p_bernoulli)\n",
        "    print('augmentaiton: ', augmentation, 'aug_factor: ', aug_factor, \n",
        "          'num_neighbs: ', num_neighbs, 'lim4sim: ', lim4sim)\n",
        "    print('use_dropout: ', use_dropout, '\\n')\n",
        "\n",
        "\n",
        "#     sim_function = functools.partial(cal_similarity, lim=lim4sim)\n",
        "    \n",
        "    \n",
        "    y_arr = np.array([get_label(f) for f in flist])\n",
        "    flist = np.array(flist)\n",
        "    kk=0 \n",
        "    \n",
        "    # list to store metrics after each fold\n",
        "    repeat_acc=[]\n",
        "    repeat_sen=[]\n",
        "    repeat_spec=[]\n",
        "    repeat_loss=[]\n",
        "    \n",
        "    \n",
        "    for rp in range(2):\n",
        "        kf = StratifiedKFold(n_splits=p_fold, random_state=1, shuffle=True)\n",
        "        np.random.shuffle(flist)\n",
        "        y_arr = np.array([get_label(f) for f in flist])\n",
        "    # list to store metrics after each fold\n",
        "        crossval_acc=[]\n",
        "        crossval_sen=[]\n",
        "        crossval_spec=[]\n",
        "        crossval_loss=[]\n",
        "        \n",
        "        for kk,(train_index, test_index) in enumerate(kf.split(flist, y_arr)):\n",
        "            \n",
        "            #init wandb \n",
        "            NAME = f'asd-diagnet-noaug-fold-{kk+1}-rp-{rp+1}'\n",
        "            ID = f'noaug-fold-{kk+1}-rp-{rp+1}'\n",
        "            wandb.init(project = 'asd2', name=NAME, id=ID)\n",
        "            \n",
        "            train_samples, test_samples = flist[train_index], flist[test_index]\n",
        "\n",
        "\n",
        "            verbose = (True if (kk == 0) else False)\n",
        "\n",
        "            regions_inds = get_regs(train_samples,int(num_corr/4))\n",
        "\n",
        "            num_inpp = len(regions_inds)\n",
        "            n_lat = int(num_inpp/2)\n",
        "            \n",
        "            # train_loader=get_loader(data=all_corr, samples_list=train_samples, \n",
        "            #                         batch_size=batch_size, mode='train',verbose=verbose,regions=regions_inds)\n",
        "\n",
        "            # test_loader=get_loader(data=all_corr, samples_list=test_samples, \n",
        "            #                        batch_size = batch_size, mode='test', augmentation=False, \n",
        "            #                        verbose=verbose,regions=regions_inds)\n",
        "            \n",
        "            train_loader=get_loader(data=all_corr, samples_list=train_samples, \n",
        "                                    batch_size=batch_size, mode='train',\n",
        "                                    augmentation=augmentation, aug_factor=aug_factor, \n",
        "                                    num_neighbs=num_neighbs, eig_data=None, similarity_fn=None, \n",
        "                                    verbose=verbose,regions=regions_inds)\n",
        "\n",
        "            test_loader=get_loader(data=all_corr, samples_list=test_samples, \n",
        "                                   batch_size = batch_size, mode='test', augmentation=False, \n",
        "                                   verbose=verbose,regions=regions_inds)\n",
        "\n",
        "            model = MTAutoEncoder(tied=True, num_inputs=num_inpp, num_latent=n_lat, use_dropout=use_dropout)\n",
        "            model.to(device)\n",
        "            wandb.watch(model, log='all')\n",
        "            criterion_ae = nn.MSELoss(reduction='sum')\n",
        "            criterion_clf = nn.CrossEntropyLoss()\n",
        "            optimizer = optim.SGD([{'params': model.fc_encoder.parameters(), 'lr': learning_rate_ae},\n",
        "                                   {'params': model.classifier.parameters(), 'lr': learning_rate_clf}],\n",
        "                                  momentum=0.9)\n",
        "            # optimizer = optim.Adam(model.parameters(),lr=learning_rate_clf)\n",
        "\n",
        "            for epoch in range(1, num_epochs+1):\n",
        "                if epoch <= 20:\n",
        "                    train_losses, clf_train_loss, ae_train_loss, train_acc = train(model, epoch, train_loader, p_bernoulli, mode='both')\n",
        "                else:\n",
        "                    train_losses, clf_train_loss, ae_train_loss, train_acc = train(model, epoch, train_loader, p_bernoulli, mode='clf')\n",
        "                print(f'Epoch {epoch}/{num_epochs+1}')\n",
        "\n",
        "                wandb.log({'Classifier Train loss': clf_train_loss,\n",
        "                            'Train accuracy': train_acc})\n",
        "\n",
        "                content = f'Classifier Train loss: {(clf_train_loss):.4f}, Train Acc: {(train_acc):.4f}'\n",
        "                print(content)\n",
        "\n",
        "            metrics_dict = test(model, criterion_clf, test_loader, eval_classifier=True)\n",
        "            print(\"-----------------------------\")\n",
        "            print(f'Fold {kk+1}/{p_fold}')\n",
        "            content = f'{metrics_dict}'\n",
        "            print(content)\n",
        "            print(\"-----------------------------\")\n",
        "            \n",
        "            crossval_acc.append(metrics_dict['accuracy'])\n",
        "            crossval_sen.append(metrics_dict['senstivity'])\n",
        "            crossval_spec.append(metrics_dict['specificity'])\n",
        "            crossval_loss.append(metrics_dict['loss'])\n",
        "            \n",
        "            #save the model after each fold\n",
        "            \n",
        "            recorder = {'optimizer': optimizer.state_dict(),\n",
        "            'model': model.state_dict(),\n",
        "            'fold' : kk+1,\n",
        "            'repitition' : rp+1}\n",
        "\n",
        "            torch.save(recorder, f'{NAME}.pt')\n",
        "            \n",
        "        print(\"*********************************\")    \n",
        "        print(f'Average Value after 10 Folds and repeats one {rp+1}------->')\n",
        "        content = f'Accuracy: {np.round(np.mean(crossval_acc),4)}, Senstivity: {np.round(np.mean(crossval_sen),4)}, Specificity: {np.round(np.mean(crossval_spec),4)}, Loss: {np.round(np.mean(crossval_loss),4)}'\n",
        "        print(content)\n",
        "        print(\"*********************************\") \n",
        "        \n",
        "        repeat_acc.append(np.mean(crossval_acc))\n",
        "        repeat_sen.append(np.mean(crossval_sen))\n",
        "        repeat_spec.append(np.mean(crossval_spec))\n",
        "        repeat_loss.append(np.mean(crossval_loss))\n",
        "    \n",
        "    print(f\"Average Value after :\",rp+1,\" Repeat:\")\n",
        "    content = f'Accuracy: {np.round(np.mean(repeat_acc),4)}, Senstivity: {np.round(np.mean(repeat_sen),4)}, Specificity: {np.round(np.mean(repeat_spec),4)}, Loss: {np.round(np.mean(repeat_loss),4)}'\n",
        "    print(content)\n",
        "        \n",
        "    finish= time.time()\n",
        "    print(finish-start)\n",
        "\n",
        "\n"
      ],
      "execution_count": null,
      "outputs": [
        {
          "output_type": "stream",
          "text": [
            "\u001b[34m\u001b[1mwandb\u001b[0m: \u001b[33mWARNING\u001b[0m Calling wandb.login() after wandb.init() has no effect.\n"
          ],
          "name": "stderr"
        },
        {
          "output_type": "stream",
          "text": [
            "num_corr:   19900\n",
            "4975\n",
            "p_bernoulli:  None\n",
            "augmentaiton:  False aug_factor:  2 num_neighbs:  5 lim4sim:  2\n",
            "use_dropout:  False \n",
            "\n"
          ],
          "name": "stdout"
        },
        {
          "output_type": "display_data",
          "data": {
            "text/html": [
              "<br/>Waiting for W&B process to finish, PID 652<br/>Program ended successfully."
            ],
            "text/plain": [
              "<IPython.core.display.HTML object>"
            ]
          },
          "metadata": {
            "tags": []
          }
        },
        {
          "output_type": "display_data",
          "data": {
            "application/vnd.jupyter.widget-view+json": {
              "model_id": "c918e3dd96e341dd851ea814a63c28ac",
              "version_minor": 0,
              "version_major": 2
            },
            "text/plain": [
              "VBox(children=(Label(value=' 0.00MB of 0.00MB uploaded (0.00MB deduped)\\r'), FloatProgress(value=1.0, max=1.0)…"
            ]
          },
          "metadata": {
            "tags": []
          }
        },
        {
          "output_type": "display_data",
          "data": {
            "text/html": [
              "Find user logs for this run at: <code>wandb/run-20201003_123821-noaug-fold-1-rp-1/logs/debug.log</code>"
            ],
            "text/plain": [
              "<IPython.core.display.HTML object>"
            ]
          },
          "metadata": {
            "tags": []
          }
        },
        {
          "output_type": "display_data",
          "data": {
            "text/html": [
              "Find internal logs for this run at: <code>wandb/run-20201003_123821-noaug-fold-1-rp-1/logs/debug-internal.log</code>"
            ],
            "text/plain": [
              "<IPython.core.display.HTML object>"
            ]
          },
          "metadata": {
            "tags": []
          }
        },
        {
          "output_type": "display_data",
          "data": {
            "text/html": [
              "Synced 5 W&B file(s), 0 media file(s), 0 artifact file(s) and 0 other file(s)"
            ],
            "text/plain": [
              "<IPython.core.display.HTML object>"
            ]
          },
          "metadata": {
            "tags": []
          }
        },
        {
          "output_type": "display_data",
          "data": {
            "text/html": [
              "\n",
              "                    <br/>Synced <strong style=\"color:#cdcd00\">asd-diagnet-noaug-fold-1-rp-1</strong>: <a href=\"https://wandb.ai/pindi-krishna/asd2/runs/noaug-fold-1-rp-1\" target=\"_blank\">https://wandb.ai/pindi-krishna/asd2/runs/noaug-fold-1-rp-1</a><br/>\n",
              "                "
            ],
            "text/plain": [
              "<IPython.core.display.HTML object>"
            ]
          },
          "metadata": {
            "tags": []
          }
        },
        {
          "output_type": "display_data",
          "data": {
            "text/html": [
              "\n",
              "                Tracking run with wandb version 0.10.4<br/>\n",
              "                Syncing run <strong style=\"color:#cdcd00\">asd-diagnet-noaug-fold-1-rp-1</strong> to <a href=\"https://wandb.ai\" target=\"_blank\">Weights & Biases</a> <a href=\"https://docs.wandb.com/integrations/jupyter.html\" target=\"_blank\">(Documentation)</a>.<br/>\n",
              "                Project page: <a href=\"https://wandb.ai/pindi-krishna/asd2\" target=\"_blank\">https://wandb.ai/pindi-krishna/asd2</a><br/>\n",
              "                Run page: <a href=\"https://wandb.ai/pindi-krishna/asd2/runs/noaug-fold-1-rp-1\" target=\"_blank\">https://wandb.ai/pindi-krishna/asd2/runs/noaug-fold-1-rp-1</a><br/>\n",
              "                Run data is saved locally in <code>wandb/run-20201003_124350-noaug-fold-1-rp-1</code><br/><br/>\n",
              "            "
            ],
            "text/plain": [
              "<IPython.core.display.HTML object>"
            ]
          },
          "metadata": {
            "tags": []
          }
        },
        {
          "output_type": "error",
          "ename": "RuntimeError",
          "evalue": "ignored",
          "traceback": [
            "\u001b[0;31m---------------------------------------------------------------------------\u001b[0m",
            "\u001b[0;31mRuntimeError\u001b[0m                              Traceback (most recent call last)",
            "\u001b[0;32m<ipython-input-35-cc66124de9d0>\u001b[0m in \u001b[0;36m<module>\u001b[0;34m()\u001b[0m\n\u001b[1;32m     97\u001b[0m             \u001b[0;32mfor\u001b[0m \u001b[0mepoch\u001b[0m \u001b[0;32min\u001b[0m \u001b[0mrange\u001b[0m\u001b[0;34m(\u001b[0m\u001b[0;36m1\u001b[0m\u001b[0;34m,\u001b[0m \u001b[0mnum_epochs\u001b[0m\u001b[0;34m+\u001b[0m\u001b[0;36m1\u001b[0m\u001b[0;34m)\u001b[0m\u001b[0;34m:\u001b[0m\u001b[0;34m\u001b[0m\u001b[0;34m\u001b[0m\u001b[0m\n\u001b[1;32m     98\u001b[0m                 \u001b[0;32mif\u001b[0m \u001b[0mepoch\u001b[0m \u001b[0;34m<=\u001b[0m \u001b[0;36m20\u001b[0m\u001b[0;34m:\u001b[0m\u001b[0;34m\u001b[0m\u001b[0;34m\u001b[0m\u001b[0m\n\u001b[0;32m---> 99\u001b[0;31m                     \u001b[0mtrain_losses\u001b[0m\u001b[0;34m,\u001b[0m \u001b[0mclf_train_loss\u001b[0m\u001b[0;34m,\u001b[0m \u001b[0mae_train_loss\u001b[0m\u001b[0;34m,\u001b[0m \u001b[0mtrain_acc\u001b[0m \u001b[0;34m=\u001b[0m \u001b[0mtrain\u001b[0m\u001b[0;34m(\u001b[0m\u001b[0mmodel\u001b[0m\u001b[0;34m,\u001b[0m \u001b[0mepoch\u001b[0m\u001b[0;34m,\u001b[0m \u001b[0mtrain_loader\u001b[0m\u001b[0;34m,\u001b[0m \u001b[0mp_bernoulli\u001b[0m\u001b[0;34m,\u001b[0m \u001b[0mmode\u001b[0m\u001b[0;34m=\u001b[0m\u001b[0;34m'both'\u001b[0m\u001b[0;34m)\u001b[0m\u001b[0;34m\u001b[0m\u001b[0;34m\u001b[0m\u001b[0m\n\u001b[0m\u001b[1;32m    100\u001b[0m                 \u001b[0;32melse\u001b[0m\u001b[0;34m:\u001b[0m\u001b[0;34m\u001b[0m\u001b[0;34m\u001b[0m\u001b[0m\n\u001b[1;32m    101\u001b[0m                     \u001b[0mtrain_losses\u001b[0m\u001b[0;34m,\u001b[0m \u001b[0mclf_train_loss\u001b[0m\u001b[0;34m,\u001b[0m \u001b[0mae_train_loss\u001b[0m\u001b[0;34m,\u001b[0m \u001b[0mtrain_acc\u001b[0m \u001b[0;34m=\u001b[0m \u001b[0mtrain\u001b[0m\u001b[0;34m(\u001b[0m\u001b[0mmodel\u001b[0m\u001b[0;34m,\u001b[0m \u001b[0mepoch\u001b[0m\u001b[0;34m,\u001b[0m \u001b[0mtrain_loader\u001b[0m\u001b[0;34m,\u001b[0m \u001b[0mp_bernoulli\u001b[0m\u001b[0;34m,\u001b[0m \u001b[0mmode\u001b[0m\u001b[0;34m=\u001b[0m\u001b[0;34m'clf'\u001b[0m\u001b[0;34m)\u001b[0m\u001b[0;34m\u001b[0m\u001b[0;34m\u001b[0m\u001b[0m\n",
            "\u001b[0;32m<ipython-input-34-936780f6fecd>\u001b[0m in \u001b[0;36mtrain\u001b[0;34m(model, epoch, train_loader, p_bernoulli, mode, lam_factor)\u001b[0m\n\u001b[1;32m     23\u001b[0m         \u001b[0;32mif\u001b[0m \u001b[0mmode\u001b[0m \u001b[0;32min\u001b[0m \u001b[0;34m[\u001b[0m\u001b[0;34m'both'\u001b[0m\u001b[0;34m,\u001b[0m \u001b[0;34m'clf'\u001b[0m\u001b[0;34m]\u001b[0m\u001b[0;34m:\u001b[0m\u001b[0;34m\u001b[0m\u001b[0;34m\u001b[0m\u001b[0m\n\u001b[1;32m     24\u001b[0m             \u001b[0mrec_clean\u001b[0m\u001b[0;34m,\u001b[0m \u001b[0mlogits\u001b[0m \u001b[0;34m=\u001b[0m \u001b[0mmodel\u001b[0m\u001b[0;34m(\u001b[0m\u001b[0mdata\u001b[0m\u001b[0;34m,\u001b[0m \u001b[0;32mTrue\u001b[0m\u001b[0;34m)\u001b[0m\u001b[0;34m\u001b[0m\u001b[0;34m\u001b[0m\u001b[0m\n\u001b[0;32m---> 25\u001b[0;31m             \u001b[0mloss_clf\u001b[0m \u001b[0;34m=\u001b[0m \u001b[0mcriterion_clf\u001b[0m\u001b[0;34m(\u001b[0m\u001b[0mlogits\u001b[0m\u001b[0;34m,\u001b[0m \u001b[0mtarget\u001b[0m\u001b[0;34m)\u001b[0m\u001b[0;34m\u001b[0m\u001b[0;34m\u001b[0m\u001b[0m\n\u001b[0m\u001b[1;32m     26\u001b[0m \u001b[0;34m\u001b[0m\u001b[0m\n\u001b[1;32m     27\u001b[0m         \u001b[0;32mif\u001b[0m \u001b[0mmode\u001b[0m \u001b[0;34m==\u001b[0m \u001b[0;34m'both'\u001b[0m\u001b[0;34m:\u001b[0m\u001b[0;34m\u001b[0m\u001b[0;34m\u001b[0m\u001b[0m\n",
            "\u001b[0;32m/usr/local/lib/python3.6/dist-packages/torch/nn/modules/module.py\u001b[0m in \u001b[0;36m_call_impl\u001b[0;34m(self, *input, **kwargs)\u001b[0m\n\u001b[1;32m    720\u001b[0m             \u001b[0mresult\u001b[0m \u001b[0;34m=\u001b[0m \u001b[0mself\u001b[0m\u001b[0;34m.\u001b[0m\u001b[0m_slow_forward\u001b[0m\u001b[0;34m(\u001b[0m\u001b[0;34m*\u001b[0m\u001b[0minput\u001b[0m\u001b[0;34m,\u001b[0m \u001b[0;34m**\u001b[0m\u001b[0mkwargs\u001b[0m\u001b[0;34m)\u001b[0m\u001b[0;34m\u001b[0m\u001b[0;34m\u001b[0m\u001b[0m\n\u001b[1;32m    721\u001b[0m         \u001b[0;32melse\u001b[0m\u001b[0;34m:\u001b[0m\u001b[0;34m\u001b[0m\u001b[0;34m\u001b[0m\u001b[0m\n\u001b[0;32m--> 722\u001b[0;31m             \u001b[0mresult\u001b[0m \u001b[0;34m=\u001b[0m \u001b[0mself\u001b[0m\u001b[0;34m.\u001b[0m\u001b[0mforward\u001b[0m\u001b[0;34m(\u001b[0m\u001b[0;34m*\u001b[0m\u001b[0minput\u001b[0m\u001b[0;34m,\u001b[0m \u001b[0;34m**\u001b[0m\u001b[0mkwargs\u001b[0m\u001b[0;34m)\u001b[0m\u001b[0;34m\u001b[0m\u001b[0;34m\u001b[0m\u001b[0m\n\u001b[0m\u001b[1;32m    723\u001b[0m         for hook in itertools.chain(\n\u001b[1;32m    724\u001b[0m                 \u001b[0m_global_forward_hooks\u001b[0m\u001b[0;34m.\u001b[0m\u001b[0mvalues\u001b[0m\u001b[0;34m(\u001b[0m\u001b[0;34m)\u001b[0m\u001b[0;34m,\u001b[0m\u001b[0;34m\u001b[0m\u001b[0;34m\u001b[0m\u001b[0m\n",
            "\u001b[0;32m/usr/local/lib/python3.6/dist-packages/torch/nn/modules/loss.py\u001b[0m in \u001b[0;36mforward\u001b[0;34m(self, input, target)\u001b[0m\n\u001b[1;32m    946\u001b[0m     \u001b[0;32mdef\u001b[0m \u001b[0mforward\u001b[0m\u001b[0;34m(\u001b[0m\u001b[0mself\u001b[0m\u001b[0;34m,\u001b[0m \u001b[0minput\u001b[0m\u001b[0;34m:\u001b[0m \u001b[0mTensor\u001b[0m\u001b[0;34m,\u001b[0m \u001b[0mtarget\u001b[0m\u001b[0;34m:\u001b[0m \u001b[0mTensor\u001b[0m\u001b[0;34m)\u001b[0m \u001b[0;34m->\u001b[0m \u001b[0mTensor\u001b[0m\u001b[0;34m:\u001b[0m\u001b[0;34m\u001b[0m\u001b[0;34m\u001b[0m\u001b[0m\n\u001b[1;32m    947\u001b[0m         return F.cross_entropy(input, target, weight=self.weight,\n\u001b[0;32m--> 948\u001b[0;31m                                ignore_index=self.ignore_index, reduction=self.reduction)\n\u001b[0m\u001b[1;32m    949\u001b[0m \u001b[0;34m\u001b[0m\u001b[0m\n\u001b[1;32m    950\u001b[0m \u001b[0;34m\u001b[0m\u001b[0m\n",
            "\u001b[0;32m/usr/local/lib/python3.6/dist-packages/torch/nn/functional.py\u001b[0m in \u001b[0;36mcross_entropy\u001b[0;34m(input, target, weight, size_average, ignore_index, reduce, reduction)\u001b[0m\n\u001b[1;32m   2420\u001b[0m     \u001b[0;32mif\u001b[0m \u001b[0msize_average\u001b[0m \u001b[0;32mis\u001b[0m \u001b[0;32mnot\u001b[0m \u001b[0;32mNone\u001b[0m \u001b[0;32mor\u001b[0m \u001b[0mreduce\u001b[0m \u001b[0;32mis\u001b[0m \u001b[0;32mnot\u001b[0m \u001b[0;32mNone\u001b[0m\u001b[0;34m:\u001b[0m\u001b[0;34m\u001b[0m\u001b[0;34m\u001b[0m\u001b[0m\n\u001b[1;32m   2421\u001b[0m         \u001b[0mreduction\u001b[0m \u001b[0;34m=\u001b[0m \u001b[0m_Reduction\u001b[0m\u001b[0;34m.\u001b[0m\u001b[0mlegacy_get_string\u001b[0m\u001b[0;34m(\u001b[0m\u001b[0msize_average\u001b[0m\u001b[0;34m,\u001b[0m \u001b[0mreduce\u001b[0m\u001b[0;34m)\u001b[0m\u001b[0;34m\u001b[0m\u001b[0;34m\u001b[0m\u001b[0m\n\u001b[0;32m-> 2422\u001b[0;31m     \u001b[0;32mreturn\u001b[0m \u001b[0mnll_loss\u001b[0m\u001b[0;34m(\u001b[0m\u001b[0mlog_softmax\u001b[0m\u001b[0;34m(\u001b[0m\u001b[0minput\u001b[0m\u001b[0;34m,\u001b[0m \u001b[0;36m1\u001b[0m\u001b[0;34m)\u001b[0m\u001b[0;34m,\u001b[0m \u001b[0mtarget\u001b[0m\u001b[0;34m,\u001b[0m \u001b[0mweight\u001b[0m\u001b[0;34m,\u001b[0m \u001b[0;32mNone\u001b[0m\u001b[0;34m,\u001b[0m \u001b[0mignore_index\u001b[0m\u001b[0;34m,\u001b[0m \u001b[0;32mNone\u001b[0m\u001b[0;34m,\u001b[0m \u001b[0mreduction\u001b[0m\u001b[0;34m)\u001b[0m\u001b[0;34m\u001b[0m\u001b[0;34m\u001b[0m\u001b[0m\n\u001b[0m\u001b[1;32m   2423\u001b[0m \u001b[0;34m\u001b[0m\u001b[0m\n\u001b[1;32m   2424\u001b[0m \u001b[0;34m\u001b[0m\u001b[0m\n",
            "\u001b[0;32m/usr/local/lib/python3.6/dist-packages/torch/nn/functional.py\u001b[0m in \u001b[0;36mnll_loss\u001b[0;34m(input, target, weight, size_average, ignore_index, reduce, reduction)\u001b[0m\n\u001b[1;32m   2216\u001b[0m                          .format(input.size(0), target.size(0)))\n\u001b[1;32m   2217\u001b[0m     \u001b[0;32mif\u001b[0m \u001b[0mdim\u001b[0m \u001b[0;34m==\u001b[0m \u001b[0;36m2\u001b[0m\u001b[0;34m:\u001b[0m\u001b[0;34m\u001b[0m\u001b[0;34m\u001b[0m\u001b[0m\n\u001b[0;32m-> 2218\u001b[0;31m         \u001b[0mret\u001b[0m \u001b[0;34m=\u001b[0m \u001b[0mtorch\u001b[0m\u001b[0;34m.\u001b[0m\u001b[0m_C\u001b[0m\u001b[0;34m.\u001b[0m\u001b[0m_nn\u001b[0m\u001b[0;34m.\u001b[0m\u001b[0mnll_loss\u001b[0m\u001b[0;34m(\u001b[0m\u001b[0minput\u001b[0m\u001b[0;34m,\u001b[0m \u001b[0mtarget\u001b[0m\u001b[0;34m,\u001b[0m \u001b[0mweight\u001b[0m\u001b[0;34m,\u001b[0m \u001b[0m_Reduction\u001b[0m\u001b[0;34m.\u001b[0m\u001b[0mget_enum\u001b[0m\u001b[0;34m(\u001b[0m\u001b[0mreduction\u001b[0m\u001b[0;34m)\u001b[0m\u001b[0;34m,\u001b[0m \u001b[0mignore_index\u001b[0m\u001b[0;34m)\u001b[0m\u001b[0;34m\u001b[0m\u001b[0;34m\u001b[0m\u001b[0m\n\u001b[0m\u001b[1;32m   2219\u001b[0m     \u001b[0;32melif\u001b[0m \u001b[0mdim\u001b[0m \u001b[0;34m==\u001b[0m \u001b[0;36m4\u001b[0m\u001b[0;34m:\u001b[0m\u001b[0;34m\u001b[0m\u001b[0;34m\u001b[0m\u001b[0m\n\u001b[1;32m   2220\u001b[0m         \u001b[0mret\u001b[0m \u001b[0;34m=\u001b[0m \u001b[0mtorch\u001b[0m\u001b[0;34m.\u001b[0m\u001b[0m_C\u001b[0m\u001b[0;34m.\u001b[0m\u001b[0m_nn\u001b[0m\u001b[0;34m.\u001b[0m\u001b[0mnll_loss2d\u001b[0m\u001b[0;34m(\u001b[0m\u001b[0minput\u001b[0m\u001b[0;34m,\u001b[0m \u001b[0mtarget\u001b[0m\u001b[0;34m,\u001b[0m \u001b[0mweight\u001b[0m\u001b[0;34m,\u001b[0m \u001b[0m_Reduction\u001b[0m\u001b[0;34m.\u001b[0m\u001b[0mget_enum\u001b[0m\u001b[0;34m(\u001b[0m\u001b[0mreduction\u001b[0m\u001b[0;34m)\u001b[0m\u001b[0;34m,\u001b[0m \u001b[0mignore_index\u001b[0m\u001b[0;34m)\u001b[0m\u001b[0;34m\u001b[0m\u001b[0;34m\u001b[0m\u001b[0m\n",
            "\u001b[0;31mRuntimeError\u001b[0m: Expected object of scalar type Long but got scalar type Float for argument #2 'target' in call to _thnn_nll_loss_forward"
          ]
        }
      ]
    },
    {
      "cell_type": "markdown",
      "metadata": {
        "id": "D2bHabzWC5gu"
      },
      "source": [
        "### OHSU results (2 repeats 5 fold) "
      ]
    },
    {
      "cell_type": "code",
      "metadata": {
        "scrolled": false,
        "id": "Q_VHF88mC5gu",
        "outputId": "bed5eaf7-b3be-4517-fdf5-46fc2160ad40"
      },
      "source": [
        "if p_Method == \"ASD-DiagNet\" and p_mode == \"percenter\":\n",
        "    \n",
        "    num_corr = len(all_corr[flist[0]][0])\n",
        "\n",
        "    flist = os.listdir(data_main_path)\n",
        "\n",
        "    for f in range(len(flist)):\n",
        "        flist[f] = get_key(flist[f])\n",
        "    \n",
        "    centers_dict = {}\n",
        "    for f in flist:\n",
        "        key = f.split('_')[0]\n",
        "\n",
        "        if key not in centers_dict:\n",
        "            centers_dict[key] = []\n",
        "        centers_dict[key].append(f)\n",
        "\n",
        "    \n",
        "\n",
        "    flist = np.array(centers_dict[p_center])\n",
        "    \n",
        "    start =time.time()\n",
        "    batch_size = 8\n",
        "    learning_rate_ae, learning_rate_clf = 0.0001, 0.0001\n",
        "    num_epochs = 25\n",
        "\n",
        "    p_bernoulli = None\n",
        "    augmentation = p_augmentation\n",
        "    use_dropout = False\n",
        "\n",
        "    aug_factor = 2\n",
        "    num_neighbs = 5\n",
        "    lim4sim = 2\n",
        "    n_lat = int(num_corr/4)\n",
        "    print(n_lat)\n",
        "    start= time.time()\n",
        "\n",
        "    print('p_bernoulli: ', p_bernoulli)\n",
        "    print('augmentaiton: ', augmentation, 'aug_factor: ', aug_factor, \n",
        "          'num_neighbs: ', num_neighbs, 'lim4sim: ', lim4sim)\n",
        "    print('use_dropout: ', use_dropout, '\\n')\n",
        "\n",
        "\n",
        "    sim_function = functools.partial(cal_similarity, lim=lim4sim)\n",
        "    \n",
        "    \n",
        "    y_arr = np.array([get_label(f) for f in flist])\n",
        "    flist = np.array(flist)\n",
        "    kk=0\n",
        "    \n",
        "    # list to store metrics after each fold\n",
        "    repeat_acc=[]\n",
        "    repeat_sen=[]\n",
        "    repeat_spec=[]\n",
        "    repeat_loss=[]\n",
        "    \n",
        "    \n",
        "    for rp in range(2):\n",
        "        kf = StratifiedKFold(n_splits=p_fold, random_state=1, shuffle=True)\n",
        "        np.random.shuffle(flist)\n",
        "        y_arr = np.array([get_label(f) for f in flist])\n",
        "    # list to store metrics after each fold\n",
        "        crossval_acc=[]\n",
        "        crossval_sen=[]\n",
        "        crossval_spec=[]\n",
        "        crossval_loss=[]\n",
        "        for kk,(train_index, test_index) in enumerate(kf.split(flist, y_arr)):\n",
        "            \n",
        "            #init wandb \n",
        "            NAME = f'asd-diagnet-site--{p_center}-fold-{kk+1}-rp-{rp+1}'\n",
        "            ID = f'fold-{kk+1}--rp-{rp+1}'\n",
        "            wandb.init(project = 'asd1', name=NAME, id=ID)\n",
        "            \n",
        "            train_samples, test_samples = flist[train_index], flist[test_index]\n",
        "\n",
        "\n",
        "            verbose = (True if (kk == 0) else False)\n",
        "\n",
        "            regions_inds = get_regs(train_samples,int(num_corr/4))\n",
        "\n",
        "            num_inpp = len(regions_inds)\n",
        "            n_lat = int(num_inpp/2)\n",
        "            \n",
        "            train_loader=get_loader(data=all_corr, samples_list=train_samples, \n",
        "                                    batch_size=batch_size, mode='train',\n",
        "                                    augmentation=augmentation, aug_factor=aug_factor, \n",
        "                                    num_neighbs=num_neighbs, eig_data=eig_data, similarity_fn=sim_function, \n",
        "                                    verbose=verbose,regions=regions_inds)\n",
        "\n",
        "            test_loader=get_loader(data=all_corr, samples_list=test_samples, \n",
        "                                   batch_size=batch_size, mode='test', augmentation=False, \n",
        "                                   verbose=verbose,regions=regions_inds)\n",
        "            model = MTAutoEncoder(tied=True, num_inputs=num_inpp, num_latent=n_lat, use_dropout=use_dropout)\n",
        "            model.to(device)\n",
        "            wandb.watch(model, log='all')\n",
        "            criterion_ae = nn.MSELoss(reduction='sum')\n",
        "            criterion_clf = nn.BCEWithLogitsLoss()\n",
        "            optimizer = optim.SGD([{'params': model.fc_encoder.parameters(), 'lr': learning_rate_ae},\n",
        "                                   {'params': model.classifier.parameters(), 'lr': learning_rate_clf}],\n",
        "                                  momentum=0.9)\n",
        "            for epoch in range(1, num_epochs+1):\n",
        "                \n",
        "                if epoch <= 20:\n",
        "                    train_losses, clf_train_loss, ae_train_loss, train_acc = train(model, epoch, train_loader, \n",
        "                                                                        p_bernoulli, mode='both')\n",
        "                else:\n",
        "                    train_losses, clf_train_loss, ae_train_loss, train_acc = train(model, epoch, train_loader, \n",
        "                                                                        p_bernoulli, mode='clf')\n",
        "                print(f'Epoch {epoch}/{num_epochs+1}')\n",
        "                \n",
        "                wandb.log({'Classifier Train loss': clf_train_loss,\n",
        "                           'AE Train loss': ae_train_loss,\n",
        "                            'Train accuracy': train_acc})\n",
        "                \n",
        "                content = f'Classifier Train loss: {(clf_train_loss):.4f}, AE Train loss: {(ae_train_loss):.4f}, Train Acc: {(train_acc):.4f}'\n",
        "                print(content)\n",
        "\n",
        "            metrics_dict = test(model, criterion_clf, test_loader, eval_classifier=True)\n",
        "            print(\"-----------------------------\")\n",
        "            print(f'Fold {kk+1}/{p_fold}')\n",
        "            content = f'{metrics_dict}'\n",
        "            print(content)\n",
        "            print(\"-----------------------------\")\n",
        "            \n",
        "            crossval_acc.append(metrics_dict['accuracy'])\n",
        "            crossval_sen.append(metrics_dict['senstivity'])\n",
        "            crossval_spec.append(metrics_dict['specificity'])\n",
        "            crossval_loss.append(metrics_dict['loss'])\n",
        "            \n",
        "            #save the model after each fold\n",
        "            \n",
        "            recorder = {'optimizer': optimizer.state_dict(),\n",
        "            'model': model.state_dict(),\n",
        "            'fold' : kk+1,\n",
        "            'repitition' : rp+1}\n",
        "            save_model = f'Saved-Models/{NAME}.pt'\n",
        "            torch.save(recorder, save_model)\n",
        "            \n",
        "        print(\"*********************************\")    \n",
        "        print(f'Average Value after 5 Folds and repeats  {rp+1}------->')\n",
        "        content = f'Accuracy: {np.round(np.mean(crossval_acc),4)}, Senstivity: {np.round(np.mean(crossval_sen),4)}, Specificity: {np.round(np.mean(crossval_spec),4)}, Loss: {np.round(np.mean(crossval_loss),4)}'\n",
        "        print(content)\n",
        "        print(\"*********************************\") \n",
        "        \n",
        "        repeat_acc.append(np.mean(crossval_acc))\n",
        "        repeat_sen.append(np.mean(crossval_sen))\n",
        "        repeat_spec.append(np.mean(crossval_spec))\n",
        "        repeat_loss.append(np.mean(crossval_loss))\n",
        "    \n",
        "    print(f\"Average Value after \",rp + 1,\" Repeat : \")\n",
        "    content = f'Accuracy: {np.round(np.mean(repeat_acc),4)}, Senstivity: {np.round(np.mean(repeat_sen),4)}, Specificity: {np.round(np.mean(repeat_spec),4)}, Loss: {np.round(np.mean(repeat_loss),4)}'\n",
        "    print(content)\n",
        "        \n",
        "    finish= time.time()\n",
        "    print(finish-start)\n",
        "\n",
        "\n"
      ],
      "execution_count": null,
      "outputs": [
        {
          "output_type": "stream",
          "text": [
            "4975\n",
            "p_bernoulli:  None\n",
            "augmentaiton:  True aug_factor:  2 num_neighbs:  5 lim4sim:  2\n",
            "use_dropout:  False \n",
            "\n"
          ],
          "name": "stdout"
        },
        {
          "output_type": "stream",
          "text": [
            "Failed to query for notebook name, you can set it manually with the WANDB_NOTEBOOK_NAME environment variable\n",
            "\u001b[34m\u001b[1mwandb\u001b[0m: Currently logged in as: \u001b[33mpindi-krishna\u001b[0m (use `wandb login --relogin` to force relogin)\n",
            "\u001b[34m\u001b[1mwandb\u001b[0m: Tracking run with wandb version 0.10.2\n",
            "\u001b[34m\u001b[1mwandb\u001b[0m: Run data is saved locally in wandb/run-20200925_133043-fold-1--rp-1\n",
            "\u001b[34m\u001b[1mwandb\u001b[0m: Syncing run \u001b[33masd-diagnet-site--OHSU-fold-1-rp-1\u001b[0m\n"
          ],
          "name": "stderr"
        },
        {
          "output_type": "display_data",
          "data": {
            "text/html": [
              "\n",
              "                Logging results to <a href=\"https://wandb.com\" target=\"_blank\">Weights & Biases</a> <a href=\"https://docs.wandb.com/integrations/jupyter.html\" target=\"_blank\">(Documentation)</a>.<br/>\n",
              "                Project page: <a href=\"https://wandb.ai/pindi-krishna/asd1\" target=\"_blank\">https://wandb.ai/pindi-krishna/asd1</a><br/>\n",
              "                Run page: <a href=\"https://wandb.ai/pindi-krishna/asd1/runs/fold-1--rp-1\" target=\"_blank\">https://wandb.ai/pindi-krishna/asd1/runs/fold-1--rp-1</a><br/>\n",
              "            "
            ],
            "text/plain": [
              "<IPython.core.display.HTML object>"
            ]
          },
          "metadata": {
            "tags": []
          }
        },
        {
          "output_type": "stream",
          "text": [
            "\n",
            "Epoch 1/26\n",
            "Classifier Train loss: 0.6893, AE Train loss: 644.2683, Train Acc: 0.4500\n",
            "Epoch 2/26\n",
            "Classifier Train loss: 0.6954, AE Train loss: 444.0914, Train Acc: 0.4500\n",
            "Epoch 3/26\n",
            "Classifier Train loss: 0.6681, AE Train loss: 382.0573, Train Acc: 0.6500\n",
            "Epoch 4/26\n",
            "Classifier Train loss: 0.6345, AE Train loss: 260.8163, Train Acc: 0.8250\n",
            "Epoch 5/26\n",
            "Classifier Train loss: 0.6034, AE Train loss: 167.0557, Train Acc: 0.8500\n",
            "Epoch 6/26\n",
            "Classifier Train loss: 0.5766, AE Train loss: 123.2638, Train Acc: 0.8500\n",
            "Epoch 7/26\n",
            "Classifier Train loss: 0.5196, AE Train loss: 70.7041, Train Acc: 0.9500\n",
            "Epoch 8/26\n",
            "Classifier Train loss: 0.4928, AE Train loss: 50.1150, Train Acc: 1.0000\n",
            "Epoch 9/26\n",
            "Classifier Train loss: 0.4733, AE Train loss: 30.4026, Train Acc: 1.0000\n",
            "Epoch 10/26\n",
            "Classifier Train loss: 0.4547, AE Train loss: 20.5647, Train Acc: 1.0000\n",
            "Epoch 11/26\n",
            "Classifier Train loss: 0.4280, AE Train loss: 11.9109, Train Acc: 1.0000\n",
            "Epoch 12/26\n",
            "Classifier Train loss: 0.4099, AE Train loss: 7.3965, Train Acc: 1.0000\n",
            "Epoch 13/26\n",
            "Classifier Train loss: 0.3751, AE Train loss: 4.9943, Train Acc: 1.0000\n",
            "Epoch 14/26\n",
            "Classifier Train loss: 0.3587, AE Train loss: 3.3928, Train Acc: 1.0000\n",
            "Epoch 15/26\n",
            "Classifier Train loss: 0.3395, AE Train loss: 2.7907, Train Acc: 1.0000\n",
            "Epoch 16/26\n",
            "Classifier Train loss: 0.3205, AE Train loss: 1.8630, Train Acc: 1.0000\n",
            "Epoch 17/26\n",
            "Classifier Train loss: 0.3057, AE Train loss: 1.5379, Train Acc: 1.0000\n",
            "Epoch 18/26\n",
            "Classifier Train loss: 0.2963, AE Train loss: 1.2669, Train Acc: 1.0000\n",
            "Epoch 19/26\n",
            "Classifier Train loss: 0.2823, AE Train loss: 1.1399, Train Acc: 1.0000\n",
            "Epoch 20/26\n",
            "Classifier Train loss: 0.2688, AE Train loss: 0.9730, Train Acc: 1.0000\n",
            "Epoch 21/26\n",
            "Classifier Train loss: 0.2570, AE Train loss: 0.0000, Train Acc: 1.0000\n",
            "Epoch 22/26\n",
            "Classifier Train loss: 0.2453, AE Train loss: 0.0000, Train Acc: 1.0000\n",
            "Epoch 23/26\n",
            "Classifier Train loss: 0.2382, AE Train loss: 0.0000, Train Acc: 1.0000\n",
            "Epoch 24/26\n",
            "Classifier Train loss: 0.2280, AE Train loss: 0.0000, Train Acc: 1.0000\n",
            "Epoch 25/26\n",
            "Classifier Train loss: 0.2185, AE Train loss: 0.0000, Train Acc: 1.0000\n",
            "-----------------------------\n",
            "Fold 1/5\n",
            "{'accuracy': 0.8333, 'senstivity': 1.0, 'specificity': 0.6667, 'loss': 0.603}\n",
            "-----------------------------\n"
          ],
          "name": "stdout"
        },
        {
          "output_type": "stream",
          "text": [
            "\u001b[34m\u001b[1mwandb\u001b[0m: Waiting for W&B process to finish, PID 3202\n",
            "\u001b[34m\u001b[1mwandb\u001b[0m: Program ended successfully.\n",
            "\u001b[34m\u001b[1mwandb\u001b[0m: - 0.00MB of 0.00MB uploaded (0.00MB deduped)\r"
          ],
          "name": "stderr"
        },
        {
          "output_type": "stream",
          "text": [
            "\n"
          ],
          "name": "stdout"
        },
        {
          "output_type": "stream",
          "text": [
            "\u001b[34m\u001b[1mwandb\u001b[0m:                                                                                \n",
            "\u001b[34m\u001b[1mwandb\u001b[0m: Find user logs for this run at: wandb/run-20200925_133043-fold-1--rp-1/logs/debug.log\n",
            "\u001b[34m\u001b[1mwandb\u001b[0m: Find internal logs for this run at: wandb/run-20200925_133043-fold-1--rp-1/logs/debug-internal.log\n",
            "\u001b[34m\u001b[1mwandb\u001b[0m: Run summary:\n",
            "\u001b[34m\u001b[1mwandb\u001b[0m:   Classifier Train loss 0.2185116708278656\n",
            "\u001b[34m\u001b[1mwandb\u001b[0m:           AE Train loss 0.0\n",
            "\u001b[34m\u001b[1mwandb\u001b[0m:          Train accuracy 1.0\n",
            "\u001b[34m\u001b[1mwandb\u001b[0m:                   _step 24\n",
            "\u001b[34m\u001b[1mwandb\u001b[0m:                _runtime 9\n",
            "\u001b[34m\u001b[1mwandb\u001b[0m:              _timestamp 1601020857\n",
            "\u001b[34m\u001b[1mwandb\u001b[0m: Run history:\n",
            "\u001b[34m\u001b[1mwandb\u001b[0m:   Classifier Train loss ███▇▇▆▅▅▅▄▄▄▃▃▃▂▂▂▂▂▂▁▁▁▁\n",
            "\u001b[34m\u001b[1mwandb\u001b[0m:           AE Train loss █▆▅▄▃▂▂▂▁▁▁▁▁▁▁▁▁▁▁▁▁▁▁▁▁\n",
            "\u001b[34m\u001b[1mwandb\u001b[0m:          Train accuracy ▁▁▄▆▆▆▇██████████████████\n",
            "\u001b[34m\u001b[1mwandb\u001b[0m:                   _step ▁▁▂▂▂▂▃▃▃▄▄▄▅▅▅▅▆▆▆▇▇▇▇██\n",
            "\u001b[34m\u001b[1mwandb\u001b[0m:                _runtime ▁▁▁▁▁▂▂▂▂▄▄▄▄▅▅▅▅▅▇▇▇▇▇██\n",
            "\u001b[34m\u001b[1mwandb\u001b[0m:              _timestamp ▁▁▁▁▁▂▂▂▂▄▄▄▄▅▅▅▅▅▇▇▇▇▇██\n",
            "\u001b[34m\u001b[1mwandb\u001b[0m: Synced 5 W&B file(s), 1 media file(s), 0 artifact file(s) and 0 other file(s)\n",
            "\u001b[34m\u001b[1mwandb\u001b[0m: \n",
            "\u001b[34m\u001b[1mwandb\u001b[0m: Synced \u001b[33masd-diagnet-site--OHSU-fold-1-rp-1\u001b[0m: \u001b[34mhttps://wandb.ai/pindi-krishna/asd1/runs/fold-1--rp-1\u001b[0m\n",
            "\u001b[34m\u001b[1mwandb\u001b[0m: Tracking run with wandb version 0.10.2\n",
            "\u001b[34m\u001b[1mwandb\u001b[0m: Run data is saved locally in wandb/run-20200925_133100-fold-2--rp-1\n",
            "\u001b[34m\u001b[1mwandb\u001b[0m: Syncing run \u001b[33masd-diagnet-site--OHSU-fold-2-rp-1\u001b[0m\n"
          ],
          "name": "stderr"
        },
        {
          "output_type": "display_data",
          "data": {
            "text/html": [
              "\n",
              "                Logging results to <a href=\"https://wandb.com\" target=\"_blank\">Weights & Biases</a> <a href=\"https://docs.wandb.com/integrations/jupyter.html\" target=\"_blank\">(Documentation)</a>.<br/>\n",
              "                Project page: <a href=\"https://wandb.ai/pindi-krishna/asd1\" target=\"_blank\">https://wandb.ai/pindi-krishna/asd1</a><br/>\n",
              "                Run page: <a href=\"https://wandb.ai/pindi-krishna/asd1/runs/fold-2--rp-1\" target=\"_blank\">https://wandb.ai/pindi-krishna/asd1/runs/fold-2--rp-1</a><br/>\n",
              "            "
            ],
            "text/plain": [
              "<IPython.core.display.HTML object>"
            ]
          },
          "metadata": {
            "tags": []
          }
        },
        {
          "output_type": "stream",
          "text": [
            "\n",
            "Epoch 1/26\n",
            "Classifier Train loss: 0.6828, AE Train loss: 652.6329, Train Acc: 0.5000\n",
            "Epoch 2/26\n",
            "Classifier Train loss: 0.6765, AE Train loss: 448.5157, Train Acc: 0.5250\n",
            "Epoch 3/26\n",
            "Classifier Train loss: 0.6387, AE Train loss: 379.8018, Train Acc: 1.0000\n",
            "Epoch 4/26\n",
            "Classifier Train loss: 0.6052, AE Train loss: 250.3000, Train Acc: 0.9750\n",
            "Epoch 5/26\n",
            "Classifier Train loss: 0.5697, AE Train loss: 173.7919, Train Acc: 0.9750\n",
            "Epoch 6/26\n",
            "Classifier Train loss: 0.5192, AE Train loss: 125.4461, Train Acc: 1.0000\n",
            "Epoch 7/26\n",
            "Classifier Train loss: 0.4961, AE Train loss: 72.7777, Train Acc: 1.0000\n",
            "Epoch 8/26\n",
            "Classifier Train loss: 0.4679, AE Train loss: 53.8947, Train Acc: 1.0000\n",
            "Epoch 9/26\n",
            "Classifier Train loss: 0.4485, AE Train loss: 35.3941, Train Acc: 1.0000\n",
            "Epoch 10/26\n",
            "Classifier Train loss: 0.4262, AE Train loss: 25.4945, Train Acc: 1.0000\n",
            "Epoch 11/26\n",
            "Classifier Train loss: 0.3905, AE Train loss: 16.6271, Train Acc: 1.0000\n",
            "Epoch 12/26\n",
            "Classifier Train loss: 0.3789, AE Train loss: 10.9055, Train Acc: 1.0000\n",
            "Epoch 13/26\n",
            "Classifier Train loss: 0.3582, AE Train loss: 6.4739, Train Acc: 1.0000\n",
            "Epoch 14/26\n",
            "Classifier Train loss: 0.3359, AE Train loss: 4.5473, Train Acc: 1.0000\n",
            "Epoch 15/26\n",
            "Classifier Train loss: 0.3291, AE Train loss: 3.1003, Train Acc: 1.0000\n",
            "Epoch 16/26\n",
            "Classifier Train loss: 0.3096, AE Train loss: 2.3107, Train Acc: 1.0000\n",
            "Epoch 17/26\n",
            "Classifier Train loss: 0.2993, AE Train loss: 1.7758, Train Acc: 1.0000\n",
            "Epoch 18/26\n",
            "Classifier Train loss: 0.2871, AE Train loss: 1.2717, Train Acc: 1.0000\n",
            "Epoch 19/26\n",
            "Classifier Train loss: 0.2677, AE Train loss: 1.3215, Train Acc: 1.0000\n",
            "Epoch 20/26\n",
            "Classifier Train loss: 0.2564, AE Train loss: 1.0119, Train Acc: 1.0000\n",
            "Epoch 21/26\n",
            "Classifier Train loss: 0.2563, AE Train loss: 0.0000, Train Acc: 1.0000\n",
            "Epoch 22/26\n",
            "Classifier Train loss: 0.2358, AE Train loss: 0.0000, Train Acc: 1.0000\n",
            "Epoch 23/26\n",
            "Classifier Train loss: 0.2251, AE Train loss: 0.0000, Train Acc: 1.0000\n",
            "Epoch 24/26\n",
            "Classifier Train loss: 0.2254, AE Train loss: 0.0000, Train Acc: 1.0000\n",
            "Epoch 25/26\n",
            "Classifier Train loss: 0.2177, AE Train loss: 0.0000, Train Acc: 1.0000\n",
            "-----------------------------\n",
            "Fold 2/5\n",
            "{'accuracy': 0.8, 'senstivity': 0.5, 'specificity': 1.0, 'loss': 0.6069}\n",
            "-----------------------------\n"
          ],
          "name": "stdout"
        },
        {
          "output_type": "stream",
          "text": [
            "\u001b[34m\u001b[1mwandb\u001b[0m: Waiting for W&B process to finish, PID 3335\n",
            "\u001b[34m\u001b[1mwandb\u001b[0m: Program ended successfully.\n",
            "\u001b[34m\u001b[1mwandb\u001b[0m: - 0.00MB of 0.00MB uploaded (0.00MB deduped)\r"
          ],
          "name": "stderr"
        },
        {
          "output_type": "stream",
          "text": [
            "\n"
          ],
          "name": "stdout"
        },
        {
          "output_type": "stream",
          "text": [
            "\u001b[34m\u001b[1mwandb\u001b[0m:                                                                                \n",
            "\u001b[34m\u001b[1mwandb\u001b[0m: Find user logs for this run at: wandb/run-20200925_133100-fold-2--rp-1/logs/debug.log\n",
            "\u001b[34m\u001b[1mwandb\u001b[0m: Find internal logs for this run at: wandb/run-20200925_133100-fold-2--rp-1/logs/debug-internal.log\n",
            "\u001b[34m\u001b[1mwandb\u001b[0m: Run summary:\n",
            "\u001b[34m\u001b[1mwandb\u001b[0m:   Classifier Train loss 0.21774303913116455\n",
            "\u001b[34m\u001b[1mwandb\u001b[0m:           AE Train loss 0.0\n",
            "\u001b[34m\u001b[1mwandb\u001b[0m:          Train accuracy 1.0\n",
            "\u001b[34m\u001b[1mwandb\u001b[0m:                   _step 24\n",
            "\u001b[34m\u001b[1mwandb\u001b[0m:                _runtime 6\n",
            "\u001b[34m\u001b[1mwandb\u001b[0m:              _timestamp 1601020873\n",
            "\u001b[34m\u001b[1mwandb\u001b[0m: Run history:\n",
            "\u001b[34m\u001b[1mwandb\u001b[0m:   Classifier Train loss ██▇▇▆▆▅▅▄▄▄▃▃▃▃▂▂▂▂▂▂▁▁▁▁\n",
            "\u001b[34m\u001b[1mwandb\u001b[0m:           AE Train loss █▆▅▄▃▂▂▂▁▁▁▁▁▁▁▁▁▁▁▁▁▁▁▁▁\n",
            "\u001b[34m\u001b[1mwandb\u001b[0m:          Train accuracy ▁▁███████████████████████\n",
            "\u001b[34m\u001b[1mwandb\u001b[0m:                   _step ▁▁▂▂▂▂▃▃▃▄▄▄▅▅▅▅▆▆▆▇▇▇▇██\n",
            "\u001b[34m\u001b[1mwandb\u001b[0m:                _runtime ▁▁▂▂▂▂▂▄▄▄▄▄▅▅▅▅▅▇▇▇▇████\n",
            "\u001b[34m\u001b[1mwandb\u001b[0m:              _timestamp ▁▁▂▂▂▂▂▄▄▄▄▄▅▅▅▅▅▇▇▇▇████\n",
            "\u001b[34m\u001b[1mwandb\u001b[0m: Synced 5 W&B file(s), 1 media file(s), 0 artifact file(s) and 0 other file(s)\n",
            "\u001b[34m\u001b[1mwandb\u001b[0m: \n",
            "\u001b[34m\u001b[1mwandb\u001b[0m: Synced \u001b[33masd-diagnet-site--OHSU-fold-2-rp-1\u001b[0m: \u001b[34mhttps://wandb.ai/pindi-krishna/asd1/runs/fold-2--rp-1\u001b[0m\n",
            "\u001b[34m\u001b[1mwandb\u001b[0m: Tracking run with wandb version 0.10.2\n",
            "\u001b[34m\u001b[1mwandb\u001b[0m: Run data is saved locally in wandb/run-20200925_133116-fold-3--rp-1\n",
            "\u001b[34m\u001b[1mwandb\u001b[0m: Syncing run \u001b[33masd-diagnet-site--OHSU-fold-3-rp-1\u001b[0m\n"
          ],
          "name": "stderr"
        },
        {
          "output_type": "display_data",
          "data": {
            "text/html": [
              "\n",
              "                Logging results to <a href=\"https://wandb.com\" target=\"_blank\">Weights & Biases</a> <a href=\"https://docs.wandb.com/integrations/jupyter.html\" target=\"_blank\">(Documentation)</a>.<br/>\n",
              "                Project page: <a href=\"https://wandb.ai/pindi-krishna/asd1\" target=\"_blank\">https://wandb.ai/pindi-krishna/asd1</a><br/>\n",
              "                Run page: <a href=\"https://wandb.ai/pindi-krishna/asd1/runs/fold-3--rp-1\" target=\"_blank\">https://wandb.ai/pindi-krishna/asd1/runs/fold-3--rp-1</a><br/>\n",
              "            "
            ],
            "text/plain": [
              "<IPython.core.display.HTML object>"
            ]
          },
          "metadata": {
            "tags": []
          }
        },
        {
          "output_type": "stream",
          "text": [
            "\n",
            "Epoch 1/26\n",
            "Classifier Train loss: 0.7055, AE Train loss: 662.0186, Train Acc: 0.4000\n",
            "Epoch 2/26\n",
            "Classifier Train loss: 0.6953, AE Train loss: 437.7883, Train Acc: 0.5000\n",
            "Epoch 3/26\n",
            "Classifier Train loss: 0.6814, AE Train loss: 380.6712, Train Acc: 0.5000\n",
            "Epoch 4/26\n",
            "Classifier Train loss: 0.6704, AE Train loss: 260.1074, Train Acc: 0.5500\n",
            "Epoch 5/26\n",
            "Classifier Train loss: 0.6270, AE Train loss: 183.2416, Train Acc: 0.8250\n",
            "Epoch 6/26\n",
            "Classifier Train loss: 0.5895, AE Train loss: 123.1204, Train Acc: 0.9500\n",
            "Epoch 7/26\n",
            "Classifier Train loss: 0.5644, AE Train loss: 81.8781, Train Acc: 0.9750\n",
            "Epoch 8/26\n",
            "Classifier Train loss: 0.5285, AE Train loss: 51.0003, Train Acc: 0.9750\n",
            "Epoch 9/26\n",
            "Classifier Train loss: 0.4959, AE Train loss: 31.7919, Train Acc: 0.9750\n",
            "Epoch 10/26\n",
            "Classifier Train loss: 0.4677, AE Train loss: 22.7961, Train Acc: 0.9750\n",
            "Epoch 11/26\n",
            "Classifier Train loss: 0.4497, AE Train loss: 14.5576, Train Acc: 0.9750\n",
            "Epoch 12/26\n",
            "Classifier Train loss: 0.4319, AE Train loss: 9.8831, Train Acc: 1.0000\n",
            "Epoch 13/26\n",
            "Classifier Train loss: 0.4065, AE Train loss: 6.5724, Train Acc: 1.0000\n",
            "Epoch 14/26\n",
            "Classifier Train loss: 0.3753, AE Train loss: 4.0258, Train Acc: 1.0000\n",
            "Epoch 15/26\n",
            "Classifier Train loss: 0.3612, AE Train loss: 3.0662, Train Acc: 1.0000\n",
            "Epoch 16/26\n",
            "Classifier Train loss: 0.3410, AE Train loss: 2.1874, Train Acc: 1.0000\n",
            "Epoch 17/26\n",
            "Classifier Train loss: 0.3333, AE Train loss: 1.6380, Train Acc: 1.0000\n",
            "Epoch 18/26\n",
            "Classifier Train loss: 0.3116, AE Train loss: 1.3353, Train Acc: 1.0000\n",
            "Epoch 19/26\n",
            "Classifier Train loss: 0.3067, AE Train loss: 1.0589, Train Acc: 1.0000\n",
            "Epoch 20/26\n",
            "Classifier Train loss: 0.2909, AE Train loss: 0.9203, Train Acc: 1.0000\n",
            "Epoch 21/26\n",
            "Classifier Train loss: 0.2771, AE Train loss: 0.0000, Train Acc: 1.0000\n",
            "Epoch 22/26\n",
            "Classifier Train loss: 0.2702, AE Train loss: 0.0000, Train Acc: 1.0000\n",
            "Epoch 23/26\n",
            "Classifier Train loss: 0.2546, AE Train loss: 0.0000, Train Acc: 1.0000\n",
            "Epoch 24/26\n",
            "Classifier Train loss: 0.2482, AE Train loss: 0.0000, Train Acc: 1.0000\n",
            "Epoch 25/26\n",
            "Classifier Train loss: 0.2318, AE Train loss: 0.0000, Train Acc: 1.0000\n",
            "-----------------------------\n",
            "Fold 3/5\n",
            "{'accuracy': 1.0, 'senstivity': 1.0, 'specificity': 1.0, 'loss': 0.5331}\n",
            "-----------------------------\n"
          ],
          "name": "stdout"
        },
        {
          "output_type": "stream",
          "text": [
            "\u001b[34m\u001b[1mwandb\u001b[0m: Waiting for W&B process to finish, PID 3473\n",
            "\u001b[34m\u001b[1mwandb\u001b[0m: Program ended successfully.\n",
            "\u001b[34m\u001b[1mwandb\u001b[0m: - 0.00MB of 0.00MB uploaded (0.00MB deduped)\r"
          ],
          "name": "stderr"
        },
        {
          "output_type": "stream",
          "text": [
            "\n"
          ],
          "name": "stdout"
        },
        {
          "output_type": "stream",
          "text": [
            "\u001b[34m\u001b[1mwandb\u001b[0m:                                                                                \n",
            "\u001b[34m\u001b[1mwandb\u001b[0m: Find user logs for this run at: wandb/run-20200925_133116-fold-3--rp-1/logs/debug.log\n",
            "\u001b[34m\u001b[1mwandb\u001b[0m: Find internal logs for this run at: wandb/run-20200925_133116-fold-3--rp-1/logs/debug-internal.log\n",
            "\u001b[34m\u001b[1mwandb\u001b[0m: Run summary:\n",
            "\u001b[34m\u001b[1mwandb\u001b[0m:   Classifier Train loss 0.23175939917564392\n",
            "\u001b[34m\u001b[1mwandb\u001b[0m:           AE Train loss 0.0\n",
            "\u001b[34m\u001b[1mwandb\u001b[0m:          Train accuracy 1.0\n",
            "\u001b[34m\u001b[1mwandb\u001b[0m:                   _step 24\n",
            "\u001b[34m\u001b[1mwandb\u001b[0m:                _runtime 7\n",
            "\u001b[34m\u001b[1mwandb\u001b[0m:              _timestamp 1601020890\n",
            "\u001b[34m\u001b[1mwandb\u001b[0m: Run history:\n",
            "\u001b[34m\u001b[1mwandb\u001b[0m:   Classifier Train loss ███▇▇▆▆▅▅▄▄▄▄▃▃▃▃▂▂▂▂▂▁▁▁\n",
            "\u001b[34m\u001b[1mwandb\u001b[0m:           AE Train loss █▆▅▄▃▂▂▂▁▁▁▁▁▁▁▁▁▁▁▁▁▁▁▁▁\n",
            "\u001b[34m\u001b[1mwandb\u001b[0m:          Train accuracy ▁▂▂▃▆▇███████████████████\n",
            "\u001b[34m\u001b[1mwandb\u001b[0m:                   _step ▁▁▂▂▂▂▃▃▃▄▄▄▅▅▅▅▆▆▆▇▇▇▇██\n",
            "\u001b[34m\u001b[1mwandb\u001b[0m:                _runtime ▁▁▁▁▁▂▂▂▂▂▄▄▄▄▅▅▅▅▅▇▇▇▇▇█\n",
            "\u001b[34m\u001b[1mwandb\u001b[0m:              _timestamp ▁▁▁▁▁▂▂▂▂▂▄▄▄▄▅▅▅▅▅▇▇▇▇▇█\n",
            "\u001b[34m\u001b[1mwandb\u001b[0m: Synced 5 W&B file(s), 1 media file(s), 0 artifact file(s) and 0 other file(s)\n",
            "\u001b[34m\u001b[1mwandb\u001b[0m: \n",
            "\u001b[34m\u001b[1mwandb\u001b[0m: Synced \u001b[33masd-diagnet-site--OHSU-fold-3-rp-1\u001b[0m: \u001b[34mhttps://wandb.ai/pindi-krishna/asd1/runs/fold-3--rp-1\u001b[0m\n",
            "\u001b[34m\u001b[1mwandb\u001b[0m: Tracking run with wandb version 0.10.2\n",
            "\u001b[34m\u001b[1mwandb\u001b[0m: Run data is saved locally in wandb/run-20200925_133130-fold-4--rp-1\n",
            "\u001b[34m\u001b[1mwandb\u001b[0m: Syncing run \u001b[33masd-diagnet-site--OHSU-fold-4-rp-1\u001b[0m\n"
          ],
          "name": "stderr"
        },
        {
          "output_type": "display_data",
          "data": {
            "text/html": [
              "\n",
              "                Logging results to <a href=\"https://wandb.com\" target=\"_blank\">Weights & Biases</a> <a href=\"https://docs.wandb.com/integrations/jupyter.html\" target=\"_blank\">(Documentation)</a>.<br/>\n",
              "                Project page: <a href=\"https://wandb.ai/pindi-krishna/asd1\" target=\"_blank\">https://wandb.ai/pindi-krishna/asd1</a><br/>\n",
              "                Run page: <a href=\"https://wandb.ai/pindi-krishna/asd1/runs/fold-4--rp-1\" target=\"_blank\">https://wandb.ai/pindi-krishna/asd1/runs/fold-4--rp-1</a><br/>\n",
              "            "
            ],
            "text/plain": [
              "<IPython.core.display.HTML object>"
            ]
          },
          "metadata": {
            "tags": []
          }
        },
        {
          "output_type": "stream",
          "text": [
            "\n",
            "Epoch 1/26\n",
            "Classifier Train loss: 0.6886, AE Train loss: 636.8042, Train Acc: 0.5750\n",
            "Epoch 2/26\n",
            "Classifier Train loss: 0.6854, AE Train loss: 439.8859, Train Acc: 0.5500\n",
            "Epoch 3/26\n",
            "Classifier Train loss: 0.6576, AE Train loss: 376.9840, Train Acc: 0.7250\n",
            "Epoch 4/26\n",
            "Classifier Train loss: 0.6407, AE Train loss: 260.4112, Train Acc: 0.8250\n",
            "Epoch 5/26\n",
            "Classifier Train loss: 0.6032, AE Train loss: 172.9079, Train Acc: 0.9000\n",
            "Epoch 6/26\n",
            "Classifier Train loss: 0.5641, AE Train loss: 120.9267, Train Acc: 0.9250\n",
            "Epoch 7/26\n",
            "Classifier Train loss: 0.5264, AE Train loss: 77.8076, Train Acc: 1.0000\n",
            "Epoch 8/26\n",
            "Classifier Train loss: 0.5034, AE Train loss: 53.6412, Train Acc: 0.9750\n",
            "Epoch 9/26\n",
            "Classifier Train loss: 0.4756, AE Train loss: 34.4768, Train Acc: 1.0000\n",
            "Epoch 10/26\n",
            "Classifier Train loss: 0.4594, AE Train loss: 22.1998, Train Acc: 1.0000\n",
            "Epoch 11/26\n",
            "Classifier Train loss: 0.4324, AE Train loss: 15.0931, Train Acc: 1.0000\n",
            "Epoch 12/26\n",
            "Classifier Train loss: 0.4069, AE Train loss: 9.7011, Train Acc: 1.0000\n",
            "Epoch 13/26\n",
            "Classifier Train loss: 0.3900, AE Train loss: 6.5327, Train Acc: 1.0000\n",
            "Epoch 14/26\n",
            "Classifier Train loss: 0.3672, AE Train loss: 4.4368, Train Acc: 1.0000\n",
            "Epoch 15/26\n",
            "Classifier Train loss: 0.3457, AE Train loss: 3.0543, Train Acc: 1.0000\n",
            "Epoch 16/26\n",
            "Classifier Train loss: 0.3459, AE Train loss: 2.1624, Train Acc: 1.0000\n",
            "Epoch 17/26\n",
            "Classifier Train loss: 0.3165, AE Train loss: 1.6183, Train Acc: 1.0000\n",
            "Epoch 18/26\n",
            "Classifier Train loss: 0.3059, AE Train loss: 1.4989, Train Acc: 1.0000\n",
            "Epoch 19/26\n",
            "Classifier Train loss: 0.2956, AE Train loss: 1.0687, Train Acc: 1.0000\n",
            "Epoch 20/26\n",
            "Classifier Train loss: 0.2828, AE Train loss: 1.1833, Train Acc: 1.0000\n",
            "Epoch 21/26\n",
            "Classifier Train loss: 0.2736, AE Train loss: 0.0000, Train Acc: 1.0000\n",
            "Epoch 22/26\n",
            "Classifier Train loss: 0.2616, AE Train loss: 0.0000, Train Acc: 1.0000\n",
            "Epoch 23/26\n",
            "Classifier Train loss: 0.2538, AE Train loss: 0.0000, Train Acc: 1.0000\n",
            "Epoch 24/26\n",
            "Classifier Train loss: 0.2442, AE Train loss: 0.0000, Train Acc: 1.0000\n",
            "Epoch 25/26\n",
            "Classifier Train loss: 0.2329, AE Train loss: 0.0000, Train Acc: 1.0000\n",
            "-----------------------------\n",
            "Fold 4/5\n",
            "{'accuracy': 0.8, 'senstivity': 1.0, 'specificity': 0.6667, 'loss': 0.5527}\n",
            "-----------------------------\n"
          ],
          "name": "stdout"
        },
        {
          "output_type": "stream",
          "text": [
            "\u001b[34m\u001b[1mwandb\u001b[0m: Waiting for W&B process to finish, PID 3604\n",
            "\u001b[34m\u001b[1mwandb\u001b[0m: Program ended successfully.\n",
            "\u001b[34m\u001b[1mwandb\u001b[0m: - 0.00MB of 0.00MB uploaded (0.00MB deduped)\r"
          ],
          "name": "stderr"
        },
        {
          "output_type": "stream",
          "text": [
            "\n"
          ],
          "name": "stdout"
        },
        {
          "output_type": "stream",
          "text": [
            "\u001b[34m\u001b[1mwandb\u001b[0m:                                                                                \n",
            "\u001b[34m\u001b[1mwandb\u001b[0m: Find user logs for this run at: wandb/run-20200925_133130-fold-4--rp-1/logs/debug.log\n",
            "\u001b[34m\u001b[1mwandb\u001b[0m: Find internal logs for this run at: wandb/run-20200925_133130-fold-4--rp-1/logs/debug-internal.log\n",
            "\u001b[34m\u001b[1mwandb\u001b[0m: Run summary:\n",
            "\u001b[34m\u001b[1mwandb\u001b[0m:   Classifier Train loss 0.232865571975708\n",
            "\u001b[34m\u001b[1mwandb\u001b[0m:           AE Train loss 0.0\n",
            "\u001b[34m\u001b[1mwandb\u001b[0m:          Train accuracy 1.0\n",
            "\u001b[34m\u001b[1mwandb\u001b[0m:                   _step 24\n",
            "\u001b[34m\u001b[1mwandb\u001b[0m:                _runtime 6\n",
            "\u001b[34m\u001b[1mwandb\u001b[0m:              _timestamp 1601020904\n",
            "\u001b[34m\u001b[1mwandb\u001b[0m: Run history:\n",
            "\u001b[34m\u001b[1mwandb\u001b[0m:   Classifier Train loss ███▇▇▆▆▅▅▄▄▄▃▃▃▃▂▂▂▂▂▁▁▁▁\n",
            "\u001b[34m\u001b[1mwandb\u001b[0m:           AE Train loss █▆▅▄▃▂▂▂▁▁▁▁▁▁▁▁▁▁▁▁▁▁▁▁▁\n",
            "\u001b[34m\u001b[1mwandb\u001b[0m:          Train accuracy ▁▁▄▅▆▇███████████████████\n",
            "\u001b[34m\u001b[1mwandb\u001b[0m:                   _step ▁▁▂▂▂▂▃▃▃▄▄▄▅▅▅▅▆▆▆▇▇▇▇██\n",
            "\u001b[34m\u001b[1mwandb\u001b[0m:                _runtime ▁▂▂▂▂▂▄▄▄▄▅▅▅▅▅▇▇▇▇██████\n",
            "\u001b[34m\u001b[1mwandb\u001b[0m:              _timestamp ▁▂▂▂▂▂▄▄▄▄▅▅▅▅▅▇▇▇▇██████\n",
            "\u001b[34m\u001b[1mwandb\u001b[0m: Synced 5 W&B file(s), 1 media file(s), 0 artifact file(s) and 0 other file(s)\n",
            "\u001b[34m\u001b[1mwandb\u001b[0m: \n",
            "\u001b[34m\u001b[1mwandb\u001b[0m: Synced \u001b[33masd-diagnet-site--OHSU-fold-4-rp-1\u001b[0m: \u001b[34mhttps://wandb.ai/pindi-krishna/asd1/runs/fold-4--rp-1\u001b[0m\n",
            "\u001b[34m\u001b[1mwandb\u001b[0m: Tracking run with wandb version 0.10.2\n",
            "\u001b[34m\u001b[1mwandb\u001b[0m: Run data is saved locally in wandb/run-20200925_133145-fold-5--rp-1\n",
            "\u001b[34m\u001b[1mwandb\u001b[0m: Syncing run \u001b[33masd-diagnet-site--OHSU-fold-5-rp-1\u001b[0m\n"
          ],
          "name": "stderr"
        },
        {
          "output_type": "display_data",
          "data": {
            "text/html": [
              "\n",
              "                Logging results to <a href=\"https://wandb.com\" target=\"_blank\">Weights & Biases</a> <a href=\"https://docs.wandb.com/integrations/jupyter.html\" target=\"_blank\">(Documentation)</a>.<br/>\n",
              "                Project page: <a href=\"https://wandb.ai/pindi-krishna/asd1\" target=\"_blank\">https://wandb.ai/pindi-krishna/asd1</a><br/>\n",
              "                Run page: <a href=\"https://wandb.ai/pindi-krishna/asd1/runs/fold-5--rp-1\" target=\"_blank\">https://wandb.ai/pindi-krishna/asd1/runs/fold-5--rp-1</a><br/>\n",
              "            "
            ],
            "text/plain": [
              "<IPython.core.display.HTML object>"
            ]
          },
          "metadata": {
            "tags": []
          }
        },
        {
          "output_type": "stream",
          "text": [
            "\n",
            "Epoch 1/26\n",
            "Classifier Train loss: 0.6761, AE Train loss: 652.5741, Train Acc: 0.5750\n",
            "Epoch 2/26\n",
            "Classifier Train loss: 0.6577, AE Train loss: 444.6492, Train Acc: 0.7750\n",
            "Epoch 3/26\n",
            "Classifier Train loss: 0.6359, AE Train loss: 371.5336, Train Acc: 0.7250\n",
            "Epoch 4/26\n",
            "Classifier Train loss: 0.6205, AE Train loss: 265.2889, Train Acc: 0.6500\n",
            "Epoch 5/26\n",
            "Classifier Train loss: 0.5663, AE Train loss: 171.9356, Train Acc: 0.8000\n",
            "Epoch 6/26\n",
            "Classifier Train loss: 0.5343, AE Train loss: 124.8782, Train Acc: 0.9250\n",
            "Epoch 7/26\n",
            "Classifier Train loss: 0.5017, AE Train loss: 77.6938, Train Acc: 0.9000\n",
            "Epoch 8/26\n",
            "Classifier Train loss: 0.4746, AE Train loss: 50.6062, Train Acc: 0.9500\n",
            "Epoch 9/26\n",
            "Classifier Train loss: 0.4533, AE Train loss: 33.9986, Train Acc: 1.0000\n",
            "Epoch 10/26\n",
            "Classifier Train loss: 0.4506, AE Train loss: 21.8509, Train Acc: 1.0000\n",
            "Epoch 11/26\n",
            "Classifier Train loss: 0.4062, AE Train loss: 14.4430, Train Acc: 1.0000\n",
            "Epoch 12/26\n",
            "Classifier Train loss: 0.3915, AE Train loss: 9.1400, Train Acc: 1.0000\n",
            "Epoch 13/26\n",
            "Classifier Train loss: 0.3749, AE Train loss: 6.1681, Train Acc: 1.0000\n",
            "Epoch 14/26\n",
            "Classifier Train loss: 0.3528, AE Train loss: 3.8486, Train Acc: 1.0000\n",
            "Epoch 15/26\n",
            "Classifier Train loss: 0.3323, AE Train loss: 2.9430, Train Acc: 1.0000\n",
            "Epoch 16/26\n",
            "Classifier Train loss: 0.3334, AE Train loss: 1.9718, Train Acc: 1.0000\n",
            "Epoch 17/26\n",
            "Classifier Train loss: 0.3092, AE Train loss: 1.5608, Train Acc: 1.0000\n",
            "Epoch 18/26\n",
            "Classifier Train loss: 0.3001, AE Train loss: 1.2938, Train Acc: 1.0000\n",
            "Epoch 19/26\n",
            "Classifier Train loss: 0.2830, AE Train loss: 1.0650, Train Acc: 1.0000\n",
            "Epoch 20/26\n",
            "Classifier Train loss: 0.2750, AE Train loss: 0.9114, Train Acc: 1.0000\n",
            "Epoch 21/26\n",
            "Classifier Train loss: 0.2633, AE Train loss: 0.0000, Train Acc: 1.0000\n",
            "Epoch 22/26\n",
            "Classifier Train loss: 0.2494, AE Train loss: 0.0000, Train Acc: 1.0000\n",
            "Epoch 23/26\n",
            "Classifier Train loss: 0.2478, AE Train loss: 0.0000, Train Acc: 1.0000\n",
            "Epoch 24/26\n",
            "Classifier Train loss: 0.2316, AE Train loss: 0.0000, Train Acc: 1.0000\n",
            "Epoch 25/26\n",
            "Classifier Train loss: 0.2260, AE Train loss: 0.0000, Train Acc: 1.0000\n",
            "-----------------------------\n",
            "Fold 5/5\n",
            "{'accuracy': 0.8, 'senstivity': 0.6667, 'specificity': 1.0, 'loss': 0.5359}\n",
            "-----------------------------\n"
          ],
          "name": "stdout"
        },
        {
          "output_type": "stream",
          "text": [
            "\u001b[34m\u001b[1mwandb\u001b[0m: Waiting for W&B process to finish, PID 3734\n",
            "\u001b[34m\u001b[1mwandb\u001b[0m: Program ended successfully.\n",
            "\u001b[34m\u001b[1mwandb\u001b[0m: - 0.00MB of 0.00MB uploaded (0.00MB deduped)\r"
          ],
          "name": "stderr"
        },
        {
          "output_type": "stream",
          "text": [
            "*********************************\n",
            "Average Value after 5 Folds and repeats  1------->\n",
            "Accuracy: 0.8467, Senstivity: 0.8333, Specificity: 0.8667, Loss: 0.5662999749183655\n",
            "*********************************\n",
            "\n"
          ],
          "name": "stdout"
        },
        {
          "output_type": "stream",
          "text": [
            "\u001b[34m\u001b[1mwandb\u001b[0m:                                                                                \n",
            "\u001b[34m\u001b[1mwandb\u001b[0m: Find user logs for this run at: wandb/run-20200925_133145-fold-5--rp-1/logs/debug.log\n",
            "\u001b[34m\u001b[1mwandb\u001b[0m: Find internal logs for this run at: wandb/run-20200925_133145-fold-5--rp-1/logs/debug-internal.log\n",
            "\u001b[34m\u001b[1mwandb\u001b[0m: Run summary:\n",
            "\u001b[34m\u001b[1mwandb\u001b[0m:   Classifier Train loss 0.22600111365318298\n",
            "\u001b[34m\u001b[1mwandb\u001b[0m:           AE Train loss 0.0\n",
            "\u001b[34m\u001b[1mwandb\u001b[0m:          Train accuracy 1.0\n",
            "\u001b[34m\u001b[1mwandb\u001b[0m:                   _step 24\n",
            "\u001b[34m\u001b[1mwandb\u001b[0m:                _runtime 6\n",
            "\u001b[34m\u001b[1mwandb\u001b[0m:              _timestamp 1601020918\n",
            "\u001b[34m\u001b[1mwandb\u001b[0m: Run history:\n",
            "\u001b[34m\u001b[1mwandb\u001b[0m:   Classifier Train loss ██▇▇▆▆▅▅▅▄▄▄▃▃▃▃▂▂▂▂▂▁▁▁▁\n",
            "\u001b[34m\u001b[1mwandb\u001b[0m:           AE Train loss █▆▅▄▃▂▂▂▁▁▁▁▁▁▁▁▁▁▁▁▁▁▁▁▁\n",
            "\u001b[34m\u001b[1mwandb\u001b[0m:          Train accuracy ▁▄▃▂▅▇▆▇█████████████████\n",
            "\u001b[34m\u001b[1mwandb\u001b[0m:                   _step ▁▁▂▂▂▂▃▃▃▄▄▄▅▅▅▅▆▆▆▇▇▇▇██\n",
            "\u001b[34m\u001b[1mwandb\u001b[0m:                _runtime ▁▂▂▂▂▄▄▄▄▄▅▅▅▅▅▇▇▇▇██████\n",
            "\u001b[34m\u001b[1mwandb\u001b[0m:              _timestamp ▁▂▂▂▂▄▄▄▄▄▅▅▅▅▅▇▇▇▇██████\n",
            "\u001b[34m\u001b[1mwandb\u001b[0m: Synced 5 W&B file(s), 1 media file(s), 0 artifact file(s) and 0 other file(s)\n",
            "\u001b[34m\u001b[1mwandb\u001b[0m: \n",
            "\u001b[34m\u001b[1mwandb\u001b[0m: Synced \u001b[33masd-diagnet-site--OHSU-fold-5-rp-1\u001b[0m: \u001b[34mhttps://wandb.ai/pindi-krishna/asd1/runs/fold-5--rp-1\u001b[0m\n",
            "\u001b[34m\u001b[1mwandb\u001b[0m: Tracking run with wandb version 0.10.2\n",
            "\u001b[34m\u001b[1mwandb\u001b[0m: Run data is saved locally in wandb/run-20200925_133159-fold-1--rp-2\n",
            "\u001b[34m\u001b[1mwandb\u001b[0m: Syncing run \u001b[33masd-diagnet-site--OHSU-fold-1-rp-2\u001b[0m\n"
          ],
          "name": "stderr"
        },
        {
          "output_type": "display_data",
          "data": {
            "text/html": [
              "\n",
              "                Logging results to <a href=\"https://wandb.com\" target=\"_blank\">Weights & Biases</a> <a href=\"https://docs.wandb.com/integrations/jupyter.html\" target=\"_blank\">(Documentation)</a>.<br/>\n",
              "                Project page: <a href=\"https://wandb.ai/pindi-krishna/asd1\" target=\"_blank\">https://wandb.ai/pindi-krishna/asd1</a><br/>\n",
              "                Run page: <a href=\"https://wandb.ai/pindi-krishna/asd1/runs/fold-1--rp-2\" target=\"_blank\">https://wandb.ai/pindi-krishna/asd1/runs/fold-1--rp-2</a><br/>\n",
              "            "
            ],
            "text/plain": [
              "<IPython.core.display.HTML object>"
            ]
          },
          "metadata": {
            "tags": []
          }
        },
        {
          "output_type": "stream",
          "text": [
            "\n",
            "Epoch 1/26\n",
            "Classifier Train loss: 0.6800, AE Train loss: 627.4689, Train Acc: 0.5500\n",
            "Epoch 2/26\n",
            "Classifier Train loss: 0.6797, AE Train loss: 422.3485, Train Acc: 0.5500\n",
            "Epoch 3/26\n",
            "Classifier Train loss: 0.6526, AE Train loss: 357.6103, Train Acc: 0.6250\n",
            "Epoch 4/26\n",
            "Classifier Train loss: 0.6218, AE Train loss: 248.8521, Train Acc: 0.8750\n",
            "Epoch 5/26\n",
            "Classifier Train loss: 0.5883, AE Train loss: 164.2108, Train Acc: 0.9500\n",
            "Epoch 6/26\n",
            "Classifier Train loss: 0.5400, AE Train loss: 113.8996, Train Acc: 0.9750\n",
            "Epoch 7/26\n",
            "Classifier Train loss: 0.5176, AE Train loss: 70.5107, Train Acc: 1.0000\n",
            "Epoch 8/26\n",
            "Classifier Train loss: 0.4877, AE Train loss: 48.7117, Train Acc: 1.0000\n",
            "Epoch 9/26\n",
            "Classifier Train loss: 0.4620, AE Train loss: 30.0618, Train Acc: 1.0000\n",
            "Epoch 10/26\n",
            "Classifier Train loss: 0.4328, AE Train loss: 21.0501, Train Acc: 1.0000\n",
            "Epoch 11/26\n",
            "Classifier Train loss: 0.4111, AE Train loss: 12.6754, Train Acc: 1.0000\n",
            "Epoch 12/26\n",
            "Classifier Train loss: 0.3869, AE Train loss: 8.1155, Train Acc: 1.0000\n",
            "Epoch 13/26\n",
            "Classifier Train loss: 0.3567, AE Train loss: 5.1436, Train Acc: 1.0000\n",
            "Epoch 14/26\n",
            "Classifier Train loss: 0.3388, AE Train loss: 3.3718, Train Acc: 1.0000\n",
            "Epoch 15/26\n",
            "Classifier Train loss: 0.3286, AE Train loss: 2.4011, Train Acc: 1.0000\n",
            "Epoch 16/26\n",
            "Classifier Train loss: 0.3149, AE Train loss: 1.6508, Train Acc: 1.0000\n",
            "Epoch 17/26\n",
            "Classifier Train loss: 0.3013, AE Train loss: 1.3200, Train Acc: 1.0000\n",
            "Epoch 18/26\n",
            "Classifier Train loss: 0.2797, AE Train loss: 1.2735, Train Acc: 1.0000\n",
            "Epoch 19/26\n",
            "Classifier Train loss: 0.2784, AE Train loss: 0.9664, Train Acc: 1.0000\n",
            "Epoch 20/26\n",
            "Classifier Train loss: 0.2620, AE Train loss: 0.8788, Train Acc: 1.0000\n",
            "Epoch 21/26\n",
            "Classifier Train loss: 0.2575, AE Train loss: 0.0000, Train Acc: 1.0000\n",
            "Epoch 22/26\n",
            "Classifier Train loss: 0.2412, AE Train loss: 0.0000, Train Acc: 1.0000\n",
            "Epoch 23/26\n",
            "Classifier Train loss: 0.2292, AE Train loss: 0.0000, Train Acc: 1.0000\n",
            "Epoch 24/26\n",
            "Classifier Train loss: 0.2228, AE Train loss: 0.0000, Train Acc: 1.0000\n",
            "Epoch 25/26\n",
            "Classifier Train loss: 0.2154, AE Train loss: 0.0000, Train Acc: 1.0000\n",
            "-----------------------------\n",
            "Fold 1/5\n",
            "{'accuracy': 0.8333, 'senstivity': 1.0, 'specificity': 0.6667, 'loss': 0.6291}\n",
            "-----------------------------\n"
          ],
          "name": "stdout"
        },
        {
          "output_type": "stream",
          "text": [
            "\u001b[34m\u001b[1mwandb\u001b[0m: Waiting for W&B process to finish, PID 3865\n",
            "\u001b[34m\u001b[1mwandb\u001b[0m: Program ended successfully.\n",
            "\u001b[34m\u001b[1mwandb\u001b[0m: - 0.00MB of 0.00MB uploaded (0.00MB deduped)\r"
          ],
          "name": "stderr"
        },
        {
          "output_type": "stream",
          "text": [
            "\n"
          ],
          "name": "stdout"
        },
        {
          "output_type": "stream",
          "text": [
            "\u001b[34m\u001b[1mwandb\u001b[0m:                                                                                \n",
            "\u001b[34m\u001b[1mwandb\u001b[0m: Find user logs for this run at: wandb/run-20200925_133159-fold-1--rp-2/logs/debug.log\n",
            "\u001b[34m\u001b[1mwandb\u001b[0m: Find internal logs for this run at: wandb/run-20200925_133159-fold-1--rp-2/logs/debug-internal.log\n",
            "\u001b[34m\u001b[1mwandb\u001b[0m: Run summary:\n",
            "\u001b[34m\u001b[1mwandb\u001b[0m:   Classifier Train loss 0.2154424488544464\n",
            "\u001b[34m\u001b[1mwandb\u001b[0m:           AE Train loss 0.0\n",
            "\u001b[34m\u001b[1mwandb\u001b[0m:          Train accuracy 1.0\n",
            "\u001b[34m\u001b[1mwandb\u001b[0m:                   _step 24\n",
            "\u001b[34m\u001b[1mwandb\u001b[0m:                _runtime 6\n",
            "\u001b[34m\u001b[1mwandb\u001b[0m:              _timestamp 1601020933\n",
            "\u001b[34m\u001b[1mwandb\u001b[0m: Run history:\n",
            "\u001b[34m\u001b[1mwandb\u001b[0m:   Classifier Train loss ███▇▇▆▆▅▅▄▄▄▃▃▃▂▂▂▂▂▂▁▁▁▁\n",
            "\u001b[34m\u001b[1mwandb\u001b[0m:           AE Train loss █▆▅▄▃▂▂▂▁▁▁▁▁▁▁▁▁▁▁▁▁▁▁▁▁\n",
            "\u001b[34m\u001b[1mwandb\u001b[0m:          Train accuracy ▁▁▂▆▇████████████████████\n",
            "\u001b[34m\u001b[1mwandb\u001b[0m:                   _step ▁▁▂▂▂▂▃▃▃▄▄▄▅▅▅▅▆▆▆▇▇▇▇██\n",
            "\u001b[34m\u001b[1mwandb\u001b[0m:                _runtime ▁▂▂▂▂▄▄▄▄▄▅▅▅▅▅▇▇▇▇██████\n",
            "\u001b[34m\u001b[1mwandb\u001b[0m:              _timestamp ▁▂▂▂▂▄▄▄▄▄▅▅▅▅▅▇▇▇▇██████\n",
            "\u001b[34m\u001b[1mwandb\u001b[0m: Synced 5 W&B file(s), 1 media file(s), 0 artifact file(s) and 0 other file(s)\n",
            "\u001b[34m\u001b[1mwandb\u001b[0m: \n",
            "\u001b[34m\u001b[1mwandb\u001b[0m: Synced \u001b[33masd-diagnet-site--OHSU-fold-1-rp-2\u001b[0m: \u001b[34mhttps://wandb.ai/pindi-krishna/asd1/runs/fold-1--rp-2\u001b[0m\n",
            "\u001b[34m\u001b[1mwandb\u001b[0m: Tracking run with wandb version 0.10.2\n",
            "\u001b[34m\u001b[1mwandb\u001b[0m: Run data is saved locally in wandb/run-20200925_133214-fold-2--rp-2\n",
            "\u001b[34m\u001b[1mwandb\u001b[0m: Syncing run \u001b[33masd-diagnet-site--OHSU-fold-2-rp-2\u001b[0m\n"
          ],
          "name": "stderr"
        },
        {
          "output_type": "display_data",
          "data": {
            "text/html": [
              "\n",
              "                Logging results to <a href=\"https://wandb.com\" target=\"_blank\">Weights & Biases</a> <a href=\"https://docs.wandb.com/integrations/jupyter.html\" target=\"_blank\">(Documentation)</a>.<br/>\n",
              "                Project page: <a href=\"https://wandb.ai/pindi-krishna/asd1\" target=\"_blank\">https://wandb.ai/pindi-krishna/asd1</a><br/>\n",
              "                Run page: <a href=\"https://wandb.ai/pindi-krishna/asd1/runs/fold-2--rp-2\" target=\"_blank\">https://wandb.ai/pindi-krishna/asd1/runs/fold-2--rp-2</a><br/>\n",
              "            "
            ],
            "text/plain": [
              "<IPython.core.display.HTML object>"
            ]
          },
          "metadata": {
            "tags": []
          }
        },
        {
          "output_type": "stream",
          "text": [
            "\n",
            "Epoch 1/26\n",
            "Classifier Train loss: 0.7110, AE Train loss: 641.0951, Train Acc: 0.4000\n",
            "Epoch 2/26\n",
            "Classifier Train loss: 0.7015, AE Train loss: 431.1020, Train Acc: 0.4000\n",
            "Epoch 3/26\n",
            "Classifier Train loss: 0.6907, AE Train loss: 377.9794, Train Acc: 0.5000\n",
            "Epoch 4/26\n",
            "Classifier Train loss: 0.6638, AE Train loss: 265.0235, Train Acc: 0.7500\n",
            "Epoch 5/26\n",
            "Classifier Train loss: 0.6357, AE Train loss: 173.8286, Train Acc: 0.9000\n",
            "Epoch 6/26\n",
            "Classifier Train loss: 0.6102, AE Train loss: 123.9261, Train Acc: 0.9000\n",
            "Epoch 7/26\n",
            "Classifier Train loss: 0.5693, AE Train loss: 81.1571, Train Acc: 0.9250\n",
            "Epoch 8/26\n",
            "Classifier Train loss: 0.5342, AE Train loss: 54.6391, Train Acc: 0.9750\n",
            "Epoch 9/26\n",
            "Classifier Train loss: 0.5280, AE Train loss: 34.9258, Train Acc: 0.9500\n",
            "Epoch 10/26\n",
            "Classifier Train loss: 0.4880, AE Train loss: 22.1537, Train Acc: 0.9500\n",
            "Epoch 11/26\n",
            "Classifier Train loss: 0.4676, AE Train loss: 14.3239, Train Acc: 0.9750\n",
            "Epoch 12/26\n",
            "Classifier Train loss: 0.4426, AE Train loss: 9.7152, Train Acc: 0.9750\n",
            "Epoch 13/26\n",
            "Classifier Train loss: 0.4161, AE Train loss: 7.1730, Train Acc: 1.0000\n",
            "Epoch 14/26\n",
            "Classifier Train loss: 0.3984, AE Train loss: 4.3630, Train Acc: 1.0000\n",
            "Epoch 15/26\n",
            "Classifier Train loss: 0.3731, AE Train loss: 3.1339, Train Acc: 1.0000\n",
            "Epoch 16/26\n",
            "Classifier Train loss: 0.3575, AE Train loss: 2.2033, Train Acc: 1.0000\n",
            "Epoch 17/26\n",
            "Classifier Train loss: 0.3469, AE Train loss: 1.6815, Train Acc: 1.0000\n",
            "Epoch 18/26\n",
            "Classifier Train loss: 0.3249, AE Train loss: 1.4181, Train Acc: 1.0000\n",
            "Epoch 19/26\n",
            "Classifier Train loss: 0.3088, AE Train loss: 1.1673, Train Acc: 1.0000\n",
            "Epoch 20/26\n",
            "Classifier Train loss: 0.2952, AE Train loss: 0.9766, Train Acc: 1.0000\n",
            "Epoch 21/26\n",
            "Classifier Train loss: 0.2913, AE Train loss: 0.0000, Train Acc: 1.0000\n",
            "Epoch 22/26\n",
            "Classifier Train loss: 0.2814, AE Train loss: 0.0000, Train Acc: 1.0000\n",
            "Epoch 23/26\n",
            "Classifier Train loss: 0.2638, AE Train loss: 0.0000, Train Acc: 1.0000\n",
            "Epoch 24/26\n",
            "Classifier Train loss: 0.2539, AE Train loss: 0.0000, Train Acc: 1.0000\n",
            "Epoch 25/26\n",
            "Classifier Train loss: 0.2457, AE Train loss: 0.0000, Train Acc: 1.0000\n",
            "-----------------------------\n",
            "Fold 2/5\n",
            "{'accuracy': 1.0, 'senstivity': 1.0, 'specificity': 1.0, 'loss': 0.5491}\n",
            "-----------------------------\n"
          ],
          "name": "stdout"
        },
        {
          "output_type": "stream",
          "text": [
            "\u001b[34m\u001b[1mwandb\u001b[0m: Waiting for W&B process to finish, PID 3996\n",
            "\u001b[34m\u001b[1mwandb\u001b[0m: Program ended successfully.\n",
            "\u001b[34m\u001b[1mwandb\u001b[0m: - 0.00MB of 0.00MB uploaded (0.00MB deduped)\r"
          ],
          "name": "stderr"
        },
        {
          "output_type": "stream",
          "text": [
            "\n"
          ],
          "name": "stdout"
        },
        {
          "output_type": "stream",
          "text": [
            "\u001b[34m\u001b[1mwandb\u001b[0m:                                                                                \n",
            "\u001b[34m\u001b[1mwandb\u001b[0m: Find user logs for this run at: wandb/run-20200925_133214-fold-2--rp-2/logs/debug.log\n",
            "\u001b[34m\u001b[1mwandb\u001b[0m: Find internal logs for this run at: wandb/run-20200925_133214-fold-2--rp-2/logs/debug-internal.log\n",
            "\u001b[34m\u001b[1mwandb\u001b[0m: Run summary:\n",
            "\u001b[34m\u001b[1mwandb\u001b[0m:   Classifier Train loss 0.2457130402326584\n",
            "\u001b[34m\u001b[1mwandb\u001b[0m:           AE Train loss 0.0\n",
            "\u001b[34m\u001b[1mwandb\u001b[0m:          Train accuracy 1.0\n",
            "\u001b[34m\u001b[1mwandb\u001b[0m:                   _step 24\n",
            "\u001b[34m\u001b[1mwandb\u001b[0m:                _runtime 6\n",
            "\u001b[34m\u001b[1mwandb\u001b[0m:              _timestamp 1601020946\n",
            "\u001b[34m\u001b[1mwandb\u001b[0m: Run history:\n",
            "\u001b[34m\u001b[1mwandb\u001b[0m:   Classifier Train loss ███▇▇▆▆▅▅▅▄▄▄▃▃▃▃▂▂▂▂▂▁▁▁\n",
            "\u001b[34m\u001b[1mwandb\u001b[0m:           AE Train loss █▆▅▄▃▂▂▂▁▁▁▁▁▁▁▁▁▁▁▁▁▁▁▁▁\n",
            "\u001b[34m\u001b[1mwandb\u001b[0m:          Train accuracy ▁▁▂▅▇▇▇█▇▇███████████████\n",
            "\u001b[34m\u001b[1mwandb\u001b[0m:                   _step ▁▁▂▂▂▂▃▃▃▄▄▄▅▅▅▅▆▆▆▇▇▇▇██\n",
            "\u001b[34m\u001b[1mwandb\u001b[0m:                _runtime ▁▂▂▂▂▂▄▄▄▄▅▅▅▅▅▇▇▇▇▇█████\n",
            "\u001b[34m\u001b[1mwandb\u001b[0m:              _timestamp ▁▂▂▂▂▂▄▄▄▄▅▅▅▅▅▇▇▇▇▇█████\n",
            "\u001b[34m\u001b[1mwandb\u001b[0m: Synced 5 W&B file(s), 1 media file(s), 0 artifact file(s) and 0 other file(s)\n",
            "\u001b[34m\u001b[1mwandb\u001b[0m: \n",
            "\u001b[34m\u001b[1mwandb\u001b[0m: Synced \u001b[33masd-diagnet-site--OHSU-fold-2-rp-2\u001b[0m: \u001b[34mhttps://wandb.ai/pindi-krishna/asd1/runs/fold-2--rp-2\u001b[0m\n",
            "\u001b[34m\u001b[1mwandb\u001b[0m: Tracking run with wandb version 0.10.2\n",
            "\u001b[34m\u001b[1mwandb\u001b[0m: Run data is saved locally in wandb/run-20200925_133227-fold-3--rp-2\n",
            "\u001b[34m\u001b[1mwandb\u001b[0m: Syncing run \u001b[33masd-diagnet-site--OHSU-fold-3-rp-2\u001b[0m\n"
          ],
          "name": "stderr"
        },
        {
          "output_type": "display_data",
          "data": {
            "text/html": [
              "\n",
              "                Logging results to <a href=\"https://wandb.com\" target=\"_blank\">Weights & Biases</a> <a href=\"https://docs.wandb.com/integrations/jupyter.html\" target=\"_blank\">(Documentation)</a>.<br/>\n",
              "                Project page: <a href=\"https://wandb.ai/pindi-krishna/asd1\" target=\"_blank\">https://wandb.ai/pindi-krishna/asd1</a><br/>\n",
              "                Run page: <a href=\"https://wandb.ai/pindi-krishna/asd1/runs/fold-3--rp-2\" target=\"_blank\">https://wandb.ai/pindi-krishna/asd1/runs/fold-3--rp-2</a><br/>\n",
              "            "
            ],
            "text/plain": [
              "<IPython.core.display.HTML object>"
            ]
          },
          "metadata": {
            "tags": []
          }
        },
        {
          "output_type": "stream",
          "text": [
            "\n",
            "Epoch 1/26\n",
            "Classifier Train loss: 0.6907, AE Train loss: 646.4810, Train Acc: 0.5500\n",
            "Epoch 2/26\n",
            "Classifier Train loss: 0.6850, AE Train loss: 431.6799, Train Acc: 0.5750\n",
            "Epoch 3/26\n",
            "Classifier Train loss: 0.6628, AE Train loss: 375.8401, Train Acc: 0.7000\n",
            "Epoch 4/26\n",
            "Classifier Train loss: 0.6403, AE Train loss: 254.7606, Train Acc: 0.8250\n",
            "Epoch 5/26\n",
            "Classifier Train loss: 0.6068, AE Train loss: 173.0053, Train Acc: 0.9750\n",
            "Epoch 6/26\n",
            "Classifier Train loss: 0.5623, AE Train loss: 118.0752, Train Acc: 1.0000\n",
            "Epoch 7/26\n",
            "Classifier Train loss: 0.5327, AE Train loss: 73.8443, Train Acc: 1.0000\n",
            "Epoch 8/26\n",
            "Classifier Train loss: 0.5004, AE Train loss: 50.7908, Train Acc: 1.0000\n",
            "Epoch 9/26\n",
            "Classifier Train loss: 0.4731, AE Train loss: 33.1642, Train Acc: 1.0000\n",
            "Epoch 10/26\n",
            "Classifier Train loss: 0.4515, AE Train loss: 21.6222, Train Acc: 1.0000\n",
            "Epoch 11/26\n",
            "Classifier Train loss: 0.4236, AE Train loss: 14.0971, Train Acc: 1.0000\n",
            "Epoch 12/26\n",
            "Classifier Train loss: 0.4012, AE Train loss: 9.6125, Train Acc: 1.0000\n",
            "Epoch 13/26\n",
            "Classifier Train loss: 0.3641, AE Train loss: 6.4827, Train Acc: 1.0000\n",
            "Epoch 14/26\n",
            "Classifier Train loss: 0.3510, AE Train loss: 4.1098, Train Acc: 1.0000\n",
            "Epoch 15/26\n",
            "Classifier Train loss: 0.3313, AE Train loss: 2.7562, Train Acc: 1.0000\n",
            "Epoch 16/26\n",
            "Classifier Train loss: 0.3213, AE Train loss: 2.1361, Train Acc: 1.0000\n",
            "Epoch 17/26\n",
            "Classifier Train loss: 0.3015, AE Train loss: 1.5888, Train Acc: 1.0000\n",
            "Epoch 18/26\n",
            "Classifier Train loss: 0.2875, AE Train loss: 1.2282, Train Acc: 1.0000\n",
            "Epoch 19/26\n",
            "Classifier Train loss: 0.2733, AE Train loss: 1.0753, Train Acc: 1.0000\n",
            "Epoch 20/26\n",
            "Classifier Train loss: 0.2637, AE Train loss: 0.9590, Train Acc: 1.0000\n",
            "Epoch 21/26\n",
            "Classifier Train loss: 0.2519, AE Train loss: 0.0000, Train Acc: 1.0000\n",
            "Epoch 22/26\n",
            "Classifier Train loss: 0.2384, AE Train loss: 0.0000, Train Acc: 1.0000\n",
            "Epoch 23/26\n",
            "Classifier Train loss: 0.2242, AE Train loss: 0.0000, Train Acc: 1.0000\n",
            "Epoch 24/26\n",
            "Classifier Train loss: 0.2219, AE Train loss: 0.0000, Train Acc: 1.0000\n",
            "Epoch 25/26\n",
            "Classifier Train loss: 0.2135, AE Train loss: 0.0000, Train Acc: 1.0000\n",
            "-----------------------------\n",
            "Fold 3/5\n",
            "{'accuracy': 0.6, 'senstivity': 0.5, 'specificity': 0.6667, 'loss': 0.6523}\n",
            "-----------------------------\n"
          ],
          "name": "stdout"
        },
        {
          "output_type": "stream",
          "text": [
            "\u001b[34m\u001b[1mwandb\u001b[0m: Waiting for W&B process to finish, PID 4135\n",
            "\u001b[34m\u001b[1mwandb\u001b[0m: Program ended successfully.\n",
            "\u001b[34m\u001b[1mwandb\u001b[0m: - 0.00MB of 0.00MB uploaded (0.00MB deduped)\r"
          ],
          "name": "stderr"
        },
        {
          "output_type": "stream",
          "text": [
            "\n"
          ],
          "name": "stdout"
        },
        {
          "output_type": "stream",
          "text": [
            "\u001b[34m\u001b[1mwandb\u001b[0m:                                                                                \n",
            "\u001b[34m\u001b[1mwandb\u001b[0m: Find user logs for this run at: wandb/run-20200925_133227-fold-3--rp-2/logs/debug.log\n",
            "\u001b[34m\u001b[1mwandb\u001b[0m: Find internal logs for this run at: wandb/run-20200925_133227-fold-3--rp-2/logs/debug-internal.log\n",
            "\u001b[34m\u001b[1mwandb\u001b[0m: Run summary:\n",
            "\u001b[34m\u001b[1mwandb\u001b[0m:   Classifier Train loss 0.21351885795593262\n",
            "\u001b[34m\u001b[1mwandb\u001b[0m:           AE Train loss 0.0\n",
            "\u001b[34m\u001b[1mwandb\u001b[0m:          Train accuracy 1.0\n",
            "\u001b[34m\u001b[1mwandb\u001b[0m:                   _step 24\n",
            "\u001b[34m\u001b[1mwandb\u001b[0m:                _runtime 6\n",
            "\u001b[34m\u001b[1mwandb\u001b[0m:              _timestamp 1601020959\n",
            "\u001b[34m\u001b[1mwandb\u001b[0m: Run history:\n",
            "\u001b[34m\u001b[1mwandb\u001b[0m:   Classifier Train loss ███▇▇▆▆▅▅▄▄▄▃▃▃▃▂▂▂▂▂▁▁▁▁\n",
            "\u001b[34m\u001b[1mwandb\u001b[0m:           AE Train loss █▆▅▄▃▂▂▂▁▁▁▁▁▁▁▁▁▁▁▁▁▁▁▁▁\n",
            "\u001b[34m\u001b[1mwandb\u001b[0m:          Train accuracy ▁▁▃▅█████████████████████\n",
            "\u001b[34m\u001b[1mwandb\u001b[0m:                   _step ▁▁▂▂▂▂▃▃▃▄▄▄▅▅▅▅▆▆▆▇▇▇▇██\n",
            "\u001b[34m\u001b[1mwandb\u001b[0m:                _runtime ▁▁▂▂▂▂▄▄▄▄▄▅▅▅▅▅▇▇▇▇█████\n",
            "\u001b[34m\u001b[1mwandb\u001b[0m:              _timestamp ▁▁▂▂▂▂▄▄▄▄▄▅▅▅▅▅▇▇▇▇█████\n",
            "\u001b[34m\u001b[1mwandb\u001b[0m: Synced 5 W&B file(s), 1 media file(s), 0 artifact file(s) and 0 other file(s)\n",
            "\u001b[34m\u001b[1mwandb\u001b[0m: \n",
            "\u001b[34m\u001b[1mwandb\u001b[0m: Synced \u001b[33masd-diagnet-site--OHSU-fold-3-rp-2\u001b[0m: \u001b[34mhttps://wandb.ai/pindi-krishna/asd1/runs/fold-3--rp-2\u001b[0m\n",
            "\u001b[34m\u001b[1mwandb\u001b[0m: Tracking run with wandb version 0.10.2\n",
            "\u001b[34m\u001b[1mwandb\u001b[0m: Run data is saved locally in wandb/run-20200925_133240-fold-4--rp-2\n",
            "\u001b[34m\u001b[1mwandb\u001b[0m: Syncing run \u001b[33masd-diagnet-site--OHSU-fold-4-rp-2\u001b[0m\n"
          ],
          "name": "stderr"
        },
        {
          "output_type": "display_data",
          "data": {
            "text/html": [
              "\n",
              "                Logging results to <a href=\"https://wandb.com\" target=\"_blank\">Weights & Biases</a> <a href=\"https://docs.wandb.com/integrations/jupyter.html\" target=\"_blank\">(Documentation)</a>.<br/>\n",
              "                Project page: <a href=\"https://wandb.ai/pindi-krishna/asd1\" target=\"_blank\">https://wandb.ai/pindi-krishna/asd1</a><br/>\n",
              "                Run page: <a href=\"https://wandb.ai/pindi-krishna/asd1/runs/fold-4--rp-2\" target=\"_blank\">https://wandb.ai/pindi-krishna/asd1/runs/fold-4--rp-2</a><br/>\n",
              "            "
            ],
            "text/plain": [
              "<IPython.core.display.HTML object>"
            ]
          },
          "metadata": {
            "tags": []
          }
        },
        {
          "output_type": "stream",
          "text": [
            "\n",
            "Epoch 1/26\n",
            "Classifier Train loss: 0.6789, AE Train loss: 647.4289, Train Acc: 0.4500\n",
            "Epoch 2/26\n",
            "Classifier Train loss: 0.6708, AE Train loss: 434.0835, Train Acc: 0.6000\n",
            "Epoch 3/26\n",
            "Classifier Train loss: 0.6504, AE Train loss: 387.7741, Train Acc: 0.7750\n",
            "Epoch 4/26\n",
            "Classifier Train loss: 0.6206, AE Train loss: 261.6013, Train Acc: 0.9000\n",
            "Epoch 5/26\n",
            "Classifier Train loss: 0.5895, AE Train loss: 178.6221, Train Acc: 0.9000\n",
            "Epoch 6/26\n",
            "Classifier Train loss: 0.5464, AE Train loss: 130.0756, Train Acc: 0.9500\n",
            "Epoch 7/26\n",
            "Classifier Train loss: 0.5175, AE Train loss: 81.3757, Train Acc: 1.0000\n",
            "Epoch 8/26\n",
            "Classifier Train loss: 0.4858, AE Train loss: 55.9490, Train Acc: 1.0000\n",
            "Epoch 9/26\n",
            "Classifier Train loss: 0.4725, AE Train loss: 37.6683, Train Acc: 1.0000\n",
            "Epoch 10/26\n",
            "Classifier Train loss: 0.4406, AE Train loss: 24.6187, Train Acc: 1.0000\n",
            "Epoch 11/26\n",
            "Classifier Train loss: 0.4177, AE Train loss: 16.1353, Train Acc: 1.0000\n",
            "Epoch 12/26\n",
            "Classifier Train loss: 0.3977, AE Train loss: 9.8589, Train Acc: 1.0000\n",
            "Epoch 13/26\n",
            "Classifier Train loss: 0.3755, AE Train loss: 6.9962, Train Acc: 1.0000\n",
            "Epoch 14/26\n",
            "Classifier Train loss: 0.3529, AE Train loss: 5.5284, Train Acc: 1.0000\n",
            "Epoch 15/26\n",
            "Classifier Train loss: 0.3395, AE Train loss: 3.8609, Train Acc: 1.0000\n",
            "Epoch 16/26\n",
            "Classifier Train loss: 0.3189, AE Train loss: 2.5130, Train Acc: 1.0000\n",
            "Epoch 17/26\n",
            "Classifier Train loss: 0.3107, AE Train loss: 2.1962, Train Acc: 1.0000\n",
            "Epoch 18/26\n",
            "Classifier Train loss: 0.2928, AE Train loss: 1.5936, Train Acc: 1.0000\n",
            "Epoch 19/26\n",
            "Classifier Train loss: 0.2806, AE Train loss: 1.3108, Train Acc: 1.0000\n",
            "Epoch 20/26\n",
            "Classifier Train loss: 0.2696, AE Train loss: 1.1381, Train Acc: 1.0000\n",
            "Epoch 21/26\n",
            "Classifier Train loss: 0.2623, AE Train loss: 0.0000, Train Acc: 1.0000\n",
            "Epoch 22/26\n",
            "Classifier Train loss: 0.2501, AE Train loss: 0.0000, Train Acc: 1.0000\n",
            "Epoch 23/26\n",
            "Classifier Train loss: 0.2457, AE Train loss: 0.0000, Train Acc: 1.0000\n",
            "Epoch 24/26\n",
            "Classifier Train loss: 0.2338, AE Train loss: 0.0000, Train Acc: 1.0000\n",
            "Epoch 25/26\n",
            "Classifier Train loss: 0.2241, AE Train loss: 0.0000, Train Acc: 1.0000\n",
            "-----------------------------\n",
            "Fold 4/5\n",
            "{'accuracy': 0.8, 'senstivity': 0.5, 'specificity': 1.0, 'loss': 0.5555}\n",
            "-----------------------------\n"
          ],
          "name": "stdout"
        },
        {
          "output_type": "stream",
          "text": [
            "\u001b[34m\u001b[1mwandb\u001b[0m: Waiting for W&B process to finish, PID 4265\n",
            "\u001b[34m\u001b[1mwandb\u001b[0m: Program ended successfully.\n",
            "\u001b[34m\u001b[1mwandb\u001b[0m: - 0.00MB of 0.00MB uploaded (0.00MB deduped)\r"
          ],
          "name": "stderr"
        },
        {
          "output_type": "stream",
          "text": [
            "\n"
          ],
          "name": "stdout"
        },
        {
          "output_type": "stream",
          "text": [
            "\u001b[34m\u001b[1mwandb\u001b[0m:                                                                                \n",
            "\u001b[34m\u001b[1mwandb\u001b[0m: Find user logs for this run at: wandb/run-20200925_133240-fold-4--rp-2/logs/debug.log\n",
            "\u001b[34m\u001b[1mwandb\u001b[0m: Find internal logs for this run at: wandb/run-20200925_133240-fold-4--rp-2/logs/debug-internal.log\n",
            "\u001b[34m\u001b[1mwandb\u001b[0m: Run summary:\n",
            "\u001b[34m\u001b[1mwandb\u001b[0m:   Classifier Train loss 0.22409796714782715\n",
            "\u001b[34m\u001b[1mwandb\u001b[0m:           AE Train loss 0.0\n",
            "\u001b[34m\u001b[1mwandb\u001b[0m:          Train accuracy 1.0\n",
            "\u001b[34m\u001b[1mwandb\u001b[0m:                   _step 24\n",
            "\u001b[34m\u001b[1mwandb\u001b[0m:                _runtime 7\n",
            "\u001b[34m\u001b[1mwandb\u001b[0m:              _timestamp 1601020973\n",
            "\u001b[34m\u001b[1mwandb\u001b[0m: Run history:\n",
            "\u001b[34m\u001b[1mwandb\u001b[0m:   Classifier Train loss ███▇▇▆▆▅▅▄▄▄▃▃▃▂▂▂▂▂▂▁▁▁▁\n",
            "\u001b[34m\u001b[1mwandb\u001b[0m:           AE Train loss █▆▅▄▃▂▂▂▁▁▁▁▁▁▁▁▁▁▁▁▁▁▁▁▁\n",
            "\u001b[34m\u001b[1mwandb\u001b[0m:          Train accuracy ▁▃▅▇▇▇███████████████████\n",
            "\u001b[34m\u001b[1mwandb\u001b[0m:                   _step ▁▁▂▂▂▂▃▃▃▄▄▄▅▅▅▅▆▆▆▇▇▇▇██\n",
            "\u001b[34m\u001b[1mwandb\u001b[0m:                _runtime ▁▂▂▂▂▃▃▃▃▃▅▅▅▅▆▆▆▆▆▇▇▇▇▇█\n",
            "\u001b[34m\u001b[1mwandb\u001b[0m:              _timestamp ▁▂▂▂▂▃▃▃▃▃▅▅▅▅▆▆▆▆▆▇▇▇▇▇█\n",
            "\u001b[34m\u001b[1mwandb\u001b[0m: Synced 5 W&B file(s), 1 media file(s), 0 artifact file(s) and 0 other file(s)\n",
            "\u001b[34m\u001b[1mwandb\u001b[0m: \n",
            "\u001b[34m\u001b[1mwandb\u001b[0m: Synced \u001b[33masd-diagnet-site--OHSU-fold-4-rp-2\u001b[0m: \u001b[34mhttps://wandb.ai/pindi-krishna/asd1/runs/fold-4--rp-2\u001b[0m\n",
            "\u001b[34m\u001b[1mwandb\u001b[0m: Tracking run with wandb version 0.10.2\n",
            "\u001b[34m\u001b[1mwandb\u001b[0m: Run data is saved locally in wandb/run-20200925_133253-fold-5--rp-2\n",
            "\u001b[34m\u001b[1mwandb\u001b[0m: Syncing run \u001b[33masd-diagnet-site--OHSU-fold-5-rp-2\u001b[0m\n"
          ],
          "name": "stderr"
        },
        {
          "output_type": "display_data",
          "data": {
            "text/html": [
              "\n",
              "                Logging results to <a href=\"https://wandb.com\" target=\"_blank\">Weights & Biases</a> <a href=\"https://docs.wandb.com/integrations/jupyter.html\" target=\"_blank\">(Documentation)</a>.<br/>\n",
              "                Project page: <a href=\"https://wandb.ai/pindi-krishna/asd1\" target=\"_blank\">https://wandb.ai/pindi-krishna/asd1</a><br/>\n",
              "                Run page: <a href=\"https://wandb.ai/pindi-krishna/asd1/runs/fold-5--rp-2\" target=\"_blank\">https://wandb.ai/pindi-krishna/asd1/runs/fold-5--rp-2</a><br/>\n",
              "            "
            ],
            "text/plain": [
              "<IPython.core.display.HTML object>"
            ]
          },
          "metadata": {
            "tags": []
          }
        },
        {
          "output_type": "stream",
          "text": [
            "\n",
            "Epoch 1/26\n",
            "Classifier Train loss: 0.6968, AE Train loss: 639.1667, Train Acc: 0.6000\n",
            "Epoch 2/26\n",
            "Classifier Train loss: 0.6875, AE Train loss: 443.8496, Train Acc: 0.6500\n",
            "Epoch 3/26\n",
            "Classifier Train loss: 0.6510, AE Train loss: 391.1742, Train Acc: 0.6000\n",
            "Epoch 4/26\n",
            "Classifier Train loss: 0.6206, AE Train loss: 256.7818, Train Acc: 0.5500\n",
            "Epoch 5/26\n",
            "Classifier Train loss: 0.5771, AE Train loss: 179.9736, Train Acc: 0.6750\n",
            "Epoch 6/26\n",
            "Classifier Train loss: 0.5326, AE Train loss: 119.9725, Train Acc: 0.8500\n",
            "Epoch 7/26\n",
            "Classifier Train loss: 0.5207, AE Train loss: 82.2343, Train Acc: 0.9000\n",
            "Epoch 8/26\n",
            "Classifier Train loss: 0.4895, AE Train loss: 53.2690, Train Acc: 0.9500\n",
            "Epoch 9/26\n",
            "Classifier Train loss: 0.4638, AE Train loss: 35.1413, Train Acc: 0.9750\n",
            "Epoch 10/26\n",
            "Classifier Train loss: 0.4413, AE Train loss: 23.1502, Train Acc: 0.9750\n",
            "Epoch 11/26\n",
            "Classifier Train loss: 0.4214, AE Train loss: 16.7047, Train Acc: 1.0000\n",
            "Epoch 12/26\n",
            "Classifier Train loss: 0.3873, AE Train loss: 10.5827, Train Acc: 1.0000\n",
            "Epoch 13/26\n",
            "Classifier Train loss: 0.3746, AE Train loss: 6.8910, Train Acc: 1.0000\n",
            "Epoch 14/26\n",
            "Classifier Train loss: 0.3404, AE Train loss: 4.6068, Train Acc: 1.0000\n",
            "Epoch 15/26\n",
            "Classifier Train loss: 0.3268, AE Train loss: 3.4260, Train Acc: 1.0000\n",
            "Epoch 16/26\n",
            "Classifier Train loss: 0.3114, AE Train loss: 2.3993, Train Acc: 1.0000\n",
            "Epoch 17/26\n",
            "Classifier Train loss: 0.3023, AE Train loss: 1.8230, Train Acc: 1.0000\n",
            "Epoch 18/26\n",
            "Classifier Train loss: 0.2941, AE Train loss: 1.2963, Train Acc: 1.0000\n",
            "Epoch 19/26\n",
            "Classifier Train loss: 0.2787, AE Train loss: 1.2189, Train Acc: 1.0000\n",
            "Epoch 20/26\n",
            "Classifier Train loss: 0.2698, AE Train loss: 1.0712, Train Acc: 1.0000\n",
            "Epoch 21/26\n",
            "Classifier Train loss: 0.2566, AE Train loss: 0.0000, Train Acc: 1.0000\n",
            "Epoch 22/26\n",
            "Classifier Train loss: 0.2407, AE Train loss: 0.0000, Train Acc: 1.0000\n",
            "Epoch 23/26\n",
            "Classifier Train loss: 0.2322, AE Train loss: 0.0000, Train Acc: 1.0000\n",
            "Epoch 24/26\n",
            "Classifier Train loss: 0.2269, AE Train loss: 0.0000, Train Acc: 1.0000\n",
            "Epoch 25/26\n",
            "Classifier Train loss: 0.2177, AE Train loss: 0.0000, Train Acc: 1.0000\n",
            "-----------------------------\n",
            "Fold 5/5\n",
            "{'accuracy': 0.4, 'senstivity': 0.0, 'specificity': 1.0, 'loss': 0.6888}\n",
            "-----------------------------\n",
            "*********************************\n",
            "Average Value after 5 Folds and repeats  2------->\n",
            "Accuracy: 0.7267, Senstivity: 0.6, Specificity: 0.8667, Loss: 0.6150000095367432\n",
            "*********************************\n",
            "Average Value after  2  Repeat : \n",
            "Accuracy: 0.7867, Senstivity: 0.7167, Specificity: 0.8667, Loss: 0.5906000137329102\n",
            "152.89449787139893\n"
          ],
          "name": "stdout"
        }
      ]
    },
    {
      "cell_type": "code",
      "metadata": {
        "id": "yNCsXsEGC5gx"
      },
      "source": [
        "\n",
        "# if p_Method == \"ASD-DiagNet\" and p_mode == \"percenter\":\n",
        "#     num_corr = len(all_corr[flist[0]][0])\n",
        "\n",
        "#     flist = os.listdir(data_main_path)\n",
        "\n",
        "#     for f in range(len(flist)):\n",
        "#         flist[f] = get_key(flist[f])\n",
        "    \n",
        "#     centers_dict = {}\n",
        "#     for f in flist:\n",
        "#         key = f.split('_')[0]\n",
        "\n",
        "#         if key not in centers_dict:\n",
        "#             centers_dict[key] = []\n",
        "#         centers_dict[key].append(f)\n",
        "\n",
        "    \n",
        "\n",
        "#     flist = np.array(centers_dict[p_center])\n",
        "    \n",
        "#     start =time.time()\n",
        "#     #flist = np.array(sorted(os.listdir(data_main_path)))\n",
        "#     batch_size = 8\n",
        "#     learning_rate_ae, learning_rate_clf = 0.0001, 0.0001\n",
        "#     num_epochs = 25\n",
        "\n",
        "#     p_bernoulli = None\n",
        "#     augmentation = p_augmentation\n",
        "#     use_dropout = False\n",
        "\n",
        "#     aug_factor = 2\n",
        "#     num_neighbs = 5\n",
        "#     lim4sim = 2\n",
        "#     n_lat = int(num_corr/4)\n",
        "\n",
        "\n",
        "#     print('p_bernoulli: ', p_bernoulli)\n",
        "#     print('augmentaiton: ', augmentation, 'aug_factor: ', aug_factor, \n",
        "#           'num_neighbs: ', num_neighbs, 'lim4sim: ', lim4sim)\n",
        "#     print('use_dropout: ', use_dropout, '\\n')\n",
        "\n",
        "\n",
        "#     sim_function = functools.partial(cal_similarity, lim=lim4sim)\n",
        "#     all_rp_res=[]\n",
        "#     y_arr = np.array([get_label(f) for f in flist])\n",
        "\n",
        "#     kk=0 \n",
        "#     crossval_res_kol_kol=[]\n",
        "#     for rp in range(10):\n",
        "#         print(\"========================\")\n",
        "#         crossval_res_kol = []\n",
        "#         start= time.time()\n",
        "#         kf = StratifiedKFold(n_splits=p_fold)\n",
        "#         #np.random.shuffle(flist)\n",
        "#         y_arr = np.array([get_label(f) for f in flist])\n",
        "#         for kk,(train_index, test_index) in enumerate(kf.split(flist, y_arr)):\n",
        "        \n",
        "#             train_samples, test_samples = flist[train_index], flist[test_index]\n",
        "\n",
        "#             verbose = (True if (kk == 0) else False)\n",
        "\n",
        "#             regions_inds = get_regs(train_samples,int(num_corr/4))\n",
        "#             num_inpp = len(regions_inds)\n",
        "#             n_lat = int(num_inpp/2)\n",
        "#             num_inpp = len(regions_inds)\n",
        "#             train_loader=get_loader(data=all_corr, samples_list=train_samples, \n",
        "#                                     batch_size=batch_size, mode='train',\n",
        "#                                     augmentation=augmentation, aug_factor=aug_factor, \n",
        "#                                     num_neighbs=num_neighbs, eig_data=eig_data, similarity_fn=sim_function, \n",
        "#                                     verbose=verbose,regions=regions_inds)\n",
        "\n",
        "#             test_loader=get_loader(data=all_corr, samples_list=test_samples, \n",
        "#                                    batch_size=batch_size, mode='test', augmentation=False, \n",
        "#                                    verbose=verbose,regions=regions_inds)\n",
        "\n",
        "#             model = MTAutoEncoder(tied=True, num_inputs=num_inpp, num_latent=n_lat, use_dropout=use_dropout)\n",
        "#             model.to(device)\n",
        "#             criterion_ae = nn.MSELoss(reduction='sum')\n",
        "#             criterion_clf = nn.BCEWithLogitsLoss()\n",
        "#             optimizer = optim.SGD([{'params': model.fc_encoder.parameters(), 'lr': learning_rate_ae},\n",
        "#                                    {'params': model.classifier.parameters(), 'lr': learning_rate_clf}],\n",
        "#                                   momentum=0.9)\n",
        "\n",
        "#             for epoch in range(1, num_epochs+1):\n",
        "#                 if epoch <= 20:\n",
        "#                     train_losses = train(model, epoch, train_loader, p_bernoulli, mode='both')\n",
        "#                 else:\n",
        "#                     train_losses = train(model, epoch, train_loader, p_bernoulli, mode='clf')\n",
        "\n",
        "\n",
        "#             res_mlp = test(model, criterion_ae, test_loader, eval_classifier=True)\n",
        "#             #print(\"fold\",kk+1,\":\",test(model, criterion_ae, test_loader, eval_classifier=True))\n",
        "#             crossval_res_kol.append(res_mlp)\n",
        "#         print(\"Result of repeat \",rp,\":\")\n",
        "#         print(np.mean(np.array(crossval_res_kol),axis = 0))\n",
        "#         all_rp_res.append(np.mean(np.array(crossval_res_kol),axis = 0))\n",
        "#         finish= time.time()\n",
        "\n",
        "#         print(\"Running time:\",finish-start)\n",
        "#     print(\"Avergae result of 10 repeats: \",np.mean(np.array(all_rp_res),axis = 0))"
      ],
      "execution_count": null,
      "outputs": []
    },
    {
      "cell_type": "code",
      "metadata": {
        "id": "X5LTqKIoC5g2"
      },
      "source": [
        "# if p_Method != \"ASD-DiagNet\" and p_mode == \"whole\":\n",
        "    \n",
        "#     clf = SVC(gamma = 'auto') if  p_Method == 'SVM' else RandomForestClassifier(n_estimators=100)\n",
        "#     overall_result = []\n",
        "#     for rp in range(10):\n",
        "#         kf = StratifiedKFold(n_splits=p_fold, random_state=1, shuffle=True)\n",
        "#         np.random.shuffle(flist)\n",
        "#         y_arr = np.array([get_label(f) for f in flist])\n",
        "#         res = []\n",
        "#         for kk,(train_index, test_index) in enumerate(kf.split(flist, y_arr)):\n",
        "#             train_samples, test_samples = np.array(flist)[train_index], np.array(flist)[test_index]\n",
        "#             train_data = []\n",
        "#             train_labels = []\n",
        "#             test_data = []\n",
        "#             test_labels = []\n",
        "\n",
        "#             for i in train_samples:\n",
        "#                 train_data.append(all_corr[i][0])\n",
        "#                 train_labels.append(all_corr[i][1])\n",
        "\n",
        "#             for i in test_samples:\n",
        "#                 test_data.append(all_corr[i][0])\n",
        "#                 test_labels.append(all_corr[i][1])\n",
        "\n",
        "            \n",
        "#             clf.fit(train_data,train_labels)\n",
        "#             pr = clf.predict(test_data)\n",
        "#             res.append(confusion(test_labels,pr))\n",
        "        \n",
        "#         print(\"repeat: \",rp,np.mean(res, axis=0).tolist())\n",
        "#         overall_result.append(np.mean(res, axis=0).tolist())   \n",
        "#     print(\"---------------Result of repeating 10 times-------------------\")\n",
        "#     print(np.mean(np.array(overall_result), axis=0).tolist())"
      ],
      "execution_count": null,
      "outputs": []
    },
    {
      "cell_type": "code",
      "metadata": {
        "id": "eRR89TvUC5g6"
      },
      "source": [
        "# random.seed(19)\n",
        "# np.random.seed(19)\n",
        "# if p_Method != \"ASD-DiagNet\" and p_mode == \"percenter\":\n",
        "    \n",
        "#     clf = SVC(gamma = 'auto') if  p_Method == 'SVM' else RandomForestClassifier(n_estimators=100)\n",
        "#     overall_result = []\n",
        "#     for rp in range(10):\n",
        "#         kf = StratifiedKFold(n_splits=p_fold, random_state=1, shuffle=True)\n",
        "#         np.random.shuffle(flist)\n",
        "#         y_arr = np.array([get_label(f) for f in flist])\n",
        "#         res = []\n",
        "#         for kk,(train_index, test_index) in enumerate(kf.split(flist, y_arr)):\n",
        "#             train_samples, test_samples = np.array(flist)[train_index], np.array(flist)[test_index]\n",
        "#             train_data = []\n",
        "#             train_labels = []\n",
        "#             test_data = []\n",
        "#             test_labels = []\n",
        "\n",
        "#             for i in train_samples:\n",
        "#                 train_data.append(all_corr[i][0])\n",
        "#                 train_labels.append(all_corr[i][1])\n",
        "\n",
        "#             for i in test_samples:\n",
        "#                 test_data.append(all_corr[i][0])\n",
        "#                 test_labels.append(all_corr[i][1])\n",
        "\n",
        "#             clf.fit(train_data,train_labels)\n",
        "#             pr = clf.predict(test_data)\n",
        "#             res.append(confusion(test_labels,pr))\n",
        "        \n",
        "#         print(\"repeat: \",rp,np.mean(res, axis=0).tolist())\n",
        "#         overall_result.append(np.mean(res, axis=0).tolist())   \n",
        "#     print(\"---------------Result of repeating 10 times for: \",p_center,\"-------------------\")\n",
        "#     print(np.mean(np.array(overall_result), axis=0).tolist())"
      ],
      "execution_count": null,
      "outputs": []
    },
    {
      "cell_type": "code",
      "metadata": {
        "id": "UTTu1Zd3C5g9"
      },
      "source": [
        ""
      ],
      "execution_count": null,
      "outputs": []
    },
    {
      "cell_type": "code",
      "metadata": {
        "id": "thVZeKFIC5g_"
      },
      "source": [
        ""
      ],
      "execution_count": null,
      "outputs": []
    },
    {
      "cell_type": "code",
      "metadata": {
        "id": "a3FP02t0C5hC"
      },
      "source": [
        ""
      ],
      "execution_count": null,
      "outputs": []
    }
  ]
}
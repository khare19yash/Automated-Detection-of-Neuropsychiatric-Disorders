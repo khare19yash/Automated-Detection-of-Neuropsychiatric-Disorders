{
  "nbformat": 4,
  "nbformat_minor": 0,
  "metadata": {
    "celltoolbar": "Tags",
    "kernelspec": {
      "display_name": "Python 3",
      "language": "python",
      "name": "python3"
    },
    "language_info": {
      "codemirror_mode": {
        "name": "ipython",
        "version": 3
      },
      "file_extension": ".py",
      "mimetype": "text/x-python",
      "name": "python",
      "nbconvert_exporter": "python",
      "pygments_lexer": "ipython3",
      "version": "3.8.5"
    },
    "colab": {
      "name": "ASD_DiagNet_new.ipynb",
      "provenance": [],
      "collapsed_sections": [
        "6XVG5ceFC5fe",
        "YoNL8usFC5fx",
        "iCmPpUGLC5f0",
        "hT8t6yLFC5f4",
        "u2D2ij5jBdwj",
        "VLkBYPFKCap7",
        "YPBVW9Oh48hr",
        "D2bHabzWC5gu"
      ],
      "include_colab_link": true
    },
    "accelerator": "GPU",
    "widgets": {
      "application/vnd.jupyter.widget-state+json": {
        "da94d572d8e24f808738f309b0b33338": {
          "model_module": "@jupyter-widgets/controls",
          "model_name": "VBoxModel",
          "state": {
            "_view_name": "VBoxView",
            "_dom_classes": [],
            "_model_name": "VBoxModel",
            "_view_module": "@jupyter-widgets/controls",
            "_model_module_version": "1.5.0",
            "_view_count": null,
            "_view_module_version": "1.5.0",
            "box_style": "",
            "layout": "IPY_MODEL_eda9a4b8a5e7488db72716b01219c21c",
            "_model_module": "@jupyter-widgets/controls",
            "children": [
              "IPY_MODEL_91b85e71932340feb00407779badb3bf",
              "IPY_MODEL_adab86c7a20b4dde8d4a6855d8b2e7da"
            ]
          }
        },
        "eda9a4b8a5e7488db72716b01219c21c": {
          "model_module": "@jupyter-widgets/base",
          "model_name": "LayoutModel",
          "state": {
            "_view_name": "LayoutView",
            "grid_template_rows": null,
            "right": null,
            "justify_content": null,
            "_view_module": "@jupyter-widgets/base",
            "overflow": null,
            "_model_module_version": "1.2.0",
            "_view_count": null,
            "flex_flow": null,
            "width": null,
            "min_width": null,
            "border": null,
            "align_items": null,
            "bottom": null,
            "_model_module": "@jupyter-widgets/base",
            "top": null,
            "grid_column": null,
            "overflow_y": null,
            "overflow_x": null,
            "grid_auto_flow": null,
            "grid_area": null,
            "grid_template_columns": null,
            "flex": null,
            "_model_name": "LayoutModel",
            "justify_items": null,
            "grid_row": null,
            "max_height": null,
            "align_content": null,
            "visibility": null,
            "align_self": null,
            "height": null,
            "min_height": null,
            "padding": null,
            "grid_auto_rows": null,
            "grid_gap": null,
            "max_width": null,
            "order": null,
            "_view_module_version": "1.2.0",
            "grid_template_areas": null,
            "object_position": null,
            "object_fit": null,
            "grid_auto_columns": null,
            "margin": null,
            "display": null,
            "left": null
          }
        },
        "91b85e71932340feb00407779badb3bf": {
          "model_module": "@jupyter-widgets/controls",
          "model_name": "LabelModel",
          "state": {
            "_view_name": "LabelView",
            "style": "IPY_MODEL_9c83bf7a131f4740a11a634d0927bf6e",
            "_dom_classes": [],
            "description": "",
            "_model_name": "LabelModel",
            "placeholder": "​",
            "_view_module": "@jupyter-widgets/controls",
            "_model_module_version": "1.5.0",
            "value": " 0.01MB of 0.01MB uploaded (0.00MB deduped)\r",
            "_view_count": null,
            "_view_module_version": "1.5.0",
            "description_tooltip": null,
            "_model_module": "@jupyter-widgets/controls",
            "layout": "IPY_MODEL_c98faf35b1014f7294fe4ad083df8f0c"
          }
        },
        "adab86c7a20b4dde8d4a6855d8b2e7da": {
          "model_module": "@jupyter-widgets/controls",
          "model_name": "FloatProgressModel",
          "state": {
            "_view_name": "ProgressView",
            "style": "IPY_MODEL_3266142ba35a4482ae7b688524e4ae41",
            "_dom_classes": [],
            "description": "",
            "_model_name": "FloatProgressModel",
            "bar_style": "",
            "max": 1,
            "_view_module": "@jupyter-widgets/controls",
            "_model_module_version": "1.5.0",
            "value": 1,
            "_view_count": null,
            "_view_module_version": "1.5.0",
            "orientation": "horizontal",
            "min": 0,
            "description_tooltip": null,
            "_model_module": "@jupyter-widgets/controls",
            "layout": "IPY_MODEL_a166de73f1464efeb4e81c8f560b0dc3"
          }
        },
        "9c83bf7a131f4740a11a634d0927bf6e": {
          "model_module": "@jupyter-widgets/controls",
          "model_name": "DescriptionStyleModel",
          "state": {
            "_view_name": "StyleView",
            "_model_name": "DescriptionStyleModel",
            "description_width": "",
            "_view_module": "@jupyter-widgets/base",
            "_model_module_version": "1.5.0",
            "_view_count": null,
            "_view_module_version": "1.2.0",
            "_model_module": "@jupyter-widgets/controls"
          }
        },
        "c98faf35b1014f7294fe4ad083df8f0c": {
          "model_module": "@jupyter-widgets/base",
          "model_name": "LayoutModel",
          "state": {
            "_view_name": "LayoutView",
            "grid_template_rows": null,
            "right": null,
            "justify_content": null,
            "_view_module": "@jupyter-widgets/base",
            "overflow": null,
            "_model_module_version": "1.2.0",
            "_view_count": null,
            "flex_flow": null,
            "width": null,
            "min_width": null,
            "border": null,
            "align_items": null,
            "bottom": null,
            "_model_module": "@jupyter-widgets/base",
            "top": null,
            "grid_column": null,
            "overflow_y": null,
            "overflow_x": null,
            "grid_auto_flow": null,
            "grid_area": null,
            "grid_template_columns": null,
            "flex": null,
            "_model_name": "LayoutModel",
            "justify_items": null,
            "grid_row": null,
            "max_height": null,
            "align_content": null,
            "visibility": null,
            "align_self": null,
            "height": null,
            "min_height": null,
            "padding": null,
            "grid_auto_rows": null,
            "grid_gap": null,
            "max_width": null,
            "order": null,
            "_view_module_version": "1.2.0",
            "grid_template_areas": null,
            "object_position": null,
            "object_fit": null,
            "grid_auto_columns": null,
            "margin": null,
            "display": null,
            "left": null
          }
        },
        "3266142ba35a4482ae7b688524e4ae41": {
          "model_module": "@jupyter-widgets/controls",
          "model_name": "ProgressStyleModel",
          "state": {
            "_view_name": "StyleView",
            "_model_name": "ProgressStyleModel",
            "description_width": "",
            "_view_module": "@jupyter-widgets/base",
            "_model_module_version": "1.5.0",
            "_view_count": null,
            "_view_module_version": "1.2.0",
            "bar_color": null,
            "_model_module": "@jupyter-widgets/controls"
          }
        },
        "a166de73f1464efeb4e81c8f560b0dc3": {
          "model_module": "@jupyter-widgets/base",
          "model_name": "LayoutModel",
          "state": {
            "_view_name": "LayoutView",
            "grid_template_rows": null,
            "right": null,
            "justify_content": null,
            "_view_module": "@jupyter-widgets/base",
            "overflow": null,
            "_model_module_version": "1.2.0",
            "_view_count": null,
            "flex_flow": null,
            "width": null,
            "min_width": null,
            "border": null,
            "align_items": null,
            "bottom": null,
            "_model_module": "@jupyter-widgets/base",
            "top": null,
            "grid_column": null,
            "overflow_y": null,
            "overflow_x": null,
            "grid_auto_flow": null,
            "grid_area": null,
            "grid_template_columns": null,
            "flex": null,
            "_model_name": "LayoutModel",
            "justify_items": null,
            "grid_row": null,
            "max_height": null,
            "align_content": null,
            "visibility": null,
            "align_self": null,
            "height": null,
            "min_height": null,
            "padding": null,
            "grid_auto_rows": null,
            "grid_gap": null,
            "max_width": null,
            "order": null,
            "_view_module_version": "1.2.0",
            "grid_template_areas": null,
            "object_position": null,
            "object_fit": null,
            "grid_auto_columns": null,
            "margin": null,
            "display": null,
            "left": null
          }
        },
        "1051d7dff6df4c80af5d2019a81e790b": {
          "model_module": "@jupyter-widgets/controls",
          "model_name": "VBoxModel",
          "state": {
            "_view_name": "VBoxView",
            "_dom_classes": [],
            "_model_name": "VBoxModel",
            "_view_module": "@jupyter-widgets/controls",
            "_model_module_version": "1.5.0",
            "_view_count": null,
            "_view_module_version": "1.5.0",
            "box_style": "",
            "layout": "IPY_MODEL_7c267f198d6444abbc708155dc639338",
            "_model_module": "@jupyter-widgets/controls",
            "children": [
              "IPY_MODEL_dd1e4d50303648fea28b8b45be18fad9",
              "IPY_MODEL_7eca78fc1b2a4922b02d384212be88e9"
            ]
          }
        },
        "7c267f198d6444abbc708155dc639338": {
          "model_module": "@jupyter-widgets/base",
          "model_name": "LayoutModel",
          "state": {
            "_view_name": "LayoutView",
            "grid_template_rows": null,
            "right": null,
            "justify_content": null,
            "_view_module": "@jupyter-widgets/base",
            "overflow": null,
            "_model_module_version": "1.2.0",
            "_view_count": null,
            "flex_flow": null,
            "width": null,
            "min_width": null,
            "border": null,
            "align_items": null,
            "bottom": null,
            "_model_module": "@jupyter-widgets/base",
            "top": null,
            "grid_column": null,
            "overflow_y": null,
            "overflow_x": null,
            "grid_auto_flow": null,
            "grid_area": null,
            "grid_template_columns": null,
            "flex": null,
            "_model_name": "LayoutModel",
            "justify_items": null,
            "grid_row": null,
            "max_height": null,
            "align_content": null,
            "visibility": null,
            "align_self": null,
            "height": null,
            "min_height": null,
            "padding": null,
            "grid_auto_rows": null,
            "grid_gap": null,
            "max_width": null,
            "order": null,
            "_view_module_version": "1.2.0",
            "grid_template_areas": null,
            "object_position": null,
            "object_fit": null,
            "grid_auto_columns": null,
            "margin": null,
            "display": null,
            "left": null
          }
        },
        "dd1e4d50303648fea28b8b45be18fad9": {
          "model_module": "@jupyter-widgets/controls",
          "model_name": "LabelModel",
          "state": {
            "_view_name": "LabelView",
            "style": "IPY_MODEL_2c539d0205f947e999323c9b7efcee54",
            "_dom_classes": [],
            "description": "",
            "_model_name": "LabelModel",
            "placeholder": "​",
            "_view_module": "@jupyter-widgets/controls",
            "_model_module_version": "1.5.0",
            "value": " 0.01MB of 0.01MB uploaded (0.00MB deduped)\r",
            "_view_count": null,
            "_view_module_version": "1.5.0",
            "description_tooltip": null,
            "_model_module": "@jupyter-widgets/controls",
            "layout": "IPY_MODEL_3b115121634d4230b60ed79e5310af00"
          }
        },
        "7eca78fc1b2a4922b02d384212be88e9": {
          "model_module": "@jupyter-widgets/controls",
          "model_name": "FloatProgressModel",
          "state": {
            "_view_name": "ProgressView",
            "style": "IPY_MODEL_e856ea08ac0b44759d8c039adcd17810",
            "_dom_classes": [],
            "description": "",
            "_model_name": "FloatProgressModel",
            "bar_style": "",
            "max": 1,
            "_view_module": "@jupyter-widgets/controls",
            "_model_module_version": "1.5.0",
            "value": 1,
            "_view_count": null,
            "_view_module_version": "1.5.0",
            "orientation": "horizontal",
            "min": 0,
            "description_tooltip": null,
            "_model_module": "@jupyter-widgets/controls",
            "layout": "IPY_MODEL_11adfb879e3f45ac80c8c2bd18add8a1"
          }
        },
        "2c539d0205f947e999323c9b7efcee54": {
          "model_module": "@jupyter-widgets/controls",
          "model_name": "DescriptionStyleModel",
          "state": {
            "_view_name": "StyleView",
            "_model_name": "DescriptionStyleModel",
            "description_width": "",
            "_view_module": "@jupyter-widgets/base",
            "_model_module_version": "1.5.0",
            "_view_count": null,
            "_view_module_version": "1.2.0",
            "_model_module": "@jupyter-widgets/controls"
          }
        },
        "3b115121634d4230b60ed79e5310af00": {
          "model_module": "@jupyter-widgets/base",
          "model_name": "LayoutModel",
          "state": {
            "_view_name": "LayoutView",
            "grid_template_rows": null,
            "right": null,
            "justify_content": null,
            "_view_module": "@jupyter-widgets/base",
            "overflow": null,
            "_model_module_version": "1.2.0",
            "_view_count": null,
            "flex_flow": null,
            "width": null,
            "min_width": null,
            "border": null,
            "align_items": null,
            "bottom": null,
            "_model_module": "@jupyter-widgets/base",
            "top": null,
            "grid_column": null,
            "overflow_y": null,
            "overflow_x": null,
            "grid_auto_flow": null,
            "grid_area": null,
            "grid_template_columns": null,
            "flex": null,
            "_model_name": "LayoutModel",
            "justify_items": null,
            "grid_row": null,
            "max_height": null,
            "align_content": null,
            "visibility": null,
            "align_self": null,
            "height": null,
            "min_height": null,
            "padding": null,
            "grid_auto_rows": null,
            "grid_gap": null,
            "max_width": null,
            "order": null,
            "_view_module_version": "1.2.0",
            "grid_template_areas": null,
            "object_position": null,
            "object_fit": null,
            "grid_auto_columns": null,
            "margin": null,
            "display": null,
            "left": null
          }
        },
        "e856ea08ac0b44759d8c039adcd17810": {
          "model_module": "@jupyter-widgets/controls",
          "model_name": "ProgressStyleModel",
          "state": {
            "_view_name": "StyleView",
            "_model_name": "ProgressStyleModel",
            "description_width": "",
            "_view_module": "@jupyter-widgets/base",
            "_model_module_version": "1.5.0",
            "_view_count": null,
            "_view_module_version": "1.2.0",
            "bar_color": null,
            "_model_module": "@jupyter-widgets/controls"
          }
        },
        "11adfb879e3f45ac80c8c2bd18add8a1": {
          "model_module": "@jupyter-widgets/base",
          "model_name": "LayoutModel",
          "state": {
            "_view_name": "LayoutView",
            "grid_template_rows": null,
            "right": null,
            "justify_content": null,
            "_view_module": "@jupyter-widgets/base",
            "overflow": null,
            "_model_module_version": "1.2.0",
            "_view_count": null,
            "flex_flow": null,
            "width": null,
            "min_width": null,
            "border": null,
            "align_items": null,
            "bottom": null,
            "_model_module": "@jupyter-widgets/base",
            "top": null,
            "grid_column": null,
            "overflow_y": null,
            "overflow_x": null,
            "grid_auto_flow": null,
            "grid_area": null,
            "grid_template_columns": null,
            "flex": null,
            "_model_name": "LayoutModel",
            "justify_items": null,
            "grid_row": null,
            "max_height": null,
            "align_content": null,
            "visibility": null,
            "align_self": null,
            "height": null,
            "min_height": null,
            "padding": null,
            "grid_auto_rows": null,
            "grid_gap": null,
            "max_width": null,
            "order": null,
            "_view_module_version": "1.2.0",
            "grid_template_areas": null,
            "object_position": null,
            "object_fit": null,
            "grid_auto_columns": null,
            "margin": null,
            "display": null,
            "left": null
          }
        },
        "7e6cd27843fb460dbea75179be4d9fea": {
          "model_module": "@jupyter-widgets/controls",
          "model_name": "VBoxModel",
          "state": {
            "_view_name": "VBoxView",
            "_dom_classes": [],
            "_model_name": "VBoxModel",
            "_view_module": "@jupyter-widgets/controls",
            "_model_module_version": "1.5.0",
            "_view_count": null,
            "_view_module_version": "1.5.0",
            "box_style": "",
            "layout": "IPY_MODEL_7b0d6c1739aa45a3ab2ca4a0a013bbcd",
            "_model_module": "@jupyter-widgets/controls",
            "children": [
              "IPY_MODEL_c303bd05db284050ad3d915157f5babb",
              "IPY_MODEL_5ddc436d7fe74c3d92c3b12922f32370"
            ]
          }
        },
        "7b0d6c1739aa45a3ab2ca4a0a013bbcd": {
          "model_module": "@jupyter-widgets/base",
          "model_name": "LayoutModel",
          "state": {
            "_view_name": "LayoutView",
            "grid_template_rows": null,
            "right": null,
            "justify_content": null,
            "_view_module": "@jupyter-widgets/base",
            "overflow": null,
            "_model_module_version": "1.2.0",
            "_view_count": null,
            "flex_flow": null,
            "width": null,
            "min_width": null,
            "border": null,
            "align_items": null,
            "bottom": null,
            "_model_module": "@jupyter-widgets/base",
            "top": null,
            "grid_column": null,
            "overflow_y": null,
            "overflow_x": null,
            "grid_auto_flow": null,
            "grid_area": null,
            "grid_template_columns": null,
            "flex": null,
            "_model_name": "LayoutModel",
            "justify_items": null,
            "grid_row": null,
            "max_height": null,
            "align_content": null,
            "visibility": null,
            "align_self": null,
            "height": null,
            "min_height": null,
            "padding": null,
            "grid_auto_rows": null,
            "grid_gap": null,
            "max_width": null,
            "order": null,
            "_view_module_version": "1.2.0",
            "grid_template_areas": null,
            "object_position": null,
            "object_fit": null,
            "grid_auto_columns": null,
            "margin": null,
            "display": null,
            "left": null
          }
        },
        "c303bd05db284050ad3d915157f5babb": {
          "model_module": "@jupyter-widgets/controls",
          "model_name": "LabelModel",
          "state": {
            "_view_name": "LabelView",
            "style": "IPY_MODEL_46045fecab364e8abc95388cb1e3adf4",
            "_dom_classes": [],
            "description": "",
            "_model_name": "LabelModel",
            "placeholder": "​",
            "_view_module": "@jupyter-widgets/controls",
            "_model_module_version": "1.5.0",
            "value": " 0.01MB of 0.01MB uploaded (0.00MB deduped)\r",
            "_view_count": null,
            "_view_module_version": "1.5.0",
            "description_tooltip": null,
            "_model_module": "@jupyter-widgets/controls",
            "layout": "IPY_MODEL_5d6cfa2afecc4c6e85b136a8a7778c0b"
          }
        },
        "5ddc436d7fe74c3d92c3b12922f32370": {
          "model_module": "@jupyter-widgets/controls",
          "model_name": "FloatProgressModel",
          "state": {
            "_view_name": "ProgressView",
            "style": "IPY_MODEL_f06fe3484a174d5881e23c911ba2fdc8",
            "_dom_classes": [],
            "description": "",
            "_model_name": "FloatProgressModel",
            "bar_style": "",
            "max": 1,
            "_view_module": "@jupyter-widgets/controls",
            "_model_module_version": "1.5.0",
            "value": 1,
            "_view_count": null,
            "_view_module_version": "1.5.0",
            "orientation": "horizontal",
            "min": 0,
            "description_tooltip": null,
            "_model_module": "@jupyter-widgets/controls",
            "layout": "IPY_MODEL_4a3dc6d1a82944a0938f1106f24fed94"
          }
        },
        "46045fecab364e8abc95388cb1e3adf4": {
          "model_module": "@jupyter-widgets/controls",
          "model_name": "DescriptionStyleModel",
          "state": {
            "_view_name": "StyleView",
            "_model_name": "DescriptionStyleModel",
            "description_width": "",
            "_view_module": "@jupyter-widgets/base",
            "_model_module_version": "1.5.0",
            "_view_count": null,
            "_view_module_version": "1.2.0",
            "_model_module": "@jupyter-widgets/controls"
          }
        },
        "5d6cfa2afecc4c6e85b136a8a7778c0b": {
          "model_module": "@jupyter-widgets/base",
          "model_name": "LayoutModel",
          "state": {
            "_view_name": "LayoutView",
            "grid_template_rows": null,
            "right": null,
            "justify_content": null,
            "_view_module": "@jupyter-widgets/base",
            "overflow": null,
            "_model_module_version": "1.2.0",
            "_view_count": null,
            "flex_flow": null,
            "width": null,
            "min_width": null,
            "border": null,
            "align_items": null,
            "bottom": null,
            "_model_module": "@jupyter-widgets/base",
            "top": null,
            "grid_column": null,
            "overflow_y": null,
            "overflow_x": null,
            "grid_auto_flow": null,
            "grid_area": null,
            "grid_template_columns": null,
            "flex": null,
            "_model_name": "LayoutModel",
            "justify_items": null,
            "grid_row": null,
            "max_height": null,
            "align_content": null,
            "visibility": null,
            "align_self": null,
            "height": null,
            "min_height": null,
            "padding": null,
            "grid_auto_rows": null,
            "grid_gap": null,
            "max_width": null,
            "order": null,
            "_view_module_version": "1.2.0",
            "grid_template_areas": null,
            "object_position": null,
            "object_fit": null,
            "grid_auto_columns": null,
            "margin": null,
            "display": null,
            "left": null
          }
        },
        "f06fe3484a174d5881e23c911ba2fdc8": {
          "model_module": "@jupyter-widgets/controls",
          "model_name": "ProgressStyleModel",
          "state": {
            "_view_name": "StyleView",
            "_model_name": "ProgressStyleModel",
            "description_width": "",
            "_view_module": "@jupyter-widgets/base",
            "_model_module_version": "1.5.0",
            "_view_count": null,
            "_view_module_version": "1.2.0",
            "bar_color": null,
            "_model_module": "@jupyter-widgets/controls"
          }
        },
        "4a3dc6d1a82944a0938f1106f24fed94": {
          "model_module": "@jupyter-widgets/base",
          "model_name": "LayoutModel",
          "state": {
            "_view_name": "LayoutView",
            "grid_template_rows": null,
            "right": null,
            "justify_content": null,
            "_view_module": "@jupyter-widgets/base",
            "overflow": null,
            "_model_module_version": "1.2.0",
            "_view_count": null,
            "flex_flow": null,
            "width": null,
            "min_width": null,
            "border": null,
            "align_items": null,
            "bottom": null,
            "_model_module": "@jupyter-widgets/base",
            "top": null,
            "grid_column": null,
            "overflow_y": null,
            "overflow_x": null,
            "grid_auto_flow": null,
            "grid_area": null,
            "grid_template_columns": null,
            "flex": null,
            "_model_name": "LayoutModel",
            "justify_items": null,
            "grid_row": null,
            "max_height": null,
            "align_content": null,
            "visibility": null,
            "align_self": null,
            "height": null,
            "min_height": null,
            "padding": null,
            "grid_auto_rows": null,
            "grid_gap": null,
            "max_width": null,
            "order": null,
            "_view_module_version": "1.2.0",
            "grid_template_areas": null,
            "object_position": null,
            "object_fit": null,
            "grid_auto_columns": null,
            "margin": null,
            "display": null,
            "left": null
          }
        },
        "35c8cd006bf345cd8ffc94b7c72684a2": {
          "model_module": "@jupyter-widgets/controls",
          "model_name": "VBoxModel",
          "state": {
            "_view_name": "VBoxView",
            "_dom_classes": [],
            "_model_name": "VBoxModel",
            "_view_module": "@jupyter-widgets/controls",
            "_model_module_version": "1.5.0",
            "_view_count": null,
            "_view_module_version": "1.5.0",
            "box_style": "",
            "layout": "IPY_MODEL_9d645c77f5034cd98fe7d6fb0aef0ce5",
            "_model_module": "@jupyter-widgets/controls",
            "children": [
              "IPY_MODEL_9e79131078dc4ed99b1bc7f632dcfca3",
              "IPY_MODEL_4546bb04882044a8be2b9b98adf47043"
            ]
          }
        },
        "9d645c77f5034cd98fe7d6fb0aef0ce5": {
          "model_module": "@jupyter-widgets/base",
          "model_name": "LayoutModel",
          "state": {
            "_view_name": "LayoutView",
            "grid_template_rows": null,
            "right": null,
            "justify_content": null,
            "_view_module": "@jupyter-widgets/base",
            "overflow": null,
            "_model_module_version": "1.2.0",
            "_view_count": null,
            "flex_flow": null,
            "width": null,
            "min_width": null,
            "border": null,
            "align_items": null,
            "bottom": null,
            "_model_module": "@jupyter-widgets/base",
            "top": null,
            "grid_column": null,
            "overflow_y": null,
            "overflow_x": null,
            "grid_auto_flow": null,
            "grid_area": null,
            "grid_template_columns": null,
            "flex": null,
            "_model_name": "LayoutModel",
            "justify_items": null,
            "grid_row": null,
            "max_height": null,
            "align_content": null,
            "visibility": null,
            "align_self": null,
            "height": null,
            "min_height": null,
            "padding": null,
            "grid_auto_rows": null,
            "grid_gap": null,
            "max_width": null,
            "order": null,
            "_view_module_version": "1.2.0",
            "grid_template_areas": null,
            "object_position": null,
            "object_fit": null,
            "grid_auto_columns": null,
            "margin": null,
            "display": null,
            "left": null
          }
        },
        "9e79131078dc4ed99b1bc7f632dcfca3": {
          "model_module": "@jupyter-widgets/controls",
          "model_name": "LabelModel",
          "state": {
            "_view_name": "LabelView",
            "style": "IPY_MODEL_f8fd6e1ed27041e5887f52f5d77079c4",
            "_dom_classes": [],
            "description": "",
            "_model_name": "LabelModel",
            "placeholder": "​",
            "_view_module": "@jupyter-widgets/controls",
            "_model_module_version": "1.5.0",
            "value": " 0.01MB of 0.01MB uploaded (0.00MB deduped)\r",
            "_view_count": null,
            "_view_module_version": "1.5.0",
            "description_tooltip": null,
            "_model_module": "@jupyter-widgets/controls",
            "layout": "IPY_MODEL_eff1749118ca4bc2be2be55b79fd09d1"
          }
        },
        "4546bb04882044a8be2b9b98adf47043": {
          "model_module": "@jupyter-widgets/controls",
          "model_name": "FloatProgressModel",
          "state": {
            "_view_name": "ProgressView",
            "style": "IPY_MODEL_b76c45ee98e6448eb9426a11310bb34c",
            "_dom_classes": [],
            "description": "",
            "_model_name": "FloatProgressModel",
            "bar_style": "",
            "max": 1,
            "_view_module": "@jupyter-widgets/controls",
            "_model_module_version": "1.5.0",
            "value": 1,
            "_view_count": null,
            "_view_module_version": "1.5.0",
            "orientation": "horizontal",
            "min": 0,
            "description_tooltip": null,
            "_model_module": "@jupyter-widgets/controls",
            "layout": "IPY_MODEL_392a80a7c768428f85a9dc27d1fcdfe9"
          }
        },
        "f8fd6e1ed27041e5887f52f5d77079c4": {
          "model_module": "@jupyter-widgets/controls",
          "model_name": "DescriptionStyleModel",
          "state": {
            "_view_name": "StyleView",
            "_model_name": "DescriptionStyleModel",
            "description_width": "",
            "_view_module": "@jupyter-widgets/base",
            "_model_module_version": "1.5.0",
            "_view_count": null,
            "_view_module_version": "1.2.0",
            "_model_module": "@jupyter-widgets/controls"
          }
        },
        "eff1749118ca4bc2be2be55b79fd09d1": {
          "model_module": "@jupyter-widgets/base",
          "model_name": "LayoutModel",
          "state": {
            "_view_name": "LayoutView",
            "grid_template_rows": null,
            "right": null,
            "justify_content": null,
            "_view_module": "@jupyter-widgets/base",
            "overflow": null,
            "_model_module_version": "1.2.0",
            "_view_count": null,
            "flex_flow": null,
            "width": null,
            "min_width": null,
            "border": null,
            "align_items": null,
            "bottom": null,
            "_model_module": "@jupyter-widgets/base",
            "top": null,
            "grid_column": null,
            "overflow_y": null,
            "overflow_x": null,
            "grid_auto_flow": null,
            "grid_area": null,
            "grid_template_columns": null,
            "flex": null,
            "_model_name": "LayoutModel",
            "justify_items": null,
            "grid_row": null,
            "max_height": null,
            "align_content": null,
            "visibility": null,
            "align_self": null,
            "height": null,
            "min_height": null,
            "padding": null,
            "grid_auto_rows": null,
            "grid_gap": null,
            "max_width": null,
            "order": null,
            "_view_module_version": "1.2.0",
            "grid_template_areas": null,
            "object_position": null,
            "object_fit": null,
            "grid_auto_columns": null,
            "margin": null,
            "display": null,
            "left": null
          }
        },
        "b76c45ee98e6448eb9426a11310bb34c": {
          "model_module": "@jupyter-widgets/controls",
          "model_name": "ProgressStyleModel",
          "state": {
            "_view_name": "StyleView",
            "_model_name": "ProgressStyleModel",
            "description_width": "",
            "_view_module": "@jupyter-widgets/base",
            "_model_module_version": "1.5.0",
            "_view_count": null,
            "_view_module_version": "1.2.0",
            "bar_color": null,
            "_model_module": "@jupyter-widgets/controls"
          }
        },
        "392a80a7c768428f85a9dc27d1fcdfe9": {
          "model_module": "@jupyter-widgets/base",
          "model_name": "LayoutModel",
          "state": {
            "_view_name": "LayoutView",
            "grid_template_rows": null,
            "right": null,
            "justify_content": null,
            "_view_module": "@jupyter-widgets/base",
            "overflow": null,
            "_model_module_version": "1.2.0",
            "_view_count": null,
            "flex_flow": null,
            "width": null,
            "min_width": null,
            "border": null,
            "align_items": null,
            "bottom": null,
            "_model_module": "@jupyter-widgets/base",
            "top": null,
            "grid_column": null,
            "overflow_y": null,
            "overflow_x": null,
            "grid_auto_flow": null,
            "grid_area": null,
            "grid_template_columns": null,
            "flex": null,
            "_model_name": "LayoutModel",
            "justify_items": null,
            "grid_row": null,
            "max_height": null,
            "align_content": null,
            "visibility": null,
            "align_self": null,
            "height": null,
            "min_height": null,
            "padding": null,
            "grid_auto_rows": null,
            "grid_gap": null,
            "max_width": null,
            "order": null,
            "_view_module_version": "1.2.0",
            "grid_template_areas": null,
            "object_position": null,
            "object_fit": null,
            "grid_auto_columns": null,
            "margin": null,
            "display": null,
            "left": null
          }
        },
        "29cfb43c6d8b4a4c8200bf158a9630e4": {
          "model_module": "@jupyter-widgets/controls",
          "model_name": "VBoxModel",
          "state": {
            "_view_name": "VBoxView",
            "_dom_classes": [],
            "_model_name": "VBoxModel",
            "_view_module": "@jupyter-widgets/controls",
            "_model_module_version": "1.5.0",
            "_view_count": null,
            "_view_module_version": "1.5.0",
            "box_style": "",
            "layout": "IPY_MODEL_19c1939359784a3e9a04de58f7aa4d04",
            "_model_module": "@jupyter-widgets/controls",
            "children": [
              "IPY_MODEL_26143b214066479f8c13caed233b3f00",
              "IPY_MODEL_91e0de075cc64613a4ac73b3f3338925"
            ]
          }
        },
        "19c1939359784a3e9a04de58f7aa4d04": {
          "model_module": "@jupyter-widgets/base",
          "model_name": "LayoutModel",
          "state": {
            "_view_name": "LayoutView",
            "grid_template_rows": null,
            "right": null,
            "justify_content": null,
            "_view_module": "@jupyter-widgets/base",
            "overflow": null,
            "_model_module_version": "1.2.0",
            "_view_count": null,
            "flex_flow": null,
            "width": null,
            "min_width": null,
            "border": null,
            "align_items": null,
            "bottom": null,
            "_model_module": "@jupyter-widgets/base",
            "top": null,
            "grid_column": null,
            "overflow_y": null,
            "overflow_x": null,
            "grid_auto_flow": null,
            "grid_area": null,
            "grid_template_columns": null,
            "flex": null,
            "_model_name": "LayoutModel",
            "justify_items": null,
            "grid_row": null,
            "max_height": null,
            "align_content": null,
            "visibility": null,
            "align_self": null,
            "height": null,
            "min_height": null,
            "padding": null,
            "grid_auto_rows": null,
            "grid_gap": null,
            "max_width": null,
            "order": null,
            "_view_module_version": "1.2.0",
            "grid_template_areas": null,
            "object_position": null,
            "object_fit": null,
            "grid_auto_columns": null,
            "margin": null,
            "display": null,
            "left": null
          }
        },
        "26143b214066479f8c13caed233b3f00": {
          "model_module": "@jupyter-widgets/controls",
          "model_name": "LabelModel",
          "state": {
            "_view_name": "LabelView",
            "style": "IPY_MODEL_2052f8bccc1d4401a3e23925ab143b41",
            "_dom_classes": [],
            "description": "",
            "_model_name": "LabelModel",
            "placeholder": "​",
            "_view_module": "@jupyter-widgets/controls",
            "_model_module_version": "1.5.0",
            "value": " 0.01MB of 0.01MB uploaded (0.00MB deduped)\r",
            "_view_count": null,
            "_view_module_version": "1.5.0",
            "description_tooltip": null,
            "_model_module": "@jupyter-widgets/controls",
            "layout": "IPY_MODEL_540bb3662c224a8ea71d23ccccdbc8c6"
          }
        },
        "91e0de075cc64613a4ac73b3f3338925": {
          "model_module": "@jupyter-widgets/controls",
          "model_name": "FloatProgressModel",
          "state": {
            "_view_name": "ProgressView",
            "style": "IPY_MODEL_2b157e486bdb4b5eba0b298176b163b9",
            "_dom_classes": [],
            "description": "",
            "_model_name": "FloatProgressModel",
            "bar_style": "",
            "max": 1,
            "_view_module": "@jupyter-widgets/controls",
            "_model_module_version": "1.5.0",
            "value": 1,
            "_view_count": null,
            "_view_module_version": "1.5.0",
            "orientation": "horizontal",
            "min": 0,
            "description_tooltip": null,
            "_model_module": "@jupyter-widgets/controls",
            "layout": "IPY_MODEL_e677a147ac5e4a018088b334a52ca154"
          }
        },
        "2052f8bccc1d4401a3e23925ab143b41": {
          "model_module": "@jupyter-widgets/controls",
          "model_name": "DescriptionStyleModel",
          "state": {
            "_view_name": "StyleView",
            "_model_name": "DescriptionStyleModel",
            "description_width": "",
            "_view_module": "@jupyter-widgets/base",
            "_model_module_version": "1.5.0",
            "_view_count": null,
            "_view_module_version": "1.2.0",
            "_model_module": "@jupyter-widgets/controls"
          }
        },
        "540bb3662c224a8ea71d23ccccdbc8c6": {
          "model_module": "@jupyter-widgets/base",
          "model_name": "LayoutModel",
          "state": {
            "_view_name": "LayoutView",
            "grid_template_rows": null,
            "right": null,
            "justify_content": null,
            "_view_module": "@jupyter-widgets/base",
            "overflow": null,
            "_model_module_version": "1.2.0",
            "_view_count": null,
            "flex_flow": null,
            "width": null,
            "min_width": null,
            "border": null,
            "align_items": null,
            "bottom": null,
            "_model_module": "@jupyter-widgets/base",
            "top": null,
            "grid_column": null,
            "overflow_y": null,
            "overflow_x": null,
            "grid_auto_flow": null,
            "grid_area": null,
            "grid_template_columns": null,
            "flex": null,
            "_model_name": "LayoutModel",
            "justify_items": null,
            "grid_row": null,
            "max_height": null,
            "align_content": null,
            "visibility": null,
            "align_self": null,
            "height": null,
            "min_height": null,
            "padding": null,
            "grid_auto_rows": null,
            "grid_gap": null,
            "max_width": null,
            "order": null,
            "_view_module_version": "1.2.0",
            "grid_template_areas": null,
            "object_position": null,
            "object_fit": null,
            "grid_auto_columns": null,
            "margin": null,
            "display": null,
            "left": null
          }
        },
        "2b157e486bdb4b5eba0b298176b163b9": {
          "model_module": "@jupyter-widgets/controls",
          "model_name": "ProgressStyleModel",
          "state": {
            "_view_name": "StyleView",
            "_model_name": "ProgressStyleModel",
            "description_width": "",
            "_view_module": "@jupyter-widgets/base",
            "_model_module_version": "1.5.0",
            "_view_count": null,
            "_view_module_version": "1.2.0",
            "bar_color": null,
            "_model_module": "@jupyter-widgets/controls"
          }
        },
        "e677a147ac5e4a018088b334a52ca154": {
          "model_module": "@jupyter-widgets/base",
          "model_name": "LayoutModel",
          "state": {
            "_view_name": "LayoutView",
            "grid_template_rows": null,
            "right": null,
            "justify_content": null,
            "_view_module": "@jupyter-widgets/base",
            "overflow": null,
            "_model_module_version": "1.2.0",
            "_view_count": null,
            "flex_flow": null,
            "width": null,
            "min_width": null,
            "border": null,
            "align_items": null,
            "bottom": null,
            "_model_module": "@jupyter-widgets/base",
            "top": null,
            "grid_column": null,
            "overflow_y": null,
            "overflow_x": null,
            "grid_auto_flow": null,
            "grid_area": null,
            "grid_template_columns": null,
            "flex": null,
            "_model_name": "LayoutModel",
            "justify_items": null,
            "grid_row": null,
            "max_height": null,
            "align_content": null,
            "visibility": null,
            "align_self": null,
            "height": null,
            "min_height": null,
            "padding": null,
            "grid_auto_rows": null,
            "grid_gap": null,
            "max_width": null,
            "order": null,
            "_view_module_version": "1.2.0",
            "grid_template_areas": null,
            "object_position": null,
            "object_fit": null,
            "grid_auto_columns": null,
            "margin": null,
            "display": null,
            "left": null
          }
        },
        "6a25c6d2f2cb4220a4299c6c6470a5c6": {
          "model_module": "@jupyter-widgets/controls",
          "model_name": "VBoxModel",
          "state": {
            "_view_name": "VBoxView",
            "_dom_classes": [],
            "_model_name": "VBoxModel",
            "_view_module": "@jupyter-widgets/controls",
            "_model_module_version": "1.5.0",
            "_view_count": null,
            "_view_module_version": "1.5.0",
            "box_style": "",
            "layout": "IPY_MODEL_833c5316db694c48adc6b037f3abccf0",
            "_model_module": "@jupyter-widgets/controls",
            "children": [
              "IPY_MODEL_2b960173ea554e1b958957d9696d35ac",
              "IPY_MODEL_bfaff16c674f4d62b4d246fd1edbeaf3"
            ]
          }
        },
        "833c5316db694c48adc6b037f3abccf0": {
          "model_module": "@jupyter-widgets/base",
          "model_name": "LayoutModel",
          "state": {
            "_view_name": "LayoutView",
            "grid_template_rows": null,
            "right": null,
            "justify_content": null,
            "_view_module": "@jupyter-widgets/base",
            "overflow": null,
            "_model_module_version": "1.2.0",
            "_view_count": null,
            "flex_flow": null,
            "width": null,
            "min_width": null,
            "border": null,
            "align_items": null,
            "bottom": null,
            "_model_module": "@jupyter-widgets/base",
            "top": null,
            "grid_column": null,
            "overflow_y": null,
            "overflow_x": null,
            "grid_auto_flow": null,
            "grid_area": null,
            "grid_template_columns": null,
            "flex": null,
            "_model_name": "LayoutModel",
            "justify_items": null,
            "grid_row": null,
            "max_height": null,
            "align_content": null,
            "visibility": null,
            "align_self": null,
            "height": null,
            "min_height": null,
            "padding": null,
            "grid_auto_rows": null,
            "grid_gap": null,
            "max_width": null,
            "order": null,
            "_view_module_version": "1.2.0",
            "grid_template_areas": null,
            "object_position": null,
            "object_fit": null,
            "grid_auto_columns": null,
            "margin": null,
            "display": null,
            "left": null
          }
        },
        "2b960173ea554e1b958957d9696d35ac": {
          "model_module": "@jupyter-widgets/controls",
          "model_name": "LabelModel",
          "state": {
            "_view_name": "LabelView",
            "style": "IPY_MODEL_69f7b67678f24d1c82a126cb53869d1b",
            "_dom_classes": [],
            "description": "",
            "_model_name": "LabelModel",
            "placeholder": "​",
            "_view_module": "@jupyter-widgets/controls",
            "_model_module_version": "1.5.0",
            "value": " 0.01MB of 0.01MB uploaded (0.00MB deduped)\r",
            "_view_count": null,
            "_view_module_version": "1.5.0",
            "description_tooltip": null,
            "_model_module": "@jupyter-widgets/controls",
            "layout": "IPY_MODEL_bc5dc90d3f3d4a6589c4cff07113f286"
          }
        },
        "bfaff16c674f4d62b4d246fd1edbeaf3": {
          "model_module": "@jupyter-widgets/controls",
          "model_name": "FloatProgressModel",
          "state": {
            "_view_name": "ProgressView",
            "style": "IPY_MODEL_8fb56a715b564638bf04910f4d835127",
            "_dom_classes": [],
            "description": "",
            "_model_name": "FloatProgressModel",
            "bar_style": "",
            "max": 1,
            "_view_module": "@jupyter-widgets/controls",
            "_model_module_version": "1.5.0",
            "value": 1,
            "_view_count": null,
            "_view_module_version": "1.5.0",
            "orientation": "horizontal",
            "min": 0,
            "description_tooltip": null,
            "_model_module": "@jupyter-widgets/controls",
            "layout": "IPY_MODEL_27a33d2560484b948d54b0064baaa28c"
          }
        },
        "69f7b67678f24d1c82a126cb53869d1b": {
          "model_module": "@jupyter-widgets/controls",
          "model_name": "DescriptionStyleModel",
          "state": {
            "_view_name": "StyleView",
            "_model_name": "DescriptionStyleModel",
            "description_width": "",
            "_view_module": "@jupyter-widgets/base",
            "_model_module_version": "1.5.0",
            "_view_count": null,
            "_view_module_version": "1.2.0",
            "_model_module": "@jupyter-widgets/controls"
          }
        },
        "bc5dc90d3f3d4a6589c4cff07113f286": {
          "model_module": "@jupyter-widgets/base",
          "model_name": "LayoutModel",
          "state": {
            "_view_name": "LayoutView",
            "grid_template_rows": null,
            "right": null,
            "justify_content": null,
            "_view_module": "@jupyter-widgets/base",
            "overflow": null,
            "_model_module_version": "1.2.0",
            "_view_count": null,
            "flex_flow": null,
            "width": null,
            "min_width": null,
            "border": null,
            "align_items": null,
            "bottom": null,
            "_model_module": "@jupyter-widgets/base",
            "top": null,
            "grid_column": null,
            "overflow_y": null,
            "overflow_x": null,
            "grid_auto_flow": null,
            "grid_area": null,
            "grid_template_columns": null,
            "flex": null,
            "_model_name": "LayoutModel",
            "justify_items": null,
            "grid_row": null,
            "max_height": null,
            "align_content": null,
            "visibility": null,
            "align_self": null,
            "height": null,
            "min_height": null,
            "padding": null,
            "grid_auto_rows": null,
            "grid_gap": null,
            "max_width": null,
            "order": null,
            "_view_module_version": "1.2.0",
            "grid_template_areas": null,
            "object_position": null,
            "object_fit": null,
            "grid_auto_columns": null,
            "margin": null,
            "display": null,
            "left": null
          }
        },
        "8fb56a715b564638bf04910f4d835127": {
          "model_module": "@jupyter-widgets/controls",
          "model_name": "ProgressStyleModel",
          "state": {
            "_view_name": "StyleView",
            "_model_name": "ProgressStyleModel",
            "description_width": "",
            "_view_module": "@jupyter-widgets/base",
            "_model_module_version": "1.5.0",
            "_view_count": null,
            "_view_module_version": "1.2.0",
            "bar_color": null,
            "_model_module": "@jupyter-widgets/controls"
          }
        },
        "27a33d2560484b948d54b0064baaa28c": {
          "model_module": "@jupyter-widgets/base",
          "model_name": "LayoutModel",
          "state": {
            "_view_name": "LayoutView",
            "grid_template_rows": null,
            "right": null,
            "justify_content": null,
            "_view_module": "@jupyter-widgets/base",
            "overflow": null,
            "_model_module_version": "1.2.0",
            "_view_count": null,
            "flex_flow": null,
            "width": null,
            "min_width": null,
            "border": null,
            "align_items": null,
            "bottom": null,
            "_model_module": "@jupyter-widgets/base",
            "top": null,
            "grid_column": null,
            "overflow_y": null,
            "overflow_x": null,
            "grid_auto_flow": null,
            "grid_area": null,
            "grid_template_columns": null,
            "flex": null,
            "_model_name": "LayoutModel",
            "justify_items": null,
            "grid_row": null,
            "max_height": null,
            "align_content": null,
            "visibility": null,
            "align_self": null,
            "height": null,
            "min_height": null,
            "padding": null,
            "grid_auto_rows": null,
            "grid_gap": null,
            "max_width": null,
            "order": null,
            "_view_module_version": "1.2.0",
            "grid_template_areas": null,
            "object_position": null,
            "object_fit": null,
            "grid_auto_columns": null,
            "margin": null,
            "display": null,
            "left": null
          }
        },
        "fbfa23f4e9874fea95c5851538e57435": {
          "model_module": "@jupyter-widgets/controls",
          "model_name": "VBoxModel",
          "state": {
            "_view_name": "VBoxView",
            "_dom_classes": [],
            "_model_name": "VBoxModel",
            "_view_module": "@jupyter-widgets/controls",
            "_model_module_version": "1.5.0",
            "_view_count": null,
            "_view_module_version": "1.5.0",
            "box_style": "",
            "layout": "IPY_MODEL_6a9aeaf580954986b7c11c7ef0f54d27",
            "_model_module": "@jupyter-widgets/controls",
            "children": [
              "IPY_MODEL_f89e88b6aad14df1b1a807449138aedf",
              "IPY_MODEL_2752ecfb388c44e1bdf887ee1fc1a040"
            ]
          }
        },
        "6a9aeaf580954986b7c11c7ef0f54d27": {
          "model_module": "@jupyter-widgets/base",
          "model_name": "LayoutModel",
          "state": {
            "_view_name": "LayoutView",
            "grid_template_rows": null,
            "right": null,
            "justify_content": null,
            "_view_module": "@jupyter-widgets/base",
            "overflow": null,
            "_model_module_version": "1.2.0",
            "_view_count": null,
            "flex_flow": null,
            "width": null,
            "min_width": null,
            "border": null,
            "align_items": null,
            "bottom": null,
            "_model_module": "@jupyter-widgets/base",
            "top": null,
            "grid_column": null,
            "overflow_y": null,
            "overflow_x": null,
            "grid_auto_flow": null,
            "grid_area": null,
            "grid_template_columns": null,
            "flex": null,
            "_model_name": "LayoutModel",
            "justify_items": null,
            "grid_row": null,
            "max_height": null,
            "align_content": null,
            "visibility": null,
            "align_self": null,
            "height": null,
            "min_height": null,
            "padding": null,
            "grid_auto_rows": null,
            "grid_gap": null,
            "max_width": null,
            "order": null,
            "_view_module_version": "1.2.0",
            "grid_template_areas": null,
            "object_position": null,
            "object_fit": null,
            "grid_auto_columns": null,
            "margin": null,
            "display": null,
            "left": null
          }
        },
        "f89e88b6aad14df1b1a807449138aedf": {
          "model_module": "@jupyter-widgets/controls",
          "model_name": "LabelModel",
          "state": {
            "_view_name": "LabelView",
            "style": "IPY_MODEL_200f0c91d63543038f26f09628a01a5d",
            "_dom_classes": [],
            "description": "",
            "_model_name": "LabelModel",
            "placeholder": "​",
            "_view_module": "@jupyter-widgets/controls",
            "_model_module_version": "1.5.0",
            "value": " 0.01MB of 0.01MB uploaded (0.00MB deduped)\r",
            "_view_count": null,
            "_view_module_version": "1.5.0",
            "description_tooltip": null,
            "_model_module": "@jupyter-widgets/controls",
            "layout": "IPY_MODEL_ed2070d3d40146e0a057c8415dc976c2"
          }
        },
        "2752ecfb388c44e1bdf887ee1fc1a040": {
          "model_module": "@jupyter-widgets/controls",
          "model_name": "FloatProgressModel",
          "state": {
            "_view_name": "ProgressView",
            "style": "IPY_MODEL_9618097a72e948389750dfcf7afdd835",
            "_dom_classes": [],
            "description": "",
            "_model_name": "FloatProgressModel",
            "bar_style": "",
            "max": 1,
            "_view_module": "@jupyter-widgets/controls",
            "_model_module_version": "1.5.0",
            "value": 1,
            "_view_count": null,
            "_view_module_version": "1.5.0",
            "orientation": "horizontal",
            "min": 0,
            "description_tooltip": null,
            "_model_module": "@jupyter-widgets/controls",
            "layout": "IPY_MODEL_e68c3ed8620d414a83d2d32b126cf366"
          }
        },
        "200f0c91d63543038f26f09628a01a5d": {
          "model_module": "@jupyter-widgets/controls",
          "model_name": "DescriptionStyleModel",
          "state": {
            "_view_name": "StyleView",
            "_model_name": "DescriptionStyleModel",
            "description_width": "",
            "_view_module": "@jupyter-widgets/base",
            "_model_module_version": "1.5.0",
            "_view_count": null,
            "_view_module_version": "1.2.0",
            "_model_module": "@jupyter-widgets/controls"
          }
        },
        "ed2070d3d40146e0a057c8415dc976c2": {
          "model_module": "@jupyter-widgets/base",
          "model_name": "LayoutModel",
          "state": {
            "_view_name": "LayoutView",
            "grid_template_rows": null,
            "right": null,
            "justify_content": null,
            "_view_module": "@jupyter-widgets/base",
            "overflow": null,
            "_model_module_version": "1.2.0",
            "_view_count": null,
            "flex_flow": null,
            "width": null,
            "min_width": null,
            "border": null,
            "align_items": null,
            "bottom": null,
            "_model_module": "@jupyter-widgets/base",
            "top": null,
            "grid_column": null,
            "overflow_y": null,
            "overflow_x": null,
            "grid_auto_flow": null,
            "grid_area": null,
            "grid_template_columns": null,
            "flex": null,
            "_model_name": "LayoutModel",
            "justify_items": null,
            "grid_row": null,
            "max_height": null,
            "align_content": null,
            "visibility": null,
            "align_self": null,
            "height": null,
            "min_height": null,
            "padding": null,
            "grid_auto_rows": null,
            "grid_gap": null,
            "max_width": null,
            "order": null,
            "_view_module_version": "1.2.0",
            "grid_template_areas": null,
            "object_position": null,
            "object_fit": null,
            "grid_auto_columns": null,
            "margin": null,
            "display": null,
            "left": null
          }
        },
        "9618097a72e948389750dfcf7afdd835": {
          "model_module": "@jupyter-widgets/controls",
          "model_name": "ProgressStyleModel",
          "state": {
            "_view_name": "StyleView",
            "_model_name": "ProgressStyleModel",
            "description_width": "",
            "_view_module": "@jupyter-widgets/base",
            "_model_module_version": "1.5.0",
            "_view_count": null,
            "_view_module_version": "1.2.0",
            "bar_color": null,
            "_model_module": "@jupyter-widgets/controls"
          }
        },
        "e68c3ed8620d414a83d2d32b126cf366": {
          "model_module": "@jupyter-widgets/base",
          "model_name": "LayoutModel",
          "state": {
            "_view_name": "LayoutView",
            "grid_template_rows": null,
            "right": null,
            "justify_content": null,
            "_view_module": "@jupyter-widgets/base",
            "overflow": null,
            "_model_module_version": "1.2.0",
            "_view_count": null,
            "flex_flow": null,
            "width": null,
            "min_width": null,
            "border": null,
            "align_items": null,
            "bottom": null,
            "_model_module": "@jupyter-widgets/base",
            "top": null,
            "grid_column": null,
            "overflow_y": null,
            "overflow_x": null,
            "grid_auto_flow": null,
            "grid_area": null,
            "grid_template_columns": null,
            "flex": null,
            "_model_name": "LayoutModel",
            "justify_items": null,
            "grid_row": null,
            "max_height": null,
            "align_content": null,
            "visibility": null,
            "align_self": null,
            "height": null,
            "min_height": null,
            "padding": null,
            "grid_auto_rows": null,
            "grid_gap": null,
            "max_width": null,
            "order": null,
            "_view_module_version": "1.2.0",
            "grid_template_areas": null,
            "object_position": null,
            "object_fit": null,
            "grid_auto_columns": null,
            "margin": null,
            "display": null,
            "left": null
          }
        },
        "4eab16fa5aff4eeeac19ae516e314384": {
          "model_module": "@jupyter-widgets/controls",
          "model_name": "VBoxModel",
          "state": {
            "_view_name": "VBoxView",
            "_dom_classes": [],
            "_model_name": "VBoxModel",
            "_view_module": "@jupyter-widgets/controls",
            "_model_module_version": "1.5.0",
            "_view_count": null,
            "_view_module_version": "1.5.0",
            "box_style": "",
            "layout": "IPY_MODEL_e521f4cd64f54bb0ad8e1da3a8fadaea",
            "_model_module": "@jupyter-widgets/controls",
            "children": [
              "IPY_MODEL_e6960b63e77146e998f580d95faa1932",
              "IPY_MODEL_52b0aa45a2d44d0f85d90ab7b9311e9c"
            ]
          }
        },
        "e521f4cd64f54bb0ad8e1da3a8fadaea": {
          "model_module": "@jupyter-widgets/base",
          "model_name": "LayoutModel",
          "state": {
            "_view_name": "LayoutView",
            "grid_template_rows": null,
            "right": null,
            "justify_content": null,
            "_view_module": "@jupyter-widgets/base",
            "overflow": null,
            "_model_module_version": "1.2.0",
            "_view_count": null,
            "flex_flow": null,
            "width": null,
            "min_width": null,
            "border": null,
            "align_items": null,
            "bottom": null,
            "_model_module": "@jupyter-widgets/base",
            "top": null,
            "grid_column": null,
            "overflow_y": null,
            "overflow_x": null,
            "grid_auto_flow": null,
            "grid_area": null,
            "grid_template_columns": null,
            "flex": null,
            "_model_name": "LayoutModel",
            "justify_items": null,
            "grid_row": null,
            "max_height": null,
            "align_content": null,
            "visibility": null,
            "align_self": null,
            "height": null,
            "min_height": null,
            "padding": null,
            "grid_auto_rows": null,
            "grid_gap": null,
            "max_width": null,
            "order": null,
            "_view_module_version": "1.2.0",
            "grid_template_areas": null,
            "object_position": null,
            "object_fit": null,
            "grid_auto_columns": null,
            "margin": null,
            "display": null,
            "left": null
          }
        },
        "e6960b63e77146e998f580d95faa1932": {
          "model_module": "@jupyter-widgets/controls",
          "model_name": "LabelModel",
          "state": {
            "_view_name": "LabelView",
            "style": "IPY_MODEL_f9887a6031b4410ea75fbe409a347601",
            "_dom_classes": [],
            "description": "",
            "_model_name": "LabelModel",
            "placeholder": "​",
            "_view_module": "@jupyter-widgets/controls",
            "_model_module_version": "1.5.0",
            "value": " 0.01MB of 0.01MB uploaded (0.00MB deduped)\r",
            "_view_count": null,
            "_view_module_version": "1.5.0",
            "description_tooltip": null,
            "_model_module": "@jupyter-widgets/controls",
            "layout": "IPY_MODEL_b6853bae2bb048a18da72150cba0554a"
          }
        },
        "52b0aa45a2d44d0f85d90ab7b9311e9c": {
          "model_module": "@jupyter-widgets/controls",
          "model_name": "FloatProgressModel",
          "state": {
            "_view_name": "ProgressView",
            "style": "IPY_MODEL_ad7cede43709411b8f1188c3b92905ab",
            "_dom_classes": [],
            "description": "",
            "_model_name": "FloatProgressModel",
            "bar_style": "",
            "max": 1,
            "_view_module": "@jupyter-widgets/controls",
            "_model_module_version": "1.5.0",
            "value": 1,
            "_view_count": null,
            "_view_module_version": "1.5.0",
            "orientation": "horizontal",
            "min": 0,
            "description_tooltip": null,
            "_model_module": "@jupyter-widgets/controls",
            "layout": "IPY_MODEL_d342446d134e4e7eb6212c480e0095b1"
          }
        },
        "f9887a6031b4410ea75fbe409a347601": {
          "model_module": "@jupyter-widgets/controls",
          "model_name": "DescriptionStyleModel",
          "state": {
            "_view_name": "StyleView",
            "_model_name": "DescriptionStyleModel",
            "description_width": "",
            "_view_module": "@jupyter-widgets/base",
            "_model_module_version": "1.5.0",
            "_view_count": null,
            "_view_module_version": "1.2.0",
            "_model_module": "@jupyter-widgets/controls"
          }
        },
        "b6853bae2bb048a18da72150cba0554a": {
          "model_module": "@jupyter-widgets/base",
          "model_name": "LayoutModel",
          "state": {
            "_view_name": "LayoutView",
            "grid_template_rows": null,
            "right": null,
            "justify_content": null,
            "_view_module": "@jupyter-widgets/base",
            "overflow": null,
            "_model_module_version": "1.2.0",
            "_view_count": null,
            "flex_flow": null,
            "width": null,
            "min_width": null,
            "border": null,
            "align_items": null,
            "bottom": null,
            "_model_module": "@jupyter-widgets/base",
            "top": null,
            "grid_column": null,
            "overflow_y": null,
            "overflow_x": null,
            "grid_auto_flow": null,
            "grid_area": null,
            "grid_template_columns": null,
            "flex": null,
            "_model_name": "LayoutModel",
            "justify_items": null,
            "grid_row": null,
            "max_height": null,
            "align_content": null,
            "visibility": null,
            "align_self": null,
            "height": null,
            "min_height": null,
            "padding": null,
            "grid_auto_rows": null,
            "grid_gap": null,
            "max_width": null,
            "order": null,
            "_view_module_version": "1.2.0",
            "grid_template_areas": null,
            "object_position": null,
            "object_fit": null,
            "grid_auto_columns": null,
            "margin": null,
            "display": null,
            "left": null
          }
        },
        "ad7cede43709411b8f1188c3b92905ab": {
          "model_module": "@jupyter-widgets/controls",
          "model_name": "ProgressStyleModel",
          "state": {
            "_view_name": "StyleView",
            "_model_name": "ProgressStyleModel",
            "description_width": "",
            "_view_module": "@jupyter-widgets/base",
            "_model_module_version": "1.5.0",
            "_view_count": null,
            "_view_module_version": "1.2.0",
            "bar_color": null,
            "_model_module": "@jupyter-widgets/controls"
          }
        },
        "d342446d134e4e7eb6212c480e0095b1": {
          "model_module": "@jupyter-widgets/base",
          "model_name": "LayoutModel",
          "state": {
            "_view_name": "LayoutView",
            "grid_template_rows": null,
            "right": null,
            "justify_content": null,
            "_view_module": "@jupyter-widgets/base",
            "overflow": null,
            "_model_module_version": "1.2.0",
            "_view_count": null,
            "flex_flow": null,
            "width": null,
            "min_width": null,
            "border": null,
            "align_items": null,
            "bottom": null,
            "_model_module": "@jupyter-widgets/base",
            "top": null,
            "grid_column": null,
            "overflow_y": null,
            "overflow_x": null,
            "grid_auto_flow": null,
            "grid_area": null,
            "grid_template_columns": null,
            "flex": null,
            "_model_name": "LayoutModel",
            "justify_items": null,
            "grid_row": null,
            "max_height": null,
            "align_content": null,
            "visibility": null,
            "align_self": null,
            "height": null,
            "min_height": null,
            "padding": null,
            "grid_auto_rows": null,
            "grid_gap": null,
            "max_width": null,
            "order": null,
            "_view_module_version": "1.2.0",
            "grid_template_areas": null,
            "object_position": null,
            "object_fit": null,
            "grid_auto_columns": null,
            "margin": null,
            "display": null,
            "left": null
          }
        },
        "61b257911bc448b7bf169da849bb5b9b": {
          "model_module": "@jupyter-widgets/controls",
          "model_name": "VBoxModel",
          "state": {
            "_view_name": "VBoxView",
            "_dom_classes": [],
            "_model_name": "VBoxModel",
            "_view_module": "@jupyter-widgets/controls",
            "_model_module_version": "1.5.0",
            "_view_count": null,
            "_view_module_version": "1.5.0",
            "box_style": "",
            "layout": "IPY_MODEL_034ba3927e8e452593693df2af75f10b",
            "_model_module": "@jupyter-widgets/controls",
            "children": [
              "IPY_MODEL_76532e996d0b44219b386105fde739a7",
              "IPY_MODEL_07656f1dbe6f48f1b8574095c37de6a4"
            ]
          }
        },
        "034ba3927e8e452593693df2af75f10b": {
          "model_module": "@jupyter-widgets/base",
          "model_name": "LayoutModel",
          "state": {
            "_view_name": "LayoutView",
            "grid_template_rows": null,
            "right": null,
            "justify_content": null,
            "_view_module": "@jupyter-widgets/base",
            "overflow": null,
            "_model_module_version": "1.2.0",
            "_view_count": null,
            "flex_flow": null,
            "width": null,
            "min_width": null,
            "border": null,
            "align_items": null,
            "bottom": null,
            "_model_module": "@jupyter-widgets/base",
            "top": null,
            "grid_column": null,
            "overflow_y": null,
            "overflow_x": null,
            "grid_auto_flow": null,
            "grid_area": null,
            "grid_template_columns": null,
            "flex": null,
            "_model_name": "LayoutModel",
            "justify_items": null,
            "grid_row": null,
            "max_height": null,
            "align_content": null,
            "visibility": null,
            "align_self": null,
            "height": null,
            "min_height": null,
            "padding": null,
            "grid_auto_rows": null,
            "grid_gap": null,
            "max_width": null,
            "order": null,
            "_view_module_version": "1.2.0",
            "grid_template_areas": null,
            "object_position": null,
            "object_fit": null,
            "grid_auto_columns": null,
            "margin": null,
            "display": null,
            "left": null
          }
        },
        "76532e996d0b44219b386105fde739a7": {
          "model_module": "@jupyter-widgets/controls",
          "model_name": "LabelModel",
          "state": {
            "_view_name": "LabelView",
            "style": "IPY_MODEL_da228b7289ce4d15a2a99c6e0ca0c27a",
            "_dom_classes": [],
            "description": "",
            "_model_name": "LabelModel",
            "placeholder": "​",
            "_view_module": "@jupyter-widgets/controls",
            "_model_module_version": "1.5.0",
            "value": " 0.01MB of 0.01MB uploaded (0.00MB deduped)\r",
            "_view_count": null,
            "_view_module_version": "1.5.0",
            "description_tooltip": null,
            "_model_module": "@jupyter-widgets/controls",
            "layout": "IPY_MODEL_af91a610ac294f598bad8f33fe6fb37f"
          }
        },
        "07656f1dbe6f48f1b8574095c37de6a4": {
          "model_module": "@jupyter-widgets/controls",
          "model_name": "FloatProgressModel",
          "state": {
            "_view_name": "ProgressView",
            "style": "IPY_MODEL_b53e2df7347a41cdb7d98fcad92a9246",
            "_dom_classes": [],
            "description": "",
            "_model_name": "FloatProgressModel",
            "bar_style": "",
            "max": 1,
            "_view_module": "@jupyter-widgets/controls",
            "_model_module_version": "1.5.0",
            "value": 1,
            "_view_count": null,
            "_view_module_version": "1.5.0",
            "orientation": "horizontal",
            "min": 0,
            "description_tooltip": null,
            "_model_module": "@jupyter-widgets/controls",
            "layout": "IPY_MODEL_c940dc77fdfd42b38d79f2aa241a49b4"
          }
        },
        "da228b7289ce4d15a2a99c6e0ca0c27a": {
          "model_module": "@jupyter-widgets/controls",
          "model_name": "DescriptionStyleModel",
          "state": {
            "_view_name": "StyleView",
            "_model_name": "DescriptionStyleModel",
            "description_width": "",
            "_view_module": "@jupyter-widgets/base",
            "_model_module_version": "1.5.0",
            "_view_count": null,
            "_view_module_version": "1.2.0",
            "_model_module": "@jupyter-widgets/controls"
          }
        },
        "af91a610ac294f598bad8f33fe6fb37f": {
          "model_module": "@jupyter-widgets/base",
          "model_name": "LayoutModel",
          "state": {
            "_view_name": "LayoutView",
            "grid_template_rows": null,
            "right": null,
            "justify_content": null,
            "_view_module": "@jupyter-widgets/base",
            "overflow": null,
            "_model_module_version": "1.2.0",
            "_view_count": null,
            "flex_flow": null,
            "width": null,
            "min_width": null,
            "border": null,
            "align_items": null,
            "bottom": null,
            "_model_module": "@jupyter-widgets/base",
            "top": null,
            "grid_column": null,
            "overflow_y": null,
            "overflow_x": null,
            "grid_auto_flow": null,
            "grid_area": null,
            "grid_template_columns": null,
            "flex": null,
            "_model_name": "LayoutModel",
            "justify_items": null,
            "grid_row": null,
            "max_height": null,
            "align_content": null,
            "visibility": null,
            "align_self": null,
            "height": null,
            "min_height": null,
            "padding": null,
            "grid_auto_rows": null,
            "grid_gap": null,
            "max_width": null,
            "order": null,
            "_view_module_version": "1.2.0",
            "grid_template_areas": null,
            "object_position": null,
            "object_fit": null,
            "grid_auto_columns": null,
            "margin": null,
            "display": null,
            "left": null
          }
        },
        "b53e2df7347a41cdb7d98fcad92a9246": {
          "model_module": "@jupyter-widgets/controls",
          "model_name": "ProgressStyleModel",
          "state": {
            "_view_name": "StyleView",
            "_model_name": "ProgressStyleModel",
            "description_width": "",
            "_view_module": "@jupyter-widgets/base",
            "_model_module_version": "1.5.0",
            "_view_count": null,
            "_view_module_version": "1.2.0",
            "bar_color": null,
            "_model_module": "@jupyter-widgets/controls"
          }
        },
        "c940dc77fdfd42b38d79f2aa241a49b4": {
          "model_module": "@jupyter-widgets/base",
          "model_name": "LayoutModel",
          "state": {
            "_view_name": "LayoutView",
            "grid_template_rows": null,
            "right": null,
            "justify_content": null,
            "_view_module": "@jupyter-widgets/base",
            "overflow": null,
            "_model_module_version": "1.2.0",
            "_view_count": null,
            "flex_flow": null,
            "width": null,
            "min_width": null,
            "border": null,
            "align_items": null,
            "bottom": null,
            "_model_module": "@jupyter-widgets/base",
            "top": null,
            "grid_column": null,
            "overflow_y": null,
            "overflow_x": null,
            "grid_auto_flow": null,
            "grid_area": null,
            "grid_template_columns": null,
            "flex": null,
            "_model_name": "LayoutModel",
            "justify_items": null,
            "grid_row": null,
            "max_height": null,
            "align_content": null,
            "visibility": null,
            "align_self": null,
            "height": null,
            "min_height": null,
            "padding": null,
            "grid_auto_rows": null,
            "grid_gap": null,
            "max_width": null,
            "order": null,
            "_view_module_version": "1.2.0",
            "grid_template_areas": null,
            "object_position": null,
            "object_fit": null,
            "grid_auto_columns": null,
            "margin": null,
            "display": null,
            "left": null
          }
        },
        "8bf9b697393e47648653a8793240e247": {
          "model_module": "@jupyter-widgets/controls",
          "model_name": "VBoxModel",
          "state": {
            "_view_name": "VBoxView",
            "_dom_classes": [],
            "_model_name": "VBoxModel",
            "_view_module": "@jupyter-widgets/controls",
            "_model_module_version": "1.5.0",
            "_view_count": null,
            "_view_module_version": "1.5.0",
            "box_style": "",
            "layout": "IPY_MODEL_aa7f13ae172c4b0e9678e202c4f9b827",
            "_model_module": "@jupyter-widgets/controls",
            "children": [
              "IPY_MODEL_fcf9fa4f98aa4dd0b6878ea0f8702a29",
              "IPY_MODEL_8b88e7707f38439cba1baff664f61e38"
            ]
          }
        },
        "aa7f13ae172c4b0e9678e202c4f9b827": {
          "model_module": "@jupyter-widgets/base",
          "model_name": "LayoutModel",
          "state": {
            "_view_name": "LayoutView",
            "grid_template_rows": null,
            "right": null,
            "justify_content": null,
            "_view_module": "@jupyter-widgets/base",
            "overflow": null,
            "_model_module_version": "1.2.0",
            "_view_count": null,
            "flex_flow": null,
            "width": null,
            "min_width": null,
            "border": null,
            "align_items": null,
            "bottom": null,
            "_model_module": "@jupyter-widgets/base",
            "top": null,
            "grid_column": null,
            "overflow_y": null,
            "overflow_x": null,
            "grid_auto_flow": null,
            "grid_area": null,
            "grid_template_columns": null,
            "flex": null,
            "_model_name": "LayoutModel",
            "justify_items": null,
            "grid_row": null,
            "max_height": null,
            "align_content": null,
            "visibility": null,
            "align_self": null,
            "height": null,
            "min_height": null,
            "padding": null,
            "grid_auto_rows": null,
            "grid_gap": null,
            "max_width": null,
            "order": null,
            "_view_module_version": "1.2.0",
            "grid_template_areas": null,
            "object_position": null,
            "object_fit": null,
            "grid_auto_columns": null,
            "margin": null,
            "display": null,
            "left": null
          }
        },
        "fcf9fa4f98aa4dd0b6878ea0f8702a29": {
          "model_module": "@jupyter-widgets/controls",
          "model_name": "LabelModel",
          "state": {
            "_view_name": "LabelView",
            "style": "IPY_MODEL_d9f2e014afc84d4791ec858344c9041a",
            "_dom_classes": [],
            "description": "",
            "_model_name": "LabelModel",
            "placeholder": "​",
            "_view_module": "@jupyter-widgets/controls",
            "_model_module_version": "1.5.0",
            "value": " 0.01MB of 0.01MB uploaded (0.00MB deduped)\r",
            "_view_count": null,
            "_view_module_version": "1.5.0",
            "description_tooltip": null,
            "_model_module": "@jupyter-widgets/controls",
            "layout": "IPY_MODEL_4a6650e026fb4b6e964759b3969b7968"
          }
        },
        "8b88e7707f38439cba1baff664f61e38": {
          "model_module": "@jupyter-widgets/controls",
          "model_name": "FloatProgressModel",
          "state": {
            "_view_name": "ProgressView",
            "style": "IPY_MODEL_c17b244ffae54520b958cb1fffca8e6d",
            "_dom_classes": [],
            "description": "",
            "_model_name": "FloatProgressModel",
            "bar_style": "",
            "max": 1,
            "_view_module": "@jupyter-widgets/controls",
            "_model_module_version": "1.5.0",
            "value": 1,
            "_view_count": null,
            "_view_module_version": "1.5.0",
            "orientation": "horizontal",
            "min": 0,
            "description_tooltip": null,
            "_model_module": "@jupyter-widgets/controls",
            "layout": "IPY_MODEL_652e38f3301d404f96ca9e1c9bd208d2"
          }
        },
        "d9f2e014afc84d4791ec858344c9041a": {
          "model_module": "@jupyter-widgets/controls",
          "model_name": "DescriptionStyleModel",
          "state": {
            "_view_name": "StyleView",
            "_model_name": "DescriptionStyleModel",
            "description_width": "",
            "_view_module": "@jupyter-widgets/base",
            "_model_module_version": "1.5.0",
            "_view_count": null,
            "_view_module_version": "1.2.0",
            "_model_module": "@jupyter-widgets/controls"
          }
        },
        "4a6650e026fb4b6e964759b3969b7968": {
          "model_module": "@jupyter-widgets/base",
          "model_name": "LayoutModel",
          "state": {
            "_view_name": "LayoutView",
            "grid_template_rows": null,
            "right": null,
            "justify_content": null,
            "_view_module": "@jupyter-widgets/base",
            "overflow": null,
            "_model_module_version": "1.2.0",
            "_view_count": null,
            "flex_flow": null,
            "width": null,
            "min_width": null,
            "border": null,
            "align_items": null,
            "bottom": null,
            "_model_module": "@jupyter-widgets/base",
            "top": null,
            "grid_column": null,
            "overflow_y": null,
            "overflow_x": null,
            "grid_auto_flow": null,
            "grid_area": null,
            "grid_template_columns": null,
            "flex": null,
            "_model_name": "LayoutModel",
            "justify_items": null,
            "grid_row": null,
            "max_height": null,
            "align_content": null,
            "visibility": null,
            "align_self": null,
            "height": null,
            "min_height": null,
            "padding": null,
            "grid_auto_rows": null,
            "grid_gap": null,
            "max_width": null,
            "order": null,
            "_view_module_version": "1.2.0",
            "grid_template_areas": null,
            "object_position": null,
            "object_fit": null,
            "grid_auto_columns": null,
            "margin": null,
            "display": null,
            "left": null
          }
        },
        "c17b244ffae54520b958cb1fffca8e6d": {
          "model_module": "@jupyter-widgets/controls",
          "model_name": "ProgressStyleModel",
          "state": {
            "_view_name": "StyleView",
            "_model_name": "ProgressStyleModel",
            "description_width": "",
            "_view_module": "@jupyter-widgets/base",
            "_model_module_version": "1.5.0",
            "_view_count": null,
            "_view_module_version": "1.2.0",
            "bar_color": null,
            "_model_module": "@jupyter-widgets/controls"
          }
        },
        "652e38f3301d404f96ca9e1c9bd208d2": {
          "model_module": "@jupyter-widgets/base",
          "model_name": "LayoutModel",
          "state": {
            "_view_name": "LayoutView",
            "grid_template_rows": null,
            "right": null,
            "justify_content": null,
            "_view_module": "@jupyter-widgets/base",
            "overflow": null,
            "_model_module_version": "1.2.0",
            "_view_count": null,
            "flex_flow": null,
            "width": null,
            "min_width": null,
            "border": null,
            "align_items": null,
            "bottom": null,
            "_model_module": "@jupyter-widgets/base",
            "top": null,
            "grid_column": null,
            "overflow_y": null,
            "overflow_x": null,
            "grid_auto_flow": null,
            "grid_area": null,
            "grid_template_columns": null,
            "flex": null,
            "_model_name": "LayoutModel",
            "justify_items": null,
            "grid_row": null,
            "max_height": null,
            "align_content": null,
            "visibility": null,
            "align_self": null,
            "height": null,
            "min_height": null,
            "padding": null,
            "grid_auto_rows": null,
            "grid_gap": null,
            "max_width": null,
            "order": null,
            "_view_module_version": "1.2.0",
            "grid_template_areas": null,
            "object_position": null,
            "object_fit": null,
            "grid_auto_columns": null,
            "margin": null,
            "display": null,
            "left": null
          }
        },
        "1e81c96ee2e341ddbaab80659b1d02fe": {
          "model_module": "@jupyter-widgets/controls",
          "model_name": "VBoxModel",
          "state": {
            "_view_name": "VBoxView",
            "_dom_classes": [],
            "_model_name": "VBoxModel",
            "_view_module": "@jupyter-widgets/controls",
            "_model_module_version": "1.5.0",
            "_view_count": null,
            "_view_module_version": "1.5.0",
            "box_style": "",
            "layout": "IPY_MODEL_9ecfdfa0e3924dbaa61bf1f2c6737e28",
            "_model_module": "@jupyter-widgets/controls",
            "children": [
              "IPY_MODEL_6f8227c6673d42eaa4210f465fa35a3f",
              "IPY_MODEL_01f002af88c54611aef7a6a71b528574"
            ]
          }
        },
        "9ecfdfa0e3924dbaa61bf1f2c6737e28": {
          "model_module": "@jupyter-widgets/base",
          "model_name": "LayoutModel",
          "state": {
            "_view_name": "LayoutView",
            "grid_template_rows": null,
            "right": null,
            "justify_content": null,
            "_view_module": "@jupyter-widgets/base",
            "overflow": null,
            "_model_module_version": "1.2.0",
            "_view_count": null,
            "flex_flow": null,
            "width": null,
            "min_width": null,
            "border": null,
            "align_items": null,
            "bottom": null,
            "_model_module": "@jupyter-widgets/base",
            "top": null,
            "grid_column": null,
            "overflow_y": null,
            "overflow_x": null,
            "grid_auto_flow": null,
            "grid_area": null,
            "grid_template_columns": null,
            "flex": null,
            "_model_name": "LayoutModel",
            "justify_items": null,
            "grid_row": null,
            "max_height": null,
            "align_content": null,
            "visibility": null,
            "align_self": null,
            "height": null,
            "min_height": null,
            "padding": null,
            "grid_auto_rows": null,
            "grid_gap": null,
            "max_width": null,
            "order": null,
            "_view_module_version": "1.2.0",
            "grid_template_areas": null,
            "object_position": null,
            "object_fit": null,
            "grid_auto_columns": null,
            "margin": null,
            "display": null,
            "left": null
          }
        },
        "6f8227c6673d42eaa4210f465fa35a3f": {
          "model_module": "@jupyter-widgets/controls",
          "model_name": "LabelModel",
          "state": {
            "_view_name": "LabelView",
            "style": "IPY_MODEL_b3fcb5c11e7742e7b1bf06e477b8b1d1",
            "_dom_classes": [],
            "description": "",
            "_model_name": "LabelModel",
            "placeholder": "​",
            "_view_module": "@jupyter-widgets/controls",
            "_model_module_version": "1.5.0",
            "value": " 0.01MB of 0.01MB uploaded (0.00MB deduped)\r",
            "_view_count": null,
            "_view_module_version": "1.5.0",
            "description_tooltip": null,
            "_model_module": "@jupyter-widgets/controls",
            "layout": "IPY_MODEL_a5cf953956a1490093ee69a100e3b4de"
          }
        },
        "01f002af88c54611aef7a6a71b528574": {
          "model_module": "@jupyter-widgets/controls",
          "model_name": "FloatProgressModel",
          "state": {
            "_view_name": "ProgressView",
            "style": "IPY_MODEL_2b0e938619514b719cd62e530d915a29",
            "_dom_classes": [],
            "description": "",
            "_model_name": "FloatProgressModel",
            "bar_style": "",
            "max": 1,
            "_view_module": "@jupyter-widgets/controls",
            "_model_module_version": "1.5.0",
            "value": 1,
            "_view_count": null,
            "_view_module_version": "1.5.0",
            "orientation": "horizontal",
            "min": 0,
            "description_tooltip": null,
            "_model_module": "@jupyter-widgets/controls",
            "layout": "IPY_MODEL_3159940ba1bb43178cde0b43f04130ae"
          }
        },
        "b3fcb5c11e7742e7b1bf06e477b8b1d1": {
          "model_module": "@jupyter-widgets/controls",
          "model_name": "DescriptionStyleModel",
          "state": {
            "_view_name": "StyleView",
            "_model_name": "DescriptionStyleModel",
            "description_width": "",
            "_view_module": "@jupyter-widgets/base",
            "_model_module_version": "1.5.0",
            "_view_count": null,
            "_view_module_version": "1.2.0",
            "_model_module": "@jupyter-widgets/controls"
          }
        },
        "a5cf953956a1490093ee69a100e3b4de": {
          "model_module": "@jupyter-widgets/base",
          "model_name": "LayoutModel",
          "state": {
            "_view_name": "LayoutView",
            "grid_template_rows": null,
            "right": null,
            "justify_content": null,
            "_view_module": "@jupyter-widgets/base",
            "overflow": null,
            "_model_module_version": "1.2.0",
            "_view_count": null,
            "flex_flow": null,
            "width": null,
            "min_width": null,
            "border": null,
            "align_items": null,
            "bottom": null,
            "_model_module": "@jupyter-widgets/base",
            "top": null,
            "grid_column": null,
            "overflow_y": null,
            "overflow_x": null,
            "grid_auto_flow": null,
            "grid_area": null,
            "grid_template_columns": null,
            "flex": null,
            "_model_name": "LayoutModel",
            "justify_items": null,
            "grid_row": null,
            "max_height": null,
            "align_content": null,
            "visibility": null,
            "align_self": null,
            "height": null,
            "min_height": null,
            "padding": null,
            "grid_auto_rows": null,
            "grid_gap": null,
            "max_width": null,
            "order": null,
            "_view_module_version": "1.2.0",
            "grid_template_areas": null,
            "object_position": null,
            "object_fit": null,
            "grid_auto_columns": null,
            "margin": null,
            "display": null,
            "left": null
          }
        },
        "2b0e938619514b719cd62e530d915a29": {
          "model_module": "@jupyter-widgets/controls",
          "model_name": "ProgressStyleModel",
          "state": {
            "_view_name": "StyleView",
            "_model_name": "ProgressStyleModel",
            "description_width": "",
            "_view_module": "@jupyter-widgets/base",
            "_model_module_version": "1.5.0",
            "_view_count": null,
            "_view_module_version": "1.2.0",
            "bar_color": null,
            "_model_module": "@jupyter-widgets/controls"
          }
        },
        "3159940ba1bb43178cde0b43f04130ae": {
          "model_module": "@jupyter-widgets/base",
          "model_name": "LayoutModel",
          "state": {
            "_view_name": "LayoutView",
            "grid_template_rows": null,
            "right": null,
            "justify_content": null,
            "_view_module": "@jupyter-widgets/base",
            "overflow": null,
            "_model_module_version": "1.2.0",
            "_view_count": null,
            "flex_flow": null,
            "width": null,
            "min_width": null,
            "border": null,
            "align_items": null,
            "bottom": null,
            "_model_module": "@jupyter-widgets/base",
            "top": null,
            "grid_column": null,
            "overflow_y": null,
            "overflow_x": null,
            "grid_auto_flow": null,
            "grid_area": null,
            "grid_template_columns": null,
            "flex": null,
            "_model_name": "LayoutModel",
            "justify_items": null,
            "grid_row": null,
            "max_height": null,
            "align_content": null,
            "visibility": null,
            "align_self": null,
            "height": null,
            "min_height": null,
            "padding": null,
            "grid_auto_rows": null,
            "grid_gap": null,
            "max_width": null,
            "order": null,
            "_view_module_version": "1.2.0",
            "grid_template_areas": null,
            "object_position": null,
            "object_fit": null,
            "grid_auto_columns": null,
            "margin": null,
            "display": null,
            "left": null
          }
        },
        "f09319b5301f46c28f7d84a2d2f3a186": {
          "model_module": "@jupyter-widgets/controls",
          "model_name": "VBoxModel",
          "state": {
            "_view_name": "VBoxView",
            "_dom_classes": [],
            "_model_name": "VBoxModel",
            "_view_module": "@jupyter-widgets/controls",
            "_model_module_version": "1.5.0",
            "_view_count": null,
            "_view_module_version": "1.5.0",
            "box_style": "",
            "layout": "IPY_MODEL_c6b8f4427d564c40901d606ba7bf54cc",
            "_model_module": "@jupyter-widgets/controls",
            "children": [
              "IPY_MODEL_b8a0d7d4740a4d659d06d71eaaa693e5",
              "IPY_MODEL_c56d367184614fcd82554b3769c466d1"
            ]
          }
        },
        "c6b8f4427d564c40901d606ba7bf54cc": {
          "model_module": "@jupyter-widgets/base",
          "model_name": "LayoutModel",
          "state": {
            "_view_name": "LayoutView",
            "grid_template_rows": null,
            "right": null,
            "justify_content": null,
            "_view_module": "@jupyter-widgets/base",
            "overflow": null,
            "_model_module_version": "1.2.0",
            "_view_count": null,
            "flex_flow": null,
            "width": null,
            "min_width": null,
            "border": null,
            "align_items": null,
            "bottom": null,
            "_model_module": "@jupyter-widgets/base",
            "top": null,
            "grid_column": null,
            "overflow_y": null,
            "overflow_x": null,
            "grid_auto_flow": null,
            "grid_area": null,
            "grid_template_columns": null,
            "flex": null,
            "_model_name": "LayoutModel",
            "justify_items": null,
            "grid_row": null,
            "max_height": null,
            "align_content": null,
            "visibility": null,
            "align_self": null,
            "height": null,
            "min_height": null,
            "padding": null,
            "grid_auto_rows": null,
            "grid_gap": null,
            "max_width": null,
            "order": null,
            "_view_module_version": "1.2.0",
            "grid_template_areas": null,
            "object_position": null,
            "object_fit": null,
            "grid_auto_columns": null,
            "margin": null,
            "display": null,
            "left": null
          }
        },
        "b8a0d7d4740a4d659d06d71eaaa693e5": {
          "model_module": "@jupyter-widgets/controls",
          "model_name": "LabelModel",
          "state": {
            "_view_name": "LabelView",
            "style": "IPY_MODEL_64f33b1b7e48416a8d6ab120b3acd507",
            "_dom_classes": [],
            "description": "",
            "_model_name": "LabelModel",
            "placeholder": "​",
            "_view_module": "@jupyter-widgets/controls",
            "_model_module_version": "1.5.0",
            "value": " 0.01MB of 0.01MB uploaded (0.00MB deduped)\r",
            "_view_count": null,
            "_view_module_version": "1.5.0",
            "description_tooltip": null,
            "_model_module": "@jupyter-widgets/controls",
            "layout": "IPY_MODEL_cc3a8bd82d1647a2a5aa9a89261268b4"
          }
        },
        "c56d367184614fcd82554b3769c466d1": {
          "model_module": "@jupyter-widgets/controls",
          "model_name": "FloatProgressModel",
          "state": {
            "_view_name": "ProgressView",
            "style": "IPY_MODEL_db2fde160ff548f092acf309f2981463",
            "_dom_classes": [],
            "description": "",
            "_model_name": "FloatProgressModel",
            "bar_style": "",
            "max": 1,
            "_view_module": "@jupyter-widgets/controls",
            "_model_module_version": "1.5.0",
            "value": 1,
            "_view_count": null,
            "_view_module_version": "1.5.0",
            "orientation": "horizontal",
            "min": 0,
            "description_tooltip": null,
            "_model_module": "@jupyter-widgets/controls",
            "layout": "IPY_MODEL_1a7dc6b79caa48c6a989f27d6f6fdf66"
          }
        },
        "64f33b1b7e48416a8d6ab120b3acd507": {
          "model_module": "@jupyter-widgets/controls",
          "model_name": "DescriptionStyleModel",
          "state": {
            "_view_name": "StyleView",
            "_model_name": "DescriptionStyleModel",
            "description_width": "",
            "_view_module": "@jupyter-widgets/base",
            "_model_module_version": "1.5.0",
            "_view_count": null,
            "_view_module_version": "1.2.0",
            "_model_module": "@jupyter-widgets/controls"
          }
        },
        "cc3a8bd82d1647a2a5aa9a89261268b4": {
          "model_module": "@jupyter-widgets/base",
          "model_name": "LayoutModel",
          "state": {
            "_view_name": "LayoutView",
            "grid_template_rows": null,
            "right": null,
            "justify_content": null,
            "_view_module": "@jupyter-widgets/base",
            "overflow": null,
            "_model_module_version": "1.2.0",
            "_view_count": null,
            "flex_flow": null,
            "width": null,
            "min_width": null,
            "border": null,
            "align_items": null,
            "bottom": null,
            "_model_module": "@jupyter-widgets/base",
            "top": null,
            "grid_column": null,
            "overflow_y": null,
            "overflow_x": null,
            "grid_auto_flow": null,
            "grid_area": null,
            "grid_template_columns": null,
            "flex": null,
            "_model_name": "LayoutModel",
            "justify_items": null,
            "grid_row": null,
            "max_height": null,
            "align_content": null,
            "visibility": null,
            "align_self": null,
            "height": null,
            "min_height": null,
            "padding": null,
            "grid_auto_rows": null,
            "grid_gap": null,
            "max_width": null,
            "order": null,
            "_view_module_version": "1.2.0",
            "grid_template_areas": null,
            "object_position": null,
            "object_fit": null,
            "grid_auto_columns": null,
            "margin": null,
            "display": null,
            "left": null
          }
        },
        "db2fde160ff548f092acf309f2981463": {
          "model_module": "@jupyter-widgets/controls",
          "model_name": "ProgressStyleModel",
          "state": {
            "_view_name": "StyleView",
            "_model_name": "ProgressStyleModel",
            "description_width": "",
            "_view_module": "@jupyter-widgets/base",
            "_model_module_version": "1.5.0",
            "_view_count": null,
            "_view_module_version": "1.2.0",
            "bar_color": null,
            "_model_module": "@jupyter-widgets/controls"
          }
        },
        "1a7dc6b79caa48c6a989f27d6f6fdf66": {
          "model_module": "@jupyter-widgets/base",
          "model_name": "LayoutModel",
          "state": {
            "_view_name": "LayoutView",
            "grid_template_rows": null,
            "right": null,
            "justify_content": null,
            "_view_module": "@jupyter-widgets/base",
            "overflow": null,
            "_model_module_version": "1.2.0",
            "_view_count": null,
            "flex_flow": null,
            "width": null,
            "min_width": null,
            "border": null,
            "align_items": null,
            "bottom": null,
            "_model_module": "@jupyter-widgets/base",
            "top": null,
            "grid_column": null,
            "overflow_y": null,
            "overflow_x": null,
            "grid_auto_flow": null,
            "grid_area": null,
            "grid_template_columns": null,
            "flex": null,
            "_model_name": "LayoutModel",
            "justify_items": null,
            "grid_row": null,
            "max_height": null,
            "align_content": null,
            "visibility": null,
            "align_self": null,
            "height": null,
            "min_height": null,
            "padding": null,
            "grid_auto_rows": null,
            "grid_gap": null,
            "max_width": null,
            "order": null,
            "_view_module_version": "1.2.0",
            "grid_template_areas": null,
            "object_position": null,
            "object_fit": null,
            "grid_auto_columns": null,
            "margin": null,
            "display": null,
            "left": null
          }
        },
        "51e9f2af24864cb58add0020d7f8da39": {
          "model_module": "@jupyter-widgets/controls",
          "model_name": "VBoxModel",
          "state": {
            "_view_name": "VBoxView",
            "_dom_classes": [],
            "_model_name": "VBoxModel",
            "_view_module": "@jupyter-widgets/controls",
            "_model_module_version": "1.5.0",
            "_view_count": null,
            "_view_module_version": "1.5.0",
            "box_style": "",
            "layout": "IPY_MODEL_53b2d2e3c8ff4a26aa260f744ad8e39a",
            "_model_module": "@jupyter-widgets/controls",
            "children": [
              "IPY_MODEL_d027205162574580b7c6d5d50b885a39",
              "IPY_MODEL_e00b055effbc4f5bb33a7bf486cef40e"
            ]
          }
        },
        "53b2d2e3c8ff4a26aa260f744ad8e39a": {
          "model_module": "@jupyter-widgets/base",
          "model_name": "LayoutModel",
          "state": {
            "_view_name": "LayoutView",
            "grid_template_rows": null,
            "right": null,
            "justify_content": null,
            "_view_module": "@jupyter-widgets/base",
            "overflow": null,
            "_model_module_version": "1.2.0",
            "_view_count": null,
            "flex_flow": null,
            "width": null,
            "min_width": null,
            "border": null,
            "align_items": null,
            "bottom": null,
            "_model_module": "@jupyter-widgets/base",
            "top": null,
            "grid_column": null,
            "overflow_y": null,
            "overflow_x": null,
            "grid_auto_flow": null,
            "grid_area": null,
            "grid_template_columns": null,
            "flex": null,
            "_model_name": "LayoutModel",
            "justify_items": null,
            "grid_row": null,
            "max_height": null,
            "align_content": null,
            "visibility": null,
            "align_self": null,
            "height": null,
            "min_height": null,
            "padding": null,
            "grid_auto_rows": null,
            "grid_gap": null,
            "max_width": null,
            "order": null,
            "_view_module_version": "1.2.0",
            "grid_template_areas": null,
            "object_position": null,
            "object_fit": null,
            "grid_auto_columns": null,
            "margin": null,
            "display": null,
            "left": null
          }
        },
        "d027205162574580b7c6d5d50b885a39": {
          "model_module": "@jupyter-widgets/controls",
          "model_name": "LabelModel",
          "state": {
            "_view_name": "LabelView",
            "style": "IPY_MODEL_243c331d021e4ef1b38261620970d616",
            "_dom_classes": [],
            "description": "",
            "_model_name": "LabelModel",
            "placeholder": "​",
            "_view_module": "@jupyter-widgets/controls",
            "_model_module_version": "1.5.0",
            "value": " 0.01MB of 0.01MB uploaded (0.00MB deduped)\r",
            "_view_count": null,
            "_view_module_version": "1.5.0",
            "description_tooltip": null,
            "_model_module": "@jupyter-widgets/controls",
            "layout": "IPY_MODEL_a3fa942dcdf94b0482de79cfa62f953d"
          }
        },
        "e00b055effbc4f5bb33a7bf486cef40e": {
          "model_module": "@jupyter-widgets/controls",
          "model_name": "FloatProgressModel",
          "state": {
            "_view_name": "ProgressView",
            "style": "IPY_MODEL_56177594b220401da7bdb30ec20c4758",
            "_dom_classes": [],
            "description": "",
            "_model_name": "FloatProgressModel",
            "bar_style": "",
            "max": 1,
            "_view_module": "@jupyter-widgets/controls",
            "_model_module_version": "1.5.0",
            "value": 1,
            "_view_count": null,
            "_view_module_version": "1.5.0",
            "orientation": "horizontal",
            "min": 0,
            "description_tooltip": null,
            "_model_module": "@jupyter-widgets/controls",
            "layout": "IPY_MODEL_948f83e867424dc7bee1d0706e77b398"
          }
        },
        "243c331d021e4ef1b38261620970d616": {
          "model_module": "@jupyter-widgets/controls",
          "model_name": "DescriptionStyleModel",
          "state": {
            "_view_name": "StyleView",
            "_model_name": "DescriptionStyleModel",
            "description_width": "",
            "_view_module": "@jupyter-widgets/base",
            "_model_module_version": "1.5.0",
            "_view_count": null,
            "_view_module_version": "1.2.0",
            "_model_module": "@jupyter-widgets/controls"
          }
        },
        "a3fa942dcdf94b0482de79cfa62f953d": {
          "model_module": "@jupyter-widgets/base",
          "model_name": "LayoutModel",
          "state": {
            "_view_name": "LayoutView",
            "grid_template_rows": null,
            "right": null,
            "justify_content": null,
            "_view_module": "@jupyter-widgets/base",
            "overflow": null,
            "_model_module_version": "1.2.0",
            "_view_count": null,
            "flex_flow": null,
            "width": null,
            "min_width": null,
            "border": null,
            "align_items": null,
            "bottom": null,
            "_model_module": "@jupyter-widgets/base",
            "top": null,
            "grid_column": null,
            "overflow_y": null,
            "overflow_x": null,
            "grid_auto_flow": null,
            "grid_area": null,
            "grid_template_columns": null,
            "flex": null,
            "_model_name": "LayoutModel",
            "justify_items": null,
            "grid_row": null,
            "max_height": null,
            "align_content": null,
            "visibility": null,
            "align_self": null,
            "height": null,
            "min_height": null,
            "padding": null,
            "grid_auto_rows": null,
            "grid_gap": null,
            "max_width": null,
            "order": null,
            "_view_module_version": "1.2.0",
            "grid_template_areas": null,
            "object_position": null,
            "object_fit": null,
            "grid_auto_columns": null,
            "margin": null,
            "display": null,
            "left": null
          }
        },
        "56177594b220401da7bdb30ec20c4758": {
          "model_module": "@jupyter-widgets/controls",
          "model_name": "ProgressStyleModel",
          "state": {
            "_view_name": "StyleView",
            "_model_name": "ProgressStyleModel",
            "description_width": "",
            "_view_module": "@jupyter-widgets/base",
            "_model_module_version": "1.5.0",
            "_view_count": null,
            "_view_module_version": "1.2.0",
            "bar_color": null,
            "_model_module": "@jupyter-widgets/controls"
          }
        },
        "948f83e867424dc7bee1d0706e77b398": {
          "model_module": "@jupyter-widgets/base",
          "model_name": "LayoutModel",
          "state": {
            "_view_name": "LayoutView",
            "grid_template_rows": null,
            "right": null,
            "justify_content": null,
            "_view_module": "@jupyter-widgets/base",
            "overflow": null,
            "_model_module_version": "1.2.0",
            "_view_count": null,
            "flex_flow": null,
            "width": null,
            "min_width": null,
            "border": null,
            "align_items": null,
            "bottom": null,
            "_model_module": "@jupyter-widgets/base",
            "top": null,
            "grid_column": null,
            "overflow_y": null,
            "overflow_x": null,
            "grid_auto_flow": null,
            "grid_area": null,
            "grid_template_columns": null,
            "flex": null,
            "_model_name": "LayoutModel",
            "justify_items": null,
            "grid_row": null,
            "max_height": null,
            "align_content": null,
            "visibility": null,
            "align_self": null,
            "height": null,
            "min_height": null,
            "padding": null,
            "grid_auto_rows": null,
            "grid_gap": null,
            "max_width": null,
            "order": null,
            "_view_module_version": "1.2.0",
            "grid_template_areas": null,
            "object_position": null,
            "object_fit": null,
            "grid_auto_columns": null,
            "margin": null,
            "display": null,
            "left": null
          }
        },
        "86b01823efb04a4297b8c5c555c9ca82": {
          "model_module": "@jupyter-widgets/controls",
          "model_name": "VBoxModel",
          "state": {
            "_view_name": "VBoxView",
            "_dom_classes": [],
            "_model_name": "VBoxModel",
            "_view_module": "@jupyter-widgets/controls",
            "_model_module_version": "1.5.0",
            "_view_count": null,
            "_view_module_version": "1.5.0",
            "box_style": "",
            "layout": "IPY_MODEL_3284106034ce4972adcac664a78f7b17",
            "_model_module": "@jupyter-widgets/controls",
            "children": [
              "IPY_MODEL_aea3b740a8874a0e9a681a2e88520d73",
              "IPY_MODEL_c642d4a19a9345329bcb915832542ee0"
            ]
          }
        },
        "3284106034ce4972adcac664a78f7b17": {
          "model_module": "@jupyter-widgets/base",
          "model_name": "LayoutModel",
          "state": {
            "_view_name": "LayoutView",
            "grid_template_rows": null,
            "right": null,
            "justify_content": null,
            "_view_module": "@jupyter-widgets/base",
            "overflow": null,
            "_model_module_version": "1.2.0",
            "_view_count": null,
            "flex_flow": null,
            "width": null,
            "min_width": null,
            "border": null,
            "align_items": null,
            "bottom": null,
            "_model_module": "@jupyter-widgets/base",
            "top": null,
            "grid_column": null,
            "overflow_y": null,
            "overflow_x": null,
            "grid_auto_flow": null,
            "grid_area": null,
            "grid_template_columns": null,
            "flex": null,
            "_model_name": "LayoutModel",
            "justify_items": null,
            "grid_row": null,
            "max_height": null,
            "align_content": null,
            "visibility": null,
            "align_self": null,
            "height": null,
            "min_height": null,
            "padding": null,
            "grid_auto_rows": null,
            "grid_gap": null,
            "max_width": null,
            "order": null,
            "_view_module_version": "1.2.0",
            "grid_template_areas": null,
            "object_position": null,
            "object_fit": null,
            "grid_auto_columns": null,
            "margin": null,
            "display": null,
            "left": null
          }
        },
        "aea3b740a8874a0e9a681a2e88520d73": {
          "model_module": "@jupyter-widgets/controls",
          "model_name": "LabelModel",
          "state": {
            "_view_name": "LabelView",
            "style": "IPY_MODEL_74084643dd1c42fb9f15b316865dc71f",
            "_dom_classes": [],
            "description": "",
            "_model_name": "LabelModel",
            "placeholder": "​",
            "_view_module": "@jupyter-widgets/controls",
            "_model_module_version": "1.5.0",
            "value": " 0.01MB of 0.01MB uploaded (0.00MB deduped)\r",
            "_view_count": null,
            "_view_module_version": "1.5.0",
            "description_tooltip": null,
            "_model_module": "@jupyter-widgets/controls",
            "layout": "IPY_MODEL_f7c8be3d1bbf483ca7401d5df9cde947"
          }
        },
        "c642d4a19a9345329bcb915832542ee0": {
          "model_module": "@jupyter-widgets/controls",
          "model_name": "FloatProgressModel",
          "state": {
            "_view_name": "ProgressView",
            "style": "IPY_MODEL_4c709efe9332427281343eb115b1af15",
            "_dom_classes": [],
            "description": "",
            "_model_name": "FloatProgressModel",
            "bar_style": "",
            "max": 1,
            "_view_module": "@jupyter-widgets/controls",
            "_model_module_version": "1.5.0",
            "value": 1,
            "_view_count": null,
            "_view_module_version": "1.5.0",
            "orientation": "horizontal",
            "min": 0,
            "description_tooltip": null,
            "_model_module": "@jupyter-widgets/controls",
            "layout": "IPY_MODEL_44aca4be4b854c9fac7538dd450b1d96"
          }
        },
        "74084643dd1c42fb9f15b316865dc71f": {
          "model_module": "@jupyter-widgets/controls",
          "model_name": "DescriptionStyleModel",
          "state": {
            "_view_name": "StyleView",
            "_model_name": "DescriptionStyleModel",
            "description_width": "",
            "_view_module": "@jupyter-widgets/base",
            "_model_module_version": "1.5.0",
            "_view_count": null,
            "_view_module_version": "1.2.0",
            "_model_module": "@jupyter-widgets/controls"
          }
        },
        "f7c8be3d1bbf483ca7401d5df9cde947": {
          "model_module": "@jupyter-widgets/base",
          "model_name": "LayoutModel",
          "state": {
            "_view_name": "LayoutView",
            "grid_template_rows": null,
            "right": null,
            "justify_content": null,
            "_view_module": "@jupyter-widgets/base",
            "overflow": null,
            "_model_module_version": "1.2.0",
            "_view_count": null,
            "flex_flow": null,
            "width": null,
            "min_width": null,
            "border": null,
            "align_items": null,
            "bottom": null,
            "_model_module": "@jupyter-widgets/base",
            "top": null,
            "grid_column": null,
            "overflow_y": null,
            "overflow_x": null,
            "grid_auto_flow": null,
            "grid_area": null,
            "grid_template_columns": null,
            "flex": null,
            "_model_name": "LayoutModel",
            "justify_items": null,
            "grid_row": null,
            "max_height": null,
            "align_content": null,
            "visibility": null,
            "align_self": null,
            "height": null,
            "min_height": null,
            "padding": null,
            "grid_auto_rows": null,
            "grid_gap": null,
            "max_width": null,
            "order": null,
            "_view_module_version": "1.2.0",
            "grid_template_areas": null,
            "object_position": null,
            "object_fit": null,
            "grid_auto_columns": null,
            "margin": null,
            "display": null,
            "left": null
          }
        },
        "4c709efe9332427281343eb115b1af15": {
          "model_module": "@jupyter-widgets/controls",
          "model_name": "ProgressStyleModel",
          "state": {
            "_view_name": "StyleView",
            "_model_name": "ProgressStyleModel",
            "description_width": "",
            "_view_module": "@jupyter-widgets/base",
            "_model_module_version": "1.5.0",
            "_view_count": null,
            "_view_module_version": "1.2.0",
            "bar_color": null,
            "_model_module": "@jupyter-widgets/controls"
          }
        },
        "44aca4be4b854c9fac7538dd450b1d96": {
          "model_module": "@jupyter-widgets/base",
          "model_name": "LayoutModel",
          "state": {
            "_view_name": "LayoutView",
            "grid_template_rows": null,
            "right": null,
            "justify_content": null,
            "_view_module": "@jupyter-widgets/base",
            "overflow": null,
            "_model_module_version": "1.2.0",
            "_view_count": null,
            "flex_flow": null,
            "width": null,
            "min_width": null,
            "border": null,
            "align_items": null,
            "bottom": null,
            "_model_module": "@jupyter-widgets/base",
            "top": null,
            "grid_column": null,
            "overflow_y": null,
            "overflow_x": null,
            "grid_auto_flow": null,
            "grid_area": null,
            "grid_template_columns": null,
            "flex": null,
            "_model_name": "LayoutModel",
            "justify_items": null,
            "grid_row": null,
            "max_height": null,
            "align_content": null,
            "visibility": null,
            "align_self": null,
            "height": null,
            "min_height": null,
            "padding": null,
            "grid_auto_rows": null,
            "grid_gap": null,
            "max_width": null,
            "order": null,
            "_view_module_version": "1.2.0",
            "grid_template_areas": null,
            "object_position": null,
            "object_fit": null,
            "grid_auto_columns": null,
            "margin": null,
            "display": null,
            "left": null
          }
        },
        "6d0ed67fdc6841e69ee7f918bd1bcd3f": {
          "model_module": "@jupyter-widgets/controls",
          "model_name": "VBoxModel",
          "state": {
            "_view_name": "VBoxView",
            "_dom_classes": [],
            "_model_name": "VBoxModel",
            "_view_module": "@jupyter-widgets/controls",
            "_model_module_version": "1.5.0",
            "_view_count": null,
            "_view_module_version": "1.5.0",
            "box_style": "",
            "layout": "IPY_MODEL_387fb588ff1e4d61ab72722e72e51439",
            "_model_module": "@jupyter-widgets/controls",
            "children": [
              "IPY_MODEL_bf3bfad0a5f24b4ba1e0fc1f727050a9",
              "IPY_MODEL_cd91de6fe717466fa2a2dc416e8ddd18"
            ]
          }
        },
        "387fb588ff1e4d61ab72722e72e51439": {
          "model_module": "@jupyter-widgets/base",
          "model_name": "LayoutModel",
          "state": {
            "_view_name": "LayoutView",
            "grid_template_rows": null,
            "right": null,
            "justify_content": null,
            "_view_module": "@jupyter-widgets/base",
            "overflow": null,
            "_model_module_version": "1.2.0",
            "_view_count": null,
            "flex_flow": null,
            "width": null,
            "min_width": null,
            "border": null,
            "align_items": null,
            "bottom": null,
            "_model_module": "@jupyter-widgets/base",
            "top": null,
            "grid_column": null,
            "overflow_y": null,
            "overflow_x": null,
            "grid_auto_flow": null,
            "grid_area": null,
            "grid_template_columns": null,
            "flex": null,
            "_model_name": "LayoutModel",
            "justify_items": null,
            "grid_row": null,
            "max_height": null,
            "align_content": null,
            "visibility": null,
            "align_self": null,
            "height": null,
            "min_height": null,
            "padding": null,
            "grid_auto_rows": null,
            "grid_gap": null,
            "max_width": null,
            "order": null,
            "_view_module_version": "1.2.0",
            "grid_template_areas": null,
            "object_position": null,
            "object_fit": null,
            "grid_auto_columns": null,
            "margin": null,
            "display": null,
            "left": null
          }
        },
        "bf3bfad0a5f24b4ba1e0fc1f727050a9": {
          "model_module": "@jupyter-widgets/controls",
          "model_name": "LabelModel",
          "state": {
            "_view_name": "LabelView",
            "style": "IPY_MODEL_e4cdcc1783c248fdbd0fb925b117b7fe",
            "_dom_classes": [],
            "description": "",
            "_model_name": "LabelModel",
            "placeholder": "​",
            "_view_module": "@jupyter-widgets/controls",
            "_model_module_version": "1.5.0",
            "value": " 0.01MB of 0.01MB uploaded (0.00MB deduped)\r",
            "_view_count": null,
            "_view_module_version": "1.5.0",
            "description_tooltip": null,
            "_model_module": "@jupyter-widgets/controls",
            "layout": "IPY_MODEL_5d8b9320136d4601a4de5a98795f896f"
          }
        },
        "cd91de6fe717466fa2a2dc416e8ddd18": {
          "model_module": "@jupyter-widgets/controls",
          "model_name": "FloatProgressModel",
          "state": {
            "_view_name": "ProgressView",
            "style": "IPY_MODEL_45a9112b51c842e78418db4666bc6fda",
            "_dom_classes": [],
            "description": "",
            "_model_name": "FloatProgressModel",
            "bar_style": "",
            "max": 1,
            "_view_module": "@jupyter-widgets/controls",
            "_model_module_version": "1.5.0",
            "value": 1,
            "_view_count": null,
            "_view_module_version": "1.5.0",
            "orientation": "horizontal",
            "min": 0,
            "description_tooltip": null,
            "_model_module": "@jupyter-widgets/controls",
            "layout": "IPY_MODEL_b1e417d6388546dda38c59c246b78fc6"
          }
        },
        "e4cdcc1783c248fdbd0fb925b117b7fe": {
          "model_module": "@jupyter-widgets/controls",
          "model_name": "DescriptionStyleModel",
          "state": {
            "_view_name": "StyleView",
            "_model_name": "DescriptionStyleModel",
            "description_width": "",
            "_view_module": "@jupyter-widgets/base",
            "_model_module_version": "1.5.0",
            "_view_count": null,
            "_view_module_version": "1.2.0",
            "_model_module": "@jupyter-widgets/controls"
          }
        },
        "5d8b9320136d4601a4de5a98795f896f": {
          "model_module": "@jupyter-widgets/base",
          "model_name": "LayoutModel",
          "state": {
            "_view_name": "LayoutView",
            "grid_template_rows": null,
            "right": null,
            "justify_content": null,
            "_view_module": "@jupyter-widgets/base",
            "overflow": null,
            "_model_module_version": "1.2.0",
            "_view_count": null,
            "flex_flow": null,
            "width": null,
            "min_width": null,
            "border": null,
            "align_items": null,
            "bottom": null,
            "_model_module": "@jupyter-widgets/base",
            "top": null,
            "grid_column": null,
            "overflow_y": null,
            "overflow_x": null,
            "grid_auto_flow": null,
            "grid_area": null,
            "grid_template_columns": null,
            "flex": null,
            "_model_name": "LayoutModel",
            "justify_items": null,
            "grid_row": null,
            "max_height": null,
            "align_content": null,
            "visibility": null,
            "align_self": null,
            "height": null,
            "min_height": null,
            "padding": null,
            "grid_auto_rows": null,
            "grid_gap": null,
            "max_width": null,
            "order": null,
            "_view_module_version": "1.2.0",
            "grid_template_areas": null,
            "object_position": null,
            "object_fit": null,
            "grid_auto_columns": null,
            "margin": null,
            "display": null,
            "left": null
          }
        },
        "45a9112b51c842e78418db4666bc6fda": {
          "model_module": "@jupyter-widgets/controls",
          "model_name": "ProgressStyleModel",
          "state": {
            "_view_name": "StyleView",
            "_model_name": "ProgressStyleModel",
            "description_width": "",
            "_view_module": "@jupyter-widgets/base",
            "_model_module_version": "1.5.0",
            "_view_count": null,
            "_view_module_version": "1.2.0",
            "bar_color": null,
            "_model_module": "@jupyter-widgets/controls"
          }
        },
        "b1e417d6388546dda38c59c246b78fc6": {
          "model_module": "@jupyter-widgets/base",
          "model_name": "LayoutModel",
          "state": {
            "_view_name": "LayoutView",
            "grid_template_rows": null,
            "right": null,
            "justify_content": null,
            "_view_module": "@jupyter-widgets/base",
            "overflow": null,
            "_model_module_version": "1.2.0",
            "_view_count": null,
            "flex_flow": null,
            "width": null,
            "min_width": null,
            "border": null,
            "align_items": null,
            "bottom": null,
            "_model_module": "@jupyter-widgets/base",
            "top": null,
            "grid_column": null,
            "overflow_y": null,
            "overflow_x": null,
            "grid_auto_flow": null,
            "grid_area": null,
            "grid_template_columns": null,
            "flex": null,
            "_model_name": "LayoutModel",
            "justify_items": null,
            "grid_row": null,
            "max_height": null,
            "align_content": null,
            "visibility": null,
            "align_self": null,
            "height": null,
            "min_height": null,
            "padding": null,
            "grid_auto_rows": null,
            "grid_gap": null,
            "max_width": null,
            "order": null,
            "_view_module_version": "1.2.0",
            "grid_template_areas": null,
            "object_position": null,
            "object_fit": null,
            "grid_auto_columns": null,
            "margin": null,
            "display": null,
            "left": null
          }
        },
        "e3ff7b817f0048c391f4f2932507d2a5": {
          "model_module": "@jupyter-widgets/controls",
          "model_name": "VBoxModel",
          "state": {
            "_view_name": "VBoxView",
            "_dom_classes": [],
            "_model_name": "VBoxModel",
            "_view_module": "@jupyter-widgets/controls",
            "_model_module_version": "1.5.0",
            "_view_count": null,
            "_view_module_version": "1.5.0",
            "box_style": "",
            "layout": "IPY_MODEL_139564138f5f4943b96ba6a317a60d90",
            "_model_module": "@jupyter-widgets/controls",
            "children": [
              "IPY_MODEL_4878e5ead6bd4e13bcc33d4acdc3f231",
              "IPY_MODEL_0403d675b3904b1d8f81811f09d39f19"
            ]
          }
        },
        "139564138f5f4943b96ba6a317a60d90": {
          "model_module": "@jupyter-widgets/base",
          "model_name": "LayoutModel",
          "state": {
            "_view_name": "LayoutView",
            "grid_template_rows": null,
            "right": null,
            "justify_content": null,
            "_view_module": "@jupyter-widgets/base",
            "overflow": null,
            "_model_module_version": "1.2.0",
            "_view_count": null,
            "flex_flow": null,
            "width": null,
            "min_width": null,
            "border": null,
            "align_items": null,
            "bottom": null,
            "_model_module": "@jupyter-widgets/base",
            "top": null,
            "grid_column": null,
            "overflow_y": null,
            "overflow_x": null,
            "grid_auto_flow": null,
            "grid_area": null,
            "grid_template_columns": null,
            "flex": null,
            "_model_name": "LayoutModel",
            "justify_items": null,
            "grid_row": null,
            "max_height": null,
            "align_content": null,
            "visibility": null,
            "align_self": null,
            "height": null,
            "min_height": null,
            "padding": null,
            "grid_auto_rows": null,
            "grid_gap": null,
            "max_width": null,
            "order": null,
            "_view_module_version": "1.2.0",
            "grid_template_areas": null,
            "object_position": null,
            "object_fit": null,
            "grid_auto_columns": null,
            "margin": null,
            "display": null,
            "left": null
          }
        },
        "4878e5ead6bd4e13bcc33d4acdc3f231": {
          "model_module": "@jupyter-widgets/controls",
          "model_name": "LabelModel",
          "state": {
            "_view_name": "LabelView",
            "style": "IPY_MODEL_e24ca8340caa4882bc601875ac77a24e",
            "_dom_classes": [],
            "description": "",
            "_model_name": "LabelModel",
            "placeholder": "​",
            "_view_module": "@jupyter-widgets/controls",
            "_model_module_version": "1.5.0",
            "value": " 0.01MB of 0.01MB uploaded (0.00MB deduped)\r",
            "_view_count": null,
            "_view_module_version": "1.5.0",
            "description_tooltip": null,
            "_model_module": "@jupyter-widgets/controls",
            "layout": "IPY_MODEL_55c3c51d01044b7bbdb3c5fd3b8753a9"
          }
        },
        "0403d675b3904b1d8f81811f09d39f19": {
          "model_module": "@jupyter-widgets/controls",
          "model_name": "FloatProgressModel",
          "state": {
            "_view_name": "ProgressView",
            "style": "IPY_MODEL_10601e6b2b334cc9afe770dd240f7541",
            "_dom_classes": [],
            "description": "",
            "_model_name": "FloatProgressModel",
            "bar_style": "",
            "max": 1,
            "_view_module": "@jupyter-widgets/controls",
            "_model_module_version": "1.5.0",
            "value": 1,
            "_view_count": null,
            "_view_module_version": "1.5.0",
            "orientation": "horizontal",
            "min": 0,
            "description_tooltip": null,
            "_model_module": "@jupyter-widgets/controls",
            "layout": "IPY_MODEL_90ba9ca0ab514c9d8b994f4122b2e89f"
          }
        },
        "e24ca8340caa4882bc601875ac77a24e": {
          "model_module": "@jupyter-widgets/controls",
          "model_name": "DescriptionStyleModel",
          "state": {
            "_view_name": "StyleView",
            "_model_name": "DescriptionStyleModel",
            "description_width": "",
            "_view_module": "@jupyter-widgets/base",
            "_model_module_version": "1.5.0",
            "_view_count": null,
            "_view_module_version": "1.2.0",
            "_model_module": "@jupyter-widgets/controls"
          }
        },
        "55c3c51d01044b7bbdb3c5fd3b8753a9": {
          "model_module": "@jupyter-widgets/base",
          "model_name": "LayoutModel",
          "state": {
            "_view_name": "LayoutView",
            "grid_template_rows": null,
            "right": null,
            "justify_content": null,
            "_view_module": "@jupyter-widgets/base",
            "overflow": null,
            "_model_module_version": "1.2.0",
            "_view_count": null,
            "flex_flow": null,
            "width": null,
            "min_width": null,
            "border": null,
            "align_items": null,
            "bottom": null,
            "_model_module": "@jupyter-widgets/base",
            "top": null,
            "grid_column": null,
            "overflow_y": null,
            "overflow_x": null,
            "grid_auto_flow": null,
            "grid_area": null,
            "grid_template_columns": null,
            "flex": null,
            "_model_name": "LayoutModel",
            "justify_items": null,
            "grid_row": null,
            "max_height": null,
            "align_content": null,
            "visibility": null,
            "align_self": null,
            "height": null,
            "min_height": null,
            "padding": null,
            "grid_auto_rows": null,
            "grid_gap": null,
            "max_width": null,
            "order": null,
            "_view_module_version": "1.2.0",
            "grid_template_areas": null,
            "object_position": null,
            "object_fit": null,
            "grid_auto_columns": null,
            "margin": null,
            "display": null,
            "left": null
          }
        },
        "10601e6b2b334cc9afe770dd240f7541": {
          "model_module": "@jupyter-widgets/controls",
          "model_name": "ProgressStyleModel",
          "state": {
            "_view_name": "StyleView",
            "_model_name": "ProgressStyleModel",
            "description_width": "",
            "_view_module": "@jupyter-widgets/base",
            "_model_module_version": "1.5.0",
            "_view_count": null,
            "_view_module_version": "1.2.0",
            "bar_color": null,
            "_model_module": "@jupyter-widgets/controls"
          }
        },
        "90ba9ca0ab514c9d8b994f4122b2e89f": {
          "model_module": "@jupyter-widgets/base",
          "model_name": "LayoutModel",
          "state": {
            "_view_name": "LayoutView",
            "grid_template_rows": null,
            "right": null,
            "justify_content": null,
            "_view_module": "@jupyter-widgets/base",
            "overflow": null,
            "_model_module_version": "1.2.0",
            "_view_count": null,
            "flex_flow": null,
            "width": null,
            "min_width": null,
            "border": null,
            "align_items": null,
            "bottom": null,
            "_model_module": "@jupyter-widgets/base",
            "top": null,
            "grid_column": null,
            "overflow_y": null,
            "overflow_x": null,
            "grid_auto_flow": null,
            "grid_area": null,
            "grid_template_columns": null,
            "flex": null,
            "_model_name": "LayoutModel",
            "justify_items": null,
            "grid_row": null,
            "max_height": null,
            "align_content": null,
            "visibility": null,
            "align_self": null,
            "height": null,
            "min_height": null,
            "padding": null,
            "grid_auto_rows": null,
            "grid_gap": null,
            "max_width": null,
            "order": null,
            "_view_module_version": "1.2.0",
            "grid_template_areas": null,
            "object_position": null,
            "object_fit": null,
            "grid_auto_columns": null,
            "margin": null,
            "display": null,
            "left": null
          }
        },
        "0dfa10c763bc409180e69ef6dedb690f": {
          "model_module": "@jupyter-widgets/controls",
          "model_name": "VBoxModel",
          "state": {
            "_view_name": "VBoxView",
            "_dom_classes": [],
            "_model_name": "VBoxModel",
            "_view_module": "@jupyter-widgets/controls",
            "_model_module_version": "1.5.0",
            "_view_count": null,
            "_view_module_version": "1.5.0",
            "box_style": "",
            "layout": "IPY_MODEL_ed154936feda43fbbb52a2a845c202f1",
            "_model_module": "@jupyter-widgets/controls",
            "children": [
              "IPY_MODEL_9ad66191320a447e8ce28697a4c0cab8",
              "IPY_MODEL_f306b783202b421b90fa59ccc1b69337"
            ]
          }
        },
        "ed154936feda43fbbb52a2a845c202f1": {
          "model_module": "@jupyter-widgets/base",
          "model_name": "LayoutModel",
          "state": {
            "_view_name": "LayoutView",
            "grid_template_rows": null,
            "right": null,
            "justify_content": null,
            "_view_module": "@jupyter-widgets/base",
            "overflow": null,
            "_model_module_version": "1.2.0",
            "_view_count": null,
            "flex_flow": null,
            "width": null,
            "min_width": null,
            "border": null,
            "align_items": null,
            "bottom": null,
            "_model_module": "@jupyter-widgets/base",
            "top": null,
            "grid_column": null,
            "overflow_y": null,
            "overflow_x": null,
            "grid_auto_flow": null,
            "grid_area": null,
            "grid_template_columns": null,
            "flex": null,
            "_model_name": "LayoutModel",
            "justify_items": null,
            "grid_row": null,
            "max_height": null,
            "align_content": null,
            "visibility": null,
            "align_self": null,
            "height": null,
            "min_height": null,
            "padding": null,
            "grid_auto_rows": null,
            "grid_gap": null,
            "max_width": null,
            "order": null,
            "_view_module_version": "1.2.0",
            "grid_template_areas": null,
            "object_position": null,
            "object_fit": null,
            "grid_auto_columns": null,
            "margin": null,
            "display": null,
            "left": null
          }
        },
        "9ad66191320a447e8ce28697a4c0cab8": {
          "model_module": "@jupyter-widgets/controls",
          "model_name": "LabelModel",
          "state": {
            "_view_name": "LabelView",
            "style": "IPY_MODEL_03e83143ee6b47ecb07e05dd33099a63",
            "_dom_classes": [],
            "description": "",
            "_model_name": "LabelModel",
            "placeholder": "​",
            "_view_module": "@jupyter-widgets/controls",
            "_model_module_version": "1.5.0",
            "value": " 0.01MB of 0.01MB uploaded (0.00MB deduped)\r",
            "_view_count": null,
            "_view_module_version": "1.5.0",
            "description_tooltip": null,
            "_model_module": "@jupyter-widgets/controls",
            "layout": "IPY_MODEL_88da58c5fa5c4cc7a85af9b6b62b3941"
          }
        },
        "f306b783202b421b90fa59ccc1b69337": {
          "model_module": "@jupyter-widgets/controls",
          "model_name": "FloatProgressModel",
          "state": {
            "_view_name": "ProgressView",
            "style": "IPY_MODEL_3e6cd1a6306849e49a2250bd065fe782",
            "_dom_classes": [],
            "description": "",
            "_model_name": "FloatProgressModel",
            "bar_style": "",
            "max": 1,
            "_view_module": "@jupyter-widgets/controls",
            "_model_module_version": "1.5.0",
            "value": 1,
            "_view_count": null,
            "_view_module_version": "1.5.0",
            "orientation": "horizontal",
            "min": 0,
            "description_tooltip": null,
            "_model_module": "@jupyter-widgets/controls",
            "layout": "IPY_MODEL_45f9d5f78a34469bbc4c0f0b8a9a2bc9"
          }
        },
        "03e83143ee6b47ecb07e05dd33099a63": {
          "model_module": "@jupyter-widgets/controls",
          "model_name": "DescriptionStyleModel",
          "state": {
            "_view_name": "StyleView",
            "_model_name": "DescriptionStyleModel",
            "description_width": "",
            "_view_module": "@jupyter-widgets/base",
            "_model_module_version": "1.5.0",
            "_view_count": null,
            "_view_module_version": "1.2.0",
            "_model_module": "@jupyter-widgets/controls"
          }
        },
        "88da58c5fa5c4cc7a85af9b6b62b3941": {
          "model_module": "@jupyter-widgets/base",
          "model_name": "LayoutModel",
          "state": {
            "_view_name": "LayoutView",
            "grid_template_rows": null,
            "right": null,
            "justify_content": null,
            "_view_module": "@jupyter-widgets/base",
            "overflow": null,
            "_model_module_version": "1.2.0",
            "_view_count": null,
            "flex_flow": null,
            "width": null,
            "min_width": null,
            "border": null,
            "align_items": null,
            "bottom": null,
            "_model_module": "@jupyter-widgets/base",
            "top": null,
            "grid_column": null,
            "overflow_y": null,
            "overflow_x": null,
            "grid_auto_flow": null,
            "grid_area": null,
            "grid_template_columns": null,
            "flex": null,
            "_model_name": "LayoutModel",
            "justify_items": null,
            "grid_row": null,
            "max_height": null,
            "align_content": null,
            "visibility": null,
            "align_self": null,
            "height": null,
            "min_height": null,
            "padding": null,
            "grid_auto_rows": null,
            "grid_gap": null,
            "max_width": null,
            "order": null,
            "_view_module_version": "1.2.0",
            "grid_template_areas": null,
            "object_position": null,
            "object_fit": null,
            "grid_auto_columns": null,
            "margin": null,
            "display": null,
            "left": null
          }
        },
        "3e6cd1a6306849e49a2250bd065fe782": {
          "model_module": "@jupyter-widgets/controls",
          "model_name": "ProgressStyleModel",
          "state": {
            "_view_name": "StyleView",
            "_model_name": "ProgressStyleModel",
            "description_width": "",
            "_view_module": "@jupyter-widgets/base",
            "_model_module_version": "1.5.0",
            "_view_count": null,
            "_view_module_version": "1.2.0",
            "bar_color": null,
            "_model_module": "@jupyter-widgets/controls"
          }
        },
        "45f9d5f78a34469bbc4c0f0b8a9a2bc9": {
          "model_module": "@jupyter-widgets/base",
          "model_name": "LayoutModel",
          "state": {
            "_view_name": "LayoutView",
            "grid_template_rows": null,
            "right": null,
            "justify_content": null,
            "_view_module": "@jupyter-widgets/base",
            "overflow": null,
            "_model_module_version": "1.2.0",
            "_view_count": null,
            "flex_flow": null,
            "width": null,
            "min_width": null,
            "border": null,
            "align_items": null,
            "bottom": null,
            "_model_module": "@jupyter-widgets/base",
            "top": null,
            "grid_column": null,
            "overflow_y": null,
            "overflow_x": null,
            "grid_auto_flow": null,
            "grid_area": null,
            "grid_template_columns": null,
            "flex": null,
            "_model_name": "LayoutModel",
            "justify_items": null,
            "grid_row": null,
            "max_height": null,
            "align_content": null,
            "visibility": null,
            "align_self": null,
            "height": null,
            "min_height": null,
            "padding": null,
            "grid_auto_rows": null,
            "grid_gap": null,
            "max_width": null,
            "order": null,
            "_view_module_version": "1.2.0",
            "grid_template_areas": null,
            "object_position": null,
            "object_fit": null,
            "grid_auto_columns": null,
            "margin": null,
            "display": null,
            "left": null
          }
        },
        "cea0cf2313be4a6388b57e66a3ddb65d": {
          "model_module": "@jupyter-widgets/controls",
          "model_name": "VBoxModel",
          "state": {
            "_view_name": "VBoxView",
            "_dom_classes": [],
            "_model_name": "VBoxModel",
            "_view_module": "@jupyter-widgets/controls",
            "_model_module_version": "1.5.0",
            "_view_count": null,
            "_view_module_version": "1.5.0",
            "box_style": "",
            "layout": "IPY_MODEL_bccb2fd54c5549ad9ba4013ef4f6ce12",
            "_model_module": "@jupyter-widgets/controls",
            "children": [
              "IPY_MODEL_785e47d8f75043969a63476c90c42e7b",
              "IPY_MODEL_e9ef4e2faee6474d90dff904807a7098"
            ]
          }
        },
        "bccb2fd54c5549ad9ba4013ef4f6ce12": {
          "model_module": "@jupyter-widgets/base",
          "model_name": "LayoutModel",
          "state": {
            "_view_name": "LayoutView",
            "grid_template_rows": null,
            "right": null,
            "justify_content": null,
            "_view_module": "@jupyter-widgets/base",
            "overflow": null,
            "_model_module_version": "1.2.0",
            "_view_count": null,
            "flex_flow": null,
            "width": null,
            "min_width": null,
            "border": null,
            "align_items": null,
            "bottom": null,
            "_model_module": "@jupyter-widgets/base",
            "top": null,
            "grid_column": null,
            "overflow_y": null,
            "overflow_x": null,
            "grid_auto_flow": null,
            "grid_area": null,
            "grid_template_columns": null,
            "flex": null,
            "_model_name": "LayoutModel",
            "justify_items": null,
            "grid_row": null,
            "max_height": null,
            "align_content": null,
            "visibility": null,
            "align_self": null,
            "height": null,
            "min_height": null,
            "padding": null,
            "grid_auto_rows": null,
            "grid_gap": null,
            "max_width": null,
            "order": null,
            "_view_module_version": "1.2.0",
            "grid_template_areas": null,
            "object_position": null,
            "object_fit": null,
            "grid_auto_columns": null,
            "margin": null,
            "display": null,
            "left": null
          }
        },
        "785e47d8f75043969a63476c90c42e7b": {
          "model_module": "@jupyter-widgets/controls",
          "model_name": "LabelModel",
          "state": {
            "_view_name": "LabelView",
            "style": "IPY_MODEL_5e7de318b3724a37b929313741f5bf5e",
            "_dom_classes": [],
            "description": "",
            "_model_name": "LabelModel",
            "placeholder": "​",
            "_view_module": "@jupyter-widgets/controls",
            "_model_module_version": "1.5.0",
            "value": " 0.01MB of 0.01MB uploaded (0.00MB deduped)\r",
            "_view_count": null,
            "_view_module_version": "1.5.0",
            "description_tooltip": null,
            "_model_module": "@jupyter-widgets/controls",
            "layout": "IPY_MODEL_04a591b27373467b89216e2b6d166298"
          }
        },
        "e9ef4e2faee6474d90dff904807a7098": {
          "model_module": "@jupyter-widgets/controls",
          "model_name": "FloatProgressModel",
          "state": {
            "_view_name": "ProgressView",
            "style": "IPY_MODEL_153b991926354a42bdf5635ceea9a843",
            "_dom_classes": [],
            "description": "",
            "_model_name": "FloatProgressModel",
            "bar_style": "",
            "max": 1,
            "_view_module": "@jupyter-widgets/controls",
            "_model_module_version": "1.5.0",
            "value": 1,
            "_view_count": null,
            "_view_module_version": "1.5.0",
            "orientation": "horizontal",
            "min": 0,
            "description_tooltip": null,
            "_model_module": "@jupyter-widgets/controls",
            "layout": "IPY_MODEL_ba80343ef5d843fca127e349f1a73e18"
          }
        },
        "5e7de318b3724a37b929313741f5bf5e": {
          "model_module": "@jupyter-widgets/controls",
          "model_name": "DescriptionStyleModel",
          "state": {
            "_view_name": "StyleView",
            "_model_name": "DescriptionStyleModel",
            "description_width": "",
            "_view_module": "@jupyter-widgets/base",
            "_model_module_version": "1.5.0",
            "_view_count": null,
            "_view_module_version": "1.2.0",
            "_model_module": "@jupyter-widgets/controls"
          }
        },
        "04a591b27373467b89216e2b6d166298": {
          "model_module": "@jupyter-widgets/base",
          "model_name": "LayoutModel",
          "state": {
            "_view_name": "LayoutView",
            "grid_template_rows": null,
            "right": null,
            "justify_content": null,
            "_view_module": "@jupyter-widgets/base",
            "overflow": null,
            "_model_module_version": "1.2.0",
            "_view_count": null,
            "flex_flow": null,
            "width": null,
            "min_width": null,
            "border": null,
            "align_items": null,
            "bottom": null,
            "_model_module": "@jupyter-widgets/base",
            "top": null,
            "grid_column": null,
            "overflow_y": null,
            "overflow_x": null,
            "grid_auto_flow": null,
            "grid_area": null,
            "grid_template_columns": null,
            "flex": null,
            "_model_name": "LayoutModel",
            "justify_items": null,
            "grid_row": null,
            "max_height": null,
            "align_content": null,
            "visibility": null,
            "align_self": null,
            "height": null,
            "min_height": null,
            "padding": null,
            "grid_auto_rows": null,
            "grid_gap": null,
            "max_width": null,
            "order": null,
            "_view_module_version": "1.2.0",
            "grid_template_areas": null,
            "object_position": null,
            "object_fit": null,
            "grid_auto_columns": null,
            "margin": null,
            "display": null,
            "left": null
          }
        },
        "153b991926354a42bdf5635ceea9a843": {
          "model_module": "@jupyter-widgets/controls",
          "model_name": "ProgressStyleModel",
          "state": {
            "_view_name": "StyleView",
            "_model_name": "ProgressStyleModel",
            "description_width": "",
            "_view_module": "@jupyter-widgets/base",
            "_model_module_version": "1.5.0",
            "_view_count": null,
            "_view_module_version": "1.2.0",
            "bar_color": null,
            "_model_module": "@jupyter-widgets/controls"
          }
        },
        "ba80343ef5d843fca127e349f1a73e18": {
          "model_module": "@jupyter-widgets/base",
          "model_name": "LayoutModel",
          "state": {
            "_view_name": "LayoutView",
            "grid_template_rows": null,
            "right": null,
            "justify_content": null,
            "_view_module": "@jupyter-widgets/base",
            "overflow": null,
            "_model_module_version": "1.2.0",
            "_view_count": null,
            "flex_flow": null,
            "width": null,
            "min_width": null,
            "border": null,
            "align_items": null,
            "bottom": null,
            "_model_module": "@jupyter-widgets/base",
            "top": null,
            "grid_column": null,
            "overflow_y": null,
            "overflow_x": null,
            "grid_auto_flow": null,
            "grid_area": null,
            "grid_template_columns": null,
            "flex": null,
            "_model_name": "LayoutModel",
            "justify_items": null,
            "grid_row": null,
            "max_height": null,
            "align_content": null,
            "visibility": null,
            "align_self": null,
            "height": null,
            "min_height": null,
            "padding": null,
            "grid_auto_rows": null,
            "grid_gap": null,
            "max_width": null,
            "order": null,
            "_view_module_version": "1.2.0",
            "grid_template_areas": null,
            "object_position": null,
            "object_fit": null,
            "grid_auto_columns": null,
            "margin": null,
            "display": null,
            "left": null
          }
        },
        "324e2d07281d4039ba586229a32c595b": {
          "model_module": "@jupyter-widgets/controls",
          "model_name": "VBoxModel",
          "state": {
            "_view_name": "VBoxView",
            "_dom_classes": [],
            "_model_name": "VBoxModel",
            "_view_module": "@jupyter-widgets/controls",
            "_model_module_version": "1.5.0",
            "_view_count": null,
            "_view_module_version": "1.5.0",
            "box_style": "",
            "layout": "IPY_MODEL_fbf647f30d794fbf9743ef566c167655",
            "_model_module": "@jupyter-widgets/controls",
            "children": [
              "IPY_MODEL_56b31b2b8dfb4e65bd9eef6238dc9eac",
              "IPY_MODEL_5333c1bda97d423ba87d4d89c995b06f"
            ]
          }
        },
        "fbf647f30d794fbf9743ef566c167655": {
          "model_module": "@jupyter-widgets/base",
          "model_name": "LayoutModel",
          "state": {
            "_view_name": "LayoutView",
            "grid_template_rows": null,
            "right": null,
            "justify_content": null,
            "_view_module": "@jupyter-widgets/base",
            "overflow": null,
            "_model_module_version": "1.2.0",
            "_view_count": null,
            "flex_flow": null,
            "width": null,
            "min_width": null,
            "border": null,
            "align_items": null,
            "bottom": null,
            "_model_module": "@jupyter-widgets/base",
            "top": null,
            "grid_column": null,
            "overflow_y": null,
            "overflow_x": null,
            "grid_auto_flow": null,
            "grid_area": null,
            "grid_template_columns": null,
            "flex": null,
            "_model_name": "LayoutModel",
            "justify_items": null,
            "grid_row": null,
            "max_height": null,
            "align_content": null,
            "visibility": null,
            "align_self": null,
            "height": null,
            "min_height": null,
            "padding": null,
            "grid_auto_rows": null,
            "grid_gap": null,
            "max_width": null,
            "order": null,
            "_view_module_version": "1.2.0",
            "grid_template_areas": null,
            "object_position": null,
            "object_fit": null,
            "grid_auto_columns": null,
            "margin": null,
            "display": null,
            "left": null
          }
        },
        "56b31b2b8dfb4e65bd9eef6238dc9eac": {
          "model_module": "@jupyter-widgets/controls",
          "model_name": "LabelModel",
          "state": {
            "_view_name": "LabelView",
            "style": "IPY_MODEL_69739912746242e795c0a8347465d46b",
            "_dom_classes": [],
            "description": "",
            "_model_name": "LabelModel",
            "placeholder": "​",
            "_view_module": "@jupyter-widgets/controls",
            "_model_module_version": "1.5.0",
            "value": " 0.01MB of 0.01MB uploaded (0.00MB deduped)\r",
            "_view_count": null,
            "_view_module_version": "1.5.0",
            "description_tooltip": null,
            "_model_module": "@jupyter-widgets/controls",
            "layout": "IPY_MODEL_3c92dfd06626455e96d8b7b0620ca3c0"
          }
        },
        "5333c1bda97d423ba87d4d89c995b06f": {
          "model_module": "@jupyter-widgets/controls",
          "model_name": "FloatProgressModel",
          "state": {
            "_view_name": "ProgressView",
            "style": "IPY_MODEL_f668e4ab78ab458da324b6dd08f62e4e",
            "_dom_classes": [],
            "description": "",
            "_model_name": "FloatProgressModel",
            "bar_style": "",
            "max": 1,
            "_view_module": "@jupyter-widgets/controls",
            "_model_module_version": "1.5.0",
            "value": 1,
            "_view_count": null,
            "_view_module_version": "1.5.0",
            "orientation": "horizontal",
            "min": 0,
            "description_tooltip": null,
            "_model_module": "@jupyter-widgets/controls",
            "layout": "IPY_MODEL_8e549e58792746559ea51bee9156bbb5"
          }
        },
        "69739912746242e795c0a8347465d46b": {
          "model_module": "@jupyter-widgets/controls",
          "model_name": "DescriptionStyleModel",
          "state": {
            "_view_name": "StyleView",
            "_model_name": "DescriptionStyleModel",
            "description_width": "",
            "_view_module": "@jupyter-widgets/base",
            "_model_module_version": "1.5.0",
            "_view_count": null,
            "_view_module_version": "1.2.0",
            "_model_module": "@jupyter-widgets/controls"
          }
        },
        "3c92dfd06626455e96d8b7b0620ca3c0": {
          "model_module": "@jupyter-widgets/base",
          "model_name": "LayoutModel",
          "state": {
            "_view_name": "LayoutView",
            "grid_template_rows": null,
            "right": null,
            "justify_content": null,
            "_view_module": "@jupyter-widgets/base",
            "overflow": null,
            "_model_module_version": "1.2.0",
            "_view_count": null,
            "flex_flow": null,
            "width": null,
            "min_width": null,
            "border": null,
            "align_items": null,
            "bottom": null,
            "_model_module": "@jupyter-widgets/base",
            "top": null,
            "grid_column": null,
            "overflow_y": null,
            "overflow_x": null,
            "grid_auto_flow": null,
            "grid_area": null,
            "grid_template_columns": null,
            "flex": null,
            "_model_name": "LayoutModel",
            "justify_items": null,
            "grid_row": null,
            "max_height": null,
            "align_content": null,
            "visibility": null,
            "align_self": null,
            "height": null,
            "min_height": null,
            "padding": null,
            "grid_auto_rows": null,
            "grid_gap": null,
            "max_width": null,
            "order": null,
            "_view_module_version": "1.2.0",
            "grid_template_areas": null,
            "object_position": null,
            "object_fit": null,
            "grid_auto_columns": null,
            "margin": null,
            "display": null,
            "left": null
          }
        },
        "f668e4ab78ab458da324b6dd08f62e4e": {
          "model_module": "@jupyter-widgets/controls",
          "model_name": "ProgressStyleModel",
          "state": {
            "_view_name": "StyleView",
            "_model_name": "ProgressStyleModel",
            "description_width": "",
            "_view_module": "@jupyter-widgets/base",
            "_model_module_version": "1.5.0",
            "_view_count": null,
            "_view_module_version": "1.2.0",
            "bar_color": null,
            "_model_module": "@jupyter-widgets/controls"
          }
        },
        "8e549e58792746559ea51bee9156bbb5": {
          "model_module": "@jupyter-widgets/base",
          "model_name": "LayoutModel",
          "state": {
            "_view_name": "LayoutView",
            "grid_template_rows": null,
            "right": null,
            "justify_content": null,
            "_view_module": "@jupyter-widgets/base",
            "overflow": null,
            "_model_module_version": "1.2.0",
            "_view_count": null,
            "flex_flow": null,
            "width": null,
            "min_width": null,
            "border": null,
            "align_items": null,
            "bottom": null,
            "_model_module": "@jupyter-widgets/base",
            "top": null,
            "grid_column": null,
            "overflow_y": null,
            "overflow_x": null,
            "grid_auto_flow": null,
            "grid_area": null,
            "grid_template_columns": null,
            "flex": null,
            "_model_name": "LayoutModel",
            "justify_items": null,
            "grid_row": null,
            "max_height": null,
            "align_content": null,
            "visibility": null,
            "align_self": null,
            "height": null,
            "min_height": null,
            "padding": null,
            "grid_auto_rows": null,
            "grid_gap": null,
            "max_width": null,
            "order": null,
            "_view_module_version": "1.2.0",
            "grid_template_areas": null,
            "object_position": null,
            "object_fit": null,
            "grid_auto_columns": null,
            "margin": null,
            "display": null,
            "left": null
          }
        },
        "c918e3dd96e341dd851ea814a63c28ac": {
          "model_module": "@jupyter-widgets/controls",
          "model_name": "VBoxModel",
          "state": {
            "_view_name": "VBoxView",
            "_dom_classes": [],
            "_model_name": "VBoxModel",
            "_view_module": "@jupyter-widgets/controls",
            "_model_module_version": "1.5.0",
            "_view_count": null,
            "_view_module_version": "1.5.0",
            "box_style": "",
            "layout": "IPY_MODEL_3b976295b8d64d0da24f77c135b326b1",
            "_model_module": "@jupyter-widgets/controls",
            "children": [
              "IPY_MODEL_9f98ef94862a49b0b66b033bf0829b4b",
              "IPY_MODEL_7adf442ce0f44217ac941cbe3e743ec7"
            ]
          }
        },
        "3b976295b8d64d0da24f77c135b326b1": {
          "model_module": "@jupyter-widgets/base",
          "model_name": "LayoutModel",
          "state": {
            "_view_name": "LayoutView",
            "grid_template_rows": null,
            "right": null,
            "justify_content": null,
            "_view_module": "@jupyter-widgets/base",
            "overflow": null,
            "_model_module_version": "1.2.0",
            "_view_count": null,
            "flex_flow": null,
            "width": null,
            "min_width": null,
            "border": null,
            "align_items": null,
            "bottom": null,
            "_model_module": "@jupyter-widgets/base",
            "top": null,
            "grid_column": null,
            "overflow_y": null,
            "overflow_x": null,
            "grid_auto_flow": null,
            "grid_area": null,
            "grid_template_columns": null,
            "flex": null,
            "_model_name": "LayoutModel",
            "justify_items": null,
            "grid_row": null,
            "max_height": null,
            "align_content": null,
            "visibility": null,
            "align_self": null,
            "height": null,
            "min_height": null,
            "padding": null,
            "grid_auto_rows": null,
            "grid_gap": null,
            "max_width": null,
            "order": null,
            "_view_module_version": "1.2.0",
            "grid_template_areas": null,
            "object_position": null,
            "object_fit": null,
            "grid_auto_columns": null,
            "margin": null,
            "display": null,
            "left": null
          }
        },
        "9f98ef94862a49b0b66b033bf0829b4b": {
          "model_module": "@jupyter-widgets/controls",
          "model_name": "LabelModel",
          "state": {
            "_view_name": "LabelView",
            "style": "IPY_MODEL_a406b95d07b548b2a2c0f993a24c7de9",
            "_dom_classes": [],
            "description": "",
            "_model_name": "LabelModel",
            "placeholder": "​",
            "_view_module": "@jupyter-widgets/controls",
            "_model_module_version": "1.5.0",
            "value": " 0.01MB of 0.01MB uploaded (0.00MB deduped)\r",
            "_view_count": null,
            "_view_module_version": "1.5.0",
            "description_tooltip": null,
            "_model_module": "@jupyter-widgets/controls",
            "layout": "IPY_MODEL_fca1fdfe827b4532a52724012c4d1dd1"
          }
        },
        "7adf442ce0f44217ac941cbe3e743ec7": {
          "model_module": "@jupyter-widgets/controls",
          "model_name": "FloatProgressModel",
          "state": {
            "_view_name": "ProgressView",
            "style": "IPY_MODEL_4d2d2020c86e4a9696cc3af2a1548e20",
            "_dom_classes": [],
            "description": "",
            "_model_name": "FloatProgressModel",
            "bar_style": "",
            "max": 1,
            "_view_module": "@jupyter-widgets/controls",
            "_model_module_version": "1.5.0",
            "value": 1,
            "_view_count": null,
            "_view_module_version": "1.5.0",
            "orientation": "horizontal",
            "min": 0,
            "description_tooltip": null,
            "_model_module": "@jupyter-widgets/controls",
            "layout": "IPY_MODEL_1928e4bfece74be4acd907bda9a1066e"
          }
        },
        "a406b95d07b548b2a2c0f993a24c7de9": {
          "model_module": "@jupyter-widgets/controls",
          "model_name": "DescriptionStyleModel",
          "state": {
            "_view_name": "StyleView",
            "_model_name": "DescriptionStyleModel",
            "description_width": "",
            "_view_module": "@jupyter-widgets/base",
            "_model_module_version": "1.5.0",
            "_view_count": null,
            "_view_module_version": "1.2.0",
            "_model_module": "@jupyter-widgets/controls"
          }
        },
        "fca1fdfe827b4532a52724012c4d1dd1": {
          "model_module": "@jupyter-widgets/base",
          "model_name": "LayoutModel",
          "state": {
            "_view_name": "LayoutView",
            "grid_template_rows": null,
            "right": null,
            "justify_content": null,
            "_view_module": "@jupyter-widgets/base",
            "overflow": null,
            "_model_module_version": "1.2.0",
            "_view_count": null,
            "flex_flow": null,
            "width": null,
            "min_width": null,
            "border": null,
            "align_items": null,
            "bottom": null,
            "_model_module": "@jupyter-widgets/base",
            "top": null,
            "grid_column": null,
            "overflow_y": null,
            "overflow_x": null,
            "grid_auto_flow": null,
            "grid_area": null,
            "grid_template_columns": null,
            "flex": null,
            "_model_name": "LayoutModel",
            "justify_items": null,
            "grid_row": null,
            "max_height": null,
            "align_content": null,
            "visibility": null,
            "align_self": null,
            "height": null,
            "min_height": null,
            "padding": null,
            "grid_auto_rows": null,
            "grid_gap": null,
            "max_width": null,
            "order": null,
            "_view_module_version": "1.2.0",
            "grid_template_areas": null,
            "object_position": null,
            "object_fit": null,
            "grid_auto_columns": null,
            "margin": null,
            "display": null,
            "left": null
          }
        },
        "4d2d2020c86e4a9696cc3af2a1548e20": {
          "model_module": "@jupyter-widgets/controls",
          "model_name": "ProgressStyleModel",
          "state": {
            "_view_name": "StyleView",
            "_model_name": "ProgressStyleModel",
            "description_width": "",
            "_view_module": "@jupyter-widgets/base",
            "_model_module_version": "1.5.0",
            "_view_count": null,
            "_view_module_version": "1.2.0",
            "bar_color": null,
            "_model_module": "@jupyter-widgets/controls"
          }
        },
        "1928e4bfece74be4acd907bda9a1066e": {
          "model_module": "@jupyter-widgets/base",
          "model_name": "LayoutModel",
          "state": {
            "_view_name": "LayoutView",
            "grid_template_rows": null,
            "right": null,
            "justify_content": null,
            "_view_module": "@jupyter-widgets/base",
            "overflow": null,
            "_model_module_version": "1.2.0",
            "_view_count": null,
            "flex_flow": null,
            "width": null,
            "min_width": null,
            "border": null,
            "align_items": null,
            "bottom": null,
            "_model_module": "@jupyter-widgets/base",
            "top": null,
            "grid_column": null,
            "overflow_y": null,
            "overflow_x": null,
            "grid_auto_flow": null,
            "grid_area": null,
            "grid_template_columns": null,
            "flex": null,
            "_model_name": "LayoutModel",
            "justify_items": null,
            "grid_row": null,
            "max_height": null,
            "align_content": null,
            "visibility": null,
            "align_self": null,
            "height": null,
            "min_height": null,
            "padding": null,
            "grid_auto_rows": null,
            "grid_gap": null,
            "max_width": null,
            "order": null,
            "_view_module_version": "1.2.0",
            "grid_template_areas": null,
            "object_position": null,
            "object_fit": null,
            "grid_auto_columns": null,
            "margin": null,
            "display": null,
            "left": null
          }
        }
      }
    }
  },
  "cells": [
    {
      "cell_type": "markdown",
      "metadata": {
        "id": "view-in-github",
        "colab_type": "text"
      },
      "source": [
        "<a href=\"https://colab.research.google.com/github/khare19yash/Automated-Detection-of-Neuropsychiatric-Disorders/blob/master/ASD_DiagNet_new.ipynb\" target=\"_parent\"><img src=\"https://colab.research.google.com/assets/colab-badge.svg\" alt=\"Open In Colab\"/></a>"
      ]
    },
    {
      "cell_type": "code",
      "metadata": {
        "id": "BCjlKgCqGzqF",
        "outputId": "b64bc6b7-4023-4f70-90d6-b3b227ca04e6",
        "colab": {
          "base_uri": "https://localhost:8080/",
          "height": 34
        }
      },
      "source": [
        " from google.colab import drive \n",
        " drive.mount('/content/gdrive')"
      ],
      "execution_count": null,
      "outputs": [
        {
          "output_type": "stream",
          "text": [
            "Drive already mounted at /content/gdrive; to attempt to forcibly remount, call drive.mount(\"/content/gdrive\", force_remount=True).\n"
          ],
          "name": "stdout"
        }
      ]
    },
    {
      "cell_type": "code",
      "metadata": {
        "id": "L2N4wSYiHHlW",
        "outputId": "5119e1cf-de20-4938-c941-5f84b20f732c",
        "colab": {
          "base_uri": "https://localhost:8080/",
          "height": 34
        }
      },
      "source": [
        "cd gdrive/My Drive/IIITH_Internship/Neuro/ASD"
      ],
      "execution_count": null,
      "outputs": [
        {
          "output_type": "stream",
          "text": [
            "/content/gdrive/My Drive/IIITH_Internship/Neuro/ASD\n"
          ],
          "name": "stdout"
        }
      ]
    },
    {
      "cell_type": "code",
      "metadata": {
        "tags": [
          "parameters"
        ],
        "id": "UkRuiSLoC5d3"
      },
      "source": [
        "#options: cc200, dosenbach160, aal\n",
        "p_ROI = \"ho\"\n",
        "p_fold = 10\n",
        "p_center = \"Stanford\"\n",
        "p_mode = \"whole\"\n",
        "p_augmentation = False\n",
        "p_Method = \"ASD-DiagNet\""
      ],
      "execution_count": null,
      "outputs": []
    },
    {
      "cell_type": "code",
      "metadata": {
        "id": "QszfZVScC5eY",
        "outputId": "c6cf7060-d98a-4502-a187-387c6a79cc09",
        "colab": {
          "base_uri": "https://localhost:8080/",
          "height": 104
        }
      },
      "source": [
        "parameter_list = [p_ROI,p_fold,p_center,p_mode,p_augmentation,p_Method]\n",
        "print(\"*****List of patameters****\")\n",
        "print(\"ROI atlas: \",p_ROI)\n",
        "print(\"per Center or whole: \",p_mode)\n",
        "if p_mode == 'percenter':\n",
        "    print(\"Center's name: \",p_center)\n",
        "print(\"Method's name: \",p_Method)\n",
        "if p_Method == \"ASD-DiagNet\":\n",
        "    print(\"Augmentation: \",p_augmentation)\n"
      ],
      "execution_count": null,
      "outputs": [
        {
          "output_type": "stream",
          "text": [
            "*****List of patameters****\n",
            "ROI atlas:  ho\n",
            "per Center or whole:  whole\n",
            "Method's name:  ASD-DiagNet\n",
            "Augmentation:  False\n"
          ],
          "name": "stdout"
        }
      ]
    },
    {
      "cell_type": "code",
      "metadata": {
        "id": "B7aOaenuHsrH",
        "outputId": "cbb8197a-e1e7-442a-b688-7c63820c3a20",
        "colab": {
          "base_uri": "https://localhost:8080/",
          "height": 979
        }
      },
      "source": [
        "!pip install wandb"
      ],
      "execution_count": null,
      "outputs": [
        {
          "output_type": "stream",
          "text": [
            "Collecting wandb\n",
            "\u001b[?25l  Downloading https://files.pythonhosted.org/packages/80/14/9a2c792e48e01e55913b9495ce0e8a16297e2bc1cc99e86a848d205c91e7/wandb-0.10.5-py2.py3-none-any.whl (1.7MB)\n",
            "\u001b[K     |████████████████████████████████| 1.7MB 8.0MB/s \n",
            "\u001b[?25hCollecting GitPython>=1.0.0\n",
            "\u001b[?25l  Downloading https://files.pythonhosted.org/packages/c0/d7/b2b0672e0331567157adf9281f41ee731c412ee518ca5e6552c27fa73c91/GitPython-3.1.9-py3-none-any.whl (159kB)\n",
            "\u001b[K     |████████████████████████████████| 163kB 44.4MB/s \n",
            "\u001b[?25hRequirement already satisfied: PyYAML in /usr/local/lib/python3.6/dist-packages (from wandb) (3.13)\n",
            "Requirement already satisfied: six>=1.13.0 in /usr/local/lib/python3.6/dist-packages (from wandb) (1.15.0)\n",
            "Collecting docker-pycreds>=0.4.0\n",
            "  Downloading https://files.pythonhosted.org/packages/f5/e8/f6bd1eee09314e7e6dee49cbe2c5e22314ccdb38db16c9fc72d2fa80d054/docker_pycreds-0.4.0-py2.py3-none-any.whl\n",
            "Requirement already satisfied: protobuf>=3.12.0 in /usr/local/lib/python3.6/dist-packages (from wandb) (3.12.4)\n",
            "Requirement already satisfied: requests<3,>=2.0.0 in /usr/local/lib/python3.6/dist-packages (from wandb) (2.23.0)\n",
            "Collecting watchdog>=0.8.3\n",
            "\u001b[?25l  Downloading https://files.pythonhosted.org/packages/0e/06/121302598a4fc01aca942d937f4a2c33430b7181137b35758913a8db10ad/watchdog-0.10.3.tar.gz (94kB)\n",
            "\u001b[K     |████████████████████████████████| 102kB 14.5MB/s \n",
            "\u001b[?25hRequirement already satisfied: promise<3,>=2.0 in /usr/local/lib/python3.6/dist-packages (from wandb) (2.3)\n",
            "Collecting configparser>=3.8.1\n",
            "  Downloading https://files.pythonhosted.org/packages/08/b2/ef713e0e67f6e7ec7d59aea3ee78d05b39c15930057e724cc6d362a8c3bb/configparser-5.0.1-py3-none-any.whl\n",
            "Requirement already satisfied: Click>=7.0 in /usr/local/lib/python3.6/dist-packages (from wandb) (7.1.2)\n",
            "Requirement already satisfied: python-dateutil>=2.6.1 in /usr/local/lib/python3.6/dist-packages (from wandb) (2.8.1)\n",
            "Requirement already satisfied: psutil>=5.0.0 in /usr/local/lib/python3.6/dist-packages (from wandb) (5.4.8)\n",
            "Collecting sentry-sdk>=0.4.0\n",
            "\u001b[?25l  Downloading https://files.pythonhosted.org/packages/cd/df/1145dc9389138eb47649806b42aaad5b0ecdfd3e93c7c51c1fffd80a8f90/sentry_sdk-0.18.0-py2.py3-none-any.whl (120kB)\n",
            "\u001b[K     |████████████████████████████████| 122kB 43.1MB/s \n",
            "\u001b[?25hCollecting shortuuid>=0.5.0\n",
            "  Downloading https://files.pythonhosted.org/packages/25/a6/2ecc1daa6a304e7f1b216f0896b26156b78e7c38e1211e9b798b4716c53d/shortuuid-1.0.1-py3-none-any.whl\n",
            "Collecting subprocess32>=3.5.3\n",
            "\u001b[?25l  Downloading https://files.pythonhosted.org/packages/32/c8/564be4d12629b912ea431f1a50eb8b3b9d00f1a0b1ceff17f266be190007/subprocess32-3.5.4.tar.gz (97kB)\n",
            "\u001b[K     |████████████████████████████████| 102kB 13.1MB/s \n",
            "\u001b[?25hCollecting gitdb<5,>=4.0.1\n",
            "\u001b[?25l  Downloading https://files.pythonhosted.org/packages/48/11/d1800bca0a3bae820b84b7d813ad1eff15a48a64caea9c823fc8c1b119e8/gitdb-4.0.5-py3-none-any.whl (63kB)\n",
            "\u001b[K     |████████████████████████████████| 71kB 10.7MB/s \n",
            "\u001b[?25hRequirement already satisfied: setuptools in /usr/local/lib/python3.6/dist-packages (from protobuf>=3.12.0->wandb) (50.3.0)\n",
            "Requirement already satisfied: urllib3!=1.25.0,!=1.25.1,<1.26,>=1.21.1 in /usr/local/lib/python3.6/dist-packages (from requests<3,>=2.0.0->wandb) (1.24.3)\n",
            "Requirement already satisfied: certifi>=2017.4.17 in /usr/local/lib/python3.6/dist-packages (from requests<3,>=2.0.0->wandb) (2020.6.20)\n",
            "Requirement already satisfied: chardet<4,>=3.0.2 in /usr/local/lib/python3.6/dist-packages (from requests<3,>=2.0.0->wandb) (3.0.4)\n",
            "Requirement already satisfied: idna<3,>=2.5 in /usr/local/lib/python3.6/dist-packages (from requests<3,>=2.0.0->wandb) (2.10)\n",
            "Collecting pathtools>=0.1.1\n",
            "  Downloading https://files.pythonhosted.org/packages/e7/7f/470d6fcdf23f9f3518f6b0b76be9df16dcc8630ad409947f8be2eb0ed13a/pathtools-0.1.2.tar.gz\n",
            "Collecting smmap<4,>=3.0.1\n",
            "  Downloading https://files.pythonhosted.org/packages/b0/9a/4d409a6234eb940e6a78dfdfc66156e7522262f5f2fecca07dc55915952d/smmap-3.0.4-py2.py3-none-any.whl\n",
            "Building wheels for collected packages: watchdog, subprocess32, pathtools\n",
            "  Building wheel for watchdog (setup.py) ... \u001b[?25l\u001b[?25hdone\n",
            "  Created wheel for watchdog: filename=watchdog-0.10.3-cp36-none-any.whl size=73873 sha256=1a89985f8dbd6f78ec49eedcab2b9dc130a47b5081fd0987efd5123057f4a1f8\n",
            "  Stored in directory: /root/.cache/pip/wheels/a8/1d/38/2c19bb311f67cc7b4d07a2ec5ea36ab1a0a0ea50db994a5bc7\n",
            "  Building wheel for subprocess32 (setup.py) ... \u001b[?25l\u001b[?25hdone\n",
            "  Created wheel for subprocess32: filename=subprocess32-3.5.4-cp36-none-any.whl size=6489 sha256=4efc1c616604f55fea920852e8c9ef550a610ed97ee1274739260424c6571eb1\n",
            "  Stored in directory: /root/.cache/pip/wheels/68/39/1a/5e402bdfdf004af1786c8b853fd92f8c4a04f22aad179654d1\n",
            "  Building wheel for pathtools (setup.py) ... \u001b[?25l\u001b[?25hdone\n",
            "  Created wheel for pathtools: filename=pathtools-0.1.2-cp36-none-any.whl size=8785 sha256=ebaf6c88d2f2efbfef78b1a1dcda6355a8bd51ce6dea78adafa5266863fa8b65\n",
            "  Stored in directory: /root/.cache/pip/wheels/0b/04/79/c3b0c3a0266a3cb4376da31e5bfe8bba0c489246968a68e843\n",
            "Successfully built watchdog subprocess32 pathtools\n",
            "Installing collected packages: smmap, gitdb, GitPython, docker-pycreds, pathtools, watchdog, configparser, sentry-sdk, shortuuid, subprocess32, wandb\n",
            "Successfully installed GitPython-3.1.9 configparser-5.0.1 docker-pycreds-0.4.0 gitdb-4.0.5 pathtools-0.1.2 sentry-sdk-0.18.0 shortuuid-1.0.1 smmap-3.0.4 subprocess32-3.5.4 wandb-0.10.5 watchdog-0.10.3\n"
          ],
          "name": "stdout"
        }
      ]
    },
    {
      "cell_type": "code",
      "metadata": {
        "id": "5retzfXGHu6H",
        "outputId": "6d1a25c2-b3fb-444b-87e7-7a5833863bf6",
        "colab": {
          "base_uri": "https://localhost:8080/",
          "height": 87
        }
      },
      "source": [
        "!pip install pyprind"
      ],
      "execution_count": null,
      "outputs": [
        {
          "output_type": "stream",
          "text": [
            "Collecting pyprind\n",
            "  Downloading https://files.pythonhosted.org/packages/1e/30/e76fb0c45da8aef49ea8d2a90d4e7a6877b45894c25f12fb961f009a891e/PyPrind-2.11.2-py3-none-any.whl\n",
            "Installing collected packages: pyprind\n",
            "Successfully installed pyprind-2.11.2\n"
          ],
          "name": "stdout"
        }
      ]
    },
    {
      "cell_type": "code",
      "metadata": {
        "id": "lb7KMXmRC5eg"
      },
      "source": [
        "\n",
        "import pandas as pd\n",
        "import numpy as np\n",
        "import matplotlib.pyplot as plt\n",
        "import os\n",
        "from functools import reduce\n",
        "from sklearn.impute import SimpleImputer\n",
        "import time\n",
        "from torch.utils.data import Dataset\n",
        "from torch.utils.data import DataLoader\n",
        "import torch\n",
        "import pyprind\n",
        "import sys\n",
        "import pickle\n",
        "import torch.nn as nn\n",
        "import torch.nn.functional as F\n",
        "from sklearn.model_selection import KFold, StratifiedKFold\n",
        "import torch.optim as optim\n",
        "from sklearn.metrics import confusion_matrix\n",
        "from scipy import stats\n",
        "from sklearn import tree\n",
        "import functools\n",
        "import numpy.ma as ma # for masked arrays\n",
        "import pyprind\n",
        "import random\n",
        "from sklearn.svm import SVC\n",
        "from sklearn.ensemble import RandomForestClassifier\n",
        "import wandb\n",
        "\n",
        "\n",
        "# !wandb login 93ff2b234de4902b71d7405831d980f0c3182650"
      ],
      "execution_count": null,
      "outputs": []
    },
    {
      "cell_type": "code",
      "metadata": {
        "id": "0zkKEkOwC5et",
        "outputId": "c691633d-ce11-4be1-b8a2-3c2c902686a4",
        "colab": {
          "base_uri": "https://localhost:8080/",
          "height": 34
        }
      },
      "source": [
        "!wandb login 93ff2b234de4902b71d7405831d980f0c3182650"
      ],
      "execution_count": null,
      "outputs": [
        {
          "output_type": "stream",
          "text": [
            "\u001b[34m\u001b[1mwandb\u001b[0m: Appending key for api.wandb.ai to your netrc file: /root/.netrc\n"
          ],
          "name": "stdout"
        }
      ]
    },
    {
      "cell_type": "markdown",
      "metadata": {
        "id": "cMcsMF3HC5fI"
      },
      "source": [
        "## Importing the data "
      ]
    },
    {
      "cell_type": "code",
      "metadata": {
        "id": "zPDgqDPPC5fK"
      },
      "source": [
        "def get_key(filename):\n",
        "    f_split = filename.split('_')\n",
        "    if f_split[3] == 'rois':\n",
        "        key = '_'.join(f_split[0:3]) \n",
        "    else:\n",
        "        key = '_'.join(f_split[0:2])\n",
        "    return key"
      ],
      "execution_count": null,
      "outputs": []
    },
    {
      "cell_type": "code",
      "metadata": {
        "id": "ymP9s0zOC5fP",
        "outputId": "510bbe7e-21bb-4364-e9ea-1353753964a3",
        "colab": {
          "base_uri": "https://localhost:8080/",
          "height": 34
        }
      },
      "source": [
        "cc200 = pd.read_csv('./asd-cc200-all.csv')\n",
        "# flist = cc200[cc200['n_timepoints'] >= 1]['FILE_ID']        # Only for DFC\n",
        "flist = cc200['FILE_ID']\n",
        "len(flist)"
      ],
      "execution_count": null,
      "outputs": [
        {
          "output_type": "execute_result",
          "data": {
            "text/plain": [
              "1035"
            ]
          },
          "metadata": {
            "tags": []
          },
          "execution_count": 8
        }
      ]
    },
    {
      "cell_type": "code",
      "metadata": {
        "id": "SxGgVhuFC5fX",
        "outputId": "cc3a1297-00dc-48c3-d005-d9dfbd4e58d4",
        "colab": {
          "base_uri": "https://localhost:8080/",
          "height": 52
        }
      },
      "source": [
        "data_main_cc200 = './Datasets/ASD_Dataset/CC200'   \n",
        "data_main_cc400 = './Datasets/ASD_Dataset/HO'     #cc200'#path to time series data\n",
        "# flist = os.listdir(data_main_path)\n",
        "cc200 = pd.read_csv('./asd-cc200-all.csv')\n",
        "# flist = cc200[cc200['n_timepoints'] >= 116]['FILE_ID']\n",
        "flist = cc200['FILE_ID']\n",
        "flist = flist.tolist()\n",
        "print(len(flist))\n",
        "\n",
        "labels = {}\n",
        "for row in cc200.iterrows():\n",
        "    file_id = row[1]['FILE_ID']\n",
        "    y_label = row[1]['DX_GROUP']\n",
        "    assert(file_id not in labels)\n",
        "    if(file_id in flist) :\n",
        "        labels[file_id] = y_label\n",
        "    \n",
        "print(len(labels))  "
      ],
      "execution_count": null,
      "outputs": [
        {
          "output_type": "stream",
          "text": [
            "1035\n",
            "1035\n"
          ],
          "name": "stdout"
        }
      ]
    },
    {
      "cell_type": "markdown",
      "metadata": {
        "id": "6XVG5ceFC5fe"
      },
      "source": [
        "### Only in case of DFC"
      ]
    },
    {
      "cell_type": "code",
      "metadata": {
        "id": "K9zeuQM6C5ff"
      },
      "source": [
        "def get_corr(df):\n",
        "    \n",
        "    with np.errstate(invalid=\"ignore\"):\n",
        "        corr = np.nan_to_num(np.corrcoef(df.T))\n",
        "        return corr\n",
        "    \n",
        "def get_dfcWVar(filename, window = 30, stride = 10, phase = 'matrix'):\n",
        "    \n",
        "    \"\"\"\n",
        "    Returns the upper triangular part of Variance of dfc matrix extracted using weighted window approach.\n",
        "    phase : matrix (if u need a correlation matrix)\n",
        "          : 'triu' (if u need upper triangular matrix of correlation matrix)\n",
        "    inputs : timeseries array     (T X n_rois)\n",
        "    output : correleation matrix  (n_windows X n_rois X n_rois)\n",
        "    \"\"\"\n",
        "    for file in os.listdir(data_main_path):\n",
        "        if file.startswith(filename):\n",
        "            data = pd.read_csv(os.path.join(data_main_path, file), sep='\\t')\n",
        "            break  \n",
        "    data = np.array(data)\n",
        "    \n",
        "    n_samples, n_rois = data.shape\n",
        "    dfc = []\n",
        "    size = n_samples - window + 1\n",
        "    \n",
        "    for i in range(0, size, stride) :\n",
        "        # print(i)\n",
        "        df = data[i : i + window , : ]\n",
        "        weights = np.linspace(1 / n_samples, window / n_samples, num = window) # Linearly distributed weights(Weighted Window)\n",
        "        weights = weights[:,np.newaxis]       # run this only in case of weighted window(not for tapered window)\n",
        "        df = weights * df\n",
        "        corr = get_corr(df)\n",
        "        dfc.append(corr)\n",
        "    dfc = np.stack(dfc, axis = 0)\n",
        "    dfcvar = np.var(dfc, axis = 0) \n",
        "    if(phase == 'triu') :\n",
        "            mask = np.invert(np.tri(dfcvar.shape[0], k=-1, dtype=bool))\n",
        "            m = ma.masked_where(mask == 1, mask)\n",
        "            dfcvar = ma.masked_where(m, dfcvar).compressed()\n",
        "            \n",
        "    return dfcvar"
      ],
      "execution_count": null,
      "outputs": []
    },
    {
      "cell_type": "markdown",
      "metadata": {
        "id": "rjngWr64C5fi"
      },
      "source": [
        "### Helper functions for computing correlations"
      ]
    },
    {
      "cell_type": "code",
      "metadata": {
        "id": "JFSLsOVNC5fi"
      },
      "source": [
        "def get_corr_data(filename):\n",
        "    # returns upper triangular correlation vector\n",
        "    for file in os.listdir(data_main_cc200):\n",
        "        if file.startswith(filename):\n",
        "            df200 = pd.read_csv(os.path.join(data_main_cc200, file), sep='\\t')\n",
        "\n",
        "    for file in os.listdir(data_main_cc400):\n",
        "        if file.startswith(filename):\n",
        "            df400 = pd.read_csv(os.path.join(data_main_cc400, file), sep='\\t')\n",
        "            \n",
        "    with np.errstate(invalid=\"ignore\"):\n",
        "        corr = np.nan_to_num(np.corrcoef(df200.T))\n",
        "        mask = np.invert(np.tri(corr.shape[0], k=-1, dtype=bool))\n",
        "        m = ma.masked_where(mask == 1, mask)\n",
        "        fc200 = ma.masked_where(m, corr).compressed()\n",
        "\n",
        "    with np.errstate(invalid=\"ignore\"):\n",
        "        corr = np.nan_to_num(np.corrcoef(df400.T))\n",
        "        mask = np.invert(np.tri(corr.shape[0], k=-1, dtype=bool))\n",
        "        m = ma.masked_where(mask == 1, mask)\n",
        "        fc400 =  ma.masked_where(m, corr).compressed()\n",
        "    return np.concatenate([fc200, fc400], axis = 0)\n",
        "    # return fc400\n",
        "\n",
        "def get_corr_matrix(filename):\n",
        "    # returns correlation matrix\n",
        "    for file in os.listdir(data_main_path):\n",
        "        if file.startswith(filename):\n",
        "            df = pd.read_csv(os.path.join(data_main_path, file), sep='\\t')\n",
        "    with np.errstate(invalid=\"ignore\"):\n",
        "        corr = np.nan_to_num(np.corrcoef(df.T))\n",
        "        return corr\n",
        "\n",
        "\n",
        "def get_label(filename):\n",
        "    assert (filename in labels)\n",
        "    return labels[filename]\n",
        "\n",
        "def confusion(g_turth,predictions):\n",
        "    tn, fp, fn, tp = confusion_matrix(g_turth,predictions).ravel()\n",
        "    accuracy = (tp+tn)/(tp+fp+tn+fn)\n",
        "    sensitivity = (tp)/(tp+fn)\n",
        "    specificty = (tn)/(tn+fp)\n",
        "    return accuracy,sensitivity,specificty\n",
        "\n",
        "def get_regs(samplesnames,regnum):\n",
        "    # returns region index array\n",
        "    datas = []\n",
        "    for sn in samplesnames:\n",
        "        datas.append(all_corr[sn][0])\n",
        "    datas = np.array(datas)     # datas shape len(samplesnames)x19900\n",
        "    avg=[]\n",
        "    for ie in range(datas.shape[1]):\n",
        "        avg.append(np.mean(datas[:,ie]))\n",
        "    avg=np.array(avg)\n",
        "    highs=avg.argsort()[-regnum:][::-1]\n",
        "    lows=avg.argsort()[:regnum][::-1]\n",
        "    regions=np.concatenate((highs,lows),axis=0) # shape (9950,)\n",
        "    return regions\n"
      ],
      "execution_count": null,
      "outputs": []
    },
    {
      "cell_type": "code",
      "metadata": {
        "id": "xfMAE5eGC5fn",
        "outputId": "cf6775c0-59a5-4355-eb65-089f09457e06",
        "colab": {
          "base_uri": "https://localhost:8080/",
          "height": 34
        }
      },
      "source": [
        "filename =  flist[0]\n",
        "df = get_corr_data(filename)\n",
        "df.shape"
      ],
      "execution_count": null,
      "outputs": [
        {
          "output_type": "execute_result",
          "data": {
            "text/plain": [
              "(26005,)"
            ]
          },
          "metadata": {
            "tags": []
          },
          "execution_count": 10
        }
      ]
    },
    {
      "cell_type": "code",
      "metadata": {
        "id": "i7mCn9rOC5fs"
      },
      "source": [
        "# all_corr dictionary with key - filename and value - (correlation_data(vector of size 19,900),label)\n",
        "if not os.path.exists('./correlations_file_triu'+p_ROI+'.pkl'):\n",
        "    pbar=pyprind.ProgBar(len(flist))\n",
        "    all_corr = {}\n",
        "    for f in flist:\n",
        "      \n",
        "        lab = get_label(f)\n",
        "        all_corr[f] = (get_corr_data(f), lab)\n",
        "        pbar.update()\n",
        "\n",
        "    print('Corr-computations finished')\n",
        "\n",
        "    pickle.dump(all_corr, open('./correlations_file_triu'+p_ROI+'.pkl', 'wb'))\n",
        "    print('Saving to file finished')\n",
        "\n",
        "else:\n",
        "    all_corr = pickle.load(open('./correlations_file_triu'+p_ROI+'.pkl', 'rb'))"
      ],
      "execution_count": null,
      "outputs": []
    },
    {
      "cell_type": "code",
      "metadata": {
        "id": "NQ9D1hjIcquy",
        "outputId": "54d4c2da-e399-480f-fc29-f2b66cc760bb",
        "colab": {
          "base_uri": "https://localhost:8080/",
          "height": 34
        }
      },
      "source": [
        "len(all_corr[flist[0]][0])"
      ],
      "execution_count": null,
      "outputs": [
        {
          "output_type": "execute_result",
          "data": {
            "text/plain": [
              "6105"
            ]
          },
          "metadata": {
            "tags": []
          },
          "execution_count": 12
        }
      ]
    },
    {
      "cell_type": "markdown",
      "metadata": {
        "id": "YoNL8usFC5fx"
      },
      "source": [
        "### To extract sfc instead of upper triangular matrices"
      ]
    },
    {
      "cell_type": "code",
      "metadata": {
        "id": "Y9TKZKnoC5fx",
        "outputId": "dddccd89-5970-4b15-b437-c328ca2c600d"
      },
      "source": [
        "all_corr = {}\n",
        "for f in flist:\n",
        "\n",
        "    lab = get_label(f)\n",
        "    all_corr[f] = (get_corr_matrix(f), lab)\n",
        "\n",
        "print('Corr-computations finished')"
      ],
      "execution_count": null,
      "outputs": [
        {
          "output_type": "stream",
          "text": [
            "Corr-computations finished\n"
          ],
          "name": "stdout"
        }
      ]
    },
    {
      "cell_type": "markdown",
      "metadata": {
        "id": "iCmPpUGLC5f0"
      },
      "source": [
        "## Computing eigenvalues and eigenvector"
      ]
    },
    {
      "cell_type": "code",
      "metadata": {
        "id": "xjfvzf51C5f1",
        "outputId": "6eb38907-6855-4ca6-e9b3-b6613a11834f",
        "colab": {
          "base_uri": "https://localhost:8080/",
          "height": 52
        }
      },
      "source": [
        "if p_Method==\"ASD-DiagNet\":\n",
        "    eig_data = {}\n",
        "    pbar = pyprind.ProgBar(len(flist))\n",
        "    for f in flist:  \n",
        "        d = get_corr_matrix(f)\n",
        "        eig_vals, eig_vecs = np.linalg.eig(d)\n",
        "\n",
        "        for ev in eig_vecs.T:\n",
        "            np.testing.assert_array_almost_equal(1.0, np.linalg.norm(ev))\n",
        "\n",
        "        sum_eigvals = np.sum(np.abs(eig_vals))\n",
        "        # Make a list of (eigenvalue, eigenvector, norm_eigval) tuples\n",
        "        eig_pairs = [(np.abs(eig_vals[i]), eig_vecs[:,i], np.abs(eig_vals[i])/sum_eigvals)\n",
        "                     for i in range(len(eig_vals))]\n",
        "\n",
        "        # Sort the (eigenvalue, eigenvector) tuples from high to low\n",
        "        eig_pairs.sort(key=lambda x: x[0], reverse=True)\n",
        "\n",
        "        eig_data[f] = {'eigvals':np.array([ep[0] for ep in eig_pairs]),\n",
        "                       'norm-eigvals':np.array([ep[2] for ep in eig_pairs]),\n",
        "                       'eigvecs':[ep[1] for ep in eig_pairs]}\n",
        "        pbar.update()"
      ],
      "execution_count": null,
      "outputs": [
        {
          "output_type": "stream",
          "text": [
            "0% [##############################] 100% | ETA: 00:00:00\n",
            "Total time elapsed: 00:02:31\n"
          ],
          "name": "stderr"
        }
      ]
    },
    {
      "cell_type": "markdown",
      "metadata": {
        "id": "hT8t6yLFC5f4"
      },
      "source": [
        "## Calculating Eros similarity"
      ]
    },
    {
      "cell_type": "code",
      "metadata": {
        "id": "rFr-YK9xC5f4"
      },
      "source": [
        "def norm_weights(sub_flist):\n",
        "    num_dim = len(eig_data[flist[0]]['eigvals'])\n",
        "    norm_weights = np.zeros(shape=num_dim)\n",
        "    for f in sub_flist:\n",
        "        norm_weights += eig_data[f]['norm-eigvals'] \n",
        "    return norm_weights\n",
        "\n",
        "def cal_similarity(d1, d2, weights, lim=None):\n",
        "    res = 0.0\n",
        "    if lim is None:\n",
        "        weights_arr = weights.copy()\n",
        "    else:\n",
        "        weights_arr = weights[:lim].copy()\n",
        "        weights_arr /= np.sum(weights_arr)\n",
        "    for i,w in enumerate(weights_arr):\n",
        "        res += w*np.inner(d1[i], d2[i])\n",
        "    return res"
      ],
      "execution_count": null,
      "outputs": []
    },
    {
      "cell_type": "code",
      "metadata": {
        "id": "K4jkMT-RC5f7",
        "outputId": "95b589fa-aa46-41e0-fcce-f186c2f5f9d1",
        "colab": {
          "base_uri": "https://localhost:8080/",
          "height": 34
        }
      },
      "source": [
        "all_corr[flist[0]][0].shape"
      ],
      "execution_count": null,
      "outputs": [
        {
          "output_type": "execute_result",
          "data": {
            "text/plain": [
              "(19900,)"
            ]
          },
          "metadata": {
            "tags": []
          },
          "execution_count": 29
        }
      ]
    },
    {
      "cell_type": "markdown",
      "metadata": {
        "id": "9KKVTTCwC5f-"
      },
      "source": [
        "## Defining dataset class"
      ]
    },
    {
      "cell_type": "code",
      "metadata": {
        "id": "FgFoM_4WC5f_"
      },
      "source": [
        "class CC200Dataset(Dataset):\n",
        "    def __init__(self, pkl_filename=None, data=None, samples_list=None, \n",
        "                 augmentation=False, aug_factor=1, num_neighbs=5,\n",
        "                 eig_data=None, similarity_fn=None, verbose=False,regs=None):\n",
        "        \n",
        "        self.regs=regs\n",
        "        if pkl_filename is not None:\n",
        "            if verbose:\n",
        "                print ('Loading ..!', end=' ')\n",
        "            self.data = pickle.load(open(pkl_filename, 'rb'))\n",
        "        elif data is not None:\n",
        "            self.data = data.copy()\n",
        "            \n",
        "        else:\n",
        "            sys.stderr.write('Either PKL file or data is needed!')\n",
        "            return \n",
        "\n",
        "        #if verbose:\n",
        "        #    print ('Preprocess..!', end='  ')\n",
        "        if samples_list is None:\n",
        "            self.flist = [f for f in self.data]\n",
        "        else:\n",
        "            self.flist = [f for f in samples_list]\n",
        "        self.labels = np.array([self.data[f][1] for f in self.flist])\n",
        "        \n",
        "        current_flist = np.array(self.flist.copy())\n",
        "        current_lab0_flist = current_flist[self.labels == 0]\n",
        "        current_lab1_flist = current_flist[self.labels == 1]\n",
        "        #if verbose:\n",
        "        #    print(' Num Positive : ', len(current_lab1_flist), end=' ')\n",
        "        #    print(' Num Negative : ', len(current_lab0_flist), end=' ')\n",
        "        \n",
        "        \n",
        "        if augmentation:\n",
        "            self.num_data = aug_factor * len(self.flist)\n",
        "            self.neighbors = {}\n",
        "            pbar = pyprind.ProgBar(len(self.flist))\n",
        "            weights = norm_weights(samples_list)#??\n",
        "            for f in self.flist:\n",
        "                label = self.data[f][1]\n",
        "                candidates = (set(current_lab0_flist) if label == 0 else set(current_lab1_flist))\n",
        "                candidates.remove(f)\n",
        "                eig_f = eig_data[f]['eigvecs']\n",
        "                sim_list = []\n",
        "                for cand in candidates:\n",
        "                    eig_cand = eig_data[cand]['eigvecs']\n",
        "                    sim = similarity_fn(eig_f, eig_cand,weights)\n",
        "                    sim_list.append((sim, cand))\n",
        "                sim_list.sort(key=lambda x: x[0], reverse=True)\n",
        "                self.neighbors[f] = [item[1] for item in sim_list[:num_neighbs]]#list(candidates)#[item[1] for item in sim_list[:num_neighbs]]\n",
        "        \n",
        "        else:\n",
        "            self.num_data = len(self.flist)\n",
        "\n",
        "        \n",
        "    def __getitem__(self, index):\n",
        "        if index < len(self.flist):\n",
        "            fname = self.flist[index]\n",
        "            data = self.data[fname][0].copy() #get_corr_data(fname, mode=cal_mode)    \n",
        "            data = data[self.regs].copy()\n",
        "            label = (self.labels[index],)\n",
        "            return torch.FloatTensor(data), torch.FloatTensor(label)\n",
        "        else:\n",
        "            f1 = self.flist[index % len(self.flist)]\n",
        "            d1, y1 = self.data[f1][0], self.data[f1][1]\n",
        "            # d1=d1[self.regs]\n",
        "            f2 = np.random.choice(self.neighbors[f1])\n",
        "            d2, y2 = self.data[f2][0], self.data[f2][1]\n",
        "            # d2=d2[self.regs]\n",
        "            assert y1 == y2\n",
        "            r = np.random.uniform(low=0, high=1)\n",
        "            label = (y1,)\n",
        "            data = r*d1 + (1-r)*d2\n",
        "            return torch.FloatTensor(data), torch.FloatTensor(label)\n",
        "\n",
        "    def __len__(self):\n",
        "        return self.num_data"
      ],
      "execution_count": null,
      "outputs": []
    },
    {
      "cell_type": "markdown",
      "metadata": {
        "id": "u2D2ij5jBdwj"
      },
      "source": [
        "### Data Augmentation by flipping the signs of the input"
      ]
    },
    {
      "cell_type": "code",
      "metadata": {
        "id": "BFuMoQ8wA7rr"
      },
      "source": [
        "class CC200Dataset(Dataset):\n",
        "    def __init__(self, pkl_filename=None, data=None, samples_list=None, \n",
        "                 augmentation=False, aug_factor=1, num_neighbs=5,\n",
        "                 eig_data=None, similarity_fn=None, verbose=False,regs=None):\n",
        "        \n",
        "        self.regs=regs\n",
        "        if pkl_filename is not None:\n",
        "            if verbose:\n",
        "                print ('Loading ..!', end=' ')\n",
        "            self.data = pickle.load(open(pkl_filename, 'rb'))\n",
        "        elif data is not None:\n",
        "            self.data = data.copy()\n",
        "            \n",
        "        else:\n",
        "            sys.stderr.write('Either PKL file or data is needed!')\n",
        "            return \n",
        "\n",
        "        #if verbose:\n",
        "        #    print ('Preprocess..!', end='  ')\n",
        "        if samples_list is None:\n",
        "            self.flist = [f for f in self.data]\n",
        "        else:\n",
        "            self.flist = [f for f in samples_list]\n",
        "        self.labels = np.array([self.data[f][1] for f in self.flist])\n",
        "        \n",
        "        current_flist = np.array(self.flist.copy())\n",
        "        current_lab0_flist = current_flist[self.labels == 0]\n",
        "        current_lab1_flist = current_flist[self.labels == 1]\n",
        "        #if verbose:\n",
        "        #    print(' Num Positive : ', len(current_lab1_flist), end=' ')\n",
        "        #    print(' Num Negative : ', len(current_lab0_flist), end=' ')\n",
        "        \n",
        "        \n",
        "        if augmentation:\n",
        "            self.num_data = aug_factor * len(self.flist)\n",
        "            # self.neighbors = {}\n",
        "            # pbar = pyprind.ProgBar(len(self.flist))\n",
        "            # weights = norm_weights(samples_list)#??\n",
        "            # for f in self.flist:\n",
        "            #     label = self.data[f][1]\n",
        "            #     candidates = (set(current_lab0_flist) if label == 0 else set(current_lab1_flist))\n",
        "            #     candidates.remove(f)\n",
        "            #     eig_f = eig_data[f]['eigvecs']\n",
        "            #     sim_list = []\n",
        "            #     for cand in candidates:\n",
        "            #         eig_cand = eig_data[cand]['eigvecs']\n",
        "            #         sim = similarity_fn(eig_f, eig_cand,weights)\n",
        "            #         sim_list.append((sim, cand))\n",
        "            #     sim_list.sort(key=lambda x: x[0], reverse=True)\n",
        "            #     self.neighbors[f] = [item[1] for item in sim_list[:num_neighbs]]#list(candidates)#[item[1] for item in sim_list[:num_neighbs]]\n",
        "        \n",
        "        else:\n",
        "            self.num_data = len(self.flist)\n",
        "\n",
        "        \n",
        "    def __getitem__(self, index):\n",
        "        if index < len(self.flist):\n",
        "            fname = self.flist[index]\n",
        "            data = self.data[fname][0].copy() #get_corr_data(fname, mode=cal_mode)    \n",
        "            # data = data[self.regs].copy()\n",
        "            label = (self.labels[index],)\n",
        "            return torch.FloatTensor(data), torch.FloatTensor(label)\n",
        "        else:\n",
        "            f1 = self.flist[index % len(self.flist)]\n",
        "            d1, y1 = self.data[f1][0], self.data[f1][1]\n",
        "            # d1=d1[self.regs]\n",
        "            label = (y1,)\n",
        "            data = (-1) * d1\n",
        "            return torch.FloatTensor(data), torch.FloatTensor(label)\n",
        "\n",
        "    def __len__(self):\n",
        "        return self.num_data"
      ],
      "execution_count": null,
      "outputs": []
    },
    {
      "cell_type": "markdown",
      "metadata": {
        "id": "BmwZSMchC5gC"
      },
      "source": [
        "## Definig data loader function"
      ]
    },
    {
      "cell_type": "code",
      "metadata": {
        "id": "F1Q97P7hC5gE"
      },
      "source": [
        "def get_loader(pkl_filename=None, data=None, samples_list=None,\n",
        "               batch_size=64, \n",
        "               num_workers=1, mode='train',\n",
        "               *, augmentation=False, aug_factor=1, num_neighbs=5,\n",
        "                 eig_data=None, similarity_fn=None, verbose=False,regions=None):\n",
        "    \"\"\"Build and return data loader.\"\"\"\n",
        "    if mode == 'train':\n",
        "        shuffle = True\n",
        "    else:\n",
        "        shuffle = False\n",
        "        augmentation=False\n",
        "\n",
        "    dataset = CC200Dataset(pkl_filename=pkl_filename, data=data, samples_list=samples_list,\n",
        "                           augmentation=augmentation, aug_factor=aug_factor, \n",
        "                           eig_data=eig_data, similarity_fn=similarity_fn, verbose=verbose,regs=regions)\n",
        "\n",
        "    data_loader = DataLoader(dataset,\n",
        "                             batch_size=batch_size,\n",
        "                             shuffle=shuffle,\n",
        "                             num_workers=num_workers)\n",
        "  \n",
        "    return data_loader"
      ],
      "execution_count": null,
      "outputs": []
    },
    {
      "cell_type": "markdown",
      "metadata": {
        "id": "y337Vvl2C5gI"
      },
      "source": [
        "## Defining Autoencoder class"
      ]
    },
    {
      "cell_type": "code",
      "metadata": {
        "id": "x0Xt-nJkC5gJ",
        "outputId": "050dfe89-eb1b-4b16-ffac-d80ec91b35c5",
        "colab": {
          "base_uri": "https://localhost:8080/",
          "height": 122
        }
      },
      "source": [
        "class MTAutoEncoder(nn.Module):\n",
        "    def __init__(self, num_inputs=990, \n",
        "                 num_latent=200, tied=True,\n",
        "                 num_classes=2, use_dropout=False):\n",
        "        super(MTAutoEncoder, self).__init__()\n",
        "        self.tied = tied\n",
        "        self.num_latent = num_latent\n",
        "        \n",
        "        self.fc_encoder = nn.Linear(num_inputs, num_latent)\n",
        "    \n",
        "        if not tied:\n",
        "            self.fc_decoder = nn.Linear(num_latent, num_inputs)\n",
        "         \n",
        "        self.fc_encoder = nn.Linear(num_inputs, num_latent)\n",
        "        \n",
        "        if use_dropout:\n",
        "            self.classifier = nn.Sequential (\n",
        "                nn.Dropout(p=0.5),\n",
        "                nn.Linear(self.num_latent, 1),\n",
        "                \n",
        "            )\n",
        "        else:\n",
        "            self.classifier = nn.Sequential (\n",
        "                nn.Linear(self.num_latent, 1),\n",
        "            )\n",
        "            \n",
        "         \n",
        "    def forward(self, x, eval_classifier=False):\n",
        "        x = self.fc_encoder(x)\n",
        "        x = torch.tanh(x)\n",
        "        if eval_classifier:\n",
        "            x_logit = self.classifier(x)\n",
        "        else:\n",
        "            x_logit = None\n",
        "        \n",
        "        if self.tied:\n",
        "            x = F.linear(x, self.fc_encoder.weight.t())\n",
        "        else:\n",
        "            x = self.fc_decoder(x)\n",
        "            \n",
        "        return x, x_logit\n",
        "\n",
        "mtae = MTAutoEncoder()\n",
        "\n",
        "mtae"
      ],
      "execution_count": null,
      "outputs": [
        {
          "output_type": "execute_result",
          "data": {
            "text/plain": [
              "MTAutoEncoder(\n",
              "  (fc_encoder): Linear(in_features=990, out_features=200, bias=True)\n",
              "  (classifier): Sequential(\n",
              "    (0): Linear(in_features=200, out_features=1, bias=True)\n",
              "  )\n",
              ")"
            ]
          },
          "metadata": {
            "tags": []
          },
          "execution_count": 13
        }
      ]
    },
    {
      "cell_type": "markdown",
      "metadata": {
        "id": "VLkBYPFKCap7"
      },
      "source": [
        "### First ASD CNN Model"
      ]
    },
    {
      "cell_type": "code",
      "metadata": {
        "id": "zP0CyUntC5gN"
      },
      "source": [
        "class Model(nn.Module):\n",
        "    def __init__(self,conv_kernel_size,pool_kernel_size,drop_prob,num_classes=2):\n",
        "        super(Model,self).__init__()\n",
        "\n",
        "        self.conv_kernel_size = conv_kernel_size\n",
        "        self.pool_kernel_size = pool_kernel_size\n",
        "        self.num_classes = num_classes\n",
        "        self.drop_prob = drop_prob\n",
        "\n",
        "        self.conv2d = []\n",
        "        self.max_pool = []\n",
        "\n",
        "        for conv_kernel, pool_kernel in zip(self.conv_kernel_size, self.pool_kernel_size):\n",
        "          self.conv2d.append(nn.Conv2d(6, 400, conv_kernel, stride=1))\n",
        "          self.max_pool.append(nn.MaxPool2d(pool_kernel, stride=(1,1)))\n",
        "\n",
        "        self.conv2d = nn.ModuleList(self.conv2d)\n",
        "        self.max_pool = nn.ModuleList(self.max_pool)\n",
        "\n",
        "        self.dropout = nn.Dropout2d(self.drop_prob)\n",
        "        self.flatten = nn.Flatten()\n",
        "        self.linear = nn.Linear(2800,self.num_classes)\n",
        "\n",
        "    def forward(self, x):\n",
        "        # forward pass\n",
        "        conv_pool_out = []\n",
        "        for conv, pool in zip(self.conv2d, self.max_pool):\n",
        "            output = pool(torch.tanh(conv(x)))\n",
        "            conv_pool_out.append(output.squeeze(3))\n",
        "        out = torch.cat(conv_pool_out,2)\n",
        "        if self.drop_prob is not None:\n",
        "            out = self.dropout(out)\n",
        "        out = self.flatten(out)\n",
        "        out = self.linear(out)\n",
        "\n",
        "        return out\n",
        "# print(model)\n",
        "# model.to(device)\n",
        "\n",
        "# wandb.watch(model, log='all')      # this logs everything in wandb account\n",
        "\n",
        "# optimizer = optim.Adam(model.parameters(),lr=config.lr)"
      ],
      "execution_count": null,
      "outputs": []
    },
    {
      "cell_type": "markdown",
      "metadata": {
        "id": "4hWuPCGEC5gQ"
      },
      "source": [
        "## Defining training and testing functions"
      ]
    },
    {
      "cell_type": "code",
      "metadata": {
        "id": "LIM0eBYIC5gQ"
      },
      "source": [
        "def train(model, epoch, train_loader, p_bernoulli=None, mode='both', lam_factor=1.0):\n",
        "    model.train()\n",
        "    train_losses = []\n",
        "    clf_train_loss = []\n",
        "    ae_train_loss = []\n",
        "#     bar = tqdm(train_loader, leave = False)\n",
        "    \n",
        "    if mode in ['both', 'clf']:\n",
        "        final_targets = []\n",
        "        final_predictions = []\n",
        "    else:\n",
        "        final_targets = None\n",
        "        final_predictions = None    \n",
        "    \n",
        "    for i,(batch_x,batch_y) in enumerate(train_loader):\n",
        "        if len(batch_x) != batch_size:\n",
        "            continue\n",
        "        if p_bernoulli is not None:\n",
        "            if i == 0:\n",
        "                p_tensor = torch.ones_like(batch_x).to(device)*p_bernoulli\n",
        "            rand_bernoulli = torch.bernoulli(p_tensor).to(device)\n",
        "\n",
        "        data, target = batch_x.to(device), batch_y.to(device)\n",
        "        optimizer.zero_grad()\n",
        "\n",
        "        if mode in ['both', 'ae']:\n",
        "            if p_bernoulli is not None:\n",
        "                rec_noisy, _ = model(data*rand_bernoulli, False)\n",
        "                loss_ae = criterion_ae(rec_noisy, data) / len(batch_x)\n",
        "            else:\n",
        "                rec, _ = model(data, False)\n",
        "                loss_ae = criterion_ae(rec, data) / len(batch_x)\n",
        "\n",
        "        if mode in ['both', 'clf']:\n",
        "            rec_clean, logits = model(data, True)\n",
        "            loss_clf = criterion_clf(logits, target)\n",
        "            \n",
        "            proba = torch.sigmoid(logits).detach().cpu().numpy()\n",
        "            predictions = np.ones_like(proba, dtype=np.int32)\n",
        "            predictions[proba < 0.5] = 0\n",
        "            \n",
        "            final_targets.append(target.detach().cpu().numpy())\n",
        "            final_predictions.append(predictions)\n",
        "\n",
        "        if mode == 'both':\n",
        "            loss_total = loss_ae + lam_factor*loss_clf\n",
        "            loss_clf_np = loss_clf.detach().cpu().numpy()\n",
        "            loss_ae_np = loss_ae.detach().cpu().numpy()\n",
        "            \n",
        "            clf_train_loss.append(loss_clf_np)\n",
        "            ae_train_loss.append(loss_ae_np)\n",
        "            train_losses.append([loss_ae_np,loss_clf_np])\n",
        "            \n",
        "        elif mode == 'ae':\n",
        "            loss_total = loss_ae\n",
        "            loss_ae_np = loss_ae.detach().cpu().numpy()\n",
        "            \n",
        "            clf_train_loss.append(0.0)\n",
        "            ae_train_loss.append(loss_ae_np)\n",
        "            train_losses.append([loss_ae_np, 0.0])\n",
        "            \n",
        "        elif mode == 'clf':\n",
        "            loss_total = loss_clf\n",
        "            loss_clf_np = loss_clf.detach().cpu().numpy()\n",
        "            \n",
        "            clf_train_loss.append(loss_clf_np)\n",
        "            ae_train_loss.append(0.0)\n",
        "            train_losses.append([0.0,loss_clf_np])\n",
        "\n",
        "        loss_total.backward()\n",
        "        optimizer.step()\n",
        "    \n",
        "    if (final_targets is not None) and (final_predictions is not None):\n",
        "        final_targets = np.concatenate(final_targets)\n",
        "        final_predictions = np.concatenate(final_predictions)\n",
        "        train_accuracy = np.mean(final_targets == final_predictions)\n",
        "\n",
        "        return train_losses, np.mean(clf_train_loss), np.mean(ae_train_loss), train_accuracy\n",
        "    else:\n",
        "        return train_losses, np.mean(clf_train_loss), np.mean(ae_train_loss), None\n",
        "\n",
        "def test(model, criterion, test_loader, \n",
        "         eval_classifier=False, num_batch=None):\n",
        "    test_loss, n_test, correct = 0.0, 0, 0\n",
        "    eval_loss = []\n",
        "    all_predss=[]\n",
        "    if eval_classifier:\n",
        "        y_true, y_pred = [], []\n",
        "    with torch.no_grad():\n",
        "        model.eval()\n",
        "#         bar = tqdm(test_loader, leave = False)\n",
        "        for i,(batch_x,batch_y) in enumerate(test_loader):\n",
        "            if num_batch is not None:\n",
        "                if i >= num_batch:\n",
        "                    continue\n",
        "            data, target = batch_x.to(device), batch_y.to(device)\n",
        "            rec, logits = model(data, eval_classifier)\n",
        "\n",
        "#             test_loss += criterion(rec, data).detach().cpu().numpy() \n",
        "#             n_test += len(batch_x)\n",
        "            test_loss = criterion(logits, target).detach().cpu().numpy() \n",
        "            eval_loss.append(test_loss)\n",
        "            if eval_classifier:\n",
        "                proba = torch.sigmoid(logits).detach().cpu().numpy()\n",
        "                preds = np.ones_like(proba, dtype=np.int32)\n",
        "                preds[proba < 0.5] = 0\n",
        "                all_predss.extend(preds)###????\n",
        "                y_arr = np.array(batch_y, dtype=np.int32)\n",
        "\n",
        "                correct += np.sum(preds == y_arr)\n",
        "                y_true.extend(y_arr.tolist())\n",
        "                y_pred.extend(proba.tolist())\n",
        "        mlp_acc,mlp_sens,mlp_spef = confusion(y_true,all_predss)\n",
        "        metrics_dict = {'accuracy': np.round(mlp_acc, 4), \n",
        "                        'senstivity' : np.round(mlp_sens,4), \n",
        "                        'specificity' : np.round(mlp_spef,4), \n",
        "                        'loss' : np.round(np.mean(eval_loss),4)}\n",
        "        \n",
        "    return  metrics_dict"
      ],
      "execution_count": null,
      "outputs": []
    },
    {
      "cell_type": "code",
      "metadata": {
        "id": "-tMq15fuC5gT",
        "outputId": "b8ac7781-8833-4e45-caac-c5811896c009",
        "colab": {
          "base_uri": "https://localhost:8080/",
          "height": 34
        }
      },
      "source": [
        "device = torch.device(\"cuda\" if torch.cuda.is_available() else \"cpu\")\n",
        "print(device)"
      ],
      "execution_count": null,
      "outputs": [
        {
          "output_type": "stream",
          "text": [
            "cuda\n"
          ],
          "name": "stdout"
        }
      ]
    },
    {
      "cell_type": "code",
      "metadata": {
        "id": "WIeQR-J0C5gX",
        "outputId": "26740256-f245-4b5c-c6a2-7d726687b9be",
        "colab": {
          "base_uri": "https://localhost:8080/",
          "height": 34
        }
      },
      "source": [
        "all_corr['Pitt_0050003'][0].shape"
      ],
      "execution_count": null,
      "outputs": [
        {
          "output_type": "execute_result",
          "data": {
            "text/plain": [
              "(6105,)"
            ]
          },
          "metadata": {
            "tags": []
          },
          "execution_count": 16
        }
      ]
    },
    {
      "cell_type": "markdown",
      "metadata": {
        "id": "5imTX7y_C5gc"
      },
      "source": [
        "### Testing the data loader"
      ]
    },
    {
      "cell_type": "code",
      "metadata": {
        "id": "IrNJt8szC5gd",
        "outputId": "afb81052-bc36-4734-a981-a49de0aa6941",
        "colab": {
          "base_uri": "https://localhost:8080/",
          "height": 34
        }
      },
      "source": [
        "num_corr = len(all_corr[flist[0]][0])\n",
        "print(num_corr)\n",
        "regions_inds = get_regs(flist,int(num_corr/4))\n",
        "# sim_function = functools.partial(cal_similarity, lim=2)\n",
        "train_loader=get_loader(data=all_corr, samples_list=flist, \n",
        "                                    batch_size=32, mode='train',\n",
        "                                    augmentation=False, aug_factor=2, \n",
        "                                    num_neighbs=5, eig_data=None, similarity_fn=None, \n",
        "                                    verbose=True,regions=regions_inds)"
      ],
      "execution_count": null,
      "outputs": [
        {
          "output_type": "stream",
          "text": [
            "6105\n"
          ],
          "name": "stdout"
        }
      ]
    },
    {
      "cell_type": "code",
      "metadata": {
        "id": "-eY5rBOgC5gj",
        "outputId": "1241141f-aaf2-4099-9f68-af65392cc33f",
        "colab": {
          "base_uri": "https://localhost:8080/",
          "height": 52
        }
      },
      "source": [
        "i, l = next(iter(train_loader))\n",
        "print(i.shape)\n",
        "print(l.shape)"
      ],
      "execution_count": null,
      "outputs": [
        {
          "output_type": "stream",
          "text": [
            "torch.Size([32, 3052])\n",
            "torch.Size([32, 1])\n"
          ],
          "name": "stdout"
        }
      ]
    },
    {
      "cell_type": "code",
      "metadata": {
        "id": "L3qlFbIkC5go",
        "outputId": "6f8b4a7c-e6b1-4a23-f7f6-c8766733ad82",
        "colab": {
          "base_uri": "https://localhost:8080/",
          "height": 34
        }
      },
      "source": [
        "len(train_loader.dataset)"
      ],
      "execution_count": null,
      "outputs": [
        {
          "output_type": "execute_result",
          "data": {
            "text/plain": [
              "1035"
            ]
          },
          "metadata": {
            "tags": []
          },
          "execution_count": 25
        }
      ]
    },
    {
      "cell_type": "markdown",
      "metadata": {
        "id": "NwF-sGjZclEP"
      },
      "source": [
        "### Main"
      ]
    },
    {
      "cell_type": "code",
      "metadata": {
        "id": "gD9Z4VABdPwX",
        "outputId": "de1826c8-06bf-4779-efa3-ab766d88e403",
        "colab": {
          "base_uri": "https://localhost:8080/",
          "height": 34
        }
      },
      "source": [
        "num_corr = len(all_corr[flist[0]][0])\n",
        "print(num_corr)"
      ],
      "execution_count": null,
      "outputs": [
        {
          "output_type": "stream",
          "text": [
            "6105\n"
          ],
          "name": "stdout"
        }
      ]
    },
    {
      "cell_type": "code",
      "metadata": {
        "id": "44FoLg8kfeOi",
        "outputId": "c785f165-ddd4-43bc-c728-b1edd25baf6d",
        "colab": {
          "base_uri": "https://localhost:8080/",
          "height": 1000,
          "referenced_widgets": [
            "da94d572d8e24f808738f309b0b33338",
            "eda9a4b8a5e7488db72716b01219c21c",
            "91b85e71932340feb00407779badb3bf",
            "adab86c7a20b4dde8d4a6855d8b2e7da",
            "9c83bf7a131f4740a11a634d0927bf6e",
            "c98faf35b1014f7294fe4ad083df8f0c",
            "3266142ba35a4482ae7b688524e4ae41",
            "a166de73f1464efeb4e81c8f560b0dc3",
            "1051d7dff6df4c80af5d2019a81e790b",
            "7c267f198d6444abbc708155dc639338",
            "dd1e4d50303648fea28b8b45be18fad9",
            "7eca78fc1b2a4922b02d384212be88e9",
            "2c539d0205f947e999323c9b7efcee54",
            "3b115121634d4230b60ed79e5310af00",
            "e856ea08ac0b44759d8c039adcd17810",
            "11adfb879e3f45ac80c8c2bd18add8a1",
            "7e6cd27843fb460dbea75179be4d9fea",
            "7b0d6c1739aa45a3ab2ca4a0a013bbcd",
            "c303bd05db284050ad3d915157f5babb",
            "5ddc436d7fe74c3d92c3b12922f32370",
            "46045fecab364e8abc95388cb1e3adf4",
            "5d6cfa2afecc4c6e85b136a8a7778c0b",
            "f06fe3484a174d5881e23c911ba2fdc8",
            "4a3dc6d1a82944a0938f1106f24fed94",
            "35c8cd006bf345cd8ffc94b7c72684a2",
            "9d645c77f5034cd98fe7d6fb0aef0ce5",
            "9e79131078dc4ed99b1bc7f632dcfca3",
            "4546bb04882044a8be2b9b98adf47043",
            "f8fd6e1ed27041e5887f52f5d77079c4",
            "eff1749118ca4bc2be2be55b79fd09d1",
            "b76c45ee98e6448eb9426a11310bb34c",
            "392a80a7c768428f85a9dc27d1fcdfe9",
            "29cfb43c6d8b4a4c8200bf158a9630e4",
            "19c1939359784a3e9a04de58f7aa4d04",
            "26143b214066479f8c13caed233b3f00",
            "91e0de075cc64613a4ac73b3f3338925",
            "2052f8bccc1d4401a3e23925ab143b41",
            "540bb3662c224a8ea71d23ccccdbc8c6",
            "2b157e486bdb4b5eba0b298176b163b9",
            "e677a147ac5e4a018088b334a52ca154",
            "6a25c6d2f2cb4220a4299c6c6470a5c6",
            "833c5316db694c48adc6b037f3abccf0",
            "2b960173ea554e1b958957d9696d35ac",
            "bfaff16c674f4d62b4d246fd1edbeaf3",
            "69f7b67678f24d1c82a126cb53869d1b",
            "bc5dc90d3f3d4a6589c4cff07113f286",
            "8fb56a715b564638bf04910f4d835127",
            "27a33d2560484b948d54b0064baaa28c",
            "fbfa23f4e9874fea95c5851538e57435",
            "6a9aeaf580954986b7c11c7ef0f54d27",
            "f89e88b6aad14df1b1a807449138aedf",
            "2752ecfb388c44e1bdf887ee1fc1a040",
            "200f0c91d63543038f26f09628a01a5d",
            "ed2070d3d40146e0a057c8415dc976c2",
            "9618097a72e948389750dfcf7afdd835",
            "e68c3ed8620d414a83d2d32b126cf366",
            "4eab16fa5aff4eeeac19ae516e314384",
            "e521f4cd64f54bb0ad8e1da3a8fadaea",
            "e6960b63e77146e998f580d95faa1932",
            "52b0aa45a2d44d0f85d90ab7b9311e9c",
            "f9887a6031b4410ea75fbe409a347601",
            "b6853bae2bb048a18da72150cba0554a",
            "ad7cede43709411b8f1188c3b92905ab",
            "d342446d134e4e7eb6212c480e0095b1",
            "61b257911bc448b7bf169da849bb5b9b",
            "034ba3927e8e452593693df2af75f10b",
            "76532e996d0b44219b386105fde739a7",
            "07656f1dbe6f48f1b8574095c37de6a4",
            "da228b7289ce4d15a2a99c6e0ca0c27a",
            "af91a610ac294f598bad8f33fe6fb37f",
            "b53e2df7347a41cdb7d98fcad92a9246",
            "c940dc77fdfd42b38d79f2aa241a49b4",
            "8bf9b697393e47648653a8793240e247",
            "aa7f13ae172c4b0e9678e202c4f9b827",
            "fcf9fa4f98aa4dd0b6878ea0f8702a29",
            "8b88e7707f38439cba1baff664f61e38",
            "d9f2e014afc84d4791ec858344c9041a",
            "4a6650e026fb4b6e964759b3969b7968",
            "c17b244ffae54520b958cb1fffca8e6d",
            "652e38f3301d404f96ca9e1c9bd208d2",
            "1e81c96ee2e341ddbaab80659b1d02fe",
            "9ecfdfa0e3924dbaa61bf1f2c6737e28",
            "6f8227c6673d42eaa4210f465fa35a3f",
            "01f002af88c54611aef7a6a71b528574",
            "b3fcb5c11e7742e7b1bf06e477b8b1d1",
            "a5cf953956a1490093ee69a100e3b4de",
            "2b0e938619514b719cd62e530d915a29",
            "3159940ba1bb43178cde0b43f04130ae",
            "f09319b5301f46c28f7d84a2d2f3a186",
            "c6b8f4427d564c40901d606ba7bf54cc",
            "b8a0d7d4740a4d659d06d71eaaa693e5",
            "c56d367184614fcd82554b3769c466d1",
            "64f33b1b7e48416a8d6ab120b3acd507",
            "cc3a8bd82d1647a2a5aa9a89261268b4",
            "db2fde160ff548f092acf309f2981463",
            "1a7dc6b79caa48c6a989f27d6f6fdf66",
            "51e9f2af24864cb58add0020d7f8da39",
            "53b2d2e3c8ff4a26aa260f744ad8e39a",
            "d027205162574580b7c6d5d50b885a39",
            "e00b055effbc4f5bb33a7bf486cef40e",
            "243c331d021e4ef1b38261620970d616",
            "a3fa942dcdf94b0482de79cfa62f953d",
            "56177594b220401da7bdb30ec20c4758",
            "948f83e867424dc7bee1d0706e77b398",
            "86b01823efb04a4297b8c5c555c9ca82",
            "3284106034ce4972adcac664a78f7b17",
            "aea3b740a8874a0e9a681a2e88520d73",
            "c642d4a19a9345329bcb915832542ee0",
            "74084643dd1c42fb9f15b316865dc71f",
            "f7c8be3d1bbf483ca7401d5df9cde947",
            "4c709efe9332427281343eb115b1af15",
            "44aca4be4b854c9fac7538dd450b1d96",
            "6d0ed67fdc6841e69ee7f918bd1bcd3f",
            "387fb588ff1e4d61ab72722e72e51439",
            "bf3bfad0a5f24b4ba1e0fc1f727050a9",
            "cd91de6fe717466fa2a2dc416e8ddd18",
            "e4cdcc1783c248fdbd0fb925b117b7fe",
            "5d8b9320136d4601a4de5a98795f896f",
            "45a9112b51c842e78418db4666bc6fda",
            "b1e417d6388546dda38c59c246b78fc6",
            "e3ff7b817f0048c391f4f2932507d2a5",
            "139564138f5f4943b96ba6a317a60d90",
            "4878e5ead6bd4e13bcc33d4acdc3f231",
            "0403d675b3904b1d8f81811f09d39f19",
            "e24ca8340caa4882bc601875ac77a24e",
            "55c3c51d01044b7bbdb3c5fd3b8753a9",
            "10601e6b2b334cc9afe770dd240f7541",
            "90ba9ca0ab514c9d8b994f4122b2e89f",
            "0dfa10c763bc409180e69ef6dedb690f",
            "ed154936feda43fbbb52a2a845c202f1",
            "9ad66191320a447e8ce28697a4c0cab8",
            "f306b783202b421b90fa59ccc1b69337",
            "03e83143ee6b47ecb07e05dd33099a63",
            "88da58c5fa5c4cc7a85af9b6b62b3941",
            "3e6cd1a6306849e49a2250bd065fe782",
            "45f9d5f78a34469bbc4c0f0b8a9a2bc9",
            "cea0cf2313be4a6388b57e66a3ddb65d",
            "bccb2fd54c5549ad9ba4013ef4f6ce12",
            "785e47d8f75043969a63476c90c42e7b",
            "e9ef4e2faee6474d90dff904807a7098",
            "5e7de318b3724a37b929313741f5bf5e",
            "04a591b27373467b89216e2b6d166298",
            "153b991926354a42bdf5635ceea9a843",
            "ba80343ef5d843fca127e349f1a73e18",
            "324e2d07281d4039ba586229a32c595b",
            "fbf647f30d794fbf9743ef566c167655",
            "56b31b2b8dfb4e65bd9eef6238dc9eac",
            "5333c1bda97d423ba87d4d89c995b06f",
            "69739912746242e795c0a8347465d46b",
            "3c92dfd06626455e96d8b7b0620ca3c0",
            "f668e4ab78ab458da324b6dd08f62e4e",
            "8e549e58792746559ea51bee9156bbb5"
          ]
        }
      },
      "source": [
        "if p_Method == \"ASD-DiagNet\" and p_mode == \"whole\":\n",
        "    \n",
        "    num_corr = len(all_corr[flist[0]][0])\n",
        "    print(\"num_corr:  \",num_corr)\n",
        "    \n",
        "    start =time.time()\n",
        "    batch_size = 8\n",
        "    learning_rate_ae, learning_rate_clf = 0.0001, 0.0001\n",
        "    num_epochs = 25\n",
        "\n",
        "    p_bernoulli = None\n",
        "    augmentation = p_augmentation\n",
        "    use_dropout = False\n",
        "\n",
        "    aug_factor = 2\n",
        "    num_neighbs = 5\n",
        "    lim4sim = 2\n",
        "    n_lat = int(num_corr//4)\n",
        "    print(n_lat)\n",
        "    start= time.time()\n",
        "\n",
        "    print('p_bernoulli: ', p_bernoulli)\n",
        "    print('augmentaiton: ', augmentation, 'aug_factor: ', aug_factor, \n",
        "          'num_neighbs: ', num_neighbs, 'lim4sim: ', lim4sim)\n",
        "    print('use_dropout: ', use_dropout, '\\n')\n",
        "\n",
        "\n",
        "    # sim_function = functools.partial(cal_similarity, lim=lim4sim)\n",
        "    crossval_res_kol=[]\n",
        "    y_arr = np.array([get_label(f) for f in flist])\n",
        "    flist = np.array(flist)\n",
        "    kk=0 \n",
        "\n",
        "    # list to store metrics after each fold\n",
        "    repeat_acc=[]\n",
        "    repeat_sen=[]\n",
        "    repeat_spec=[]\n",
        "    repeat_loss=[]\n",
        "\n",
        "    for rp in range(2):\n",
        "        crossval_acc=[]\n",
        "        crossval_sen=[]\n",
        "        crossval_spec=[]\n",
        "        crossval_loss=[]\n",
        "\n",
        "        kf = StratifiedKFold(n_splits=p_fold, random_state=1, shuffle=True)\n",
        "        np.random.shuffle(flist)\n",
        "        y_arr = np.array([get_label(f) for f in flist])\n",
        "        for kk,(train_index, test_index) in enumerate(kf.split(flist, y_arr)):\n",
        "            #init wandb \n",
        "            NAME = f'asd-diagnet-dim-ho---fold-{kk+1}-rp-{rp+1}'\n",
        "            ID = f'dim---ho-fold-{kk+1}-rp-{rp+1}'\n",
        "            wandb.init(project = 'asd2', name=NAME, id=ID)\n",
        "\n",
        "            train_samples, test_samples = flist[train_index], flist[test_index]\n",
        "            verbose = (True if (kk == 0) else False)\n",
        "\n",
        "            regions_inds = get_regs(train_samples,int(num_corr/4))\n",
        "\n",
        "            num_inpp = len(regions_inds)\n",
        "            n_lat = int(num_inpp/2)\n",
        "            # n_lat = 4975\n",
        "            # n_lat = int(num_corr/2)\n",
        "            train_loader=get_loader(data=all_corr, samples_list=train_samples, \n",
        "                                    batch_size=batch_size, mode='train',\n",
        "                                    augmentation=augmentation, aug_factor=aug_factor, \n",
        "                                    num_neighbs=num_neighbs, eig_data=None, similarity_fn=None, \n",
        "                                    verbose=verbose,regions=regions_inds)\n",
        "\n",
        "            test_loader=get_loader(data=all_corr, samples_list=test_samples, \n",
        "                                   batch_size=batch_size, mode='test', augmentation=False, \n",
        "                                   verbose=verbose,regions=regions_inds)\n",
        "\n",
        "            model = MTAutoEncoder(tied=True, num_inputs=num_inpp, num_latent=n_lat, use_dropout=use_dropout)\n",
        "            # model = MTAutoEncoder(tied=True, num_inputs=num_corr, num_latent=n_lat, use_dropout=use_dropout)\n",
        "            model.to(device)\n",
        "            criterion_ae = nn.MSELoss(reduction='sum')\n",
        "            criterion_clf = nn.BCEWithLogitsLoss()\n",
        "            optimizer = optim.SGD([{'params': model.fc_encoder.parameters(), 'lr': learning_rate_ae},\n",
        "                                   {'params': model.classifier.parameters(), 'lr': learning_rate_clf}],\n",
        "                                  momentum=0.9)\n",
        "\n",
        "\n",
        "            for epoch in range(1, num_epochs+1):\n",
        "                if epoch <= 20:\n",
        "                    train_losses, clf_train_loss, ae_train_loss, train_acc = train(model, epoch, train_loader, p_bernoulli, mode='both')\n",
        "                else:\n",
        "                    train_losses, clf_train_loss, ae_train_loss, train_acc = train(model, epoch, train_loader, p_bernoulli, mode='clf')\n",
        "                print(f'Epoch {epoch}/{num_epochs+1}')\n",
        "\n",
        "                wandb.log({'Classifier Train loss': clf_train_loss, 'Train accuracy': train_acc, 'AE Train loss': ae_train_loss,})\n",
        "\n",
        "                content = f' Classifier Train loss: {(clf_train_loss):.4f}, AE Train loss: {(ae_train_loss):.4f}, Train Acc: {(train_acc):.4f}'\n",
        "                print(content)\n",
        "\n",
        "            metrics_dict = test(model, criterion_clf, test_loader, eval_classifier=True)\n",
        "            print(\"-----------------------------\")\n",
        "            print(f'Fold {kk+1}/{p_fold}')\n",
        "            content = f'{metrics_dict}'\n",
        "            print(content)\n",
        "            print(\"-----------------------------\")\n",
        "\n",
        "            crossval_acc.append(metrics_dict['accuracy'])\n",
        "            crossval_sen.append(metrics_dict['senstivity'])\n",
        "            crossval_spec.append(metrics_dict['specificity'])\n",
        "            crossval_loss.append(metrics_dict['loss'])\n",
        "            \n",
        "            #save the model after each fold\n",
        "            \n",
        "            recorder = {'optimizer': optimizer.state_dict(),\n",
        "            'model': model.state_dict(),\n",
        "            'fold' : kk+1,\n",
        "            'repitition' : rp+1}\n",
        "\n",
        "            torch.save(recorder, f'{NAME}.pt')\n",
        "            \n",
        "        print(\"*********************************\")    \n",
        "        print(f'Average Value after 10 Folds and repeats one {rp+1}------->')\n",
        "        content = f'Accuracy: {np.round(np.mean(crossval_acc),4)}, Senstivity: {np.round(np.mean(crossval_sen),4)}, Specificity: {np.round(np.mean(crossval_spec),4)}, Loss: {np.round(np.mean(crossval_loss),4)}'\n",
        "        print(content)\n",
        "        print(\"*********************************\") \n",
        "        \n",
        "        repeat_acc.append(np.mean(crossval_acc))\n",
        "        repeat_sen.append(np.mean(crossval_sen))\n",
        "        repeat_spec.append(np.mean(crossval_spec))\n",
        "        repeat_loss.append(np.mean(crossval_loss))\n",
        "    \n",
        "    print(f\"Average Value after :\",rp+1,\" Repeat:\")\n",
        "    content = f'Accuracy: {np.round(np.mean(repeat_acc),4)}, Senstivity: {np.round(np.mean(repeat_sen),4)}, Specificity: {np.round(np.mean(repeat_spec),4)}, Loss: {np.round(np.mean(repeat_loss),4)}'\n",
        "    print(content)\n",
        "        \n",
        "    finish= time.time()\n",
        "    print(finish-start)"
      ],
      "execution_count": null,
      "outputs": [
        {
          "output_type": "stream",
          "text": [
            "num_corr:   6105\n",
            "1526\n",
            "p_bernoulli:  None\n",
            "augmentaiton:  False aug_factor:  2 num_neighbs:  5 lim4sim:  2\n",
            "use_dropout:  False \n",
            "\n"
          ],
          "name": "stdout"
        },
        {
          "output_type": "stream",
          "text": [
            "\u001b[34m\u001b[1mwandb\u001b[0m: Currently logged in as: \u001b[33mpindi-krishna\u001b[0m (use `wandb login --relogin` to force relogin)\n"
          ],
          "name": "stderr"
        },
        {
          "output_type": "display_data",
          "data": {
            "text/html": [
              "\n",
              "                Tracking run with wandb version 0.10.5<br/>\n",
              "                Syncing run <strong style=\"color:#cdcd00\">asd-diagnet-dim-ho---fold-1-rp-1</strong> to <a href=\"https://wandb.ai\" target=\"_blank\">Weights & Biases</a> <a href=\"https://docs.wandb.com/integrations/jupyter.html\" target=\"_blank\">(Documentation)</a>.<br/>\n",
              "                Project page: <a href=\"https://wandb.ai/pindi-krishna/asd2\" target=\"_blank\">https://wandb.ai/pindi-krishna/asd2</a><br/>\n",
              "                Run page: <a href=\"https://wandb.ai/pindi-krishna/asd2/runs/dim---ho-fold-1-rp-1\" target=\"_blank\">https://wandb.ai/pindi-krishna/asd2/runs/dim---ho-fold-1-rp-1</a><br/>\n",
              "                Run data is saved locally in <code>wandb/run-20201012_161545-dim---ho-fold-1-rp-1</code><br/><br/>\n",
              "            "
            ],
            "text/plain": [
              "<IPython.core.display.HTML object>"
            ]
          },
          "metadata": {
            "tags": []
          }
        },
        {
          "output_type": "stream",
          "text": [
            "Epoch 1/26\n",
            " Classifier Train loss: 0.6914, AE Train loss: 89.8788, Train Acc: 0.5151\n",
            "Epoch 2/26\n",
            " Classifier Train loss: 0.6828, AE Train loss: 71.0073, Train Acc: 0.5517\n",
            "Epoch 3/26\n",
            " Classifier Train loss: 0.6715, AE Train loss: 63.5318, Train Acc: 0.6164\n",
            "Epoch 4/26\n",
            " Classifier Train loss: 0.6643, AE Train loss: 58.1594, Train Acc: 0.6164\n",
            "Epoch 5/26\n",
            " Classifier Train loss: 0.6557, AE Train loss: 53.7413, Train Acc: 0.6455\n",
            "Epoch 6/26\n",
            " Classifier Train loss: 0.6496, AE Train loss: 50.0772, Train Acc: 0.6552\n",
            "Epoch 7/26\n",
            " Classifier Train loss: 0.6440, AE Train loss: 46.9395, Train Acc: 0.6595\n",
            "Epoch 8/26\n",
            " Classifier Train loss: 0.6369, AE Train loss: 44.2100, Train Acc: 0.6756\n",
            "Epoch 9/26\n",
            " Classifier Train loss: 0.6331, AE Train loss: 41.8103, Train Acc: 0.6692\n",
            "Epoch 10/26\n",
            " Classifier Train loss: 0.6273, AE Train loss: 39.6854, Train Acc: 0.6767\n",
            "Epoch 11/26\n",
            " Classifier Train loss: 0.6226, AE Train loss: 37.7225, Train Acc: 0.6778\n",
            "Epoch 12/26\n",
            " Classifier Train loss: 0.6179, AE Train loss: 35.9258, Train Acc: 0.6832\n",
            "Epoch 13/26\n",
            " Classifier Train loss: 0.6137, AE Train loss: 34.3496, Train Acc: 0.6875\n",
            "Epoch 14/26\n",
            " Classifier Train loss: 0.6091, AE Train loss: 32.8743, Train Acc: 0.7134\n",
            "Epoch 15/26\n",
            " Classifier Train loss: 0.6060, AE Train loss: 31.5587, Train Acc: 0.7015\n",
            "Epoch 16/26\n",
            " Classifier Train loss: 0.6015, AE Train loss: 30.2794, Train Acc: 0.7209\n",
            "Epoch 17/26\n",
            " Classifier Train loss: 0.5981, AE Train loss: 29.1180, Train Acc: 0.7080\n",
            "Epoch 18/26\n",
            " Classifier Train loss: 0.5951, AE Train loss: 28.0357, Train Acc: 0.7188\n",
            "Epoch 19/26\n",
            " Classifier Train loss: 0.5922, AE Train loss: 27.0269, Train Acc: 0.7198\n",
            "Epoch 20/26\n",
            " Classifier Train loss: 0.5890, AE Train loss: 26.0908, Train Acc: 0.7198\n",
            "Epoch 21/26\n",
            " Classifier Train loss: 0.5831, AE Train loss: 0.0000, Train Acc: 0.7317\n",
            "Epoch 22/26\n",
            " Classifier Train loss: 0.5805, AE Train loss: 0.0000, Train Acc: 0.7177\n",
            "Epoch 23/26\n",
            " Classifier Train loss: 0.5768, AE Train loss: 0.0000, Train Acc: 0.7328\n",
            "Epoch 24/26\n",
            " Classifier Train loss: 0.5730, AE Train loss: 0.0000, Train Acc: 0.7371\n",
            "Epoch 25/26\n",
            " Classifier Train loss: 0.5701, AE Train loss: 0.0000, Train Acc: 0.7360\n",
            "-----------------------------\n",
            "Fold 1/10\n",
            "{'accuracy': 0.6346, 'senstivity': 0.6078, 'specificity': 0.6604, 'loss': 0.6448}\n",
            "-----------------------------\n"
          ],
          "name": "stdout"
        },
        {
          "output_type": "stream",
          "text": [
            "\u001b[34m\u001b[1mwandb\u001b[0m: \u001b[33mWARNING\u001b[0m Calling wandb.login() after wandb.init() has no effect.\n"
          ],
          "name": "stderr"
        },
        {
          "output_type": "display_data",
          "data": {
            "text/html": [
              "<br/>Waiting for W&B process to finish, PID 9570<br/>Program ended successfully."
            ],
            "text/plain": [
              "<IPython.core.display.HTML object>"
            ]
          },
          "metadata": {
            "tags": []
          }
        },
        {
          "output_type": "display_data",
          "data": {
            "application/vnd.jupyter.widget-view+json": {
              "model_id": "da94d572d8e24f808738f309b0b33338",
              "version_minor": 0,
              "version_major": 2
            },
            "text/plain": [
              "VBox(children=(Label(value=' 0.00MB of 0.00MB uploaded (0.00MB deduped)\\r'), FloatProgress(value=1.0, max=1.0)…"
            ]
          },
          "metadata": {
            "tags": []
          }
        },
        {
          "output_type": "display_data",
          "data": {
            "text/html": [
              "Find user logs for this run at: <code>wandb/run-20201012_161545-dim---ho-fold-1-rp-1/logs/debug.log</code>"
            ],
            "text/plain": [
              "<IPython.core.display.HTML object>"
            ]
          },
          "metadata": {
            "tags": []
          }
        },
        {
          "output_type": "display_data",
          "data": {
            "text/html": [
              "Find internal logs for this run at: <code>wandb/run-20201012_161545-dim---ho-fold-1-rp-1/logs/debug-internal.log</code>"
            ],
            "text/plain": [
              "<IPython.core.display.HTML object>"
            ]
          },
          "metadata": {
            "tags": []
          }
        },
        {
          "output_type": "display_data",
          "data": {
            "text/html": [
              "<h3>Run summary:</h3><br/><style>\n",
              "    table.wandb td:nth-child(1) { padding: 0 10px; text-align: right }\n",
              "    </style><table class=\"wandb\">\n",
              "<tr><td>Classifier Train loss</td><td>0.57009</td></tr><tr><td>Train accuracy</td><td>0.73599</td></tr><tr><td>AE Train loss</td><td>0.0</td></tr><tr><td>_step</td><td>24</td></tr><tr><td>_runtime</td><td>17</td></tr><tr><td>_timestamp</td><td>1602519362</td></tr></table>"
            ],
            "text/plain": [
              "<IPython.core.display.HTML object>"
            ]
          },
          "metadata": {
            "tags": []
          }
        },
        {
          "output_type": "display_data",
          "data": {
            "text/html": [
              "<h3>Run history:</h3><br/><style>\n",
              "    table.wandb td:nth-child(1) { padding: 0 10px; text-align: right }\n",
              "    </style><table class=\"wandb\">\n",
              "<tr><td>Classifier Train loss</td><td>██▇▆▆▆▅▅▅▄▄▄▄▃▃▃▃▂▂▂▂▂▁▁▁</td></tr><tr><td>Train accuracy</td><td>▁▂▄▄▅▅▆▆▆▆▆▆▆▇▇▇▇▇▇▇█▇███</td></tr><tr><td>AE Train loss</td><td>█▇▆▆▅▅▅▄▄▄▄▄▄▄▃▃▃▃▃▃▁▁▁▁▁</td></tr><tr><td>_step</td><td>▁▁▂▂▂▂▃▃▃▄▄▄▅▅▅▅▆▆▆▇▇▇▇██</td></tr><tr><td>_runtime</td><td>▁▁▂▂▂▃▃▃▃▄▄▅▅▅▆▆▆▆▇▇▇▇███</td></tr><tr><td>_timestamp</td><td>▁▁▂▂▂▃▃▃▃▄▄▅▅▅▆▆▆▆▇▇▇▇███</td></tr></table><br/>"
            ],
            "text/plain": [
              "<IPython.core.display.HTML object>"
            ]
          },
          "metadata": {
            "tags": []
          }
        },
        {
          "output_type": "display_data",
          "data": {
            "text/html": [
              "Synced 5 W&B file(s), 0 media file(s), 0 artifact file(s) and 0 other file(s)"
            ],
            "text/plain": [
              "<IPython.core.display.HTML object>"
            ]
          },
          "metadata": {
            "tags": []
          }
        },
        {
          "output_type": "display_data",
          "data": {
            "text/html": [
              "\n",
              "                    <br/>Synced <strong style=\"color:#cdcd00\">asd-diagnet-dim-ho---fold-1-rp-1</strong>: <a href=\"https://wandb.ai/pindi-krishna/asd2/runs/dim---ho-fold-1-rp-1\" target=\"_blank\">https://wandb.ai/pindi-krishna/asd2/runs/dim---ho-fold-1-rp-1</a><br/>\n",
              "                "
            ],
            "text/plain": [
              "<IPython.core.display.HTML object>"
            ]
          },
          "metadata": {
            "tags": []
          }
        },
        {
          "output_type": "display_data",
          "data": {
            "text/html": [
              "\n",
              "                Tracking run with wandb version 0.10.5<br/>\n",
              "                Syncing run <strong style=\"color:#cdcd00\">asd-diagnet-dim-ho---fold-2-rp-1</strong> to <a href=\"https://wandb.ai\" target=\"_blank\">Weights & Biases</a> <a href=\"https://docs.wandb.com/integrations/jupyter.html\" target=\"_blank\">(Documentation)</a>.<br/>\n",
              "                Project page: <a href=\"https://wandb.ai/pindi-krishna/asd2\" target=\"_blank\">https://wandb.ai/pindi-krishna/asd2</a><br/>\n",
              "                Run page: <a href=\"https://wandb.ai/pindi-krishna/asd2/runs/dim---ho-fold-2-rp-1\" target=\"_blank\">https://wandb.ai/pindi-krishna/asd2/runs/dim---ho-fold-2-rp-1</a><br/>\n",
              "                Run data is saved locally in <code>wandb/run-20201012_161603-dim---ho-fold-2-rp-1</code><br/><br/>\n",
              "            "
            ],
            "text/plain": [
              "<IPython.core.display.HTML object>"
            ]
          },
          "metadata": {
            "tags": []
          }
        },
        {
          "output_type": "stream",
          "text": [
            "Epoch 1/26\n",
            " Classifier Train loss: 0.6948, AE Train loss: 90.5263, Train Acc: 0.5011\n",
            "Epoch 2/26\n",
            " Classifier Train loss: 0.6826, AE Train loss: 71.2046, Train Acc: 0.5690\n",
            "Epoch 3/26\n",
            " Classifier Train loss: 0.6739, AE Train loss: 63.8063, Train Acc: 0.6164\n",
            "Epoch 4/26\n",
            " Classifier Train loss: 0.6658, AE Train loss: 58.2941, Train Acc: 0.6121\n",
            "Epoch 5/26\n",
            " Classifier Train loss: 0.6588, AE Train loss: 53.9267, Train Acc: 0.6379\n",
            "Epoch 6/26\n",
            " Classifier Train loss: 0.6514, AE Train loss: 50.2148, Train Acc: 0.6498\n",
            "Epoch 7/26\n",
            " Classifier Train loss: 0.6454, AE Train loss: 47.1025, Train Acc: 0.6606\n",
            "Epoch 8/26\n",
            " Classifier Train loss: 0.6388, AE Train loss: 44.3838, Train Acc: 0.6649\n",
            "Epoch 9/26\n",
            " Classifier Train loss: 0.6324, AE Train loss: 41.9368, Train Acc: 0.6767\n",
            "Epoch 10/26\n",
            " Classifier Train loss: 0.6279, AE Train loss: 39.8035, Train Acc: 0.6756\n",
            "Epoch 11/26\n",
            " Classifier Train loss: 0.6233, AE Train loss: 37.8489, Train Acc: 0.6907\n",
            "Epoch 12/26\n",
            " Classifier Train loss: 0.6180, AE Train loss: 36.0838, Train Acc: 0.6950\n",
            "Epoch 13/26\n",
            " Classifier Train loss: 0.6127, AE Train loss: 34.4577, Train Acc: 0.6918\n",
            "Epoch 14/26\n",
            " Classifier Train loss: 0.6088, AE Train loss: 32.9807, Train Acc: 0.7015\n",
            "Epoch 15/26\n",
            " Classifier Train loss: 0.6042, AE Train loss: 31.6336, Train Acc: 0.7026\n",
            "Epoch 16/26\n",
            " Classifier Train loss: 0.5993, AE Train loss: 30.3668, Train Acc: 0.7091\n",
            "Epoch 17/26\n",
            " Classifier Train loss: 0.5978, AE Train loss: 29.1893, Train Acc: 0.7101\n",
            "Epoch 18/26\n",
            " Classifier Train loss: 0.5922, AE Train loss: 28.0972, Train Acc: 0.7209\n",
            "Epoch 19/26\n",
            " Classifier Train loss: 0.5894, AE Train loss: 27.1001, Train Acc: 0.7188\n",
            "Epoch 20/26\n",
            " Classifier Train loss: 0.5847, AE Train loss: 26.1604, Train Acc: 0.7252\n",
            "Epoch 21/26\n",
            " Classifier Train loss: 0.5813, AE Train loss: 0.0000, Train Acc: 0.7317\n",
            "Epoch 22/26\n",
            " Classifier Train loss: 0.5777, AE Train loss: 0.0000, Train Acc: 0.7295\n",
            "Epoch 23/26\n",
            " Classifier Train loss: 0.5730, AE Train loss: 0.0000, Train Acc: 0.7317\n",
            "Epoch 24/26\n",
            " Classifier Train loss: 0.5679, AE Train loss: 0.0000, Train Acc: 0.7349\n",
            "Epoch 25/26\n",
            " Classifier Train loss: 0.5654, AE Train loss: 0.0000, Train Acc: 0.7360\n",
            "-----------------------------\n",
            "Fold 2/10\n",
            "{'accuracy': 0.6635, 'senstivity': 0.7647, 'specificity': 0.566, 'loss': 0.6199}\n",
            "-----------------------------\n"
          ],
          "name": "stdout"
        },
        {
          "output_type": "stream",
          "text": [
            "\u001b[34m\u001b[1mwandb\u001b[0m: \u001b[33mWARNING\u001b[0m Calling wandb.login() after wandb.init() has no effect.\n"
          ],
          "name": "stderr"
        },
        {
          "output_type": "display_data",
          "data": {
            "text/html": [
              "<br/>Waiting for W&B process to finish, PID 9711<br/>Program ended successfully."
            ],
            "text/plain": [
              "<IPython.core.display.HTML object>"
            ]
          },
          "metadata": {
            "tags": []
          }
        },
        {
          "output_type": "display_data",
          "data": {
            "application/vnd.jupyter.widget-view+json": {
              "model_id": "1051d7dff6df4c80af5d2019a81e790b",
              "version_minor": 0,
              "version_major": 2
            },
            "text/plain": [
              "VBox(children=(Label(value=' 0.00MB of 0.00MB uploaded (0.00MB deduped)\\r'), FloatProgress(value=1.0, max=1.0)…"
            ]
          },
          "metadata": {
            "tags": []
          }
        },
        {
          "output_type": "display_data",
          "data": {
            "text/html": [
              "Find user logs for this run at: <code>wandb/run-20201012_161603-dim---ho-fold-2-rp-1/logs/debug.log</code>"
            ],
            "text/plain": [
              "<IPython.core.display.HTML object>"
            ]
          },
          "metadata": {
            "tags": []
          }
        },
        {
          "output_type": "display_data",
          "data": {
            "text/html": [
              "Find internal logs for this run at: <code>wandb/run-20201012_161603-dim---ho-fold-2-rp-1/logs/debug-internal.log</code>"
            ],
            "text/plain": [
              "<IPython.core.display.HTML object>"
            ]
          },
          "metadata": {
            "tags": []
          }
        },
        {
          "output_type": "display_data",
          "data": {
            "text/html": [
              "<h3>Run summary:</h3><br/><style>\n",
              "    table.wandb td:nth-child(1) { padding: 0 10px; text-align: right }\n",
              "    </style><table class=\"wandb\">\n",
              "<tr><td>Classifier Train loss</td><td>0.5654</td></tr><tr><td>Train accuracy</td><td>0.73599</td></tr><tr><td>AE Train loss</td><td>0.0</td></tr><tr><td>_step</td><td>24</td></tr><tr><td>_runtime</td><td>14</td></tr><tr><td>_timestamp</td><td>1602519380</td></tr></table>"
            ],
            "text/plain": [
              "<IPython.core.display.HTML object>"
            ]
          },
          "metadata": {
            "tags": []
          }
        },
        {
          "output_type": "display_data",
          "data": {
            "text/html": [
              "<h3>Run history:</h3><br/><style>\n",
              "    table.wandb td:nth-child(1) { padding: 0 10px; text-align: right }\n",
              "    </style><table class=\"wandb\">\n",
              "<tr><td>Classifier Train loss</td><td>█▇▇▆▆▆▅▅▅▄▄▄▄▃▃▃▃▂▂▂▂▂▁▁▁</td></tr><tr><td>Train accuracy</td><td>▁▃▄▄▅▅▆▆▆▆▇▇▇▇▇▇▇█▇██████</td></tr><tr><td>AE Train loss</td><td>█▇▆▆▅▅▅▄▄▄▄▄▄▄▃▃▃▃▃▃▁▁▁▁▁</td></tr><tr><td>_step</td><td>▁▁▂▂▂▂▃▃▃▄▄▄▅▅▅▅▆▆▆▇▇▇▇██</td></tr><tr><td>_runtime</td><td>▁▁▂▂▂▂▃▃▃▃▄▄▅▅▅▆▆▆▆▇▇▇▇▇█</td></tr><tr><td>_timestamp</td><td>▁▁▂▂▂▂▃▃▃▃▄▄▅▅▅▆▆▆▆▇▇▇▇▇█</td></tr></table><br/>"
            ],
            "text/plain": [
              "<IPython.core.display.HTML object>"
            ]
          },
          "metadata": {
            "tags": []
          }
        },
        {
          "output_type": "display_data",
          "data": {
            "text/html": [
              "Synced 5 W&B file(s), 0 media file(s), 0 artifact file(s) and 0 other file(s)"
            ],
            "text/plain": [
              "<IPython.core.display.HTML object>"
            ]
          },
          "metadata": {
            "tags": []
          }
        },
        {
          "output_type": "display_data",
          "data": {
            "text/html": [
              "\n",
              "                    <br/>Synced <strong style=\"color:#cdcd00\">asd-diagnet-dim-ho---fold-2-rp-1</strong>: <a href=\"https://wandb.ai/pindi-krishna/asd2/runs/dim---ho-fold-2-rp-1\" target=\"_blank\">https://wandb.ai/pindi-krishna/asd2/runs/dim---ho-fold-2-rp-1</a><br/>\n",
              "                "
            ],
            "text/plain": [
              "<IPython.core.display.HTML object>"
            ]
          },
          "metadata": {
            "tags": []
          }
        },
        {
          "output_type": "display_data",
          "data": {
            "text/html": [
              "\n",
              "                Tracking run with wandb version 0.10.5<br/>\n",
              "                Syncing run <strong style=\"color:#cdcd00\">asd-diagnet-dim-ho---fold-3-rp-1</strong> to <a href=\"https://wandb.ai\" target=\"_blank\">Weights & Biases</a> <a href=\"https://docs.wandb.com/integrations/jupyter.html\" target=\"_blank\">(Documentation)</a>.<br/>\n",
              "                Project page: <a href=\"https://wandb.ai/pindi-krishna/asd2\" target=\"_blank\">https://wandb.ai/pindi-krishna/asd2</a><br/>\n",
              "                Run page: <a href=\"https://wandb.ai/pindi-krishna/asd2/runs/dim---ho-fold-3-rp-1\" target=\"_blank\">https://wandb.ai/pindi-krishna/asd2/runs/dim---ho-fold-3-rp-1</a><br/>\n",
              "                Run data is saved locally in <code>wandb/run-20201012_161620-dim---ho-fold-3-rp-1</code><br/><br/>\n",
              "            "
            ],
            "text/plain": [
              "<IPython.core.display.HTML object>"
            ]
          },
          "metadata": {
            "tags": []
          }
        },
        {
          "output_type": "stream",
          "text": [
            "Epoch 1/26\n",
            " Classifier Train loss: 0.6906, AE Train loss: 90.4553, Train Acc: 0.5269\n",
            "Epoch 2/26\n",
            " Classifier Train loss: 0.6813, AE Train loss: 71.0756, Train Acc: 0.5668\n",
            "Epoch 3/26\n",
            " Classifier Train loss: 0.6731, AE Train loss: 63.7155, Train Acc: 0.5808\n",
            "Epoch 4/26\n",
            " Classifier Train loss: 0.6670, AE Train loss: 58.1819, Train Acc: 0.6272\n",
            "Epoch 5/26\n",
            " Classifier Train loss: 0.6588, AE Train loss: 53.8077, Train Acc: 0.6315\n",
            "Epoch 6/26\n",
            " Classifier Train loss: 0.6530, AE Train loss: 50.1011, Train Acc: 0.6422\n",
            "Epoch 7/26\n",
            " Classifier Train loss: 0.6455, AE Train loss: 47.0118, Train Acc: 0.6616\n",
            "Epoch 8/26\n",
            " Classifier Train loss: 0.6407, AE Train loss: 44.2536, Train Acc: 0.6649\n",
            "Epoch 9/26\n",
            " Classifier Train loss: 0.6336, AE Train loss: 41.8908, Train Acc: 0.6767\n",
            "Epoch 10/26\n",
            " Classifier Train loss: 0.6303, AE Train loss: 39.6867, Train Acc: 0.6692\n",
            "Epoch 11/26\n",
            " Classifier Train loss: 0.6238, AE Train loss: 37.7445, Train Acc: 0.6778\n",
            "Epoch 12/26\n",
            " Classifier Train loss: 0.6198, AE Train loss: 35.9828, Train Acc: 0.6821\n",
            "Epoch 13/26\n",
            " Classifier Train loss: 0.6147, AE Train loss: 34.3705, Train Acc: 0.6800\n",
            "Epoch 14/26\n",
            " Classifier Train loss: 0.6101, AE Train loss: 32.8988, Train Acc: 0.6875\n",
            "Epoch 15/26\n",
            " Classifier Train loss: 0.6055, AE Train loss: 31.5303, Train Acc: 0.6907\n",
            "Epoch 16/26\n",
            " Classifier Train loss: 0.6009, AE Train loss: 30.3058, Train Acc: 0.6994\n",
            "Epoch 17/26\n",
            " Classifier Train loss: 0.5973, AE Train loss: 29.1148, Train Acc: 0.6940\n",
            "Epoch 18/26\n",
            " Classifier Train loss: 0.5944, AE Train loss: 28.0368, Train Acc: 0.7080\n",
            "Epoch 19/26\n",
            " Classifier Train loss: 0.5898, AE Train loss: 27.0290, Train Acc: 0.7166\n",
            "Epoch 20/26\n",
            " Classifier Train loss: 0.5864, AE Train loss: 26.0752, Train Acc: 0.7134\n",
            "Epoch 21/26\n",
            " Classifier Train loss: 0.5810, AE Train loss: 0.0000, Train Acc: 0.7209\n",
            "Epoch 22/26\n",
            " Classifier Train loss: 0.5811, AE Train loss: 0.0000, Train Acc: 0.7101\n",
            "Epoch 23/26\n",
            " Classifier Train loss: 0.5743, AE Train loss: 0.0000, Train Acc: 0.7263\n",
            "Epoch 24/26\n",
            " Classifier Train loss: 0.5725, AE Train loss: 0.0000, Train Acc: 0.7328\n",
            "Epoch 25/26\n",
            " Classifier Train loss: 0.5668, AE Train loss: 0.0000, Train Acc: 0.7381\n",
            "-----------------------------\n",
            "Fold 3/10\n",
            "{'accuracy': 0.7212, 'senstivity': 0.549, 'specificity': 0.8868, 'loss': 0.6138}\n",
            "-----------------------------\n"
          ],
          "name": "stdout"
        },
        {
          "output_type": "stream",
          "text": [
            "\u001b[34m\u001b[1mwandb\u001b[0m: \u001b[33mWARNING\u001b[0m Calling wandb.login() after wandb.init() has no effect.\n"
          ],
          "name": "stderr"
        },
        {
          "output_type": "display_data",
          "data": {
            "text/html": [
              "<br/>Waiting for W&B process to finish, PID 9843<br/>Program ended successfully."
            ],
            "text/plain": [
              "<IPython.core.display.HTML object>"
            ]
          },
          "metadata": {
            "tags": []
          }
        },
        {
          "output_type": "display_data",
          "data": {
            "application/vnd.jupyter.widget-view+json": {
              "model_id": "7e6cd27843fb460dbea75179be4d9fea",
              "version_minor": 0,
              "version_major": 2
            },
            "text/plain": [
              "VBox(children=(Label(value=' 0.00MB of 0.00MB uploaded (0.00MB deduped)\\r'), FloatProgress(value=1.0, max=1.0)…"
            ]
          },
          "metadata": {
            "tags": []
          }
        },
        {
          "output_type": "display_data",
          "data": {
            "text/html": [
              "Find user logs for this run at: <code>wandb/run-20201012_161620-dim---ho-fold-3-rp-1/logs/debug.log</code>"
            ],
            "text/plain": [
              "<IPython.core.display.HTML object>"
            ]
          },
          "metadata": {
            "tags": []
          }
        },
        {
          "output_type": "display_data",
          "data": {
            "text/html": [
              "Find internal logs for this run at: <code>wandb/run-20201012_161620-dim---ho-fold-3-rp-1/logs/debug-internal.log</code>"
            ],
            "text/plain": [
              "<IPython.core.display.HTML object>"
            ]
          },
          "metadata": {
            "tags": []
          }
        },
        {
          "output_type": "display_data",
          "data": {
            "text/html": [
              "<h3>Run summary:</h3><br/><style>\n",
              "    table.wandb td:nth-child(1) { padding: 0 10px; text-align: right }\n",
              "    </style><table class=\"wandb\">\n",
              "<tr><td>Classifier Train loss</td><td>0.56678</td></tr><tr><td>Train accuracy</td><td>0.73815</td></tr><tr><td>AE Train loss</td><td>0.0</td></tr><tr><td>_step</td><td>24</td></tr><tr><td>_runtime</td><td>14</td></tr><tr><td>_timestamp</td><td>1602519397</td></tr></table>"
            ],
            "text/plain": [
              "<IPython.core.display.HTML object>"
            ]
          },
          "metadata": {
            "tags": []
          }
        },
        {
          "output_type": "display_data",
          "data": {
            "text/html": [
              "<h3>Run history:</h3><br/><style>\n",
              "    table.wandb td:nth-child(1) { padding: 0 10px; text-align: right }\n",
              "    </style><table class=\"wandb\">\n",
              "<tr><td>Classifier Train loss</td><td>█▇▇▇▆▆▅▅▅▅▄▄▄▃▃▃▃▃▂▂▂▂▁▁▁</td></tr><tr><td>Train accuracy</td><td>▁▂▃▄▄▅▅▆▆▆▆▆▆▆▆▇▇▇▇▇▇▇███</td></tr><tr><td>AE Train loss</td><td>█▇▆▆▅▅▅▄▄▄▄▄▄▄▃▃▃▃▃▃▁▁▁▁▁</td></tr><tr><td>_step</td><td>▁▁▂▂▂▂▃▃▃▄▄▄▅▅▅▅▆▆▆▇▇▇▇██</td></tr><tr><td>_runtime</td><td>▁▁▂▂▂▃▃▃▃▄▄▅▅▅▅▆▆▆▆▇▇▇▇██</td></tr><tr><td>_timestamp</td><td>▁▁▂▂▂▃▃▃▃▄▄▅▅▅▅▆▆▆▆▇▇▇▇██</td></tr></table><br/>"
            ],
            "text/plain": [
              "<IPython.core.display.HTML object>"
            ]
          },
          "metadata": {
            "tags": []
          }
        },
        {
          "output_type": "display_data",
          "data": {
            "text/html": [
              "Synced 5 W&B file(s), 0 media file(s), 0 artifact file(s) and 0 other file(s)"
            ],
            "text/plain": [
              "<IPython.core.display.HTML object>"
            ]
          },
          "metadata": {
            "tags": []
          }
        },
        {
          "output_type": "display_data",
          "data": {
            "text/html": [
              "\n",
              "                    <br/>Synced <strong style=\"color:#cdcd00\">asd-diagnet-dim-ho---fold-3-rp-1</strong>: <a href=\"https://wandb.ai/pindi-krishna/asd2/runs/dim---ho-fold-3-rp-1\" target=\"_blank\">https://wandb.ai/pindi-krishna/asd2/runs/dim---ho-fold-3-rp-1</a><br/>\n",
              "                "
            ],
            "text/plain": [
              "<IPython.core.display.HTML object>"
            ]
          },
          "metadata": {
            "tags": []
          }
        },
        {
          "output_type": "display_data",
          "data": {
            "text/html": [
              "\n",
              "                Tracking run with wandb version 0.10.5<br/>\n",
              "                Syncing run <strong style=\"color:#cdcd00\">asd-diagnet-dim-ho---fold-4-rp-1</strong> to <a href=\"https://wandb.ai\" target=\"_blank\">Weights & Biases</a> <a href=\"https://docs.wandb.com/integrations/jupyter.html\" target=\"_blank\">(Documentation)</a>.<br/>\n",
              "                Project page: <a href=\"https://wandb.ai/pindi-krishna/asd2\" target=\"_blank\">https://wandb.ai/pindi-krishna/asd2</a><br/>\n",
              "                Run page: <a href=\"https://wandb.ai/pindi-krishna/asd2/runs/dim---ho-fold-4-rp-1\" target=\"_blank\">https://wandb.ai/pindi-krishna/asd2/runs/dim---ho-fold-4-rp-1</a><br/>\n",
              "                Run data is saved locally in <code>wandb/run-20201012_161637-dim---ho-fold-4-rp-1</code><br/><br/>\n",
              "            "
            ],
            "text/plain": [
              "<IPython.core.display.HTML object>"
            ]
          },
          "metadata": {
            "tags": []
          }
        },
        {
          "output_type": "stream",
          "text": [
            "Epoch 1/26\n",
            " Classifier Train loss: 0.6888, AE Train loss: 90.2143, Train Acc: 0.5345\n",
            "Epoch 2/26\n",
            " Classifier Train loss: 0.6770, AE Train loss: 71.1216, Train Acc: 0.5851\n",
            "Epoch 3/26\n",
            " Classifier Train loss: 0.6676, AE Train loss: 63.6924, Train Acc: 0.5959\n",
            "Epoch 4/26\n",
            " Classifier Train loss: 0.6608, AE Train loss: 58.1846, Train Acc: 0.6325\n",
            "Epoch 5/26\n",
            " Classifier Train loss: 0.6537, AE Train loss: 53.7330, Train Acc: 0.6390\n",
            "Epoch 6/26\n",
            " Classifier Train loss: 0.6462, AE Train loss: 50.1011, Train Acc: 0.6573\n",
            "Epoch 7/26\n",
            " Classifier Train loss: 0.6400, AE Train loss: 46.9874, Train Acc: 0.6552\n",
            "Epoch 8/26\n",
            " Classifier Train loss: 0.6344, AE Train loss: 44.2476, Train Acc: 0.6659\n",
            "Epoch 9/26\n",
            " Classifier Train loss: 0.6294, AE Train loss: 41.8646, Train Acc: 0.6703\n",
            "Epoch 10/26\n",
            " Classifier Train loss: 0.6235, AE Train loss: 39.6890, Train Acc: 0.6735\n",
            "Epoch 11/26\n",
            " Classifier Train loss: 0.6211, AE Train loss: 37.7762, Train Acc: 0.6800\n",
            "Epoch 12/26\n",
            " Classifier Train loss: 0.6150, AE Train loss: 35.9724, Train Acc: 0.6853\n",
            "Epoch 13/26\n",
            " Classifier Train loss: 0.6104, AE Train loss: 34.3904, Train Acc: 0.6929\n",
            "Epoch 14/26\n",
            " Classifier Train loss: 0.6060, AE Train loss: 32.9013, Train Acc: 0.6950\n",
            "Epoch 15/26\n",
            " Classifier Train loss: 0.6021, AE Train loss: 31.5400, Train Acc: 0.7080\n",
            "Epoch 16/26\n",
            " Classifier Train loss: 0.5972, AE Train loss: 30.3086, Train Acc: 0.6994\n",
            "Epoch 17/26\n",
            " Classifier Train loss: 0.5946, AE Train loss: 29.1300, Train Acc: 0.7091\n",
            "Epoch 18/26\n",
            " Classifier Train loss: 0.5903, AE Train loss: 28.0568, Train Acc: 0.7134\n",
            "Epoch 19/26\n",
            " Classifier Train loss: 0.5870, AE Train loss: 27.0289, Train Acc: 0.7166\n",
            "Epoch 20/26\n",
            " Classifier Train loss: 0.5834, AE Train loss: 26.0961, Train Acc: 0.7209\n",
            "Epoch 21/26\n",
            " Classifier Train loss: 0.5801, AE Train loss: 0.0000, Train Acc: 0.7392\n",
            "Epoch 22/26\n",
            " Classifier Train loss: 0.5763, AE Train loss: 0.0000, Train Acc: 0.7392\n",
            "Epoch 23/26\n",
            " Classifier Train loss: 0.5721, AE Train loss: 0.0000, Train Acc: 0.7328\n",
            "Epoch 24/26\n",
            " Classifier Train loss: 0.5683, AE Train loss: 0.0000, Train Acc: 0.7284\n",
            "Epoch 25/26\n",
            " Classifier Train loss: 0.5648, AE Train loss: 0.0000, Train Acc: 0.7500\n",
            "-----------------------------\n",
            "Fold 4/10\n",
            "{'accuracy': 0.5962, 'senstivity': 0.5686, 'specificity': 0.6226, 'loss': 0.6508}\n",
            "-----------------------------\n"
          ],
          "name": "stdout"
        },
        {
          "output_type": "stream",
          "text": [
            "\u001b[34m\u001b[1mwandb\u001b[0m: \u001b[33mWARNING\u001b[0m Calling wandb.login() after wandb.init() has no effect.\n"
          ],
          "name": "stderr"
        },
        {
          "output_type": "display_data",
          "data": {
            "text/html": [
              "<br/>Waiting for W&B process to finish, PID 9977<br/>Program ended successfully."
            ],
            "text/plain": [
              "<IPython.core.display.HTML object>"
            ]
          },
          "metadata": {
            "tags": []
          }
        },
        {
          "output_type": "display_data",
          "data": {
            "application/vnd.jupyter.widget-view+json": {
              "model_id": "35c8cd006bf345cd8ffc94b7c72684a2",
              "version_minor": 0,
              "version_major": 2
            },
            "text/plain": [
              "VBox(children=(Label(value=' 0.00MB of 0.00MB uploaded (0.00MB deduped)\\r'), FloatProgress(value=1.0, max=1.0)…"
            ]
          },
          "metadata": {
            "tags": []
          }
        },
        {
          "output_type": "display_data",
          "data": {
            "text/html": [
              "Find user logs for this run at: <code>wandb/run-20201012_161637-dim---ho-fold-4-rp-1/logs/debug.log</code>"
            ],
            "text/plain": [
              "<IPython.core.display.HTML object>"
            ]
          },
          "metadata": {
            "tags": []
          }
        },
        {
          "output_type": "display_data",
          "data": {
            "text/html": [
              "Find internal logs for this run at: <code>wandb/run-20201012_161637-dim---ho-fold-4-rp-1/logs/debug-internal.log</code>"
            ],
            "text/plain": [
              "<IPython.core.display.HTML object>"
            ]
          },
          "metadata": {
            "tags": []
          }
        },
        {
          "output_type": "display_data",
          "data": {
            "text/html": [
              "<h3>Run summary:</h3><br/><style>\n",
              "    table.wandb td:nth-child(1) { padding: 0 10px; text-align: right }\n",
              "    </style><table class=\"wandb\">\n",
              "<tr><td>Classifier Train loss</td><td>0.56483</td></tr><tr><td>Train accuracy</td><td>0.75</td></tr><tr><td>AE Train loss</td><td>0.0</td></tr><tr><td>_step</td><td>24</td></tr><tr><td>_runtime</td><td>14</td></tr><tr><td>_timestamp</td><td>1602519415</td></tr></table>"
            ],
            "text/plain": [
              "<IPython.core.display.HTML object>"
            ]
          },
          "metadata": {
            "tags": []
          }
        },
        {
          "output_type": "display_data",
          "data": {
            "text/html": [
              "<h3>Run history:</h3><br/><style>\n",
              "    table.wandb td:nth-child(1) { padding: 0 10px; text-align: right }\n",
              "    </style><table class=\"wandb\">\n",
              "<tr><td>Classifier Train loss</td><td>█▇▇▆▆▆▅▅▅▄▄▄▄▃▃▃▃▂▂▂▂▂▁▁▁</td></tr><tr><td>Train accuracy</td><td>▁▃▃▄▄▅▅▅▅▆▆▆▆▆▇▆▇▇▇▇██▇▇█</td></tr><tr><td>AE Train loss</td><td>█▇▆▆▅▅▅▄▄▄▄▄▄▄▃▃▃▃▃▃▁▁▁▁▁</td></tr><tr><td>_step</td><td>▁▁▂▂▂▂▃▃▃▄▄▄▅▅▅▅▆▆▆▇▇▇▇██</td></tr><tr><td>_runtime</td><td>▁▂▂▂▃▃▃▃▄▄▄▄▅▅▅▅▆▆▆▆▇▇▇▇█</td></tr><tr><td>_timestamp</td><td>▁▂▂▂▃▃▃▃▄▄▄▄▅▅▅▅▆▆▆▆▇▇▇▇█</td></tr></table><br/>"
            ],
            "text/plain": [
              "<IPython.core.display.HTML object>"
            ]
          },
          "metadata": {
            "tags": []
          }
        },
        {
          "output_type": "display_data",
          "data": {
            "text/html": [
              "Synced 5 W&B file(s), 0 media file(s), 0 artifact file(s) and 0 other file(s)"
            ],
            "text/plain": [
              "<IPython.core.display.HTML object>"
            ]
          },
          "metadata": {
            "tags": []
          }
        },
        {
          "output_type": "display_data",
          "data": {
            "text/html": [
              "\n",
              "                    <br/>Synced <strong style=\"color:#cdcd00\">asd-diagnet-dim-ho---fold-4-rp-1</strong>: <a href=\"https://wandb.ai/pindi-krishna/asd2/runs/dim---ho-fold-4-rp-1\" target=\"_blank\">https://wandb.ai/pindi-krishna/asd2/runs/dim---ho-fold-4-rp-1</a><br/>\n",
              "                "
            ],
            "text/plain": [
              "<IPython.core.display.HTML object>"
            ]
          },
          "metadata": {
            "tags": []
          }
        },
        {
          "output_type": "display_data",
          "data": {
            "text/html": [
              "\n",
              "                Tracking run with wandb version 0.10.5<br/>\n",
              "                Syncing run <strong style=\"color:#cdcd00\">asd-diagnet-dim-ho---fold-5-rp-1</strong> to <a href=\"https://wandb.ai\" target=\"_blank\">Weights & Biases</a> <a href=\"https://docs.wandb.com/integrations/jupyter.html\" target=\"_blank\">(Documentation)</a>.<br/>\n",
              "                Project page: <a href=\"https://wandb.ai/pindi-krishna/asd2\" target=\"_blank\">https://wandb.ai/pindi-krishna/asd2</a><br/>\n",
              "                Run page: <a href=\"https://wandb.ai/pindi-krishna/asd2/runs/dim---ho-fold-5-rp-1\" target=\"_blank\">https://wandb.ai/pindi-krishna/asd2/runs/dim---ho-fold-5-rp-1</a><br/>\n",
              "                Run data is saved locally in <code>wandb/run-20201012_161655-dim---ho-fold-5-rp-1</code><br/><br/>\n",
              "            "
            ],
            "text/plain": [
              "<IPython.core.display.HTML object>"
            ]
          },
          "metadata": {
            "tags": []
          }
        },
        {
          "output_type": "stream",
          "text": [
            "Epoch 1/26\n",
            " Classifier Train loss: 0.6893, AE Train loss: 91.1609, Train Acc: 0.5366\n",
            "Epoch 2/26\n",
            " Classifier Train loss: 0.6780, AE Train loss: 71.6254, Train Acc: 0.5754\n",
            "Epoch 3/26\n",
            " Classifier Train loss: 0.6703, AE Train loss: 64.0048, Train Acc: 0.6153\n",
            "Epoch 4/26\n",
            " Classifier Train loss: 0.6618, AE Train loss: 58.5331, Train Acc: 0.6282\n",
            "Epoch 5/26\n",
            " Classifier Train loss: 0.6533, AE Train loss: 54.0564, Train Acc: 0.6336\n",
            "Epoch 6/26\n",
            " Classifier Train loss: 0.6465, AE Train loss: 50.3305, Train Acc: 0.6498\n",
            "Epoch 7/26\n",
            " Classifier Train loss: 0.6394, AE Train loss: 47.1898, Train Acc: 0.6530\n",
            "Epoch 8/26\n",
            " Classifier Train loss: 0.6339, AE Train loss: 44.4413, Train Acc: 0.6638\n",
            "Epoch 9/26\n",
            " Classifier Train loss: 0.6288, AE Train loss: 41.9710, Train Acc: 0.6789\n",
            "Epoch 10/26\n",
            " Classifier Train loss: 0.6223, AE Train loss: 39.8365, Train Acc: 0.6800\n",
            "Epoch 11/26\n",
            " Classifier Train loss: 0.6188, AE Train loss: 37.8675, Train Acc: 0.6875\n",
            "Epoch 12/26\n",
            " Classifier Train loss: 0.6129, AE Train loss: 36.0961, Train Acc: 0.6897\n",
            "Epoch 13/26\n",
            " Classifier Train loss: 0.6086, AE Train loss: 34.4682, Train Acc: 0.6972\n",
            "Epoch 14/26\n",
            " Classifier Train loss: 0.6049, AE Train loss: 32.9902, Train Acc: 0.6940\n",
            "Epoch 15/26\n",
            " Classifier Train loss: 0.6011, AE Train loss: 31.6188, Train Acc: 0.7037\n",
            "Epoch 16/26\n",
            " Classifier Train loss: 0.5957, AE Train loss: 30.3635, Train Acc: 0.6950\n",
            "Epoch 17/26\n",
            " Classifier Train loss: 0.5928, AE Train loss: 29.1941, Train Acc: 0.7091\n",
            "Epoch 18/26\n",
            " Classifier Train loss: 0.5887, AE Train loss: 28.1021, Train Acc: 0.7058\n",
            "Epoch 19/26\n",
            " Classifier Train loss: 0.5852, AE Train loss: 27.0922, Train Acc: 0.7263\n",
            "Epoch 20/26\n",
            " Classifier Train loss: 0.5814, AE Train loss: 26.1420, Train Acc: 0.7241\n",
            "Epoch 21/26\n",
            " Classifier Train loss: 0.5778, AE Train loss: 0.0000, Train Acc: 0.7284\n",
            "Epoch 22/26\n",
            " Classifier Train loss: 0.5738, AE Train loss: 0.0000, Train Acc: 0.7328\n",
            "Epoch 23/26\n",
            " Classifier Train loss: 0.5701, AE Train loss: 0.0000, Train Acc: 0.7457\n",
            "Epoch 24/26\n",
            " Classifier Train loss: 0.5670, AE Train loss: 0.0000, Train Acc: 0.7381\n",
            "Epoch 25/26\n",
            " Classifier Train loss: 0.5629, AE Train loss: 0.0000, Train Acc: 0.7414\n",
            "-----------------------------\n",
            "Fold 5/10\n",
            "{'accuracy': 0.6442, 'senstivity': 0.6078, 'specificity': 0.6792, 'loss': 0.6362}\n",
            "-----------------------------\n"
          ],
          "name": "stdout"
        },
        {
          "output_type": "stream",
          "text": [
            "\u001b[34m\u001b[1mwandb\u001b[0m: \u001b[33mWARNING\u001b[0m Calling wandb.login() after wandb.init() has no effect.\n"
          ],
          "name": "stderr"
        },
        {
          "output_type": "display_data",
          "data": {
            "text/html": [
              "<br/>Waiting for W&B process to finish, PID 10111<br/>Program ended successfully."
            ],
            "text/plain": [
              "<IPython.core.display.HTML object>"
            ]
          },
          "metadata": {
            "tags": []
          }
        },
        {
          "output_type": "display_data",
          "data": {
            "application/vnd.jupyter.widget-view+json": {
              "model_id": "29cfb43c6d8b4a4c8200bf158a9630e4",
              "version_minor": 0,
              "version_major": 2
            },
            "text/plain": [
              "VBox(children=(Label(value=' 0.00MB of 0.00MB uploaded (0.00MB deduped)\\r'), FloatProgress(value=1.0, max=1.0)…"
            ]
          },
          "metadata": {
            "tags": []
          }
        },
        {
          "output_type": "display_data",
          "data": {
            "text/html": [
              "Find user logs for this run at: <code>wandb/run-20201012_161655-dim---ho-fold-5-rp-1/logs/debug.log</code>"
            ],
            "text/plain": [
              "<IPython.core.display.HTML object>"
            ]
          },
          "metadata": {
            "tags": []
          }
        },
        {
          "output_type": "display_data",
          "data": {
            "text/html": [
              "Find internal logs for this run at: <code>wandb/run-20201012_161655-dim---ho-fold-5-rp-1/logs/debug-internal.log</code>"
            ],
            "text/plain": [
              "<IPython.core.display.HTML object>"
            ]
          },
          "metadata": {
            "tags": []
          }
        },
        {
          "output_type": "display_data",
          "data": {
            "text/html": [
              "<h3>Run summary:</h3><br/><style>\n",
              "    table.wandb td:nth-child(1) { padding: 0 10px; text-align: right }\n",
              "    </style><table class=\"wandb\">\n",
              "<tr><td>Classifier Train loss</td><td>0.56293</td></tr><tr><td>Train accuracy</td><td>0.74138</td></tr><tr><td>AE Train loss</td><td>0.0</td></tr><tr><td>_step</td><td>24</td></tr><tr><td>_runtime</td><td>14</td></tr><tr><td>_timestamp</td><td>1602519432</td></tr></table>"
            ],
            "text/plain": [
              "<IPython.core.display.HTML object>"
            ]
          },
          "metadata": {
            "tags": []
          }
        },
        {
          "output_type": "display_data",
          "data": {
            "text/html": [
              "<h3>Run history:</h3><br/><style>\n",
              "    table.wandb td:nth-child(1) { padding: 0 10px; text-align: right }\n",
              "    </style><table class=\"wandb\">\n",
              "<tr><td>Classifier Train loss</td><td>█▇▇▆▆▆▅▅▅▄▄▄▄▃▃▃▃▂▂▂▂▂▁▁▁</td></tr><tr><td>Train accuracy</td><td>▁▂▄▄▄▅▅▅▆▆▆▆▆▆▇▆▇▇▇▇▇████</td></tr><tr><td>AE Train loss</td><td>█▆▆▅▅▅▅▄▄▄▄▄▄▄▃▃▃▃▃▃▁▁▁▁▁</td></tr><tr><td>_step</td><td>▁▁▂▂▂▂▃▃▃▄▄▄▅▅▅▅▆▆▆▇▇▇▇██</td></tr><tr><td>_runtime</td><td>▁▁▂▂▂▃▃▃▃▄▄▅▅▅▅▆▆▆▆▇▇▇▇██</td></tr><tr><td>_timestamp</td><td>▁▁▂▂▂▃▃▃▃▄▄▅▅▅▅▆▆▆▆▇▇▇▇██</td></tr></table><br/>"
            ],
            "text/plain": [
              "<IPython.core.display.HTML object>"
            ]
          },
          "metadata": {
            "tags": []
          }
        },
        {
          "output_type": "display_data",
          "data": {
            "text/html": [
              "Synced 5 W&B file(s), 0 media file(s), 0 artifact file(s) and 0 other file(s)"
            ],
            "text/plain": [
              "<IPython.core.display.HTML object>"
            ]
          },
          "metadata": {
            "tags": []
          }
        },
        {
          "output_type": "display_data",
          "data": {
            "text/html": [
              "\n",
              "                    <br/>Synced <strong style=\"color:#cdcd00\">asd-diagnet-dim-ho---fold-5-rp-1</strong>: <a href=\"https://wandb.ai/pindi-krishna/asd2/runs/dim---ho-fold-5-rp-1\" target=\"_blank\">https://wandb.ai/pindi-krishna/asd2/runs/dim---ho-fold-5-rp-1</a><br/>\n",
              "                "
            ],
            "text/plain": [
              "<IPython.core.display.HTML object>"
            ]
          },
          "metadata": {
            "tags": []
          }
        },
        {
          "output_type": "display_data",
          "data": {
            "text/html": [
              "\n",
              "                Tracking run with wandb version 0.10.5<br/>\n",
              "                Syncing run <strong style=\"color:#cdcd00\">asd-diagnet-dim-ho---fold-6-rp-1</strong> to <a href=\"https://wandb.ai\" target=\"_blank\">Weights & Biases</a> <a href=\"https://docs.wandb.com/integrations/jupyter.html\" target=\"_blank\">(Documentation)</a>.<br/>\n",
              "                Project page: <a href=\"https://wandb.ai/pindi-krishna/asd2\" target=\"_blank\">https://wandb.ai/pindi-krishna/asd2</a><br/>\n",
              "                Run page: <a href=\"https://wandb.ai/pindi-krishna/asd2/runs/dim---ho-fold-6-rp-1\" target=\"_blank\">https://wandb.ai/pindi-krishna/asd2/runs/dim---ho-fold-6-rp-1</a><br/>\n",
              "                Run data is saved locally in <code>wandb/run-20201012_161712-dim---ho-fold-6-rp-1</code><br/><br/>\n",
              "            "
            ],
            "text/plain": [
              "<IPython.core.display.HTML object>"
            ]
          },
          "metadata": {
            "tags": []
          }
        },
        {
          "output_type": "stream",
          "text": [
            "Epoch 1/26\n",
            " Classifier Train loss: 0.6904, AE Train loss: 90.8013, Train Acc: 0.5216\n",
            "Epoch 2/26\n",
            " Classifier Train loss: 0.6834, AE Train loss: 71.2985, Train Acc: 0.5948\n",
            "Epoch 3/26\n",
            " Classifier Train loss: 0.6768, AE Train loss: 63.8334, Train Acc: 0.5927\n",
            "Epoch 4/26\n",
            " Classifier Train loss: 0.6686, AE Train loss: 58.2429, Train Acc: 0.6099\n",
            "Epoch 5/26\n",
            " Classifier Train loss: 0.6611, AE Train loss: 53.8279, Train Acc: 0.6336\n",
            "Epoch 6/26\n",
            " Classifier Train loss: 0.6561, AE Train loss: 50.1548, Train Acc: 0.6390\n",
            "Epoch 7/26\n",
            " Classifier Train loss: 0.6478, AE Train loss: 47.0309, Train Acc: 0.6487\n",
            "Epoch 8/26\n",
            " Classifier Train loss: 0.6468, AE Train loss: 44.2903, Train Acc: 0.6412\n",
            "Epoch 9/26\n",
            " Classifier Train loss: 0.6387, AE Train loss: 41.8826, Train Acc: 0.6724\n",
            "Epoch 10/26\n",
            " Classifier Train loss: 0.6344, AE Train loss: 39.6920, Train Acc: 0.6530\n",
            "Epoch 11/26\n",
            " Classifier Train loss: 0.6298, AE Train loss: 37.7826, Train Acc: 0.6778\n",
            "Epoch 12/26\n",
            " Classifier Train loss: 0.6253, AE Train loss: 36.0205, Train Acc: 0.6853\n",
            "Epoch 13/26\n",
            " Classifier Train loss: 0.6201, AE Train loss: 34.4211, Train Acc: 0.6886\n",
            "Epoch 14/26\n",
            " Classifier Train loss: 0.6148, AE Train loss: 32.9256, Train Acc: 0.6983\n",
            "Epoch 15/26\n",
            " Classifier Train loss: 0.6107, AE Train loss: 31.5844, Train Acc: 0.6983\n",
            "Epoch 16/26\n",
            " Classifier Train loss: 0.6076, AE Train loss: 30.3277, Train Acc: 0.7015\n",
            "Epoch 17/26\n",
            " Classifier Train loss: 0.6027, AE Train loss: 29.1735, Train Acc: 0.7047\n",
            "Epoch 18/26\n",
            " Classifier Train loss: 0.5985, AE Train loss: 28.0789, Train Acc: 0.7047\n",
            "Epoch 19/26\n",
            " Classifier Train loss: 0.5964, AE Train loss: 27.0452, Train Acc: 0.7209\n",
            "Epoch 20/26\n",
            " Classifier Train loss: 0.5917, AE Train loss: 26.1159, Train Acc: 0.7252\n",
            "Epoch 21/26\n",
            " Classifier Train loss: 0.5904, AE Train loss: 0.0000, Train Acc: 0.7263\n",
            "Epoch 22/26\n",
            " Classifier Train loss: 0.5834, AE Train loss: 0.0000, Train Acc: 0.7328\n",
            "Epoch 23/26\n",
            " Classifier Train loss: 0.5800, AE Train loss: 0.0000, Train Acc: 0.7349\n",
            "Epoch 24/26\n",
            " Classifier Train loss: 0.5763, AE Train loss: 0.0000, Train Acc: 0.7338\n",
            "Epoch 25/26\n",
            " Classifier Train loss: 0.5731, AE Train loss: 0.0000, Train Acc: 0.7457\n",
            "-----------------------------\n",
            "Fold 6/10\n",
            "{'accuracy': 0.7087, 'senstivity': 0.6, 'specificity': 0.8113, 'loss': 0.5929}\n",
            "-----------------------------\n"
          ],
          "name": "stdout"
        },
        {
          "output_type": "stream",
          "text": [
            "\u001b[34m\u001b[1mwandb\u001b[0m: \u001b[33mWARNING\u001b[0m Calling wandb.login() after wandb.init() has no effect.\n"
          ],
          "name": "stderr"
        },
        {
          "output_type": "display_data",
          "data": {
            "text/html": [
              "<br/>Waiting for W&B process to finish, PID 10243<br/>Program ended successfully."
            ],
            "text/plain": [
              "<IPython.core.display.HTML object>"
            ]
          },
          "metadata": {
            "tags": []
          }
        },
        {
          "output_type": "display_data",
          "data": {
            "application/vnd.jupyter.widget-view+json": {
              "model_id": "6a25c6d2f2cb4220a4299c6c6470a5c6",
              "version_minor": 0,
              "version_major": 2
            },
            "text/plain": [
              "VBox(children=(Label(value=' 0.00MB of 0.00MB uploaded (0.00MB deduped)\\r'), FloatProgress(value=1.0, max=1.0)…"
            ]
          },
          "metadata": {
            "tags": []
          }
        },
        {
          "output_type": "display_data",
          "data": {
            "text/html": [
              "Find user logs for this run at: <code>wandb/run-20201012_161712-dim---ho-fold-6-rp-1/logs/debug.log</code>"
            ],
            "text/plain": [
              "<IPython.core.display.HTML object>"
            ]
          },
          "metadata": {
            "tags": []
          }
        },
        {
          "output_type": "display_data",
          "data": {
            "text/html": [
              "Find internal logs for this run at: <code>wandb/run-20201012_161712-dim---ho-fold-6-rp-1/logs/debug-internal.log</code>"
            ],
            "text/plain": [
              "<IPython.core.display.HTML object>"
            ]
          },
          "metadata": {
            "tags": []
          }
        },
        {
          "output_type": "display_data",
          "data": {
            "text/html": [
              "<h3>Run summary:</h3><br/><style>\n",
              "    table.wandb td:nth-child(1) { padding: 0 10px; text-align: right }\n",
              "    </style><table class=\"wandb\">\n",
              "<tr><td>Classifier Train loss</td><td>0.57308</td></tr><tr><td>Train accuracy</td><td>0.74569</td></tr><tr><td>AE Train loss</td><td>0.0</td></tr><tr><td>_step</td><td>24</td></tr><tr><td>_runtime</td><td>14</td></tr><tr><td>_timestamp</td><td>1602519450</td></tr></table>"
            ],
            "text/plain": [
              "<IPython.core.display.HTML object>"
            ]
          },
          "metadata": {
            "tags": []
          }
        },
        {
          "output_type": "display_data",
          "data": {
            "text/html": [
              "<h3>Run history:</h3><br/><style>\n",
              "    table.wandb td:nth-child(1) { padding: 0 10px; text-align: right }\n",
              "    </style><table class=\"wandb\">\n",
              "<tr><td>Classifier Train loss</td><td>██▇▇▆▆▅▅▅▅▄▄▄▃▃▃▃▃▂▂▂▂▁▁▁</td></tr><tr><td>Train accuracy</td><td>▁▃▃▄▅▅▅▅▆▅▆▆▆▇▇▇▇▇▇▇▇████</td></tr><tr><td>AE Train loss</td><td>█▆▆▅▅▅▅▄▄▄▄▄▄▄▃▃▃▃▃▃▁▁▁▁▁</td></tr><tr><td>_step</td><td>▁▁▂▂▂▂▃▃▃▄▄▄▅▅▅▅▆▆▆▇▇▇▇██</td></tr><tr><td>_runtime</td><td>▁▂▂▂▂▃▃▃▄▄▄▄▅▅▅▅▆▆▆▆▇▇▇▇█</td></tr><tr><td>_timestamp</td><td>▁▂▂▂▂▃▃▃▄▄▄▄▅▅▅▅▆▆▆▆▇▇▇▇█</td></tr></table><br/>"
            ],
            "text/plain": [
              "<IPython.core.display.HTML object>"
            ]
          },
          "metadata": {
            "tags": []
          }
        },
        {
          "output_type": "display_data",
          "data": {
            "text/html": [
              "Synced 5 W&B file(s), 0 media file(s), 0 artifact file(s) and 0 other file(s)"
            ],
            "text/plain": [
              "<IPython.core.display.HTML object>"
            ]
          },
          "metadata": {
            "tags": []
          }
        },
        {
          "output_type": "display_data",
          "data": {
            "text/html": [
              "\n",
              "                    <br/>Synced <strong style=\"color:#cdcd00\">asd-diagnet-dim-ho---fold-6-rp-1</strong>: <a href=\"https://wandb.ai/pindi-krishna/asd2/runs/dim---ho-fold-6-rp-1\" target=\"_blank\">https://wandb.ai/pindi-krishna/asd2/runs/dim---ho-fold-6-rp-1</a><br/>\n",
              "                "
            ],
            "text/plain": [
              "<IPython.core.display.HTML object>"
            ]
          },
          "metadata": {
            "tags": []
          }
        },
        {
          "output_type": "display_data",
          "data": {
            "text/html": [
              "\n",
              "                Tracking run with wandb version 0.10.5<br/>\n",
              "                Syncing run <strong style=\"color:#cdcd00\">asd-diagnet-dim-ho---fold-7-rp-1</strong> to <a href=\"https://wandb.ai\" target=\"_blank\">Weights & Biases</a> <a href=\"https://docs.wandb.com/integrations/jupyter.html\" target=\"_blank\">(Documentation)</a>.<br/>\n",
              "                Project page: <a href=\"https://wandb.ai/pindi-krishna/asd2\" target=\"_blank\">https://wandb.ai/pindi-krishna/asd2</a><br/>\n",
              "                Run page: <a href=\"https://wandb.ai/pindi-krishna/asd2/runs/dim---ho-fold-7-rp-1\" target=\"_blank\">https://wandb.ai/pindi-krishna/asd2/runs/dim---ho-fold-7-rp-1</a><br/>\n",
              "                Run data is saved locally in <code>wandb/run-20201012_161730-dim---ho-fold-7-rp-1</code><br/><br/>\n",
              "            "
            ],
            "text/plain": [
              "<IPython.core.display.HTML object>"
            ]
          },
          "metadata": {
            "tags": []
          }
        },
        {
          "output_type": "stream",
          "text": [
            "Epoch 1/26\n",
            " Classifier Train loss: 0.6971, AE Train loss: 90.7285, Train Acc: 0.4978\n",
            "Epoch 2/26\n",
            " Classifier Train loss: 0.6878, AE Train loss: 71.5527, Train Acc: 0.5463\n",
            "Epoch 3/26\n",
            " Classifier Train loss: 0.6789, AE Train loss: 64.0390, Train Acc: 0.5894\n",
            "Epoch 4/26\n",
            " Classifier Train loss: 0.6703, AE Train loss: 58.4626, Train Acc: 0.6013\n",
            "Epoch 5/26\n",
            " Classifier Train loss: 0.6641, AE Train loss: 53.9693, Train Acc: 0.6164\n",
            "Epoch 6/26\n",
            " Classifier Train loss: 0.6572, AE Train loss: 50.2931, Train Acc: 0.6315\n",
            "Epoch 7/26\n",
            " Classifier Train loss: 0.6499, AE Train loss: 47.1516, Train Acc: 0.6562\n",
            "Epoch 8/26\n",
            " Classifier Train loss: 0.6457, AE Train loss: 44.4208, Train Acc: 0.6390\n",
            "Epoch 9/26\n",
            " Classifier Train loss: 0.6386, AE Train loss: 41.9392, Train Acc: 0.6541\n",
            "Epoch 10/26\n",
            " Classifier Train loss: 0.6344, AE Train loss: 39.8027, Train Acc: 0.6778\n",
            "Epoch 11/26\n",
            " Classifier Train loss: 0.6297, AE Train loss: 37.8458, Train Acc: 0.6810\n",
            "Epoch 12/26\n",
            " Classifier Train loss: 0.6244, AE Train loss: 36.0790, Train Acc: 0.6864\n",
            "Epoch 13/26\n",
            " Classifier Train loss: 0.6200, AE Train loss: 34.4390, Train Acc: 0.6907\n",
            "Epoch 14/26\n",
            " Classifier Train loss: 0.6158, AE Train loss: 32.9944, Train Acc: 0.6929\n",
            "Epoch 15/26\n",
            " Classifier Train loss: 0.6129, AE Train loss: 31.6482, Train Acc: 0.6789\n",
            "Epoch 16/26\n",
            " Classifier Train loss: 0.6077, AE Train loss: 30.3530, Train Acc: 0.6994\n",
            "Epoch 17/26\n",
            " Classifier Train loss: 0.6036, AE Train loss: 29.2079, Train Acc: 0.6929\n",
            "Epoch 18/26\n",
            " Classifier Train loss: 0.6010, AE Train loss: 28.0986, Train Acc: 0.7058\n",
            "Epoch 19/26\n",
            " Classifier Train loss: 0.5968, AE Train loss: 27.1032, Train Acc: 0.6994\n",
            "Epoch 20/26\n",
            " Classifier Train loss: 0.5922, AE Train loss: 26.1483, Train Acc: 0.7080\n",
            "Epoch 21/26\n",
            " Classifier Train loss: 0.5879, AE Train loss: 0.0000, Train Acc: 0.7220\n",
            "Epoch 22/26\n",
            " Classifier Train loss: 0.5867, AE Train loss: 0.0000, Train Acc: 0.7177\n",
            "Epoch 23/26\n",
            " Classifier Train loss: 0.5825, AE Train loss: 0.0000, Train Acc: 0.7209\n",
            "Epoch 24/26\n",
            " Classifier Train loss: 0.5778, AE Train loss: 0.0000, Train Acc: 0.7198\n",
            "Epoch 25/26\n",
            " Classifier Train loss: 0.5725, AE Train loss: 0.0000, Train Acc: 0.7360\n",
            "-----------------------------\n",
            "Fold 7/10\n",
            "{'accuracy': 0.767, 'senstivity': 0.62, 'specificity': 0.9057, 'loss': 0.5745}\n",
            "-----------------------------\n"
          ],
          "name": "stdout"
        },
        {
          "output_type": "stream",
          "text": [
            "\u001b[34m\u001b[1mwandb\u001b[0m: \u001b[33mWARNING\u001b[0m Calling wandb.login() after wandb.init() has no effect.\n"
          ],
          "name": "stderr"
        },
        {
          "output_type": "display_data",
          "data": {
            "text/html": [
              "<br/>Waiting for W&B process to finish, PID 10375<br/>Program ended successfully."
            ],
            "text/plain": [
              "<IPython.core.display.HTML object>"
            ]
          },
          "metadata": {
            "tags": []
          }
        },
        {
          "output_type": "display_data",
          "data": {
            "application/vnd.jupyter.widget-view+json": {
              "model_id": "fbfa23f4e9874fea95c5851538e57435",
              "version_minor": 0,
              "version_major": 2
            },
            "text/plain": [
              "VBox(children=(Label(value=' 0.00MB of 0.00MB uploaded (0.00MB deduped)\\r'), FloatProgress(value=1.0, max=1.0)…"
            ]
          },
          "metadata": {
            "tags": []
          }
        },
        {
          "output_type": "display_data",
          "data": {
            "text/html": [
              "Find user logs for this run at: <code>wandb/run-20201012_161730-dim---ho-fold-7-rp-1/logs/debug.log</code>"
            ],
            "text/plain": [
              "<IPython.core.display.HTML object>"
            ]
          },
          "metadata": {
            "tags": []
          }
        },
        {
          "output_type": "display_data",
          "data": {
            "text/html": [
              "Find internal logs for this run at: <code>wandb/run-20201012_161730-dim---ho-fold-7-rp-1/logs/debug-internal.log</code>"
            ],
            "text/plain": [
              "<IPython.core.display.HTML object>"
            ]
          },
          "metadata": {
            "tags": []
          }
        },
        {
          "output_type": "display_data",
          "data": {
            "text/html": [
              "<h3>Run summary:</h3><br/><style>\n",
              "    table.wandb td:nth-child(1) { padding: 0 10px; text-align: right }\n",
              "    </style><table class=\"wandb\">\n",
              "<tr><td>Classifier Train loss</td><td>0.57252</td></tr><tr><td>Train accuracy</td><td>0.73599</td></tr><tr><td>AE Train loss</td><td>0.0</td></tr><tr><td>_step</td><td>24</td></tr><tr><td>_runtime</td><td>14</td></tr><tr><td>_timestamp</td><td>1602519467</td></tr></table>"
            ],
            "text/plain": [
              "<IPython.core.display.HTML object>"
            ]
          },
          "metadata": {
            "tags": []
          }
        },
        {
          "output_type": "display_data",
          "data": {
            "text/html": [
              "<h3>Run history:</h3><br/><style>\n",
              "    table.wandb td:nth-child(1) { padding: 0 10px; text-align: right }\n",
              "    </style><table class=\"wandb\">\n",
              "<tr><td>Classifier Train loss</td><td>█▇▇▆▆▆▅▅▅▄▄▄▄▃▃▃▃▃▂▂▂▂▂▁▁</td></tr><tr><td>Train accuracy</td><td>▁▂▄▄▄▅▆▅▆▆▆▇▇▇▆▇▇▇▇▇█▇███</td></tr><tr><td>AE Train loss</td><td>█▇▆▆▅▅▅▄▄▄▄▄▄▄▃▃▃▃▃▃▁▁▁▁▁</td></tr><tr><td>_step</td><td>▁▁▂▂▂▂▃▃▃▄▄▄▅▅▅▅▆▆▆▇▇▇▇██</td></tr><tr><td>_runtime</td><td>▁▁▂▂▂▃▃▃▃▄▄▅▅▅▅▆▆▆▆▇▇▇▇██</td></tr><tr><td>_timestamp</td><td>▁▁▂▂▂▃▃▃▃▄▄▅▅▅▅▆▆▆▆▇▇▇▇██</td></tr></table><br/>"
            ],
            "text/plain": [
              "<IPython.core.display.HTML object>"
            ]
          },
          "metadata": {
            "tags": []
          }
        },
        {
          "output_type": "display_data",
          "data": {
            "text/html": [
              "Synced 5 W&B file(s), 0 media file(s), 0 artifact file(s) and 0 other file(s)"
            ],
            "text/plain": [
              "<IPython.core.display.HTML object>"
            ]
          },
          "metadata": {
            "tags": []
          }
        },
        {
          "output_type": "display_data",
          "data": {
            "text/html": [
              "\n",
              "                    <br/>Synced <strong style=\"color:#cdcd00\">asd-diagnet-dim-ho---fold-7-rp-1</strong>: <a href=\"https://wandb.ai/pindi-krishna/asd2/runs/dim---ho-fold-7-rp-1\" target=\"_blank\">https://wandb.ai/pindi-krishna/asd2/runs/dim---ho-fold-7-rp-1</a><br/>\n",
              "                "
            ],
            "text/plain": [
              "<IPython.core.display.HTML object>"
            ]
          },
          "metadata": {
            "tags": []
          }
        },
        {
          "output_type": "display_data",
          "data": {
            "text/html": [
              "\n",
              "                Tracking run with wandb version 0.10.5<br/>\n",
              "                Syncing run <strong style=\"color:#cdcd00\">asd-diagnet-dim-ho---fold-8-rp-1</strong> to <a href=\"https://wandb.ai\" target=\"_blank\">Weights & Biases</a> <a href=\"https://docs.wandb.com/integrations/jupyter.html\" target=\"_blank\">(Documentation)</a>.<br/>\n",
              "                Project page: <a href=\"https://wandb.ai/pindi-krishna/asd2\" target=\"_blank\">https://wandb.ai/pindi-krishna/asd2</a><br/>\n",
              "                Run page: <a href=\"https://wandb.ai/pindi-krishna/asd2/runs/dim---ho-fold-8-rp-1\" target=\"_blank\">https://wandb.ai/pindi-krishna/asd2/runs/dim---ho-fold-8-rp-1</a><br/>\n",
              "                Run data is saved locally in <code>wandb/run-20201012_161748-dim---ho-fold-8-rp-1</code><br/><br/>\n",
              "            "
            ],
            "text/plain": [
              "<IPython.core.display.HTML object>"
            ]
          },
          "metadata": {
            "tags": []
          }
        },
        {
          "output_type": "stream",
          "text": [
            "Epoch 1/26\n",
            " Classifier Train loss: 0.6960, AE Train loss: 91.1824, Train Acc: 0.4871\n",
            "Epoch 2/26\n",
            " Classifier Train loss: 0.6874, AE Train loss: 71.4093, Train Acc: 0.5528\n",
            "Epoch 3/26\n",
            " Classifier Train loss: 0.6791, AE Train loss: 63.8530, Train Acc: 0.5787\n",
            "Epoch 4/26\n",
            " Classifier Train loss: 0.6721, AE Train loss: 58.3357, Train Acc: 0.5916\n",
            "Epoch 5/26\n",
            " Classifier Train loss: 0.6642, AE Train loss: 53.9411, Train Acc: 0.6164\n",
            "Epoch 6/26\n",
            " Classifier Train loss: 0.6584, AE Train loss: 50.2675, Train Acc: 0.6196\n",
            "Epoch 7/26\n",
            " Classifier Train loss: 0.6517, AE Train loss: 47.1862, Train Acc: 0.6369\n",
            "Epoch 8/26\n",
            " Classifier Train loss: 0.6465, AE Train loss: 44.4272, Train Acc: 0.6509\n",
            "Epoch 9/26\n",
            " Classifier Train loss: 0.6422, AE Train loss: 42.0186, Train Acc: 0.6606\n",
            "Epoch 10/26\n",
            " Classifier Train loss: 0.6340, AE Train loss: 39.8448, Train Acc: 0.6670\n",
            "Epoch 11/26\n",
            " Classifier Train loss: 0.6299, AE Train loss: 37.8764, Train Acc: 0.6692\n",
            "Epoch 12/26\n",
            " Classifier Train loss: 0.6243, AE Train loss: 36.1329, Train Acc: 0.6692\n",
            "Epoch 13/26\n",
            " Classifier Train loss: 0.6201, AE Train loss: 34.5158, Train Acc: 0.6853\n",
            "Epoch 14/26\n",
            " Classifier Train loss: 0.6149, AE Train loss: 33.0383, Train Acc: 0.6940\n",
            "Epoch 15/26\n",
            " Classifier Train loss: 0.6100, AE Train loss: 31.6680, Train Acc: 0.7047\n",
            "Epoch 16/26\n",
            " Classifier Train loss: 0.6055, AE Train loss: 30.3835, Train Acc: 0.7058\n",
            "Epoch 17/26\n",
            " Classifier Train loss: 0.6029, AE Train loss: 29.2080, Train Acc: 0.7047\n",
            "Epoch 18/26\n",
            " Classifier Train loss: 0.5983, AE Train loss: 28.1406, Train Acc: 0.7188\n",
            "Epoch 19/26\n",
            " Classifier Train loss: 0.5948, AE Train loss: 27.1304, Train Acc: 0.7166\n",
            "Epoch 20/26\n",
            " Classifier Train loss: 0.5901, AE Train loss: 26.1835, Train Acc: 0.7284\n",
            "Epoch 21/26\n",
            " Classifier Train loss: 0.5862, AE Train loss: 0.0000, Train Acc: 0.7338\n",
            "Epoch 22/26\n",
            " Classifier Train loss: 0.5824, AE Train loss: 0.0000, Train Acc: 0.7263\n",
            "Epoch 23/26\n",
            " Classifier Train loss: 0.5797, AE Train loss: 0.0000, Train Acc: 0.7317\n",
            "Epoch 24/26\n",
            " Classifier Train loss: 0.5756, AE Train loss: 0.0000, Train Acc: 0.7231\n",
            "Epoch 25/26\n",
            " Classifier Train loss: 0.5705, AE Train loss: 0.0000, Train Acc: 0.7414\n",
            "-----------------------------\n",
            "Fold 8/10\n",
            "{'accuracy': 0.6408, 'senstivity': 0.56, 'specificity': 0.717, 'loss': 0.6073}\n",
            "-----------------------------\n"
          ],
          "name": "stdout"
        },
        {
          "output_type": "stream",
          "text": [
            "\u001b[34m\u001b[1mwandb\u001b[0m: \u001b[33mWARNING\u001b[0m Calling wandb.login() after wandb.init() has no effect.\n"
          ],
          "name": "stderr"
        },
        {
          "output_type": "display_data",
          "data": {
            "text/html": [
              "<br/>Waiting for W&B process to finish, PID 10509<br/>Program ended successfully."
            ],
            "text/plain": [
              "<IPython.core.display.HTML object>"
            ]
          },
          "metadata": {
            "tags": []
          }
        },
        {
          "output_type": "display_data",
          "data": {
            "application/vnd.jupyter.widget-view+json": {
              "model_id": "4eab16fa5aff4eeeac19ae516e314384",
              "version_minor": 0,
              "version_major": 2
            },
            "text/plain": [
              "VBox(children=(Label(value=' 0.00MB of 0.00MB uploaded (0.00MB deduped)\\r'), FloatProgress(value=1.0, max=1.0)…"
            ]
          },
          "metadata": {
            "tags": []
          }
        },
        {
          "output_type": "display_data",
          "data": {
            "text/html": [
              "Find user logs for this run at: <code>wandb/run-20201012_161748-dim---ho-fold-8-rp-1/logs/debug.log</code>"
            ],
            "text/plain": [
              "<IPython.core.display.HTML object>"
            ]
          },
          "metadata": {
            "tags": []
          }
        },
        {
          "output_type": "display_data",
          "data": {
            "text/html": [
              "Find internal logs for this run at: <code>wandb/run-20201012_161748-dim---ho-fold-8-rp-1/logs/debug-internal.log</code>"
            ],
            "text/plain": [
              "<IPython.core.display.HTML object>"
            ]
          },
          "metadata": {
            "tags": []
          }
        },
        {
          "output_type": "display_data",
          "data": {
            "text/html": [
              "<h3>Run summary:</h3><br/><style>\n",
              "    table.wandb td:nth-child(1) { padding: 0 10px; text-align: right }\n",
              "    </style><table class=\"wandb\">\n",
              "<tr><td>Classifier Train loss</td><td>0.57055</td></tr><tr><td>Train accuracy</td><td>0.74138</td></tr><tr><td>AE Train loss</td><td>0.0</td></tr><tr><td>_step</td><td>24</td></tr><tr><td>_runtime</td><td>14</td></tr><tr><td>_timestamp</td><td>1602519485</td></tr></table>"
            ],
            "text/plain": [
              "<IPython.core.display.HTML object>"
            ]
          },
          "metadata": {
            "tags": []
          }
        },
        {
          "output_type": "display_data",
          "data": {
            "text/html": [
              "<h3>Run history:</h3><br/><style>\n",
              "    table.wandb td:nth-child(1) { padding: 0 10px; text-align: right }\n",
              "    </style><table class=\"wandb\">\n",
              "<tr><td>Classifier Train loss</td><td>██▇▇▆▆▆▅▅▅▄▄▄▃▃▃▃▃▂▂▂▂▂▁▁</td></tr><tr><td>Train accuracy</td><td>▁▃▄▄▅▅▅▆▆▆▆▆▆▇▇▇▇▇▇████▇█</td></tr><tr><td>AE Train loss</td><td>█▆▆▅▅▅▅▄▄▄▄▄▄▄▃▃▃▃▃▃▁▁▁▁▁</td></tr><tr><td>_step</td><td>▁▁▂▂▂▂▃▃▃▄▄▄▅▅▅▅▆▆▆▇▇▇▇██</td></tr><tr><td>_runtime</td><td>▁▁▂▂▂▂▃▃▃▃▄▄▅▅▅▆▆▆▆▇▇▇▇██</td></tr><tr><td>_timestamp</td><td>▁▁▂▂▂▂▃▃▃▃▄▄▅▅▅▆▆▆▆▇▇▇▇██</td></tr></table><br/>"
            ],
            "text/plain": [
              "<IPython.core.display.HTML object>"
            ]
          },
          "metadata": {
            "tags": []
          }
        },
        {
          "output_type": "display_data",
          "data": {
            "text/html": [
              "Synced 5 W&B file(s), 0 media file(s), 0 artifact file(s) and 0 other file(s)"
            ],
            "text/plain": [
              "<IPython.core.display.HTML object>"
            ]
          },
          "metadata": {
            "tags": []
          }
        },
        {
          "output_type": "display_data",
          "data": {
            "text/html": [
              "\n",
              "                    <br/>Synced <strong style=\"color:#cdcd00\">asd-diagnet-dim-ho---fold-8-rp-1</strong>: <a href=\"https://wandb.ai/pindi-krishna/asd2/runs/dim---ho-fold-8-rp-1\" target=\"_blank\">https://wandb.ai/pindi-krishna/asd2/runs/dim---ho-fold-8-rp-1</a><br/>\n",
              "                "
            ],
            "text/plain": [
              "<IPython.core.display.HTML object>"
            ]
          },
          "metadata": {
            "tags": []
          }
        },
        {
          "output_type": "display_data",
          "data": {
            "text/html": [
              "\n",
              "                Tracking run with wandb version 0.10.5<br/>\n",
              "                Syncing run <strong style=\"color:#cdcd00\">asd-diagnet-dim-ho---fold-9-rp-1</strong> to <a href=\"https://wandb.ai\" target=\"_blank\">Weights & Biases</a> <a href=\"https://docs.wandb.com/integrations/jupyter.html\" target=\"_blank\">(Documentation)</a>.<br/>\n",
              "                Project page: <a href=\"https://wandb.ai/pindi-krishna/asd2\" target=\"_blank\">https://wandb.ai/pindi-krishna/asd2</a><br/>\n",
              "                Run page: <a href=\"https://wandb.ai/pindi-krishna/asd2/runs/dim---ho-fold-9-rp-1\" target=\"_blank\">https://wandb.ai/pindi-krishna/asd2/runs/dim---ho-fold-9-rp-1</a><br/>\n",
              "                Run data is saved locally in <code>wandb/run-20201012_161805-dim---ho-fold-9-rp-1</code><br/><br/>\n",
              "            "
            ],
            "text/plain": [
              "<IPython.core.display.HTML object>"
            ]
          },
          "metadata": {
            "tags": []
          }
        },
        {
          "output_type": "stream",
          "text": [
            "Epoch 1/26\n",
            " Classifier Train loss: 0.6879, AE Train loss: 90.8611, Train Acc: 0.5485\n",
            "Epoch 2/26\n",
            " Classifier Train loss: 0.6793, AE Train loss: 71.2341, Train Acc: 0.5690\n",
            "Epoch 3/26\n",
            " Classifier Train loss: 0.6726, AE Train loss: 63.7424, Train Acc: 0.6024\n",
            "Epoch 4/26\n",
            " Classifier Train loss: 0.6647, AE Train loss: 58.2457, Train Acc: 0.6239\n",
            "Epoch 5/26\n",
            " Classifier Train loss: 0.6590, AE Train loss: 53.8421, Train Acc: 0.6218\n",
            "Epoch 6/26\n",
            " Classifier Train loss: 0.6513, AE Train loss: 50.1292, Train Acc: 0.6358\n",
            "Epoch 7/26\n",
            " Classifier Train loss: 0.6448, AE Train loss: 47.0298, Train Acc: 0.6670\n",
            "Epoch 8/26\n",
            " Classifier Train loss: 0.6388, AE Train loss: 44.3002, Train Acc: 0.6584\n",
            "Epoch 9/26\n",
            " Classifier Train loss: 0.6335, AE Train loss: 41.8586, Train Acc: 0.6832\n",
            "Epoch 10/26\n",
            " Classifier Train loss: 0.6285, AE Train loss: 39.6658, Train Acc: 0.6918\n",
            "Epoch 11/26\n",
            " Classifier Train loss: 0.6232, AE Train loss: 37.7318, Train Acc: 0.6983\n",
            "Epoch 12/26\n",
            " Classifier Train loss: 0.6187, AE Train loss: 36.0133, Train Acc: 0.6886\n",
            "Epoch 13/26\n",
            " Classifier Train loss: 0.6134, AE Train loss: 34.4017, Train Acc: 0.7037\n",
            "Epoch 14/26\n",
            " Classifier Train loss: 0.6098, AE Train loss: 32.9448, Train Acc: 0.7091\n",
            "Epoch 15/26\n",
            " Classifier Train loss: 0.6054, AE Train loss: 31.5519, Train Acc: 0.7112\n",
            "Epoch 16/26\n",
            " Classifier Train loss: 0.6000, AE Train loss: 30.3169, Train Acc: 0.7134\n",
            "Epoch 17/26\n",
            " Classifier Train loss: 0.5970, AE Train loss: 29.1763, Train Acc: 0.7134\n",
            "Epoch 18/26\n",
            " Classifier Train loss: 0.5923, AE Train loss: 28.0789, Train Acc: 0.7188\n",
            "Epoch 19/26\n",
            " Classifier Train loss: 0.5883, AE Train loss: 27.0672, Train Acc: 0.7220\n",
            "Epoch 20/26\n",
            " Classifier Train loss: 0.5840, AE Train loss: 26.1161, Train Acc: 0.7241\n",
            "Epoch 21/26\n",
            " Classifier Train loss: 0.5810, AE Train loss: 0.0000, Train Acc: 0.7231\n",
            "Epoch 22/26\n",
            " Classifier Train loss: 0.5776, AE Train loss: 0.0000, Train Acc: 0.7220\n",
            "Epoch 23/26\n",
            " Classifier Train loss: 0.5731, AE Train loss: 0.0000, Train Acc: 0.7284\n",
            "Epoch 24/26\n",
            " Classifier Train loss: 0.5687, AE Train loss: 0.0000, Train Acc: 0.7392\n",
            "Epoch 25/26\n",
            " Classifier Train loss: 0.5660, AE Train loss: 0.0000, Train Acc: 0.7371\n",
            "-----------------------------\n",
            "Fold 9/10\n",
            "{'accuracy': 0.6408, 'senstivity': 0.5, 'specificity': 0.7736, 'loss': 0.6342}\n",
            "-----------------------------\n"
          ],
          "name": "stdout"
        },
        {
          "output_type": "stream",
          "text": [
            "\u001b[34m\u001b[1mwandb\u001b[0m: \u001b[33mWARNING\u001b[0m Calling wandb.login() after wandb.init() has no effect.\n"
          ],
          "name": "stderr"
        },
        {
          "output_type": "display_data",
          "data": {
            "text/html": [
              "<br/>Waiting for W&B process to finish, PID 10643<br/>Program ended successfully."
            ],
            "text/plain": [
              "<IPython.core.display.HTML object>"
            ]
          },
          "metadata": {
            "tags": []
          }
        },
        {
          "output_type": "display_data",
          "data": {
            "application/vnd.jupyter.widget-view+json": {
              "model_id": "61b257911bc448b7bf169da849bb5b9b",
              "version_minor": 0,
              "version_major": 2
            },
            "text/plain": [
              "VBox(children=(Label(value=' 0.00MB of 0.00MB uploaded (0.00MB deduped)\\r'), FloatProgress(value=1.0, max=1.0)…"
            ]
          },
          "metadata": {
            "tags": []
          }
        },
        {
          "output_type": "display_data",
          "data": {
            "text/html": [
              "Find user logs for this run at: <code>wandb/run-20201012_161805-dim---ho-fold-9-rp-1/logs/debug.log</code>"
            ],
            "text/plain": [
              "<IPython.core.display.HTML object>"
            ]
          },
          "metadata": {
            "tags": []
          }
        },
        {
          "output_type": "display_data",
          "data": {
            "text/html": [
              "Find internal logs for this run at: <code>wandb/run-20201012_161805-dim---ho-fold-9-rp-1/logs/debug-internal.log</code>"
            ],
            "text/plain": [
              "<IPython.core.display.HTML object>"
            ]
          },
          "metadata": {
            "tags": []
          }
        },
        {
          "output_type": "display_data",
          "data": {
            "text/html": [
              "<h3>Run summary:</h3><br/><style>\n",
              "    table.wandb td:nth-child(1) { padding: 0 10px; text-align: right }\n",
              "    </style><table class=\"wandb\">\n",
              "<tr><td>Classifier Train loss</td><td>0.56599</td></tr><tr><td>Train accuracy</td><td>0.73707</td></tr><tr><td>AE Train loss</td><td>0.0</td></tr><tr><td>_step</td><td>24</td></tr><tr><td>_runtime</td><td>14</td></tr><tr><td>_timestamp</td><td>1602519503</td></tr></table>"
            ],
            "text/plain": [
              "<IPython.core.display.HTML object>"
            ]
          },
          "metadata": {
            "tags": []
          }
        },
        {
          "output_type": "display_data",
          "data": {
            "text/html": [
              "<h3>Run history:</h3><br/><style>\n",
              "    table.wandb td:nth-child(1) { padding: 0 10px; text-align: right }\n",
              "    </style><table class=\"wandb\">\n",
              "<tr><td>Classifier Train loss</td><td>██▇▇▆▆▆▅▅▅▄▄▄▄▃▃▃▃▂▂▂▂▁▁▁</td></tr><tr><td>Train accuracy</td><td>▁▂▃▄▄▄▅▅▆▆▆▆▇▇▇▇▇▇▇▇▇▇███</td></tr><tr><td>AE Train loss</td><td>█▆▆▅▅▅▅▄▄▄▄▄▄▄▃▃▃▃▃▃▁▁▁▁▁</td></tr><tr><td>_step</td><td>▁▁▂▂▂▂▃▃▃▄▄▄▅▅▅▅▆▆▆▇▇▇▇██</td></tr><tr><td>_runtime</td><td>▁▂▂▂▃▃▃▃▄▄▄▄▅▅▅▅▆▆▆▆▇▇▇▇█</td></tr><tr><td>_timestamp</td><td>▁▂▂▂▃▃▃▃▄▄▄▄▅▅▅▅▆▆▆▆▇▇▇▇█</td></tr></table><br/>"
            ],
            "text/plain": [
              "<IPython.core.display.HTML object>"
            ]
          },
          "metadata": {
            "tags": []
          }
        },
        {
          "output_type": "display_data",
          "data": {
            "text/html": [
              "Synced 5 W&B file(s), 0 media file(s), 0 artifact file(s) and 0 other file(s)"
            ],
            "text/plain": [
              "<IPython.core.display.HTML object>"
            ]
          },
          "metadata": {
            "tags": []
          }
        },
        {
          "output_type": "display_data",
          "data": {
            "text/html": [
              "\n",
              "                    <br/>Synced <strong style=\"color:#cdcd00\">asd-diagnet-dim-ho---fold-9-rp-1</strong>: <a href=\"https://wandb.ai/pindi-krishna/asd2/runs/dim---ho-fold-9-rp-1\" target=\"_blank\">https://wandb.ai/pindi-krishna/asd2/runs/dim---ho-fold-9-rp-1</a><br/>\n",
              "                "
            ],
            "text/plain": [
              "<IPython.core.display.HTML object>"
            ]
          },
          "metadata": {
            "tags": []
          }
        },
        {
          "output_type": "display_data",
          "data": {
            "text/html": [
              "\n",
              "                Tracking run with wandb version 0.10.5<br/>\n",
              "                Syncing run <strong style=\"color:#cdcd00\">asd-diagnet-dim-ho---fold-10-rp-1</strong> to <a href=\"https://wandb.ai\" target=\"_blank\">Weights & Biases</a> <a href=\"https://docs.wandb.com/integrations/jupyter.html\" target=\"_blank\">(Documentation)</a>.<br/>\n",
              "                Project page: <a href=\"https://wandb.ai/pindi-krishna/asd2\" target=\"_blank\">https://wandb.ai/pindi-krishna/asd2</a><br/>\n",
              "                Run page: <a href=\"https://wandb.ai/pindi-krishna/asd2/runs/dim---ho-fold-10-rp-1\" target=\"_blank\">https://wandb.ai/pindi-krishna/asd2/runs/dim---ho-fold-10-rp-1</a><br/>\n",
              "                Run data is saved locally in <code>wandb/run-20201012_161823-dim---ho-fold-10-rp-1</code><br/><br/>\n",
              "            "
            ],
            "text/plain": [
              "<IPython.core.display.HTML object>"
            ]
          },
          "metadata": {
            "tags": []
          }
        },
        {
          "output_type": "stream",
          "text": [
            "Epoch 1/26\n",
            " Classifier Train loss: 0.6882, AE Train loss: 90.5103, Train Acc: 0.5420\n",
            "Epoch 2/26\n",
            " Classifier Train loss: 0.6799, AE Train loss: 71.0814, Train Acc: 0.5776\n",
            "Epoch 3/26\n",
            " Classifier Train loss: 0.6708, AE Train loss: 63.7923, Train Acc: 0.6088\n",
            "Epoch 4/26\n",
            " Classifier Train loss: 0.6623, AE Train loss: 58.1603, Train Acc: 0.6444\n",
            "Epoch 5/26\n",
            " Classifier Train loss: 0.6547, AE Train loss: 53.7033, Train Acc: 0.6347\n",
            "Epoch 6/26\n",
            " Classifier Train loss: 0.6490, AE Train loss: 50.1187, Train Acc: 0.6713\n",
            "Epoch 7/26\n",
            " Classifier Train loss: 0.6432, AE Train loss: 46.9695, Train Acc: 0.6638\n",
            "Epoch 8/26\n",
            " Classifier Train loss: 0.6365, AE Train loss: 44.2319, Train Acc: 0.6800\n",
            "Epoch 9/26\n",
            " Classifier Train loss: 0.6316, AE Train loss: 41.8568, Train Acc: 0.6713\n",
            "Epoch 10/26\n",
            " Classifier Train loss: 0.6277, AE Train loss: 39.6460, Train Acc: 0.6821\n",
            "Epoch 11/26\n",
            " Classifier Train loss: 0.6233, AE Train loss: 37.7467, Train Acc: 0.6821\n",
            "Epoch 12/26\n",
            " Classifier Train loss: 0.6174, AE Train loss: 35.9844, Train Acc: 0.7004\n",
            "Epoch 13/26\n",
            " Classifier Train loss: 0.6136, AE Train loss: 34.3670, Train Acc: 0.6918\n",
            "Epoch 14/26\n",
            " Classifier Train loss: 0.6080, AE Train loss: 32.9163, Train Acc: 0.6972\n",
            "Epoch 15/26\n",
            " Classifier Train loss: 0.6051, AE Train loss: 31.5505, Train Acc: 0.7037\n",
            "Epoch 16/26\n",
            " Classifier Train loss: 0.6024, AE Train loss: 30.3087, Train Acc: 0.7101\n",
            "Epoch 17/26\n",
            " Classifier Train loss: 0.5978, AE Train loss: 29.1488, Train Acc: 0.7188\n",
            "Epoch 18/26\n",
            " Classifier Train loss: 0.5922, AE Train loss: 28.0613, Train Acc: 0.7198\n",
            "Epoch 19/26\n",
            " Classifier Train loss: 0.5906, AE Train loss: 27.0500, Train Acc: 0.7123\n",
            "Epoch 20/26\n",
            " Classifier Train loss: 0.5862, AE Train loss: 26.1029, Train Acc: 0.7274\n",
            "Epoch 21/26\n",
            " Classifier Train loss: 0.5826, AE Train loss: 0.0000, Train Acc: 0.7252\n",
            "Epoch 22/26\n",
            " Classifier Train loss: 0.5783, AE Train loss: 0.0000, Train Acc: 0.7371\n",
            "Epoch 23/26\n",
            " Classifier Train loss: 0.5786, AE Train loss: 0.0000, Train Acc: 0.7241\n",
            "Epoch 24/26\n",
            " Classifier Train loss: 0.5715, AE Train loss: 0.0000, Train Acc: 0.7446\n",
            "Epoch 25/26\n",
            " Classifier Train loss: 0.5669, AE Train loss: 0.0000, Train Acc: 0.7381\n",
            "-----------------------------\n",
            "Fold 10/10\n",
            "{'accuracy': 0.6602, 'senstivity': 0.66, 'specificity': 0.6604, 'loss': 0.6252}\n",
            "-----------------------------\n"
          ],
          "name": "stdout"
        },
        {
          "output_type": "stream",
          "text": [
            "\u001b[34m\u001b[1mwandb\u001b[0m: \u001b[33mWARNING\u001b[0m Calling wandb.login() after wandb.init() has no effect.\n"
          ],
          "name": "stderr"
        },
        {
          "output_type": "stream",
          "text": [
            "*********************************\n",
            "Average Value after 10 Folds and repeats one 1------->\n",
            "Accuracy: 0.6677, Senstivity: 0.6038, Specificity: 0.7283, Loss: 0.6200000047683716\n",
            "*********************************\n"
          ],
          "name": "stdout"
        },
        {
          "output_type": "display_data",
          "data": {
            "text/html": [
              "<br/>Waiting for W&B process to finish, PID 10775<br/>Program ended successfully."
            ],
            "text/plain": [
              "<IPython.core.display.HTML object>"
            ]
          },
          "metadata": {
            "tags": []
          }
        },
        {
          "output_type": "display_data",
          "data": {
            "application/vnd.jupyter.widget-view+json": {
              "model_id": "8bf9b697393e47648653a8793240e247",
              "version_minor": 0,
              "version_major": 2
            },
            "text/plain": [
              "VBox(children=(Label(value=' 0.00MB of 0.00MB uploaded (0.00MB deduped)\\r'), FloatProgress(value=1.0, max=1.0)…"
            ]
          },
          "metadata": {
            "tags": []
          }
        },
        {
          "output_type": "display_data",
          "data": {
            "text/html": [
              "Find user logs for this run at: <code>wandb/run-20201012_161823-dim---ho-fold-10-rp-1/logs/debug.log</code>"
            ],
            "text/plain": [
              "<IPython.core.display.HTML object>"
            ]
          },
          "metadata": {
            "tags": []
          }
        },
        {
          "output_type": "display_data",
          "data": {
            "text/html": [
              "Find internal logs for this run at: <code>wandb/run-20201012_161823-dim---ho-fold-10-rp-1/logs/debug-internal.log</code>"
            ],
            "text/plain": [
              "<IPython.core.display.HTML object>"
            ]
          },
          "metadata": {
            "tags": []
          }
        },
        {
          "output_type": "display_data",
          "data": {
            "text/html": [
              "<h3>Run summary:</h3><br/><style>\n",
              "    table.wandb td:nth-child(1) { padding: 0 10px; text-align: right }\n",
              "    </style><table class=\"wandb\">\n",
              "<tr><td>Classifier Train loss</td><td>0.56691</td></tr><tr><td>Train accuracy</td><td>0.73815</td></tr><tr><td>AE Train loss</td><td>0.0</td></tr><tr><td>_step</td><td>24</td></tr><tr><td>_runtime</td><td>14</td></tr><tr><td>_timestamp</td><td>1602519520</td></tr></table>"
            ],
            "text/plain": [
              "<IPython.core.display.HTML object>"
            ]
          },
          "metadata": {
            "tags": []
          }
        },
        {
          "output_type": "display_data",
          "data": {
            "text/html": [
              "<h3>Run history:</h3><br/><style>\n",
              "    table.wandb td:nth-child(1) { padding: 0 10px; text-align: right }\n",
              "    </style><table class=\"wandb\">\n",
              "<tr><td>Classifier Train loss</td><td>██▇▇▆▆▅▅▅▅▄▄▄▃▃▃▃▂▂▂▂▂▂▁▁</td></tr><tr><td>Train accuracy</td><td>▁▂▃▅▄▅▅▆▅▆▆▆▆▆▇▇▇▇▇▇▇█▇██</td></tr><tr><td>AE Train loss</td><td>█▆▆▅▅▅▅▄▄▄▄▄▄▄▃▃▃▃▃▃▁▁▁▁▁</td></tr><tr><td>_step</td><td>▁▁▂▂▂▂▃▃▃▄▄▄▅▅▅▅▆▆▆▇▇▇▇██</td></tr><tr><td>_runtime</td><td>▁▂▂▂▂▃▃▃▃▄▄▅▅▅▆▆▆▆▇▇▇▇███</td></tr><tr><td>_timestamp</td><td>▁▂▂▂▂▃▃▃▃▄▄▅▅▅▆▆▆▆▇▇▇▇███</td></tr></table><br/>"
            ],
            "text/plain": [
              "<IPython.core.display.HTML object>"
            ]
          },
          "metadata": {
            "tags": []
          }
        },
        {
          "output_type": "display_data",
          "data": {
            "text/html": [
              "Synced 5 W&B file(s), 0 media file(s), 0 artifact file(s) and 0 other file(s)"
            ],
            "text/plain": [
              "<IPython.core.display.HTML object>"
            ]
          },
          "metadata": {
            "tags": []
          }
        },
        {
          "output_type": "display_data",
          "data": {
            "text/html": [
              "\n",
              "                    <br/>Synced <strong style=\"color:#cdcd00\">asd-diagnet-dim-ho---fold-10-rp-1</strong>: <a href=\"https://wandb.ai/pindi-krishna/asd2/runs/dim---ho-fold-10-rp-1\" target=\"_blank\">https://wandb.ai/pindi-krishna/asd2/runs/dim---ho-fold-10-rp-1</a><br/>\n",
              "                "
            ],
            "text/plain": [
              "<IPython.core.display.HTML object>"
            ]
          },
          "metadata": {
            "tags": []
          }
        },
        {
          "output_type": "display_data",
          "data": {
            "text/html": [
              "\n",
              "                Tracking run with wandb version 0.10.5<br/>\n",
              "                Syncing run <strong style=\"color:#cdcd00\">asd-diagnet-dim-ho---fold-1-rp-2</strong> to <a href=\"https://wandb.ai\" target=\"_blank\">Weights & Biases</a> <a href=\"https://docs.wandb.com/integrations/jupyter.html\" target=\"_blank\">(Documentation)</a>.<br/>\n",
              "                Project page: <a href=\"https://wandb.ai/pindi-krishna/asd2\" target=\"_blank\">https://wandb.ai/pindi-krishna/asd2</a><br/>\n",
              "                Run page: <a href=\"https://wandb.ai/pindi-krishna/asd2/runs/dim---ho-fold-1-rp-2\" target=\"_blank\">https://wandb.ai/pindi-krishna/asd2/runs/dim---ho-fold-1-rp-2</a><br/>\n",
              "                Run data is saved locally in <code>wandb/run-20201012_161841-dim---ho-fold-1-rp-2</code><br/><br/>\n",
              "            "
            ],
            "text/plain": [
              "<IPython.core.display.HTML object>"
            ]
          },
          "metadata": {
            "tags": []
          }
        },
        {
          "output_type": "stream",
          "text": [
            "Epoch 1/26\n",
            " Classifier Train loss: 0.6915, AE Train loss: 90.2917, Train Acc: 0.5334\n",
            "Epoch 2/26\n",
            " Classifier Train loss: 0.6819, AE Train loss: 71.0378, Train Acc: 0.5841\n",
            "Epoch 3/26\n",
            " Classifier Train loss: 0.6715, AE Train loss: 63.6657, Train Acc: 0.5830\n",
            "Epoch 4/26\n",
            " Classifier Train loss: 0.6641, AE Train loss: 58.1213, Train Acc: 0.6250\n",
            "Epoch 5/26\n",
            " Classifier Train loss: 0.6571, AE Train loss: 53.7281, Train Acc: 0.6487\n",
            "Epoch 6/26\n",
            " Classifier Train loss: 0.6512, AE Train loss: 50.1185, Train Acc: 0.6498\n",
            "Epoch 7/26\n",
            " Classifier Train loss: 0.6442, AE Train loss: 46.9702, Train Acc: 0.6735\n",
            "Epoch 8/26\n",
            " Classifier Train loss: 0.6395, AE Train loss: 44.2765, Train Acc: 0.6670\n",
            "Epoch 9/26\n",
            " Classifier Train loss: 0.6334, AE Train loss: 41.8108, Train Acc: 0.6735\n",
            "Epoch 10/26\n",
            " Classifier Train loss: 0.6287, AE Train loss: 39.6642, Train Acc: 0.6746\n",
            "Epoch 11/26\n",
            " Classifier Train loss: 0.6247, AE Train loss: 37.7648, Train Acc: 0.6864\n",
            "Epoch 12/26\n",
            " Classifier Train loss: 0.6201, AE Train loss: 35.9898, Train Acc: 0.6832\n",
            "Epoch 13/26\n",
            " Classifier Train loss: 0.6161, AE Train loss: 34.3605, Train Acc: 0.6832\n",
            "Epoch 14/26\n",
            " Classifier Train loss: 0.6105, AE Train loss: 32.8997, Train Acc: 0.6950\n",
            "Epoch 15/26\n",
            " Classifier Train loss: 0.6065, AE Train loss: 31.5400, Train Acc: 0.6972\n",
            "Epoch 16/26\n",
            " Classifier Train loss: 0.6028, AE Train loss: 30.2751, Train Acc: 0.7026\n",
            "Epoch 17/26\n",
            " Classifier Train loss: 0.5983, AE Train loss: 29.1143, Train Acc: 0.7101\n",
            "Epoch 18/26\n",
            " Classifier Train loss: 0.5941, AE Train loss: 28.0499, Train Acc: 0.7026\n",
            "Epoch 19/26\n",
            " Classifier Train loss: 0.5923, AE Train loss: 27.0159, Train Acc: 0.7134\n",
            "Epoch 20/26\n",
            " Classifier Train loss: 0.5891, AE Train loss: 26.0836, Train Acc: 0.7112\n",
            "Epoch 21/26\n",
            " Classifier Train loss: 0.5870, AE Train loss: 0.0000, Train Acc: 0.7306\n",
            "Epoch 22/26\n",
            " Classifier Train loss: 0.5813, AE Train loss: 0.0000, Train Acc: 0.7295\n",
            "Epoch 23/26\n",
            " Classifier Train loss: 0.5779, AE Train loss: 0.0000, Train Acc: 0.7155\n",
            "Epoch 24/26\n",
            " Classifier Train loss: 0.5741, AE Train loss: 0.0000, Train Acc: 0.7263\n",
            "Epoch 25/26\n",
            " Classifier Train loss: 0.5712, AE Train loss: 0.0000, Train Acc: 0.7349\n",
            "-----------------------------\n",
            "Fold 1/10\n",
            "{'accuracy': 0.7404, 'senstivity': 0.6275, 'specificity': 0.8491, 'loss': 0.5889}\n",
            "-----------------------------\n"
          ],
          "name": "stdout"
        },
        {
          "output_type": "stream",
          "text": [
            "\u001b[34m\u001b[1mwandb\u001b[0m: \u001b[33mWARNING\u001b[0m Calling wandb.login() after wandb.init() has no effect.\n"
          ],
          "name": "stderr"
        },
        {
          "output_type": "display_data",
          "data": {
            "text/html": [
              "<br/>Waiting for W&B process to finish, PID 10909<br/>Program ended successfully."
            ],
            "text/plain": [
              "<IPython.core.display.HTML object>"
            ]
          },
          "metadata": {
            "tags": []
          }
        },
        {
          "output_type": "display_data",
          "data": {
            "application/vnd.jupyter.widget-view+json": {
              "model_id": "1e81c96ee2e341ddbaab80659b1d02fe",
              "version_minor": 0,
              "version_major": 2
            },
            "text/plain": [
              "VBox(children=(Label(value=' 0.00MB of 0.00MB uploaded (0.00MB deduped)\\r'), FloatProgress(value=1.0, max=1.0)…"
            ]
          },
          "metadata": {
            "tags": []
          }
        },
        {
          "output_type": "display_data",
          "data": {
            "text/html": [
              "Find user logs for this run at: <code>wandb/run-20201012_161841-dim---ho-fold-1-rp-2/logs/debug.log</code>"
            ],
            "text/plain": [
              "<IPython.core.display.HTML object>"
            ]
          },
          "metadata": {
            "tags": []
          }
        },
        {
          "output_type": "display_data",
          "data": {
            "text/html": [
              "Find internal logs for this run at: <code>wandb/run-20201012_161841-dim---ho-fold-1-rp-2/logs/debug-internal.log</code>"
            ],
            "text/plain": [
              "<IPython.core.display.HTML object>"
            ]
          },
          "metadata": {
            "tags": []
          }
        },
        {
          "output_type": "display_data",
          "data": {
            "text/html": [
              "<h3>Run summary:</h3><br/><style>\n",
              "    table.wandb td:nth-child(1) { padding: 0 10px; text-align: right }\n",
              "    </style><table class=\"wandb\">\n",
              "<tr><td>Classifier Train loss</td><td>0.57122</td></tr><tr><td>Train accuracy</td><td>0.73491</td></tr><tr><td>AE Train loss</td><td>0.0</td></tr><tr><td>_step</td><td>24</td></tr><tr><td>_runtime</td><td>14</td></tr><tr><td>_timestamp</td><td>1602519538</td></tr></table>"
            ],
            "text/plain": [
              "<IPython.core.display.HTML object>"
            ]
          },
          "metadata": {
            "tags": []
          }
        },
        {
          "output_type": "display_data",
          "data": {
            "text/html": [
              "<h3>Run history:</h3><br/><style>\n",
              "    table.wandb td:nth-child(1) { padding: 0 10px; text-align: right }\n",
              "    </style><table class=\"wandb\">\n",
              "<tr><td>Classifier Train loss</td><td>█▇▇▆▆▆▅▅▅▄▄▄▄▃▃▃▃▂▂▂▂▂▁▁▁</td></tr><tr><td>Train accuracy</td><td>▁▃▃▄▅▅▆▆▆▆▆▆▆▇▇▇▇▇▇▇██▇██</td></tr><tr><td>AE Train loss</td><td>█▇▆▆▅▅▅▄▄▄▄▄▄▄▃▃▃▃▃▃▁▁▁▁▁</td></tr><tr><td>_step</td><td>▁▁▂▂▂▂▃▃▃▄▄▄▅▅▅▅▆▆▆▇▇▇▇██</td></tr><tr><td>_runtime</td><td>▁▁▂▂▂▂▃▃▃▃▄▅▅▅▅▆▆▆▆▇▇▇▇██</td></tr><tr><td>_timestamp</td><td>▁▁▂▂▂▂▃▃▃▃▄▅▅▅▅▆▆▆▆▇▇▇▇██</td></tr></table><br/>"
            ],
            "text/plain": [
              "<IPython.core.display.HTML object>"
            ]
          },
          "metadata": {
            "tags": []
          }
        },
        {
          "output_type": "display_data",
          "data": {
            "text/html": [
              "Synced 5 W&B file(s), 0 media file(s), 0 artifact file(s) and 0 other file(s)"
            ],
            "text/plain": [
              "<IPython.core.display.HTML object>"
            ]
          },
          "metadata": {
            "tags": []
          }
        },
        {
          "output_type": "display_data",
          "data": {
            "text/html": [
              "\n",
              "                    <br/>Synced <strong style=\"color:#cdcd00\">asd-diagnet-dim-ho---fold-1-rp-2</strong>: <a href=\"https://wandb.ai/pindi-krishna/asd2/runs/dim---ho-fold-1-rp-2\" target=\"_blank\">https://wandb.ai/pindi-krishna/asd2/runs/dim---ho-fold-1-rp-2</a><br/>\n",
              "                "
            ],
            "text/plain": [
              "<IPython.core.display.HTML object>"
            ]
          },
          "metadata": {
            "tags": []
          }
        },
        {
          "output_type": "display_data",
          "data": {
            "text/html": [
              "\n",
              "                Tracking run with wandb version 0.10.5<br/>\n",
              "                Syncing run <strong style=\"color:#cdcd00\">asd-diagnet-dim-ho---fold-2-rp-2</strong> to <a href=\"https://wandb.ai\" target=\"_blank\">Weights & Biases</a> <a href=\"https://docs.wandb.com/integrations/jupyter.html\" target=\"_blank\">(Documentation)</a>.<br/>\n",
              "                Project page: <a href=\"https://wandb.ai/pindi-krishna/asd2\" target=\"_blank\">https://wandb.ai/pindi-krishna/asd2</a><br/>\n",
              "                Run page: <a href=\"https://wandb.ai/pindi-krishna/asd2/runs/dim---ho-fold-2-rp-2\" target=\"_blank\">https://wandb.ai/pindi-krishna/asd2/runs/dim---ho-fold-2-rp-2</a><br/>\n",
              "                Run data is saved locally in <code>wandb/run-20201012_161858-dim---ho-fold-2-rp-2</code><br/><br/>\n",
              "            "
            ],
            "text/plain": [
              "<IPython.core.display.HTML object>"
            ]
          },
          "metadata": {
            "tags": []
          }
        },
        {
          "output_type": "stream",
          "text": [
            "Epoch 1/26\n",
            " Classifier Train loss: 0.6861, AE Train loss: 90.6416, Train Acc: 0.5765\n",
            "Epoch 2/26\n",
            " Classifier Train loss: 0.6767, AE Train loss: 71.1013, Train Acc: 0.5797\n",
            "Epoch 3/26\n",
            " Classifier Train loss: 0.6667, AE Train loss: 63.7582, Train Acc: 0.6325\n",
            "Epoch 4/26\n",
            " Classifier Train loss: 0.6594, AE Train loss: 58.2657, Train Acc: 0.6369\n",
            "Epoch 5/26\n",
            " Classifier Train loss: 0.6519, AE Train loss: 53.7933, Train Acc: 0.6487\n",
            "Epoch 6/26\n",
            " Classifier Train loss: 0.6451, AE Train loss: 50.1922, Train Acc: 0.6627\n",
            "Epoch 7/26\n",
            " Classifier Train loss: 0.6385, AE Train loss: 46.9817, Train Acc: 0.6519\n",
            "Epoch 8/26\n",
            " Classifier Train loss: 0.6344, AE Train loss: 44.3239, Train Acc: 0.6821\n",
            "Epoch 9/26\n",
            " Classifier Train loss: 0.6275, AE Train loss: 41.8836, Train Acc: 0.6800\n",
            "Epoch 10/26\n",
            " Classifier Train loss: 0.6219, AE Train loss: 39.6733, Train Acc: 0.6929\n",
            "Epoch 11/26\n",
            " Classifier Train loss: 0.6172, AE Train loss: 37.7613, Train Acc: 0.6897\n",
            "Epoch 12/26\n",
            " Classifier Train loss: 0.6132, AE Train loss: 35.9877, Train Acc: 0.7015\n",
            "Epoch 13/26\n",
            " Classifier Train loss: 0.6086, AE Train loss: 34.3439, Train Acc: 0.7134\n",
            "Epoch 14/26\n",
            " Classifier Train loss: 0.6045, AE Train loss: 32.8916, Train Acc: 0.7188\n",
            "Epoch 15/26\n",
            " Classifier Train loss: 0.6006, AE Train loss: 31.5235, Train Acc: 0.7155\n",
            "Epoch 16/26\n",
            " Classifier Train loss: 0.5963, AE Train loss: 30.3060, Train Acc: 0.7263\n",
            "Epoch 17/26\n",
            " Classifier Train loss: 0.5922, AE Train loss: 29.1165, Train Acc: 0.7274\n",
            "Epoch 18/26\n",
            " Classifier Train loss: 0.5888, AE Train loss: 28.0392, Train Acc: 0.7349\n",
            "Epoch 19/26\n",
            " Classifier Train loss: 0.5847, AE Train loss: 27.0292, Train Acc: 0.7295\n",
            "Epoch 20/26\n",
            " Classifier Train loss: 0.5816, AE Train loss: 26.0916, Train Acc: 0.7371\n",
            "Epoch 21/26\n",
            " Classifier Train loss: 0.5785, AE Train loss: 0.0000, Train Acc: 0.7360\n",
            "Epoch 22/26\n",
            " Classifier Train loss: 0.5732, AE Train loss: 0.0000, Train Acc: 0.7468\n",
            "Epoch 23/26\n",
            " Classifier Train loss: 0.5713, AE Train loss: 0.0000, Train Acc: 0.7349\n",
            "Epoch 24/26\n",
            " Classifier Train loss: 0.5659, AE Train loss: 0.0000, Train Acc: 0.7489\n",
            "Epoch 25/26\n",
            " Classifier Train loss: 0.5621, AE Train loss: 0.0000, Train Acc: 0.7425\n",
            "-----------------------------\n",
            "Fold 2/10\n",
            "{'accuracy': 0.6635, 'senstivity': 0.6471, 'specificity': 0.6792, 'loss': 0.6197}\n",
            "-----------------------------\n"
          ],
          "name": "stdout"
        },
        {
          "output_type": "stream",
          "text": [
            "\u001b[34m\u001b[1mwandb\u001b[0m: \u001b[33mWARNING\u001b[0m Calling wandb.login() after wandb.init() has no effect.\n"
          ],
          "name": "stderr"
        },
        {
          "output_type": "display_data",
          "data": {
            "text/html": [
              "<br/>Waiting for W&B process to finish, PID 11041<br/>Program ended successfully."
            ],
            "text/plain": [
              "<IPython.core.display.HTML object>"
            ]
          },
          "metadata": {
            "tags": []
          }
        },
        {
          "output_type": "display_data",
          "data": {
            "application/vnd.jupyter.widget-view+json": {
              "model_id": "f09319b5301f46c28f7d84a2d2f3a186",
              "version_minor": 0,
              "version_major": 2
            },
            "text/plain": [
              "VBox(children=(Label(value=' 0.00MB of 0.00MB uploaded (0.00MB deduped)\\r'), FloatProgress(value=1.0, max=1.0)…"
            ]
          },
          "metadata": {
            "tags": []
          }
        },
        {
          "output_type": "display_data",
          "data": {
            "text/html": [
              "Find user logs for this run at: <code>wandb/run-20201012_161858-dim---ho-fold-2-rp-2/logs/debug.log</code>"
            ],
            "text/plain": [
              "<IPython.core.display.HTML object>"
            ]
          },
          "metadata": {
            "tags": []
          }
        },
        {
          "output_type": "display_data",
          "data": {
            "text/html": [
              "Find internal logs for this run at: <code>wandb/run-20201012_161858-dim---ho-fold-2-rp-2/logs/debug-internal.log</code>"
            ],
            "text/plain": [
              "<IPython.core.display.HTML object>"
            ]
          },
          "metadata": {
            "tags": []
          }
        },
        {
          "output_type": "display_data",
          "data": {
            "text/html": [
              "<h3>Run summary:</h3><br/><style>\n",
              "    table.wandb td:nth-child(1) { padding: 0 10px; text-align: right }\n",
              "    </style><table class=\"wandb\">\n",
              "<tr><td>Classifier Train loss</td><td>0.56213</td></tr><tr><td>Train accuracy</td><td>0.74246</td></tr><tr><td>AE Train loss</td><td>0.0</td></tr><tr><td>_step</td><td>24</td></tr><tr><td>_runtime</td><td>14</td></tr><tr><td>_timestamp</td><td>1602519556</td></tr></table>"
            ],
            "text/plain": [
              "<IPython.core.display.HTML object>"
            ]
          },
          "metadata": {
            "tags": []
          }
        },
        {
          "output_type": "display_data",
          "data": {
            "text/html": [
              "<h3>Run history:</h3><br/><style>\n",
              "    table.wandb td:nth-child(1) { padding: 0 10px; text-align: right }\n",
              "    </style><table class=\"wandb\">\n",
              "<tr><td>Classifier Train loss</td><td>█▇▇▆▆▆▅▅▅▄▄▄▄▃▃▃▃▃▂▂▂▂▂▁▁</td></tr><tr><td>Train accuracy</td><td>▁▁▃▃▄▄▄▅▅▆▆▆▇▇▇▇▇▇▇█▇█▇██</td></tr><tr><td>AE Train loss</td><td>█▆▆▅▅▅▅▄▄▄▄▄▄▄▃▃▃▃▃▃▁▁▁▁▁</td></tr><tr><td>_step</td><td>▁▁▂▂▂▂▃▃▃▄▄▄▅▅▅▅▆▆▆▇▇▇▇██</td></tr><tr><td>_runtime</td><td>▁▂▂▂▃▃▃▃▄▄▄▄▅▅▅▅▆▆▆▇▇▇▇▇█</td></tr><tr><td>_timestamp</td><td>▁▂▂▂▃▃▃▃▄▄▄▄▅▅▅▅▆▆▆▇▇▇▇▇█</td></tr></table><br/>"
            ],
            "text/plain": [
              "<IPython.core.display.HTML object>"
            ]
          },
          "metadata": {
            "tags": []
          }
        },
        {
          "output_type": "display_data",
          "data": {
            "text/html": [
              "Synced 5 W&B file(s), 0 media file(s), 0 artifact file(s) and 0 other file(s)"
            ],
            "text/plain": [
              "<IPython.core.display.HTML object>"
            ]
          },
          "metadata": {
            "tags": []
          }
        },
        {
          "output_type": "display_data",
          "data": {
            "text/html": [
              "\n",
              "                    <br/>Synced <strong style=\"color:#cdcd00\">asd-diagnet-dim-ho---fold-2-rp-2</strong>: <a href=\"https://wandb.ai/pindi-krishna/asd2/runs/dim---ho-fold-2-rp-2\" target=\"_blank\">https://wandb.ai/pindi-krishna/asd2/runs/dim---ho-fold-2-rp-2</a><br/>\n",
              "                "
            ],
            "text/plain": [
              "<IPython.core.display.HTML object>"
            ]
          },
          "metadata": {
            "tags": []
          }
        },
        {
          "output_type": "display_data",
          "data": {
            "text/html": [
              "\n",
              "                Tracking run with wandb version 0.10.5<br/>\n",
              "                Syncing run <strong style=\"color:#cdcd00\">asd-diagnet-dim-ho---fold-3-rp-2</strong> to <a href=\"https://wandb.ai\" target=\"_blank\">Weights & Biases</a> <a href=\"https://docs.wandb.com/integrations/jupyter.html\" target=\"_blank\">(Documentation)</a>.<br/>\n",
              "                Project page: <a href=\"https://wandb.ai/pindi-krishna/asd2\" target=\"_blank\">https://wandb.ai/pindi-krishna/asd2</a><br/>\n",
              "                Run page: <a href=\"https://wandb.ai/pindi-krishna/asd2/runs/dim---ho-fold-3-rp-2\" target=\"_blank\">https://wandb.ai/pindi-krishna/asd2/runs/dim---ho-fold-3-rp-2</a><br/>\n",
              "                Run data is saved locally in <code>wandb/run-20201012_161916-dim---ho-fold-3-rp-2</code><br/><br/>\n",
              "            "
            ],
            "text/plain": [
              "<IPython.core.display.HTML object>"
            ]
          },
          "metadata": {
            "tags": []
          }
        },
        {
          "output_type": "stream",
          "text": [
            "Epoch 1/26\n",
            " Classifier Train loss: 0.6891, AE Train loss: 90.3315, Train Acc: 0.5248\n",
            "Epoch 2/26\n",
            " Classifier Train loss: 0.6790, AE Train loss: 71.2495, Train Acc: 0.5894\n",
            "Epoch 3/26\n",
            " Classifier Train loss: 0.6705, AE Train loss: 63.8092, Train Acc: 0.6315\n",
            "Epoch 4/26\n",
            " Classifier Train loss: 0.6630, AE Train loss: 58.2991, Train Acc: 0.6336\n",
            "Epoch 5/26\n",
            " Classifier Train loss: 0.6552, AE Train loss: 53.8891, Train Acc: 0.6379\n",
            "Epoch 6/26\n",
            " Classifier Train loss: 0.6498, AE Train loss: 50.2604, Train Acc: 0.6584\n",
            "Epoch 7/26\n",
            " Classifier Train loss: 0.6451, AE Train loss: 47.1279, Train Acc: 0.6498\n",
            "Epoch 8/26\n",
            " Classifier Train loss: 0.6382, AE Train loss: 44.4050, Train Acc: 0.6681\n",
            "Epoch 9/26\n",
            " Classifier Train loss: 0.6324, AE Train loss: 41.9879, Train Acc: 0.6724\n",
            "Epoch 10/26\n",
            " Classifier Train loss: 0.6292, AE Train loss: 39.8276, Train Acc: 0.6735\n",
            "Epoch 11/26\n",
            " Classifier Train loss: 0.6222, AE Train loss: 37.8811, Train Acc: 0.6886\n",
            "Epoch 12/26\n",
            " Classifier Train loss: 0.6186, AE Train loss: 36.0979, Train Acc: 0.6746\n",
            "Epoch 13/26\n",
            " Classifier Train loss: 0.6132, AE Train loss: 34.4843, Train Acc: 0.6940\n",
            "Epoch 14/26\n",
            " Classifier Train loss: 0.6087, AE Train loss: 33.0021, Train Acc: 0.6983\n",
            "Epoch 15/26\n",
            " Classifier Train loss: 0.6051, AE Train loss: 31.6459, Train Acc: 0.6961\n",
            "Epoch 16/26\n",
            " Classifier Train loss: 0.6013, AE Train loss: 30.3762, Train Acc: 0.7047\n",
            "Epoch 17/26\n",
            " Classifier Train loss: 0.5969, AE Train loss: 29.2373, Train Acc: 0.7069\n",
            "Epoch 18/26\n",
            " Classifier Train loss: 0.5931, AE Train loss: 28.1408, Train Acc: 0.7101\n",
            "Epoch 19/26\n",
            " Classifier Train loss: 0.5890, AE Train loss: 27.1345, Train Acc: 0.7274\n",
            "Epoch 20/26\n",
            " Classifier Train loss: 0.5851, AE Train loss: 26.1831, Train Acc: 0.7134\n",
            "Epoch 21/26\n",
            " Classifier Train loss: 0.5826, AE Train loss: 0.0000, Train Acc: 0.7274\n",
            "Epoch 22/26\n",
            " Classifier Train loss: 0.5777, AE Train loss: 0.0000, Train Acc: 0.7252\n",
            "Epoch 23/26\n",
            " Classifier Train loss: 0.5753, AE Train loss: 0.0000, Train Acc: 0.7306\n",
            "Epoch 24/26\n",
            " Classifier Train loss: 0.5718, AE Train loss: 0.0000, Train Acc: 0.7371\n",
            "Epoch 25/26\n",
            " Classifier Train loss: 0.5647, AE Train loss: 0.0000, Train Acc: 0.7478\n",
            "-----------------------------\n",
            "Fold 3/10\n",
            "{'accuracy': 0.6731, 'senstivity': 0.451, 'specificity': 0.8868, 'loss': 0.6257}\n",
            "-----------------------------\n"
          ],
          "name": "stdout"
        },
        {
          "output_type": "stream",
          "text": [
            "\u001b[34m\u001b[1mwandb\u001b[0m: \u001b[33mWARNING\u001b[0m Calling wandb.login() after wandb.init() has no effect.\n"
          ],
          "name": "stderr"
        },
        {
          "output_type": "display_data",
          "data": {
            "text/html": [
              "<br/>Waiting for W&B process to finish, PID 11173<br/>Program ended successfully."
            ],
            "text/plain": [
              "<IPython.core.display.HTML object>"
            ]
          },
          "metadata": {
            "tags": []
          }
        },
        {
          "output_type": "display_data",
          "data": {
            "application/vnd.jupyter.widget-view+json": {
              "model_id": "51e9f2af24864cb58add0020d7f8da39",
              "version_minor": 0,
              "version_major": 2
            },
            "text/plain": [
              "VBox(children=(Label(value=' 0.00MB of 0.00MB uploaded (0.00MB deduped)\\r'), FloatProgress(value=1.0, max=1.0)…"
            ]
          },
          "metadata": {
            "tags": []
          }
        },
        {
          "output_type": "display_data",
          "data": {
            "text/html": [
              "Find user logs for this run at: <code>wandb/run-20201012_161916-dim---ho-fold-3-rp-2/logs/debug.log</code>"
            ],
            "text/plain": [
              "<IPython.core.display.HTML object>"
            ]
          },
          "metadata": {
            "tags": []
          }
        },
        {
          "output_type": "display_data",
          "data": {
            "text/html": [
              "Find internal logs for this run at: <code>wandb/run-20201012_161916-dim---ho-fold-3-rp-2/logs/debug-internal.log</code>"
            ],
            "text/plain": [
              "<IPython.core.display.HTML object>"
            ]
          },
          "metadata": {
            "tags": []
          }
        },
        {
          "output_type": "display_data",
          "data": {
            "text/html": [
              "<h3>Run summary:</h3><br/><style>\n",
              "    table.wandb td:nth-child(1) { padding: 0 10px; text-align: right }\n",
              "    </style><table class=\"wandb\">\n",
              "<tr><td>Classifier Train loss</td><td>0.56472</td></tr><tr><td>Train accuracy</td><td>0.74784</td></tr><tr><td>AE Train loss</td><td>0.0</td></tr><tr><td>_step</td><td>24</td></tr><tr><td>_runtime</td><td>15</td></tr><tr><td>_timestamp</td><td>1602519574</td></tr></table>"
            ],
            "text/plain": [
              "<IPython.core.display.HTML object>"
            ]
          },
          "metadata": {
            "tags": []
          }
        },
        {
          "output_type": "display_data",
          "data": {
            "text/html": [
              "<h3>Run history:</h3><br/><style>\n",
              "    table.wandb td:nth-child(1) { padding: 0 10px; text-align: right }\n",
              "    </style><table class=\"wandb\">\n",
              "<tr><td>Classifier Train loss</td><td>█▇▇▇▆▆▆▅▅▅▄▄▄▃▃▃▃▃▂▂▂▂▂▁▁</td></tr><tr><td>Train accuracy</td><td>▁▃▄▄▅▅▅▅▆▆▆▆▆▆▆▇▇▇▇▇▇▇▇██</td></tr><tr><td>AE Train loss</td><td>█▇▆▆▅▅▅▄▄▄▄▄▄▄▃▃▃▃▃▃▁▁▁▁▁</td></tr><tr><td>_step</td><td>▁▁▂▂▂▂▃▃▃▄▄▄▅▅▅▅▆▆▆▇▇▇▇██</td></tr><tr><td>_runtime</td><td>▁▂▂▂▂▃▃▃▄▄▄▄▅▅▅▅▆▆▆▇▇▇▇▇█</td></tr><tr><td>_timestamp</td><td>▁▂▂▂▂▃▃▃▄▄▄▄▅▅▅▅▆▆▆▇▇▇▇▇█</td></tr></table><br/>"
            ],
            "text/plain": [
              "<IPython.core.display.HTML object>"
            ]
          },
          "metadata": {
            "tags": []
          }
        },
        {
          "output_type": "display_data",
          "data": {
            "text/html": [
              "Synced 5 W&B file(s), 0 media file(s), 0 artifact file(s) and 0 other file(s)"
            ],
            "text/plain": [
              "<IPython.core.display.HTML object>"
            ]
          },
          "metadata": {
            "tags": []
          }
        },
        {
          "output_type": "display_data",
          "data": {
            "text/html": [
              "\n",
              "                    <br/>Synced <strong style=\"color:#cdcd00\">asd-diagnet-dim-ho---fold-3-rp-2</strong>: <a href=\"https://wandb.ai/pindi-krishna/asd2/runs/dim---ho-fold-3-rp-2\" target=\"_blank\">https://wandb.ai/pindi-krishna/asd2/runs/dim---ho-fold-3-rp-2</a><br/>\n",
              "                "
            ],
            "text/plain": [
              "<IPython.core.display.HTML object>"
            ]
          },
          "metadata": {
            "tags": []
          }
        },
        {
          "output_type": "display_data",
          "data": {
            "text/html": [
              "\n",
              "                Tracking run with wandb version 0.10.5<br/>\n",
              "                Syncing run <strong style=\"color:#cdcd00\">asd-diagnet-dim-ho---fold-4-rp-2</strong> to <a href=\"https://wandb.ai\" target=\"_blank\">Weights & Biases</a> <a href=\"https://docs.wandb.com/integrations/jupyter.html\" target=\"_blank\">(Documentation)</a>.<br/>\n",
              "                Project page: <a href=\"https://wandb.ai/pindi-krishna/asd2\" target=\"_blank\">https://wandb.ai/pindi-krishna/asd2</a><br/>\n",
              "                Run page: <a href=\"https://wandb.ai/pindi-krishna/asd2/runs/dim---ho-fold-4-rp-2\" target=\"_blank\">https://wandb.ai/pindi-krishna/asd2/runs/dim---ho-fold-4-rp-2</a><br/>\n",
              "                Run data is saved locally in <code>wandb/run-20201012_161934-dim---ho-fold-4-rp-2</code><br/><br/>\n",
              "            "
            ],
            "text/plain": [
              "<IPython.core.display.HTML object>"
            ]
          },
          "metadata": {
            "tags": []
          }
        },
        {
          "output_type": "stream",
          "text": [
            "Epoch 1/26\n",
            " Classifier Train loss: 0.6883, AE Train loss: 90.8245, Train Acc: 0.5399\n",
            "Epoch 2/26\n",
            " Classifier Train loss: 0.6781, AE Train loss: 71.2960, Train Acc: 0.5787\n",
            "Epoch 3/26\n",
            " Classifier Train loss: 0.6713, AE Train loss: 63.7768, Train Acc: 0.6013\n",
            "Epoch 4/26\n",
            " Classifier Train loss: 0.6641, AE Train loss: 58.3181, Train Acc: 0.6078\n",
            "Epoch 5/26\n",
            " Classifier Train loss: 0.6581, AE Train loss: 53.8120, Train Acc: 0.6239\n",
            "Epoch 6/26\n",
            " Classifier Train loss: 0.6510, AE Train loss: 50.1736, Train Acc: 0.6369\n",
            "Epoch 7/26\n",
            " Classifier Train loss: 0.6451, AE Train loss: 47.0673, Train Acc: 0.6455\n",
            "Epoch 8/26\n",
            " Classifier Train loss: 0.6398, AE Train loss: 44.3031, Train Acc: 0.6562\n",
            "Epoch 9/26\n",
            " Classifier Train loss: 0.6338, AE Train loss: 41.8890, Train Acc: 0.6638\n",
            "Epoch 10/26\n",
            " Classifier Train loss: 0.6309, AE Train loss: 39.7415, Train Acc: 0.6703\n",
            "Epoch 11/26\n",
            " Classifier Train loss: 0.6239, AE Train loss: 37.7803, Train Acc: 0.6735\n",
            "Epoch 12/26\n",
            " Classifier Train loss: 0.6197, AE Train loss: 36.0106, Train Acc: 0.6843\n",
            "Epoch 13/26\n",
            " Classifier Train loss: 0.6152, AE Train loss: 34.4253, Train Acc: 0.6918\n",
            "Epoch 14/26\n",
            " Classifier Train loss: 0.6112, AE Train loss: 32.9391, Train Acc: 0.7004\n",
            "Epoch 15/26\n",
            " Classifier Train loss: 0.6066, AE Train loss: 31.5784, Train Acc: 0.6983\n",
            "Epoch 16/26\n",
            " Classifier Train loss: 0.6030, AE Train loss: 30.3041, Train Acc: 0.7004\n",
            "Epoch 17/26\n",
            " Classifier Train loss: 0.5985, AE Train loss: 29.1479, Train Acc: 0.7069\n",
            "Epoch 18/26\n",
            " Classifier Train loss: 0.5942, AE Train loss: 28.0788, Train Acc: 0.7134\n",
            "Epoch 19/26\n",
            " Classifier Train loss: 0.5902, AE Train loss: 27.0581, Train Acc: 0.7198\n",
            "Epoch 20/26\n",
            " Classifier Train loss: 0.5875, AE Train loss: 26.1268, Train Acc: 0.7198\n",
            "Epoch 21/26\n",
            " Classifier Train loss: 0.5847, AE Train loss: 0.0000, Train Acc: 0.7284\n",
            "Epoch 22/26\n",
            " Classifier Train loss: 0.5803, AE Train loss: 0.0000, Train Acc: 0.7274\n",
            "Epoch 23/26\n",
            " Classifier Train loss: 0.5758, AE Train loss: 0.0000, Train Acc: 0.7338\n",
            "Epoch 24/26\n",
            " Classifier Train loss: 0.5721, AE Train loss: 0.0000, Train Acc: 0.7338\n",
            "Epoch 25/26\n",
            " Classifier Train loss: 0.5694, AE Train loss: 0.0000, Train Acc: 0.7349\n",
            "-----------------------------\n",
            "Fold 4/10\n",
            "{'accuracy': 0.7019, 'senstivity': 0.549, 'specificity': 0.8491, 'loss': 0.6134}\n",
            "-----------------------------\n"
          ],
          "name": "stdout"
        },
        {
          "output_type": "stream",
          "text": [
            "\u001b[34m\u001b[1mwandb\u001b[0m: \u001b[33mWARNING\u001b[0m Calling wandb.login() after wandb.init() has no effect.\n"
          ],
          "name": "stderr"
        },
        {
          "output_type": "display_data",
          "data": {
            "text/html": [
              "<br/>Waiting for W&B process to finish, PID 11305<br/>Program ended successfully."
            ],
            "text/plain": [
              "<IPython.core.display.HTML object>"
            ]
          },
          "metadata": {
            "tags": []
          }
        },
        {
          "output_type": "display_data",
          "data": {
            "application/vnd.jupyter.widget-view+json": {
              "model_id": "86b01823efb04a4297b8c5c555c9ca82",
              "version_minor": 0,
              "version_major": 2
            },
            "text/plain": [
              "VBox(children=(Label(value=' 0.00MB of 0.00MB uploaded (0.00MB deduped)\\r'), FloatProgress(value=1.0, max=1.0)…"
            ]
          },
          "metadata": {
            "tags": []
          }
        },
        {
          "output_type": "display_data",
          "data": {
            "text/html": [
              "Find user logs for this run at: <code>wandb/run-20201012_161934-dim---ho-fold-4-rp-2/logs/debug.log</code>"
            ],
            "text/plain": [
              "<IPython.core.display.HTML object>"
            ]
          },
          "metadata": {
            "tags": []
          }
        },
        {
          "output_type": "display_data",
          "data": {
            "text/html": [
              "Find internal logs for this run at: <code>wandb/run-20201012_161934-dim---ho-fold-4-rp-2/logs/debug-internal.log</code>"
            ],
            "text/plain": [
              "<IPython.core.display.HTML object>"
            ]
          },
          "metadata": {
            "tags": []
          }
        },
        {
          "output_type": "display_data",
          "data": {
            "text/html": [
              "<h3>Run summary:</h3><br/><style>\n",
              "    table.wandb td:nth-child(1) { padding: 0 10px; text-align: right }\n",
              "    </style><table class=\"wandb\">\n",
              "<tr><td>Classifier Train loss</td><td>0.56944</td></tr><tr><td>Train accuracy</td><td>0.73491</td></tr><tr><td>AE Train loss</td><td>0.0</td></tr><tr><td>_step</td><td>24</td></tr><tr><td>_runtime</td><td>14</td></tr><tr><td>_timestamp</td><td>1602519591</td></tr></table>"
            ],
            "text/plain": [
              "<IPython.core.display.HTML object>"
            ]
          },
          "metadata": {
            "tags": []
          }
        },
        {
          "output_type": "display_data",
          "data": {
            "text/html": [
              "<h3>Run history:</h3><br/><style>\n",
              "    table.wandb td:nth-child(1) { padding: 0 10px; text-align: right }\n",
              "    </style><table class=\"wandb\">\n",
              "<tr><td>Classifier Train loss</td><td>█▇▇▇▆▆▅▅▅▅▄▄▄▃▃▃▃▂▂▂▂▂▁▁▁</td></tr><tr><td>Train accuracy</td><td>▁▂▃▃▄▄▅▅▅▆▆▆▆▇▇▇▇▇▇▇█████</td></tr><tr><td>AE Train loss</td><td>█▆▆▅▅▅▅▄▄▄▄▄▄▄▃▃▃▃▃▃▁▁▁▁▁</td></tr><tr><td>_step</td><td>▁▁▂▂▂▂▃▃▃▄▄▄▅▅▅▅▆▆▆▇▇▇▇██</td></tr><tr><td>_runtime</td><td>▁▂▂▂▂▃▃▃▃▄▄▅▅▅▅▆▆▆▇▇▇▇▇██</td></tr><tr><td>_timestamp</td><td>▁▂▂▂▂▃▃▃▃▄▄▅▅▅▅▆▆▆▇▇▇▇▇██</td></tr></table><br/>"
            ],
            "text/plain": [
              "<IPython.core.display.HTML object>"
            ]
          },
          "metadata": {
            "tags": []
          }
        },
        {
          "output_type": "display_data",
          "data": {
            "text/html": [
              "Synced 5 W&B file(s), 0 media file(s), 0 artifact file(s) and 0 other file(s)"
            ],
            "text/plain": [
              "<IPython.core.display.HTML object>"
            ]
          },
          "metadata": {
            "tags": []
          }
        },
        {
          "output_type": "display_data",
          "data": {
            "text/html": [
              "\n",
              "                    <br/>Synced <strong style=\"color:#cdcd00\">asd-diagnet-dim-ho---fold-4-rp-2</strong>: <a href=\"https://wandb.ai/pindi-krishna/asd2/runs/dim---ho-fold-4-rp-2\" target=\"_blank\">https://wandb.ai/pindi-krishna/asd2/runs/dim---ho-fold-4-rp-2</a><br/>\n",
              "                "
            ],
            "text/plain": [
              "<IPython.core.display.HTML object>"
            ]
          },
          "metadata": {
            "tags": []
          }
        },
        {
          "output_type": "display_data",
          "data": {
            "text/html": [
              "\n",
              "                Tracking run with wandb version 0.10.5<br/>\n",
              "                Syncing run <strong style=\"color:#cdcd00\">asd-diagnet-dim-ho---fold-5-rp-2</strong> to <a href=\"https://wandb.ai\" target=\"_blank\">Weights & Biases</a> <a href=\"https://docs.wandb.com/integrations/jupyter.html\" target=\"_blank\">(Documentation)</a>.<br/>\n",
              "                Project page: <a href=\"https://wandb.ai/pindi-krishna/asd2\" target=\"_blank\">https://wandb.ai/pindi-krishna/asd2</a><br/>\n",
              "                Run page: <a href=\"https://wandb.ai/pindi-krishna/asd2/runs/dim---ho-fold-5-rp-2\" target=\"_blank\">https://wandb.ai/pindi-krishna/asd2/runs/dim---ho-fold-5-rp-2</a><br/>\n",
              "                Run data is saved locally in <code>wandb/run-20201012_161952-dim---ho-fold-5-rp-2</code><br/><br/>\n",
              "            "
            ],
            "text/plain": [
              "<IPython.core.display.HTML object>"
            ]
          },
          "metadata": {
            "tags": []
          }
        },
        {
          "output_type": "stream",
          "text": [
            "Epoch 1/26\n",
            " Classifier Train loss: 0.6944, AE Train loss: 90.9227, Train Acc: 0.4741\n",
            "Epoch 2/26\n",
            " Classifier Train loss: 0.6850, AE Train loss: 71.4572, Train Acc: 0.5453\n",
            "Epoch 3/26\n",
            " Classifier Train loss: 0.6772, AE Train loss: 63.8811, Train Acc: 0.6078\n",
            "Epoch 4/26\n",
            " Classifier Train loss: 0.6682, AE Train loss: 58.3248, Train Acc: 0.5927\n",
            "Epoch 5/26\n",
            " Classifier Train loss: 0.6610, AE Train loss: 53.9085, Train Acc: 0.6218\n",
            "Epoch 6/26\n",
            " Classifier Train loss: 0.6546, AE Train loss: 50.2025, Train Acc: 0.6390\n",
            "Epoch 7/26\n",
            " Classifier Train loss: 0.6478, AE Train loss: 47.0110, Train Acc: 0.6562\n",
            "Epoch 8/26\n",
            " Classifier Train loss: 0.6417, AE Train loss: 44.3591, Train Acc: 0.6476\n",
            "Epoch 9/26\n",
            " Classifier Train loss: 0.6371, AE Train loss: 41.9195, Train Acc: 0.6584\n",
            "Epoch 10/26\n",
            " Classifier Train loss: 0.6314, AE Train loss: 39.7363, Train Acc: 0.6778\n",
            "Epoch 11/26\n",
            " Classifier Train loss: 0.6259, AE Train loss: 37.7991, Train Acc: 0.6746\n",
            "Epoch 12/26\n",
            " Classifier Train loss: 0.6218, AE Train loss: 36.0348, Train Acc: 0.6821\n",
            "Epoch 13/26\n",
            " Classifier Train loss: 0.6171, AE Train loss: 34.4137, Train Acc: 0.6972\n",
            "Epoch 14/26\n",
            " Classifier Train loss: 0.6125, AE Train loss: 32.9556, Train Acc: 0.6972\n",
            "Epoch 15/26\n",
            " Classifier Train loss: 0.6073, AE Train loss: 31.5852, Train Acc: 0.7112\n",
            "Epoch 16/26\n",
            " Classifier Train loss: 0.6049, AE Train loss: 30.3256, Train Acc: 0.6983\n",
            "Epoch 17/26\n",
            " Classifier Train loss: 0.6006, AE Train loss: 29.1853, Train Acc: 0.7037\n",
            "Epoch 18/26\n",
            " Classifier Train loss: 0.5965, AE Train loss: 28.0913, Train Acc: 0.7166\n",
            "Epoch 19/26\n",
            " Classifier Train loss: 0.5924, AE Train loss: 27.0888, Train Acc: 0.7198\n",
            "Epoch 20/26\n",
            " Classifier Train loss: 0.5887, AE Train loss: 26.1390, Train Acc: 0.7231\n",
            "Epoch 21/26\n",
            " Classifier Train loss: 0.5839, AE Train loss: 0.0000, Train Acc: 0.7263\n",
            "Epoch 22/26\n",
            " Classifier Train loss: 0.5813, AE Train loss: 0.0000, Train Acc: 0.7349\n",
            "Epoch 23/26\n",
            " Classifier Train loss: 0.5780, AE Train loss: 0.0000, Train Acc: 0.7252\n",
            "Epoch 24/26\n",
            " Classifier Train loss: 0.5719, AE Train loss: 0.0000, Train Acc: 0.7403\n",
            "Epoch 25/26\n",
            " Classifier Train loss: 0.5687, AE Train loss: 0.0000, Train Acc: 0.7435\n",
            "-----------------------------\n",
            "Fold 5/10\n",
            "{'accuracy': 0.6827, 'senstivity': 0.6667, 'specificity': 0.6981, 'loss': 0.6166}\n",
            "-----------------------------\n"
          ],
          "name": "stdout"
        },
        {
          "output_type": "stream",
          "text": [
            "\u001b[34m\u001b[1mwandb\u001b[0m: \u001b[33mWARNING\u001b[0m Calling wandb.login() after wandb.init() has no effect.\n"
          ],
          "name": "stderr"
        },
        {
          "output_type": "display_data",
          "data": {
            "text/html": [
              "<br/>Waiting for W&B process to finish, PID 11439<br/>Program ended successfully."
            ],
            "text/plain": [
              "<IPython.core.display.HTML object>"
            ]
          },
          "metadata": {
            "tags": []
          }
        },
        {
          "output_type": "display_data",
          "data": {
            "application/vnd.jupyter.widget-view+json": {
              "model_id": "6d0ed67fdc6841e69ee7f918bd1bcd3f",
              "version_minor": 0,
              "version_major": 2
            },
            "text/plain": [
              "VBox(children=(Label(value=' 0.00MB of 0.00MB uploaded (0.00MB deduped)\\r'), FloatProgress(value=1.0, max=1.0)…"
            ]
          },
          "metadata": {
            "tags": []
          }
        },
        {
          "output_type": "display_data",
          "data": {
            "text/html": [
              "Find user logs for this run at: <code>wandb/run-20201012_161952-dim---ho-fold-5-rp-2/logs/debug.log</code>"
            ],
            "text/plain": [
              "<IPython.core.display.HTML object>"
            ]
          },
          "metadata": {
            "tags": []
          }
        },
        {
          "output_type": "display_data",
          "data": {
            "text/html": [
              "Find internal logs for this run at: <code>wandb/run-20201012_161952-dim---ho-fold-5-rp-2/logs/debug-internal.log</code>"
            ],
            "text/plain": [
              "<IPython.core.display.HTML object>"
            ]
          },
          "metadata": {
            "tags": []
          }
        },
        {
          "output_type": "display_data",
          "data": {
            "text/html": [
              "<h3>Run summary:</h3><br/><style>\n",
              "    table.wandb td:nth-child(1) { padding: 0 10px; text-align: right }\n",
              "    </style><table class=\"wandb\">\n",
              "<tr><td>Classifier Train loss</td><td>0.5687</td></tr><tr><td>Train accuracy</td><td>0.74353</td></tr><tr><td>AE Train loss</td><td>0.0</td></tr><tr><td>_step</td><td>24</td></tr><tr><td>_runtime</td><td>14</td></tr><tr><td>_timestamp</td><td>1602519609</td></tr></table>"
            ],
            "text/plain": [
              "<IPython.core.display.HTML object>"
            ]
          },
          "metadata": {
            "tags": []
          }
        },
        {
          "output_type": "display_data",
          "data": {
            "text/html": [
              "<h3>Run history:</h3><br/><style>\n",
              "    table.wandb td:nth-child(1) { padding: 0 10px; text-align: right }\n",
              "    </style><table class=\"wandb\">\n",
              "<tr><td>Classifier Train loss</td><td>█▇▇▇▆▆▅▅▅▄▄▄▄▃▃▃▃▃▂▂▂▂▂▁▁</td></tr><tr><td>Train accuracy</td><td>▁▃▄▄▅▅▆▆▆▆▆▆▇▇▇▇▇▇▇▇█████</td></tr><tr><td>AE Train loss</td><td>█▇▆▅▅▅▅▄▄▄▄▄▄▄▃▃▃▃▃▃▁▁▁▁▁</td></tr><tr><td>_step</td><td>▁▁▂▂▂▂▃▃▃▄▄▄▅▅▅▅▆▆▆▇▇▇▇██</td></tr><tr><td>_runtime</td><td>▁▁▂▂▂▂▃▃▃▃▄▄▅▅▅▅▆▆▆▇▇▇▇▇█</td></tr><tr><td>_timestamp</td><td>▁▁▂▂▂▂▃▃▃▃▄▄▅▅▅▅▆▆▆▇▇▇▇▇█</td></tr></table><br/>"
            ],
            "text/plain": [
              "<IPython.core.display.HTML object>"
            ]
          },
          "metadata": {
            "tags": []
          }
        },
        {
          "output_type": "display_data",
          "data": {
            "text/html": [
              "Synced 5 W&B file(s), 0 media file(s), 0 artifact file(s) and 0 other file(s)"
            ],
            "text/plain": [
              "<IPython.core.display.HTML object>"
            ]
          },
          "metadata": {
            "tags": []
          }
        },
        {
          "output_type": "display_data",
          "data": {
            "text/html": [
              "\n",
              "                    <br/>Synced <strong style=\"color:#cdcd00\">asd-diagnet-dim-ho---fold-5-rp-2</strong>: <a href=\"https://wandb.ai/pindi-krishna/asd2/runs/dim---ho-fold-5-rp-2\" target=\"_blank\">https://wandb.ai/pindi-krishna/asd2/runs/dim---ho-fold-5-rp-2</a><br/>\n",
              "                "
            ],
            "text/plain": [
              "<IPython.core.display.HTML object>"
            ]
          },
          "metadata": {
            "tags": []
          }
        },
        {
          "output_type": "display_data",
          "data": {
            "text/html": [
              "\n",
              "                Tracking run with wandb version 0.10.5<br/>\n",
              "                Syncing run <strong style=\"color:#cdcd00\">asd-diagnet-dim-ho---fold-6-rp-2</strong> to <a href=\"https://wandb.ai\" target=\"_blank\">Weights & Biases</a> <a href=\"https://docs.wandb.com/integrations/jupyter.html\" target=\"_blank\">(Documentation)</a>.<br/>\n",
              "                Project page: <a href=\"https://wandb.ai/pindi-krishna/asd2\" target=\"_blank\">https://wandb.ai/pindi-krishna/asd2</a><br/>\n",
              "                Run page: <a href=\"https://wandb.ai/pindi-krishna/asd2/runs/dim---ho-fold-6-rp-2\" target=\"_blank\">https://wandb.ai/pindi-krishna/asd2/runs/dim---ho-fold-6-rp-2</a><br/>\n",
              "                Run data is saved locally in <code>wandb/run-20201012_162009-dim---ho-fold-6-rp-2</code><br/><br/>\n",
              "            "
            ],
            "text/plain": [
              "<IPython.core.display.HTML object>"
            ]
          },
          "metadata": {
            "tags": []
          }
        },
        {
          "output_type": "stream",
          "text": [
            "Epoch 1/26\n",
            " Classifier Train loss: 0.6913, AE Train loss: 90.5102, Train Acc: 0.5377\n",
            "Epoch 2/26\n",
            " Classifier Train loss: 0.6795, AE Train loss: 71.3326, Train Acc: 0.5754\n",
            "Epoch 3/26\n",
            " Classifier Train loss: 0.6708, AE Train loss: 63.8723, Train Acc: 0.6175\n",
            "Epoch 4/26\n",
            " Classifier Train loss: 0.6622, AE Train loss: 58.2939, Train Acc: 0.6293\n",
            "Epoch 5/26\n",
            " Classifier Train loss: 0.6539, AE Train loss: 53.8594, Train Acc: 0.6638\n",
            "Epoch 6/26\n",
            " Classifier Train loss: 0.6487, AE Train loss: 50.2437, Train Acc: 0.6487\n",
            "Epoch 7/26\n",
            " Classifier Train loss: 0.6412, AE Train loss: 47.1084, Train Acc: 0.6573\n",
            "Epoch 8/26\n",
            " Classifier Train loss: 0.6350, AE Train loss: 44.3083, Train Acc: 0.6659\n",
            "Epoch 9/26\n",
            " Classifier Train loss: 0.6292, AE Train loss: 41.9580, Train Acc: 0.6789\n",
            "Epoch 10/26\n",
            " Classifier Train loss: 0.6248, AE Train loss: 39.7550, Train Acc: 0.6778\n",
            "Epoch 11/26\n",
            " Classifier Train loss: 0.6203, AE Train loss: 37.8429, Train Acc: 0.6918\n",
            "Epoch 12/26\n",
            " Classifier Train loss: 0.6155, AE Train loss: 36.0743, Train Acc: 0.6994\n",
            "Epoch 13/26\n",
            " Classifier Train loss: 0.6101, AE Train loss: 34.4743, Train Acc: 0.7069\n",
            "Epoch 14/26\n",
            " Classifier Train loss: 0.6066, AE Train loss: 33.0025, Train Acc: 0.6961\n",
            "Epoch 15/26\n",
            " Classifier Train loss: 0.6028, AE Train loss: 31.6299, Train Acc: 0.7188\n",
            "Epoch 16/26\n",
            " Classifier Train loss: 0.5986, AE Train loss: 30.3677, Train Acc: 0.7069\n",
            "Epoch 17/26\n",
            " Classifier Train loss: 0.5925, AE Train loss: 29.2170, Train Acc: 0.7274\n",
            "Epoch 18/26\n",
            " Classifier Train loss: 0.5906, AE Train loss: 28.1441, Train Acc: 0.7220\n",
            "Epoch 19/26\n",
            " Classifier Train loss: 0.5867, AE Train loss: 27.1115, Train Acc: 0.7263\n",
            "Epoch 20/26\n",
            " Classifier Train loss: 0.5836, AE Train loss: 26.1661, Train Acc: 0.7349\n",
            "Epoch 21/26\n",
            " Classifier Train loss: 0.5792, AE Train loss: 0.0000, Train Acc: 0.7306\n",
            "Epoch 22/26\n",
            " Classifier Train loss: 0.5769, AE Train loss: 0.0000, Train Acc: 0.7371\n",
            "Epoch 23/26\n",
            " Classifier Train loss: 0.5726, AE Train loss: 0.0000, Train Acc: 0.7446\n",
            "Epoch 24/26\n",
            " Classifier Train loss: 0.5671, AE Train loss: 0.0000, Train Acc: 0.7414\n",
            "Epoch 25/26\n",
            " Classifier Train loss: 0.5661, AE Train loss: 0.0000, Train Acc: 0.7425\n",
            "-----------------------------\n",
            "Fold 6/10\n",
            "{'accuracy': 0.6214, 'senstivity': 0.54, 'specificity': 0.6981, 'loss': 0.6447}\n",
            "-----------------------------\n"
          ],
          "name": "stdout"
        },
        {
          "output_type": "stream",
          "text": [
            "\u001b[34m\u001b[1mwandb\u001b[0m: \u001b[33mWARNING\u001b[0m Calling wandb.login() after wandb.init() has no effect.\n"
          ],
          "name": "stderr"
        },
        {
          "output_type": "display_data",
          "data": {
            "text/html": [
              "<br/>Waiting for W&B process to finish, PID 11571<br/>Program ended successfully."
            ],
            "text/plain": [
              "<IPython.core.display.HTML object>"
            ]
          },
          "metadata": {
            "tags": []
          }
        },
        {
          "output_type": "display_data",
          "data": {
            "application/vnd.jupyter.widget-view+json": {
              "model_id": "e3ff7b817f0048c391f4f2932507d2a5",
              "version_minor": 0,
              "version_major": 2
            },
            "text/plain": [
              "VBox(children=(Label(value=' 0.00MB of 0.00MB uploaded (0.00MB deduped)\\r'), FloatProgress(value=1.0, max=1.0)…"
            ]
          },
          "metadata": {
            "tags": []
          }
        },
        {
          "output_type": "display_data",
          "data": {
            "text/html": [
              "Find user logs for this run at: <code>wandb/run-20201012_162009-dim---ho-fold-6-rp-2/logs/debug.log</code>"
            ],
            "text/plain": [
              "<IPython.core.display.HTML object>"
            ]
          },
          "metadata": {
            "tags": []
          }
        },
        {
          "output_type": "display_data",
          "data": {
            "text/html": [
              "Find internal logs for this run at: <code>wandb/run-20201012_162009-dim---ho-fold-6-rp-2/logs/debug-internal.log</code>"
            ],
            "text/plain": [
              "<IPython.core.display.HTML object>"
            ]
          },
          "metadata": {
            "tags": []
          }
        },
        {
          "output_type": "display_data",
          "data": {
            "text/html": [
              "<h3>Run summary:</h3><br/><style>\n",
              "    table.wandb td:nth-child(1) { padding: 0 10px; text-align: right }\n",
              "    </style><table class=\"wandb\">\n",
              "<tr><td>Classifier Train loss</td><td>0.56608</td></tr><tr><td>Train accuracy</td><td>0.74246</td></tr><tr><td>AE Train loss</td><td>0.0</td></tr><tr><td>_step</td><td>24</td></tr><tr><td>_runtime</td><td>14</td></tr><tr><td>_timestamp</td><td>1602519626</td></tr></table>"
            ],
            "text/plain": [
              "<IPython.core.display.HTML object>"
            ]
          },
          "metadata": {
            "tags": []
          }
        },
        {
          "output_type": "display_data",
          "data": {
            "text/html": [
              "<h3>Run history:</h3><br/><style>\n",
              "    table.wandb td:nth-child(1) { padding: 0 10px; text-align: right }\n",
              "    </style><table class=\"wandb\">\n",
              "<tr><td>Classifier Train loss</td><td>█▇▇▆▆▆▅▅▅▄▄▄▃▃▃▃▂▂▂▂▂▂▁▁▁</td></tr><tr><td>Train accuracy</td><td>▁▂▄▄▅▅▅▅▆▆▆▆▇▆▇▇▇▇▇██████</td></tr><tr><td>AE Train loss</td><td>█▇▆▆▅▅▅▄▄▄▄▄▄▄▃▃▃▃▃▃▁▁▁▁▁</td></tr><tr><td>_step</td><td>▁▁▂▂▂▂▃▃▃▄▄▄▅▅▅▅▆▆▆▇▇▇▇██</td></tr><tr><td>_runtime</td><td>▁▂▂▂▂▃▃▃▃▄▄▅▅▅▅▆▆▆▆▇▇▇▇██</td></tr><tr><td>_timestamp</td><td>▁▂▂▂▂▃▃▃▃▄▄▅▅▅▅▆▆▆▆▇▇▇▇██</td></tr></table><br/>"
            ],
            "text/plain": [
              "<IPython.core.display.HTML object>"
            ]
          },
          "metadata": {
            "tags": []
          }
        },
        {
          "output_type": "display_data",
          "data": {
            "text/html": [
              "Synced 5 W&B file(s), 0 media file(s), 0 artifact file(s) and 0 other file(s)"
            ],
            "text/plain": [
              "<IPython.core.display.HTML object>"
            ]
          },
          "metadata": {
            "tags": []
          }
        },
        {
          "output_type": "display_data",
          "data": {
            "text/html": [
              "\n",
              "                    <br/>Synced <strong style=\"color:#cdcd00\">asd-diagnet-dim-ho---fold-6-rp-2</strong>: <a href=\"https://wandb.ai/pindi-krishna/asd2/runs/dim---ho-fold-6-rp-2\" target=\"_blank\">https://wandb.ai/pindi-krishna/asd2/runs/dim---ho-fold-6-rp-2</a><br/>\n",
              "                "
            ],
            "text/plain": [
              "<IPython.core.display.HTML object>"
            ]
          },
          "metadata": {
            "tags": []
          }
        },
        {
          "output_type": "display_data",
          "data": {
            "text/html": [
              "\n",
              "                Tracking run with wandb version 0.10.5<br/>\n",
              "                Syncing run <strong style=\"color:#cdcd00\">asd-diagnet-dim-ho---fold-7-rp-2</strong> to <a href=\"https://wandb.ai\" target=\"_blank\">Weights & Biases</a> <a href=\"https://docs.wandb.com/integrations/jupyter.html\" target=\"_blank\">(Documentation)</a>.<br/>\n",
              "                Project page: <a href=\"https://wandb.ai/pindi-krishna/asd2\" target=\"_blank\">https://wandb.ai/pindi-krishna/asd2</a><br/>\n",
              "                Run page: <a href=\"https://wandb.ai/pindi-krishna/asd2/runs/dim---ho-fold-7-rp-2\" target=\"_blank\">https://wandb.ai/pindi-krishna/asd2/runs/dim---ho-fold-7-rp-2</a><br/>\n",
              "                Run data is saved locally in <code>wandb/run-20201012_162027-dim---ho-fold-7-rp-2</code><br/><br/>\n",
              "            "
            ],
            "text/plain": [
              "<IPython.core.display.HTML object>"
            ]
          },
          "metadata": {
            "tags": []
          }
        },
        {
          "output_type": "stream",
          "text": [
            "Epoch 1/26\n",
            " Classifier Train loss: 0.6947, AE Train loss: 90.6142, Train Acc: 0.4935\n",
            "Epoch 2/26\n",
            " Classifier Train loss: 0.6834, AE Train loss: 71.4536, Train Acc: 0.5776\n",
            "Epoch 3/26\n",
            " Classifier Train loss: 0.6727, AE Train loss: 63.9648, Train Acc: 0.6056\n",
            "Epoch 4/26\n",
            " Classifier Train loss: 0.6648, AE Train loss: 58.4519, Train Acc: 0.6207\n",
            "Epoch 5/26\n",
            " Classifier Train loss: 0.6571, AE Train loss: 53.9633, Train Acc: 0.6606\n",
            "Epoch 6/26\n",
            " Classifier Train loss: 0.6506, AE Train loss: 50.3085, Train Acc: 0.6562\n",
            "Epoch 7/26\n",
            " Classifier Train loss: 0.6434, AE Train loss: 47.1696, Train Acc: 0.6552\n",
            "Epoch 8/26\n",
            " Classifier Train loss: 0.6379, AE Train loss: 44.4561, Train Acc: 0.6659\n",
            "Epoch 9/26\n",
            " Classifier Train loss: 0.6314, AE Train loss: 42.0338, Train Acc: 0.6875\n",
            "Epoch 10/26\n",
            " Classifier Train loss: 0.6272, AE Train loss: 39.8526, Train Acc: 0.6832\n",
            "Epoch 11/26\n",
            " Classifier Train loss: 0.6230, AE Train loss: 37.8608, Train Acc: 0.6897\n",
            "Epoch 12/26\n",
            " Classifier Train loss: 0.6178, AE Train loss: 36.1098, Train Acc: 0.6972\n",
            "Epoch 13/26\n",
            " Classifier Train loss: 0.6128, AE Train loss: 34.5383, Train Acc: 0.6864\n",
            "Epoch 14/26\n",
            " Classifier Train loss: 0.6094, AE Train loss: 33.0614, Train Acc: 0.7058\n",
            "Epoch 15/26\n",
            " Classifier Train loss: 0.6055, AE Train loss: 31.6905, Train Acc: 0.6983\n",
            "Epoch 16/26\n",
            " Classifier Train loss: 0.6004, AE Train loss: 30.4164, Train Acc: 0.7037\n",
            "Epoch 17/26\n",
            " Classifier Train loss: 0.5972, AE Train loss: 29.2748, Train Acc: 0.7177\n",
            "Epoch 18/26\n",
            " Classifier Train loss: 0.5937, AE Train loss: 28.1962, Train Acc: 0.7177\n",
            "Epoch 19/26\n",
            " Classifier Train loss: 0.5885, AE Train loss: 27.1784, Train Acc: 0.7274\n",
            "Epoch 20/26\n",
            " Classifier Train loss: 0.5833, AE Train loss: 26.2288, Train Acc: 0.7231\n",
            "Epoch 21/26\n",
            " Classifier Train loss: 0.5827, AE Train loss: 0.0000, Train Acc: 0.7306\n",
            "Epoch 22/26\n",
            " Classifier Train loss: 0.5792, AE Train loss: 0.0000, Train Acc: 0.7274\n",
            "Epoch 23/26\n",
            " Classifier Train loss: 0.5732, AE Train loss: 0.0000, Train Acc: 0.7241\n",
            "Epoch 24/26\n",
            " Classifier Train loss: 0.5703, AE Train loss: 0.0000, Train Acc: 0.7371\n",
            "Epoch 25/26\n",
            " Classifier Train loss: 0.5654, AE Train loss: 0.0000, Train Acc: 0.7371\n",
            "-----------------------------\n",
            "Fold 7/10\n",
            "{'accuracy': 0.6117, 'senstivity': 0.5, 'specificity': 0.717, 'loss': 0.6381}\n",
            "-----------------------------\n"
          ],
          "name": "stdout"
        },
        {
          "output_type": "stream",
          "text": [
            "\u001b[34m\u001b[1mwandb\u001b[0m: \u001b[33mWARNING\u001b[0m Calling wandb.login() after wandb.init() has no effect.\n"
          ],
          "name": "stderr"
        },
        {
          "output_type": "display_data",
          "data": {
            "text/html": [
              "<br/>Waiting for W&B process to finish, PID 11703<br/>Program ended successfully."
            ],
            "text/plain": [
              "<IPython.core.display.HTML object>"
            ]
          },
          "metadata": {
            "tags": []
          }
        },
        {
          "output_type": "display_data",
          "data": {
            "application/vnd.jupyter.widget-view+json": {
              "model_id": "0dfa10c763bc409180e69ef6dedb690f",
              "version_minor": 0,
              "version_major": 2
            },
            "text/plain": [
              "VBox(children=(Label(value=' 0.00MB of 0.00MB uploaded (0.00MB deduped)\\r'), FloatProgress(value=1.0, max=1.0)…"
            ]
          },
          "metadata": {
            "tags": []
          }
        },
        {
          "output_type": "display_data",
          "data": {
            "text/html": [
              "Find user logs for this run at: <code>wandb/run-20201012_162027-dim---ho-fold-7-rp-2/logs/debug.log</code>"
            ],
            "text/plain": [
              "<IPython.core.display.HTML object>"
            ]
          },
          "metadata": {
            "tags": []
          }
        },
        {
          "output_type": "display_data",
          "data": {
            "text/html": [
              "Find internal logs for this run at: <code>wandb/run-20201012_162027-dim---ho-fold-7-rp-2/logs/debug-internal.log</code>"
            ],
            "text/plain": [
              "<IPython.core.display.HTML object>"
            ]
          },
          "metadata": {
            "tags": []
          }
        },
        {
          "output_type": "display_data",
          "data": {
            "text/html": [
              "<h3>Run summary:</h3><br/><style>\n",
              "    table.wandb td:nth-child(1) { padding: 0 10px; text-align: right }\n",
              "    </style><table class=\"wandb\">\n",
              "<tr><td>Classifier Train loss</td><td>0.56545</td></tr><tr><td>Train accuracy</td><td>0.73707</td></tr><tr><td>AE Train loss</td><td>0.0</td></tr><tr><td>_step</td><td>24</td></tr><tr><td>_runtime</td><td>14</td></tr><tr><td>_timestamp</td><td>1602519644</td></tr></table>"
            ],
            "text/plain": [
              "<IPython.core.display.HTML object>"
            ]
          },
          "metadata": {
            "tags": []
          }
        },
        {
          "output_type": "display_data",
          "data": {
            "text/html": [
              "<h3>Run history:</h3><br/><style>\n",
              "    table.wandb td:nth-child(1) { padding: 0 10px; text-align: right }\n",
              "    </style><table class=\"wandb\">\n",
              "<tr><td>Classifier Train loss</td><td>█▇▇▆▆▆▅▅▅▄▄▄▄▃▃▃▃▃▂▂▂▂▁▁▁</td></tr><tr><td>Train accuracy</td><td>▁▃▄▅▆▆▆▆▇▆▇▇▇▇▇▇▇▇███████</td></tr><tr><td>AE Train loss</td><td>█▇▆▆▅▅▅▄▄▄▄▄▄▄▃▃▃▃▃▃▁▁▁▁▁</td></tr><tr><td>_step</td><td>▁▁▂▂▂▂▃▃▃▄▄▄▅▅▅▅▆▆▆▇▇▇▇██</td></tr><tr><td>_runtime</td><td>▁▁▂▂▂▂▃▃▃▃▄▄▅▅▅▅▆▆▆▇▇▇▇▇█</td></tr><tr><td>_timestamp</td><td>▁▁▂▂▂▂▃▃▃▃▄▄▅▅▅▅▆▆▆▇▇▇▇▇█</td></tr></table><br/>"
            ],
            "text/plain": [
              "<IPython.core.display.HTML object>"
            ]
          },
          "metadata": {
            "tags": []
          }
        },
        {
          "output_type": "display_data",
          "data": {
            "text/html": [
              "Synced 5 W&B file(s), 0 media file(s), 0 artifact file(s) and 0 other file(s)"
            ],
            "text/plain": [
              "<IPython.core.display.HTML object>"
            ]
          },
          "metadata": {
            "tags": []
          }
        },
        {
          "output_type": "display_data",
          "data": {
            "text/html": [
              "\n",
              "                    <br/>Synced <strong style=\"color:#cdcd00\">asd-diagnet-dim-ho---fold-7-rp-2</strong>: <a href=\"https://wandb.ai/pindi-krishna/asd2/runs/dim---ho-fold-7-rp-2\" target=\"_blank\">https://wandb.ai/pindi-krishna/asd2/runs/dim---ho-fold-7-rp-2</a><br/>\n",
              "                "
            ],
            "text/plain": [
              "<IPython.core.display.HTML object>"
            ]
          },
          "metadata": {
            "tags": []
          }
        },
        {
          "output_type": "display_data",
          "data": {
            "text/html": [
              "\n",
              "                Tracking run with wandb version 0.10.5<br/>\n",
              "                Syncing run <strong style=\"color:#cdcd00\">asd-diagnet-dim-ho---fold-8-rp-2</strong> to <a href=\"https://wandb.ai\" target=\"_blank\">Weights & Biases</a> <a href=\"https://docs.wandb.com/integrations/jupyter.html\" target=\"_blank\">(Documentation)</a>.<br/>\n",
              "                Project page: <a href=\"https://wandb.ai/pindi-krishna/asd2\" target=\"_blank\">https://wandb.ai/pindi-krishna/asd2</a><br/>\n",
              "                Run page: <a href=\"https://wandb.ai/pindi-krishna/asd2/runs/dim---ho-fold-8-rp-2\" target=\"_blank\">https://wandb.ai/pindi-krishna/asd2/runs/dim---ho-fold-8-rp-2</a><br/>\n",
              "                Run data is saved locally in <code>wandb/run-20201012_162044-dim---ho-fold-8-rp-2</code><br/><br/>\n",
              "            "
            ],
            "text/plain": [
              "<IPython.core.display.HTML object>"
            ]
          },
          "metadata": {
            "tags": []
          }
        },
        {
          "output_type": "stream",
          "text": [
            "Epoch 1/26\n",
            " Classifier Train loss: 0.6877, AE Train loss: 91.0767, Train Acc: 0.5474\n",
            "Epoch 2/26\n",
            " Classifier Train loss: 0.6814, AE Train loss: 71.4043, Train Acc: 0.5700\n",
            "Epoch 3/26\n",
            " Classifier Train loss: 0.6703, AE Train loss: 64.0109, Train Acc: 0.6131\n",
            "Epoch 4/26\n",
            " Classifier Train loss: 0.6621, AE Train loss: 58.3708, Train Acc: 0.6315\n",
            "Epoch 5/26\n",
            " Classifier Train loss: 0.6554, AE Train loss: 53.9917, Train Acc: 0.6433\n",
            "Epoch 6/26\n",
            " Classifier Train loss: 0.6489, AE Train loss: 50.2578, Train Acc: 0.6455\n",
            "Epoch 7/26\n",
            " Classifier Train loss: 0.6414, AE Train loss: 47.0810, Train Acc: 0.6541\n",
            "Epoch 8/26\n",
            " Classifier Train loss: 0.6368, AE Train loss: 44.3598, Train Acc: 0.6649\n",
            "Epoch 9/26\n",
            " Classifier Train loss: 0.6304, AE Train loss: 41.9317, Train Acc: 0.6638\n",
            "Epoch 10/26\n",
            " Classifier Train loss: 0.6263, AE Train loss: 39.7861, Train Acc: 0.6789\n",
            "Epoch 11/26\n",
            " Classifier Train loss: 0.6210, AE Train loss: 37.8419, Train Acc: 0.6843\n",
            "Epoch 12/26\n",
            " Classifier Train loss: 0.6153, AE Train loss: 36.0723, Train Acc: 0.6918\n",
            "Epoch 13/26\n",
            " Classifier Train loss: 0.6128, AE Train loss: 34.4437, Train Acc: 0.6994\n",
            "Epoch 14/26\n",
            " Classifier Train loss: 0.6047, AE Train loss: 32.9830, Train Acc: 0.7015\n",
            "Epoch 15/26\n",
            " Classifier Train loss: 0.6029, AE Train loss: 31.5850, Train Acc: 0.7058\n",
            "Epoch 16/26\n",
            " Classifier Train loss: 0.5987, AE Train loss: 30.3558, Train Acc: 0.7209\n",
            "Epoch 17/26\n",
            " Classifier Train loss: 0.5927, AE Train loss: 29.1826, Train Acc: 0.7144\n",
            "Epoch 18/26\n",
            " Classifier Train loss: 0.5895, AE Train loss: 28.0923, Train Acc: 0.7166\n",
            "Epoch 19/26\n",
            " Classifier Train loss: 0.5857, AE Train loss: 27.0665, Train Acc: 0.7252\n",
            "Epoch 20/26\n",
            " Classifier Train loss: 0.5808, AE Train loss: 26.1308, Train Acc: 0.7231\n",
            "Epoch 21/26\n",
            " Classifier Train loss: 0.5790, AE Train loss: 0.0000, Train Acc: 0.7252\n",
            "Epoch 22/26\n",
            " Classifier Train loss: 0.5746, AE Train loss: 0.0000, Train Acc: 0.7317\n",
            "Epoch 23/26\n",
            " Classifier Train loss: 0.5697, AE Train loss: 0.0000, Train Acc: 0.7284\n",
            "Epoch 24/26\n",
            " Classifier Train loss: 0.5668, AE Train loss: 0.0000, Train Acc: 0.7349\n",
            "Epoch 25/26\n",
            " Classifier Train loss: 0.5598, AE Train loss: 0.0000, Train Acc: 0.7392\n"
          ],
          "name": "stdout"
        },
        {
          "output_type": "stream",
          "text": [
            "\u001b[34m\u001b[1mwandb\u001b[0m: \u001b[33mWARNING\u001b[0m Calling wandb.login() after wandb.init() has no effect.\n"
          ],
          "name": "stderr"
        },
        {
          "output_type": "stream",
          "text": [
            "-----------------------------\n",
            "Fold 8/10\n",
            "{'accuracy': 0.6214, 'senstivity': 0.38, 'specificity': 0.8491, 'loss': 0.6504}\n",
            "-----------------------------\n"
          ],
          "name": "stdout"
        },
        {
          "output_type": "display_data",
          "data": {
            "text/html": [
              "<br/>Waiting for W&B process to finish, PID 11837<br/>Program ended successfully."
            ],
            "text/plain": [
              "<IPython.core.display.HTML object>"
            ]
          },
          "metadata": {
            "tags": []
          }
        },
        {
          "output_type": "display_data",
          "data": {
            "application/vnd.jupyter.widget-view+json": {
              "model_id": "cea0cf2313be4a6388b57e66a3ddb65d",
              "version_minor": 0,
              "version_major": 2
            },
            "text/plain": [
              "VBox(children=(Label(value=' 0.00MB of 0.00MB uploaded (0.00MB deduped)\\r'), FloatProgress(value=1.0, max=1.0)…"
            ]
          },
          "metadata": {
            "tags": []
          }
        },
        {
          "output_type": "display_data",
          "data": {
            "text/html": [
              "Find user logs for this run at: <code>wandb/run-20201012_162044-dim---ho-fold-8-rp-2/logs/debug.log</code>"
            ],
            "text/plain": [
              "<IPython.core.display.HTML object>"
            ]
          },
          "metadata": {
            "tags": []
          }
        },
        {
          "output_type": "display_data",
          "data": {
            "text/html": [
              "Find internal logs for this run at: <code>wandb/run-20201012_162044-dim---ho-fold-8-rp-2/logs/debug-internal.log</code>"
            ],
            "text/plain": [
              "<IPython.core.display.HTML object>"
            ]
          },
          "metadata": {
            "tags": []
          }
        },
        {
          "output_type": "display_data",
          "data": {
            "text/html": [
              "<h3>Run summary:</h3><br/><style>\n",
              "    table.wandb td:nth-child(1) { padding: 0 10px; text-align: right }\n",
              "    </style><table class=\"wandb\">\n",
              "<tr><td>Classifier Train loss</td><td>0.5598</td></tr><tr><td>Train accuracy</td><td>0.73922</td></tr><tr><td>AE Train loss</td><td>0.0</td></tr><tr><td>_step</td><td>24</td></tr><tr><td>_runtime</td><td>15</td></tr><tr><td>_timestamp</td><td>1602519662</td></tr></table>"
            ],
            "text/plain": [
              "<IPython.core.display.HTML object>"
            ]
          },
          "metadata": {
            "tags": []
          }
        },
        {
          "output_type": "display_data",
          "data": {
            "text/html": [
              "<h3>Run history:</h3><br/><style>\n",
              "    table.wandb td:nth-child(1) { padding: 0 10px; text-align: right }\n",
              "    </style><table class=\"wandb\">\n",
              "<tr><td>Classifier Train loss</td><td>██▇▇▆▆▅▅▅▅▄▄▄▃▃▃▃▃▂▂▂▂▂▁▁</td></tr><tr><td>Train accuracy</td><td>▁▂▃▄▅▅▅▅▅▆▆▆▇▇▇▇▇▇▇▇▇████</td></tr><tr><td>AE Train loss</td><td>█▆▆▅▅▅▅▄▄▄▄▄▄▄▃▃▃▃▃▃▁▁▁▁▁</td></tr><tr><td>_step</td><td>▁▁▂▂▂▂▃▃▃▄▄▄▅▅▅▅▆▆▆▇▇▇▇██</td></tr><tr><td>_runtime</td><td>▁▂▂▂▂▃▃▃▄▄▄▄▅▅▅▅▆▆▆▇▇▇▇██</td></tr><tr><td>_timestamp</td><td>▁▂▂▂▂▃▃▃▄▄▄▄▅▅▅▅▆▆▆▇▇▇▇██</td></tr></table><br/>"
            ],
            "text/plain": [
              "<IPython.core.display.HTML object>"
            ]
          },
          "metadata": {
            "tags": []
          }
        },
        {
          "output_type": "display_data",
          "data": {
            "text/html": [
              "Synced 5 W&B file(s), 0 media file(s), 0 artifact file(s) and 0 other file(s)"
            ],
            "text/plain": [
              "<IPython.core.display.HTML object>"
            ]
          },
          "metadata": {
            "tags": []
          }
        },
        {
          "output_type": "display_data",
          "data": {
            "text/html": [
              "\n",
              "                    <br/>Synced <strong style=\"color:#cdcd00\">asd-diagnet-dim-ho---fold-8-rp-2</strong>: <a href=\"https://wandb.ai/pindi-krishna/asd2/runs/dim---ho-fold-8-rp-2\" target=\"_blank\">https://wandb.ai/pindi-krishna/asd2/runs/dim---ho-fold-8-rp-2</a><br/>\n",
              "                "
            ],
            "text/plain": [
              "<IPython.core.display.HTML object>"
            ]
          },
          "metadata": {
            "tags": []
          }
        },
        {
          "output_type": "display_data",
          "data": {
            "text/html": [
              "\n",
              "                Tracking run with wandb version 0.10.5<br/>\n",
              "                Syncing run <strong style=\"color:#cdcd00\">asd-diagnet-dim-ho---fold-9-rp-2</strong> to <a href=\"https://wandb.ai\" target=\"_blank\">Weights & Biases</a> <a href=\"https://docs.wandb.com/integrations/jupyter.html\" target=\"_blank\">(Documentation)</a>.<br/>\n",
              "                Project page: <a href=\"https://wandb.ai/pindi-krishna/asd2\" target=\"_blank\">https://wandb.ai/pindi-krishna/asd2</a><br/>\n",
              "                Run page: <a href=\"https://wandb.ai/pindi-krishna/asd2/runs/dim---ho-fold-9-rp-2\" target=\"_blank\">https://wandb.ai/pindi-krishna/asd2/runs/dim---ho-fold-9-rp-2</a><br/>\n",
              "                Run data is saved locally in <code>wandb/run-20201012_162102-dim---ho-fold-9-rp-2</code><br/><br/>\n",
              "            "
            ],
            "text/plain": [
              "<IPython.core.display.HTML object>"
            ]
          },
          "metadata": {
            "tags": []
          }
        },
        {
          "output_type": "stream",
          "text": [
            "Epoch 1/26\n",
            " Classifier Train loss: 0.6961, AE Train loss: 90.5503, Train Acc: 0.5075\n",
            "Epoch 2/26\n",
            " Classifier Train loss: 0.6861, AE Train loss: 70.9937, Train Acc: 0.5700\n",
            "Epoch 3/26\n",
            " Classifier Train loss: 0.6762, AE Train loss: 63.7746, Train Acc: 0.6185\n",
            "Epoch 4/26\n",
            " Classifier Train loss: 0.6684, AE Train loss: 58.3535, Train Acc: 0.6228\n",
            "Epoch 5/26\n",
            " Classifier Train loss: 0.6609, AE Train loss: 53.9029, Train Acc: 0.6573\n",
            "Epoch 6/26\n",
            " Classifier Train loss: 0.6529, AE Train loss: 50.2380, Train Acc: 0.6412\n",
            "Epoch 7/26\n",
            " Classifier Train loss: 0.6473, AE Train loss: 47.0897, Train Acc: 0.6595\n",
            "Epoch 8/26\n",
            " Classifier Train loss: 0.6416, AE Train loss: 44.3287, Train Acc: 0.6562\n",
            "Epoch 9/26\n",
            " Classifier Train loss: 0.6374, AE Train loss: 41.8900, Train Acc: 0.6519\n",
            "Epoch 10/26\n",
            " Classifier Train loss: 0.6318, AE Train loss: 39.7571, Train Acc: 0.6692\n",
            "Epoch 11/26\n",
            " Classifier Train loss: 0.6260, AE Train loss: 37.8018, Train Acc: 0.6821\n",
            "Epoch 12/26\n",
            " Classifier Train loss: 0.6216, AE Train loss: 36.0513, Train Acc: 0.6789\n",
            "Epoch 13/26\n",
            " Classifier Train loss: 0.6178, AE Train loss: 34.4176, Train Acc: 0.6810\n",
            "Epoch 14/26\n",
            " Classifier Train loss: 0.6135, AE Train loss: 32.8922, Train Acc: 0.6843\n",
            "Epoch 15/26\n",
            " Classifier Train loss: 0.6099, AE Train loss: 31.5660, Train Acc: 0.6972\n",
            "Epoch 16/26\n",
            " Classifier Train loss: 0.6043, AE Train loss: 30.2926, Train Acc: 0.6994\n",
            "Epoch 17/26\n",
            " Classifier Train loss: 0.6021, AE Train loss: 29.1529, Train Acc: 0.7058\n",
            "Epoch 18/26\n",
            " Classifier Train loss: 0.5965, AE Train loss: 28.0603, Train Acc: 0.7123\n",
            "Epoch 19/26\n",
            " Classifier Train loss: 0.5940, AE Train loss: 27.0350, Train Acc: 0.7112\n",
            "Epoch 20/26\n",
            " Classifier Train loss: 0.5900, AE Train loss: 26.1021, Train Acc: 0.7220\n",
            "Epoch 21/26\n",
            " Classifier Train loss: 0.5863, AE Train loss: 0.0000, Train Acc: 0.7284\n",
            "Epoch 22/26\n",
            " Classifier Train loss: 0.5839, AE Train loss: 0.0000, Train Acc: 0.7220\n",
            "Epoch 23/26\n",
            " Classifier Train loss: 0.5785, AE Train loss: 0.0000, Train Acc: 0.7198\n",
            "Epoch 24/26\n",
            " Classifier Train loss: 0.5759, AE Train loss: 0.0000, Train Acc: 0.7381\n",
            "Epoch 25/26\n",
            " Classifier Train loss: 0.5717, AE Train loss: 0.0000, Train Acc: 0.7414\n",
            "-----------------------------\n",
            "Fold 9/10\n",
            "{'accuracy': 0.6796, 'senstivity': 0.78, 'specificity': 0.5849, 'loss': 0.583}\n",
            "-----------------------------\n"
          ],
          "name": "stdout"
        },
        {
          "output_type": "stream",
          "text": [
            "\u001b[34m\u001b[1mwandb\u001b[0m: \u001b[33mWARNING\u001b[0m Calling wandb.login() after wandb.init() has no effect.\n"
          ],
          "name": "stderr"
        },
        {
          "output_type": "display_data",
          "data": {
            "text/html": [
              "<br/>Waiting for W&B process to finish, PID 11969<br/>Program ended successfully."
            ],
            "text/plain": [
              "<IPython.core.display.HTML object>"
            ]
          },
          "metadata": {
            "tags": []
          }
        },
        {
          "output_type": "display_data",
          "data": {
            "application/vnd.jupyter.widget-view+json": {
              "model_id": "324e2d07281d4039ba586229a32c595b",
              "version_minor": 0,
              "version_major": 2
            },
            "text/plain": [
              "VBox(children=(Label(value=' 0.00MB of 0.00MB uploaded (0.00MB deduped)\\r'), FloatProgress(value=1.0, max=1.0)…"
            ]
          },
          "metadata": {
            "tags": []
          }
        },
        {
          "output_type": "display_data",
          "data": {
            "text/html": [
              "Find user logs for this run at: <code>wandb/run-20201012_162102-dim---ho-fold-9-rp-2/logs/debug.log</code>"
            ],
            "text/plain": [
              "<IPython.core.display.HTML object>"
            ]
          },
          "metadata": {
            "tags": []
          }
        },
        {
          "output_type": "display_data",
          "data": {
            "text/html": [
              "Find internal logs for this run at: <code>wandb/run-20201012_162102-dim---ho-fold-9-rp-2/logs/debug-internal.log</code>"
            ],
            "text/plain": [
              "<IPython.core.display.HTML object>"
            ]
          },
          "metadata": {
            "tags": []
          }
        },
        {
          "output_type": "display_data",
          "data": {
            "text/html": [
              "<h3>Run summary:</h3><br/><style>\n",
              "    table.wandb td:nth-child(1) { padding: 0 10px; text-align: right }\n",
              "    </style><table class=\"wandb\">\n",
              "<tr><td>Classifier Train loss</td><td>0.5717</td></tr><tr><td>Train accuracy</td><td>0.74138</td></tr><tr><td>AE Train loss</td><td>0.0</td></tr><tr><td>_step</td><td>24</td></tr><tr><td>_runtime</td><td>14</td></tr><tr><td>_timestamp</td><td>1602519680</td></tr></table>"
            ],
            "text/plain": [
              "<IPython.core.display.HTML object>"
            ]
          },
          "metadata": {
            "tags": []
          }
        },
        {
          "output_type": "display_data",
          "data": {
            "text/html": [
              "<h3>Run history:</h3><br/><style>\n",
              "    table.wandb td:nth-child(1) { padding: 0 10px; text-align: right }\n",
              "    </style><table class=\"wandb\">\n",
              "<tr><td>Classifier Train loss</td><td>█▇▇▆▆▆▅▅▅▄▄▄▄▃▃▃▃▂▂▂▂▂▁▁▁</td></tr><tr><td>Train accuracy</td><td>▁▃▄▄▅▅▆▅▅▆▆▆▆▆▇▇▇▇▇▇█▇▇██</td></tr><tr><td>AE Train loss</td><td>█▆▆▆▅▅▅▄▄▄▄▄▄▄▃▃▃▃▃▃▁▁▁▁▁</td></tr><tr><td>_step</td><td>▁▁▂▂▂▂▃▃▃▄▄▄▅▅▅▅▆▆▆▇▇▇▇██</td></tr><tr><td>_runtime</td><td>▁▁▂▂▂▂▃▃▃▃▄▄▅▅▅▆▆▆▆▇▇▇▇██</td></tr><tr><td>_timestamp</td><td>▁▁▂▂▂▂▃▃▃▃▄▄▅▅▅▆▆▆▆▇▇▇▇██</td></tr></table><br/>"
            ],
            "text/plain": [
              "<IPython.core.display.HTML object>"
            ]
          },
          "metadata": {
            "tags": []
          }
        },
        {
          "output_type": "display_data",
          "data": {
            "text/html": [
              "Synced 5 W&B file(s), 0 media file(s), 0 artifact file(s) and 0 other file(s)"
            ],
            "text/plain": [
              "<IPython.core.display.HTML object>"
            ]
          },
          "metadata": {
            "tags": []
          }
        },
        {
          "output_type": "display_data",
          "data": {
            "text/html": [
              "\n",
              "                    <br/>Synced <strong style=\"color:#cdcd00\">asd-diagnet-dim-ho---fold-9-rp-2</strong>: <a href=\"https://wandb.ai/pindi-krishna/asd2/runs/dim---ho-fold-9-rp-2\" target=\"_blank\">https://wandb.ai/pindi-krishna/asd2/runs/dim---ho-fold-9-rp-2</a><br/>\n",
              "                "
            ],
            "text/plain": [
              "<IPython.core.display.HTML object>"
            ]
          },
          "metadata": {
            "tags": []
          }
        },
        {
          "output_type": "display_data",
          "data": {
            "text/html": [
              "\n",
              "                Tracking run with wandb version 0.10.5<br/>\n",
              "                Syncing run <strong style=\"color:#cdcd00\">asd-diagnet-dim-ho---fold-10-rp-2</strong> to <a href=\"https://wandb.ai\" target=\"_blank\">Weights & Biases</a> <a href=\"https://docs.wandb.com/integrations/jupyter.html\" target=\"_blank\">(Documentation)</a>.<br/>\n",
              "                Project page: <a href=\"https://wandb.ai/pindi-krishna/asd2\" target=\"_blank\">https://wandb.ai/pindi-krishna/asd2</a><br/>\n",
              "                Run page: <a href=\"https://wandb.ai/pindi-krishna/asd2/runs/dim---ho-fold-10-rp-2\" target=\"_blank\">https://wandb.ai/pindi-krishna/asd2/runs/dim---ho-fold-10-rp-2</a><br/>\n",
              "                Run data is saved locally in <code>wandb/run-20201012_162120-dim---ho-fold-10-rp-2</code><br/><br/>\n",
              "            "
            ],
            "text/plain": [
              "<IPython.core.display.HTML object>"
            ]
          },
          "metadata": {
            "tags": []
          }
        },
        {
          "output_type": "stream",
          "text": [
            "Epoch 1/26\n",
            " Classifier Train loss: 0.6937, AE Train loss: 91.0315, Train Acc: 0.5011\n",
            "Epoch 2/26\n",
            " Classifier Train loss: 0.6832, AE Train loss: 71.3166, Train Acc: 0.5819\n",
            "Epoch 3/26\n",
            " Classifier Train loss: 0.6750, AE Train loss: 63.8510, Train Acc: 0.5916\n",
            "Epoch 4/26\n",
            " Classifier Train loss: 0.6664, AE Train loss: 58.3194, Train Acc: 0.6196\n",
            "Epoch 5/26\n",
            " Classifier Train loss: 0.6592, AE Train loss: 53.9063, Train Acc: 0.6336\n",
            "Epoch 6/26\n",
            " Classifier Train loss: 0.6523, AE Train loss: 50.2412, Train Acc: 0.6422\n",
            "Epoch 7/26\n",
            " Classifier Train loss: 0.6461, AE Train loss: 47.0910, Train Acc: 0.6498\n",
            "Epoch 8/26\n",
            " Classifier Train loss: 0.6413, AE Train loss: 44.3536, Train Acc: 0.6606\n",
            "Epoch 9/26\n",
            " Classifier Train loss: 0.6344, AE Train loss: 41.8885, Train Acc: 0.6638\n",
            "Epoch 10/26\n",
            " Classifier Train loss: 0.6304, AE Train loss: 39.7653, Train Acc: 0.6735\n",
            "Epoch 11/26\n",
            " Classifier Train loss: 0.6257, AE Train loss: 37.8042, Train Acc: 0.6746\n",
            "Epoch 12/26\n",
            " Classifier Train loss: 0.6208, AE Train loss: 36.0688, Train Acc: 0.6692\n",
            "Epoch 13/26\n",
            " Classifier Train loss: 0.6162, AE Train loss: 34.4543, Train Acc: 0.6983\n",
            "Epoch 14/26\n",
            " Classifier Train loss: 0.6110, AE Train loss: 32.9541, Train Acc: 0.7058\n",
            "Epoch 15/26\n",
            " Classifier Train loss: 0.6076, AE Train loss: 31.6263, Train Acc: 0.6950\n",
            "Epoch 16/26\n",
            " Classifier Train loss: 0.6030, AE Train loss: 30.3269, Train Acc: 0.7134\n",
            "Epoch 17/26\n",
            " Classifier Train loss: 0.5992, AE Train loss: 29.1792, Train Acc: 0.7058\n",
            "Epoch 18/26\n",
            " Classifier Train loss: 0.5952, AE Train loss: 28.0912, Train Acc: 0.7155\n",
            "Epoch 19/26\n",
            " Classifier Train loss: 0.5912, AE Train loss: 27.0828, Train Acc: 0.7274\n",
            "Epoch 20/26\n",
            " Classifier Train loss: 0.5882, AE Train loss: 26.1504, Train Acc: 0.7241\n",
            "Epoch 21/26\n",
            " Classifier Train loss: 0.5839, AE Train loss: 0.0000, Train Acc: 0.7328\n",
            "Epoch 22/26\n",
            " Classifier Train loss: 0.5808, AE Train loss: 0.0000, Train Acc: 0.7360\n",
            "Epoch 23/26\n",
            " Classifier Train loss: 0.5761, AE Train loss: 0.0000, Train Acc: 0.7349\n",
            "Epoch 24/26\n",
            " Classifier Train loss: 0.5731, AE Train loss: 0.0000, Train Acc: 0.7284\n",
            "Epoch 25/26\n",
            " Classifier Train loss: 0.5693, AE Train loss: 0.0000, Train Acc: 0.7425\n",
            "-----------------------------\n",
            "Fold 10/10\n",
            "{'accuracy': 0.6602, 'senstivity': 0.54, 'specificity': 0.7736, 'loss': 0.6206}\n",
            "-----------------------------\n",
            "*********************************\n",
            "Average Value after 10 Folds and repeats one 2------->\n",
            "Accuracy: 0.6656, Senstivity: 0.5681, Specificity: 0.7585, Loss: 0.6201000213623047\n",
            "*********************************\n",
            "Average Value after : 2  Repeat:\n",
            "Accuracy: 0.6667, Senstivity: 0.586, Specificity: 0.7434, Loss: 0.6200000047683716\n",
            "353.5167534351349\n"
          ],
          "name": "stdout"
        }
      ]
    },
    {
      "cell_type": "code",
      "metadata": {
        "id": "hjK5a823btbg"
      },
      "source": [
        ""
      ],
      "execution_count": null,
      "outputs": []
    },
    {
      "cell_type": "markdown",
      "metadata": {
        "id": "c7t9pUGg5BsV"
      },
      "source": [
        "### Temporary"
      ]
    },
    {
      "cell_type": "code",
      "metadata": {
        "id": "CFh5FtoM42eu",
        "outputId": "63483c72-f547-485a-9ac1-98c81174006b",
        "colab": {
          "base_uri": "https://localhost:8080/",
          "height": 942
        }
      },
      "source": [
        "model = torch.load('./asd-diagnet-dim-cc200400-fold-7-rp-1.pt')\n",
        "model"
      ],
      "execution_count": null,
      "outputs": [
        {
          "output_type": "execute_result",
          "data": {
            "text/plain": [
              "{'fold': 7,\n",
              " 'model': OrderedDict([('fc_encoder.weight',\n",
              "               tensor([[ 9.8775e-04,  3.5840e-03, -5.0433e-03,  ...,  2.2692e-03,\n",
              "                         3.6612e-03, -2.2935e-03],\n",
              "                       [ 1.7976e-03, -2.2401e-03,  2.3233e-03,  ..., -1.7451e-03,\n",
              "                        -9.7384e-05,  1.1912e-03],\n",
              "                       [ 1.0317e-03, -2.4080e-03, -3.8270e-03,  ...,  3.6958e-04,\n",
              "                        -4.1012e-04,  7.2200e-04],\n",
              "                       ...,\n",
              "                       [-1.0043e-03, -1.5602e-03,  1.0857e-03,  ...,  6.5338e-04,\n",
              "                        -5.5023e-03, -2.0529e-03],\n",
              "                       [ 3.2595e-03, -3.7526e-04,  3.7544e-03,  ..., -1.8052e-03,\n",
              "                        -1.0236e-03,  3.9574e-03],\n",
              "                       [-4.2296e-03,  4.1404e-03,  2.6438e-03,  ..., -3.1233e-04,\n",
              "                         4.6448e-03,  2.1198e-04]], device='cuda:0')),\n",
              "              ('fc_encoder.bias',\n",
              "               tensor([-0.0256,  0.0169, -0.0308,  ...,  0.0162,  0.0194,  0.0854],\n",
              "                      device='cuda:0')),\n",
              "              ('classifier.0.weight',\n",
              "               tensor([[ 0.0047, -0.0155, -0.0056,  ...,  0.0095, -0.0031, -0.0135]],\n",
              "                      device='cuda:0')),\n",
              "              ('classifier.0.bias', tensor([0.0038], device='cuda:0'))]),\n",
              " 'optimizer': {'param_groups': [{'dampening': 0,\n",
              "    'lr': 0.0001,\n",
              "    'momentum': 0.9,\n",
              "    'nesterov': False,\n",
              "    'params': [0, 1],\n",
              "    'weight_decay': 0},\n",
              "   {'dampening': 0,\n",
              "    'lr': 1e-05,\n",
              "    'momentum': 0.9,\n",
              "    'nesterov': False,\n",
              "    'params': [2, 3],\n",
              "    'weight_decay': 0}],\n",
              "  'state': {0: {'momentum_buffer': tensor([[ 1.7320e-04,  3.2992e-04,  2.4402e-04,  ..., -2.3417e-04,\n",
              "             -1.4215e-04, -3.6382e-04],\n",
              "            [ 5.1294e-04,  1.4206e-04,  5.0165e-04,  ...,  9.9974e-05,\n",
              "             -6.2431e-04,  2.4293e-04],\n",
              "            [ 4.4245e-04,  2.9517e-04,  2.6865e-04,  ..., -5.4929e-07,\n",
              "              7.5465e-06,  1.7237e-04],\n",
              "            ...,\n",
              "            [ 4.9315e-04,  6.6415e-04,  6.8293e-04,  ..., -5.1228e-04,\n",
              "             -1.7806e-04, -5.7384e-04],\n",
              "            [ 2.5942e-04,  1.9223e-04,  2.7445e-04,  ..., -1.0472e-04,\n",
              "             -1.1323e-04,  3.2372e-06],\n",
              "            [-1.2560e-03, -1.4468e-03, -1.6053e-03,  ...,  6.6463e-04,\n",
              "              5.3501e-04,  8.7575e-04]], device='cuda:0')},\n",
              "   1: {'momentum_buffer': tensor([ 0.0002,  0.0011,  0.0006,  ...,  0.0004,  0.0003, -0.0012],\n",
              "           device='cuda:0')},\n",
              "   2: {'momentum_buffer': tensor([[ 0.0696, -0.1662,  0.2114,  ..., -0.1395, -0.2935,  0.1410]],\n",
              "           device='cuda:0')},\n",
              "   3: {'momentum_buffer': tensor([-0.0739], device='cuda:0')}}},\n",
              " 'repitition': 1}"
            ]
          },
          "metadata": {
            "tags": []
          },
          "execution_count": 24
        }
      ]
    },
    {
      "cell_type": "code",
      "metadata": {
        "id": "d4za9s1H45Xm"
      },
      "source": [
        "del model"
      ],
      "execution_count": null,
      "outputs": []
    },
    {
      "cell_type": "markdown",
      "metadata": {
        "id": "YPBVW9Oh48hr"
      },
      "source": [
        "### Not required now "
      ]
    },
    {
      "cell_type": "code",
      "metadata": {
        "id": "D2MIPZpPC5gr",
        "outputId": "ea38dc9c-307d-432f-bc10-12cd123941d1",
        "colab": {
          "base_uri": "https://localhost:8080/",
          "height": 1000,
          "referenced_widgets": [
            "c918e3dd96e341dd851ea814a63c28ac",
            "3b976295b8d64d0da24f77c135b326b1",
            "9f98ef94862a49b0b66b033bf0829b4b",
            "7adf442ce0f44217ac941cbe3e743ec7",
            "a406b95d07b548b2a2c0f993a24c7de9",
            "fca1fdfe827b4532a52724012c4d1dd1",
            "4d2d2020c86e4a9696cc3af2a1548e20",
            "1928e4bfece74be4acd907bda9a1066e"
          ]
        }
      },
      "source": [
        "\n",
        "if p_Method == \"ASD-DiagNet\" and p_mode == \"whole\":\n",
        "    \n",
        "    num_corr = len(all_corr[flist[0]][0])\n",
        "    print(\"num_corr:  \",num_corr)\n",
        "    \n",
        "    start =time.time()\n",
        "    batch_size = 8\n",
        "    learning_rate_ae, learning_rate_clf = 0.0001, 0.0001\n",
        "    num_epochs = 25\n",
        "\n",
        "    p_bernoulli = None\n",
        "    augmentation = p_augmentation\n",
        "    use_dropout = False\n",
        "\n",
        "    aug_factor = 2\n",
        "    num_neighbs = 5\n",
        "    lim4sim = 2\n",
        "    n_lat = int(num_corr/4)\n",
        "    print(n_lat)\n",
        "    start= time.time()\n",
        "\n",
        "    print('p_bernoulli: ', p_bernoulli)\n",
        "    print('augmentaiton: ', augmentation, 'aug_factor: ', aug_factor, \n",
        "          'num_neighbs: ', num_neighbs, 'lim4sim: ', lim4sim)\n",
        "    print('use_dropout: ', use_dropout, '\\n')\n",
        "\n",
        "\n",
        "#     sim_function = functools.partial(cal_similarity, lim=lim4sim)\n",
        "    \n",
        "    \n",
        "    y_arr = np.array([get_label(f) for f in flist])\n",
        "    flist = np.array(flist)\n",
        "    kk=0 \n",
        "    \n",
        "    # list to store metrics after each fold\n",
        "    repeat_acc=[]\n",
        "    repeat_sen=[]\n",
        "    repeat_spec=[]\n",
        "    repeat_loss=[]\n",
        "    \n",
        "    \n",
        "    for rp in range(2):\n",
        "        kf = StratifiedKFold(n_splits=p_fold, random_state=1, shuffle=True)\n",
        "        np.random.shuffle(flist)\n",
        "        y_arr = np.array([get_label(f) for f in flist])\n",
        "    # list to store metrics after each fold\n",
        "        crossval_acc=[]\n",
        "        crossval_sen=[]\n",
        "        crossval_spec=[]\n",
        "        crossval_loss=[]\n",
        "        \n",
        "        for kk,(train_index, test_index) in enumerate(kf.split(flist, y_arr)):\n",
        "            \n",
        "            #init wandb \n",
        "            NAME = f'asd-diagnet-noaug-fold-{kk+1}-rp-{rp+1}'\n",
        "            ID = f'noaug-fold-{kk+1}-rp-{rp+1}'\n",
        "            wandb.init(project = 'asd2', name=NAME, id=ID)\n",
        "            \n",
        "            train_samples, test_samples = flist[train_index], flist[test_index]\n",
        "\n",
        "\n",
        "            verbose = (True if (kk == 0) else False)\n",
        "\n",
        "            regions_inds = get_regs(train_samples,int(num_corr/4))\n",
        "\n",
        "            num_inpp = len(regions_inds)\n",
        "            n_lat = int(num_inpp/2)\n",
        "            \n",
        "            # train_loader=get_loader(data=all_corr, samples_list=train_samples, \n",
        "            #                         batch_size=batch_size, mode='train',verbose=verbose,regions=regions_inds)\n",
        "\n",
        "            # test_loader=get_loader(data=all_corr, samples_list=test_samples, \n",
        "            #                        batch_size = batch_size, mode='test', augmentation=False, \n",
        "            #                        verbose=verbose,regions=regions_inds)\n",
        "            \n",
        "            train_loader=get_loader(data=all_corr, samples_list=train_samples, \n",
        "                                    batch_size=batch_size, mode='train',\n",
        "                                    augmentation=augmentation, aug_factor=aug_factor, \n",
        "                                    num_neighbs=num_neighbs, eig_data=None, similarity_fn=None, \n",
        "                                    verbose=verbose,regions=regions_inds)\n",
        "\n",
        "            test_loader=get_loader(data=all_corr, samples_list=test_samples, \n",
        "                                   batch_size = batch_size, mode='test', augmentation=False, \n",
        "                                   verbose=verbose,regions=regions_inds)\n",
        "\n",
        "            model = MTAutoEncoder(tied=True, num_inputs=num_inpp, num_latent=n_lat, use_dropout=use_dropout)\n",
        "            model.to(device)\n",
        "            wandb.watch(model, log='all')\n",
        "            criterion_ae = nn.MSELoss(reduction='sum')\n",
        "            criterion_clf = nn.CrossEntropyLoss()\n",
        "            optimizer = optim.SGD([{'params': model.fc_encoder.parameters(), 'lr': learning_rate_ae},\n",
        "                                   {'params': model.classifier.parameters(), 'lr': learning_rate_clf}],\n",
        "                                  momentum=0.9)\n",
        "            # optimizer = optim.Adam(model.parameters(),lr=learning_rate_clf)\n",
        "\n",
        "            for epoch in range(1, num_epochs+1):\n",
        "                if epoch <= 20:\n",
        "                    train_losses, clf_train_loss, ae_train_loss, train_acc = train(model, epoch, train_loader, p_bernoulli, mode='both')\n",
        "                else:\n",
        "                    train_losses, clf_train_loss, ae_train_loss, train_acc = train(model, epoch, train_loader, p_bernoulli, mode='clf')\n",
        "                print(f'Epoch {epoch}/{num_epochs+1}')\n",
        "\n",
        "                wandb.log({'Classifier Train loss': clf_train_loss,\n",
        "                            'Train accuracy': train_acc})\n",
        "\n",
        "                content = f'Classifier Train loss: {(clf_train_loss):.4f}, Train Acc: {(train_acc):.4f}'\n",
        "                print(content)\n",
        "\n",
        "            metrics_dict = test(model, criterion_clf, test_loader, eval_classifier=True)\n",
        "            print(\"-----------------------------\")\n",
        "            print(f'Fold {kk+1}/{p_fold}')\n",
        "            content = f'{metrics_dict}'\n",
        "            print(content)\n",
        "            print(\"-----------------------------\")\n",
        "            \n",
        "            crossval_acc.append(metrics_dict['accuracy'])\n",
        "            crossval_sen.append(metrics_dict['senstivity'])\n",
        "            crossval_spec.append(metrics_dict['specificity'])\n",
        "            crossval_loss.append(metrics_dict['loss'])\n",
        "            \n",
        "            #save the model after each fold\n",
        "            \n",
        "            recorder = {'optimizer': optimizer.state_dict(),\n",
        "            'model': model.state_dict(),\n",
        "            'fold' : kk+1,\n",
        "            'repitition' : rp+1}\n",
        "\n",
        "            torch.save(recorder, f'{NAME}.pt')\n",
        "            \n",
        "        print(\"*********************************\")    \n",
        "        print(f'Average Value after 10 Folds and repeats one {rp+1}------->')\n",
        "        content = f'Accuracy: {np.round(np.mean(crossval_acc),4)}, Senstivity: {np.round(np.mean(crossval_sen),4)}, Specificity: {np.round(np.mean(crossval_spec),4)}, Loss: {np.round(np.mean(crossval_loss),4)}'\n",
        "        print(content)\n",
        "        print(\"*********************************\") \n",
        "        \n",
        "        repeat_acc.append(np.mean(crossval_acc))\n",
        "        repeat_sen.append(np.mean(crossval_sen))\n",
        "        repeat_spec.append(np.mean(crossval_spec))\n",
        "        repeat_loss.append(np.mean(crossval_loss))\n",
        "    \n",
        "    print(f\"Average Value after :\",rp+1,\" Repeat:\")\n",
        "    content = f'Accuracy: {np.round(np.mean(repeat_acc),4)}, Senstivity: {np.round(np.mean(repeat_sen),4)}, Specificity: {np.round(np.mean(repeat_spec),4)}, Loss: {np.round(np.mean(repeat_loss),4)}'\n",
        "    print(content)\n",
        "        \n",
        "    finish= time.time()\n",
        "    print(finish-start)\n",
        "\n",
        "\n"
      ],
      "execution_count": null,
      "outputs": [
        {
          "output_type": "stream",
          "text": [
            "\u001b[34m\u001b[1mwandb\u001b[0m: \u001b[33mWARNING\u001b[0m Calling wandb.login() after wandb.init() has no effect.\n"
          ],
          "name": "stderr"
        },
        {
          "output_type": "stream",
          "text": [
            "num_corr:   19900\n",
            "4975\n",
            "p_bernoulli:  None\n",
            "augmentaiton:  False aug_factor:  2 num_neighbs:  5 lim4sim:  2\n",
            "use_dropout:  False \n",
            "\n"
          ],
          "name": "stdout"
        },
        {
          "output_type": "display_data",
          "data": {
            "text/html": [
              "<br/>Waiting for W&B process to finish, PID 652<br/>Program ended successfully."
            ],
            "text/plain": [
              "<IPython.core.display.HTML object>"
            ]
          },
          "metadata": {
            "tags": []
          }
        },
        {
          "output_type": "display_data",
          "data": {
            "application/vnd.jupyter.widget-view+json": {
              "model_id": "c918e3dd96e341dd851ea814a63c28ac",
              "version_minor": 0,
              "version_major": 2
            },
            "text/plain": [
              "VBox(children=(Label(value=' 0.00MB of 0.00MB uploaded (0.00MB deduped)\\r'), FloatProgress(value=1.0, max=1.0)…"
            ]
          },
          "metadata": {
            "tags": []
          }
        },
        {
          "output_type": "display_data",
          "data": {
            "text/html": [
              "Find user logs for this run at: <code>wandb/run-20201003_123821-noaug-fold-1-rp-1/logs/debug.log</code>"
            ],
            "text/plain": [
              "<IPython.core.display.HTML object>"
            ]
          },
          "metadata": {
            "tags": []
          }
        },
        {
          "output_type": "display_data",
          "data": {
            "text/html": [
              "Find internal logs for this run at: <code>wandb/run-20201003_123821-noaug-fold-1-rp-1/logs/debug-internal.log</code>"
            ],
            "text/plain": [
              "<IPython.core.display.HTML object>"
            ]
          },
          "metadata": {
            "tags": []
          }
        },
        {
          "output_type": "display_data",
          "data": {
            "text/html": [
              "Synced 5 W&B file(s), 0 media file(s), 0 artifact file(s) and 0 other file(s)"
            ],
            "text/plain": [
              "<IPython.core.display.HTML object>"
            ]
          },
          "metadata": {
            "tags": []
          }
        },
        {
          "output_type": "display_data",
          "data": {
            "text/html": [
              "\n",
              "                    <br/>Synced <strong style=\"color:#cdcd00\">asd-diagnet-noaug-fold-1-rp-1</strong>: <a href=\"https://wandb.ai/pindi-krishna/asd2/runs/noaug-fold-1-rp-1\" target=\"_blank\">https://wandb.ai/pindi-krishna/asd2/runs/noaug-fold-1-rp-1</a><br/>\n",
              "                "
            ],
            "text/plain": [
              "<IPython.core.display.HTML object>"
            ]
          },
          "metadata": {
            "tags": []
          }
        },
        {
          "output_type": "display_data",
          "data": {
            "text/html": [
              "\n",
              "                Tracking run with wandb version 0.10.4<br/>\n",
              "                Syncing run <strong style=\"color:#cdcd00\">asd-diagnet-noaug-fold-1-rp-1</strong> to <a href=\"https://wandb.ai\" target=\"_blank\">Weights & Biases</a> <a href=\"https://docs.wandb.com/integrations/jupyter.html\" target=\"_blank\">(Documentation)</a>.<br/>\n",
              "                Project page: <a href=\"https://wandb.ai/pindi-krishna/asd2\" target=\"_blank\">https://wandb.ai/pindi-krishna/asd2</a><br/>\n",
              "                Run page: <a href=\"https://wandb.ai/pindi-krishna/asd2/runs/noaug-fold-1-rp-1\" target=\"_blank\">https://wandb.ai/pindi-krishna/asd2/runs/noaug-fold-1-rp-1</a><br/>\n",
              "                Run data is saved locally in <code>wandb/run-20201003_124350-noaug-fold-1-rp-1</code><br/><br/>\n",
              "            "
            ],
            "text/plain": [
              "<IPython.core.display.HTML object>"
            ]
          },
          "metadata": {
            "tags": []
          }
        },
        {
          "output_type": "error",
          "ename": "RuntimeError",
          "evalue": "ignored",
          "traceback": [
            "\u001b[0;31m---------------------------------------------------------------------------\u001b[0m",
            "\u001b[0;31mRuntimeError\u001b[0m                              Traceback (most recent call last)",
            "\u001b[0;32m<ipython-input-35-cc66124de9d0>\u001b[0m in \u001b[0;36m<module>\u001b[0;34m()\u001b[0m\n\u001b[1;32m     97\u001b[0m             \u001b[0;32mfor\u001b[0m \u001b[0mepoch\u001b[0m \u001b[0;32min\u001b[0m \u001b[0mrange\u001b[0m\u001b[0;34m(\u001b[0m\u001b[0;36m1\u001b[0m\u001b[0;34m,\u001b[0m \u001b[0mnum_epochs\u001b[0m\u001b[0;34m+\u001b[0m\u001b[0;36m1\u001b[0m\u001b[0;34m)\u001b[0m\u001b[0;34m:\u001b[0m\u001b[0;34m\u001b[0m\u001b[0;34m\u001b[0m\u001b[0m\n\u001b[1;32m     98\u001b[0m                 \u001b[0;32mif\u001b[0m \u001b[0mepoch\u001b[0m \u001b[0;34m<=\u001b[0m \u001b[0;36m20\u001b[0m\u001b[0;34m:\u001b[0m\u001b[0;34m\u001b[0m\u001b[0;34m\u001b[0m\u001b[0m\n\u001b[0;32m---> 99\u001b[0;31m                     \u001b[0mtrain_losses\u001b[0m\u001b[0;34m,\u001b[0m \u001b[0mclf_train_loss\u001b[0m\u001b[0;34m,\u001b[0m \u001b[0mae_train_loss\u001b[0m\u001b[0;34m,\u001b[0m \u001b[0mtrain_acc\u001b[0m \u001b[0;34m=\u001b[0m \u001b[0mtrain\u001b[0m\u001b[0;34m(\u001b[0m\u001b[0mmodel\u001b[0m\u001b[0;34m,\u001b[0m \u001b[0mepoch\u001b[0m\u001b[0;34m,\u001b[0m \u001b[0mtrain_loader\u001b[0m\u001b[0;34m,\u001b[0m \u001b[0mp_bernoulli\u001b[0m\u001b[0;34m,\u001b[0m \u001b[0mmode\u001b[0m\u001b[0;34m=\u001b[0m\u001b[0;34m'both'\u001b[0m\u001b[0;34m)\u001b[0m\u001b[0;34m\u001b[0m\u001b[0;34m\u001b[0m\u001b[0m\n\u001b[0m\u001b[1;32m    100\u001b[0m                 \u001b[0;32melse\u001b[0m\u001b[0;34m:\u001b[0m\u001b[0;34m\u001b[0m\u001b[0;34m\u001b[0m\u001b[0m\n\u001b[1;32m    101\u001b[0m                     \u001b[0mtrain_losses\u001b[0m\u001b[0;34m,\u001b[0m \u001b[0mclf_train_loss\u001b[0m\u001b[0;34m,\u001b[0m \u001b[0mae_train_loss\u001b[0m\u001b[0;34m,\u001b[0m \u001b[0mtrain_acc\u001b[0m \u001b[0;34m=\u001b[0m \u001b[0mtrain\u001b[0m\u001b[0;34m(\u001b[0m\u001b[0mmodel\u001b[0m\u001b[0;34m,\u001b[0m \u001b[0mepoch\u001b[0m\u001b[0;34m,\u001b[0m \u001b[0mtrain_loader\u001b[0m\u001b[0;34m,\u001b[0m \u001b[0mp_bernoulli\u001b[0m\u001b[0;34m,\u001b[0m \u001b[0mmode\u001b[0m\u001b[0;34m=\u001b[0m\u001b[0;34m'clf'\u001b[0m\u001b[0;34m)\u001b[0m\u001b[0;34m\u001b[0m\u001b[0;34m\u001b[0m\u001b[0m\n",
            "\u001b[0;32m<ipython-input-34-936780f6fecd>\u001b[0m in \u001b[0;36mtrain\u001b[0;34m(model, epoch, train_loader, p_bernoulli, mode, lam_factor)\u001b[0m\n\u001b[1;32m     23\u001b[0m         \u001b[0;32mif\u001b[0m \u001b[0mmode\u001b[0m \u001b[0;32min\u001b[0m \u001b[0;34m[\u001b[0m\u001b[0;34m'both'\u001b[0m\u001b[0;34m,\u001b[0m \u001b[0;34m'clf'\u001b[0m\u001b[0;34m]\u001b[0m\u001b[0;34m:\u001b[0m\u001b[0;34m\u001b[0m\u001b[0;34m\u001b[0m\u001b[0m\n\u001b[1;32m     24\u001b[0m             \u001b[0mrec_clean\u001b[0m\u001b[0;34m,\u001b[0m \u001b[0mlogits\u001b[0m \u001b[0;34m=\u001b[0m \u001b[0mmodel\u001b[0m\u001b[0;34m(\u001b[0m\u001b[0mdata\u001b[0m\u001b[0;34m,\u001b[0m \u001b[0;32mTrue\u001b[0m\u001b[0;34m)\u001b[0m\u001b[0;34m\u001b[0m\u001b[0;34m\u001b[0m\u001b[0m\n\u001b[0;32m---> 25\u001b[0;31m             \u001b[0mloss_clf\u001b[0m \u001b[0;34m=\u001b[0m \u001b[0mcriterion_clf\u001b[0m\u001b[0;34m(\u001b[0m\u001b[0mlogits\u001b[0m\u001b[0;34m,\u001b[0m \u001b[0mtarget\u001b[0m\u001b[0;34m)\u001b[0m\u001b[0;34m\u001b[0m\u001b[0;34m\u001b[0m\u001b[0m\n\u001b[0m\u001b[1;32m     26\u001b[0m \u001b[0;34m\u001b[0m\u001b[0m\n\u001b[1;32m     27\u001b[0m         \u001b[0;32mif\u001b[0m \u001b[0mmode\u001b[0m \u001b[0;34m==\u001b[0m \u001b[0;34m'both'\u001b[0m\u001b[0;34m:\u001b[0m\u001b[0;34m\u001b[0m\u001b[0;34m\u001b[0m\u001b[0m\n",
            "\u001b[0;32m/usr/local/lib/python3.6/dist-packages/torch/nn/modules/module.py\u001b[0m in \u001b[0;36m_call_impl\u001b[0;34m(self, *input, **kwargs)\u001b[0m\n\u001b[1;32m    720\u001b[0m             \u001b[0mresult\u001b[0m \u001b[0;34m=\u001b[0m \u001b[0mself\u001b[0m\u001b[0;34m.\u001b[0m\u001b[0m_slow_forward\u001b[0m\u001b[0;34m(\u001b[0m\u001b[0;34m*\u001b[0m\u001b[0minput\u001b[0m\u001b[0;34m,\u001b[0m \u001b[0;34m**\u001b[0m\u001b[0mkwargs\u001b[0m\u001b[0;34m)\u001b[0m\u001b[0;34m\u001b[0m\u001b[0;34m\u001b[0m\u001b[0m\n\u001b[1;32m    721\u001b[0m         \u001b[0;32melse\u001b[0m\u001b[0;34m:\u001b[0m\u001b[0;34m\u001b[0m\u001b[0;34m\u001b[0m\u001b[0m\n\u001b[0;32m--> 722\u001b[0;31m             \u001b[0mresult\u001b[0m \u001b[0;34m=\u001b[0m \u001b[0mself\u001b[0m\u001b[0;34m.\u001b[0m\u001b[0mforward\u001b[0m\u001b[0;34m(\u001b[0m\u001b[0;34m*\u001b[0m\u001b[0minput\u001b[0m\u001b[0;34m,\u001b[0m \u001b[0;34m**\u001b[0m\u001b[0mkwargs\u001b[0m\u001b[0;34m)\u001b[0m\u001b[0;34m\u001b[0m\u001b[0;34m\u001b[0m\u001b[0m\n\u001b[0m\u001b[1;32m    723\u001b[0m         for hook in itertools.chain(\n\u001b[1;32m    724\u001b[0m                 \u001b[0m_global_forward_hooks\u001b[0m\u001b[0;34m.\u001b[0m\u001b[0mvalues\u001b[0m\u001b[0;34m(\u001b[0m\u001b[0;34m)\u001b[0m\u001b[0;34m,\u001b[0m\u001b[0;34m\u001b[0m\u001b[0;34m\u001b[0m\u001b[0m\n",
            "\u001b[0;32m/usr/local/lib/python3.6/dist-packages/torch/nn/modules/loss.py\u001b[0m in \u001b[0;36mforward\u001b[0;34m(self, input, target)\u001b[0m\n\u001b[1;32m    946\u001b[0m     \u001b[0;32mdef\u001b[0m \u001b[0mforward\u001b[0m\u001b[0;34m(\u001b[0m\u001b[0mself\u001b[0m\u001b[0;34m,\u001b[0m \u001b[0minput\u001b[0m\u001b[0;34m:\u001b[0m \u001b[0mTensor\u001b[0m\u001b[0;34m,\u001b[0m \u001b[0mtarget\u001b[0m\u001b[0;34m:\u001b[0m \u001b[0mTensor\u001b[0m\u001b[0;34m)\u001b[0m \u001b[0;34m->\u001b[0m \u001b[0mTensor\u001b[0m\u001b[0;34m:\u001b[0m\u001b[0;34m\u001b[0m\u001b[0;34m\u001b[0m\u001b[0m\n\u001b[1;32m    947\u001b[0m         return F.cross_entropy(input, target, weight=self.weight,\n\u001b[0;32m--> 948\u001b[0;31m                                ignore_index=self.ignore_index, reduction=self.reduction)\n\u001b[0m\u001b[1;32m    949\u001b[0m \u001b[0;34m\u001b[0m\u001b[0m\n\u001b[1;32m    950\u001b[0m \u001b[0;34m\u001b[0m\u001b[0m\n",
            "\u001b[0;32m/usr/local/lib/python3.6/dist-packages/torch/nn/functional.py\u001b[0m in \u001b[0;36mcross_entropy\u001b[0;34m(input, target, weight, size_average, ignore_index, reduce, reduction)\u001b[0m\n\u001b[1;32m   2420\u001b[0m     \u001b[0;32mif\u001b[0m \u001b[0msize_average\u001b[0m \u001b[0;32mis\u001b[0m \u001b[0;32mnot\u001b[0m \u001b[0;32mNone\u001b[0m \u001b[0;32mor\u001b[0m \u001b[0mreduce\u001b[0m \u001b[0;32mis\u001b[0m \u001b[0;32mnot\u001b[0m \u001b[0;32mNone\u001b[0m\u001b[0;34m:\u001b[0m\u001b[0;34m\u001b[0m\u001b[0;34m\u001b[0m\u001b[0m\n\u001b[1;32m   2421\u001b[0m         \u001b[0mreduction\u001b[0m \u001b[0;34m=\u001b[0m \u001b[0m_Reduction\u001b[0m\u001b[0;34m.\u001b[0m\u001b[0mlegacy_get_string\u001b[0m\u001b[0;34m(\u001b[0m\u001b[0msize_average\u001b[0m\u001b[0;34m,\u001b[0m \u001b[0mreduce\u001b[0m\u001b[0;34m)\u001b[0m\u001b[0;34m\u001b[0m\u001b[0;34m\u001b[0m\u001b[0m\n\u001b[0;32m-> 2422\u001b[0;31m     \u001b[0;32mreturn\u001b[0m \u001b[0mnll_loss\u001b[0m\u001b[0;34m(\u001b[0m\u001b[0mlog_softmax\u001b[0m\u001b[0;34m(\u001b[0m\u001b[0minput\u001b[0m\u001b[0;34m,\u001b[0m \u001b[0;36m1\u001b[0m\u001b[0;34m)\u001b[0m\u001b[0;34m,\u001b[0m \u001b[0mtarget\u001b[0m\u001b[0;34m,\u001b[0m \u001b[0mweight\u001b[0m\u001b[0;34m,\u001b[0m \u001b[0;32mNone\u001b[0m\u001b[0;34m,\u001b[0m \u001b[0mignore_index\u001b[0m\u001b[0;34m,\u001b[0m \u001b[0;32mNone\u001b[0m\u001b[0;34m,\u001b[0m \u001b[0mreduction\u001b[0m\u001b[0;34m)\u001b[0m\u001b[0;34m\u001b[0m\u001b[0;34m\u001b[0m\u001b[0m\n\u001b[0m\u001b[1;32m   2423\u001b[0m \u001b[0;34m\u001b[0m\u001b[0m\n\u001b[1;32m   2424\u001b[0m \u001b[0;34m\u001b[0m\u001b[0m\n",
            "\u001b[0;32m/usr/local/lib/python3.6/dist-packages/torch/nn/functional.py\u001b[0m in \u001b[0;36mnll_loss\u001b[0;34m(input, target, weight, size_average, ignore_index, reduce, reduction)\u001b[0m\n\u001b[1;32m   2216\u001b[0m                          .format(input.size(0), target.size(0)))\n\u001b[1;32m   2217\u001b[0m     \u001b[0;32mif\u001b[0m \u001b[0mdim\u001b[0m \u001b[0;34m==\u001b[0m \u001b[0;36m2\u001b[0m\u001b[0;34m:\u001b[0m\u001b[0;34m\u001b[0m\u001b[0;34m\u001b[0m\u001b[0m\n\u001b[0;32m-> 2218\u001b[0;31m         \u001b[0mret\u001b[0m \u001b[0;34m=\u001b[0m \u001b[0mtorch\u001b[0m\u001b[0;34m.\u001b[0m\u001b[0m_C\u001b[0m\u001b[0;34m.\u001b[0m\u001b[0m_nn\u001b[0m\u001b[0;34m.\u001b[0m\u001b[0mnll_loss\u001b[0m\u001b[0;34m(\u001b[0m\u001b[0minput\u001b[0m\u001b[0;34m,\u001b[0m \u001b[0mtarget\u001b[0m\u001b[0;34m,\u001b[0m \u001b[0mweight\u001b[0m\u001b[0;34m,\u001b[0m \u001b[0m_Reduction\u001b[0m\u001b[0;34m.\u001b[0m\u001b[0mget_enum\u001b[0m\u001b[0;34m(\u001b[0m\u001b[0mreduction\u001b[0m\u001b[0;34m)\u001b[0m\u001b[0;34m,\u001b[0m \u001b[0mignore_index\u001b[0m\u001b[0;34m)\u001b[0m\u001b[0;34m\u001b[0m\u001b[0;34m\u001b[0m\u001b[0m\n\u001b[0m\u001b[1;32m   2219\u001b[0m     \u001b[0;32melif\u001b[0m \u001b[0mdim\u001b[0m \u001b[0;34m==\u001b[0m \u001b[0;36m4\u001b[0m\u001b[0;34m:\u001b[0m\u001b[0;34m\u001b[0m\u001b[0;34m\u001b[0m\u001b[0m\n\u001b[1;32m   2220\u001b[0m         \u001b[0mret\u001b[0m \u001b[0;34m=\u001b[0m \u001b[0mtorch\u001b[0m\u001b[0;34m.\u001b[0m\u001b[0m_C\u001b[0m\u001b[0;34m.\u001b[0m\u001b[0m_nn\u001b[0m\u001b[0;34m.\u001b[0m\u001b[0mnll_loss2d\u001b[0m\u001b[0;34m(\u001b[0m\u001b[0minput\u001b[0m\u001b[0;34m,\u001b[0m \u001b[0mtarget\u001b[0m\u001b[0;34m,\u001b[0m \u001b[0mweight\u001b[0m\u001b[0;34m,\u001b[0m \u001b[0m_Reduction\u001b[0m\u001b[0;34m.\u001b[0m\u001b[0mget_enum\u001b[0m\u001b[0;34m(\u001b[0m\u001b[0mreduction\u001b[0m\u001b[0;34m)\u001b[0m\u001b[0;34m,\u001b[0m \u001b[0mignore_index\u001b[0m\u001b[0;34m)\u001b[0m\u001b[0;34m\u001b[0m\u001b[0;34m\u001b[0m\u001b[0m\n",
            "\u001b[0;31mRuntimeError\u001b[0m: Expected object of scalar type Long but got scalar type Float for argument #2 'target' in call to _thnn_nll_loss_forward"
          ]
        }
      ]
    },
    {
      "cell_type": "markdown",
      "metadata": {
        "id": "D2bHabzWC5gu"
      },
      "source": [
        "### OHSU results (2 repeats 5 fold) "
      ]
    },
    {
      "cell_type": "code",
      "metadata": {
        "scrolled": false,
        "id": "Q_VHF88mC5gu",
        "outputId": "bed5eaf7-b3be-4517-fdf5-46fc2160ad40"
      },
      "source": [
        "if p_Method == \"ASD-DiagNet\" and p_mode == \"percenter\":\n",
        "    \n",
        "    num_corr = len(all_corr[flist[0]][0])\n",
        "\n",
        "    flist = os.listdir(data_main_path)\n",
        "\n",
        "    for f in range(len(flist)):\n",
        "        flist[f] = get_key(flist[f])\n",
        "    \n",
        "    centers_dict = {}\n",
        "    for f in flist:\n",
        "        key = f.split('_')[0]\n",
        "\n",
        "        if key not in centers_dict:\n",
        "            centers_dict[key] = []\n",
        "        centers_dict[key].append(f)\n",
        "\n",
        "    \n",
        "\n",
        "    flist = np.array(centers_dict[p_center])\n",
        "    \n",
        "    start =time.time()\n",
        "    batch_size = 8\n",
        "    learning_rate_ae, learning_rate_clf = 0.0001, 0.0001\n",
        "    num_epochs = 25\n",
        "\n",
        "    p_bernoulli = None\n",
        "    augmentation = p_augmentation\n",
        "    use_dropout = False\n",
        "\n",
        "    aug_factor = 2\n",
        "    num_neighbs = 5\n",
        "    lim4sim = 2\n",
        "    n_lat = int(num_corr/4)\n",
        "    print(n_lat)\n",
        "    start= time.time()\n",
        "\n",
        "    print('p_bernoulli: ', p_bernoulli)\n",
        "    print('augmentaiton: ', augmentation, 'aug_factor: ', aug_factor, \n",
        "          'num_neighbs: ', num_neighbs, 'lim4sim: ', lim4sim)\n",
        "    print('use_dropout: ', use_dropout, '\\n')\n",
        "\n",
        "\n",
        "    sim_function = functools.partial(cal_similarity, lim=lim4sim)\n",
        "    \n",
        "    \n",
        "    y_arr = np.array([get_label(f) for f in flist])\n",
        "    flist = np.array(flist)\n",
        "    kk=0\n",
        "    \n",
        "    # list to store metrics after each fold\n",
        "    repeat_acc=[]\n",
        "    repeat_sen=[]\n",
        "    repeat_spec=[]\n",
        "    repeat_loss=[]\n",
        "    \n",
        "    \n",
        "    for rp in range(2):\n",
        "        kf = StratifiedKFold(n_splits=p_fold, random_state=1, shuffle=True)\n",
        "        np.random.shuffle(flist)\n",
        "        y_arr = np.array([get_label(f) for f in flist])\n",
        "    # list to store metrics after each fold\n",
        "        crossval_acc=[]\n",
        "        crossval_sen=[]\n",
        "        crossval_spec=[]\n",
        "        crossval_loss=[]\n",
        "        for kk,(train_index, test_index) in enumerate(kf.split(flist, y_arr)):\n",
        "            \n",
        "            #init wandb \n",
        "            NAME = f'asd-diagnet-site--{p_center}-fold-{kk+1}-rp-{rp+1}'\n",
        "            ID = f'fold-{kk+1}--rp-{rp+1}'\n",
        "            wandb.init(project = 'asd1', name=NAME, id=ID)\n",
        "            \n",
        "            train_samples, test_samples = flist[train_index], flist[test_index]\n",
        "\n",
        "\n",
        "            verbose = (True if (kk == 0) else False)\n",
        "\n",
        "            regions_inds = get_regs(train_samples,int(num_corr/4))\n",
        "\n",
        "            num_inpp = len(regions_inds)\n",
        "            n_lat = int(num_inpp/2)\n",
        "            \n",
        "            train_loader=get_loader(data=all_corr, samples_list=train_samples, \n",
        "                                    batch_size=batch_size, mode='train',\n",
        "                                    augmentation=augmentation, aug_factor=aug_factor, \n",
        "                                    num_neighbs=num_neighbs, eig_data=eig_data, similarity_fn=sim_function, \n",
        "                                    verbose=verbose,regions=regions_inds)\n",
        "\n",
        "            test_loader=get_loader(data=all_corr, samples_list=test_samples, \n",
        "                                   batch_size=batch_size, mode='test', augmentation=False, \n",
        "                                   verbose=verbose,regions=regions_inds)\n",
        "            model = MTAutoEncoder(tied=True, num_inputs=num_inpp, num_latent=n_lat, use_dropout=use_dropout)\n",
        "            model.to(device)\n",
        "            wandb.watch(model, log='all')\n",
        "            criterion_ae = nn.MSELoss(reduction='sum')\n",
        "            criterion_clf = nn.BCEWithLogitsLoss()\n",
        "            optimizer = optim.SGD([{'params': model.fc_encoder.parameters(), 'lr': learning_rate_ae},\n",
        "                                   {'params': model.classifier.parameters(), 'lr': learning_rate_clf}],\n",
        "                                  momentum=0.9)\n",
        "            for epoch in range(1, num_epochs+1):\n",
        "                \n",
        "                if epoch <= 20:\n",
        "                    train_losses, clf_train_loss, ae_train_loss, train_acc = train(model, epoch, train_loader, \n",
        "                                                                        p_bernoulli, mode='both')\n",
        "                else:\n",
        "                    train_losses, clf_train_loss, ae_train_loss, train_acc = train(model, epoch, train_loader, \n",
        "                                                                        p_bernoulli, mode='clf')\n",
        "                print(f'Epoch {epoch}/{num_epochs+1}')\n",
        "                \n",
        "                wandb.log({'Classifier Train loss': clf_train_loss,\n",
        "                           'AE Train loss': ae_train_loss,\n",
        "                            'Train accuracy': train_acc})\n",
        "                \n",
        "                content = f'Classifier Train loss: {(clf_train_loss):.4f}, AE Train loss: {(ae_train_loss):.4f}, Train Acc: {(train_acc):.4f}'\n",
        "                print(content)\n",
        "\n",
        "            metrics_dict = test(model, criterion_clf, test_loader, eval_classifier=True)\n",
        "            print(\"-----------------------------\")\n",
        "            print(f'Fold {kk+1}/{p_fold}')\n",
        "            content = f'{metrics_dict}'\n",
        "            print(content)\n",
        "            print(\"-----------------------------\")\n",
        "            \n",
        "            crossval_acc.append(metrics_dict['accuracy'])\n",
        "            crossval_sen.append(metrics_dict['senstivity'])\n",
        "            crossval_spec.append(metrics_dict['specificity'])\n",
        "            crossval_loss.append(metrics_dict['loss'])\n",
        "            \n",
        "            #save the model after each fold\n",
        "            \n",
        "            recorder = {'optimizer': optimizer.state_dict(),\n",
        "            'model': model.state_dict(),\n",
        "            'fold' : kk+1,\n",
        "            'repitition' : rp+1}\n",
        "            save_model = f'Saved-Models/{NAME}.pt'\n",
        "            torch.save(recorder, save_model)\n",
        "            \n",
        "        print(\"*********************************\")    \n",
        "        print(f'Average Value after 5 Folds and repeats  {rp+1}------->')\n",
        "        content = f'Accuracy: {np.round(np.mean(crossval_acc),4)}, Senstivity: {np.round(np.mean(crossval_sen),4)}, Specificity: {np.round(np.mean(crossval_spec),4)}, Loss: {np.round(np.mean(crossval_loss),4)}'\n",
        "        print(content)\n",
        "        print(\"*********************************\") \n",
        "        \n",
        "        repeat_acc.append(np.mean(crossval_acc))\n",
        "        repeat_sen.append(np.mean(crossval_sen))\n",
        "        repeat_spec.append(np.mean(crossval_spec))\n",
        "        repeat_loss.append(np.mean(crossval_loss))\n",
        "    \n",
        "    print(f\"Average Value after \",rp + 1,\" Repeat : \")\n",
        "    content = f'Accuracy: {np.round(np.mean(repeat_acc),4)}, Senstivity: {np.round(np.mean(repeat_sen),4)}, Specificity: {np.round(np.mean(repeat_spec),4)}, Loss: {np.round(np.mean(repeat_loss),4)}'\n",
        "    print(content)\n",
        "        \n",
        "    finish= time.time()\n",
        "    print(finish-start)\n",
        "\n",
        "\n"
      ],
      "execution_count": null,
      "outputs": [
        {
          "output_type": "stream",
          "text": [
            "4975\n",
            "p_bernoulli:  None\n",
            "augmentaiton:  True aug_factor:  2 num_neighbs:  5 lim4sim:  2\n",
            "use_dropout:  False \n",
            "\n"
          ],
          "name": "stdout"
        },
        {
          "output_type": "stream",
          "text": [
            "Failed to query for notebook name, you can set it manually with the WANDB_NOTEBOOK_NAME environment variable\n",
            "\u001b[34m\u001b[1mwandb\u001b[0m: Currently logged in as: \u001b[33mpindi-krishna\u001b[0m (use `wandb login --relogin` to force relogin)\n",
            "\u001b[34m\u001b[1mwandb\u001b[0m: Tracking run with wandb version 0.10.2\n",
            "\u001b[34m\u001b[1mwandb\u001b[0m: Run data is saved locally in wandb/run-20200925_133043-fold-1--rp-1\n",
            "\u001b[34m\u001b[1mwandb\u001b[0m: Syncing run \u001b[33masd-diagnet-site--OHSU-fold-1-rp-1\u001b[0m\n"
          ],
          "name": "stderr"
        },
        {
          "output_type": "display_data",
          "data": {
            "text/html": [
              "\n",
              "                Logging results to <a href=\"https://wandb.com\" target=\"_blank\">Weights & Biases</a> <a href=\"https://docs.wandb.com/integrations/jupyter.html\" target=\"_blank\">(Documentation)</a>.<br/>\n",
              "                Project page: <a href=\"https://wandb.ai/pindi-krishna/asd1\" target=\"_blank\">https://wandb.ai/pindi-krishna/asd1</a><br/>\n",
              "                Run page: <a href=\"https://wandb.ai/pindi-krishna/asd1/runs/fold-1--rp-1\" target=\"_blank\">https://wandb.ai/pindi-krishna/asd1/runs/fold-1--rp-1</a><br/>\n",
              "            "
            ],
            "text/plain": [
              "<IPython.core.display.HTML object>"
            ]
          },
          "metadata": {
            "tags": []
          }
        },
        {
          "output_type": "stream",
          "text": [
            "\n",
            "Epoch 1/26\n",
            "Classifier Train loss: 0.6893, AE Train loss: 644.2683, Train Acc: 0.4500\n",
            "Epoch 2/26\n",
            "Classifier Train loss: 0.6954, AE Train loss: 444.0914, Train Acc: 0.4500\n",
            "Epoch 3/26\n",
            "Classifier Train loss: 0.6681, AE Train loss: 382.0573, Train Acc: 0.6500\n",
            "Epoch 4/26\n",
            "Classifier Train loss: 0.6345, AE Train loss: 260.8163, Train Acc: 0.8250\n",
            "Epoch 5/26\n",
            "Classifier Train loss: 0.6034, AE Train loss: 167.0557, Train Acc: 0.8500\n",
            "Epoch 6/26\n",
            "Classifier Train loss: 0.5766, AE Train loss: 123.2638, Train Acc: 0.8500\n",
            "Epoch 7/26\n",
            "Classifier Train loss: 0.5196, AE Train loss: 70.7041, Train Acc: 0.9500\n",
            "Epoch 8/26\n",
            "Classifier Train loss: 0.4928, AE Train loss: 50.1150, Train Acc: 1.0000\n",
            "Epoch 9/26\n",
            "Classifier Train loss: 0.4733, AE Train loss: 30.4026, Train Acc: 1.0000\n",
            "Epoch 10/26\n",
            "Classifier Train loss: 0.4547, AE Train loss: 20.5647, Train Acc: 1.0000\n",
            "Epoch 11/26\n",
            "Classifier Train loss: 0.4280, AE Train loss: 11.9109, Train Acc: 1.0000\n",
            "Epoch 12/26\n",
            "Classifier Train loss: 0.4099, AE Train loss: 7.3965, Train Acc: 1.0000\n",
            "Epoch 13/26\n",
            "Classifier Train loss: 0.3751, AE Train loss: 4.9943, Train Acc: 1.0000\n",
            "Epoch 14/26\n",
            "Classifier Train loss: 0.3587, AE Train loss: 3.3928, Train Acc: 1.0000\n",
            "Epoch 15/26\n",
            "Classifier Train loss: 0.3395, AE Train loss: 2.7907, Train Acc: 1.0000\n",
            "Epoch 16/26\n",
            "Classifier Train loss: 0.3205, AE Train loss: 1.8630, Train Acc: 1.0000\n",
            "Epoch 17/26\n",
            "Classifier Train loss: 0.3057, AE Train loss: 1.5379, Train Acc: 1.0000\n",
            "Epoch 18/26\n",
            "Classifier Train loss: 0.2963, AE Train loss: 1.2669, Train Acc: 1.0000\n",
            "Epoch 19/26\n",
            "Classifier Train loss: 0.2823, AE Train loss: 1.1399, Train Acc: 1.0000\n",
            "Epoch 20/26\n",
            "Classifier Train loss: 0.2688, AE Train loss: 0.9730, Train Acc: 1.0000\n",
            "Epoch 21/26\n",
            "Classifier Train loss: 0.2570, AE Train loss: 0.0000, Train Acc: 1.0000\n",
            "Epoch 22/26\n",
            "Classifier Train loss: 0.2453, AE Train loss: 0.0000, Train Acc: 1.0000\n",
            "Epoch 23/26\n",
            "Classifier Train loss: 0.2382, AE Train loss: 0.0000, Train Acc: 1.0000\n",
            "Epoch 24/26\n",
            "Classifier Train loss: 0.2280, AE Train loss: 0.0000, Train Acc: 1.0000\n",
            "Epoch 25/26\n",
            "Classifier Train loss: 0.2185, AE Train loss: 0.0000, Train Acc: 1.0000\n",
            "-----------------------------\n",
            "Fold 1/5\n",
            "{'accuracy': 0.8333, 'senstivity': 1.0, 'specificity': 0.6667, 'loss': 0.603}\n",
            "-----------------------------\n"
          ],
          "name": "stdout"
        },
        {
          "output_type": "stream",
          "text": [
            "\u001b[34m\u001b[1mwandb\u001b[0m: Waiting for W&B process to finish, PID 3202\n",
            "\u001b[34m\u001b[1mwandb\u001b[0m: Program ended successfully.\n",
            "\u001b[34m\u001b[1mwandb\u001b[0m: - 0.00MB of 0.00MB uploaded (0.00MB deduped)\r"
          ],
          "name": "stderr"
        },
        {
          "output_type": "stream",
          "text": [
            "\n"
          ],
          "name": "stdout"
        },
        {
          "output_type": "stream",
          "text": [
            "\u001b[34m\u001b[1mwandb\u001b[0m:                                                                                \n",
            "\u001b[34m\u001b[1mwandb\u001b[0m: Find user logs for this run at: wandb/run-20200925_133043-fold-1--rp-1/logs/debug.log\n",
            "\u001b[34m\u001b[1mwandb\u001b[0m: Find internal logs for this run at: wandb/run-20200925_133043-fold-1--rp-1/logs/debug-internal.log\n",
            "\u001b[34m\u001b[1mwandb\u001b[0m: Run summary:\n",
            "\u001b[34m\u001b[1mwandb\u001b[0m:   Classifier Train loss 0.2185116708278656\n",
            "\u001b[34m\u001b[1mwandb\u001b[0m:           AE Train loss 0.0\n",
            "\u001b[34m\u001b[1mwandb\u001b[0m:          Train accuracy 1.0\n",
            "\u001b[34m\u001b[1mwandb\u001b[0m:                   _step 24\n",
            "\u001b[34m\u001b[1mwandb\u001b[0m:                _runtime 9\n",
            "\u001b[34m\u001b[1mwandb\u001b[0m:              _timestamp 1601020857\n",
            "\u001b[34m\u001b[1mwandb\u001b[0m: Run history:\n",
            "\u001b[34m\u001b[1mwandb\u001b[0m:   Classifier Train loss ███▇▇▆▅▅▅▄▄▄▃▃▃▂▂▂▂▂▂▁▁▁▁\n",
            "\u001b[34m\u001b[1mwandb\u001b[0m:           AE Train loss █▆▅▄▃▂▂▂▁▁▁▁▁▁▁▁▁▁▁▁▁▁▁▁▁\n",
            "\u001b[34m\u001b[1mwandb\u001b[0m:          Train accuracy ▁▁▄▆▆▆▇██████████████████\n",
            "\u001b[34m\u001b[1mwandb\u001b[0m:                   _step ▁▁▂▂▂▂▃▃▃▄▄▄▅▅▅▅▆▆▆▇▇▇▇██\n",
            "\u001b[34m\u001b[1mwandb\u001b[0m:                _runtime ▁▁▁▁▁▂▂▂▂▄▄▄▄▅▅▅▅▅▇▇▇▇▇██\n",
            "\u001b[34m\u001b[1mwandb\u001b[0m:              _timestamp ▁▁▁▁▁▂▂▂▂▄▄▄▄▅▅▅▅▅▇▇▇▇▇██\n",
            "\u001b[34m\u001b[1mwandb\u001b[0m: Synced 5 W&B file(s), 1 media file(s), 0 artifact file(s) and 0 other file(s)\n",
            "\u001b[34m\u001b[1mwandb\u001b[0m: \n",
            "\u001b[34m\u001b[1mwandb\u001b[0m: Synced \u001b[33masd-diagnet-site--OHSU-fold-1-rp-1\u001b[0m: \u001b[34mhttps://wandb.ai/pindi-krishna/asd1/runs/fold-1--rp-1\u001b[0m\n",
            "\u001b[34m\u001b[1mwandb\u001b[0m: Tracking run with wandb version 0.10.2\n",
            "\u001b[34m\u001b[1mwandb\u001b[0m: Run data is saved locally in wandb/run-20200925_133100-fold-2--rp-1\n",
            "\u001b[34m\u001b[1mwandb\u001b[0m: Syncing run \u001b[33masd-diagnet-site--OHSU-fold-2-rp-1\u001b[0m\n"
          ],
          "name": "stderr"
        },
        {
          "output_type": "display_data",
          "data": {
            "text/html": [
              "\n",
              "                Logging results to <a href=\"https://wandb.com\" target=\"_blank\">Weights & Biases</a> <a href=\"https://docs.wandb.com/integrations/jupyter.html\" target=\"_blank\">(Documentation)</a>.<br/>\n",
              "                Project page: <a href=\"https://wandb.ai/pindi-krishna/asd1\" target=\"_blank\">https://wandb.ai/pindi-krishna/asd1</a><br/>\n",
              "                Run page: <a href=\"https://wandb.ai/pindi-krishna/asd1/runs/fold-2--rp-1\" target=\"_blank\">https://wandb.ai/pindi-krishna/asd1/runs/fold-2--rp-1</a><br/>\n",
              "            "
            ],
            "text/plain": [
              "<IPython.core.display.HTML object>"
            ]
          },
          "metadata": {
            "tags": []
          }
        },
        {
          "output_type": "stream",
          "text": [
            "\n",
            "Epoch 1/26\n",
            "Classifier Train loss: 0.6828, AE Train loss: 652.6329, Train Acc: 0.5000\n",
            "Epoch 2/26\n",
            "Classifier Train loss: 0.6765, AE Train loss: 448.5157, Train Acc: 0.5250\n",
            "Epoch 3/26\n",
            "Classifier Train loss: 0.6387, AE Train loss: 379.8018, Train Acc: 1.0000\n",
            "Epoch 4/26\n",
            "Classifier Train loss: 0.6052, AE Train loss: 250.3000, Train Acc: 0.9750\n",
            "Epoch 5/26\n",
            "Classifier Train loss: 0.5697, AE Train loss: 173.7919, Train Acc: 0.9750\n",
            "Epoch 6/26\n",
            "Classifier Train loss: 0.5192, AE Train loss: 125.4461, Train Acc: 1.0000\n",
            "Epoch 7/26\n",
            "Classifier Train loss: 0.4961, AE Train loss: 72.7777, Train Acc: 1.0000\n",
            "Epoch 8/26\n",
            "Classifier Train loss: 0.4679, AE Train loss: 53.8947, Train Acc: 1.0000\n",
            "Epoch 9/26\n",
            "Classifier Train loss: 0.4485, AE Train loss: 35.3941, Train Acc: 1.0000\n",
            "Epoch 10/26\n",
            "Classifier Train loss: 0.4262, AE Train loss: 25.4945, Train Acc: 1.0000\n",
            "Epoch 11/26\n",
            "Classifier Train loss: 0.3905, AE Train loss: 16.6271, Train Acc: 1.0000\n",
            "Epoch 12/26\n",
            "Classifier Train loss: 0.3789, AE Train loss: 10.9055, Train Acc: 1.0000\n",
            "Epoch 13/26\n",
            "Classifier Train loss: 0.3582, AE Train loss: 6.4739, Train Acc: 1.0000\n",
            "Epoch 14/26\n",
            "Classifier Train loss: 0.3359, AE Train loss: 4.5473, Train Acc: 1.0000\n",
            "Epoch 15/26\n",
            "Classifier Train loss: 0.3291, AE Train loss: 3.1003, Train Acc: 1.0000\n",
            "Epoch 16/26\n",
            "Classifier Train loss: 0.3096, AE Train loss: 2.3107, Train Acc: 1.0000\n",
            "Epoch 17/26\n",
            "Classifier Train loss: 0.2993, AE Train loss: 1.7758, Train Acc: 1.0000\n",
            "Epoch 18/26\n",
            "Classifier Train loss: 0.2871, AE Train loss: 1.2717, Train Acc: 1.0000\n",
            "Epoch 19/26\n",
            "Classifier Train loss: 0.2677, AE Train loss: 1.3215, Train Acc: 1.0000\n",
            "Epoch 20/26\n",
            "Classifier Train loss: 0.2564, AE Train loss: 1.0119, Train Acc: 1.0000\n",
            "Epoch 21/26\n",
            "Classifier Train loss: 0.2563, AE Train loss: 0.0000, Train Acc: 1.0000\n",
            "Epoch 22/26\n",
            "Classifier Train loss: 0.2358, AE Train loss: 0.0000, Train Acc: 1.0000\n",
            "Epoch 23/26\n",
            "Classifier Train loss: 0.2251, AE Train loss: 0.0000, Train Acc: 1.0000\n",
            "Epoch 24/26\n",
            "Classifier Train loss: 0.2254, AE Train loss: 0.0000, Train Acc: 1.0000\n",
            "Epoch 25/26\n",
            "Classifier Train loss: 0.2177, AE Train loss: 0.0000, Train Acc: 1.0000\n",
            "-----------------------------\n",
            "Fold 2/5\n",
            "{'accuracy': 0.8, 'senstivity': 0.5, 'specificity': 1.0, 'loss': 0.6069}\n",
            "-----------------------------\n"
          ],
          "name": "stdout"
        },
        {
          "output_type": "stream",
          "text": [
            "\u001b[34m\u001b[1mwandb\u001b[0m: Waiting for W&B process to finish, PID 3335\n",
            "\u001b[34m\u001b[1mwandb\u001b[0m: Program ended successfully.\n",
            "\u001b[34m\u001b[1mwandb\u001b[0m: - 0.00MB of 0.00MB uploaded (0.00MB deduped)\r"
          ],
          "name": "stderr"
        },
        {
          "output_type": "stream",
          "text": [
            "\n"
          ],
          "name": "stdout"
        },
        {
          "output_type": "stream",
          "text": [
            "\u001b[34m\u001b[1mwandb\u001b[0m:                                                                                \n",
            "\u001b[34m\u001b[1mwandb\u001b[0m: Find user logs for this run at: wandb/run-20200925_133100-fold-2--rp-1/logs/debug.log\n",
            "\u001b[34m\u001b[1mwandb\u001b[0m: Find internal logs for this run at: wandb/run-20200925_133100-fold-2--rp-1/logs/debug-internal.log\n",
            "\u001b[34m\u001b[1mwandb\u001b[0m: Run summary:\n",
            "\u001b[34m\u001b[1mwandb\u001b[0m:   Classifier Train loss 0.21774303913116455\n",
            "\u001b[34m\u001b[1mwandb\u001b[0m:           AE Train loss 0.0\n",
            "\u001b[34m\u001b[1mwandb\u001b[0m:          Train accuracy 1.0\n",
            "\u001b[34m\u001b[1mwandb\u001b[0m:                   _step 24\n",
            "\u001b[34m\u001b[1mwandb\u001b[0m:                _runtime 6\n",
            "\u001b[34m\u001b[1mwandb\u001b[0m:              _timestamp 1601020873\n",
            "\u001b[34m\u001b[1mwandb\u001b[0m: Run history:\n",
            "\u001b[34m\u001b[1mwandb\u001b[0m:   Classifier Train loss ██▇▇▆▆▅▅▄▄▄▃▃▃▃▂▂▂▂▂▂▁▁▁▁\n",
            "\u001b[34m\u001b[1mwandb\u001b[0m:           AE Train loss █▆▅▄▃▂▂▂▁▁▁▁▁▁▁▁▁▁▁▁▁▁▁▁▁\n",
            "\u001b[34m\u001b[1mwandb\u001b[0m:          Train accuracy ▁▁███████████████████████\n",
            "\u001b[34m\u001b[1mwandb\u001b[0m:                   _step ▁▁▂▂▂▂▃▃▃▄▄▄▅▅▅▅▆▆▆▇▇▇▇██\n",
            "\u001b[34m\u001b[1mwandb\u001b[0m:                _runtime ▁▁▂▂▂▂▂▄▄▄▄▄▅▅▅▅▅▇▇▇▇████\n",
            "\u001b[34m\u001b[1mwandb\u001b[0m:              _timestamp ▁▁▂▂▂▂▂▄▄▄▄▄▅▅▅▅▅▇▇▇▇████\n",
            "\u001b[34m\u001b[1mwandb\u001b[0m: Synced 5 W&B file(s), 1 media file(s), 0 artifact file(s) and 0 other file(s)\n",
            "\u001b[34m\u001b[1mwandb\u001b[0m: \n",
            "\u001b[34m\u001b[1mwandb\u001b[0m: Synced \u001b[33masd-diagnet-site--OHSU-fold-2-rp-1\u001b[0m: \u001b[34mhttps://wandb.ai/pindi-krishna/asd1/runs/fold-2--rp-1\u001b[0m\n",
            "\u001b[34m\u001b[1mwandb\u001b[0m: Tracking run with wandb version 0.10.2\n",
            "\u001b[34m\u001b[1mwandb\u001b[0m: Run data is saved locally in wandb/run-20200925_133116-fold-3--rp-1\n",
            "\u001b[34m\u001b[1mwandb\u001b[0m: Syncing run \u001b[33masd-diagnet-site--OHSU-fold-3-rp-1\u001b[0m\n"
          ],
          "name": "stderr"
        },
        {
          "output_type": "display_data",
          "data": {
            "text/html": [
              "\n",
              "                Logging results to <a href=\"https://wandb.com\" target=\"_blank\">Weights & Biases</a> <a href=\"https://docs.wandb.com/integrations/jupyter.html\" target=\"_blank\">(Documentation)</a>.<br/>\n",
              "                Project page: <a href=\"https://wandb.ai/pindi-krishna/asd1\" target=\"_blank\">https://wandb.ai/pindi-krishna/asd1</a><br/>\n",
              "                Run page: <a href=\"https://wandb.ai/pindi-krishna/asd1/runs/fold-3--rp-1\" target=\"_blank\">https://wandb.ai/pindi-krishna/asd1/runs/fold-3--rp-1</a><br/>\n",
              "            "
            ],
            "text/plain": [
              "<IPython.core.display.HTML object>"
            ]
          },
          "metadata": {
            "tags": []
          }
        },
        {
          "output_type": "stream",
          "text": [
            "\n",
            "Epoch 1/26\n",
            "Classifier Train loss: 0.7055, AE Train loss: 662.0186, Train Acc: 0.4000\n",
            "Epoch 2/26\n",
            "Classifier Train loss: 0.6953, AE Train loss: 437.7883, Train Acc: 0.5000\n",
            "Epoch 3/26\n",
            "Classifier Train loss: 0.6814, AE Train loss: 380.6712, Train Acc: 0.5000\n",
            "Epoch 4/26\n",
            "Classifier Train loss: 0.6704, AE Train loss: 260.1074, Train Acc: 0.5500\n",
            "Epoch 5/26\n",
            "Classifier Train loss: 0.6270, AE Train loss: 183.2416, Train Acc: 0.8250\n",
            "Epoch 6/26\n",
            "Classifier Train loss: 0.5895, AE Train loss: 123.1204, Train Acc: 0.9500\n",
            "Epoch 7/26\n",
            "Classifier Train loss: 0.5644, AE Train loss: 81.8781, Train Acc: 0.9750\n",
            "Epoch 8/26\n",
            "Classifier Train loss: 0.5285, AE Train loss: 51.0003, Train Acc: 0.9750\n",
            "Epoch 9/26\n",
            "Classifier Train loss: 0.4959, AE Train loss: 31.7919, Train Acc: 0.9750\n",
            "Epoch 10/26\n",
            "Classifier Train loss: 0.4677, AE Train loss: 22.7961, Train Acc: 0.9750\n",
            "Epoch 11/26\n",
            "Classifier Train loss: 0.4497, AE Train loss: 14.5576, Train Acc: 0.9750\n",
            "Epoch 12/26\n",
            "Classifier Train loss: 0.4319, AE Train loss: 9.8831, Train Acc: 1.0000\n",
            "Epoch 13/26\n",
            "Classifier Train loss: 0.4065, AE Train loss: 6.5724, Train Acc: 1.0000\n",
            "Epoch 14/26\n",
            "Classifier Train loss: 0.3753, AE Train loss: 4.0258, Train Acc: 1.0000\n",
            "Epoch 15/26\n",
            "Classifier Train loss: 0.3612, AE Train loss: 3.0662, Train Acc: 1.0000\n",
            "Epoch 16/26\n",
            "Classifier Train loss: 0.3410, AE Train loss: 2.1874, Train Acc: 1.0000\n",
            "Epoch 17/26\n",
            "Classifier Train loss: 0.3333, AE Train loss: 1.6380, Train Acc: 1.0000\n",
            "Epoch 18/26\n",
            "Classifier Train loss: 0.3116, AE Train loss: 1.3353, Train Acc: 1.0000\n",
            "Epoch 19/26\n",
            "Classifier Train loss: 0.3067, AE Train loss: 1.0589, Train Acc: 1.0000\n",
            "Epoch 20/26\n",
            "Classifier Train loss: 0.2909, AE Train loss: 0.9203, Train Acc: 1.0000\n",
            "Epoch 21/26\n",
            "Classifier Train loss: 0.2771, AE Train loss: 0.0000, Train Acc: 1.0000\n",
            "Epoch 22/26\n",
            "Classifier Train loss: 0.2702, AE Train loss: 0.0000, Train Acc: 1.0000\n",
            "Epoch 23/26\n",
            "Classifier Train loss: 0.2546, AE Train loss: 0.0000, Train Acc: 1.0000\n",
            "Epoch 24/26\n",
            "Classifier Train loss: 0.2482, AE Train loss: 0.0000, Train Acc: 1.0000\n",
            "Epoch 25/26\n",
            "Classifier Train loss: 0.2318, AE Train loss: 0.0000, Train Acc: 1.0000\n",
            "-----------------------------\n",
            "Fold 3/5\n",
            "{'accuracy': 1.0, 'senstivity': 1.0, 'specificity': 1.0, 'loss': 0.5331}\n",
            "-----------------------------\n"
          ],
          "name": "stdout"
        },
        {
          "output_type": "stream",
          "text": [
            "\u001b[34m\u001b[1mwandb\u001b[0m: Waiting for W&B process to finish, PID 3473\n",
            "\u001b[34m\u001b[1mwandb\u001b[0m: Program ended successfully.\n",
            "\u001b[34m\u001b[1mwandb\u001b[0m: - 0.00MB of 0.00MB uploaded (0.00MB deduped)\r"
          ],
          "name": "stderr"
        },
        {
          "output_type": "stream",
          "text": [
            "\n"
          ],
          "name": "stdout"
        },
        {
          "output_type": "stream",
          "text": [
            "\u001b[34m\u001b[1mwandb\u001b[0m:                                                                                \n",
            "\u001b[34m\u001b[1mwandb\u001b[0m: Find user logs for this run at: wandb/run-20200925_133116-fold-3--rp-1/logs/debug.log\n",
            "\u001b[34m\u001b[1mwandb\u001b[0m: Find internal logs for this run at: wandb/run-20200925_133116-fold-3--rp-1/logs/debug-internal.log\n",
            "\u001b[34m\u001b[1mwandb\u001b[0m: Run summary:\n",
            "\u001b[34m\u001b[1mwandb\u001b[0m:   Classifier Train loss 0.23175939917564392\n",
            "\u001b[34m\u001b[1mwandb\u001b[0m:           AE Train loss 0.0\n",
            "\u001b[34m\u001b[1mwandb\u001b[0m:          Train accuracy 1.0\n",
            "\u001b[34m\u001b[1mwandb\u001b[0m:                   _step 24\n",
            "\u001b[34m\u001b[1mwandb\u001b[0m:                _runtime 7\n",
            "\u001b[34m\u001b[1mwandb\u001b[0m:              _timestamp 1601020890\n",
            "\u001b[34m\u001b[1mwandb\u001b[0m: Run history:\n",
            "\u001b[34m\u001b[1mwandb\u001b[0m:   Classifier Train loss ███▇▇▆▆▅▅▄▄▄▄▃▃▃▃▂▂▂▂▂▁▁▁\n",
            "\u001b[34m\u001b[1mwandb\u001b[0m:           AE Train loss █▆▅▄▃▂▂▂▁▁▁▁▁▁▁▁▁▁▁▁▁▁▁▁▁\n",
            "\u001b[34m\u001b[1mwandb\u001b[0m:          Train accuracy ▁▂▂▃▆▇███████████████████\n",
            "\u001b[34m\u001b[1mwandb\u001b[0m:                   _step ▁▁▂▂▂▂▃▃▃▄▄▄▅▅▅▅▆▆▆▇▇▇▇██\n",
            "\u001b[34m\u001b[1mwandb\u001b[0m:                _runtime ▁▁▁▁▁▂▂▂▂▂▄▄▄▄▅▅▅▅▅▇▇▇▇▇█\n",
            "\u001b[34m\u001b[1mwandb\u001b[0m:              _timestamp ▁▁▁▁▁▂▂▂▂▂▄▄▄▄▅▅▅▅▅▇▇▇▇▇█\n",
            "\u001b[34m\u001b[1mwandb\u001b[0m: Synced 5 W&B file(s), 1 media file(s), 0 artifact file(s) and 0 other file(s)\n",
            "\u001b[34m\u001b[1mwandb\u001b[0m: \n",
            "\u001b[34m\u001b[1mwandb\u001b[0m: Synced \u001b[33masd-diagnet-site--OHSU-fold-3-rp-1\u001b[0m: \u001b[34mhttps://wandb.ai/pindi-krishna/asd1/runs/fold-3--rp-1\u001b[0m\n",
            "\u001b[34m\u001b[1mwandb\u001b[0m: Tracking run with wandb version 0.10.2\n",
            "\u001b[34m\u001b[1mwandb\u001b[0m: Run data is saved locally in wandb/run-20200925_133130-fold-4--rp-1\n",
            "\u001b[34m\u001b[1mwandb\u001b[0m: Syncing run \u001b[33masd-diagnet-site--OHSU-fold-4-rp-1\u001b[0m\n"
          ],
          "name": "stderr"
        },
        {
          "output_type": "display_data",
          "data": {
            "text/html": [
              "\n",
              "                Logging results to <a href=\"https://wandb.com\" target=\"_blank\">Weights & Biases</a> <a href=\"https://docs.wandb.com/integrations/jupyter.html\" target=\"_blank\">(Documentation)</a>.<br/>\n",
              "                Project page: <a href=\"https://wandb.ai/pindi-krishna/asd1\" target=\"_blank\">https://wandb.ai/pindi-krishna/asd1</a><br/>\n",
              "                Run page: <a href=\"https://wandb.ai/pindi-krishna/asd1/runs/fold-4--rp-1\" target=\"_blank\">https://wandb.ai/pindi-krishna/asd1/runs/fold-4--rp-1</a><br/>\n",
              "            "
            ],
            "text/plain": [
              "<IPython.core.display.HTML object>"
            ]
          },
          "metadata": {
            "tags": []
          }
        },
        {
          "output_type": "stream",
          "text": [
            "\n",
            "Epoch 1/26\n",
            "Classifier Train loss: 0.6886, AE Train loss: 636.8042, Train Acc: 0.5750\n",
            "Epoch 2/26\n",
            "Classifier Train loss: 0.6854, AE Train loss: 439.8859, Train Acc: 0.5500\n",
            "Epoch 3/26\n",
            "Classifier Train loss: 0.6576, AE Train loss: 376.9840, Train Acc: 0.7250\n",
            "Epoch 4/26\n",
            "Classifier Train loss: 0.6407, AE Train loss: 260.4112, Train Acc: 0.8250\n",
            "Epoch 5/26\n",
            "Classifier Train loss: 0.6032, AE Train loss: 172.9079, Train Acc: 0.9000\n",
            "Epoch 6/26\n",
            "Classifier Train loss: 0.5641, AE Train loss: 120.9267, Train Acc: 0.9250\n",
            "Epoch 7/26\n",
            "Classifier Train loss: 0.5264, AE Train loss: 77.8076, Train Acc: 1.0000\n",
            "Epoch 8/26\n",
            "Classifier Train loss: 0.5034, AE Train loss: 53.6412, Train Acc: 0.9750\n",
            "Epoch 9/26\n",
            "Classifier Train loss: 0.4756, AE Train loss: 34.4768, Train Acc: 1.0000\n",
            "Epoch 10/26\n",
            "Classifier Train loss: 0.4594, AE Train loss: 22.1998, Train Acc: 1.0000\n",
            "Epoch 11/26\n",
            "Classifier Train loss: 0.4324, AE Train loss: 15.0931, Train Acc: 1.0000\n",
            "Epoch 12/26\n",
            "Classifier Train loss: 0.4069, AE Train loss: 9.7011, Train Acc: 1.0000\n",
            "Epoch 13/26\n",
            "Classifier Train loss: 0.3900, AE Train loss: 6.5327, Train Acc: 1.0000\n",
            "Epoch 14/26\n",
            "Classifier Train loss: 0.3672, AE Train loss: 4.4368, Train Acc: 1.0000\n",
            "Epoch 15/26\n",
            "Classifier Train loss: 0.3457, AE Train loss: 3.0543, Train Acc: 1.0000\n",
            "Epoch 16/26\n",
            "Classifier Train loss: 0.3459, AE Train loss: 2.1624, Train Acc: 1.0000\n",
            "Epoch 17/26\n",
            "Classifier Train loss: 0.3165, AE Train loss: 1.6183, Train Acc: 1.0000\n",
            "Epoch 18/26\n",
            "Classifier Train loss: 0.3059, AE Train loss: 1.4989, Train Acc: 1.0000\n",
            "Epoch 19/26\n",
            "Classifier Train loss: 0.2956, AE Train loss: 1.0687, Train Acc: 1.0000\n",
            "Epoch 20/26\n",
            "Classifier Train loss: 0.2828, AE Train loss: 1.1833, Train Acc: 1.0000\n",
            "Epoch 21/26\n",
            "Classifier Train loss: 0.2736, AE Train loss: 0.0000, Train Acc: 1.0000\n",
            "Epoch 22/26\n",
            "Classifier Train loss: 0.2616, AE Train loss: 0.0000, Train Acc: 1.0000\n",
            "Epoch 23/26\n",
            "Classifier Train loss: 0.2538, AE Train loss: 0.0000, Train Acc: 1.0000\n",
            "Epoch 24/26\n",
            "Classifier Train loss: 0.2442, AE Train loss: 0.0000, Train Acc: 1.0000\n",
            "Epoch 25/26\n",
            "Classifier Train loss: 0.2329, AE Train loss: 0.0000, Train Acc: 1.0000\n",
            "-----------------------------\n",
            "Fold 4/5\n",
            "{'accuracy': 0.8, 'senstivity': 1.0, 'specificity': 0.6667, 'loss': 0.5527}\n",
            "-----------------------------\n"
          ],
          "name": "stdout"
        },
        {
          "output_type": "stream",
          "text": [
            "\u001b[34m\u001b[1mwandb\u001b[0m: Waiting for W&B process to finish, PID 3604\n",
            "\u001b[34m\u001b[1mwandb\u001b[0m: Program ended successfully.\n",
            "\u001b[34m\u001b[1mwandb\u001b[0m: - 0.00MB of 0.00MB uploaded (0.00MB deduped)\r"
          ],
          "name": "stderr"
        },
        {
          "output_type": "stream",
          "text": [
            "\n"
          ],
          "name": "stdout"
        },
        {
          "output_type": "stream",
          "text": [
            "\u001b[34m\u001b[1mwandb\u001b[0m:                                                                                \n",
            "\u001b[34m\u001b[1mwandb\u001b[0m: Find user logs for this run at: wandb/run-20200925_133130-fold-4--rp-1/logs/debug.log\n",
            "\u001b[34m\u001b[1mwandb\u001b[0m: Find internal logs for this run at: wandb/run-20200925_133130-fold-4--rp-1/logs/debug-internal.log\n",
            "\u001b[34m\u001b[1mwandb\u001b[0m: Run summary:\n",
            "\u001b[34m\u001b[1mwandb\u001b[0m:   Classifier Train loss 0.232865571975708\n",
            "\u001b[34m\u001b[1mwandb\u001b[0m:           AE Train loss 0.0\n",
            "\u001b[34m\u001b[1mwandb\u001b[0m:          Train accuracy 1.0\n",
            "\u001b[34m\u001b[1mwandb\u001b[0m:                   _step 24\n",
            "\u001b[34m\u001b[1mwandb\u001b[0m:                _runtime 6\n",
            "\u001b[34m\u001b[1mwandb\u001b[0m:              _timestamp 1601020904\n",
            "\u001b[34m\u001b[1mwandb\u001b[0m: Run history:\n",
            "\u001b[34m\u001b[1mwandb\u001b[0m:   Classifier Train loss ███▇▇▆▆▅▅▄▄▄▃▃▃▃▂▂▂▂▂▁▁▁▁\n",
            "\u001b[34m\u001b[1mwandb\u001b[0m:           AE Train loss █▆▅▄▃▂▂▂▁▁▁▁▁▁▁▁▁▁▁▁▁▁▁▁▁\n",
            "\u001b[34m\u001b[1mwandb\u001b[0m:          Train accuracy ▁▁▄▅▆▇███████████████████\n",
            "\u001b[34m\u001b[1mwandb\u001b[0m:                   _step ▁▁▂▂▂▂▃▃▃▄▄▄▅▅▅▅▆▆▆▇▇▇▇██\n",
            "\u001b[34m\u001b[1mwandb\u001b[0m:                _runtime ▁▂▂▂▂▂▄▄▄▄▅▅▅▅▅▇▇▇▇██████\n",
            "\u001b[34m\u001b[1mwandb\u001b[0m:              _timestamp ▁▂▂▂▂▂▄▄▄▄▅▅▅▅▅▇▇▇▇██████\n",
            "\u001b[34m\u001b[1mwandb\u001b[0m: Synced 5 W&B file(s), 1 media file(s), 0 artifact file(s) and 0 other file(s)\n",
            "\u001b[34m\u001b[1mwandb\u001b[0m: \n",
            "\u001b[34m\u001b[1mwandb\u001b[0m: Synced \u001b[33masd-diagnet-site--OHSU-fold-4-rp-1\u001b[0m: \u001b[34mhttps://wandb.ai/pindi-krishna/asd1/runs/fold-4--rp-1\u001b[0m\n",
            "\u001b[34m\u001b[1mwandb\u001b[0m: Tracking run with wandb version 0.10.2\n",
            "\u001b[34m\u001b[1mwandb\u001b[0m: Run data is saved locally in wandb/run-20200925_133145-fold-5--rp-1\n",
            "\u001b[34m\u001b[1mwandb\u001b[0m: Syncing run \u001b[33masd-diagnet-site--OHSU-fold-5-rp-1\u001b[0m\n"
          ],
          "name": "stderr"
        },
        {
          "output_type": "display_data",
          "data": {
            "text/html": [
              "\n",
              "                Logging results to <a href=\"https://wandb.com\" target=\"_blank\">Weights & Biases</a> <a href=\"https://docs.wandb.com/integrations/jupyter.html\" target=\"_blank\">(Documentation)</a>.<br/>\n",
              "                Project page: <a href=\"https://wandb.ai/pindi-krishna/asd1\" target=\"_blank\">https://wandb.ai/pindi-krishna/asd1</a><br/>\n",
              "                Run page: <a href=\"https://wandb.ai/pindi-krishna/asd1/runs/fold-5--rp-1\" target=\"_blank\">https://wandb.ai/pindi-krishna/asd1/runs/fold-5--rp-1</a><br/>\n",
              "            "
            ],
            "text/plain": [
              "<IPython.core.display.HTML object>"
            ]
          },
          "metadata": {
            "tags": []
          }
        },
        {
          "output_type": "stream",
          "text": [
            "\n",
            "Epoch 1/26\n",
            "Classifier Train loss: 0.6761, AE Train loss: 652.5741, Train Acc: 0.5750\n",
            "Epoch 2/26\n",
            "Classifier Train loss: 0.6577, AE Train loss: 444.6492, Train Acc: 0.7750\n",
            "Epoch 3/26\n",
            "Classifier Train loss: 0.6359, AE Train loss: 371.5336, Train Acc: 0.7250\n",
            "Epoch 4/26\n",
            "Classifier Train loss: 0.6205, AE Train loss: 265.2889, Train Acc: 0.6500\n",
            "Epoch 5/26\n",
            "Classifier Train loss: 0.5663, AE Train loss: 171.9356, Train Acc: 0.8000\n",
            "Epoch 6/26\n",
            "Classifier Train loss: 0.5343, AE Train loss: 124.8782, Train Acc: 0.9250\n",
            "Epoch 7/26\n",
            "Classifier Train loss: 0.5017, AE Train loss: 77.6938, Train Acc: 0.9000\n",
            "Epoch 8/26\n",
            "Classifier Train loss: 0.4746, AE Train loss: 50.6062, Train Acc: 0.9500\n",
            "Epoch 9/26\n",
            "Classifier Train loss: 0.4533, AE Train loss: 33.9986, Train Acc: 1.0000\n",
            "Epoch 10/26\n",
            "Classifier Train loss: 0.4506, AE Train loss: 21.8509, Train Acc: 1.0000\n",
            "Epoch 11/26\n",
            "Classifier Train loss: 0.4062, AE Train loss: 14.4430, Train Acc: 1.0000\n",
            "Epoch 12/26\n",
            "Classifier Train loss: 0.3915, AE Train loss: 9.1400, Train Acc: 1.0000\n",
            "Epoch 13/26\n",
            "Classifier Train loss: 0.3749, AE Train loss: 6.1681, Train Acc: 1.0000\n",
            "Epoch 14/26\n",
            "Classifier Train loss: 0.3528, AE Train loss: 3.8486, Train Acc: 1.0000\n",
            "Epoch 15/26\n",
            "Classifier Train loss: 0.3323, AE Train loss: 2.9430, Train Acc: 1.0000\n",
            "Epoch 16/26\n",
            "Classifier Train loss: 0.3334, AE Train loss: 1.9718, Train Acc: 1.0000\n",
            "Epoch 17/26\n",
            "Classifier Train loss: 0.3092, AE Train loss: 1.5608, Train Acc: 1.0000\n",
            "Epoch 18/26\n",
            "Classifier Train loss: 0.3001, AE Train loss: 1.2938, Train Acc: 1.0000\n",
            "Epoch 19/26\n",
            "Classifier Train loss: 0.2830, AE Train loss: 1.0650, Train Acc: 1.0000\n",
            "Epoch 20/26\n",
            "Classifier Train loss: 0.2750, AE Train loss: 0.9114, Train Acc: 1.0000\n",
            "Epoch 21/26\n",
            "Classifier Train loss: 0.2633, AE Train loss: 0.0000, Train Acc: 1.0000\n",
            "Epoch 22/26\n",
            "Classifier Train loss: 0.2494, AE Train loss: 0.0000, Train Acc: 1.0000\n",
            "Epoch 23/26\n",
            "Classifier Train loss: 0.2478, AE Train loss: 0.0000, Train Acc: 1.0000\n",
            "Epoch 24/26\n",
            "Classifier Train loss: 0.2316, AE Train loss: 0.0000, Train Acc: 1.0000\n",
            "Epoch 25/26\n",
            "Classifier Train loss: 0.2260, AE Train loss: 0.0000, Train Acc: 1.0000\n",
            "-----------------------------\n",
            "Fold 5/5\n",
            "{'accuracy': 0.8, 'senstivity': 0.6667, 'specificity': 1.0, 'loss': 0.5359}\n",
            "-----------------------------\n"
          ],
          "name": "stdout"
        },
        {
          "output_type": "stream",
          "text": [
            "\u001b[34m\u001b[1mwandb\u001b[0m: Waiting for W&B process to finish, PID 3734\n",
            "\u001b[34m\u001b[1mwandb\u001b[0m: Program ended successfully.\n",
            "\u001b[34m\u001b[1mwandb\u001b[0m: - 0.00MB of 0.00MB uploaded (0.00MB deduped)\r"
          ],
          "name": "stderr"
        },
        {
          "output_type": "stream",
          "text": [
            "*********************************\n",
            "Average Value after 5 Folds and repeats  1------->\n",
            "Accuracy: 0.8467, Senstivity: 0.8333, Specificity: 0.8667, Loss: 0.5662999749183655\n",
            "*********************************\n",
            "\n"
          ],
          "name": "stdout"
        },
        {
          "output_type": "stream",
          "text": [
            "\u001b[34m\u001b[1mwandb\u001b[0m:                                                                                \n",
            "\u001b[34m\u001b[1mwandb\u001b[0m: Find user logs for this run at: wandb/run-20200925_133145-fold-5--rp-1/logs/debug.log\n",
            "\u001b[34m\u001b[1mwandb\u001b[0m: Find internal logs for this run at: wandb/run-20200925_133145-fold-5--rp-1/logs/debug-internal.log\n",
            "\u001b[34m\u001b[1mwandb\u001b[0m: Run summary:\n",
            "\u001b[34m\u001b[1mwandb\u001b[0m:   Classifier Train loss 0.22600111365318298\n",
            "\u001b[34m\u001b[1mwandb\u001b[0m:           AE Train loss 0.0\n",
            "\u001b[34m\u001b[1mwandb\u001b[0m:          Train accuracy 1.0\n",
            "\u001b[34m\u001b[1mwandb\u001b[0m:                   _step 24\n",
            "\u001b[34m\u001b[1mwandb\u001b[0m:                _runtime 6\n",
            "\u001b[34m\u001b[1mwandb\u001b[0m:              _timestamp 1601020918\n",
            "\u001b[34m\u001b[1mwandb\u001b[0m: Run history:\n",
            "\u001b[34m\u001b[1mwandb\u001b[0m:   Classifier Train loss ██▇▇▆▆▅▅▅▄▄▄▃▃▃▃▂▂▂▂▂▁▁▁▁\n",
            "\u001b[34m\u001b[1mwandb\u001b[0m:           AE Train loss █▆▅▄▃▂▂▂▁▁▁▁▁▁▁▁▁▁▁▁▁▁▁▁▁\n",
            "\u001b[34m\u001b[1mwandb\u001b[0m:          Train accuracy ▁▄▃▂▅▇▆▇█████████████████\n",
            "\u001b[34m\u001b[1mwandb\u001b[0m:                   _step ▁▁▂▂▂▂▃▃▃▄▄▄▅▅▅▅▆▆▆▇▇▇▇██\n",
            "\u001b[34m\u001b[1mwandb\u001b[0m:                _runtime ▁▂▂▂▂▄▄▄▄▄▅▅▅▅▅▇▇▇▇██████\n",
            "\u001b[34m\u001b[1mwandb\u001b[0m:              _timestamp ▁▂▂▂▂▄▄▄▄▄▅▅▅▅▅▇▇▇▇██████\n",
            "\u001b[34m\u001b[1mwandb\u001b[0m: Synced 5 W&B file(s), 1 media file(s), 0 artifact file(s) and 0 other file(s)\n",
            "\u001b[34m\u001b[1mwandb\u001b[0m: \n",
            "\u001b[34m\u001b[1mwandb\u001b[0m: Synced \u001b[33masd-diagnet-site--OHSU-fold-5-rp-1\u001b[0m: \u001b[34mhttps://wandb.ai/pindi-krishna/asd1/runs/fold-5--rp-1\u001b[0m\n",
            "\u001b[34m\u001b[1mwandb\u001b[0m: Tracking run with wandb version 0.10.2\n",
            "\u001b[34m\u001b[1mwandb\u001b[0m: Run data is saved locally in wandb/run-20200925_133159-fold-1--rp-2\n",
            "\u001b[34m\u001b[1mwandb\u001b[0m: Syncing run \u001b[33masd-diagnet-site--OHSU-fold-1-rp-2\u001b[0m\n"
          ],
          "name": "stderr"
        },
        {
          "output_type": "display_data",
          "data": {
            "text/html": [
              "\n",
              "                Logging results to <a href=\"https://wandb.com\" target=\"_blank\">Weights & Biases</a> <a href=\"https://docs.wandb.com/integrations/jupyter.html\" target=\"_blank\">(Documentation)</a>.<br/>\n",
              "                Project page: <a href=\"https://wandb.ai/pindi-krishna/asd1\" target=\"_blank\">https://wandb.ai/pindi-krishna/asd1</a><br/>\n",
              "                Run page: <a href=\"https://wandb.ai/pindi-krishna/asd1/runs/fold-1--rp-2\" target=\"_blank\">https://wandb.ai/pindi-krishna/asd1/runs/fold-1--rp-2</a><br/>\n",
              "            "
            ],
            "text/plain": [
              "<IPython.core.display.HTML object>"
            ]
          },
          "metadata": {
            "tags": []
          }
        },
        {
          "output_type": "stream",
          "text": [
            "\n",
            "Epoch 1/26\n",
            "Classifier Train loss: 0.6800, AE Train loss: 627.4689, Train Acc: 0.5500\n",
            "Epoch 2/26\n",
            "Classifier Train loss: 0.6797, AE Train loss: 422.3485, Train Acc: 0.5500\n",
            "Epoch 3/26\n",
            "Classifier Train loss: 0.6526, AE Train loss: 357.6103, Train Acc: 0.6250\n",
            "Epoch 4/26\n",
            "Classifier Train loss: 0.6218, AE Train loss: 248.8521, Train Acc: 0.8750\n",
            "Epoch 5/26\n",
            "Classifier Train loss: 0.5883, AE Train loss: 164.2108, Train Acc: 0.9500\n",
            "Epoch 6/26\n",
            "Classifier Train loss: 0.5400, AE Train loss: 113.8996, Train Acc: 0.9750\n",
            "Epoch 7/26\n",
            "Classifier Train loss: 0.5176, AE Train loss: 70.5107, Train Acc: 1.0000\n",
            "Epoch 8/26\n",
            "Classifier Train loss: 0.4877, AE Train loss: 48.7117, Train Acc: 1.0000\n",
            "Epoch 9/26\n",
            "Classifier Train loss: 0.4620, AE Train loss: 30.0618, Train Acc: 1.0000\n",
            "Epoch 10/26\n",
            "Classifier Train loss: 0.4328, AE Train loss: 21.0501, Train Acc: 1.0000\n",
            "Epoch 11/26\n",
            "Classifier Train loss: 0.4111, AE Train loss: 12.6754, Train Acc: 1.0000\n",
            "Epoch 12/26\n",
            "Classifier Train loss: 0.3869, AE Train loss: 8.1155, Train Acc: 1.0000\n",
            "Epoch 13/26\n",
            "Classifier Train loss: 0.3567, AE Train loss: 5.1436, Train Acc: 1.0000\n",
            "Epoch 14/26\n",
            "Classifier Train loss: 0.3388, AE Train loss: 3.3718, Train Acc: 1.0000\n",
            "Epoch 15/26\n",
            "Classifier Train loss: 0.3286, AE Train loss: 2.4011, Train Acc: 1.0000\n",
            "Epoch 16/26\n",
            "Classifier Train loss: 0.3149, AE Train loss: 1.6508, Train Acc: 1.0000\n",
            "Epoch 17/26\n",
            "Classifier Train loss: 0.3013, AE Train loss: 1.3200, Train Acc: 1.0000\n",
            "Epoch 18/26\n",
            "Classifier Train loss: 0.2797, AE Train loss: 1.2735, Train Acc: 1.0000\n",
            "Epoch 19/26\n",
            "Classifier Train loss: 0.2784, AE Train loss: 0.9664, Train Acc: 1.0000\n",
            "Epoch 20/26\n",
            "Classifier Train loss: 0.2620, AE Train loss: 0.8788, Train Acc: 1.0000\n",
            "Epoch 21/26\n",
            "Classifier Train loss: 0.2575, AE Train loss: 0.0000, Train Acc: 1.0000\n",
            "Epoch 22/26\n",
            "Classifier Train loss: 0.2412, AE Train loss: 0.0000, Train Acc: 1.0000\n",
            "Epoch 23/26\n",
            "Classifier Train loss: 0.2292, AE Train loss: 0.0000, Train Acc: 1.0000\n",
            "Epoch 24/26\n",
            "Classifier Train loss: 0.2228, AE Train loss: 0.0000, Train Acc: 1.0000\n",
            "Epoch 25/26\n",
            "Classifier Train loss: 0.2154, AE Train loss: 0.0000, Train Acc: 1.0000\n",
            "-----------------------------\n",
            "Fold 1/5\n",
            "{'accuracy': 0.8333, 'senstivity': 1.0, 'specificity': 0.6667, 'loss': 0.6291}\n",
            "-----------------------------\n"
          ],
          "name": "stdout"
        },
        {
          "output_type": "stream",
          "text": [
            "\u001b[34m\u001b[1mwandb\u001b[0m: Waiting for W&B process to finish, PID 3865\n",
            "\u001b[34m\u001b[1mwandb\u001b[0m: Program ended successfully.\n",
            "\u001b[34m\u001b[1mwandb\u001b[0m: - 0.00MB of 0.00MB uploaded (0.00MB deduped)\r"
          ],
          "name": "stderr"
        },
        {
          "output_type": "stream",
          "text": [
            "\n"
          ],
          "name": "stdout"
        },
        {
          "output_type": "stream",
          "text": [
            "\u001b[34m\u001b[1mwandb\u001b[0m:                                                                                \n",
            "\u001b[34m\u001b[1mwandb\u001b[0m: Find user logs for this run at: wandb/run-20200925_133159-fold-1--rp-2/logs/debug.log\n",
            "\u001b[34m\u001b[1mwandb\u001b[0m: Find internal logs for this run at: wandb/run-20200925_133159-fold-1--rp-2/logs/debug-internal.log\n",
            "\u001b[34m\u001b[1mwandb\u001b[0m: Run summary:\n",
            "\u001b[34m\u001b[1mwandb\u001b[0m:   Classifier Train loss 0.2154424488544464\n",
            "\u001b[34m\u001b[1mwandb\u001b[0m:           AE Train loss 0.0\n",
            "\u001b[34m\u001b[1mwandb\u001b[0m:          Train accuracy 1.0\n",
            "\u001b[34m\u001b[1mwandb\u001b[0m:                   _step 24\n",
            "\u001b[34m\u001b[1mwandb\u001b[0m:                _runtime 6\n",
            "\u001b[34m\u001b[1mwandb\u001b[0m:              _timestamp 1601020933\n",
            "\u001b[34m\u001b[1mwandb\u001b[0m: Run history:\n",
            "\u001b[34m\u001b[1mwandb\u001b[0m:   Classifier Train loss ███▇▇▆▆▅▅▄▄▄▃▃▃▂▂▂▂▂▂▁▁▁▁\n",
            "\u001b[34m\u001b[1mwandb\u001b[0m:           AE Train loss █▆▅▄▃▂▂▂▁▁▁▁▁▁▁▁▁▁▁▁▁▁▁▁▁\n",
            "\u001b[34m\u001b[1mwandb\u001b[0m:          Train accuracy ▁▁▂▆▇████████████████████\n",
            "\u001b[34m\u001b[1mwandb\u001b[0m:                   _step ▁▁▂▂▂▂▃▃▃▄▄▄▅▅▅▅▆▆▆▇▇▇▇██\n",
            "\u001b[34m\u001b[1mwandb\u001b[0m:                _runtime ▁▂▂▂▂▄▄▄▄▄▅▅▅▅▅▇▇▇▇██████\n",
            "\u001b[34m\u001b[1mwandb\u001b[0m:              _timestamp ▁▂▂▂▂▄▄▄▄▄▅▅▅▅▅▇▇▇▇██████\n",
            "\u001b[34m\u001b[1mwandb\u001b[0m: Synced 5 W&B file(s), 1 media file(s), 0 artifact file(s) and 0 other file(s)\n",
            "\u001b[34m\u001b[1mwandb\u001b[0m: \n",
            "\u001b[34m\u001b[1mwandb\u001b[0m: Synced \u001b[33masd-diagnet-site--OHSU-fold-1-rp-2\u001b[0m: \u001b[34mhttps://wandb.ai/pindi-krishna/asd1/runs/fold-1--rp-2\u001b[0m\n",
            "\u001b[34m\u001b[1mwandb\u001b[0m: Tracking run with wandb version 0.10.2\n",
            "\u001b[34m\u001b[1mwandb\u001b[0m: Run data is saved locally in wandb/run-20200925_133214-fold-2--rp-2\n",
            "\u001b[34m\u001b[1mwandb\u001b[0m: Syncing run \u001b[33masd-diagnet-site--OHSU-fold-2-rp-2\u001b[0m\n"
          ],
          "name": "stderr"
        },
        {
          "output_type": "display_data",
          "data": {
            "text/html": [
              "\n",
              "                Logging results to <a href=\"https://wandb.com\" target=\"_blank\">Weights & Biases</a> <a href=\"https://docs.wandb.com/integrations/jupyter.html\" target=\"_blank\">(Documentation)</a>.<br/>\n",
              "                Project page: <a href=\"https://wandb.ai/pindi-krishna/asd1\" target=\"_blank\">https://wandb.ai/pindi-krishna/asd1</a><br/>\n",
              "                Run page: <a href=\"https://wandb.ai/pindi-krishna/asd1/runs/fold-2--rp-2\" target=\"_blank\">https://wandb.ai/pindi-krishna/asd1/runs/fold-2--rp-2</a><br/>\n",
              "            "
            ],
            "text/plain": [
              "<IPython.core.display.HTML object>"
            ]
          },
          "metadata": {
            "tags": []
          }
        },
        {
          "output_type": "stream",
          "text": [
            "\n",
            "Epoch 1/26\n",
            "Classifier Train loss: 0.7110, AE Train loss: 641.0951, Train Acc: 0.4000\n",
            "Epoch 2/26\n",
            "Classifier Train loss: 0.7015, AE Train loss: 431.1020, Train Acc: 0.4000\n",
            "Epoch 3/26\n",
            "Classifier Train loss: 0.6907, AE Train loss: 377.9794, Train Acc: 0.5000\n",
            "Epoch 4/26\n",
            "Classifier Train loss: 0.6638, AE Train loss: 265.0235, Train Acc: 0.7500\n",
            "Epoch 5/26\n",
            "Classifier Train loss: 0.6357, AE Train loss: 173.8286, Train Acc: 0.9000\n",
            "Epoch 6/26\n",
            "Classifier Train loss: 0.6102, AE Train loss: 123.9261, Train Acc: 0.9000\n",
            "Epoch 7/26\n",
            "Classifier Train loss: 0.5693, AE Train loss: 81.1571, Train Acc: 0.9250\n",
            "Epoch 8/26\n",
            "Classifier Train loss: 0.5342, AE Train loss: 54.6391, Train Acc: 0.9750\n",
            "Epoch 9/26\n",
            "Classifier Train loss: 0.5280, AE Train loss: 34.9258, Train Acc: 0.9500\n",
            "Epoch 10/26\n",
            "Classifier Train loss: 0.4880, AE Train loss: 22.1537, Train Acc: 0.9500\n",
            "Epoch 11/26\n",
            "Classifier Train loss: 0.4676, AE Train loss: 14.3239, Train Acc: 0.9750\n",
            "Epoch 12/26\n",
            "Classifier Train loss: 0.4426, AE Train loss: 9.7152, Train Acc: 0.9750\n",
            "Epoch 13/26\n",
            "Classifier Train loss: 0.4161, AE Train loss: 7.1730, Train Acc: 1.0000\n",
            "Epoch 14/26\n",
            "Classifier Train loss: 0.3984, AE Train loss: 4.3630, Train Acc: 1.0000\n",
            "Epoch 15/26\n",
            "Classifier Train loss: 0.3731, AE Train loss: 3.1339, Train Acc: 1.0000\n",
            "Epoch 16/26\n",
            "Classifier Train loss: 0.3575, AE Train loss: 2.2033, Train Acc: 1.0000\n",
            "Epoch 17/26\n",
            "Classifier Train loss: 0.3469, AE Train loss: 1.6815, Train Acc: 1.0000\n",
            "Epoch 18/26\n",
            "Classifier Train loss: 0.3249, AE Train loss: 1.4181, Train Acc: 1.0000\n",
            "Epoch 19/26\n",
            "Classifier Train loss: 0.3088, AE Train loss: 1.1673, Train Acc: 1.0000\n",
            "Epoch 20/26\n",
            "Classifier Train loss: 0.2952, AE Train loss: 0.9766, Train Acc: 1.0000\n",
            "Epoch 21/26\n",
            "Classifier Train loss: 0.2913, AE Train loss: 0.0000, Train Acc: 1.0000\n",
            "Epoch 22/26\n",
            "Classifier Train loss: 0.2814, AE Train loss: 0.0000, Train Acc: 1.0000\n",
            "Epoch 23/26\n",
            "Classifier Train loss: 0.2638, AE Train loss: 0.0000, Train Acc: 1.0000\n",
            "Epoch 24/26\n",
            "Classifier Train loss: 0.2539, AE Train loss: 0.0000, Train Acc: 1.0000\n",
            "Epoch 25/26\n",
            "Classifier Train loss: 0.2457, AE Train loss: 0.0000, Train Acc: 1.0000\n",
            "-----------------------------\n",
            "Fold 2/5\n",
            "{'accuracy': 1.0, 'senstivity': 1.0, 'specificity': 1.0, 'loss': 0.5491}\n",
            "-----------------------------\n"
          ],
          "name": "stdout"
        },
        {
          "output_type": "stream",
          "text": [
            "\u001b[34m\u001b[1mwandb\u001b[0m: Waiting for W&B process to finish, PID 3996\n",
            "\u001b[34m\u001b[1mwandb\u001b[0m: Program ended successfully.\n",
            "\u001b[34m\u001b[1mwandb\u001b[0m: - 0.00MB of 0.00MB uploaded (0.00MB deduped)\r"
          ],
          "name": "stderr"
        },
        {
          "output_type": "stream",
          "text": [
            "\n"
          ],
          "name": "stdout"
        },
        {
          "output_type": "stream",
          "text": [
            "\u001b[34m\u001b[1mwandb\u001b[0m:                                                                                \n",
            "\u001b[34m\u001b[1mwandb\u001b[0m: Find user logs for this run at: wandb/run-20200925_133214-fold-2--rp-2/logs/debug.log\n",
            "\u001b[34m\u001b[1mwandb\u001b[0m: Find internal logs for this run at: wandb/run-20200925_133214-fold-2--rp-2/logs/debug-internal.log\n",
            "\u001b[34m\u001b[1mwandb\u001b[0m: Run summary:\n",
            "\u001b[34m\u001b[1mwandb\u001b[0m:   Classifier Train loss 0.2457130402326584\n",
            "\u001b[34m\u001b[1mwandb\u001b[0m:           AE Train loss 0.0\n",
            "\u001b[34m\u001b[1mwandb\u001b[0m:          Train accuracy 1.0\n",
            "\u001b[34m\u001b[1mwandb\u001b[0m:                   _step 24\n",
            "\u001b[34m\u001b[1mwandb\u001b[0m:                _runtime 6\n",
            "\u001b[34m\u001b[1mwandb\u001b[0m:              _timestamp 1601020946\n",
            "\u001b[34m\u001b[1mwandb\u001b[0m: Run history:\n",
            "\u001b[34m\u001b[1mwandb\u001b[0m:   Classifier Train loss ███▇▇▆▆▅▅▅▄▄▄▃▃▃▃▂▂▂▂▂▁▁▁\n",
            "\u001b[34m\u001b[1mwandb\u001b[0m:           AE Train loss █▆▅▄▃▂▂▂▁▁▁▁▁▁▁▁▁▁▁▁▁▁▁▁▁\n",
            "\u001b[34m\u001b[1mwandb\u001b[0m:          Train accuracy ▁▁▂▅▇▇▇█▇▇███████████████\n",
            "\u001b[34m\u001b[1mwandb\u001b[0m:                   _step ▁▁▂▂▂▂▃▃▃▄▄▄▅▅▅▅▆▆▆▇▇▇▇██\n",
            "\u001b[34m\u001b[1mwandb\u001b[0m:                _runtime ▁▂▂▂▂▂▄▄▄▄▅▅▅▅▅▇▇▇▇▇█████\n",
            "\u001b[34m\u001b[1mwandb\u001b[0m:              _timestamp ▁▂▂▂▂▂▄▄▄▄▅▅▅▅▅▇▇▇▇▇█████\n",
            "\u001b[34m\u001b[1mwandb\u001b[0m: Synced 5 W&B file(s), 1 media file(s), 0 artifact file(s) and 0 other file(s)\n",
            "\u001b[34m\u001b[1mwandb\u001b[0m: \n",
            "\u001b[34m\u001b[1mwandb\u001b[0m: Synced \u001b[33masd-diagnet-site--OHSU-fold-2-rp-2\u001b[0m: \u001b[34mhttps://wandb.ai/pindi-krishna/asd1/runs/fold-2--rp-2\u001b[0m\n",
            "\u001b[34m\u001b[1mwandb\u001b[0m: Tracking run with wandb version 0.10.2\n",
            "\u001b[34m\u001b[1mwandb\u001b[0m: Run data is saved locally in wandb/run-20200925_133227-fold-3--rp-2\n",
            "\u001b[34m\u001b[1mwandb\u001b[0m: Syncing run \u001b[33masd-diagnet-site--OHSU-fold-3-rp-2\u001b[0m\n"
          ],
          "name": "stderr"
        },
        {
          "output_type": "display_data",
          "data": {
            "text/html": [
              "\n",
              "                Logging results to <a href=\"https://wandb.com\" target=\"_blank\">Weights & Biases</a> <a href=\"https://docs.wandb.com/integrations/jupyter.html\" target=\"_blank\">(Documentation)</a>.<br/>\n",
              "                Project page: <a href=\"https://wandb.ai/pindi-krishna/asd1\" target=\"_blank\">https://wandb.ai/pindi-krishna/asd1</a><br/>\n",
              "                Run page: <a href=\"https://wandb.ai/pindi-krishna/asd1/runs/fold-3--rp-2\" target=\"_blank\">https://wandb.ai/pindi-krishna/asd1/runs/fold-3--rp-2</a><br/>\n",
              "            "
            ],
            "text/plain": [
              "<IPython.core.display.HTML object>"
            ]
          },
          "metadata": {
            "tags": []
          }
        },
        {
          "output_type": "stream",
          "text": [
            "\n",
            "Epoch 1/26\n",
            "Classifier Train loss: 0.6907, AE Train loss: 646.4810, Train Acc: 0.5500\n",
            "Epoch 2/26\n",
            "Classifier Train loss: 0.6850, AE Train loss: 431.6799, Train Acc: 0.5750\n",
            "Epoch 3/26\n",
            "Classifier Train loss: 0.6628, AE Train loss: 375.8401, Train Acc: 0.7000\n",
            "Epoch 4/26\n",
            "Classifier Train loss: 0.6403, AE Train loss: 254.7606, Train Acc: 0.8250\n",
            "Epoch 5/26\n",
            "Classifier Train loss: 0.6068, AE Train loss: 173.0053, Train Acc: 0.9750\n",
            "Epoch 6/26\n",
            "Classifier Train loss: 0.5623, AE Train loss: 118.0752, Train Acc: 1.0000\n",
            "Epoch 7/26\n",
            "Classifier Train loss: 0.5327, AE Train loss: 73.8443, Train Acc: 1.0000\n",
            "Epoch 8/26\n",
            "Classifier Train loss: 0.5004, AE Train loss: 50.7908, Train Acc: 1.0000\n",
            "Epoch 9/26\n",
            "Classifier Train loss: 0.4731, AE Train loss: 33.1642, Train Acc: 1.0000\n",
            "Epoch 10/26\n",
            "Classifier Train loss: 0.4515, AE Train loss: 21.6222, Train Acc: 1.0000\n",
            "Epoch 11/26\n",
            "Classifier Train loss: 0.4236, AE Train loss: 14.0971, Train Acc: 1.0000\n",
            "Epoch 12/26\n",
            "Classifier Train loss: 0.4012, AE Train loss: 9.6125, Train Acc: 1.0000\n",
            "Epoch 13/26\n",
            "Classifier Train loss: 0.3641, AE Train loss: 6.4827, Train Acc: 1.0000\n",
            "Epoch 14/26\n",
            "Classifier Train loss: 0.3510, AE Train loss: 4.1098, Train Acc: 1.0000\n",
            "Epoch 15/26\n",
            "Classifier Train loss: 0.3313, AE Train loss: 2.7562, Train Acc: 1.0000\n",
            "Epoch 16/26\n",
            "Classifier Train loss: 0.3213, AE Train loss: 2.1361, Train Acc: 1.0000\n",
            "Epoch 17/26\n",
            "Classifier Train loss: 0.3015, AE Train loss: 1.5888, Train Acc: 1.0000\n",
            "Epoch 18/26\n",
            "Classifier Train loss: 0.2875, AE Train loss: 1.2282, Train Acc: 1.0000\n",
            "Epoch 19/26\n",
            "Classifier Train loss: 0.2733, AE Train loss: 1.0753, Train Acc: 1.0000\n",
            "Epoch 20/26\n",
            "Classifier Train loss: 0.2637, AE Train loss: 0.9590, Train Acc: 1.0000\n",
            "Epoch 21/26\n",
            "Classifier Train loss: 0.2519, AE Train loss: 0.0000, Train Acc: 1.0000\n",
            "Epoch 22/26\n",
            "Classifier Train loss: 0.2384, AE Train loss: 0.0000, Train Acc: 1.0000\n",
            "Epoch 23/26\n",
            "Classifier Train loss: 0.2242, AE Train loss: 0.0000, Train Acc: 1.0000\n",
            "Epoch 24/26\n",
            "Classifier Train loss: 0.2219, AE Train loss: 0.0000, Train Acc: 1.0000\n",
            "Epoch 25/26\n",
            "Classifier Train loss: 0.2135, AE Train loss: 0.0000, Train Acc: 1.0000\n",
            "-----------------------------\n",
            "Fold 3/5\n",
            "{'accuracy': 0.6, 'senstivity': 0.5, 'specificity': 0.6667, 'loss': 0.6523}\n",
            "-----------------------------\n"
          ],
          "name": "stdout"
        },
        {
          "output_type": "stream",
          "text": [
            "\u001b[34m\u001b[1mwandb\u001b[0m: Waiting for W&B process to finish, PID 4135\n",
            "\u001b[34m\u001b[1mwandb\u001b[0m: Program ended successfully.\n",
            "\u001b[34m\u001b[1mwandb\u001b[0m: - 0.00MB of 0.00MB uploaded (0.00MB deduped)\r"
          ],
          "name": "stderr"
        },
        {
          "output_type": "stream",
          "text": [
            "\n"
          ],
          "name": "stdout"
        },
        {
          "output_type": "stream",
          "text": [
            "\u001b[34m\u001b[1mwandb\u001b[0m:                                                                                \n",
            "\u001b[34m\u001b[1mwandb\u001b[0m: Find user logs for this run at: wandb/run-20200925_133227-fold-3--rp-2/logs/debug.log\n",
            "\u001b[34m\u001b[1mwandb\u001b[0m: Find internal logs for this run at: wandb/run-20200925_133227-fold-3--rp-2/logs/debug-internal.log\n",
            "\u001b[34m\u001b[1mwandb\u001b[0m: Run summary:\n",
            "\u001b[34m\u001b[1mwandb\u001b[0m:   Classifier Train loss 0.21351885795593262\n",
            "\u001b[34m\u001b[1mwandb\u001b[0m:           AE Train loss 0.0\n",
            "\u001b[34m\u001b[1mwandb\u001b[0m:          Train accuracy 1.0\n",
            "\u001b[34m\u001b[1mwandb\u001b[0m:                   _step 24\n",
            "\u001b[34m\u001b[1mwandb\u001b[0m:                _runtime 6\n",
            "\u001b[34m\u001b[1mwandb\u001b[0m:              _timestamp 1601020959\n",
            "\u001b[34m\u001b[1mwandb\u001b[0m: Run history:\n",
            "\u001b[34m\u001b[1mwandb\u001b[0m:   Classifier Train loss ███▇▇▆▆▅▅▄▄▄▃▃▃▃▂▂▂▂▂▁▁▁▁\n",
            "\u001b[34m\u001b[1mwandb\u001b[0m:           AE Train loss █▆▅▄▃▂▂▂▁▁▁▁▁▁▁▁▁▁▁▁▁▁▁▁▁\n",
            "\u001b[34m\u001b[1mwandb\u001b[0m:          Train accuracy ▁▁▃▅█████████████████████\n",
            "\u001b[34m\u001b[1mwandb\u001b[0m:                   _step ▁▁▂▂▂▂▃▃▃▄▄▄▅▅▅▅▆▆▆▇▇▇▇██\n",
            "\u001b[34m\u001b[1mwandb\u001b[0m:                _runtime ▁▁▂▂▂▂▄▄▄▄▄▅▅▅▅▅▇▇▇▇█████\n",
            "\u001b[34m\u001b[1mwandb\u001b[0m:              _timestamp ▁▁▂▂▂▂▄▄▄▄▄▅▅▅▅▅▇▇▇▇█████\n",
            "\u001b[34m\u001b[1mwandb\u001b[0m: Synced 5 W&B file(s), 1 media file(s), 0 artifact file(s) and 0 other file(s)\n",
            "\u001b[34m\u001b[1mwandb\u001b[0m: \n",
            "\u001b[34m\u001b[1mwandb\u001b[0m: Synced \u001b[33masd-diagnet-site--OHSU-fold-3-rp-2\u001b[0m: \u001b[34mhttps://wandb.ai/pindi-krishna/asd1/runs/fold-3--rp-2\u001b[0m\n",
            "\u001b[34m\u001b[1mwandb\u001b[0m: Tracking run with wandb version 0.10.2\n",
            "\u001b[34m\u001b[1mwandb\u001b[0m: Run data is saved locally in wandb/run-20200925_133240-fold-4--rp-2\n",
            "\u001b[34m\u001b[1mwandb\u001b[0m: Syncing run \u001b[33masd-diagnet-site--OHSU-fold-4-rp-2\u001b[0m\n"
          ],
          "name": "stderr"
        },
        {
          "output_type": "display_data",
          "data": {
            "text/html": [
              "\n",
              "                Logging results to <a href=\"https://wandb.com\" target=\"_blank\">Weights & Biases</a> <a href=\"https://docs.wandb.com/integrations/jupyter.html\" target=\"_blank\">(Documentation)</a>.<br/>\n",
              "                Project page: <a href=\"https://wandb.ai/pindi-krishna/asd1\" target=\"_blank\">https://wandb.ai/pindi-krishna/asd1</a><br/>\n",
              "                Run page: <a href=\"https://wandb.ai/pindi-krishna/asd1/runs/fold-4--rp-2\" target=\"_blank\">https://wandb.ai/pindi-krishna/asd1/runs/fold-4--rp-2</a><br/>\n",
              "            "
            ],
            "text/plain": [
              "<IPython.core.display.HTML object>"
            ]
          },
          "metadata": {
            "tags": []
          }
        },
        {
          "output_type": "stream",
          "text": [
            "\n",
            "Epoch 1/26\n",
            "Classifier Train loss: 0.6789, AE Train loss: 647.4289, Train Acc: 0.4500\n",
            "Epoch 2/26\n",
            "Classifier Train loss: 0.6708, AE Train loss: 434.0835, Train Acc: 0.6000\n",
            "Epoch 3/26\n",
            "Classifier Train loss: 0.6504, AE Train loss: 387.7741, Train Acc: 0.7750\n",
            "Epoch 4/26\n",
            "Classifier Train loss: 0.6206, AE Train loss: 261.6013, Train Acc: 0.9000\n",
            "Epoch 5/26\n",
            "Classifier Train loss: 0.5895, AE Train loss: 178.6221, Train Acc: 0.9000\n",
            "Epoch 6/26\n",
            "Classifier Train loss: 0.5464, AE Train loss: 130.0756, Train Acc: 0.9500\n",
            "Epoch 7/26\n",
            "Classifier Train loss: 0.5175, AE Train loss: 81.3757, Train Acc: 1.0000\n",
            "Epoch 8/26\n",
            "Classifier Train loss: 0.4858, AE Train loss: 55.9490, Train Acc: 1.0000\n",
            "Epoch 9/26\n",
            "Classifier Train loss: 0.4725, AE Train loss: 37.6683, Train Acc: 1.0000\n",
            "Epoch 10/26\n",
            "Classifier Train loss: 0.4406, AE Train loss: 24.6187, Train Acc: 1.0000\n",
            "Epoch 11/26\n",
            "Classifier Train loss: 0.4177, AE Train loss: 16.1353, Train Acc: 1.0000\n",
            "Epoch 12/26\n",
            "Classifier Train loss: 0.3977, AE Train loss: 9.8589, Train Acc: 1.0000\n",
            "Epoch 13/26\n",
            "Classifier Train loss: 0.3755, AE Train loss: 6.9962, Train Acc: 1.0000\n",
            "Epoch 14/26\n",
            "Classifier Train loss: 0.3529, AE Train loss: 5.5284, Train Acc: 1.0000\n",
            "Epoch 15/26\n",
            "Classifier Train loss: 0.3395, AE Train loss: 3.8609, Train Acc: 1.0000\n",
            "Epoch 16/26\n",
            "Classifier Train loss: 0.3189, AE Train loss: 2.5130, Train Acc: 1.0000\n",
            "Epoch 17/26\n",
            "Classifier Train loss: 0.3107, AE Train loss: 2.1962, Train Acc: 1.0000\n",
            "Epoch 18/26\n",
            "Classifier Train loss: 0.2928, AE Train loss: 1.5936, Train Acc: 1.0000\n",
            "Epoch 19/26\n",
            "Classifier Train loss: 0.2806, AE Train loss: 1.3108, Train Acc: 1.0000\n",
            "Epoch 20/26\n",
            "Classifier Train loss: 0.2696, AE Train loss: 1.1381, Train Acc: 1.0000\n",
            "Epoch 21/26\n",
            "Classifier Train loss: 0.2623, AE Train loss: 0.0000, Train Acc: 1.0000\n",
            "Epoch 22/26\n",
            "Classifier Train loss: 0.2501, AE Train loss: 0.0000, Train Acc: 1.0000\n",
            "Epoch 23/26\n",
            "Classifier Train loss: 0.2457, AE Train loss: 0.0000, Train Acc: 1.0000\n",
            "Epoch 24/26\n",
            "Classifier Train loss: 0.2338, AE Train loss: 0.0000, Train Acc: 1.0000\n",
            "Epoch 25/26\n",
            "Classifier Train loss: 0.2241, AE Train loss: 0.0000, Train Acc: 1.0000\n",
            "-----------------------------\n",
            "Fold 4/5\n",
            "{'accuracy': 0.8, 'senstivity': 0.5, 'specificity': 1.0, 'loss': 0.5555}\n",
            "-----------------------------\n"
          ],
          "name": "stdout"
        },
        {
          "output_type": "stream",
          "text": [
            "\u001b[34m\u001b[1mwandb\u001b[0m: Waiting for W&B process to finish, PID 4265\n",
            "\u001b[34m\u001b[1mwandb\u001b[0m: Program ended successfully.\n",
            "\u001b[34m\u001b[1mwandb\u001b[0m: - 0.00MB of 0.00MB uploaded (0.00MB deduped)\r"
          ],
          "name": "stderr"
        },
        {
          "output_type": "stream",
          "text": [
            "\n"
          ],
          "name": "stdout"
        },
        {
          "output_type": "stream",
          "text": [
            "\u001b[34m\u001b[1mwandb\u001b[0m:                                                                                \n",
            "\u001b[34m\u001b[1mwandb\u001b[0m: Find user logs for this run at: wandb/run-20200925_133240-fold-4--rp-2/logs/debug.log\n",
            "\u001b[34m\u001b[1mwandb\u001b[0m: Find internal logs for this run at: wandb/run-20200925_133240-fold-4--rp-2/logs/debug-internal.log\n",
            "\u001b[34m\u001b[1mwandb\u001b[0m: Run summary:\n",
            "\u001b[34m\u001b[1mwandb\u001b[0m:   Classifier Train loss 0.22409796714782715\n",
            "\u001b[34m\u001b[1mwandb\u001b[0m:           AE Train loss 0.0\n",
            "\u001b[34m\u001b[1mwandb\u001b[0m:          Train accuracy 1.0\n",
            "\u001b[34m\u001b[1mwandb\u001b[0m:                   _step 24\n",
            "\u001b[34m\u001b[1mwandb\u001b[0m:                _runtime 7\n",
            "\u001b[34m\u001b[1mwandb\u001b[0m:              _timestamp 1601020973\n",
            "\u001b[34m\u001b[1mwandb\u001b[0m: Run history:\n",
            "\u001b[34m\u001b[1mwandb\u001b[0m:   Classifier Train loss ███▇▇▆▆▅▅▄▄▄▃▃▃▂▂▂▂▂▂▁▁▁▁\n",
            "\u001b[34m\u001b[1mwandb\u001b[0m:           AE Train loss █▆▅▄▃▂▂▂▁▁▁▁▁▁▁▁▁▁▁▁▁▁▁▁▁\n",
            "\u001b[34m\u001b[1mwandb\u001b[0m:          Train accuracy ▁▃▅▇▇▇███████████████████\n",
            "\u001b[34m\u001b[1mwandb\u001b[0m:                   _step ▁▁▂▂▂▂▃▃▃▄▄▄▅▅▅▅▆▆▆▇▇▇▇██\n",
            "\u001b[34m\u001b[1mwandb\u001b[0m:                _runtime ▁▂▂▂▂▃▃▃▃▃▅▅▅▅▆▆▆▆▆▇▇▇▇▇█\n",
            "\u001b[34m\u001b[1mwandb\u001b[0m:              _timestamp ▁▂▂▂▂▃▃▃▃▃▅▅▅▅▆▆▆▆▆▇▇▇▇▇█\n",
            "\u001b[34m\u001b[1mwandb\u001b[0m: Synced 5 W&B file(s), 1 media file(s), 0 artifact file(s) and 0 other file(s)\n",
            "\u001b[34m\u001b[1mwandb\u001b[0m: \n",
            "\u001b[34m\u001b[1mwandb\u001b[0m: Synced \u001b[33masd-diagnet-site--OHSU-fold-4-rp-2\u001b[0m: \u001b[34mhttps://wandb.ai/pindi-krishna/asd1/runs/fold-4--rp-2\u001b[0m\n",
            "\u001b[34m\u001b[1mwandb\u001b[0m: Tracking run with wandb version 0.10.2\n",
            "\u001b[34m\u001b[1mwandb\u001b[0m: Run data is saved locally in wandb/run-20200925_133253-fold-5--rp-2\n",
            "\u001b[34m\u001b[1mwandb\u001b[0m: Syncing run \u001b[33masd-diagnet-site--OHSU-fold-5-rp-2\u001b[0m\n"
          ],
          "name": "stderr"
        },
        {
          "output_type": "display_data",
          "data": {
            "text/html": [
              "\n",
              "                Logging results to <a href=\"https://wandb.com\" target=\"_blank\">Weights & Biases</a> <a href=\"https://docs.wandb.com/integrations/jupyter.html\" target=\"_blank\">(Documentation)</a>.<br/>\n",
              "                Project page: <a href=\"https://wandb.ai/pindi-krishna/asd1\" target=\"_blank\">https://wandb.ai/pindi-krishna/asd1</a><br/>\n",
              "                Run page: <a href=\"https://wandb.ai/pindi-krishna/asd1/runs/fold-5--rp-2\" target=\"_blank\">https://wandb.ai/pindi-krishna/asd1/runs/fold-5--rp-2</a><br/>\n",
              "            "
            ],
            "text/plain": [
              "<IPython.core.display.HTML object>"
            ]
          },
          "metadata": {
            "tags": []
          }
        },
        {
          "output_type": "stream",
          "text": [
            "\n",
            "Epoch 1/26\n",
            "Classifier Train loss: 0.6968, AE Train loss: 639.1667, Train Acc: 0.6000\n",
            "Epoch 2/26\n",
            "Classifier Train loss: 0.6875, AE Train loss: 443.8496, Train Acc: 0.6500\n",
            "Epoch 3/26\n",
            "Classifier Train loss: 0.6510, AE Train loss: 391.1742, Train Acc: 0.6000\n",
            "Epoch 4/26\n",
            "Classifier Train loss: 0.6206, AE Train loss: 256.7818, Train Acc: 0.5500\n",
            "Epoch 5/26\n",
            "Classifier Train loss: 0.5771, AE Train loss: 179.9736, Train Acc: 0.6750\n",
            "Epoch 6/26\n",
            "Classifier Train loss: 0.5326, AE Train loss: 119.9725, Train Acc: 0.8500\n",
            "Epoch 7/26\n",
            "Classifier Train loss: 0.5207, AE Train loss: 82.2343, Train Acc: 0.9000\n",
            "Epoch 8/26\n",
            "Classifier Train loss: 0.4895, AE Train loss: 53.2690, Train Acc: 0.9500\n",
            "Epoch 9/26\n",
            "Classifier Train loss: 0.4638, AE Train loss: 35.1413, Train Acc: 0.9750\n",
            "Epoch 10/26\n",
            "Classifier Train loss: 0.4413, AE Train loss: 23.1502, Train Acc: 0.9750\n",
            "Epoch 11/26\n",
            "Classifier Train loss: 0.4214, AE Train loss: 16.7047, Train Acc: 1.0000\n",
            "Epoch 12/26\n",
            "Classifier Train loss: 0.3873, AE Train loss: 10.5827, Train Acc: 1.0000\n",
            "Epoch 13/26\n",
            "Classifier Train loss: 0.3746, AE Train loss: 6.8910, Train Acc: 1.0000\n",
            "Epoch 14/26\n",
            "Classifier Train loss: 0.3404, AE Train loss: 4.6068, Train Acc: 1.0000\n",
            "Epoch 15/26\n",
            "Classifier Train loss: 0.3268, AE Train loss: 3.4260, Train Acc: 1.0000\n",
            "Epoch 16/26\n",
            "Classifier Train loss: 0.3114, AE Train loss: 2.3993, Train Acc: 1.0000\n",
            "Epoch 17/26\n",
            "Classifier Train loss: 0.3023, AE Train loss: 1.8230, Train Acc: 1.0000\n",
            "Epoch 18/26\n",
            "Classifier Train loss: 0.2941, AE Train loss: 1.2963, Train Acc: 1.0000\n",
            "Epoch 19/26\n",
            "Classifier Train loss: 0.2787, AE Train loss: 1.2189, Train Acc: 1.0000\n",
            "Epoch 20/26\n",
            "Classifier Train loss: 0.2698, AE Train loss: 1.0712, Train Acc: 1.0000\n",
            "Epoch 21/26\n",
            "Classifier Train loss: 0.2566, AE Train loss: 0.0000, Train Acc: 1.0000\n",
            "Epoch 22/26\n",
            "Classifier Train loss: 0.2407, AE Train loss: 0.0000, Train Acc: 1.0000\n",
            "Epoch 23/26\n",
            "Classifier Train loss: 0.2322, AE Train loss: 0.0000, Train Acc: 1.0000\n",
            "Epoch 24/26\n",
            "Classifier Train loss: 0.2269, AE Train loss: 0.0000, Train Acc: 1.0000\n",
            "Epoch 25/26\n",
            "Classifier Train loss: 0.2177, AE Train loss: 0.0000, Train Acc: 1.0000\n",
            "-----------------------------\n",
            "Fold 5/5\n",
            "{'accuracy': 0.4, 'senstivity': 0.0, 'specificity': 1.0, 'loss': 0.6888}\n",
            "-----------------------------\n",
            "*********************************\n",
            "Average Value after 5 Folds and repeats  2------->\n",
            "Accuracy: 0.7267, Senstivity: 0.6, Specificity: 0.8667, Loss: 0.6150000095367432\n",
            "*********************************\n",
            "Average Value after  2  Repeat : \n",
            "Accuracy: 0.7867, Senstivity: 0.7167, Specificity: 0.8667, Loss: 0.5906000137329102\n",
            "152.89449787139893\n"
          ],
          "name": "stdout"
        }
      ]
    },
    {
      "cell_type": "code",
      "metadata": {
        "id": "yNCsXsEGC5gx"
      },
      "source": [
        "\n",
        "# if p_Method == \"ASD-DiagNet\" and p_mode == \"percenter\":\n",
        "#     num_corr = len(all_corr[flist[0]][0])\n",
        "\n",
        "#     flist = os.listdir(data_main_path)\n",
        "\n",
        "#     for f in range(len(flist)):\n",
        "#         flist[f] = get_key(flist[f])\n",
        "    \n",
        "#     centers_dict = {}\n",
        "#     for f in flist:\n",
        "#         key = f.split('_')[0]\n",
        "\n",
        "#         if key not in centers_dict:\n",
        "#             centers_dict[key] = []\n",
        "#         centers_dict[key].append(f)\n",
        "\n",
        "    \n",
        "\n",
        "#     flist = np.array(centers_dict[p_center])\n",
        "    \n",
        "#     start =time.time()\n",
        "#     #flist = np.array(sorted(os.listdir(data_main_path)))\n",
        "#     batch_size = 8\n",
        "#     learning_rate_ae, learning_rate_clf = 0.0001, 0.0001\n",
        "#     num_epochs = 25\n",
        "\n",
        "#     p_bernoulli = None\n",
        "#     augmentation = p_augmentation\n",
        "#     use_dropout = False\n",
        "\n",
        "#     aug_factor = 2\n",
        "#     num_neighbs = 5\n",
        "#     lim4sim = 2\n",
        "#     n_lat = int(num_corr/4)\n",
        "\n",
        "\n",
        "#     print('p_bernoulli: ', p_bernoulli)\n",
        "#     print('augmentaiton: ', augmentation, 'aug_factor: ', aug_factor, \n",
        "#           'num_neighbs: ', num_neighbs, 'lim4sim: ', lim4sim)\n",
        "#     print('use_dropout: ', use_dropout, '\\n')\n",
        "\n",
        "\n",
        "#     sim_function = functools.partial(cal_similarity, lim=lim4sim)\n",
        "#     all_rp_res=[]\n",
        "#     y_arr = np.array([get_label(f) for f in flist])\n",
        "\n",
        "#     kk=0 \n",
        "#     crossval_res_kol_kol=[]\n",
        "#     for rp in range(10):\n",
        "#         print(\"========================\")\n",
        "#         crossval_res_kol = []\n",
        "#         start= time.time()\n",
        "#         kf = StratifiedKFold(n_splits=p_fold)\n",
        "#         #np.random.shuffle(flist)\n",
        "#         y_arr = np.array([get_label(f) for f in flist])\n",
        "#         for kk,(train_index, test_index) in enumerate(kf.split(flist, y_arr)):\n",
        "        \n",
        "#             train_samples, test_samples = flist[train_index], flist[test_index]\n",
        "\n",
        "#             verbose = (True if (kk == 0) else False)\n",
        "\n",
        "#             regions_inds = get_regs(train_samples,int(num_corr/4))\n",
        "#             num_inpp = len(regions_inds)\n",
        "#             n_lat = int(num_inpp/2)\n",
        "#             num_inpp = len(regions_inds)\n",
        "#             train_loader=get_loader(data=all_corr, samples_list=train_samples, \n",
        "#                                     batch_size=batch_size, mode='train',\n",
        "#                                     augmentation=augmentation, aug_factor=aug_factor, \n",
        "#                                     num_neighbs=num_neighbs, eig_data=eig_data, similarity_fn=sim_function, \n",
        "#                                     verbose=verbose,regions=regions_inds)\n",
        "\n",
        "#             test_loader=get_loader(data=all_corr, samples_list=test_samples, \n",
        "#                                    batch_size=batch_size, mode='test', augmentation=False, \n",
        "#                                    verbose=verbose,regions=regions_inds)\n",
        "\n",
        "#             model = MTAutoEncoder(tied=True, num_inputs=num_inpp, num_latent=n_lat, use_dropout=use_dropout)\n",
        "#             model.to(device)\n",
        "#             criterion_ae = nn.MSELoss(reduction='sum')\n",
        "#             criterion_clf = nn.BCEWithLogitsLoss()\n",
        "#             optimizer = optim.SGD([{'params': model.fc_encoder.parameters(), 'lr': learning_rate_ae},\n",
        "#                                    {'params': model.classifier.parameters(), 'lr': learning_rate_clf}],\n",
        "#                                   momentum=0.9)\n",
        "\n",
        "#             for epoch in range(1, num_epochs+1):\n",
        "#                 if epoch <= 20:\n",
        "#                     train_losses = train(model, epoch, train_loader, p_bernoulli, mode='both')\n",
        "#                 else:\n",
        "#                     train_losses = train(model, epoch, train_loader, p_bernoulli, mode='clf')\n",
        "\n",
        "\n",
        "#             res_mlp = test(model, criterion_ae, test_loader, eval_classifier=True)\n",
        "#             #print(\"fold\",kk+1,\":\",test(model, criterion_ae, test_loader, eval_classifier=True))\n",
        "#             crossval_res_kol.append(res_mlp)\n",
        "#         print(\"Result of repeat \",rp,\":\")\n",
        "#         print(np.mean(np.array(crossval_res_kol),axis = 0))\n",
        "#         all_rp_res.append(np.mean(np.array(crossval_res_kol),axis = 0))\n",
        "#         finish= time.time()\n",
        "\n",
        "#         print(\"Running time:\",finish-start)\n",
        "#     print(\"Avergae result of 10 repeats: \",np.mean(np.array(all_rp_res),axis = 0))"
      ],
      "execution_count": null,
      "outputs": []
    },
    {
      "cell_type": "code",
      "metadata": {
        "id": "X5LTqKIoC5g2"
      },
      "source": [
        "# if p_Method != \"ASD-DiagNet\" and p_mode == \"whole\":\n",
        "    \n",
        "#     clf = SVC(gamma = 'auto') if  p_Method == 'SVM' else RandomForestClassifier(n_estimators=100)\n",
        "#     overall_result = []\n",
        "#     for rp in range(10):\n",
        "#         kf = StratifiedKFold(n_splits=p_fold, random_state=1, shuffle=True)\n",
        "#         np.random.shuffle(flist)\n",
        "#         y_arr = np.array([get_label(f) for f in flist])\n",
        "#         res = []\n",
        "#         for kk,(train_index, test_index) in enumerate(kf.split(flist, y_arr)):\n",
        "#             train_samples, test_samples = np.array(flist)[train_index], np.array(flist)[test_index]\n",
        "#             train_data = []\n",
        "#             train_labels = []\n",
        "#             test_data = []\n",
        "#             test_labels = []\n",
        "\n",
        "#             for i in train_samples:\n",
        "#                 train_data.append(all_corr[i][0])\n",
        "#                 train_labels.append(all_corr[i][1])\n",
        "\n",
        "#             for i in test_samples:\n",
        "#                 test_data.append(all_corr[i][0])\n",
        "#                 test_labels.append(all_corr[i][1])\n",
        "\n",
        "            \n",
        "#             clf.fit(train_data,train_labels)\n",
        "#             pr = clf.predict(test_data)\n",
        "#             res.append(confusion(test_labels,pr))\n",
        "        \n",
        "#         print(\"repeat: \",rp,np.mean(res, axis=0).tolist())\n",
        "#         overall_result.append(np.mean(res, axis=0).tolist())   \n",
        "#     print(\"---------------Result of repeating 10 times-------------------\")\n",
        "#     print(np.mean(np.array(overall_result), axis=0).tolist())"
      ],
      "execution_count": null,
      "outputs": []
    },
    {
      "cell_type": "code",
      "metadata": {
        "id": "eRR89TvUC5g6"
      },
      "source": [
        "# random.seed(19)\n",
        "# np.random.seed(19)\n",
        "# if p_Method != \"ASD-DiagNet\" and p_mode == \"percenter\":\n",
        "    \n",
        "#     clf = SVC(gamma = 'auto') if  p_Method == 'SVM' else RandomForestClassifier(n_estimators=100)\n",
        "#     overall_result = []\n",
        "#     for rp in range(10):\n",
        "#         kf = StratifiedKFold(n_splits=p_fold, random_state=1, shuffle=True)\n",
        "#         np.random.shuffle(flist)\n",
        "#         y_arr = np.array([get_label(f) for f in flist])\n",
        "#         res = []\n",
        "#         for kk,(train_index, test_index) in enumerate(kf.split(flist, y_arr)):\n",
        "#             train_samples, test_samples = np.array(flist)[train_index], np.array(flist)[test_index]\n",
        "#             train_data = []\n",
        "#             train_labels = []\n",
        "#             test_data = []\n",
        "#             test_labels = []\n",
        "\n",
        "#             for i in train_samples:\n",
        "#                 train_data.append(all_corr[i][0])\n",
        "#                 train_labels.append(all_corr[i][1])\n",
        "\n",
        "#             for i in test_samples:\n",
        "#                 test_data.append(all_corr[i][0])\n",
        "#                 test_labels.append(all_corr[i][1])\n",
        "\n",
        "#             clf.fit(train_data,train_labels)\n",
        "#             pr = clf.predict(test_data)\n",
        "#             res.append(confusion(test_labels,pr))\n",
        "        \n",
        "#         print(\"repeat: \",rp,np.mean(res, axis=0).tolist())\n",
        "#         overall_result.append(np.mean(res, axis=0).tolist())   \n",
        "#     print(\"---------------Result of repeating 10 times for: \",p_center,\"-------------------\")\n",
        "#     print(np.mean(np.array(overall_result), axis=0).tolist())"
      ],
      "execution_count": null,
      "outputs": []
    },
    {
      "cell_type": "code",
      "metadata": {
        "id": "UTTu1Zd3C5g9"
      },
      "source": [
        ""
      ],
      "execution_count": null,
      "outputs": []
    },
    {
      "cell_type": "code",
      "metadata": {
        "id": "thVZeKFIC5g_"
      },
      "source": [
        ""
      ],
      "execution_count": null,
      "outputs": []
    },
    {
      "cell_type": "code",
      "metadata": {
        "id": "a3FP02t0C5hC"
      },
      "source": [
        ""
      ],
      "execution_count": null,
      "outputs": []
    }
  ]
}